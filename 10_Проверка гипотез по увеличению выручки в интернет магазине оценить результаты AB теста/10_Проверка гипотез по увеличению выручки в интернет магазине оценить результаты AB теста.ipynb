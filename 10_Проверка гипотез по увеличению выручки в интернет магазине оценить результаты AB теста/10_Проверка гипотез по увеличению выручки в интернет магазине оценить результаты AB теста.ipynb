{
 "cells": [
  {
   "cell_type": "markdown",
   "metadata": {},
   "source": [
    "# A/B-тест и приоритизация гипотез"
   ]
  },
  {
   "cell_type": "markdown",
   "metadata": {},
   "source": [
    "# Описание данных\n",
    "## /datasets/hypothesis.csv:\n",
    "- Hypothesis - краткое описание гипотезы;\n",
    "- Reach - охват пользователей по 10-балльной шкале;\n",
    "- Impact - влияние на пользователей по 10-балльной шкале;\n",
    "- Confidence - уверенность в гипотезе по 10-балльной шкале;\n",
    "- Efforts - затраты ресурсов на проверку гипотезы по 10-балльной шкале. Чем больше значение Efforts, тем дороже проверка гипотезы.\n",
    "## /datasets/orders.csv:\n",
    "- transactionId - идентификатор заказа;\n",
    "- visitorId - идентификатор пользователя, совершившего заказ;\n",
    "- date - дата, когда был совершён заказ;\n",
    "- revenue - выручка заказа;\n",
    "- group - группа A/B-теста, в которую попал заказ.\n",
    "## /datasets/visitors.csv:\n",
    "- date - дата;\n",
    "- group - группа A/B-теста;\n",
    "- visitors - количество пользователей в указанную дату в указанной группе A/B-теста."
   ]
  },
  {
   "cell_type": "markdown",
   "metadata": {},
   "source": [
    "# Цель работы\n",
    "Приоритизировать гипотезы, запустить A/B-тест и проанализировать результаты. "
   ]
  },
  {
   "cell_type": "markdown",
   "metadata": {},
   "source": [
    "# План\n",
    "- Шаг 1. Загрузка данных\n",
    "- Шаг 2. Предобработка данных\n",
    "- Шаг 3. Приоритизация гипотез\n",
    "- Шаг 4. Анализ A/B-теста"
   ]
  },
  {
   "cell_type": "markdown",
   "metadata": {},
   "source": [
    "# Шаг 1. Загрузка данных"
   ]
  },
  {
   "cell_type": "code",
   "execution_count": 1,
   "metadata": {},
   "outputs": [],
   "source": [
    "import pandas as pd\n",
    "import numpy as np\n",
    "from matplotlib import pyplot as plt\n",
    "from scipy import stats as st\n",
    "import datetime as dt"
   ]
  },
  {
   "cell_type": "code",
   "execution_count": 2,
   "metadata": {},
   "outputs": [],
   "source": [
    "# Загружаем данные\n",
    "hypothesis = pd.read_csv(\"/datasets/hypothesis.csv\")\n",
    "orders = pd.read_csv(\"/datasets/orders.csv\")\n",
    "visitors = pd.read_csv(\"/datasets/visitors.csv\")"
   ]
  },
  {
   "cell_type": "code",
   "execution_count": 3,
   "metadata": {},
   "outputs": [
    {
     "name": "stdout",
     "output_type": "stream",
     "text": [
      "<class 'pandas.core.frame.DataFrame'>\n",
      "RangeIndex: 9 entries, 0 to 8\n",
      "Data columns (total 5 columns):\n",
      " #   Column      Non-Null Count  Dtype \n",
      "---  ------      --------------  ----- \n",
      " 0   Hypothesis  9 non-null      object\n",
      " 1   Reach       9 non-null      int64 \n",
      " 2   Impact      9 non-null      int64 \n",
      " 3   Confidence  9 non-null      int64 \n",
      " 4   Efforts     9 non-null      int64 \n",
      "dtypes: int64(4), object(1)\n",
      "memory usage: 488.0+ bytes\n"
     ]
    }
   ],
   "source": [
    "hypothesis.info()"
   ]
  },
  {
   "cell_type": "code",
   "execution_count": 4,
   "metadata": {},
   "outputs": [
    {
     "data": {
      "text/html": [
       "<div>\n",
       "<style scoped>\n",
       "    .dataframe tbody tr th:only-of-type {\n",
       "        vertical-align: middle;\n",
       "    }\n",
       "\n",
       "    .dataframe tbody tr th {\n",
       "        vertical-align: top;\n",
       "    }\n",
       "\n",
       "    .dataframe thead th {\n",
       "        text-align: right;\n",
       "    }\n",
       "</style>\n",
       "<table border=\"1\" class=\"dataframe\">\n",
       "  <thead>\n",
       "    <tr style=\"text-align: right;\">\n",
       "      <th></th>\n",
       "      <th>Hypothesis</th>\n",
       "      <th>Reach</th>\n",
       "      <th>Impact</th>\n",
       "      <th>Confidence</th>\n",
       "      <th>Efforts</th>\n",
       "    </tr>\n",
       "  </thead>\n",
       "  <tbody>\n",
       "    <tr>\n",
       "      <th>0</th>\n",
       "      <td>Добавить два новых канала привлечения трафика,...</td>\n",
       "      <td>3</td>\n",
       "      <td>10</td>\n",
       "      <td>8</td>\n",
       "      <td>6</td>\n",
       "    </tr>\n",
       "    <tr>\n",
       "      <th>1</th>\n",
       "      <td>Запустить собственную службу доставки, что сок...</td>\n",
       "      <td>2</td>\n",
       "      <td>5</td>\n",
       "      <td>4</td>\n",
       "      <td>10</td>\n",
       "    </tr>\n",
       "    <tr>\n",
       "      <th>2</th>\n",
       "      <td>Добавить блоки рекомендаций товаров на сайт ин...</td>\n",
       "      <td>8</td>\n",
       "      <td>3</td>\n",
       "      <td>7</td>\n",
       "      <td>3</td>\n",
       "    </tr>\n",
       "    <tr>\n",
       "      <th>3</th>\n",
       "      <td>Изменить структура категорий, что увеличит кон...</td>\n",
       "      <td>8</td>\n",
       "      <td>3</td>\n",
       "      <td>3</td>\n",
       "      <td>8</td>\n",
       "    </tr>\n",
       "    <tr>\n",
       "      <th>4</th>\n",
       "      <td>Изменить цвет фона главной страницы, чтобы уве...</td>\n",
       "      <td>3</td>\n",
       "      <td>1</td>\n",
       "      <td>1</td>\n",
       "      <td>1</td>\n",
       "    </tr>\n",
       "  </tbody>\n",
       "</table>\n",
       "</div>"
      ],
      "text/plain": [
       "                                          Hypothesis  Reach  Impact  \\\n",
       "0  Добавить два новых канала привлечения трафика,...      3      10   \n",
       "1  Запустить собственную службу доставки, что сок...      2       5   \n",
       "2  Добавить блоки рекомендаций товаров на сайт ин...      8       3   \n",
       "3  Изменить структура категорий, что увеличит кон...      8       3   \n",
       "4  Изменить цвет фона главной страницы, чтобы уве...      3       1   \n",
       "\n",
       "   Confidence  Efforts  \n",
       "0           8        6  \n",
       "1           4       10  \n",
       "2           7        3  \n",
       "3           3        8  \n",
       "4           1        1  "
      ]
     },
     "execution_count": 4,
     "metadata": {},
     "output_type": "execute_result"
    }
   ],
   "source": [
    "hypothesis.head(5)"
   ]
  },
  {
   "cell_type": "code",
   "execution_count": 5,
   "metadata": {},
   "outputs": [
    {
     "name": "stdout",
     "output_type": "stream",
     "text": [
      "<class 'pandas.core.frame.DataFrame'>\n",
      "RangeIndex: 1197 entries, 0 to 1196\n",
      "Data columns (total 5 columns):\n",
      " #   Column         Non-Null Count  Dtype \n",
      "---  ------         --------------  ----- \n",
      " 0   transactionId  1197 non-null   int64 \n",
      " 1   visitorId      1197 non-null   int64 \n",
      " 2   date           1197 non-null   object\n",
      " 3   revenue        1197 non-null   int64 \n",
      " 4   group          1197 non-null   object\n",
      "dtypes: int64(3), object(2)\n",
      "memory usage: 46.9+ KB\n"
     ]
    }
   ],
   "source": [
    "orders.info()"
   ]
  },
  {
   "cell_type": "code",
   "execution_count": 6,
   "metadata": {},
   "outputs": [
    {
     "data": {
      "text/html": [
       "<div>\n",
       "<style scoped>\n",
       "    .dataframe tbody tr th:only-of-type {\n",
       "        vertical-align: middle;\n",
       "    }\n",
       "\n",
       "    .dataframe tbody tr th {\n",
       "        vertical-align: top;\n",
       "    }\n",
       "\n",
       "    .dataframe thead th {\n",
       "        text-align: right;\n",
       "    }\n",
       "</style>\n",
       "<table border=\"1\" class=\"dataframe\">\n",
       "  <thead>\n",
       "    <tr style=\"text-align: right;\">\n",
       "      <th></th>\n",
       "      <th>transactionId</th>\n",
       "      <th>visitorId</th>\n",
       "      <th>date</th>\n",
       "      <th>revenue</th>\n",
       "      <th>group</th>\n",
       "    </tr>\n",
       "  </thead>\n",
       "  <tbody>\n",
       "    <tr>\n",
       "      <th>0</th>\n",
       "      <td>3667963787</td>\n",
       "      <td>3312258926</td>\n",
       "      <td>2019-08-15</td>\n",
       "      <td>1650</td>\n",
       "      <td>B</td>\n",
       "    </tr>\n",
       "    <tr>\n",
       "      <th>1</th>\n",
       "      <td>2804400009</td>\n",
       "      <td>3642806036</td>\n",
       "      <td>2019-08-15</td>\n",
       "      <td>730</td>\n",
       "      <td>B</td>\n",
       "    </tr>\n",
       "    <tr>\n",
       "      <th>2</th>\n",
       "      <td>2961555356</td>\n",
       "      <td>4069496402</td>\n",
       "      <td>2019-08-15</td>\n",
       "      <td>400</td>\n",
       "      <td>A</td>\n",
       "    </tr>\n",
       "    <tr>\n",
       "      <th>3</th>\n",
       "      <td>3797467345</td>\n",
       "      <td>1196621759</td>\n",
       "      <td>2019-08-15</td>\n",
       "      <td>9759</td>\n",
       "      <td>B</td>\n",
       "    </tr>\n",
       "    <tr>\n",
       "      <th>4</th>\n",
       "      <td>2282983706</td>\n",
       "      <td>2322279887</td>\n",
       "      <td>2019-08-15</td>\n",
       "      <td>2308</td>\n",
       "      <td>B</td>\n",
       "    </tr>\n",
       "  </tbody>\n",
       "</table>\n",
       "</div>"
      ],
      "text/plain": [
       "   transactionId   visitorId        date  revenue group\n",
       "0     3667963787  3312258926  2019-08-15     1650     B\n",
       "1     2804400009  3642806036  2019-08-15      730     B\n",
       "2     2961555356  4069496402  2019-08-15      400     A\n",
       "3     3797467345  1196621759  2019-08-15     9759     B\n",
       "4     2282983706  2322279887  2019-08-15     2308     B"
      ]
     },
     "execution_count": 6,
     "metadata": {},
     "output_type": "execute_result"
    }
   ],
   "source": [
    "orders.head(5)"
   ]
  },
  {
   "cell_type": "code",
   "execution_count": 7,
   "metadata": {},
   "outputs": [
    {
     "name": "stdout",
     "output_type": "stream",
     "text": [
      "<class 'pandas.core.frame.DataFrame'>\n",
      "RangeIndex: 62 entries, 0 to 61\n",
      "Data columns (total 3 columns):\n",
      " #   Column    Non-Null Count  Dtype \n",
      "---  ------    --------------  ----- \n",
      " 0   date      62 non-null     object\n",
      " 1   group     62 non-null     object\n",
      " 2   visitors  62 non-null     int64 \n",
      "dtypes: int64(1), object(2)\n",
      "memory usage: 1.6+ KB\n"
     ]
    }
   ],
   "source": [
    "visitors.info()"
   ]
  },
  {
   "cell_type": "code",
   "execution_count": 8,
   "metadata": {},
   "outputs": [
    {
     "data": {
      "text/html": [
       "<div>\n",
       "<style scoped>\n",
       "    .dataframe tbody tr th:only-of-type {\n",
       "        vertical-align: middle;\n",
       "    }\n",
       "\n",
       "    .dataframe tbody tr th {\n",
       "        vertical-align: top;\n",
       "    }\n",
       "\n",
       "    .dataframe thead th {\n",
       "        text-align: right;\n",
       "    }\n",
       "</style>\n",
       "<table border=\"1\" class=\"dataframe\">\n",
       "  <thead>\n",
       "    <tr style=\"text-align: right;\">\n",
       "      <th></th>\n",
       "      <th>date</th>\n",
       "      <th>group</th>\n",
       "      <th>visitors</th>\n",
       "    </tr>\n",
       "  </thead>\n",
       "  <tbody>\n",
       "    <tr>\n",
       "      <th>0</th>\n",
       "      <td>2019-08-01</td>\n",
       "      <td>A</td>\n",
       "      <td>719</td>\n",
       "    </tr>\n",
       "    <tr>\n",
       "      <th>1</th>\n",
       "      <td>2019-08-02</td>\n",
       "      <td>A</td>\n",
       "      <td>619</td>\n",
       "    </tr>\n",
       "    <tr>\n",
       "      <th>2</th>\n",
       "      <td>2019-08-03</td>\n",
       "      <td>A</td>\n",
       "      <td>507</td>\n",
       "    </tr>\n",
       "    <tr>\n",
       "      <th>3</th>\n",
       "      <td>2019-08-04</td>\n",
       "      <td>A</td>\n",
       "      <td>717</td>\n",
       "    </tr>\n",
       "    <tr>\n",
       "      <th>4</th>\n",
       "      <td>2019-08-05</td>\n",
       "      <td>A</td>\n",
       "      <td>756</td>\n",
       "    </tr>\n",
       "  </tbody>\n",
       "</table>\n",
       "</div>"
      ],
      "text/plain": [
       "         date group  visitors\n",
       "0  2019-08-01     A       719\n",
       "1  2019-08-02     A       619\n",
       "2  2019-08-03     A       507\n",
       "3  2019-08-04     A       717\n",
       "4  2019-08-05     A       756"
      ]
     },
     "execution_count": 8,
     "metadata": {},
     "output_type": "execute_result"
    }
   ],
   "source": [
    "visitors.head(5)"
   ]
  },
  {
   "cell_type": "markdown",
   "metadata": {},
   "source": [
    "# Вывод:\n",
    "Мы выгрузили необходимые библиотеки и загрузили датафреймы. Столбы в датафрейме hypothesis нужно привести к нижнему регистру. Также столбцы с датами нужно привести к типу datetime."
   ]
  },
  {
   "cell_type": "markdown",
   "metadata": {},
   "source": [
    "# Шаг 2. Предобработка данных"
   ]
  },
  {
   "cell_type": "code",
   "execution_count": 9,
   "metadata": {},
   "outputs": [
    {
     "data": {
      "text/plain": [
       "0"
      ]
     },
     "execution_count": 9,
     "metadata": {},
     "output_type": "execute_result"
    }
   ],
   "source": [
    "hypothesis.duplicated().sum()"
   ]
  },
  {
   "cell_type": "code",
   "execution_count": 10,
   "metadata": {},
   "outputs": [
    {
     "data": {
      "text/plain": [
       "Hypothesis    0\n",
       "Reach         0\n",
       "Impact        0\n",
       "Confidence    0\n",
       "Efforts       0\n",
       "dtype: int64"
      ]
     },
     "execution_count": 10,
     "metadata": {},
     "output_type": "execute_result"
    }
   ],
   "source": [
    "hypothesis.isna().sum()"
   ]
  },
  {
   "cell_type": "code",
   "execution_count": 11,
   "metadata": {},
   "outputs": [
    {
     "data": {
      "text/plain": [
       "0"
      ]
     },
     "execution_count": 11,
     "metadata": {},
     "output_type": "execute_result"
    }
   ],
   "source": [
    "visitors.duplicated().sum()"
   ]
  },
  {
   "cell_type": "code",
   "execution_count": 12,
   "metadata": {},
   "outputs": [
    {
     "data": {
      "text/plain": [
       "date        0\n",
       "group       0\n",
       "visitors    0\n",
       "dtype: int64"
      ]
     },
     "execution_count": 12,
     "metadata": {},
     "output_type": "execute_result"
    }
   ],
   "source": [
    "visitors.isna().sum()"
   ]
  },
  {
   "cell_type": "code",
   "execution_count": 13,
   "metadata": {},
   "outputs": [
    {
     "data": {
      "text/plain": [
       "0"
      ]
     },
     "execution_count": 13,
     "metadata": {},
     "output_type": "execute_result"
    }
   ],
   "source": [
    "orders.duplicated().sum()"
   ]
  },
  {
   "cell_type": "code",
   "execution_count": 14,
   "metadata": {},
   "outputs": [
    {
     "data": {
      "text/plain": [
       "transactionId    0\n",
       "visitorId        0\n",
       "date             0\n",
       "revenue          0\n",
       "group            0\n",
       "dtype: int64"
      ]
     },
     "execution_count": 14,
     "metadata": {},
     "output_type": "execute_result"
    }
   ],
   "source": [
    "orders.isna().sum()"
   ]
  },
  {
   "cell_type": "code",
   "execution_count": 15,
   "metadata": {},
   "outputs": [],
   "source": [
    "# Приводим названия столбцов датафрейма к строчным буквам\n",
    "hypothesis.columns = hypothesis.columns.str.lower()"
   ]
  },
  {
   "cell_type": "code",
   "execution_count": 16,
   "metadata": {},
   "outputs": [],
   "source": [
    "# Корректируем тип данных\n",
    "visitors['date'] = pd.to_datetime(visitors['date'])\n",
    "orders['date'] = pd.to_datetime(orders['date'])"
   ]
  },
  {
   "cell_type": "markdown",
   "metadata": {},
   "source": [
    "# Вывод:\n",
    "Привели столбцы к правильным видам и типам данных. Проверили на явные дубликаты и пропуски в данных."
   ]
  },
  {
   "cell_type": "markdown",
   "metadata": {},
   "source": [
    "# Шаг 3. Приоритизация гипотез"
   ]
  },
  {
   "cell_type": "code",
   "execution_count": 17,
   "metadata": {},
   "outputs": [
    {
     "data": {
      "text/html": [
       "<div>\n",
       "<style scoped>\n",
       "    .dataframe tbody tr th:only-of-type {\n",
       "        vertical-align: middle;\n",
       "    }\n",
       "\n",
       "    .dataframe tbody tr th {\n",
       "        vertical-align: top;\n",
       "    }\n",
       "\n",
       "    .dataframe thead th {\n",
       "        text-align: right;\n",
       "    }\n",
       "</style>\n",
       "<table border=\"1\" class=\"dataframe\">\n",
       "  <thead>\n",
       "    <tr style=\"text-align: right;\">\n",
       "      <th></th>\n",
       "      <th>hypothesis</th>\n",
       "      <th>reach</th>\n",
       "      <th>impact</th>\n",
       "      <th>confidence</th>\n",
       "      <th>efforts</th>\n",
       "      <th>ice</th>\n",
       "    </tr>\n",
       "  </thead>\n",
       "  <tbody>\n",
       "    <tr>\n",
       "      <th>8</th>\n",
       "      <td>Запустить акцию, дающую скидку на товар в день рождения</td>\n",
       "      <td>1</td>\n",
       "      <td>9</td>\n",
       "      <td>9</td>\n",
       "      <td>5</td>\n",
       "      <td>16.2</td>\n",
       "    </tr>\n",
       "    <tr>\n",
       "      <th>0</th>\n",
       "      <td>Добавить два новых канала привлечения трафика, что позволит привлекать на 30% больше пользователей</td>\n",
       "      <td>3</td>\n",
       "      <td>10</td>\n",
       "      <td>8</td>\n",
       "      <td>6</td>\n",
       "      <td>13.3</td>\n",
       "    </tr>\n",
       "    <tr>\n",
       "      <th>7</th>\n",
       "      <td>Добавить форму подписки на все основные страницы, чтобы собрать базу клиентов для email-рассылок</td>\n",
       "      <td>10</td>\n",
       "      <td>7</td>\n",
       "      <td>8</td>\n",
       "      <td>5</td>\n",
       "      <td>11.2</td>\n",
       "    </tr>\n",
       "    <tr>\n",
       "      <th>6</th>\n",
       "      <td>Показать на главной странице баннеры с актуальными акциями и распродажами, чтобы увеличить конверсию</td>\n",
       "      <td>5</td>\n",
       "      <td>3</td>\n",
       "      <td>8</td>\n",
       "      <td>3</td>\n",
       "      <td>8.0</td>\n",
       "    </tr>\n",
       "    <tr>\n",
       "      <th>2</th>\n",
       "      <td>Добавить блоки рекомендаций товаров на сайт интернет магазина, чтобы повысить конверсию и средний чек заказа</td>\n",
       "      <td>8</td>\n",
       "      <td>3</td>\n",
       "      <td>7</td>\n",
       "      <td>3</td>\n",
       "      <td>7.0</td>\n",
       "    </tr>\n",
       "    <tr>\n",
       "      <th>1</th>\n",
       "      <td>Запустить собственную службу доставки, что сократит срок доставки заказов</td>\n",
       "      <td>2</td>\n",
       "      <td>5</td>\n",
       "      <td>4</td>\n",
       "      <td>10</td>\n",
       "      <td>2.0</td>\n",
       "    </tr>\n",
       "    <tr>\n",
       "      <th>5</th>\n",
       "      <td>Добавить страницу отзывов клиентов о магазине, что позволит увеличить количество заказов</td>\n",
       "      <td>3</td>\n",
       "      <td>2</td>\n",
       "      <td>2</td>\n",
       "      <td>3</td>\n",
       "      <td>1.3</td>\n",
       "    </tr>\n",
       "    <tr>\n",
       "      <th>3</th>\n",
       "      <td>Изменить структура категорий, что увеличит конверсию, т.к. пользователи быстрее найдут нужный товар</td>\n",
       "      <td>8</td>\n",
       "      <td>3</td>\n",
       "      <td>3</td>\n",
       "      <td>8</td>\n",
       "      <td>1.1</td>\n",
       "    </tr>\n",
       "    <tr>\n",
       "      <th>4</th>\n",
       "      <td>Изменить цвет фона главной страницы, чтобы увеличить вовлеченность пользователей</td>\n",
       "      <td>3</td>\n",
       "      <td>1</td>\n",
       "      <td>1</td>\n",
       "      <td>1</td>\n",
       "      <td>1.0</td>\n",
       "    </tr>\n",
       "  </tbody>\n",
       "</table>\n",
       "</div>"
      ],
      "text/plain": [
       "                                                                                                     hypothesis  \\\n",
       "8                                                       Запустить акцию, дающую скидку на товар в день рождения   \n",
       "0            Добавить два новых канала привлечения трафика, что позволит привлекать на 30% больше пользователей   \n",
       "7              Добавить форму подписки на все основные страницы, чтобы собрать базу клиентов для email-рассылок   \n",
       "6          Показать на главной странице баннеры с актуальными акциями и распродажами, чтобы увеличить конверсию   \n",
       "2  Добавить блоки рекомендаций товаров на сайт интернет магазина, чтобы повысить конверсию и средний чек заказа   \n",
       "1                                     Запустить собственную службу доставки, что сократит срок доставки заказов   \n",
       "5                      Добавить страницу отзывов клиентов о магазине, что позволит увеличить количество заказов   \n",
       "3           Изменить структура категорий, что увеличит конверсию, т.к. пользователи быстрее найдут нужный товар   \n",
       "4                              Изменить цвет фона главной страницы, чтобы увеличить вовлеченность пользователей   \n",
       "\n",
       "   reach  impact  confidence  efforts   ice  \n",
       "8      1       9           9        5  16.2  \n",
       "0      3      10           8        6  13.3  \n",
       "7     10       7           8        5  11.2  \n",
       "6      5       3           8        3   8.0  \n",
       "2      8       3           7        3   7.0  \n",
       "1      2       5           4       10   2.0  \n",
       "5      3       2           2        3   1.3  \n",
       "3      8       3           3        8   1.1  \n",
       "4      3       1           1        1   1.0  "
      ]
     },
     "execution_count": 17,
     "metadata": {},
     "output_type": "execute_result"
    }
   ],
   "source": [
    "# Выполним расчет ICE и отобразим датафрейм в порядке убывания оценки\n",
    "hypothesis['ice'] = (round(hypothesis['impact'] * hypothesis['confidence'] / \n",
    "                                 hypothesis['efforts'], 1))\n",
    "pd.options.display.max_colwidth = 150\n",
    "hypothesis.sort_values(by = 'ice', ascending = False).head(10)"
   ]
  },
  {
   "cell_type": "markdown",
   "metadata": {},
   "source": [
    "Топ 3 наиболее перспективных гипотез по ICE: запустить акцию, дающую скидку на товар в день рождения, добавить два новых канала привлечения трафика, что позволит привлекать на 30% больше пользователей и добавить форму подписки на все основные страницы, чтобы собрать базу клиентов для email-рассылок."
   ]
  },
  {
   "cell_type": "code",
   "execution_count": 18,
   "metadata": {},
   "outputs": [
    {
     "data": {
      "text/html": [
       "<div>\n",
       "<style scoped>\n",
       "    .dataframe tbody tr th:only-of-type {\n",
       "        vertical-align: middle;\n",
       "    }\n",
       "\n",
       "    .dataframe tbody tr th {\n",
       "        vertical-align: top;\n",
       "    }\n",
       "\n",
       "    .dataframe thead th {\n",
       "        text-align: right;\n",
       "    }\n",
       "</style>\n",
       "<table border=\"1\" class=\"dataframe\">\n",
       "  <thead>\n",
       "    <tr style=\"text-align: right;\">\n",
       "      <th></th>\n",
       "      <th>hypothesis</th>\n",
       "      <th>reach</th>\n",
       "      <th>impact</th>\n",
       "      <th>confidence</th>\n",
       "      <th>efforts</th>\n",
       "      <th>ice</th>\n",
       "      <th>rice</th>\n",
       "    </tr>\n",
       "  </thead>\n",
       "  <tbody>\n",
       "    <tr>\n",
       "      <th>7</th>\n",
       "      <td>Добавить форму подписки на все основные страницы, чтобы собрать базу клиентов для email-рассылок</td>\n",
       "      <td>10</td>\n",
       "      <td>7</td>\n",
       "      <td>8</td>\n",
       "      <td>5</td>\n",
       "      <td>11.2</td>\n",
       "      <td>112.0</td>\n",
       "    </tr>\n",
       "    <tr>\n",
       "      <th>2</th>\n",
       "      <td>Добавить блоки рекомендаций товаров на сайт интернет магазина, чтобы повысить конверсию и средний чек заказа</td>\n",
       "      <td>8</td>\n",
       "      <td>3</td>\n",
       "      <td>7</td>\n",
       "      <td>3</td>\n",
       "      <td>7.0</td>\n",
       "      <td>56.0</td>\n",
       "    </tr>\n",
       "    <tr>\n",
       "      <th>0</th>\n",
       "      <td>Добавить два новых канала привлечения трафика, что позволит привлекать на 30% больше пользователей</td>\n",
       "      <td>3</td>\n",
       "      <td>10</td>\n",
       "      <td>8</td>\n",
       "      <td>6</td>\n",
       "      <td>13.3</td>\n",
       "      <td>40.0</td>\n",
       "    </tr>\n",
       "    <tr>\n",
       "      <th>6</th>\n",
       "      <td>Показать на главной странице баннеры с актуальными акциями и распродажами, чтобы увеличить конверсию</td>\n",
       "      <td>5</td>\n",
       "      <td>3</td>\n",
       "      <td>8</td>\n",
       "      <td>3</td>\n",
       "      <td>8.0</td>\n",
       "      <td>40.0</td>\n",
       "    </tr>\n",
       "    <tr>\n",
       "      <th>8</th>\n",
       "      <td>Запустить акцию, дающую скидку на товар в день рождения</td>\n",
       "      <td>1</td>\n",
       "      <td>9</td>\n",
       "      <td>9</td>\n",
       "      <td>5</td>\n",
       "      <td>16.2</td>\n",
       "      <td>16.2</td>\n",
       "    </tr>\n",
       "    <tr>\n",
       "      <th>3</th>\n",
       "      <td>Изменить структура категорий, что увеличит конверсию, т.к. пользователи быстрее найдут нужный товар</td>\n",
       "      <td>8</td>\n",
       "      <td>3</td>\n",
       "      <td>3</td>\n",
       "      <td>8</td>\n",
       "      <td>1.1</td>\n",
       "      <td>9.0</td>\n",
       "    </tr>\n",
       "    <tr>\n",
       "      <th>1</th>\n",
       "      <td>Запустить собственную службу доставки, что сократит срок доставки заказов</td>\n",
       "      <td>2</td>\n",
       "      <td>5</td>\n",
       "      <td>4</td>\n",
       "      <td>10</td>\n",
       "      <td>2.0</td>\n",
       "      <td>4.0</td>\n",
       "    </tr>\n",
       "    <tr>\n",
       "      <th>5</th>\n",
       "      <td>Добавить страницу отзывов клиентов о магазине, что позволит увеличить количество заказов</td>\n",
       "      <td>3</td>\n",
       "      <td>2</td>\n",
       "      <td>2</td>\n",
       "      <td>3</td>\n",
       "      <td>1.3</td>\n",
       "      <td>4.0</td>\n",
       "    </tr>\n",
       "    <tr>\n",
       "      <th>4</th>\n",
       "      <td>Изменить цвет фона главной страницы, чтобы увеличить вовлеченность пользователей</td>\n",
       "      <td>3</td>\n",
       "      <td>1</td>\n",
       "      <td>1</td>\n",
       "      <td>1</td>\n",
       "      <td>1.0</td>\n",
       "      <td>3.0</td>\n",
       "    </tr>\n",
       "  </tbody>\n",
       "</table>\n",
       "</div>"
      ],
      "text/plain": [
       "                                                                                                     hypothesis  \\\n",
       "7              Добавить форму подписки на все основные страницы, чтобы собрать базу клиентов для email-рассылок   \n",
       "2  Добавить блоки рекомендаций товаров на сайт интернет магазина, чтобы повысить конверсию и средний чек заказа   \n",
       "0            Добавить два новых канала привлечения трафика, что позволит привлекать на 30% больше пользователей   \n",
       "6          Показать на главной странице баннеры с актуальными акциями и распродажами, чтобы увеличить конверсию   \n",
       "8                                                       Запустить акцию, дающую скидку на товар в день рождения   \n",
       "3           Изменить структура категорий, что увеличит конверсию, т.к. пользователи быстрее найдут нужный товар   \n",
       "1                                     Запустить собственную службу доставки, что сократит срок доставки заказов   \n",
       "5                      Добавить страницу отзывов клиентов о магазине, что позволит увеличить количество заказов   \n",
       "4                              Изменить цвет фона главной страницы, чтобы увеличить вовлеченность пользователей   \n",
       "\n",
       "   reach  impact  confidence  efforts   ice   rice  \n",
       "7     10       7           8        5  11.2  112.0  \n",
       "2      8       3           7        3   7.0   56.0  \n",
       "0      3      10           8        6  13.3   40.0  \n",
       "6      5       3           8        3   8.0   40.0  \n",
       "8      1       9           9        5  16.2   16.2  \n",
       "3      8       3           3        8   1.1    9.0  \n",
       "1      2       5           4       10   2.0    4.0  \n",
       "5      3       2           2        3   1.3    4.0  \n",
       "4      3       1           1        1   1.0    3.0  "
      ]
     },
     "execution_count": 18,
     "metadata": {},
     "output_type": "execute_result"
    }
   ],
   "source": [
    "# Выполним расчет RICE и отобразим датафрейм в порядке убывания оценки\n",
    "hypothesis['rice'] = round(hypothesis['reach'] * hypothesis['impact'] * hypothesis['confidence'] / \n",
    "                                hypothesis['efforts'], 1)\n",
    "pd.options.display.max_colwidth = 150\n",
    "hypothesis.sort_values(by = 'rice', ascending = False).head(10)"
   ]
  },
  {
   "cell_type": "markdown",
   "metadata": {},
   "source": [
    "Топ 3 наиболее перспективных гипотез по RICE: добавить форму подписки на все основные страницы, чтобы собрать базу клиентов для email-рассылок,  добавить блоки рекомендаций товаров на сайт интернет магазина, чтобы повысить конверсию и средний чек заказа, Добавить два новых канала привлечения трафика, что позволит привлекать на 30% больше пользователей."
   ]
  },
  {
   "cell_type": "markdown",
   "metadata": {},
   "source": [
    "# Вывод:\n",
    "При использовании разных фреймворков видим разницу в приоритизации гипотез. Изменение приоритета произошло из-за добавления в оценку параметра, который оценивает количество затронутых изменением пользователей. Если рассмотреть гипотезу с акцией на день рождения, то влияние на пользователей действительно очень малое и локальное, что не дает высокого приоритета данной гипотезе при оценке RICE. Наибольший интерес вызывают гипотезы под номерами 7, 0 и 6 - они на высоких позициях в оценке RICE, а также характеризуются довольно высоким баллом при расчете ICE. Эти гипотезы входят в топ 4 в обоих случаях."
   ]
  },
  {
   "cell_type": "markdown",
   "metadata": {},
   "source": [
    "# Шаг 4. Анализ A/B-теста"
   ]
  },
  {
   "cell_type": "code",
   "execution_count": 19,
   "metadata": {},
   "outputs": [
    {
     "data": {
      "image/png": "[encoded data removed]",
      "text/plain": [
       "<Figure size 864x432 with 1 Axes>"
      ]
     },
     "metadata": {
      "needs_background": "light"
     },
     "output_type": "display_data"
    }
   ],
   "source": [
    "# Построим график кумулятивной выручки по группам\n",
    "\n",
    "# Создаем массив уникальных пар значений дат и групп теста\n",
    "\n",
    "datesGroups = orders[['date', 'group']].drop_duplicates()\n",
    "\n",
    "# Соберём агрегированные кумулятивные по дням данные о заказах\n",
    "\n",
    "ordersAggregated = datesGroups.apply(\n",
    "    lambda x: orders[\n",
    "        np.logical_and(\n",
    "            orders['date'] <= x['date'], orders['group'] == x['group']\n",
    "        )\n",
    "    ].agg(\n",
    "        {\n",
    "            'date': 'max',\n",
    "            'group': 'max',\n",
    "            'transactionId': 'nunique',\n",
    "            'visitorId': 'nunique',\n",
    "            'revenue': 'sum',\n",
    "        }\n",
    "    ),\n",
    "    axis=1,\n",
    ").sort_values(by=['date', 'group'])\n",
    "\n",
    "# Получим агрегированные кумулятивные по дням данные о посетителях интернет-магазина\n",
    "\n",
    "visitorsAggregated = datesGroups.apply(\n",
    "    lambda x: visitors[\n",
    "        np.logical_and(\n",
    "            visitors['date'] <= x['date'], visitors['group'] == x['group']\n",
    "        )\n",
    "    ].agg({'date': 'max', 'group': 'max', 'visitors': 'sum'}),\n",
    "    axis=1,\n",
    ").sort_values(by=['date', 'group'])\n",
    "\n",
    "# Объединяем кумулятивные данные в одной таблице и присваиваем ее столбцам  названия\n",
    "\n",
    "cumulativeData = ordersAggregated.merge(\n",
    "    visitorsAggregated, left_on=['date', 'group'], right_on=['date', 'group']\n",
    ")\n",
    "cumulativeData.columns = [\n",
    "    'date',\n",
    "    'group',\n",
    "    'orders',\n",
    "    'buyers',\n",
    "    'revenue',\n",
    "    'visitors',\n",
    "]\n",
    "\n",
    "\n",
    "cumulativeDataA = cumulativeData[cumulativeData['group'] == 'A']\n",
    "\n",
    "cumulativeDataB = cumulativeData[cumulativeData['group'] == 'B']\n",
    "\n",
    "plt.figure(figsize=(12, 6))\n",
    "plt.plot(cumulativeDataA['date'], cumulativeDataA['revenue'], label='A')\n",
    "\n",
    "plt.plot(cumulativeDataB['date'], cumulativeDataB['revenue'], label='B')\n",
    "plt.legend()\n",
    "plt.title(\"График кумулятивной выручки по группам\")\n",
    "plt.ylabel(\"Кумулятивная выручка\")\n",
    "plt.xlabel(\"Дата\")\n",
    "plt.show()"
   ]
  },
  {
   "cell_type": "markdown",
   "metadata": {},
   "source": [
    "Выручка, полученная от пользователей из группы B больше, но на графики виден явный всплеск с 18 на 19 августа. Он создал большой отрыв по выручке от группы A, но это, скорее, шум, а не эффект от A/B-теста."
   ]
  },
  {
   "cell_type": "code",
   "execution_count": 20,
   "metadata": {},
   "outputs": [
    {
     "data": {
      "image/png": "[encoded data removed]",
      "text/plain": [
       "<Figure size 864x432 with 1 Axes>"
      ]
     },
     "metadata": {
      "needs_background": "light"
     },
     "output_type": "display_data"
    }
   ],
   "source": [
    "#Построим график кумулятивного среднего чека по группам\n",
    "plt.figure(figsize=(12, 6))\n",
    "plt.plot(cumulativeDataA['date'],cumulativeDataA['revenue']/cumulativeDataA['orders'], label='A')\n",
    "plt.plot(cumulativeDataB['date'],cumulativeDataB['revenue']/cumulativeDataB['orders'], label='B')\n",
    "plt.legend()\n",
    "plt.title(\"График кумулятивного среднего чека по группам\")\n",
    "plt.ylabel(\"Средняя кумулятивная стоимость чека\")\n",
    "plt.xlabel(\"Дата\")\n",
    "plt.show()"
   ]
  },
  {
   "cell_type": "markdown",
   "metadata": {},
   "source": [
    "Имеется резкий рост в группе В, необходимо посмотреть данные на предмет выбросов (большие заказы)."
   ]
  },
  {
   "cell_type": "code",
   "execution_count": 21,
   "metadata": {},
   "outputs": [
    {
     "data": {
      "image/png": "[encoded data removed]",
      "text/plain": [
       "<Figure size 864x432 with 1 Axes>"
      ]
     },
     "metadata": {
      "needs_background": "light"
     },
     "output_type": "display_data"
    }
   ],
   "source": [
    "#Построим график относительного изменения кумулятивного среднего чека группы B к группе A\n",
    "mergedCumulativeRevenue = cumulativeDataA.merge(cumulativeDataB, left_on='date', right_on='date', how='left', suffixes=['A', 'B'])\n",
    "plt.figure(figsize=(12, 6))\n",
    "plt.plot(mergedCumulativeRevenue['date'], (mergedCumulativeRevenue['revenueB']/mergedCumulativeRevenue['ordersB'])/(mergedCumulativeRevenue['revenueA']/mergedCumulativeRevenue['ordersA'])-1)\n",
    "plt.axhline(y=0, color='black', linestyle='--')\n",
    "plt.title(\"Относительное изменение кумулятивного чека В к А\")\n",
    "plt.ylabel(\"Отношение В к А\")\n",
    "plt.xlabel(\"Дата\")\n",
    "plt.show()"
   ]
  },
  {
   "cell_type": "markdown",
   "metadata": {},
   "source": [
    "График довольно сильно скачет в обе стороны и только после 18 августа видна какая-то тенденция к стабилизации, но уверенно говорить, что график стабилизировался - нельзя."
   ]
  },
  {
   "cell_type": "code",
   "execution_count": 22,
   "metadata": {},
   "outputs": [
    {
     "data": {
      "image/png": "[encoded data removed]",
      "text/plain": [
       "<Figure size 1080x360 with 1 Axes>"
      ]
     },
     "metadata": {
      "needs_background": "light"
     },
     "output_type": "display_data"
    }
   ],
   "source": [
    "#Построим график кумулятивного среднего количества заказов на посетителя по группам\n",
    "\n",
    "# считаем кумулятивную конверсию\n",
    "cumulativeData['conversion'] = cumulativeData['orders']/cumulativeData['visitors']\n",
    "\n",
    "# отделяем данные по группе A\n",
    "cumulativeDataA = cumulativeData[cumulativeData['group']=='A']\n",
    "\n",
    "# отделяем данные по группе B\n",
    "cumulativeDataB = cumulativeData[cumulativeData['group']=='B']\n",
    "\n",
    "# строим график\n",
    "plt.figure(figsize=(15, 5))\n",
    "plt.plot(cumulativeDataA['date'], cumulativeDataA['conversion'], label='A')\n",
    "plt.plot(cumulativeDataB['date'], cumulativeDataB['conversion'], label='B')\n",
    "plt.legend()\n",
    "plt.title(\"График кумулятивного среднего количества заказов на посетителя по группам\")\n",
    "plt.ylabel(\"Среднее количество заказов на посетителя\")\n",
    "plt.xlabel(\"Дата\")\n",
    "plt.show()"
   ]
  },
  {
   "cell_type": "markdown",
   "metadata": {},
   "source": [
    "Среднее количество заказов группы В преобладает, несмотря на первичные коленбания."
   ]
  },
  {
   "cell_type": "code",
   "execution_count": 23,
   "metadata": {},
   "outputs": [
    {
     "data": {
      "image/png": "[encoded data removed]",
      "text/plain": [
       "<Figure size 1080x360 with 1 Axes>"
      ]
     },
     "metadata": {
      "needs_background": "light"
     },
     "output_type": "display_data"
    }
   ],
   "source": [
    "#Построим график относительного изменения кумулятивного среднего количества заказов на посетителя группы B к группе A\n",
    "mergedCumulativeConversions = cumulativeDataA[['date','conversion']].merge(cumulativeDataB[['date','conversion']], left_on='date', right_on='date', how='left', suffixes=['A', 'B'])\n",
    "\n",
    "plt.figure(figsize=(15, 5))\n",
    "plt.plot(mergedCumulativeConversions['date'], mergedCumulativeConversions['conversionB']/mergedCumulativeConversions['conversionA']-1, label=\"Относительный прирост конверсии группы B относительно группы A\")\n",
    "plt.legend()\n",
    "plt.axhline(y=0, color='black', linestyle='--')\n",
    "plt.axhline(y=0.15, color='grey', linestyle='--')\n",
    "plt.title(\"Относительное изменение кумулятивного среднего количества заказов\")\n",
    "plt.ylabel(\"Среднее количество заказов на посетителя\")\n",
    "plt.xlabel(\"Дата\")\n",
    "plt.show()"
   ]
  },
  {
   "cell_type": "markdown",
   "metadata": {},
   "source": [
    "В начале наблюдений график колеблется, а после резкого скачка вверх в середине теста постепенно снижается. Тем не менее, группа B показывает стабильно более высокий результат относительно группы A по среднему количеству заказов."
   ]
  },
  {
   "cell_type": "code",
   "execution_count": 24,
   "metadata": {},
   "outputs": [
    {
     "data": {
      "image/png": "[encoded data removed]",
      "text/plain": [
       "<Figure size 1080x504 with 1 Axes>"
      ]
     },
     "metadata": {
      "needs_background": "light"
     },
     "output_type": "display_data"
    }
   ],
   "source": [
    "#Постройте точечный график количества заказов по пользователям\n",
    "ordersByUsers = (\n",
    "    orders.groupby('visitorId', as_index=False)\n",
    "    .agg({'transactionId': 'nunique'})\n",
    ")\n",
    "ordersByUsers.columns = ['visitorId', 'orders']\n",
    "\n",
    "x_values = pd.Series(range(0, len(ordersByUsers)))\n",
    "plt.figure(figsize=(15, 7))\n",
    "plt.scatter(x_values, ordersByUsers['orders'])\n",
    "plt.title(\"Точечный график количества заказов по пользователям\")\n",
    "plt.ylabel(\"Количество заказов\")\n",
    "plt.xlabel(\"Количество пользователей\")\n",
    "plt.show()"
   ]
  },
  {
   "cell_type": "markdown",
   "metadata": {},
   "source": [
    "Как видно, наиболее типичной является ситуация, когда 1 пользователь делает 1 заказ, реже - 2 или 3, для 4 и более заказов точек совсем мало. Однако, чтобы понять, какие значения являются аномальными, необходимо определить 95 и 99 перцентили."
   ]
  },
  {
   "cell_type": "code",
   "execution_count": 25,
   "metadata": {},
   "outputs": [
    {
     "data": {
      "text/plain": [
       "array([2., 4.])"
      ]
     },
     "execution_count": 25,
     "metadata": {},
     "output_type": "execute_result"
    }
   ],
   "source": [
    "#Посчитаем 95-й и 99-й перцентили количества заказов на пользователя\n",
    "np.percentile(ordersByUsers['orders'], [95, 99])"
   ]
  },
  {
   "cell_type": "markdown",
   "metadata": {},
   "source": [
    "Если в качестве границы для определения аномальных пользователей мы возьмём 95-й перцентиль, то потеряем много данных. Поэтому будем определять аномальных пользователей с наибольшим числом заказов по 99-му перцентилю."
   ]
  },
  {
   "cell_type": "code",
   "execution_count": 26,
   "metadata": {},
   "outputs": [
    {
     "data": {
      "image/png": "[encoded data removed]",
      "text/plain": [
       "<Figure size 1080x360 with 1 Axes>"
      ]
     },
     "metadata": {
      "needs_background": "light"
     },
     "output_type": "display_data"
    }
   ],
   "source": [
    "#Постройте точечный график стоимостей заказов\n",
    "x_values = pd.Series(range(0, len(orders['revenue'])))\n",
    "plt.figure(figsize=(15, 5))\n",
    "plt.scatter(x_values, orders['revenue'])\n",
    "plt.title(\"Точечный график стоимостей заказов\")\n",
    "plt.ylabel(\"Стоимость заказа\")\n",
    "plt.xlabel(\"Количество пользователей\")\n",
    "plt.show()"
   ]
  },
  {
   "cell_type": "markdown",
   "metadata": {},
   "source": [
    "Подавляющее масса заказов по стоимости лежит в одной плоскости, но есть несколько значений, которые очень сильно выбиваются. Это точно выбросы, скорее всего - ошибки в данных."
   ]
  },
  {
   "cell_type": "code",
   "execution_count": 27,
   "metadata": {},
   "outputs": [
    {
     "data": {
      "text/plain": [
       "array([28000. , 58233.2])"
      ]
     },
     "execution_count": 27,
     "metadata": {},
     "output_type": "execute_result"
    }
   ],
   "source": [
    "#Посчитаем 95-й и 99-й перцентили стоимости заказов\n",
    "np.percentile(orders['revenue'], [95, 99])"
   ]
  },
  {
   "cell_type": "markdown",
   "metadata": {},
   "source": [
    "Также лучше определять границу по 99 перцентилю."
   ]
  },
  {
   "cell_type": "code",
   "execution_count": 28,
   "metadata": {},
   "outputs": [],
   "source": [
    "# количество посетителей по дням в группе A\n",
    "visitorsADaily = visitors[visitors['group'] == 'A'][['date', 'visitors']]\n",
    "visitorsADaily.columns = ['date', 'visitorsPerDateA']\n",
    "\n",
    "# количество посетителей с накоплением по дням в группе A\n",
    "visitorsACummulative = visitorsADaily.apply(\n",
    "    lambda x: visitorsADaily[visitorsADaily['date'] <= x['date']].agg(\n",
    "        {'date': 'max', 'visitorsPerDateA': 'sum'}\n",
    "    ),\n",
    "    axis=1,\n",
    ")\n",
    "\n",
    "visitorsACummulative.columns = ['date', 'visitorsCummulativeA']\n",
    "\n",
    "# количество посетителей по дням в группе B\n",
    "visitorsBDaily = visitors[visitors['group'] == 'B'][['date', 'visitors']]\n",
    "visitorsBDaily.columns = ['date', 'visitorsPerDateB']\n",
    "# количество посетителей с накоплением по дням в группе B\n",
    "visitorsBCummulative = visitorsBDaily.apply(\n",
    "    lambda x: visitorsBDaily[visitorsBDaily['date'] <= x['date']].agg(\n",
    "        {'date': 'max', 'visitorsPerDateB': 'sum'}\n",
    "    ),\n",
    "    axis=1,\n",
    ")\n",
    "visitorsBCummulative.columns = ['date', 'visitorsCummulativeB']\n",
    "# количество заказов и выручка по дням в группе A\n",
    "ordersADaily = (\n",
    "    orders[orders['group'] == 'A'][['date', 'transactionId', 'visitorId', 'revenue']]\n",
    "    .groupby('date', as_index=False)\n",
    "    .agg({'transactionId': pd.Series.nunique, 'revenue': 'sum'})\n",
    ")\n",
    "ordersADaily.columns = ['date', 'ordersPerDateA', 'revenuePerDateA']\n",
    "# количество заказов и выручка по дням с накоплением в группе A\n",
    "ordersACummulative = ordersADaily.apply(\n",
    "    lambda x: ordersADaily[ordersADaily['date'] <= x['date']].agg(\n",
    "        {'date': 'max', 'ordersPerDateA': 'sum', 'revenuePerDateA': 'sum'}\n",
    "    ),\n",
    "    axis=1,\n",
    ").sort_values(by=['date'])\n",
    "ordersACummulative.columns = [\n",
    "    'date',\n",
    "    'ordersCummulativeA',\n",
    "    'revenueCummulativeA',\n",
    "]\n",
    "# количество заказов и выручка по дням в группе B\n",
    "ordersBDaily = (\n",
    "    orders[orders['group'] == 'B'][['date', 'transactionId', 'visitorId', 'revenue']]\n",
    "    .groupby('date', as_index=False)\n",
    "    .agg({'transactionId': pd.Series.nunique, 'revenue': 'sum'})\n",
    ")\n",
    "ordersBDaily.columns = ['date', 'ordersPerDateB', 'revenuePerDateB']\n",
    "# количество заказов и выручка по дням с накоплением в группе B\n",
    "ordersBCummulative = ordersBDaily.apply(\n",
    "    lambda x: ordersBDaily[ordersBDaily['date'] <= x['date']].agg(\n",
    "        {'date': 'max', 'ordersPerDateB': 'sum', 'revenuePerDateB': 'sum'}\n",
    "    ),\n",
    "    axis=1,\n",
    ").sort_values(by=['date'])\n",
    "ordersBCummulative.columns = [\n",
    "    'date',\n",
    "    'ordersCummulativeB',\n",
    "    'revenueCummulativeB',\n",
    "]\n",
    "# финальный датасет\n",
    "data = (\n",
    "    ordersADaily.merge(\n",
    "        ordersBDaily, left_on='date', right_on='date', how='left'\n",
    "    )\n",
    "    .merge(ordersACummulative, left_on='date', right_on='date', how='left')\n",
    "    .merge(ordersBCummulative, left_on='date', right_on='date', how='left')\n",
    "    .merge(visitorsADaily, left_on='date', right_on='date', how='left')\n",
    "    .merge(visitorsBDaily, left_on='date', right_on='date', how='left')\n",
    "    .merge(visitorsACummulative, left_on='date', right_on='date', how='left')\n",
    "    .merge(visitorsBCummulative, left_on='date', right_on='date', how='left')\n",
    ")\n",
    "# переменные ordersByUsersA и ordersByUsersB\n",
    "ordersByUsersA = (\n",
    "    orders[orders['group'] == 'A']\n",
    "    .groupby('visitorId', as_index=False)\n",
    "    .agg({'transactionId': pd.Series.nunique})\n",
    ")\n",
    "ordersByUsersA.columns = ['visitorId', 'orders']\n",
    "\n",
    "ordersByUsersB = (\n",
    "    orders[orders['group'] == 'B']\n",
    "    .groupby('visitorId', as_index=False)\n",
    "    .agg({'transactionId': pd.Series.nunique})\n",
    ")\n",
    "ordersByUsersB.columns = ['visitorId', 'orders']\n",
    "# переменные sampleA и sampleB\n",
    "sampleA = pd.concat(\n",
    "    [\n",
    "        ordersByUsersA['orders'],\n",
    "        pd.Series(\n",
    "            0,\n",
    "            index=np.arange(\n",
    "                data['visitorsPerDateA'].sum() - len(ordersByUsersA['orders'])\n",
    "            ),\n",
    "            name='orders',\n",
    "        ),\n",
    "    ],\n",
    "    axis=0,\n",
    ")\n",
    "\n",
    "sampleB = pd.concat(\n",
    "    [\n",
    "        ordersByUsersB['orders'],\n",
    "        pd.Series(\n",
    "            0,\n",
    "            index=np.arange(\n",
    "                data['visitorsPerDateB'].sum() - len(ordersByUsersB['orders'])\n",
    "            ),\n",
    "            name='orders',\n",
    "        ),\n",
    "    ],\n",
    "    axis=0,\n",
    ")"
   ]
  },
  {
   "cell_type": "markdown",
   "metadata": {},
   "source": [
    "- H_0: Cреднее количество заказов на посетителя в группе A статистически значимо не отличается от среднего количества заказов на посетителя в группе B\n",
    "- H_1: Cреднее количество заказов на посетителя в группе A статистически значимо отличается от среднего количества заказов на посетителя в группе B\n",
    "- alpha = 0.05\n",
    "- Лучше использовать непараметрический тест Уилкоксона-Манна-Уитни, так как, в данных есть большие (по сравнению с нормальным распределением) выбросы, и из-за них алгебраические метрики работают плохо."
   ]
  },
  {
   "cell_type": "code",
   "execution_count": 29,
   "metadata": {},
   "outputs": [
    {
     "name": "stdout",
     "output_type": "stream",
     "text": [
      "p_value - 0.01679\n",
      "Отличия между группами - 0.138\n"
     ]
    }
   ],
   "source": [
    "#Посчитаем статистическую значимость различий в среднем количестве заказов на посетителя между группами по «сырым» данным\n",
    "print('p_value -',\"{0:.5f}\".format(st.mannwhitneyu(sampleA, sampleB)[1]))\n",
    "print('Отличия между группами -',\"{0:.3f}\".format((data['ordersPerDateB'].sum()/data['visitorsPerDateB'].sum())/(data['ordersPerDateA'].sum()/data['visitorsPerDateA'].sum())-1))"
   ]
  },
  {
   "cell_type": "markdown",
   "metadata": {},
   "source": [
    "Вероятность получить наблюдемый результат при условии, что H_0 верна, составляет менее 5%. На данном уровне значимости мы отвергаем H_0 в пользу H_1. Cреднее количество заказов на посетителя в группе A статистически значимо отличается от среднего количества заказов на посетителя в группе B. Относительный прирост группы B около 14 %."
   ]
  },
  {
   "cell_type": "markdown",
   "metadata": {},
   "source": [
    "- H_0: Cредний чек заказа в группе A статистически значимо не отличается от среднего чека заказа в группе B\n",
    "- H_1: Cредний чек заказа в группе A статистически значимо отличается от среднего чека заказа в группе B\n",
    "- alpha = 0.05"
   ]
  },
  {
   "cell_type": "code",
   "execution_count": 30,
   "metadata": {},
   "outputs": [
    {
     "name": "stdout",
     "output_type": "stream",
     "text": [
      "p_value - 0.729\n",
      "Относительное различие среднего чека - 0.259\n"
     ]
    }
   ],
   "source": [
    "#Посчитаем статистическую значимость различий в среднем чеке заказа между группами по «сырым» данным\n",
    "print('p_value -','{0:.3f}'.format(st.mannwhitneyu(orders[orders['group']=='A']['revenue'], orders[orders['group']=='B']['revenue'])[1]))\n",
    "print('Относительное различие среднего чека -','{0:.3f}'.format(orders[orders['group']=='B']['revenue'].mean()/orders[orders['group']=='A']['revenue'].mean()-1))"
   ]
  },
  {
   "cell_type": "markdown",
   "metadata": {},
   "source": [
    "Вероятность получить наблюдемый результат при условии, что H_0 верна, составляет более 7%. На данном уровне значимости нет оснований отвергать H_0. Cредний чек заказа в группе A статистически значимо не отличается от среднего чека заказа в группе B.\n",
    "Относительный прирост группы B около 26 %."
   ]
  },
  {
   "cell_type": "code",
   "execution_count": 31,
   "metadata": {},
   "outputs": [
    {
     "name": "stdout",
     "output_type": "stream",
     "text": [
      " \"Аномальных\" пользователей убрано - 15\n"
     ]
    }
   ],
   "source": [
    "#Очищаем данные\n",
    "usersWithManyOrders = pd.concat(\n",
    "    [\n",
    "        ordersByUsersA[ordersByUsersA['orders'] > np.percentile(ordersByUsers['orders'], 99)]['visitorId'],\n",
    "        ordersByUsersB[ordersByUsersB['orders'] > np.percentile(ordersByUsers['orders'], 99)]['visitorId'],\n",
    "    ],\n",
    "    axis=0,\n",
    ")\n",
    "usersWithExpensiveOrders = orders[orders['revenue'] > np.percentile(orders['revenue'], 99)]['visitorId']\n",
    "abnormalUsers = (\n",
    "    pd.concat([usersWithManyOrders, usersWithExpensiveOrders], axis=0)\n",
    "    .drop_duplicates()\n",
    "    .sort_values()\n",
    ")\n",
    "\n",
    "print(' \"Аномальных\" пользователей убрано -',abnormalUsers.shape[0]) "
   ]
  },
  {
   "cell_type": "code",
   "execution_count": 32,
   "metadata": {},
   "outputs": [],
   "source": [
    "# Проверяем гипотезу\n",
    "sampleAFiltered = pd.concat(\n",
    "    [\n",
    "        ordersByUsersA[\n",
    "            np.logical_not(ordersByUsersA['visitorId'].isin(abnormalUsers))\n",
    "        ]['orders'],\n",
    "        pd.Series(\n",
    "            0,\n",
    "            index=np.arange(\n",
    "                data['visitorsPerDateA'].sum() - len(ordersByUsersA['orders'])\n",
    "            ),\n",
    "            name='orders',\n",
    "        ),\n",
    "    ],\n",
    "    axis=0,\n",
    ")\n",
    "\n",
    "sampleBFiltered = pd.concat(\n",
    "    [\n",
    "        ordersByUsersB[\n",
    "            np.logical_not(ordersByUsersB['visitorId'].isin(abnormalUsers))\n",
    "        ]['orders'],\n",
    "        pd.Series(\n",
    "            0,\n",
    "            index=np.arange(\n",
    "                data['visitorsPerDateB'].sum() - len(ordersByUsersB['orders'])\n",
    "            ),\n",
    "            name='orders',\n",
    "        ),\n",
    "    ],\n",
    "    axis=0,\n",
    ") "
   ]
  },
  {
   "cell_type": "markdown",
   "metadata": {},
   "source": [
    "- H_0: Cреднее количество заказов на посетителя в группе A статистически значимо не отличается от среднего количества заказов на посетителя в группе B\n",
    "- H_1: Cреднее количество заказов на посетителя в группе A статистически значимо отличается от среднего количества заказов на посетителя в группе B\n",
    "- alpha = 0.05"
   ]
  },
  {
   "cell_type": "code",
   "execution_count": 33,
   "metadata": {},
   "outputs": [
    {
     "name": "stdout",
     "output_type": "stream",
     "text": [
      "p_value - 0.014\n",
      "Отличия между группами - 0.153\n"
     ]
    }
   ],
   "source": [
    "print('p_value -','{0:.3f}'.format(st.mannwhitneyu(sampleAFiltered, sampleBFiltered)[1]))\n",
    "print('Отличия между группами -','{0:.3f}'.format(sampleBFiltered.mean()/sampleAFiltered.mean()-1))"
   ]
  },
  {
   "cell_type": "markdown",
   "metadata": {},
   "source": [
    "Удаление аномальных пользователей не повлияло на результат. Cреднее количество заказов на посетителя в группе A статистически значимо отличается от среднего количества заказов на посетителя в группе B. Мы отвергаем нулевую гипотезу, так как alpha < p_value."
   ]
  },
  {
   "cell_type": "markdown",
   "metadata": {},
   "source": [
    "- H_0: Cредний чек заказа в группе A статистически значимо не отличается от среднего чека заказа в группе B\n",
    "- H_1: Cредний чек заказа в группе A статистически значимо отличается от среднего чека заказа в группе B\n",
    "- alpha = 0.05"
   ]
  },
  {
   "cell_type": "code",
   "execution_count": 34,
   "metadata": {},
   "outputs": [
    {
     "name": "stdout",
     "output_type": "stream",
     "text": [
      "p_value - 0.851\n"
     ]
    }
   ],
   "source": [
    "#Посчитаем статистическую значимость различий в среднем чеке заказа между группами по «очищенным» данным\n",
    "print('p_value -',\n",
    "    '{0:.3f}'.format(\n",
    "        st.mannwhitneyu(\n",
    "            orders[\n",
    "                np.logical_and(\n",
    "                    orders['group'] == 'A',\n",
    "                    np.logical_not(orders['visitorId'].isin(abnormalUsers)),\n",
    "                )\n",
    "            ]['revenue'],\n",
    "            orders[\n",
    "                np.logical_and(\n",
    "                    orders['group'] == 'B',\n",
    "                    np.logical_not(orders['visitorId'].isin(abnormalUsers)),\n",
    "                )\n",
    "            ]['revenue'],\n",
    "        )[1]\n",
    "    )\n",
    ")"
   ]
  },
  {
   "cell_type": "code",
   "execution_count": 35,
   "metadata": {},
   "outputs": [
    {
     "name": "stdout",
     "output_type": "stream",
     "text": [
      "Относительное различие среднего чека - 0.006\n"
     ]
    }
   ],
   "source": [
    "print('Относительное различие среднего чека -',\n",
    "    '{0:.3f}'.format(\n",
    "        \n",
    "            orders[\n",
    "                np.logical_and(\n",
    "                    orders['group'] == 'A',\n",
    "                    np.logical_not(orders['visitorId'].isin(abnormalUsers)),\n",
    "                )\n",
    "            ]['revenue'].mean() /\n",
    "            orders[\n",
    "                np.logical_and(\n",
    "                    orders['group'] == 'B',\n",
    "                    np.logical_not(orders['visitorId'].isin(abnormalUsers)),\n",
    "                )\n",
    "            ]['revenue'].mean()-1\n",
    "    )\n",
    ")"
   ]
  },
  {
   "cell_type": "markdown",
   "metadata": {},
   "source": [
    "Удаление аномальных пользователей не повлияло на результат. Cредний чек заказа в группе A статистически значимо не отличается от среднего чека заказа в группе B. Мы не отвергаем нулевую гипотезу, так как alpha > p_value."
   ]
  },
  {
   "cell_type": "markdown",
   "metadata": {},
   "source": [
    "# Решение по результатам теста"
   ]
  },
  {
   "cell_type": "markdown",
   "metadata": {},
   "source": [
    "- Существует статистически значимое различие между группами А и В как по \"сырым\" данным, так и по очищенным.\n",
    "- Статистически значимых различий в размере среднего чека не обнаружено ни в \"сырых\" данных, ни после фильтрации.\n",
    "- График кумулятивной конверсии показывает, что конверсия группы B и прирост конверсии группы В по отношению к А что по \"сырым\", что по очищенным данным показывают, что конверсия группы В выше.\n",
    "\n",
    "На основании этих выводов можно признать тест успешным и остановить его, зафиксировав победу группы В."
   ]
  },
  {
   "cell_type": "markdown",
   "metadata": {},
   "source": [
    "# Общий вывод:\n",
    "- Мы выгрузили необходимые библиотеки и загрузили датафреймы. Столбы в датафрейме hypothesis привели к нижнему регистру. Также столбцы с датами привели к типу datetime. Проверили на явные дубликаты и пропуски в данных.\n",
    "- При использовании разных фреймворков мы увидили разницу в приоритизации гипотез. Изменение приоритета произошло из-за добавления в оценку параметра, который оценивает количество затронутых изменением пользователей. Если рассмотреть гипотезу с акцией на день рождения, то влияние на пользователей действительно очень малое и локальное, что не дает высокого приоритета данной гипотезе при оценке RICE. Наибольший интерес вызывают гипотезы под номерами 7, 0 и 6 - они на высоких позициях в оценке RICE, а также характеризуются довольно высоким баллом при расчете ICE. Эти гипотезы входят в топ 4 в обоих случаях.\n",
    "- Существует статистически значимое различие между группами А и В как по \"сырым\" данным, так и по очищенным.\n",
    "- Статистически значимых различий в размере среднего чека не обнаружено ни в \"сырых\" данных, ни после фильтрации.\n",
    "- График кумулятивной конверсии показывает, что конверсия группы B и прирост конверсии группы В по отношению к А что по \"сырым\", что по очищенным данным показывают, что конверсия группы В выше.\n",
    "\n",
    "На основании данных мы признали тест успешным и остановили его, зафиксировав победу группы В."
   ]
  }
 ],
 "metadata": {
  "ExecuteTimeLog": [
   {
    "duration": 1351,
    "start_time": "2024-03-11T13:29:54.531Z"
   },
   {
    "duration": 4,
    "start_time": "2024-03-11T13:31:28.474Z"
   },
   {
    "duration": 193,
    "start_time": "2024-03-11T13:31:28.946Z"
   },
   {
    "duration": 17,
    "start_time": "2024-03-11T13:32:56.009Z"
   },
   {
    "duration": 11,
    "start_time": "2024-03-11T13:32:56.794Z"
   },
   {
    "duration": 12,
    "start_time": "2024-03-11T13:32:57.383Z"
   },
   {
    "duration": 11,
    "start_time": "2024-03-11T13:32:58.132Z"
   },
   {
    "duration": 13,
    "start_time": "2024-03-11T13:32:58.784Z"
   },
   {
    "duration": 9,
    "start_time": "2024-03-11T13:32:59.426Z"
   },
   {
    "duration": 3,
    "start_time": "2024-03-11T13:37:21.186Z"
   },
   {
    "duration": 6,
    "start_time": "2024-03-11T13:37:21.794Z"
   },
   {
    "duration": 8,
    "start_time": "2024-03-11T13:38:51.097Z"
   },
   {
    "duration": 6,
    "start_time": "2024-03-11T13:39:05.591Z"
   },
   {
    "duration": 7,
    "start_time": "2024-03-11T13:39:49.678Z"
   },
   {
    "duration": 6,
    "start_time": "2024-03-11T13:39:50.407Z"
   },
   {
    "duration": 6,
    "start_time": "2024-03-11T13:39:51.230Z"
   },
   {
    "duration": 6,
    "start_time": "2024-03-11T13:39:51.798Z"
   },
   {
    "duration": 6,
    "start_time": "2024-03-11T13:39:52.446Z"
   },
   {
    "duration": 5,
    "start_time": "2024-03-11T13:39:52.942Z"
   },
   {
    "duration": 2,
    "start_time": "2024-03-11T13:43:11.753Z"
   },
   {
    "duration": 73,
    "start_time": "2024-03-11T13:43:12.163Z"
   },
   {
    "duration": 10,
    "start_time": "2024-03-11T13:43:12.590Z"
   },
   {
    "duration": 8,
    "start_time": "2024-03-11T13:43:13.349Z"
   },
   {
    "duration": 11,
    "start_time": "2024-03-11T13:43:14.915Z"
   },
   {
    "duration": 9,
    "start_time": "2024-03-11T13:43:15.443Z"
   },
   {
    "duration": 9,
    "start_time": "2024-03-11T13:43:15.811Z"
   },
   {
    "duration": 7,
    "start_time": "2024-03-11T13:43:16.147Z"
   },
   {
    "duration": 5,
    "start_time": "2024-03-11T13:43:17.283Z"
   },
   {
    "duration": 5,
    "start_time": "2024-03-11T13:43:17.732Z"
   },
   {
    "duration": 5,
    "start_time": "2024-03-11T13:43:18.123Z"
   },
   {
    "duration": 6,
    "start_time": "2024-03-11T13:43:18.587Z"
   },
   {
    "duration": 6,
    "start_time": "2024-03-11T13:43:18.979Z"
   },
   {
    "duration": 7,
    "start_time": "2024-03-11T13:43:19.563Z"
   },
   {
    "duration": 3,
    "start_time": "2024-03-11T13:43:20.063Z"
   },
   {
    "duration": 5,
    "start_time": "2024-03-11T13:43:20.467Z"
   },
   {
    "duration": 1076,
    "start_time": "2024-03-11T13:46:32.502Z"
   },
   {
    "duration": 75,
    "start_time": "2024-03-11T13:46:33.580Z"
   },
   {
    "duration": 12,
    "start_time": "2024-03-11T13:46:33.990Z"
   },
   {
    "duration": 10,
    "start_time": "2024-03-11T13:46:34.407Z"
   },
   {
    "duration": 10,
    "start_time": "2024-03-11T13:46:34.958Z"
   },
   {
    "duration": 7,
    "start_time": "2024-03-11T13:46:35.439Z"
   },
   {
    "duration": 9,
    "start_time": "2024-03-11T13:46:35.926Z"
   },
   {
    "duration": 7,
    "start_time": "2024-03-11T13:46:36.418Z"
   },
   {
    "duration": 6,
    "start_time": "2024-03-11T13:46:37.590Z"
   },
   {
    "duration": 5,
    "start_time": "2024-03-11T13:46:38.030Z"
   },
   {
    "duration": 4,
    "start_time": "2024-03-11T13:46:38.433Z"
   },
   {
    "duration": 5,
    "start_time": "2024-03-11T13:46:38.892Z"
   },
   {
    "duration": 5,
    "start_time": "2024-03-11T13:46:39.327Z"
   },
   {
    "duration": 7,
    "start_time": "2024-03-11T13:46:39.720Z"
   },
   {
    "duration": 3,
    "start_time": "2024-03-11T13:46:40.150Z"
   },
   {
    "duration": 6,
    "start_time": "2024-03-11T13:46:40.542Z"
   },
   {
    "duration": 29,
    "start_time": "2024-03-11T14:02:16.628Z"
   },
   {
    "duration": 14,
    "start_time": "2024-03-11T14:03:15.980Z"
   },
   {
    "duration": 12,
    "start_time": "2024-03-11T14:03:20.850Z"
   },
   {
    "duration": 12,
    "start_time": "2024-03-11T14:03:24.164Z"
   },
   {
    "duration": 13,
    "start_time": "2024-03-11T14:05:02.850Z"
   },
   {
    "duration": 12,
    "start_time": "2024-03-11T14:05:10.835Z"
   },
   {
    "duration": 13,
    "start_time": "2024-03-11T14:05:18.355Z"
   },
   {
    "duration": 12,
    "start_time": "2024-03-11T14:05:24.747Z"
   },
   {
    "duration": 13,
    "start_time": "2024-03-11T14:05:30.399Z"
   },
   {
    "duration": 96,
    "start_time": "2024-03-11T14:05:34.522Z"
   },
   {
    "duration": 12,
    "start_time": "2024-03-11T14:05:38.417Z"
   },
   {
    "duration": 12,
    "start_time": "2024-03-11T14:05:59.936Z"
   },
   {
    "duration": 12,
    "start_time": "2024-03-11T14:06:05.048Z"
   },
   {
    "duration": 13,
    "start_time": "2024-03-11T14:06:09.440Z"
   },
   {
    "duration": 12,
    "start_time": "2024-03-11T14:06:18.449Z"
   },
   {
    "duration": 12,
    "start_time": "2024-03-11T14:06:23.233Z"
   },
   {
    "duration": 13,
    "start_time": "2024-03-11T14:06:48.783Z"
   },
   {
    "duration": 12,
    "start_time": "2024-03-11T14:06:51.399Z"
   },
   {
    "duration": 13,
    "start_time": "2024-03-11T14:07:15.910Z"
   },
   {
    "duration": 13,
    "start_time": "2024-03-11T14:07:22.542Z"
   },
   {
    "duration": 13,
    "start_time": "2024-03-11T14:19:18.202Z"
   },
   {
    "duration": 16,
    "start_time": "2024-03-11T14:19:21.225Z"
   },
   {
    "duration": 16,
    "start_time": "2024-03-11T14:21:39.583Z"
   },
   {
    "duration": 12,
    "start_time": "2024-03-11T14:21:40.678Z"
   },
   {
    "duration": 2,
    "start_time": "2024-03-11T14:23:09.093Z"
   },
   {
    "duration": 87,
    "start_time": "2024-03-11T14:23:09.357Z"
   },
   {
    "duration": 14,
    "start_time": "2024-03-11T14:23:09.622Z"
   },
   {
    "duration": 7,
    "start_time": "2024-03-11T14:23:09.885Z"
   },
   {
    "duration": 10,
    "start_time": "2024-03-11T14:23:10.140Z"
   },
   {
    "duration": 7,
    "start_time": "2024-03-11T14:23:10.373Z"
   },
   {
    "duration": 9,
    "start_time": "2024-03-11T14:23:10.597Z"
   },
   {
    "duration": 7,
    "start_time": "2024-03-11T14:23:10.844Z"
   },
   {
    "duration": 8,
    "start_time": "2024-03-11T14:23:11.721Z"
   },
   {
    "duration": 10,
    "start_time": "2024-03-11T14:23:11.732Z"
   },
   {
    "duration": 8,
    "start_time": "2024-03-11T14:23:11.925Z"
   },
   {
    "duration": 8,
    "start_time": "2024-03-11T14:23:12.151Z"
   },
   {
    "duration": 7,
    "start_time": "2024-03-11T14:23:12.349Z"
   },
   {
    "duration": 6,
    "start_time": "2024-03-11T14:23:12.587Z"
   },
   {
    "duration": 3,
    "start_time": "2024-03-11T14:23:12.821Z"
   },
   {
    "duration": 6,
    "start_time": "2024-03-11T14:23:13.045Z"
   },
   {
    "duration": 12,
    "start_time": "2024-03-11T14:23:14.046Z"
   },
   {
    "duration": 13,
    "start_time": "2024-03-11T14:23:14.805Z"
   },
   {
    "duration": 13,
    "start_time": "2024-03-11T14:44:23.438Z"
   },
   {
    "duration": 1969,
    "start_time": "2024-03-11T14:49:05.568Z"
   },
   {
    "duration": 488,
    "start_time": "2024-03-11T14:50:06.576Z"
   },
   {
    "duration": 36,
    "start_time": "2024-03-11T15:57:08.925Z"
   },
   {
    "duration": 524,
    "start_time": "2024-03-11T16:01:28.303Z"
   },
   {
    "duration": 511,
    "start_time": "2024-03-11T16:01:34.126Z"
   },
   {
    "duration": 476,
    "start_time": "2024-03-11T16:01:40.138Z"
   },
   {
    "duration": 537,
    "start_time": "2024-03-11T16:01:44.451Z"
   },
   {
    "duration": 502,
    "start_time": "2024-03-11T16:01:48.003Z"
   },
   {
    "duration": 506,
    "start_time": "2024-03-11T16:03:59.890Z"
   },
   {
    "duration": 473,
    "start_time": "2024-03-11T16:04:07.190Z"
   },
   {
    "duration": 491,
    "start_time": "2024-03-11T16:06:54.246Z"
   },
   {
    "duration": 459,
    "start_time": "2024-03-11T16:07:17.549Z"
   },
   {
    "duration": 481,
    "start_time": "2024-03-11T16:07:27.930Z"
   },
   {
    "duration": 182,
    "start_time": "2024-03-11T16:09:38.042Z"
   },
   {
    "duration": 307,
    "start_time": "2024-03-11T16:11:15.622Z"
   },
   {
    "duration": 273,
    "start_time": "2024-03-11T16:11:32.949Z"
   },
   {
    "duration": 191,
    "start_time": "2024-03-11T16:11:39.785Z"
   },
   {
    "duration": 1093,
    "start_time": "2024-03-11T16:12:41.471Z"
   },
   {
    "duration": 288,
    "start_time": "2024-03-11T16:13:17.942Z"
   },
   {
    "duration": 289,
    "start_time": "2024-03-11T16:14:30.068Z"
   },
   {
    "duration": 133,
    "start_time": "2024-03-11T16:14:50.588Z"
   },
   {
    "duration": 5,
    "start_time": "2024-03-11T16:15:13.914Z"
   },
   {
    "duration": 148,
    "start_time": "2024-03-11T16:15:27.519Z"
   },
   {
    "duration": 5,
    "start_time": "2024-03-11T16:15:52.265Z"
   },
   {
    "duration": 141,
    "start_time": "2024-03-11T16:15:54.501Z"
   },
   {
    "duration": 49,
    "start_time": "2024-03-11T18:26:11.512Z"
   },
   {
    "duration": 1411,
    "start_time": "2024-03-11T18:26:19.710Z"
   },
   {
    "duration": 195,
    "start_time": "2024-03-11T18:26:21.123Z"
   },
   {
    "duration": 14,
    "start_time": "2024-03-11T18:26:21.320Z"
   },
   {
    "duration": 15,
    "start_time": "2024-03-11T18:26:21.336Z"
   },
   {
    "duration": 10,
    "start_time": "2024-03-11T18:26:21.353Z"
   },
   {
    "duration": 15,
    "start_time": "2024-03-11T18:26:21.364Z"
   },
   {
    "duration": 14,
    "start_time": "2024-03-11T18:26:21.381Z"
   },
   {
    "duration": 19,
    "start_time": "2024-03-11T18:26:21.396Z"
   },
   {
    "duration": 5,
    "start_time": "2024-03-11T18:26:21.526Z"
   },
   {
    "duration": 6,
    "start_time": "2024-03-11T18:26:21.694Z"
   },
   {
    "duration": 5,
    "start_time": "2024-03-11T18:26:21.846Z"
   },
   {
    "duration": 6,
    "start_time": "2024-03-11T18:26:22.078Z"
   },
   {
    "duration": 8,
    "start_time": "2024-03-11T18:26:22.286Z"
   },
   {
    "duration": 6,
    "start_time": "2024-03-11T18:26:22.454Z"
   },
   {
    "duration": 4,
    "start_time": "2024-03-11T18:26:22.622Z"
   },
   {
    "duration": 6,
    "start_time": "2024-03-11T18:26:22.798Z"
   },
   {
    "duration": 15,
    "start_time": "2024-03-11T18:26:23.294Z"
   },
   {
    "duration": 14,
    "start_time": "2024-03-11T18:26:23.686Z"
   },
   {
    "duration": 623,
    "start_time": "2024-03-11T18:26:24.360Z"
   },
   {
    "duration": 220,
    "start_time": "2024-03-11T18:26:24.985Z"
   },
   {
    "duration": 375,
    "start_time": "2024-03-11T18:26:25.206Z"
   },
   {
    "duration": 255,
    "start_time": "2024-03-11T18:26:25.583Z"
   },
   {
    "duration": 340,
    "start_time": "2024-03-11T18:26:25.839Z"
   },
   {
    "duration": 183,
    "start_time": "2024-03-11T18:26:26.181Z"
   },
   {
    "duration": 5,
    "start_time": "2024-03-11T18:26:26.365Z"
   },
   {
    "duration": 179,
    "start_time": "2024-03-11T18:26:26.372Z"
   },
   {
    "duration": 5,
    "start_time": "2024-03-11T18:26:26.552Z"
   },
   {
    "duration": 64,
    "start_time": "2024-03-11T18:27:04.909Z"
   },
   {
    "duration": 9,
    "start_time": "2024-03-11T18:27:21.038Z"
   },
   {
    "duration": 129,
    "start_time": "2024-03-11T18:27:27.684Z"
   },
   {
    "duration": 12,
    "start_time": "2024-03-11T18:27:59.421Z"
   },
   {
    "duration": 204,
    "start_time": "2024-03-11T18:28:01.505Z"
   },
   {
    "duration": 157,
    "start_time": "2024-03-11T18:28:43.832Z"
   },
   {
    "duration": 164,
    "start_time": "2024-03-11T18:29:25.219Z"
   },
   {
    "duration": 6,
    "start_time": "2024-03-11T19:09:42.352Z"
   },
   {
    "duration": 1374,
    "start_time": "2024-03-12T11:47:05.683Z"
   },
   {
    "duration": 194,
    "start_time": "2024-03-12T11:47:07.059Z"
   },
   {
    "duration": 14,
    "start_time": "2024-03-12T11:47:07.734Z"
   },
   {
    "duration": 14,
    "start_time": "2024-03-12T11:47:08.358Z"
   },
   {
    "duration": 16,
    "start_time": "2024-03-12T11:47:08.891Z"
   },
   {
    "duration": 12,
    "start_time": "2024-03-12T11:47:09.433Z"
   },
   {
    "duration": 16,
    "start_time": "2024-03-12T11:47:10.039Z"
   },
   {
    "duration": 9,
    "start_time": "2024-03-12T11:47:10.567Z"
   },
   {
    "duration": 6,
    "start_time": "2024-03-12T11:47:12.207Z"
   },
   {
    "duration": 8,
    "start_time": "2024-03-12T11:47:12.801Z"
   },
   {
    "duration": 6,
    "start_time": "2024-03-12T11:47:13.567Z"
   },
   {
    "duration": 7,
    "start_time": "2024-03-12T11:47:14.009Z"
   },
   {
    "duration": 7,
    "start_time": "2024-03-12T11:47:14.410Z"
   },
   {
    "duration": 6,
    "start_time": "2024-03-12T11:47:14.823Z"
   },
   {
    "duration": 4,
    "start_time": "2024-03-12T11:47:15.343Z"
   },
   {
    "duration": 6,
    "start_time": "2024-03-12T11:47:15.832Z"
   },
   {
    "duration": 19,
    "start_time": "2024-03-12T11:47:17.414Z"
   },
   {
    "duration": 15,
    "start_time": "2024-03-12T11:47:19.678Z"
   },
   {
    "duration": 617,
    "start_time": "2024-03-12T11:47:22.336Z"
   },
   {
    "duration": 235,
    "start_time": "2024-03-12T11:47:23.837Z"
   },
   {
    "duration": 371,
    "start_time": "2024-03-12T11:47:25.289Z"
   },
   {
    "duration": 255,
    "start_time": "2024-03-12T11:47:26.656Z"
   },
   {
    "duration": 362,
    "start_time": "2024-03-12T11:47:27.814Z"
   },
   {
    "duration": 176,
    "start_time": "2024-03-12T11:47:28.862Z"
   },
   {
    "duration": 6,
    "start_time": "2024-03-12T11:47:29.949Z"
   },
   {
    "duration": 189,
    "start_time": "2024-03-12T11:47:30.417Z"
   },
   {
    "duration": 6,
    "start_time": "2024-03-12T11:47:31.609Z"
   },
   {
    "duration": 241,
    "start_time": "2024-03-12T11:50:40.629Z"
   },
   {
    "duration": 367,
    "start_time": "2024-03-12T12:18:32.084Z"
   },
   {
    "duration": 27,
    "start_time": "2024-03-12T12:19:32.409Z"
   },
   {
    "duration": 5,
    "start_time": "2024-03-12T12:19:32.967Z"
   },
   {
    "duration": 8,
    "start_time": "2024-03-12T12:20:47.326Z"
   },
   {
    "duration": 7,
    "start_time": "2024-03-12T12:20:48.086Z"
   },
   {
    "duration": 19,
    "start_time": "2024-03-12T12:23:00.493Z"
   },
   {
    "duration": 278,
    "start_time": "2024-03-12T12:24:02.161Z"
   },
   {
    "duration": 1660,
    "start_time": "2024-03-12T12:24:05.603Z"
   },
   {
    "duration": 16,
    "start_time": "2024-03-12T12:25:50.672Z"
   },
   {
    "duration": 10,
    "start_time": "2024-03-12T12:26:15.640Z"
   },
   {
    "duration": 1662,
    "start_time": "2024-03-12T12:27:09.519Z"
   },
   {
    "duration": 1597,
    "start_time": "2024-03-12T12:27:46.118Z"
   },
   {
    "duration": 172,
    "start_time": "2024-03-12T12:27:55.677Z"
   },
   {
    "duration": 1612,
    "start_time": "2024-03-12T12:27:58.524Z"
   },
   {
    "duration": 170,
    "start_time": "2024-03-12T12:29:24.066Z"
   },
   {
    "duration": 7,
    "start_time": "2024-03-12T12:29:26.562Z"
   },
   {
    "duration": 186,
    "start_time": "2024-03-12T12:29:28.749Z"
   },
   {
    "duration": 5,
    "start_time": "2024-03-12T12:29:29.757Z"
   },
   {
    "duration": 369,
    "start_time": "2024-03-12T12:29:30.181Z"
   },
   {
    "duration": 26,
    "start_time": "2024-03-12T12:29:30.821Z"
   },
   {
    "duration": 5,
    "start_time": "2024-03-12T12:29:31.242Z"
   },
   {
    "duration": 13,
    "start_time": "2024-03-12T12:29:31.695Z"
   },
   {
    "duration": 9,
    "start_time": "2024-03-12T12:29:32.131Z"
   },
   {
    "duration": 13,
    "start_time": "2024-03-12T12:29:32.627Z"
   },
   {
    "duration": 8,
    "start_time": "2024-03-12T12:31:53.736Z"
   },
   {
    "duration": 8,
    "start_time": "2024-03-12T12:32:22.308Z"
   },
   {
    "duration": 24,
    "start_time": "2024-03-12T12:32:34.030Z"
   },
   {
    "duration": 16,
    "start_time": "2024-03-12T12:32:42.085Z"
   },
   {
    "duration": 9,
    "start_time": "2024-03-12T12:35:08.925Z"
   },
   {
    "duration": 7,
    "start_time": "2024-03-12T12:35:19.956Z"
   },
   {
    "duration": 4,
    "start_time": "2024-03-12T12:57:54.645Z"
   },
   {
    "duration": 340,
    "start_time": "2024-03-12T12:58:11.643Z"
   },
   {
    "duration": 26,
    "start_time": "2024-03-12T12:58:18.339Z"
   },
   {
    "duration": 8,
    "start_time": "2024-03-12T12:58:22.787Z"
   },
   {
    "duration": 13,
    "start_time": "2024-03-12T13:01:53.025Z"
   },
   {
    "duration": 410,
    "start_time": "2024-03-12T13:04:48.207Z"
   },
   {
    "duration": 38,
    "start_time": "2024-03-12T13:04:48.878Z"
   },
   {
    "duration": 4,
    "start_time": "2024-03-12T13:04:49.340Z"
   },
   {
    "duration": 11,
    "start_time": "2024-03-12T13:04:49.724Z"
   },
   {
    "duration": 8,
    "start_time": "2024-03-12T13:04:50.126Z"
   },
   {
    "duration": 22,
    "start_time": "2024-03-12T13:04:50.582Z"
   },
   {
    "duration": 14,
    "start_time": "2024-03-12T13:04:51.086Z"
   },
   {
    "duration": 25,
    "start_time": "2024-03-12T13:04:51.652Z"
   },
   {
    "duration": 5,
    "start_time": "2024-03-12T13:04:52.180Z"
   },
   {
    "duration": 10,
    "start_time": "2024-03-12T13:04:52.668Z"
   },
   {
    "duration": 8,
    "start_time": "2024-03-12T13:04:53.165Z"
   },
   {
    "duration": 20,
    "start_time": "2024-03-12T13:38:10.992Z"
   },
   {
    "duration": 15,
    "start_time": "2024-03-12T13:38:21.109Z"
   },
   {
    "duration": 26,
    "start_time": "2024-03-12T13:52:07.549Z"
   },
   {
    "duration": 15,
    "start_time": "2024-03-12T13:53:58.331Z"
   },
   {
    "duration": 10,
    "start_time": "2024-03-12T13:56:34.072Z"
   },
   {
    "duration": 26,
    "start_time": "2024-03-12T13:58:19.574Z"
   },
   {
    "duration": 11,
    "start_time": "2024-03-12T13:59:34.269Z"
   },
   {
    "duration": 9,
    "start_time": "2024-03-12T13:59:34.775Z"
   },
   {
    "duration": 1111,
    "start_time": "2024-03-12T14:08:08.850Z"
   },
   {
    "duration": 75,
    "start_time": "2024-03-12T14:08:10.882Z"
   },
   {
    "duration": 17,
    "start_time": "2024-03-12T14:08:11.852Z"
   },
   {
    "duration": 10,
    "start_time": "2024-03-12T14:08:12.338Z"
   },
   {
    "duration": 9,
    "start_time": "2024-03-12T14:08:12.874Z"
   },
   {
    "duration": 7,
    "start_time": "2024-03-12T14:08:13.394Z"
   },
   {
    "duration": 10,
    "start_time": "2024-03-12T14:08:14.130Z"
   },
   {
    "duration": 7,
    "start_time": "2024-03-12T14:08:14.794Z"
   },
   {
    "duration": 6,
    "start_time": "2024-03-12T14:08:16.178Z"
   },
   {
    "duration": 6,
    "start_time": "2024-03-12T14:08:16.562Z"
   },
   {
    "duration": 6,
    "start_time": "2024-03-12T14:08:16.909Z"
   },
   {
    "duration": 6,
    "start_time": "2024-03-12T14:08:17.274Z"
   },
   {
    "duration": 6,
    "start_time": "2024-03-12T14:08:17.650Z"
   },
   {
    "duration": 6,
    "start_time": "2024-03-12T14:08:18.034Z"
   },
   {
    "duration": 3,
    "start_time": "2024-03-12T14:08:18.658Z"
   },
   {
    "duration": 6,
    "start_time": "2024-03-12T14:08:19.058Z"
   },
   {
    "duration": 19,
    "start_time": "2024-03-12T14:08:21.012Z"
   },
   {
    "duration": 12,
    "start_time": "2024-03-12T14:08:22.555Z"
   },
   {
    "duration": 538,
    "start_time": "2024-03-12T14:08:25.320Z"
   },
   {
    "duration": 195,
    "start_time": "2024-03-12T14:08:28.331Z"
   },
   {
    "duration": 299,
    "start_time": "2024-03-12T14:08:30.114Z"
   },
   {
    "duration": 220,
    "start_time": "2024-03-12T14:08:31.532Z"
   },
   {
    "duration": 325,
    "start_time": "2024-03-12T14:08:33.202Z"
   },
   {
    "duration": 99,
    "start_time": "2024-03-12T14:08:34.706Z"
   },
   {
    "duration": 16,
    "start_time": "2024-03-12T14:08:45.635Z"
   },
   {
    "duration": 158,
    "start_time": "2024-03-12T14:08:50.163Z"
   },
   {
    "duration": 5,
    "start_time": "2024-03-12T14:08:53.321Z"
   },
   {
    "duration": 161,
    "start_time": "2024-03-12T14:08:54.634Z"
   },
   {
    "duration": 4,
    "start_time": "2024-03-12T14:08:57.257Z"
   },
   {
    "duration": 398,
    "start_time": "2024-03-12T14:08:58.319Z"
   },
   {
    "duration": 27,
    "start_time": "2024-03-12T14:09:00.081Z"
   },
   {
    "duration": 11,
    "start_time": "2024-03-12T14:09:02.025Z"
   },
   {
    "duration": 11,
    "start_time": "2024-03-12T14:09:08.081Z"
   },
   {
    "duration": 8,
    "start_time": "2024-03-12T14:09:08.762Z"
   },
   {
    "duration": 25,
    "start_time": "2024-03-12T14:09:10.331Z"
   },
   {
    "duration": 9,
    "start_time": "2024-03-12T14:09:11.825Z"
   },
   {
    "duration": 9,
    "start_time": "2024-03-12T14:09:12.561Z"
   },
   {
    "duration": 8,
    "start_time": "2024-03-12T14:12:16.679Z"
   },
   {
    "duration": 1107,
    "start_time": "2024-03-12T14:35:59.555Z"
   },
   {
    "duration": 75,
    "start_time": "2024-03-12T14:36:00.664Z"
   },
   {
    "duration": 13,
    "start_time": "2024-03-12T14:36:00.740Z"
   },
   {
    "duration": 44,
    "start_time": "2024-03-12T14:36:00.793Z"
   },
   {
    "duration": 12,
    "start_time": "2024-03-12T14:36:01.220Z"
   },
   {
    "duration": 8,
    "start_time": "2024-03-12T14:36:01.620Z"
   },
   {
    "duration": 10,
    "start_time": "2024-03-12T14:36:02.019Z"
   },
   {
    "duration": 7,
    "start_time": "2024-03-12T14:36:02.412Z"
   },
   {
    "duration": 5,
    "start_time": "2024-03-12T14:36:03.651Z"
   },
   {
    "duration": 6,
    "start_time": "2024-03-12T14:36:04.027Z"
   },
   {
    "duration": 6,
    "start_time": "2024-03-12T14:36:04.395Z"
   },
   {
    "duration": 6,
    "start_time": "2024-03-12T14:36:04.758Z"
   },
   {
    "duration": 6,
    "start_time": "2024-03-12T14:36:05.139Z"
   },
   {
    "duration": 6,
    "start_time": "2024-03-12T14:36:05.523Z"
   },
   {
    "duration": 4,
    "start_time": "2024-03-12T14:36:05.923Z"
   },
   {
    "duration": 5,
    "start_time": "2024-03-12T14:36:06.346Z"
   },
   {
    "duration": 13,
    "start_time": "2024-03-12T14:36:07.561Z"
   },
   {
    "duration": 15,
    "start_time": "2024-03-12T14:36:08.483Z"
   },
   {
    "duration": 532,
    "start_time": "2024-03-12T14:36:11.493Z"
   },
   {
    "duration": 195,
    "start_time": "2024-03-12T14:36:12.929Z"
   },
   {
    "duration": 311,
    "start_time": "2024-03-12T14:36:14.298Z"
   },
   {
    "duration": 210,
    "start_time": "2024-03-12T14:36:15.266Z"
   },
   {
    "duration": 349,
    "start_time": "2024-03-12T14:36:16.258Z"
   },
   {
    "duration": 167,
    "start_time": "2024-03-12T14:36:17.194Z"
   },
   {
    "duration": 5,
    "start_time": "2024-03-12T14:36:18.357Z"
   },
   {
    "duration": 167,
    "start_time": "2024-03-12T14:36:19.353Z"
   },
   {
    "duration": 5,
    "start_time": "2024-03-12T14:36:20.401Z"
   },
   {
    "duration": 339,
    "start_time": "2024-03-12T14:36:21.525Z"
   },
   {
    "duration": 26,
    "start_time": "2024-03-12T14:36:23.058Z"
   },
   {
    "duration": 10,
    "start_time": "2024-03-12T14:36:24.570Z"
   },
   {
    "duration": 10,
    "start_time": "2024-03-12T14:36:26.476Z"
   },
   {
    "duration": 8,
    "start_time": "2024-03-12T14:36:26.762Z"
   },
   {
    "duration": 24,
    "start_time": "2024-03-12T14:36:28.236Z"
   },
   {
    "duration": 9,
    "start_time": "2024-03-12T14:36:29.931Z"
   },
   {
    "duration": 8,
    "start_time": "2024-03-12T14:36:33.050Z"
   },
   {
    "duration": 1018,
    "start_time": "2024-03-12T14:38:51.928Z"
   },
   {
    "duration": 74,
    "start_time": "2024-03-12T14:38:52.948Z"
   },
   {
    "duration": 12,
    "start_time": "2024-03-12T14:38:53.024Z"
   },
   {
    "duration": 20,
    "start_time": "2024-03-12T14:38:53.038Z"
   },
   {
    "duration": 18,
    "start_time": "2024-03-12T14:38:53.060Z"
   },
   {
    "duration": 15,
    "start_time": "2024-03-12T14:38:53.080Z"
   },
   {
    "duration": 11,
    "start_time": "2024-03-12T14:38:53.097Z"
   },
   {
    "duration": 7,
    "start_time": "2024-03-12T14:38:53.168Z"
   },
   {
    "duration": 5,
    "start_time": "2024-03-12T14:38:53.728Z"
   },
   {
    "duration": 6,
    "start_time": "2024-03-12T14:38:53.912Z"
   },
   {
    "duration": 5,
    "start_time": "2024-03-12T14:38:54.104Z"
   },
   {
    "duration": 5,
    "start_time": "2024-03-12T14:38:54.280Z"
   },
   {
    "duration": 6,
    "start_time": "2024-03-12T14:38:54.464Z"
   },
   {
    "duration": 5,
    "start_time": "2024-03-12T14:38:54.616Z"
   },
   {
    "duration": 3,
    "start_time": "2024-03-12T14:38:54.816Z"
   },
   {
    "duration": 6,
    "start_time": "2024-03-12T14:38:55.214Z"
   },
   {
    "duration": 14,
    "start_time": "2024-03-12T14:38:55.488Z"
   },
   {
    "duration": 13,
    "start_time": "2024-03-12T14:38:55.832Z"
   },
   {
    "duration": 567,
    "start_time": "2024-03-12T14:38:56.519Z"
   },
   {
    "duration": 224,
    "start_time": "2024-03-12T14:38:57.088Z"
   },
   {
    "duration": 304,
    "start_time": "2024-03-12T14:38:57.313Z"
   },
   {
    "duration": 234,
    "start_time": "2024-03-12T14:38:57.619Z"
   },
   {
    "duration": 377,
    "start_time": "2024-03-12T14:38:57.855Z"
   },
   {
    "duration": 167,
    "start_time": "2024-03-12T14:38:58.234Z"
   },
   {
    "duration": 5,
    "start_time": "2024-03-12T14:38:58.488Z"
   },
   {
    "duration": 165,
    "start_time": "2024-03-12T14:38:58.830Z"
   },
   {
    "duration": 5,
    "start_time": "2024-03-12T14:38:59.152Z"
   },
   {
    "duration": 329,
    "start_time": "2024-03-12T14:38:59.502Z"
   },
   {
    "duration": 25,
    "start_time": "2024-03-12T14:38:59.833Z"
   },
   {
    "duration": 10,
    "start_time": "2024-03-12T14:39:00.342Z"
   },
   {
    "duration": 10,
    "start_time": "2024-03-12T14:39:00.687Z"
   },
   {
    "duration": 8,
    "start_time": "2024-03-12T14:39:00.879Z"
   },
   {
    "duration": 27,
    "start_time": "2024-03-12T14:39:01.198Z"
   },
   {
    "duration": 9,
    "start_time": "2024-03-12T14:39:01.713Z"
   },
   {
    "duration": 7,
    "start_time": "2024-03-12T14:39:01.873Z"
   },
   {
    "duration": 1385,
    "start_time": "2024-03-12T14:44:23.698Z"
   },
   {
    "duration": 187,
    "start_time": "2024-03-12T14:44:25.085Z"
   },
   {
    "duration": 13,
    "start_time": "2024-03-12T14:44:25.274Z"
   },
   {
    "duration": 14,
    "start_time": "2024-03-12T14:44:25.289Z"
   },
   {
    "duration": 17,
    "start_time": "2024-03-12T14:44:25.305Z"
   },
   {
    "duration": 12,
    "start_time": "2024-03-12T14:44:25.324Z"
   },
   {
    "duration": 17,
    "start_time": "2024-03-12T14:44:25.338Z"
   },
   {
    "duration": 27,
    "start_time": "2024-03-12T14:44:25.357Z"
   },
   {
    "duration": 20,
    "start_time": "2024-03-12T14:44:25.386Z"
   },
   {
    "duration": 10,
    "start_time": "2024-03-12T14:44:25.409Z"
   },
   {
    "duration": 6,
    "start_time": "2024-03-12T14:44:25.421Z"
   },
   {
    "duration": 9,
    "start_time": "2024-03-12T14:44:25.428Z"
   },
   {
    "duration": 15,
    "start_time": "2024-03-12T14:44:25.439Z"
   },
   {
    "duration": 6,
    "start_time": "2024-03-12T14:44:25.457Z"
   },
   {
    "duration": 20,
    "start_time": "2024-03-12T14:44:25.464Z"
   },
   {
    "duration": 8,
    "start_time": "2024-03-12T14:44:25.486Z"
   },
   {
    "duration": 15,
    "start_time": "2024-03-12T14:44:25.496Z"
   },
   {
    "duration": 15,
    "start_time": "2024-03-12T14:44:25.513Z"
   },
   {
    "duration": 666,
    "start_time": "2024-03-12T14:44:25.530Z"
   },
   {
    "duration": 243,
    "start_time": "2024-03-12T14:44:26.198Z"
   },
   {
    "duration": 402,
    "start_time": "2024-03-12T14:44:26.443Z"
   },
   {
    "duration": 258,
    "start_time": "2024-03-12T14:44:26.847Z"
   },
   {
    "duration": 344,
    "start_time": "2024-03-12T14:44:27.108Z"
   },
   {
    "duration": 185,
    "start_time": "2024-03-12T14:44:27.453Z"
   },
   {
    "duration": 5,
    "start_time": "2024-03-12T14:44:27.640Z"
   },
   {
    "duration": 196,
    "start_time": "2024-03-12T14:44:27.647Z"
   },
   {
    "duration": 6,
    "start_time": "2024-03-12T14:44:27.845Z"
   },
   {
    "duration": 397,
    "start_time": "2024-03-12T14:44:27.853Z"
   },
   {
    "duration": 41,
    "start_time": "2024-03-12T14:44:28.252Z"
   },
   {
    "duration": 16,
    "start_time": "2024-03-12T14:44:28.295Z"
   },
   {
    "duration": 10,
    "start_time": "2024-03-12T14:44:28.313Z"
   },
   {
    "duration": 9,
    "start_time": "2024-03-12T14:44:28.325Z"
   },
   {
    "duration": 60,
    "start_time": "2024-03-12T14:44:28.336Z"
   },
   {
    "duration": 15,
    "start_time": "2024-03-12T14:44:28.397Z"
   },
   {
    "duration": 12,
    "start_time": "2024-03-12T14:44:28.414Z"
   },
   {
    "duration": 322,
    "start_time": "2024-03-12T15:29:52.618Z"
   },
   {
    "duration": 1079,
    "start_time": "2024-03-12T15:51:48.670Z"
   },
   {
    "duration": 75,
    "start_time": "2024-03-12T15:51:49.751Z"
   },
   {
    "duration": 11,
    "start_time": "2024-03-12T15:51:49.827Z"
   },
   {
    "duration": 11,
    "start_time": "2024-03-12T15:51:49.992Z"
   },
   {
    "duration": 10,
    "start_time": "2024-03-12T15:51:50.358Z"
   },
   {
    "duration": 8,
    "start_time": "2024-03-12T15:51:50.720Z"
   },
   {
    "duration": 10,
    "start_time": "2024-03-12T15:51:51.085Z"
   },
   {
    "duration": 7,
    "start_time": "2024-03-12T15:51:51.454Z"
   },
   {
    "duration": 5,
    "start_time": "2024-03-12T15:51:52.822Z"
   },
   {
    "duration": 6,
    "start_time": "2024-03-12T15:51:53.201Z"
   },
   {
    "duration": 5,
    "start_time": "2024-03-12T15:51:53.534Z"
   },
   {
    "duration": 6,
    "start_time": "2024-03-12T15:51:53.862Z"
   },
   {
    "duration": 6,
    "start_time": "2024-03-12T15:51:54.206Z"
   },
   {
    "duration": 5,
    "start_time": "2024-03-12T15:51:54.518Z"
   },
   {
    "duration": 3,
    "start_time": "2024-03-12T15:51:55.166Z"
   },
   {
    "duration": 5,
    "start_time": "2024-03-12T15:51:55.510Z"
   },
   {
    "duration": 14,
    "start_time": "2024-03-12T15:51:56.804Z"
   },
   {
    "duration": 12,
    "start_time": "2024-03-12T15:51:57.742Z"
   },
   {
    "duration": 549,
    "start_time": "2024-03-12T15:51:59.360Z"
   },
   {
    "duration": 208,
    "start_time": "2024-03-12T15:52:00.294Z"
   },
   {
    "duration": 281,
    "start_time": "2024-03-12T15:52:01.447Z"
   },
   {
    "duration": 224,
    "start_time": "2024-03-12T15:52:02.576Z"
   },
   {
    "duration": 312,
    "start_time": "2024-03-12T15:52:09.047Z"
   },
   {
    "duration": 157,
    "start_time": "2024-03-12T15:52:10.633Z"
   },
   {
    "duration": 4,
    "start_time": "2024-03-12T15:52:11.979Z"
   },
   {
    "duration": 165,
    "start_time": "2024-03-12T15:52:14.521Z"
   },
   {
    "duration": 5,
    "start_time": "2024-03-12T15:52:16.167Z"
   },
   {
    "duration": 348,
    "start_time": "2024-03-12T15:52:17.343Z"
   },
   {
    "duration": 27,
    "start_time": "2024-03-12T15:52:26.175Z"
   },
   {
    "duration": 10,
    "start_time": "2024-03-12T15:52:28.039Z"
   },
   {
    "duration": 11,
    "start_time": "2024-03-12T15:52:28.966Z"
   },
   {
    "duration": 7,
    "start_time": "2024-03-12T15:52:29.519Z"
   },
   {
    "duration": 27,
    "start_time": "2024-03-12T15:52:30.085Z"
   },
   {
    "duration": 13,
    "start_time": "2024-03-12T15:52:31.302Z"
   },
   {
    "duration": 9,
    "start_time": "2024-03-12T15:52:31.622Z"
   },
   {
    "duration": 1409,
    "start_time": "2024-03-12T16:15:17.048Z"
   },
   {
    "duration": 207,
    "start_time": "2024-03-12T16:15:18.460Z"
   },
   {
    "duration": 14,
    "start_time": "2024-03-12T16:15:18.669Z"
   },
   {
    "duration": 34,
    "start_time": "2024-03-12T16:15:18.685Z"
   },
   {
    "duration": 11,
    "start_time": "2024-03-12T16:15:18.722Z"
   },
   {
    "duration": 12,
    "start_time": "2024-03-12T16:15:18.735Z"
   },
   {
    "duration": 39,
    "start_time": "2024-03-12T16:15:18.748Z"
   },
   {
    "duration": 25,
    "start_time": "2024-03-12T16:15:18.788Z"
   },
   {
    "duration": 34,
    "start_time": "2024-03-12T16:15:18.815Z"
   },
   {
    "duration": 40,
    "start_time": "2024-03-12T16:15:18.851Z"
   },
   {
    "duration": 26,
    "start_time": "2024-03-12T16:15:18.893Z"
   },
   {
    "duration": 15,
    "start_time": "2024-03-12T16:15:18.920Z"
   },
   {
    "duration": 20,
    "start_time": "2024-03-12T16:15:18.937Z"
   },
   {
    "duration": 62,
    "start_time": "2024-03-12T16:15:18.961Z"
   },
   {
    "duration": 52,
    "start_time": "2024-03-12T16:15:19.025Z"
   },
   {
    "duration": 42,
    "start_time": "2024-03-12T16:15:19.079Z"
   },
   {
    "duration": 18,
    "start_time": "2024-03-12T16:15:19.122Z"
   },
   {
    "duration": 14,
    "start_time": "2024-03-12T16:15:19.142Z"
   },
   {
    "duration": 661,
    "start_time": "2024-03-12T16:15:19.157Z"
   },
   {
    "duration": 257,
    "start_time": "2024-03-12T16:15:19.821Z"
   },
   {
    "duration": 397,
    "start_time": "2024-03-12T16:15:20.080Z"
   },
   {
    "duration": 287,
    "start_time": "2024-03-12T16:15:20.479Z"
   },
   {
    "duration": 403,
    "start_time": "2024-03-12T16:15:20.768Z"
   },
   {
    "duration": 217,
    "start_time": "2024-03-12T16:15:21.173Z"
   },
   {
    "duration": 12,
    "start_time": "2024-03-12T16:15:21.394Z"
   },
   {
    "duration": 216,
    "start_time": "2024-03-12T16:15:21.410Z"
   },
   {
    "duration": 5,
    "start_time": "2024-03-12T16:15:21.628Z"
   },
   {
    "duration": 502,
    "start_time": "2024-03-12T16:15:21.635Z"
   },
   {
    "duration": 29,
    "start_time": "2024-03-12T16:15:22.139Z"
   },
   {
    "duration": 27,
    "start_time": "2024-03-12T16:15:22.170Z"
   },
   {
    "duration": 15,
    "start_time": "2024-03-12T16:15:22.199Z"
   },
   {
    "duration": 22,
    "start_time": "2024-03-12T16:15:22.216Z"
   },
   {
    "duration": 37,
    "start_time": "2024-03-12T16:15:22.240Z"
   },
   {
    "duration": 23,
    "start_time": "2024-03-12T16:15:22.278Z"
   },
   {
    "duration": 10,
    "start_time": "2024-03-12T16:15:22.308Z"
   },
   {
    "duration": 1166,
    "start_time": "2024-09-01T14:36:29.931Z"
   },
   {
    "duration": 229,
    "start_time": "2024-09-01T14:36:31.100Z"
   },
   {
    "duration": 17,
    "start_time": "2024-09-01T14:36:31.331Z"
   },
   {
    "duration": 18,
    "start_time": "2024-09-01T14:36:31.351Z"
   },
   {
    "duration": 11,
    "start_time": "2024-09-01T14:36:31.483Z"
   },
   {
    "duration": 12,
    "start_time": "2024-09-01T14:36:31.876Z"
   },
   {
    "duration": 12,
    "start_time": "2024-09-01T14:36:32.195Z"
   },
   {
    "duration": 8,
    "start_time": "2024-09-01T14:36:32.403Z"
   },
   {
    "duration": 5,
    "start_time": "2024-09-01T14:36:32.995Z"
   },
   {
    "duration": 6,
    "start_time": "2024-09-01T14:36:33.179Z"
   },
   {
    "duration": 6,
    "start_time": "2024-09-01T14:36:33.364Z"
   },
   {
    "duration": 7,
    "start_time": "2024-09-01T14:36:33.539Z"
   },
   {
    "duration": 7,
    "start_time": "2024-09-01T14:36:33.715Z"
   },
   {
    "duration": 6,
    "start_time": "2024-09-01T14:36:33.910Z"
   },
   {
    "duration": 3,
    "start_time": "2024-09-01T14:36:34.124Z"
   },
   {
    "duration": 6,
    "start_time": "2024-09-01T14:36:34.292Z"
   },
   {
    "duration": 14,
    "start_time": "2024-09-01T14:36:34.820Z"
   },
   {
    "duration": 18,
    "start_time": "2024-09-01T14:36:35.212Z"
   },
   {
    "duration": 629,
    "start_time": "2024-09-01T14:36:35.885Z"
   },
   {
    "duration": 238,
    "start_time": "2024-09-01T14:36:36.516Z"
   },
   {
    "duration": 311,
    "start_time": "2024-09-01T14:36:36.756Z"
   },
   {
    "duration": 262,
    "start_time": "2024-09-01T14:36:37.069Z"
   },
   {
    "duration": 344,
    "start_time": "2024-09-01T14:36:37.333Z"
   },
   {
    "duration": 179,
    "start_time": "2024-09-01T14:36:37.678Z"
   },
   {
    "duration": 5,
    "start_time": "2024-09-01T14:36:37.928Z"
   },
   {
    "duration": 181,
    "start_time": "2024-09-01T14:36:38.268Z"
   },
   {
    "duration": 5,
    "start_time": "2024-09-01T14:36:38.580Z"
   },
   {
    "duration": 341,
    "start_time": "2024-09-01T14:36:38.871Z"
   },
   {
    "duration": 28,
    "start_time": "2024-09-01T14:36:39.215Z"
   },
   {
    "duration": 10,
    "start_time": "2024-09-01T14:36:40.042Z"
   },
   {
    "duration": 11,
    "start_time": "2024-09-01T14:36:40.731Z"
   },
   {
    "duration": 12,
    "start_time": "2024-09-01T14:36:41.019Z"
   },
   {
    "duration": 48,
    "start_time": "2024-09-01T14:36:41.698Z"
   },
   {
    "duration": 14,
    "start_time": "2024-09-01T14:36:42.467Z"
   },
   {
    "duration": 11,
    "start_time": "2024-09-01T14:36:42.836Z"
   }
  ],
  "kernelspec": {
   "display_name": "Python 3 (ipykernel)",
   "language": "python",
   "name": "python3"
  },
  "language_info": {
   "codemirror_mode": {
    "name": "ipython",
    "version": 3
   },
   "file_extension": ".py",
   "mimetype": "text/x-python",
   "name": "python",
   "nbconvert_exporter": "python",
   "pygments_lexer": "ipython3",
   "version": "3.9.5"
  },
  "toc": {
   "base_numbering": 1,
   "nav_menu": {},
   "number_sections": true,
   "sideBar": true,
   "skip_h1_title": true,
   "title_cell": "Table of Contents",
   "title_sidebar": "Contents",
   "toc_cell": false,
   "toc_position": {},
   "toc_section_display": true,
   "toc_window_display": false
  }
 },
 "nbformat": 4,
 "nbformat_minor": 2
}
