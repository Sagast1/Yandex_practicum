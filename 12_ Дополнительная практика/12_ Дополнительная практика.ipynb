{
 "cells": [
  {
   "cell_type": "markdown",
   "metadata": {},
   "source": [
    "# Анализ данных продажи компьютерных игр"
   ]
  },
  {
   "cell_type": "markdown",
   "metadata": {},
   "source": [
    "# Описание данных\n",
    "- Name — название игры;\n",
    "- Platform — платформа;\n",
    "- Year_of_Release — год выпуска;\n",
    "- Genre — жанр игры;\n",
    "- NA_sales — продажи в Северной Америке (миллионы проданных копий);\n",
    "- EU_sales — продажи в Европе (миллионы проданных копий);\n",
    "- JP_sales — продажи в Японии (миллионы проданных копий);\n",
    "- Other_sales — продажи в других странах (миллионы проданных копий);\n",
    "- Critic_Score — оценка критиков (максимум 100);\n",
    "- User_Score — оценка пользователей (максимум 10);\n",
    "- Rating — рейтинг от организации ESRB (англ. Entertainment Software Rating Board). Эта ассоциация определяет рейтинг компьютерных игр и присваивает им подходящую возрастную категорию.\n",
    "\n",
    "Данные за 2016 год могут быть неполными."
   ]
  },
  {
   "cell_type": "markdown",
   "metadata": {},
   "source": [
    "# Цель работы\n",
    "Выявить определяющие успешность игры закономерности."
   ]
  },
  {
   "cell_type": "markdown",
   "metadata": {},
   "source": [
    "# План\n",
    "- Шаг 1. Открыть файл с данными и изучить общую информацию\n",
    "- Шаг 2. Подготовить данные к анализу\n",
    "- Шаг 3. Провести исследовательский анализ данных\n",
    "- Шаг 4. Составить портрет пользователя каждого региона\n",
    "- Шаг 5. Проверить гипотезы\n",
    "- Шаг 6. Написать общий вывод"
   ]
  },
  {
   "cell_type": "markdown",
   "metadata": {},
   "source": [
    "# Шаг 1. Открыть файл с данными и изучить общую информацию"
   ]
  },
  {
   "cell_type": "code",
   "execution_count": 1,
   "metadata": {},
   "outputs": [],
   "source": [
    "import pandas as pd\n",
    "import matplotlib.pyplot as plt\n",
    "import numpy as np\n",
    "from scipy import stats as st\n",
    "import seaborn as sns\n",
    "import warnings"
   ]
  },
  {
   "cell_type": "code",
   "execution_count": 2,
   "metadata": {},
   "outputs": [
    {
     "data": {
      "text/html": [
       "<div>\n",
       "<style scoped>\n",
       "    .dataframe tbody tr th:only-of-type {\n",
       "        vertical-align: middle;\n",
       "    }\n",
       "\n",
       "    .dataframe tbody tr th {\n",
       "        vertical-align: top;\n",
       "    }\n",
       "\n",
       "    .dataframe thead th {\n",
       "        text-align: right;\n",
       "    }\n",
       "</style>\n",
       "<table border=\"1\" class=\"dataframe\">\n",
       "  <thead>\n",
       "    <tr style=\"text-align: right;\">\n",
       "      <th></th>\n",
       "      <th>Name</th>\n",
       "      <th>Platform</th>\n",
       "      <th>Year_of_Release</th>\n",
       "      <th>Genre</th>\n",
       "      <th>NA_sales</th>\n",
       "      <th>EU_sales</th>\n",
       "      <th>JP_sales</th>\n",
       "      <th>Other_sales</th>\n",
       "      <th>Critic_Score</th>\n",
       "      <th>User_Score</th>\n",
       "      <th>Rating</th>\n",
       "    </tr>\n",
       "  </thead>\n",
       "  <tbody>\n",
       "    <tr>\n",
       "      <th>0</th>\n",
       "      <td>Wii Sports</td>\n",
       "      <td>Wii</td>\n",
       "      <td>2006.0</td>\n",
       "      <td>Sports</td>\n",
       "      <td>41.36</td>\n",
       "      <td>28.96</td>\n",
       "      <td>3.77</td>\n",
       "      <td>8.45</td>\n",
       "      <td>76.0</td>\n",
       "      <td>8</td>\n",
       "      <td>E</td>\n",
       "    </tr>\n",
       "    <tr>\n",
       "      <th>1</th>\n",
       "      <td>Super Mario Bros.</td>\n",
       "      <td>NES</td>\n",
       "      <td>1985.0</td>\n",
       "      <td>Platform</td>\n",
       "      <td>29.08</td>\n",
       "      <td>3.58</td>\n",
       "      <td>6.81</td>\n",
       "      <td>0.77</td>\n",
       "      <td>NaN</td>\n",
       "      <td>NaN</td>\n",
       "      <td>NaN</td>\n",
       "    </tr>\n",
       "    <tr>\n",
       "      <th>2</th>\n",
       "      <td>Mario Kart Wii</td>\n",
       "      <td>Wii</td>\n",
       "      <td>2008.0</td>\n",
       "      <td>Racing</td>\n",
       "      <td>15.68</td>\n",
       "      <td>12.76</td>\n",
       "      <td>3.79</td>\n",
       "      <td>3.29</td>\n",
       "      <td>82.0</td>\n",
       "      <td>8.3</td>\n",
       "      <td>E</td>\n",
       "    </tr>\n",
       "    <tr>\n",
       "      <th>3</th>\n",
       "      <td>Wii Sports Resort</td>\n",
       "      <td>Wii</td>\n",
       "      <td>2009.0</td>\n",
       "      <td>Sports</td>\n",
       "      <td>15.61</td>\n",
       "      <td>10.93</td>\n",
       "      <td>3.28</td>\n",
       "      <td>2.95</td>\n",
       "      <td>80.0</td>\n",
       "      <td>8</td>\n",
       "      <td>E</td>\n",
       "    </tr>\n",
       "    <tr>\n",
       "      <th>4</th>\n",
       "      <td>Pokemon Red/Pokemon Blue</td>\n",
       "      <td>GB</td>\n",
       "      <td>1996.0</td>\n",
       "      <td>Role-Playing</td>\n",
       "      <td>11.27</td>\n",
       "      <td>8.89</td>\n",
       "      <td>10.22</td>\n",
       "      <td>1.00</td>\n",
       "      <td>NaN</td>\n",
       "      <td>NaN</td>\n",
       "      <td>NaN</td>\n",
       "    </tr>\n",
       "    <tr>\n",
       "      <th>...</th>\n",
       "      <td>...</td>\n",
       "      <td>...</td>\n",
       "      <td>...</td>\n",
       "      <td>...</td>\n",
       "      <td>...</td>\n",
       "      <td>...</td>\n",
       "      <td>...</td>\n",
       "      <td>...</td>\n",
       "      <td>...</td>\n",
       "      <td>...</td>\n",
       "      <td>...</td>\n",
       "    </tr>\n",
       "    <tr>\n",
       "      <th>16710</th>\n",
       "      <td>Samurai Warriors: Sanada Maru</td>\n",
       "      <td>PS3</td>\n",
       "      <td>2016.0</td>\n",
       "      <td>Action</td>\n",
       "      <td>0.00</td>\n",
       "      <td>0.00</td>\n",
       "      <td>0.01</td>\n",
       "      <td>0.00</td>\n",
       "      <td>NaN</td>\n",
       "      <td>NaN</td>\n",
       "      <td>NaN</td>\n",
       "    </tr>\n",
       "    <tr>\n",
       "      <th>16711</th>\n",
       "      <td>LMA Manager 2007</td>\n",
       "      <td>X360</td>\n",
       "      <td>2006.0</td>\n",
       "      <td>Sports</td>\n",
       "      <td>0.00</td>\n",
       "      <td>0.01</td>\n",
       "      <td>0.00</td>\n",
       "      <td>0.00</td>\n",
       "      <td>NaN</td>\n",
       "      <td>NaN</td>\n",
       "      <td>NaN</td>\n",
       "    </tr>\n",
       "    <tr>\n",
       "      <th>16712</th>\n",
       "      <td>Haitaka no Psychedelica</td>\n",
       "      <td>PSV</td>\n",
       "      <td>2016.0</td>\n",
       "      <td>Adventure</td>\n",
       "      <td>0.00</td>\n",
       "      <td>0.00</td>\n",
       "      <td>0.01</td>\n",
       "      <td>0.00</td>\n",
       "      <td>NaN</td>\n",
       "      <td>NaN</td>\n",
       "      <td>NaN</td>\n",
       "    </tr>\n",
       "    <tr>\n",
       "      <th>16713</th>\n",
       "      <td>Spirits &amp; Spells</td>\n",
       "      <td>GBA</td>\n",
       "      <td>2003.0</td>\n",
       "      <td>Platform</td>\n",
       "      <td>0.01</td>\n",
       "      <td>0.00</td>\n",
       "      <td>0.00</td>\n",
       "      <td>0.00</td>\n",
       "      <td>NaN</td>\n",
       "      <td>NaN</td>\n",
       "      <td>NaN</td>\n",
       "    </tr>\n",
       "    <tr>\n",
       "      <th>16714</th>\n",
       "      <td>Winning Post 8 2016</td>\n",
       "      <td>PSV</td>\n",
       "      <td>2016.0</td>\n",
       "      <td>Simulation</td>\n",
       "      <td>0.00</td>\n",
       "      <td>0.00</td>\n",
       "      <td>0.01</td>\n",
       "      <td>0.00</td>\n",
       "      <td>NaN</td>\n",
       "      <td>NaN</td>\n",
       "      <td>NaN</td>\n",
       "    </tr>\n",
       "  </tbody>\n",
       "</table>\n",
       "<p>16715 rows × 11 columns</p>\n",
       "</div>"
      ],
      "text/plain": [
       "                                Name Platform  Year_of_Release         Genre  \\\n",
       "0                         Wii Sports      Wii           2006.0        Sports   \n",
       "1                  Super Mario Bros.      NES           1985.0      Platform   \n",
       "2                     Mario Kart Wii      Wii           2008.0        Racing   \n",
       "3                  Wii Sports Resort      Wii           2009.0        Sports   \n",
       "4           Pokemon Red/Pokemon Blue       GB           1996.0  Role-Playing   \n",
       "...                              ...      ...              ...           ...   \n",
       "16710  Samurai Warriors: Sanada Maru      PS3           2016.0        Action   \n",
       "16711               LMA Manager 2007     X360           2006.0        Sports   \n",
       "16712        Haitaka no Psychedelica      PSV           2016.0     Adventure   \n",
       "16713               Spirits & Spells      GBA           2003.0      Platform   \n",
       "16714            Winning Post 8 2016      PSV           2016.0    Simulation   \n",
       "\n",
       "       NA_sales  EU_sales  JP_sales  Other_sales  Critic_Score User_Score  \\\n",
       "0         41.36     28.96      3.77         8.45          76.0          8   \n",
       "1         29.08      3.58      6.81         0.77           NaN        NaN   \n",
       "2         15.68     12.76      3.79         3.29          82.0        8.3   \n",
       "3         15.61     10.93      3.28         2.95          80.0          8   \n",
       "4         11.27      8.89     10.22         1.00           NaN        NaN   \n",
       "...         ...       ...       ...          ...           ...        ...   \n",
       "16710      0.00      0.00      0.01         0.00           NaN        NaN   \n",
       "16711      0.00      0.01      0.00         0.00           NaN        NaN   \n",
       "16712      0.00      0.00      0.01         0.00           NaN        NaN   \n",
       "16713      0.01      0.00      0.00         0.00           NaN        NaN   \n",
       "16714      0.00      0.00      0.01         0.00           NaN        NaN   \n",
       "\n",
       "      Rating  \n",
       "0          E  \n",
       "1        NaN  \n",
       "2          E  \n",
       "3          E  \n",
       "4        NaN  \n",
       "...      ...  \n",
       "16710    NaN  \n",
       "16711    NaN  \n",
       "16712    NaN  \n",
       "16713    NaN  \n",
       "16714    NaN  \n",
       "\n",
       "[16715 rows x 11 columns]"
      ]
     },
     "execution_count": 2,
     "metadata": {},
     "output_type": "execute_result"
    }
   ],
   "source": [
    "df = pd.read_csv('/datasets/games.csv')\n",
    "df"
   ]
  },
  {
   "cell_type": "code",
   "execution_count": 3,
   "metadata": {},
   "outputs": [
    {
     "name": "stdout",
     "output_type": "stream",
     "text": [
      "<class 'pandas.core.frame.DataFrame'>\n",
      "RangeIndex: 16715 entries, 0 to 16714\n",
      "Data columns (total 11 columns):\n",
      " #   Column           Non-Null Count  Dtype  \n",
      "---  ------           --------------  -----  \n",
      " 0   Name             16713 non-null  object \n",
      " 1   Platform         16715 non-null  object \n",
      " 2   Year_of_Release  16446 non-null  float64\n",
      " 3   Genre            16713 non-null  object \n",
      " 4   NA_sales         16715 non-null  float64\n",
      " 5   EU_sales         16715 non-null  float64\n",
      " 6   JP_sales         16715 non-null  float64\n",
      " 7   Other_sales      16715 non-null  float64\n",
      " 8   Critic_Score     8137 non-null   float64\n",
      " 9   User_Score       10014 non-null  object \n",
      " 10  Rating           9949 non-null   object \n",
      "dtypes: float64(6), object(5)\n",
      "memory usage: 1.4+ MB\n"
     ]
    }
   ],
   "source": [
    "df.info()"
   ]
  },
  {
   "cell_type": "code",
   "execution_count": 4,
   "metadata": {},
   "outputs": [
    {
     "data": {
      "text/html": [
       "<div>\n",
       "<style scoped>\n",
       "    .dataframe tbody tr th:only-of-type {\n",
       "        vertical-align: middle;\n",
       "    }\n",
       "\n",
       "    .dataframe tbody tr th {\n",
       "        vertical-align: top;\n",
       "    }\n",
       "\n",
       "    .dataframe thead th {\n",
       "        text-align: right;\n",
       "    }\n",
       "</style>\n",
       "<table border=\"1\" class=\"dataframe\">\n",
       "  <thead>\n",
       "    <tr style=\"text-align: right;\">\n",
       "      <th></th>\n",
       "      <th>Name</th>\n",
       "      <th>Platform</th>\n",
       "      <th>Year_of_Release</th>\n",
       "      <th>Genre</th>\n",
       "      <th>NA_sales</th>\n",
       "      <th>EU_sales</th>\n",
       "      <th>JP_sales</th>\n",
       "      <th>Other_sales</th>\n",
       "      <th>Critic_Score</th>\n",
       "      <th>User_Score</th>\n",
       "      <th>Rating</th>\n",
       "    </tr>\n",
       "  </thead>\n",
       "  <tbody>\n",
       "    <tr>\n",
       "      <th>0</th>\n",
       "      <td>Wii Sports</td>\n",
       "      <td>Wii</td>\n",
       "      <td>2006.0</td>\n",
       "      <td>Sports</td>\n",
       "      <td>41.36</td>\n",
       "      <td>28.96</td>\n",
       "      <td>3.77</td>\n",
       "      <td>8.45</td>\n",
       "      <td>76.0</td>\n",
       "      <td>8</td>\n",
       "      <td>E</td>\n",
       "    </tr>\n",
       "    <tr>\n",
       "      <th>1</th>\n",
       "      <td>Super Mario Bros.</td>\n",
       "      <td>NES</td>\n",
       "      <td>1985.0</td>\n",
       "      <td>Platform</td>\n",
       "      <td>29.08</td>\n",
       "      <td>3.58</td>\n",
       "      <td>6.81</td>\n",
       "      <td>0.77</td>\n",
       "      <td>NaN</td>\n",
       "      <td>NaN</td>\n",
       "      <td>NaN</td>\n",
       "    </tr>\n",
       "    <tr>\n",
       "      <th>2</th>\n",
       "      <td>Mario Kart Wii</td>\n",
       "      <td>Wii</td>\n",
       "      <td>2008.0</td>\n",
       "      <td>Racing</td>\n",
       "      <td>15.68</td>\n",
       "      <td>12.76</td>\n",
       "      <td>3.79</td>\n",
       "      <td>3.29</td>\n",
       "      <td>82.0</td>\n",
       "      <td>8.3</td>\n",
       "      <td>E</td>\n",
       "    </tr>\n",
       "    <tr>\n",
       "      <th>3</th>\n",
       "      <td>Wii Sports Resort</td>\n",
       "      <td>Wii</td>\n",
       "      <td>2009.0</td>\n",
       "      <td>Sports</td>\n",
       "      <td>15.61</td>\n",
       "      <td>10.93</td>\n",
       "      <td>3.28</td>\n",
       "      <td>2.95</td>\n",
       "      <td>80.0</td>\n",
       "      <td>8</td>\n",
       "      <td>E</td>\n",
       "    </tr>\n",
       "    <tr>\n",
       "      <th>4</th>\n",
       "      <td>Pokemon Red/Pokemon Blue</td>\n",
       "      <td>GB</td>\n",
       "      <td>1996.0</td>\n",
       "      <td>Role-Playing</td>\n",
       "      <td>11.27</td>\n",
       "      <td>8.89</td>\n",
       "      <td>10.22</td>\n",
       "      <td>1.00</td>\n",
       "      <td>NaN</td>\n",
       "      <td>NaN</td>\n",
       "      <td>NaN</td>\n",
       "    </tr>\n",
       "  </tbody>\n",
       "</table>\n",
       "</div>"
      ],
      "text/plain": [
       "                       Name Platform  Year_of_Release         Genre  NA_sales  \\\n",
       "0                Wii Sports      Wii           2006.0        Sports     41.36   \n",
       "1         Super Mario Bros.      NES           1985.0      Platform     29.08   \n",
       "2            Mario Kart Wii      Wii           2008.0        Racing     15.68   \n",
       "3         Wii Sports Resort      Wii           2009.0        Sports     15.61   \n",
       "4  Pokemon Red/Pokemon Blue       GB           1996.0  Role-Playing     11.27   \n",
       "\n",
       "   EU_sales  JP_sales  Other_sales  Critic_Score User_Score Rating  \n",
       "0     28.96      3.77         8.45          76.0          8      E  \n",
       "1      3.58      6.81         0.77           NaN        NaN    NaN  \n",
       "2     12.76      3.79         3.29          82.0        8.3      E  \n",
       "3     10.93      3.28         2.95          80.0          8      E  \n",
       "4      8.89     10.22         1.00           NaN        NaN    NaN  "
      ]
     },
     "execution_count": 4,
     "metadata": {},
     "output_type": "execute_result"
    }
   ],
   "source": [
    "df.head(5)"
   ]
  },
  {
   "cell_type": "markdown",
   "metadata": {},
   "source": [
    "# Вывод:\n",
    "В датасете 11 столбцов с различными данными. Необходимо привести названия столбцов к нижнему регистру, преобразовать данные в нужные типы, обработать пропуски, посчитать суммарные продажи во всех регионах и записать в отдельный столбец."
   ]
  },
  {
   "cell_type": "markdown",
   "metadata": {},
   "source": [
    "# Шаг 2. Подготовить данные к анализу"
   ]
  },
  {
   "cell_type": "code",
   "execution_count": 5,
   "metadata": {},
   "outputs": [
    {
     "data": {
      "text/plain": [
       "0"
      ]
     },
     "execution_count": 5,
     "metadata": {},
     "output_type": "execute_result"
    }
   ],
   "source": [
    "# проверим на дубликаты\n",
    "df.duplicated().sum()"
   ]
  },
  {
   "cell_type": "code",
   "execution_count": 6,
   "metadata": {},
   "outputs": [],
   "source": [
    "# удаление небольшого количества пропусков не сильно повлияет на данные\n",
    "df = df.dropna(subset=['Year_of_Release'])"
   ]
  },
  {
   "cell_type": "code",
   "execution_count": 8,
   "metadata": {},
   "outputs": [],
   "source": [
    "# переводим в int из float так как там все значения целочисленные\n",
    "df['Year_of_Release']=df['Year_of_Release'].astype('int')\n",
    "warnings.filterwarnings(\"ignore\")"
   ]
  },
  {
   "cell_type": "code",
   "execution_count": 9,
   "metadata": {},
   "outputs": [
    {
     "data": {
      "text/html": [
       "<div>\n",
       "<style scoped>\n",
       "    .dataframe tbody tr th:only-of-type {\n",
       "        vertical-align: middle;\n",
       "    }\n",
       "\n",
       "    .dataframe tbody tr th {\n",
       "        vertical-align: top;\n",
       "    }\n",
       "\n",
       "    .dataframe thead th {\n",
       "        text-align: right;\n",
       "    }\n",
       "</style>\n",
       "<table border=\"1\" class=\"dataframe\">\n",
       "  <thead>\n",
       "    <tr style=\"text-align: right;\">\n",
       "      <th></th>\n",
       "      <th>Name</th>\n",
       "      <th>Platform</th>\n",
       "      <th>Year_of_Release</th>\n",
       "      <th>Genre</th>\n",
       "      <th>NA_sales</th>\n",
       "      <th>EU_sales</th>\n",
       "      <th>JP_sales</th>\n",
       "      <th>Other_sales</th>\n",
       "      <th>Critic_Score</th>\n",
       "      <th>User_Score</th>\n",
       "      <th>Rating</th>\n",
       "    </tr>\n",
       "  </thead>\n",
       "  <tbody>\n",
       "    <tr>\n",
       "      <th>14244</th>\n",
       "      <td>NaN</td>\n",
       "      <td>GEN</td>\n",
       "      <td>1993</td>\n",
       "      <td>NaN</td>\n",
       "      <td>0.0</td>\n",
       "      <td>0.00</td>\n",
       "      <td>0.03</td>\n",
       "      <td>0.0</td>\n",
       "      <td>NaN</td>\n",
       "      <td>NaN</td>\n",
       "      <td>NaN</td>\n",
       "    </tr>\n",
       "    <tr>\n",
       "      <th>16230</th>\n",
       "      <td>Madden NFL 13</td>\n",
       "      <td>PS3</td>\n",
       "      <td>2012</td>\n",
       "      <td>Sports</td>\n",
       "      <td>0.0</td>\n",
       "      <td>0.01</td>\n",
       "      <td>0.00</td>\n",
       "      <td>0.0</td>\n",
       "      <td>83.0</td>\n",
       "      <td>5.5</td>\n",
       "      <td>E</td>\n",
       "    </tr>\n",
       "  </tbody>\n",
       "</table>\n",
       "</div>"
      ],
      "text/plain": [
       "                Name Platform  Year_of_Release   Genre  NA_sales  EU_sales  \\\n",
       "14244            NaN      GEN             1993     NaN       0.0      0.00   \n",
       "16230  Madden NFL 13      PS3             2012  Sports       0.0      0.01   \n",
       "\n",
       "       JP_sales  Other_sales  Critic_Score User_Score Rating  \n",
       "14244      0.03          0.0           NaN        NaN    NaN  \n",
       "16230      0.00          0.0          83.0        5.5      E  "
      ]
     },
     "execution_count": 9,
     "metadata": {},
     "output_type": "execute_result"
    }
   ],
   "source": [
    "# проверяем неявные дубликаты\n",
    "df_duplicated = df[df.duplicated(['Name', 'Platform','Year_of_Release'])]\n",
    "df_duplicated"
   ]
  },
  {
   "cell_type": "code",
   "execution_count": 10,
   "metadata": {},
   "outputs": [
    {
     "name": "stdout",
     "output_type": "stream",
     "text": [
      "<class 'pandas.core.frame.DataFrame'>\n",
      "Int64Index: 16446 entries, 0 to 16714\n",
      "Data columns (total 11 columns):\n",
      " #   Column           Non-Null Count  Dtype  \n",
      "---  ------           --------------  -----  \n",
      " 0   Name             16444 non-null  object \n",
      " 1   Platform         16446 non-null  object \n",
      " 2   Year_of_Release  16446 non-null  int64  \n",
      " 3   Genre            16444 non-null  object \n",
      " 4   NA_sales         16446 non-null  float64\n",
      " 5   EU_sales         16446 non-null  float64\n",
      " 6   JP_sales         16446 non-null  float64\n",
      " 7   Other_sales      16446 non-null  float64\n",
      " 8   Critic_Score     7983 non-null   float64\n",
      " 9   User_Score       9839 non-null   object \n",
      " 10  Rating           9768 non-null   object \n",
      "dtypes: float64(5), int64(1), object(5)\n",
      "memory usage: 1.5+ MB\n"
     ]
    }
   ],
   "source": [
    "df.info()"
   ]
  },
  {
   "cell_type": "code",
   "execution_count": 11,
   "metadata": {},
   "outputs": [],
   "source": [
    "# Удалим дубликаты\n",
    "df = df.drop_duplicates(subset=['Name', 'Platform','Year_of_Release'])"
   ]
  },
  {
   "cell_type": "code",
   "execution_count": 12,
   "metadata": {},
   "outputs": [
    {
     "name": "stdout",
     "output_type": "stream",
     "text": [
      "<class 'pandas.core.frame.DataFrame'>\n",
      "Int64Index: 16444 entries, 0 to 16714\n",
      "Data columns (total 11 columns):\n",
      " #   Column           Non-Null Count  Dtype  \n",
      "---  ------           --------------  -----  \n",
      " 0   Name             16443 non-null  object \n",
      " 1   Platform         16444 non-null  object \n",
      " 2   Year_of_Release  16444 non-null  int64  \n",
      " 3   Genre            16443 non-null  object \n",
      " 4   NA_sales         16444 non-null  float64\n",
      " 5   EU_sales         16444 non-null  float64\n",
      " 6   JP_sales         16444 non-null  float64\n",
      " 7   Other_sales      16444 non-null  float64\n",
      " 8   Critic_Score     7982 non-null   float64\n",
      " 9   User_Score       9838 non-null   object \n",
      " 10  Rating           9767 non-null   object \n",
      "dtypes: float64(5), int64(1), object(5)\n",
      "memory usage: 1.5+ MB\n"
     ]
    }
   ],
   "source": [
    "df.info()"
   ]
  },
  {
   "cell_type": "markdown",
   "metadata": {},
   "source": [
    "Обнаружены два неявных дубликата. Их можно было удалить, потому что они затрагивают небольшой объем данных."
   ]
  },
  {
   "cell_type": "code",
   "execution_count": 13,
   "metadata": {},
   "outputs": [],
   "source": [
    "# приведем к нижнему регистру названия столбцов\n",
    "df.columns = df.columns.str.lower()"
   ]
  },
  {
   "cell_type": "code",
   "execution_count": 14,
   "metadata": {},
   "outputs": [
    {
     "data": {
      "text/plain": [
       "Index(['name', 'platform', 'year_of_release', 'genre', 'na_sales', 'eu_sales',\n",
       "       'jp_sales', 'other_sales', 'critic_score', 'user_score', 'rating'],\n",
       "      dtype='object')"
      ]
     },
     "execution_count": 14,
     "metadata": {},
     "output_type": "execute_result"
    }
   ],
   "source": [
    "df.columns"
   ]
  },
  {
   "cell_type": "code",
   "execution_count": 15,
   "metadata": {},
   "outputs": [
    {
     "data": {
      "text/plain": [
       "name                  1\n",
       "platform              0\n",
       "year_of_release       0\n",
       "genre                 1\n",
       "na_sales              0\n",
       "eu_sales              0\n",
       "jp_sales              0\n",
       "other_sales           0\n",
       "critic_score       8462\n",
       "user_score         6606\n",
       "rating             6677\n",
       "dtype: int64"
      ]
     },
     "execution_count": 15,
     "metadata": {},
     "output_type": "execute_result"
    }
   ],
   "source": [
    "# в колонка critic_score, user_score и rating много пропусков поэтому лучше их оставить\n",
    "df.isna().sum()"
   ]
  },
  {
   "cell_type": "code",
   "execution_count": 16,
   "metadata": {},
   "outputs": [
    {
     "data": {
      "text/plain": [
       "array(['8', nan, '8.3', '8.5', '6.6', '8.4', '8.6', '7.7', '6.3', '7.4',\n",
       "       '8.2', '9', '7.9', '8.1', '8.7', '7.1', '3.4', '5.3', '4.8', '3.2',\n",
       "       '8.9', '6.4', '7.8', '7.5', '2.6', '7.2', '9.2', '7', '7.3', '4.3',\n",
       "       '7.6', '5.7', '5', '9.1', '6.5', 'tbd', '8.8', '6.9', '9.4', '6.8',\n",
       "       '6.1', '6.7', '5.4', '4', '4.9', '4.5', '9.3', '6.2', '4.2', '6',\n",
       "       '3.7', '4.1', '5.8', '5.6', '5.5', '4.4', '4.6', '5.9', '3.9',\n",
       "       '3.1', '2.9', '5.2', '3.3', '4.7', '5.1', '3.5', '2.5', '1.9', '3',\n",
       "       '2.7', '2.2', '2', '9.5', '2.1', '3.6', '2.8', '1.8', '3.8', '0',\n",
       "       '1.6', '9.6', '2.4', '1.7', '1.1', '0.3', '1.5', '0.7', '1.2',\n",
       "       '2.3', '0.5', '1.3', '0.2', '0.6', '1.4', '0.9', '1', '9.7'],\n",
       "      dtype=object)"
      ]
     },
     "execution_count": 16,
     "metadata": {},
     "output_type": "execute_result"
    }
   ],
   "source": [
    "df['user_score'].unique()"
   ]
  },
  {
   "cell_type": "code",
   "execution_count": 17,
   "metadata": {},
   "outputs": [],
   "source": [
    "# как и critic_score переводим во float\n",
    "#  Значения tbd (to be defined) меняем на nan\n",
    "df['user_score'] = pd.to_numeric(df['user_score'], errors ='coerce') "
   ]
  },
  {
   "cell_type": "code",
   "execution_count": 18,
   "metadata": {},
   "outputs": [
    {
     "data": {
      "text/html": [
       "<div>\n",
       "<style scoped>\n",
       "    .dataframe tbody tr th:only-of-type {\n",
       "        vertical-align: middle;\n",
       "    }\n",
       "\n",
       "    .dataframe tbody tr th {\n",
       "        vertical-align: top;\n",
       "    }\n",
       "\n",
       "    .dataframe thead th {\n",
       "        text-align: right;\n",
       "    }\n",
       "</style>\n",
       "<table border=\"1\" class=\"dataframe\">\n",
       "  <thead>\n",
       "    <tr style=\"text-align: right;\">\n",
       "      <th></th>\n",
       "      <th>name</th>\n",
       "      <th>platform</th>\n",
       "      <th>year_of_release</th>\n",
       "      <th>genre</th>\n",
       "      <th>na_sales</th>\n",
       "      <th>eu_sales</th>\n",
       "      <th>jp_sales</th>\n",
       "      <th>other_sales</th>\n",
       "      <th>critic_score</th>\n",
       "      <th>user_score</th>\n",
       "      <th>rating</th>\n",
       "      <th>sales_total</th>\n",
       "    </tr>\n",
       "  </thead>\n",
       "  <tbody>\n",
       "    <tr>\n",
       "      <th>0</th>\n",
       "      <td>Wii Sports</td>\n",
       "      <td>Wii</td>\n",
       "      <td>2006</td>\n",
       "      <td>Sports</td>\n",
       "      <td>41.36</td>\n",
       "      <td>28.96</td>\n",
       "      <td>3.77</td>\n",
       "      <td>8.45</td>\n",
       "      <td>76.0</td>\n",
       "      <td>8.0</td>\n",
       "      <td>E</td>\n",
       "      <td>82.54</td>\n",
       "    </tr>\n",
       "    <tr>\n",
       "      <th>1</th>\n",
       "      <td>Super Mario Bros.</td>\n",
       "      <td>NES</td>\n",
       "      <td>1985</td>\n",
       "      <td>Platform</td>\n",
       "      <td>29.08</td>\n",
       "      <td>3.58</td>\n",
       "      <td>6.81</td>\n",
       "      <td>0.77</td>\n",
       "      <td>NaN</td>\n",
       "      <td>NaN</td>\n",
       "      <td>NaN</td>\n",
       "      <td>40.24</td>\n",
       "    </tr>\n",
       "    <tr>\n",
       "      <th>2</th>\n",
       "      <td>Mario Kart Wii</td>\n",
       "      <td>Wii</td>\n",
       "      <td>2008</td>\n",
       "      <td>Racing</td>\n",
       "      <td>15.68</td>\n",
       "      <td>12.76</td>\n",
       "      <td>3.79</td>\n",
       "      <td>3.29</td>\n",
       "      <td>82.0</td>\n",
       "      <td>8.3</td>\n",
       "      <td>E</td>\n",
       "      <td>35.52</td>\n",
       "    </tr>\n",
       "    <tr>\n",
       "      <th>3</th>\n",
       "      <td>Wii Sports Resort</td>\n",
       "      <td>Wii</td>\n",
       "      <td>2009</td>\n",
       "      <td>Sports</td>\n",
       "      <td>15.61</td>\n",
       "      <td>10.93</td>\n",
       "      <td>3.28</td>\n",
       "      <td>2.95</td>\n",
       "      <td>80.0</td>\n",
       "      <td>8.0</td>\n",
       "      <td>E</td>\n",
       "      <td>32.77</td>\n",
       "    </tr>\n",
       "    <tr>\n",
       "      <th>4</th>\n",
       "      <td>Pokemon Red/Pokemon Blue</td>\n",
       "      <td>GB</td>\n",
       "      <td>1996</td>\n",
       "      <td>Role-Playing</td>\n",
       "      <td>11.27</td>\n",
       "      <td>8.89</td>\n",
       "      <td>10.22</td>\n",
       "      <td>1.00</td>\n",
       "      <td>NaN</td>\n",
       "      <td>NaN</td>\n",
       "      <td>NaN</td>\n",
       "      <td>31.38</td>\n",
       "    </tr>\n",
       "  </tbody>\n",
       "</table>\n",
       "</div>"
      ],
      "text/plain": [
       "                       name platform  year_of_release         genre  na_sales  \\\n",
       "0                Wii Sports      Wii             2006        Sports     41.36   \n",
       "1         Super Mario Bros.      NES             1985      Platform     29.08   \n",
       "2            Mario Kart Wii      Wii             2008        Racing     15.68   \n",
       "3         Wii Sports Resort      Wii             2009        Sports     15.61   \n",
       "4  Pokemon Red/Pokemon Blue       GB             1996  Role-Playing     11.27   \n",
       "\n",
       "   eu_sales  jp_sales  other_sales  critic_score  user_score rating  \\\n",
       "0     28.96      3.77         8.45          76.0         8.0      E   \n",
       "1      3.58      6.81         0.77           NaN         NaN    NaN   \n",
       "2     12.76      3.79         3.29          82.0         8.3      E   \n",
       "3     10.93      3.28         2.95          80.0         8.0      E   \n",
       "4      8.89     10.22         1.00           NaN         NaN    NaN   \n",
       "\n",
       "   sales_total  \n",
       "0        82.54  \n",
       "1        40.24  \n",
       "2        35.52  \n",
       "3        32.77  \n",
       "4        31.38  "
      ]
     },
     "execution_count": 18,
     "metadata": {},
     "output_type": "execute_result"
    }
   ],
   "source": [
    "df['sales_total'] = df['eu_sales'] + df['na_sales'] + df['jp_sales'] + df['other_sales']\n",
    "df.head(5)"
   ]
  },
  {
   "cell_type": "markdown",
   "metadata": {},
   "source": [
    "Возмножно пропуски в столбцах critic_score, user_score и rating связаны с тем, что их необязательно заполнять. Или в базе данных интернет-магазина «Стримчик» нету этих данных."
   ]
  },
  {
   "cell_type": "markdown",
   "metadata": {},
   "source": [
    "# Вывод:\n",
    "Была выполнена проверка на дубликаты, столбцы были приведены к нижнему регистру. В колонка critic_score, user_score и rating было обнаруженно множество пропусков, но было решено оставить их из-за невозможности правильного заполнения. Значения tbd были заменены на nan, необходимые столбцы были приведены к нужным типам данных."
   ]
  },
  {
   "cell_type": "markdown",
   "metadata": {},
   "source": [
    "# Шаг 3. Провести исследовательский анализ данных"
   ]
  },
  {
   "cell_type": "markdown",
   "metadata": {},
   "source": [
    "Посмотрите, сколько игр выпускалось в разные годы. Важны ли данные за все периоды?"
   ]
  },
  {
   "cell_type": "code",
   "execution_count": 19,
   "metadata": {},
   "outputs": [
    {
     "data": {
      "image/png": "[encoded data removed]",
      "text/plain": [
       "<Figure size 432x288 with 1 Axes>"
      ]
     },
     "metadata": {
      "needs_background": "light"
     },
     "output_type": "display_data"
    }
   ],
   "source": [
    "games_years = df.pivot_table(index='year_of_release', values='name', aggfunc='count')\n",
    "games_years.plot(y='name', kind='bar')\n",
    "plt.title('Распределение количества игр по году выпуска')\n",
    "plt.xlabel('Год')\n",
    "plt.ylabel('Сумма продаж')\n",
    "plt.show()"
   ]
  },
  {
   "cell_type": "markdown",
   "metadata": {},
   "source": [
    "В 80-е выпускалось очень мало игр каждый год, в 90-е и 00-е количество игр выпускаемых каждый год постепенно увеличивалось, не смотря на небольшие спады, с 2009 по 2011 виден резкий спад, в период с 2012 по 2016 количество игр выпускаемых каждый год постепенно выравнелось."
   ]
  },
  {
   "cell_type": "markdown",
   "metadata": {},
   "source": [
    "Посмотрите, как менялись продажи по платформам. Выберите платформы с наибольшими суммарными продажами и постройте распределение по годам. За какой характерный срок появляются новые и исчезают старые платформы?"
   ]
  },
  {
   "cell_type": "code",
   "execution_count": 20,
   "metadata": {},
   "outputs": [
    {
     "data": {
      "text/html": [
       "<div>\n",
       "<style scoped>\n",
       "    .dataframe tbody tr th:only-of-type {\n",
       "        vertical-align: middle;\n",
       "    }\n",
       "\n",
       "    .dataframe tbody tr th {\n",
       "        vertical-align: top;\n",
       "    }\n",
       "\n",
       "    .dataframe thead th {\n",
       "        text-align: right;\n",
       "    }\n",
       "</style>\n",
       "<table border=\"1\" class=\"dataframe\">\n",
       "  <thead>\n",
       "    <tr style=\"text-align: right;\">\n",
       "      <th></th>\n",
       "      <th>sales_total</th>\n",
       "    </tr>\n",
       "    <tr>\n",
       "      <th>platform</th>\n",
       "      <th></th>\n",
       "    </tr>\n",
       "  </thead>\n",
       "  <tbody>\n",
       "    <tr>\n",
       "      <th>PS2</th>\n",
       "      <td>1233.56</td>\n",
       "    </tr>\n",
       "    <tr>\n",
       "      <th>X360</th>\n",
       "      <td>961.24</td>\n",
       "    </tr>\n",
       "    <tr>\n",
       "      <th>PS3</th>\n",
       "      <td>931.33</td>\n",
       "    </tr>\n",
       "    <tr>\n",
       "      <th>Wii</th>\n",
       "      <td>891.18</td>\n",
       "    </tr>\n",
       "    <tr>\n",
       "      <th>DS</th>\n",
       "      <td>802.78</td>\n",
       "    </tr>\n",
       "    <tr>\n",
       "      <th>PS</th>\n",
       "      <td>727.58</td>\n",
       "    </tr>\n",
       "    <tr>\n",
       "      <th>PS4</th>\n",
       "      <td>314.14</td>\n",
       "    </tr>\n",
       "    <tr>\n",
       "      <th>GBA</th>\n",
       "      <td>312.88</td>\n",
       "    </tr>\n",
       "    <tr>\n",
       "      <th>PSP</th>\n",
       "      <td>289.53</td>\n",
       "    </tr>\n",
       "    <tr>\n",
       "      <th>3DS</th>\n",
       "      <td>257.81</td>\n",
       "    </tr>\n",
       "  </tbody>\n",
       "</table>\n",
       "</div>"
      ],
      "text/plain": [
       "          sales_total\n",
       "platform             \n",
       "PS2           1233.56\n",
       "X360           961.24\n",
       "PS3            931.33\n",
       "Wii            891.18\n",
       "DS             802.78\n",
       "PS             727.58\n",
       "PS4            314.14\n",
       "GBA            312.88\n",
       "PSP            289.53\n",
       "3DS            257.81"
      ]
     },
     "execution_count": 20,
     "metadata": {},
     "output_type": "execute_result"
    }
   ],
   "source": [
    "# Создадим сводную таблицу с 10 платформами с наибольшим числом продаж\n",
    "top_10 = df.pivot_table(index = 'platform', values = 'sales_total', aggfunc = 'sum')\\\n",
    ".sort_values(by = 'sales_total', ascending = False)\\\n",
    ".head(10)\n",
    "\n",
    "# Выведем на экран\n",
    "top_10"
   ]
  },
  {
   "cell_type": "code",
   "execution_count": 21,
   "metadata": {},
   "outputs": [],
   "source": [
    "# Создадим сводную таблицу динамики продаж игр на платформах из списка \"Top - 10\"\n",
    "top_platforms = (\n",
    "    df[df['platform'].isin(top_10.index)].\n",
    "    pivot_table(index = 'year_of_release', columns = 'platform', values = 'sales_total', aggfunc = 'sum')\n",
    ")"
   ]
  },
  {
   "cell_type": "code",
   "execution_count": 22,
   "metadata": {},
   "outputs": [
    {
     "data": {
      "image/png": "[encoded data removed]",
      "text/plain": [
       "<Figure size 720x576 with 1 Axes>"
      ]
     },
     "metadata": {
      "needs_background": "light"
     },
     "output_type": "display_data"
    }
   ],
   "source": [
    "# Построим график с динамикой продаж игр на платформах \"Top-10\"\n",
    "top_platforms.plot(kind = 'line', figsize = (10, 8))\n",
    "plt.title('Top-10 платформ по продажам')\n",
    "plt.xlabel('Год')\n",
    "plt.ylabel('Сумма продаж')\n",
    "plt.show()"
   ]
  },
  {
   "cell_type": "markdown",
   "metadata": {},
   "source": [
    "На графике видно, что срок жизни одной платформы составляет, в среднем, 9 лет. Из графика можно увидеть платформы, ответственные за определенные пики в продажах по годам. Так, небольшие пики 1998 и 2002 года явно связаны с PS и PS2, а самый большой пик 2008-2009 года - с Wii, Xbox 360, PSP и, частично, PS3."
   ]
  },
  {
   "cell_type": "code",
   "execution_count": 23,
   "metadata": {},
   "outputs": [
    {
     "data": {
      "text/plain": [
       "7.0"
      ]
     },
     "execution_count": 23,
     "metadata": {},
     "output_type": "execute_result"
    }
   ],
   "source": [
    "# Комментарий ревьюера\n",
    "temp = df.copy() \n",
    "time_life = temp.pivot_table(index='platform', values='year_of_release', aggfunc=['min', 'max']).reset_index()\n",
    "time_life['life'] = time_life['max'] - time_life['min'] + 1 # в срок жизни платформы, должны входить границы диапазона, \n",
    "                                                            # поэтому +1\n",
    "time_life['life'].median()"
   ]
  },
  {
   "cell_type": "markdown",
   "metadata": {},
   "source": [
    "Возьмите данные за соответствующий актуальный период. Актуальный период определите самостоятельно в результате исследования предыдущих вопросов. Основной фактор — эти данные помогут построить прогноз на 2017 год."
   ]
  },
  {
   "cell_type": "code",
   "execution_count": 24,
   "metadata": {},
   "outputs": [
    {
     "data": {
      "text/html": [
       "<div>\n",
       "<style scoped>\n",
       "    .dataframe tbody tr th:only-of-type {\n",
       "        vertical-align: middle;\n",
       "    }\n",
       "\n",
       "    .dataframe tbody tr th {\n",
       "        vertical-align: top;\n",
       "    }\n",
       "\n",
       "    .dataframe thead th {\n",
       "        text-align: right;\n",
       "    }\n",
       "</style>\n",
       "<table border=\"1\" class=\"dataframe\">\n",
       "  <thead>\n",
       "    <tr style=\"text-align: right;\">\n",
       "      <th></th>\n",
       "      <th>name</th>\n",
       "      <th>platform</th>\n",
       "      <th>year_of_release</th>\n",
       "      <th>genre</th>\n",
       "      <th>na_sales</th>\n",
       "      <th>eu_sales</th>\n",
       "      <th>jp_sales</th>\n",
       "      <th>other_sales</th>\n",
       "      <th>critic_score</th>\n",
       "      <th>user_score</th>\n",
       "      <th>rating</th>\n",
       "      <th>sales_total</th>\n",
       "    </tr>\n",
       "  </thead>\n",
       "  <tbody>\n",
       "    <tr>\n",
       "      <th>16</th>\n",
       "      <td>Grand Theft Auto V</td>\n",
       "      <td>PS3</td>\n",
       "      <td>2013</td>\n",
       "      <td>Action</td>\n",
       "      <td>7.02</td>\n",
       "      <td>9.09</td>\n",
       "      <td>0.98</td>\n",
       "      <td>3.96</td>\n",
       "      <td>97.0</td>\n",
       "      <td>8.2</td>\n",
       "      <td>M</td>\n",
       "      <td>21.05</td>\n",
       "    </tr>\n",
       "    <tr>\n",
       "      <th>23</th>\n",
       "      <td>Grand Theft Auto V</td>\n",
       "      <td>X360</td>\n",
       "      <td>2013</td>\n",
       "      <td>Action</td>\n",
       "      <td>9.66</td>\n",
       "      <td>5.14</td>\n",
       "      <td>0.06</td>\n",
       "      <td>1.41</td>\n",
       "      <td>97.0</td>\n",
       "      <td>8.1</td>\n",
       "      <td>M</td>\n",
       "      <td>16.27</td>\n",
       "    </tr>\n",
       "    <tr>\n",
       "      <th>31</th>\n",
       "      <td>Call of Duty: Black Ops 3</td>\n",
       "      <td>PS4</td>\n",
       "      <td>2015</td>\n",
       "      <td>Shooter</td>\n",
       "      <td>6.03</td>\n",
       "      <td>5.86</td>\n",
       "      <td>0.36</td>\n",
       "      <td>2.38</td>\n",
       "      <td>NaN</td>\n",
       "      <td>NaN</td>\n",
       "      <td>NaN</td>\n",
       "      <td>14.63</td>\n",
       "    </tr>\n",
       "    <tr>\n",
       "      <th>33</th>\n",
       "      <td>Pokemon X/Pokemon Y</td>\n",
       "      <td>3DS</td>\n",
       "      <td>2013</td>\n",
       "      <td>Role-Playing</td>\n",
       "      <td>5.28</td>\n",
       "      <td>4.19</td>\n",
       "      <td>4.35</td>\n",
       "      <td>0.78</td>\n",
       "      <td>NaN</td>\n",
       "      <td>NaN</td>\n",
       "      <td>NaN</td>\n",
       "      <td>14.60</td>\n",
       "    </tr>\n",
       "    <tr>\n",
       "      <th>42</th>\n",
       "      <td>Grand Theft Auto V</td>\n",
       "      <td>PS4</td>\n",
       "      <td>2014</td>\n",
       "      <td>Action</td>\n",
       "      <td>3.96</td>\n",
       "      <td>6.31</td>\n",
       "      <td>0.38</td>\n",
       "      <td>1.97</td>\n",
       "      <td>97.0</td>\n",
       "      <td>8.3</td>\n",
       "      <td>M</td>\n",
       "      <td>12.62</td>\n",
       "    </tr>\n",
       "    <tr>\n",
       "      <th>47</th>\n",
       "      <td>Pokemon Omega Ruby/Pokemon Alpha Sapphire</td>\n",
       "      <td>3DS</td>\n",
       "      <td>2014</td>\n",
       "      <td>Role-Playing</td>\n",
       "      <td>4.35</td>\n",
       "      <td>3.49</td>\n",
       "      <td>3.10</td>\n",
       "      <td>0.74</td>\n",
       "      <td>NaN</td>\n",
       "      <td>NaN</td>\n",
       "      <td>NaN</td>\n",
       "      <td>11.68</td>\n",
       "    </tr>\n",
       "    <tr>\n",
       "      <th>60</th>\n",
       "      <td>Call of Duty: Ghosts</td>\n",
       "      <td>X360</td>\n",
       "      <td>2013</td>\n",
       "      <td>Shooter</td>\n",
       "      <td>6.73</td>\n",
       "      <td>2.56</td>\n",
       "      <td>0.04</td>\n",
       "      <td>0.91</td>\n",
       "      <td>73.0</td>\n",
       "      <td>2.6</td>\n",
       "      <td>M</td>\n",
       "      <td>10.24</td>\n",
       "    </tr>\n",
       "    <tr>\n",
       "      <th>69</th>\n",
       "      <td>Call of Duty: Ghosts</td>\n",
       "      <td>PS3</td>\n",
       "      <td>2013</td>\n",
       "      <td>Shooter</td>\n",
       "      <td>4.10</td>\n",
       "      <td>3.63</td>\n",
       "      <td>0.38</td>\n",
       "      <td>1.25</td>\n",
       "      <td>71.0</td>\n",
       "      <td>2.6</td>\n",
       "      <td>M</td>\n",
       "      <td>9.36</td>\n",
       "    </tr>\n",
       "    <tr>\n",
       "      <th>72</th>\n",
       "      <td>Minecraft</td>\n",
       "      <td>X360</td>\n",
       "      <td>2013</td>\n",
       "      <td>Misc</td>\n",
       "      <td>5.70</td>\n",
       "      <td>2.65</td>\n",
       "      <td>0.02</td>\n",
       "      <td>0.81</td>\n",
       "      <td>NaN</td>\n",
       "      <td>NaN</td>\n",
       "      <td>NaN</td>\n",
       "      <td>9.18</td>\n",
       "    </tr>\n",
       "    <tr>\n",
       "      <th>77</th>\n",
       "      <td>FIFA 16</td>\n",
       "      <td>PS4</td>\n",
       "      <td>2015</td>\n",
       "      <td>Sports</td>\n",
       "      <td>1.12</td>\n",
       "      <td>6.12</td>\n",
       "      <td>0.06</td>\n",
       "      <td>1.28</td>\n",
       "      <td>82.0</td>\n",
       "      <td>4.3</td>\n",
       "      <td>E</td>\n",
       "      <td>8.58</td>\n",
       "    </tr>\n",
       "  </tbody>\n",
       "</table>\n",
       "</div>"
      ],
      "text/plain": [
       "                                         name platform  year_of_release  \\\n",
       "16                         Grand Theft Auto V      PS3             2013   \n",
       "23                         Grand Theft Auto V     X360             2013   \n",
       "31                  Call of Duty: Black Ops 3      PS4             2015   \n",
       "33                        Pokemon X/Pokemon Y      3DS             2013   \n",
       "42                         Grand Theft Auto V      PS4             2014   \n",
       "47  Pokemon Omega Ruby/Pokemon Alpha Sapphire      3DS             2014   \n",
       "60                       Call of Duty: Ghosts     X360             2013   \n",
       "69                       Call of Duty: Ghosts      PS3             2013   \n",
       "72                                  Minecraft     X360             2013   \n",
       "77                                    FIFA 16      PS4             2015   \n",
       "\n",
       "           genre  na_sales  eu_sales  jp_sales  other_sales  critic_score  \\\n",
       "16        Action      7.02      9.09      0.98         3.96          97.0   \n",
       "23        Action      9.66      5.14      0.06         1.41          97.0   \n",
       "31       Shooter      6.03      5.86      0.36         2.38           NaN   \n",
       "33  Role-Playing      5.28      4.19      4.35         0.78           NaN   \n",
       "42        Action      3.96      6.31      0.38         1.97          97.0   \n",
       "47  Role-Playing      4.35      3.49      3.10         0.74           NaN   \n",
       "60       Shooter      6.73      2.56      0.04         0.91          73.0   \n",
       "69       Shooter      4.10      3.63      0.38         1.25          71.0   \n",
       "72          Misc      5.70      2.65      0.02         0.81           NaN   \n",
       "77        Sports      1.12      6.12      0.06         1.28          82.0   \n",
       "\n",
       "    user_score rating  sales_total  \n",
       "16         8.2      M        21.05  \n",
       "23         8.1      M        16.27  \n",
       "31         NaN    NaN        14.63  \n",
       "33         NaN    NaN        14.60  \n",
       "42         8.3      M        12.62  \n",
       "47         NaN    NaN        11.68  \n",
       "60         2.6      M        10.24  \n",
       "69         2.6      M         9.36  \n",
       "72         NaN    NaN         9.18  \n",
       "77         4.3      E         8.58  "
      ]
     },
     "execution_count": 24,
     "metadata": {},
     "output_type": "execute_result"
    }
   ],
   "source": [
    "df_actual = df.query('year_of_release > 2012')\n",
    "df_actual.head(10)"
   ]
  },
  {
   "cell_type": "code",
   "execution_count": 25,
   "metadata": {},
   "outputs": [
    {
     "data": {
      "image/png": "[encoded data removed]",
      "text/plain": [
       "<Figure size 936x576 with 1 Axes>"
      ]
     },
     "metadata": {
      "needs_background": "light"
     },
     "output_type": "display_data"
    }
   ],
   "source": [
    "platform_total = (\n",
    "    df_actual\n",
    "    .pivot_table(index='platform', values='sales_total', aggfunc=sum)\n",
    "    .sort_values(by='sales_total', ascending = False)\n",
    "    )\n",
    "plt.figure(figsize=(13,8))\n",
    "(sns.barplot(data=platform_total, x = platform_total.index, y = 'sales_total'))\n",
    "plt.title('Продажи по платформам за период 2012-2016 гг')\n",
    "plt.xlabel('Платформа')\n",
    "plt.ylabel('Сумма продаж')\n",
    "plt.show()"
   ]
  },
  {
   "cell_type": "markdown",
   "metadata": {},
   "source": [
    "Хорошо видно, что топ 3 продаж составляют PS4, PS3 И XOne. Необычайно низкие продажи PC. Игровые консоли нового поколения имеют высокие продажи, особенно PS4, к сожалению, хоть WiiU и относится к новому поколению консолей, продажи этой приставки ниже чем у PS3 и Х360. В целом, считаю, что лучше ориентироваться на PS4 И XOne, потому что это консоли нового поколения и имеют высокие продажи."
   ]
  },
  {
   "cell_type": "markdown",
   "metadata": {},
   "source": [
    "Постройте график «ящик с усами» по глобальным продажам игр в разбивке по платформам. Опишите результат."
   ]
  },
  {
   "cell_type": "code",
   "execution_count": 26,
   "metadata": {},
   "outputs": [],
   "source": [
    "#создадим таблицу с информацией о ТОП-6 платформах\n",
    "top_platforms = df_actual[df_actual['platform'].isin(['PS4','X360','PS3','XOne','3DS','WiiU'])]"
   ]
  },
  {
   "cell_type": "code",
   "execution_count": 27,
   "metadata": {},
   "outputs": [
    {
     "data": {
      "image/png": "[encoded data removed]",
      "text/plain": [
       "<Figure size 720x720 with 1 Axes>"
      ]
     },
     "metadata": {
      "needs_background": "light"
     },
     "output_type": "display_data"
    }
   ],
   "source": [
    "plt.figure(figsize=(10,10))\n",
    "sns.boxplot(data=top_platforms, x='platform', y='sales_total')\n",
    "plt.title('График по глобальным продажам')\n",
    "plt.xlabel('Платформа')\n",
    "plt.ylabel('Объем продаж');\n",
    "plt.ylim (0,6);"
   ]
  },
  {
   "cell_type": "markdown",
   "metadata": {},
   "source": [
    "По играм видно, что 3DS сильно проседает, а на WiiU неплохо покупают игры. Также, довольно много игр покупают для X360."
   ]
  },
  {
   "cell_type": "markdown",
   "metadata": {},
   "source": [
    "Посмотрите, как влияют на продажи внутри одной популярной платформы отзывы пользователей и критиков. Постройте диаграмму рассеяния и посчитайте корреляцию между отзывами и продажами. Сформулируйте выводы."
   ]
  },
  {
   "cell_type": "code",
   "execution_count": 28,
   "metadata": {},
   "outputs": [
    {
     "data": {
      "image/png": "[encoded data removed]",
      "text/plain": [
       "<Figure size 720x720 with 9 Axes>"
      ]
     },
     "metadata": {
      "needs_background": "light"
     },
     "output_type": "display_data"
    }
   ],
   "source": [
    "df_ps4 = df_actual[df_actual['platform'] == 'PS4']\n",
    "#создадим таблицу лишь с столбцами суммы, и оценки пользователей и критиков\n",
    "df_ps4 = df_ps4.loc[:, ['sales_total', 'critic_score', 'user_score']]\n",
    "#Построим матрицу рассеяния\n",
    "pd.plotting.scatter_matrix(df_ps4, figsize=(10, 10));"
   ]
  },
  {
   "cell_type": "code",
   "execution_count": 29,
   "metadata": {},
   "outputs": [
    {
     "data": {
      "text/html": [
       "<div>\n",
       "<style scoped>\n",
       "    .dataframe tbody tr th:only-of-type {\n",
       "        vertical-align: middle;\n",
       "    }\n",
       "\n",
       "    .dataframe tbody tr th {\n",
       "        vertical-align: top;\n",
       "    }\n",
       "\n",
       "    .dataframe thead th {\n",
       "        text-align: right;\n",
       "    }\n",
       "</style>\n",
       "<table border=\"1\" class=\"dataframe\">\n",
       "  <thead>\n",
       "    <tr style=\"text-align: right;\">\n",
       "      <th></th>\n",
       "      <th>sales_total</th>\n",
       "      <th>critic_score</th>\n",
       "      <th>user_score</th>\n",
       "    </tr>\n",
       "  </thead>\n",
       "  <tbody>\n",
       "    <tr>\n",
       "      <th>sales_total</th>\n",
       "      <td>1.000000</td>\n",
       "      <td>0.406568</td>\n",
       "      <td>-0.031957</td>\n",
       "    </tr>\n",
       "    <tr>\n",
       "      <th>critic_score</th>\n",
       "      <td>0.406568</td>\n",
       "      <td>1.000000</td>\n",
       "      <td>0.557654</td>\n",
       "    </tr>\n",
       "    <tr>\n",
       "      <th>user_score</th>\n",
       "      <td>-0.031957</td>\n",
       "      <td>0.557654</td>\n",
       "      <td>1.000000</td>\n",
       "    </tr>\n",
       "  </tbody>\n",
       "</table>\n",
       "</div>"
      ],
      "text/plain": [
       "              sales_total  critic_score  user_score\n",
       "sales_total      1.000000      0.406568   -0.031957\n",
       "critic_score     0.406568      1.000000    0.557654\n",
       "user_score      -0.031957      0.557654    1.000000"
      ]
     },
     "execution_count": 29,
     "metadata": {},
     "output_type": "execute_result"
    }
   ],
   "source": [
    "#матрица корреляции\n",
    "df_ps4.corr()"
   ]
  },
  {
   "cell_type": "markdown",
   "metadata": {},
   "source": [
    "Сильной зависимости между оценкой игроков и продажами нет. Стоит заметить, что на оценку игроков влияют критики. Чем выше оценка критика, тем лучше мнение игрока."
   ]
  },
  {
   "cell_type": "code",
   "execution_count": 30,
   "metadata": {},
   "outputs": [
    {
     "name": "stdout",
     "output_type": "stream",
     "text": [
      "Корреляция: -0.031957110204556376\n"
     ]
    },
    {
     "data": {
      "image/png": "[encoded data removed]",
      "text/plain": [
       "<Figure size 432x288 with 1 Axes>"
      ]
     },
     "metadata": {
      "needs_background": "light"
     },
     "output_type": "display_data"
    }
   ],
   "source": [
    "df_actual.query('platform == \"PS4\"').plot(x='user_score', y='sales_total', kind='scatter')\n",
    "plt.title('График зависимости продаж от оценки пользователей для платформы PS4')\n",
    "plt.xlabel('Оценка пользователей')\n",
    "plt.ylabel('Сумма продаж')\n",
    "df_corr = df_actual.query('platform == \"PS4\"')['user_score'].corr(df_actual['sales_total'])\n",
    "print('Корреляция:', df_corr)"
   ]
  },
  {
   "cell_type": "code",
   "execution_count": 31,
   "metadata": {},
   "outputs": [
    {
     "name": "stdout",
     "output_type": "stream",
     "text": [
      "Корреляция: 0.40656790206178095\n"
     ]
    },
    {
     "data": {
      "image/png": "[encoded data removed]",
      "text/plain": [
       "<Figure size 432x288 with 1 Axes>"
      ]
     },
     "metadata": {
      "needs_background": "light"
     },
     "output_type": "display_data"
    }
   ],
   "source": [
    "df_actual.query('platform == \"PS4\"').plot(x='critic_score', y='sales_total', kind='scatter')\n",
    "plt.title('График зависимости продаж от оценки критиков для платформы PS4')\n",
    "plt.xlabel('Оценка критиков')\n",
    "plt.ylabel('Сумма продаж')\n",
    "df_corr = df_actual.query('platform == \"PS4\"')['critic_score'].corr(df_actual['sales_total'])\n",
    "print('Корреляция:', df_corr)"
   ]
  },
  {
   "cell_type": "markdown",
   "metadata": {},
   "source": [
    "Можно сделать вывод, что корреляция для критиков более устойчива чем для пользователей. Посмотрим на другие платформы."
   ]
  },
  {
   "cell_type": "code",
   "execution_count": 32,
   "metadata": {},
   "outputs": [
    {
     "name": "stdout",
     "output_type": "stream",
     "text": [
      "Корреляция: 0.0023944027357566925\n"
     ]
    },
    {
     "data": {
      "image/png": "[encoded data removed]",
      "text/plain": [
       "<Figure size 432x288 with 1 Axes>"
      ]
     },
     "metadata": {
      "needs_background": "light"
     },
     "output_type": "display_data"
    }
   ],
   "source": [
    "df_actual.query('platform == \"PS3\"').plot(x='user_score', y='sales_total', kind='scatter')\n",
    "plt.title('График зависимости продаж от оценки пользователей для платформы PS3')\n",
    "plt.xlabel('Оценка пользователей')\n",
    "plt.ylabel('Сумма продаж')\n",
    "df_corr = df_actual.query('platform == \"PS3\"')['user_score'].corr(df_actual['sales_total'])\n",
    "print('Корреляция:', df_corr)"
   ]
  },
  {
   "cell_type": "code",
   "execution_count": 33,
   "metadata": {},
   "outputs": [
    {
     "name": "stdout",
     "output_type": "stream",
     "text": [
      "Корреляция: 0.3342853393371919\n"
     ]
    },
    {
     "data": {
      "image/png": "[encoded data removed]",
      "text/plain": [
       "<Figure size 432x288 with 1 Axes>"
      ]
     },
     "metadata": {
      "needs_background": "light"
     },
     "output_type": "display_data"
    }
   ],
   "source": [
    "df_actual.query('platform == \"PS3\"').plot(x='critic_score', y='sales_total', kind='scatter')\n",
    "plt.title('График зависимости продаж от оценки критиков для платформы PS3')\n",
    "plt.xlabel('Оценка критиков')\n",
    "plt.ylabel('Сумма продаж')\n",
    "df_corr = df_actual.query('platform == \"PS3\"')['critic_score'].corr(df_actual['sales_total'])\n",
    "print('Корреляция:', df_corr)"
   ]
  },
  {
   "cell_type": "code",
   "execution_count": 34,
   "metadata": {},
   "outputs": [
    {
     "name": "stdout",
     "output_type": "stream",
     "text": [
      "Корреляция: -0.06892505328279414\n"
     ]
    },
    {
     "data": {
      "image/png": "[encoded data removed]",
      "text/plain": [
       "<Figure size 432x288 with 1 Axes>"
      ]
     },
     "metadata": {
      "needs_background": "light"
     },
     "output_type": "display_data"
    }
   ],
   "source": [
    "df_actual.query('platform == \"XOne\"').plot(x='user_score', y='sales_total', kind='scatter')\n",
    "plt.title('График зависимости продаж от оценки пользователей для платформы XOne')\n",
    "plt.xlabel('Оценка пользователей')\n",
    "plt.ylabel('Сумма продаж')\n",
    "df_corr = df_actual.query('platform == \"XOne\"')['user_score'].corr(df_actual['sales_total'])\n",
    "print('Корреляция:', df_corr)"
   ]
  },
  {
   "cell_type": "code",
   "execution_count": 35,
   "metadata": {},
   "outputs": [
    {
     "name": "stdout",
     "output_type": "stream",
     "text": [
      "Корреляция: 0.4169983280084017\n"
     ]
    },
    {
     "data": {
      "image/png": "[encoded data removed]",
      "text/plain": [
       "<Figure size 432x288 with 1 Axes>"
      ]
     },
     "metadata": {
      "needs_background": "light"
     },
     "output_type": "display_data"
    }
   ],
   "source": [
    "df_actual.query('platform == \"XOne\"').plot(x='critic_score', y='sales_total', kind='scatter')\n",
    "plt.title('График зависимости продаж от оценки критиков для платформы XOne')\n",
    "plt.xlabel('Оценка критиков')\n",
    "plt.ylabel('Сумма продаж')\n",
    "df_corr = df_actual.query('platform == \"XOne\"')['critic_score'].corr(df_actual['sales_total'])\n",
    "print('Корреляция:', df_corr)"
   ]
  },
  {
   "cell_type": "code",
   "execution_count": 36,
   "metadata": {},
   "outputs": [
    {
     "name": "stdout",
     "output_type": "stream",
     "text": [
      "Корреляция: 0.24150411773563016\n"
     ]
    },
    {
     "data": {
      "image/png": "[encoded data removed]",
      "text/plain": [
       "<Figure size 432x288 with 1 Axes>"
      ]
     },
     "metadata": {
      "needs_background": "light"
     },
     "output_type": "display_data"
    }
   ],
   "source": [
    "df_actual.query('platform == \"3DS\"').plot(x='user_score', y='sales_total', kind='scatter')\n",
    "plt.title('График зависимости продаж от оценки пользователей для платформы 3DS')\n",
    "plt.xlabel('Оценка пользователей')\n",
    "plt.ylabel('Сумма продаж')\n",
    "df_corr = df_actual.query('platform == \"3DS\"')['user_score'].corr(df_actual['sales_total'])\n",
    "print('Корреляция:', df_corr)"
   ]
  },
  {
   "cell_type": "code",
   "execution_count": 37,
   "metadata": {},
   "outputs": [
    {
     "name": "stdout",
     "output_type": "stream",
     "text": [
      "Корреляция: 0.3570566142288103\n"
     ]
    },
    {
     "data": {
      "image/png": "[encoded data removed]",
      "text/plain": [
       "<Figure size 432x288 with 1 Axes>"
      ]
     },
     "metadata": {
      "needs_background": "light"
     },
     "output_type": "display_data"
    }
   ],
   "source": [
    "df_actual.query('platform == \"3DS\"').plot(x='critic_score', y='sales_total', kind='scatter')\n",
    "plt.title('График зависимости продаж от оценки критиков для платформы 3DS')\n",
    "plt.xlabel('Оценка критиков')\n",
    "plt.ylabel('Сумма продаж')\n",
    "df_corr = df_actual.query('platform == \"3DS\"')['critic_score'].corr(df_actual['sales_total'])\n",
    "print('Корреляция:', df_corr)"
   ]
  },
  {
   "cell_type": "code",
   "execution_count": 38,
   "metadata": {},
   "outputs": [
    {
     "name": "stdout",
     "output_type": "stream",
     "text": [
      "Корреляция: -0.011742185147181342\n"
     ]
    },
    {
     "data": {
      "image/png": "[encoded data removed]",
      "text/plain": [
       "<Figure size 432x288 with 1 Axes>"
      ]
     },
     "metadata": {
      "needs_background": "light"
     },
     "output_type": "display_data"
    }
   ],
   "source": [
    "df_actual.query('platform == \"X360\"').plot(x='user_score', y='sales_total', kind='scatter')\n",
    "plt.title('График зависимости продаж от оценки пользователей для платформы X360')\n",
    "plt.xlabel('Оценка пользователей')\n",
    "plt.ylabel('Сумма продаж')\n",
    "df_corr = df_actual.query('platform == \"X360\"')['user_score'].corr(df_actual['sales_total'])\n",
    "print('Корреляция:', df_corr)"
   ]
  },
  {
   "cell_type": "code",
   "execution_count": 39,
   "metadata": {},
   "outputs": [
    {
     "name": "stdout",
     "output_type": "stream",
     "text": [
      "Корреляция: 0.3503445460228664\n"
     ]
    },
    {
     "data": {
      "image/png": "[encoded data removed]",
      "text/plain": [
       "<Figure size 432x288 with 1 Axes>"
      ]
     },
     "metadata": {
      "needs_background": "light"
     },
     "output_type": "display_data"
    }
   ],
   "source": [
    "df_actual.query('platform == \"X360\"').plot(x='critic_score', y='sales_total', kind='scatter')\n",
    "plt.title('График зависимости продаж от оценки критиков для платформы X360')\n",
    "plt.xlabel('Оценка критиков')\n",
    "plt.ylabel('Сумма продаж')\n",
    "df_corr = df_actual.query('platform == \"X360\"')['critic_score'].corr(df_actual['sales_total'])\n",
    "print('Корреляция:', df_corr)"
   ]
  },
  {
   "cell_type": "markdown",
   "metadata": {},
   "source": [
    "Если сравнивать результаты корреляции PS4 с другими платформами, то можно заметить, что корреляция для отзывов критиков более существена чем для пользователей. Исключением будет 3DS где можно заметить самую большую корреляция для отзывов пользователей среди всех платформ, но в целом она тоже не очень большая."
   ]
  },
  {
   "cell_type": "markdown",
   "metadata": {},
   "source": [
    "Посмотрите на общее распределение игр по жанрам. Что можно сказать о самых прибыльных жанрах? Выделяются ли жанры с высокими и низкими продажами?"
   ]
  },
  {
   "cell_type": "code",
   "execution_count": 40,
   "metadata": {},
   "outputs": [
    {
     "data": {
      "text/html": [
       "<div>\n",
       "<style scoped>\n",
       "    .dataframe tbody tr th:only-of-type {\n",
       "        vertical-align: middle;\n",
       "    }\n",
       "\n",
       "    .dataframe tbody tr th {\n",
       "        vertical-align: top;\n",
       "    }\n",
       "\n",
       "    .dataframe thead tr th {\n",
       "        text-align: left;\n",
       "    }\n",
       "\n",
       "    .dataframe thead tr:last-of-type th {\n",
       "        text-align: right;\n",
       "    }\n",
       "</style>\n",
       "<table border=\"1\" class=\"dataframe\">\n",
       "  <thead>\n",
       "    <tr>\n",
       "      <th></th>\n",
       "      <th>count</th>\n",
       "      <th>sum</th>\n",
       "      <th>median</th>\n",
       "    </tr>\n",
       "    <tr>\n",
       "      <th></th>\n",
       "      <th>sales_total</th>\n",
       "      <th>sales_total</th>\n",
       "      <th>sales_total</th>\n",
       "    </tr>\n",
       "    <tr>\n",
       "      <th>genre</th>\n",
       "      <th></th>\n",
       "      <th></th>\n",
       "      <th></th>\n",
       "    </tr>\n",
       "  </thead>\n",
       "  <tbody>\n",
       "    <tr>\n",
       "      <th>Shooter</th>\n",
       "      <td>187</td>\n",
       "      <td>232.98</td>\n",
       "      <td>0.450</td>\n",
       "    </tr>\n",
       "    <tr>\n",
       "      <th>Sports</th>\n",
       "      <td>214</td>\n",
       "      <td>150.65</td>\n",
       "      <td>0.240</td>\n",
       "    </tr>\n",
       "    <tr>\n",
       "      <th>Platform</th>\n",
       "      <td>74</td>\n",
       "      <td>42.63</td>\n",
       "      <td>0.225</td>\n",
       "    </tr>\n",
       "    <tr>\n",
       "      <th>Role-Playing</th>\n",
       "      <td>292</td>\n",
       "      <td>145.89</td>\n",
       "      <td>0.125</td>\n",
       "    </tr>\n",
       "    <tr>\n",
       "      <th>Fighting</th>\n",
       "      <td>80</td>\n",
       "      <td>35.31</td>\n",
       "      <td>0.125</td>\n",
       "    </tr>\n",
       "    <tr>\n",
       "      <th>Racing</th>\n",
       "      <td>85</td>\n",
       "      <td>39.89</td>\n",
       "      <td>0.120</td>\n",
       "    </tr>\n",
       "    <tr>\n",
       "      <th>Action</th>\n",
       "      <td>766</td>\n",
       "      <td>321.87</td>\n",
       "      <td>0.110</td>\n",
       "    </tr>\n",
       "    <tr>\n",
       "      <th>Simulation</th>\n",
       "      <td>62</td>\n",
       "      <td>21.76</td>\n",
       "      <td>0.100</td>\n",
       "    </tr>\n",
       "    <tr>\n",
       "      <th>Misc</th>\n",
       "      <td>155</td>\n",
       "      <td>62.82</td>\n",
       "      <td>0.100</td>\n",
       "    </tr>\n",
       "    <tr>\n",
       "      <th>Strategy</th>\n",
       "      <td>56</td>\n",
       "      <td>10.08</td>\n",
       "      <td>0.080</td>\n",
       "    </tr>\n",
       "    <tr>\n",
       "      <th>Puzzle</th>\n",
       "      <td>17</td>\n",
       "      <td>3.17</td>\n",
       "      <td>0.060</td>\n",
       "    </tr>\n",
       "    <tr>\n",
       "      <th>Adventure</th>\n",
       "      <td>245</td>\n",
       "      <td>23.64</td>\n",
       "      <td>0.030</td>\n",
       "    </tr>\n",
       "  </tbody>\n",
       "</table>\n",
       "</div>"
      ],
      "text/plain": [
       "                   count         sum      median\n",
       "             sales_total sales_total sales_total\n",
       "genre                                           \n",
       "Shooter              187      232.98       0.450\n",
       "Sports               214      150.65       0.240\n",
       "Platform              74       42.63       0.225\n",
       "Role-Playing         292      145.89       0.125\n",
       "Fighting              80       35.31       0.125\n",
       "Racing                85       39.89       0.120\n",
       "Action               766      321.87       0.110\n",
       "Simulation            62       21.76       0.100\n",
       "Misc                 155       62.82       0.100\n",
       "Strategy              56       10.08       0.080\n",
       "Puzzle                17        3.17       0.060\n",
       "Adventure            245       23.64       0.030"
      ]
     },
     "execution_count": 40,
     "metadata": {},
     "output_type": "execute_result"
    }
   ],
   "source": [
    "# Отобразим сводную таблицу по количеству игр, по суммарным и медианным продажам в разных жанрах \n",
    "df_actual.pivot_table(index = 'genre', values = 'sales_total', aggfunc = ['count', 'sum', 'median'])\\\n",
    ".sort_values(by = ('median', 'sales_total'), ascending = False)"
   ]
  },
  {
   "cell_type": "markdown",
   "metadata": {},
   "source": [
    "Самым продаваемым жанром является shooter, данный жанр также характеризуется наибольшим показателем медианных продаж - шутеры продаются в 2 раза лучше, чем ближайшие кокнуренты sports и platform. Самый непопулярный жанр это Adventure."
   ]
  },
  {
   "cell_type": "markdown",
   "metadata": {},
   "source": [
    "# Вывод:\n",
    "- В 80-е выпускалось очень мало игр каждый год, в 90-е и 00-е количество игр выпускаемых каждый год постепенно увеличивалось, не смотря на небольшие спады, с 2009 по 2011 виден резкий спад, в период с 2012 по 2016 количество игр выпускаемых каждый год постепенно выравнелось.\n",
    "- Срок жизни одной платформы составляет, в среднем, 9 лет. Из графика можно увидеть платформы, ответственные за определенные пики в продажах по годам. Так, небольшие пики 1998 и 2002 года явно связаны с PS и PS2, а самый большой пик 2008-2009 года - с Wii, Xbox 360, PSP и, частично, PS3.\n",
    "- Топ 3 продаж составляют PS4, PS3 И XOne. Необычайно низкие продажи PC. Игровые консоли нового поколения имеют высокие продажи, особенно PS4, к сожалению, хоть WiiU и относится к новому поколению консолей, продажи этой приставки ниже чем у PS3 и Х360. В целом, считаю, что лучше ориентироваться на PS4 И XOne, потому что это консоли нового поколения и имеют высокие продажи.\n",
    "- Корреляция для критиков более устойчива чем для пользователей\n",
    "- Если сравнивать результаты корреляции PS4 с другими платформами, то можно заметить, что корреляция для отзывов критиков более существена чем для пользователей. Исключением будет 3DS где можно заметить самую большую корреляция для отзывов пользователей среди всех платформ, но в целом она тоже не очень большая.\n",
    "- Самым продаваемым жанром является shooter, данный жанр также характеризуется наибольшим показателем медианных продаж - шутеры продаются в 2 раза лучше, чем ближайшие кокнуренты sports и platform. Самый непопулярный жанр это Adventure."
   ]
  },
  {
   "cell_type": "markdown",
   "metadata": {},
   "source": [
    "# Шаг 4. Составить портрет пользователя каждого региона"
   ]
  },
  {
   "cell_type": "markdown",
   "metadata": {},
   "source": [
    "Определите самые популярные платформы (топ-5). Опишите различия в долях продаж."
   ]
  },
  {
   "cell_type": "code",
   "execution_count": 41,
   "metadata": {},
   "outputs": [
    {
     "data": {
      "text/html": [
       "<div>\n",
       "<style scoped>\n",
       "    .dataframe tbody tr th:only-of-type {\n",
       "        vertical-align: middle;\n",
       "    }\n",
       "\n",
       "    .dataframe tbody tr th {\n",
       "        vertical-align: top;\n",
       "    }\n",
       "\n",
       "    .dataframe thead th {\n",
       "        text-align: right;\n",
       "    }\n",
       "</style>\n",
       "<table border=\"1\" class=\"dataframe\">\n",
       "  <thead>\n",
       "    <tr style=\"text-align: right;\">\n",
       "      <th></th>\n",
       "      <th>na_sales</th>\n",
       "    </tr>\n",
       "    <tr>\n",
       "      <th>platform</th>\n",
       "      <th></th>\n",
       "    </tr>\n",
       "  </thead>\n",
       "  <tbody>\n",
       "    <tr>\n",
       "      <th>PS4</th>\n",
       "      <td>108.74</td>\n",
       "    </tr>\n",
       "    <tr>\n",
       "      <th>XOne</th>\n",
       "      <td>93.12</td>\n",
       "    </tr>\n",
       "    <tr>\n",
       "      <th>X360</th>\n",
       "      <td>81.66</td>\n",
       "    </tr>\n",
       "    <tr>\n",
       "      <th>PS3</th>\n",
       "      <td>63.50</td>\n",
       "    </tr>\n",
       "    <tr>\n",
       "      <th>3DS</th>\n",
       "      <td>38.20</td>\n",
       "    </tr>\n",
       "  </tbody>\n",
       "</table>\n",
       "</div>"
      ],
      "text/plain": [
       "          na_sales\n",
       "platform          \n",
       "PS4         108.74\n",
       "XOne         93.12\n",
       "X360         81.66\n",
       "PS3          63.50\n",
       "3DS          38.20"
      ]
     },
     "execution_count": 41,
     "metadata": {},
     "output_type": "execute_result"
    },
    {
     "data": {
      "image/png": "[encoded data removed]",
      "text/plain": [
       "<Figure size 720x720 with 1 Axes>"
      ]
     },
     "metadata": {},
     "output_type": "display_data"
    }
   ],
   "source": [
    "na_region = df_actual.pivot_table(index='platform', values='na_sales', aggfunc='sum').sort_values(by='na_sales', ascending=False).head(5)\n",
    "na_region['na_sales'].plot(kind='pie', figsize=(10,10), autopct='%.0f%%')\n",
    "plt.title('Топ 5 платформ по продажам в Северной Америке')\n",
    "plt.xlabel('Платформа')\n",
    "plt.ylabel('Сумма продаж')\n",
    "na_region"
   ]
  },
  {
   "cell_type": "code",
   "execution_count": 42,
   "metadata": {},
   "outputs": [
    {
     "data": {
      "text/html": [
       "<div>\n",
       "<style scoped>\n",
       "    .dataframe tbody tr th:only-of-type {\n",
       "        vertical-align: middle;\n",
       "    }\n",
       "\n",
       "    .dataframe tbody tr th {\n",
       "        vertical-align: top;\n",
       "    }\n",
       "\n",
       "    .dataframe thead th {\n",
       "        text-align: right;\n",
       "    }\n",
       "</style>\n",
       "<table border=\"1\" class=\"dataframe\">\n",
       "  <thead>\n",
       "    <tr style=\"text-align: right;\">\n",
       "      <th></th>\n",
       "      <th>eu_sales</th>\n",
       "    </tr>\n",
       "    <tr>\n",
       "      <th>platform</th>\n",
       "      <th></th>\n",
       "    </tr>\n",
       "  </thead>\n",
       "  <tbody>\n",
       "    <tr>\n",
       "      <th>PS4</th>\n",
       "      <td>141.09</td>\n",
       "    </tr>\n",
       "    <tr>\n",
       "      <th>PS3</th>\n",
       "      <td>67.81</td>\n",
       "    </tr>\n",
       "    <tr>\n",
       "      <th>XOne</th>\n",
       "      <td>51.59</td>\n",
       "    </tr>\n",
       "    <tr>\n",
       "      <th>X360</th>\n",
       "      <td>42.52</td>\n",
       "    </tr>\n",
       "    <tr>\n",
       "      <th>3DS</th>\n",
       "      <td>30.96</td>\n",
       "    </tr>\n",
       "  </tbody>\n",
       "</table>\n",
       "</div>"
      ],
      "text/plain": [
       "          eu_sales\n",
       "platform          \n",
       "PS4         141.09\n",
       "PS3          67.81\n",
       "XOne         51.59\n",
       "X360         42.52\n",
       "3DS          30.96"
      ]
     },
     "execution_count": 42,
     "metadata": {},
     "output_type": "execute_result"
    },
    {
     "data": {
      "image/png": "[encoded data removed]",
      "text/plain": [
       "<Figure size 720x720 with 1 Axes>"
      ]
     },
     "metadata": {},
     "output_type": "display_data"
    }
   ],
   "source": [
    "eu_region = df_actual.pivot_table(index='platform', values='eu_sales', aggfunc='sum').sort_values(by='eu_sales', ascending=False).head(5)\n",
    "eu_region['eu_sales'].plot(kind='pie', figsize=(10,10), autopct='%.0f%%')\n",
    "plt.title('Топ 5 платформ по продажам в Европе')\n",
    "plt.xlabel('Платформа')\n",
    "plt.ylabel('Сумма продаж')\n",
    "eu_region"
   ]
  },
  {
   "cell_type": "code",
   "execution_count": 43,
   "metadata": {},
   "outputs": [
    {
     "data": {
      "text/html": [
       "<div>\n",
       "<style scoped>\n",
       "    .dataframe tbody tr th:only-of-type {\n",
       "        vertical-align: middle;\n",
       "    }\n",
       "\n",
       "    .dataframe tbody tr th {\n",
       "        vertical-align: top;\n",
       "    }\n",
       "\n",
       "    .dataframe thead th {\n",
       "        text-align: right;\n",
       "    }\n",
       "</style>\n",
       "<table border=\"1\" class=\"dataframe\">\n",
       "  <thead>\n",
       "    <tr style=\"text-align: right;\">\n",
       "      <th></th>\n",
       "      <th>jp_sales</th>\n",
       "    </tr>\n",
       "    <tr>\n",
       "      <th>platform</th>\n",
       "      <th></th>\n",
       "    </tr>\n",
       "  </thead>\n",
       "  <tbody>\n",
       "    <tr>\n",
       "      <th>3DS</th>\n",
       "      <td>67.81</td>\n",
       "    </tr>\n",
       "    <tr>\n",
       "      <th>PS3</th>\n",
       "      <td>23.35</td>\n",
       "    </tr>\n",
       "    <tr>\n",
       "      <th>PSV</th>\n",
       "      <td>18.59</td>\n",
       "    </tr>\n",
       "    <tr>\n",
       "      <th>PS4</th>\n",
       "      <td>15.96</td>\n",
       "    </tr>\n",
       "    <tr>\n",
       "      <th>WiiU</th>\n",
       "      <td>10.88</td>\n",
       "    </tr>\n",
       "  </tbody>\n",
       "</table>\n",
       "</div>"
      ],
      "text/plain": [
       "          jp_sales\n",
       "platform          \n",
       "3DS          67.81\n",
       "PS3          23.35\n",
       "PSV          18.59\n",
       "PS4          15.96\n",
       "WiiU         10.88"
      ]
     },
     "execution_count": 43,
     "metadata": {},
     "output_type": "execute_result"
    },
    {
     "data": {
      "image/png": "[encoded data removed]",
      "text/plain": [
       "<Figure size 720x720 with 1 Axes>"
      ]
     },
     "metadata": {},
     "output_type": "display_data"
    }
   ],
   "source": [
    "jp_region = df_actual.pivot_table(index='platform', values='jp_sales', aggfunc='sum').sort_values(by='jp_sales', ascending=False).head(5)\n",
    "jp_region['jp_sales'].plot(kind='pie', figsize=(10,10), autopct='%.0f%%')\n",
    "plt.title('Топ 5 платформ по продажам в Японии')\n",
    "plt.xlabel('Платформа')\n",
    "plt.ylabel('Сумма продаж')\n",
    "jp_region"
   ]
  },
  {
   "cell_type": "markdown",
   "metadata": {},
   "source": [
    "Профиль пользователей Северной Америки и Европы в некотором роде похож. Наиболее популярной платформой в этих регионах являются PS4. Но в Японии картина значительно отличается, наиболее популярной платформой здесь является 3DS, и она одна занимает значительную часть рынка. Также видно, что топ-5 платформ занимаю большую часть рынка."
   ]
  },
  {
   "cell_type": "markdown",
   "metadata": {},
   "source": [
    "Определите самые популярные жанры (топ-5). Поясните разницу."
   ]
  },
  {
   "cell_type": "code",
   "execution_count": 44,
   "metadata": {},
   "outputs": [
    {
     "data": {
      "text/html": [
       "<div>\n",
       "<style scoped>\n",
       "    .dataframe tbody tr th:only-of-type {\n",
       "        vertical-align: middle;\n",
       "    }\n",
       "\n",
       "    .dataframe tbody tr th {\n",
       "        vertical-align: top;\n",
       "    }\n",
       "\n",
       "    .dataframe thead th {\n",
       "        text-align: right;\n",
       "    }\n",
       "</style>\n",
       "<table border=\"1\" class=\"dataframe\">\n",
       "  <thead>\n",
       "    <tr style=\"text-align: right;\">\n",
       "      <th></th>\n",
       "      <th>na_sales</th>\n",
       "    </tr>\n",
       "    <tr>\n",
       "      <th>genre</th>\n",
       "      <th></th>\n",
       "    </tr>\n",
       "  </thead>\n",
       "  <tbody>\n",
       "    <tr>\n",
       "      <th>Action</th>\n",
       "      <td>126.05</td>\n",
       "    </tr>\n",
       "    <tr>\n",
       "      <th>Shooter</th>\n",
       "      <td>109.74</td>\n",
       "    </tr>\n",
       "    <tr>\n",
       "      <th>Sports</th>\n",
       "      <td>65.27</td>\n",
       "    </tr>\n",
       "    <tr>\n",
       "      <th>Role-Playing</th>\n",
       "      <td>46.40</td>\n",
       "    </tr>\n",
       "    <tr>\n",
       "      <th>Misc</th>\n",
       "      <td>27.49</td>\n",
       "    </tr>\n",
       "  </tbody>\n",
       "</table>\n",
       "</div>"
      ],
      "text/plain": [
       "              na_sales\n",
       "genre                 \n",
       "Action          126.05\n",
       "Shooter         109.74\n",
       "Sports           65.27\n",
       "Role-Playing     46.40\n",
       "Misc             27.49"
      ]
     },
     "execution_count": 44,
     "metadata": {},
     "output_type": "execute_result"
    },
    {
     "data": {
      "image/png": "[encoded data removed]",
      "text/plain": [
       "<Figure size 720x720 with 1 Axes>"
      ]
     },
     "metadata": {},
     "output_type": "display_data"
    }
   ],
   "source": [
    "na_genres = df_actual.pivot_table(index='genre', values='na_sales', aggfunc='sum').sort_values(by='na_sales', ascending=False).head(5)\n",
    "na_genres['na_sales'].plot(kind='pie', figsize=(10,10), autopct='%.0f%%')\n",
    "plt.title('Топ 5 жанров по продажам в Северной Америке')\n",
    "plt.xlabel('Жанр')\n",
    "plt.ylabel('Сумма продаж')\n",
    "na_genres"
   ]
  },
  {
   "cell_type": "code",
   "execution_count": 45,
   "metadata": {},
   "outputs": [
    {
     "data": {
      "text/html": [
       "<div>\n",
       "<style scoped>\n",
       "    .dataframe tbody tr th:only-of-type {\n",
       "        vertical-align: middle;\n",
       "    }\n",
       "\n",
       "    .dataframe tbody tr th {\n",
       "        vertical-align: top;\n",
       "    }\n",
       "\n",
       "    .dataframe thead th {\n",
       "        text-align: right;\n",
       "    }\n",
       "</style>\n",
       "<table border=\"1\" class=\"dataframe\">\n",
       "  <thead>\n",
       "    <tr style=\"text-align: right;\">\n",
       "      <th></th>\n",
       "      <th>eu_sales</th>\n",
       "    </tr>\n",
       "    <tr>\n",
       "      <th>genre</th>\n",
       "      <th></th>\n",
       "    </tr>\n",
       "  </thead>\n",
       "  <tbody>\n",
       "    <tr>\n",
       "      <th>Action</th>\n",
       "      <td>118.13</td>\n",
       "    </tr>\n",
       "    <tr>\n",
       "      <th>Shooter</th>\n",
       "      <td>87.86</td>\n",
       "    </tr>\n",
       "    <tr>\n",
       "      <th>Sports</th>\n",
       "      <td>60.52</td>\n",
       "    </tr>\n",
       "    <tr>\n",
       "      <th>Role-Playing</th>\n",
       "      <td>36.97</td>\n",
       "    </tr>\n",
       "    <tr>\n",
       "      <th>Racing</th>\n",
       "      <td>20.19</td>\n",
       "    </tr>\n",
       "  </tbody>\n",
       "</table>\n",
       "</div>"
      ],
      "text/plain": [
       "              eu_sales\n",
       "genre                 \n",
       "Action          118.13\n",
       "Shooter          87.86\n",
       "Sports           60.52\n",
       "Role-Playing     36.97\n",
       "Racing           20.19"
      ]
     },
     "execution_count": 45,
     "metadata": {},
     "output_type": "execute_result"
    },
    {
     "data": {
      "image/png": "[encoded data removed]",
      "text/plain": [
       "<Figure size 720x720 with 1 Axes>"
      ]
     },
     "metadata": {},
     "output_type": "display_data"
    }
   ],
   "source": [
    "eu_genres = df_actual.pivot_table(index='genre', values='eu_sales', aggfunc='sum').sort_values(by='eu_sales', ascending=False).head(5)\n",
    "eu_genres['eu_sales'].plot(kind='pie', figsize=(10,10), autopct='%.0f%%')\n",
    "plt.title('Топ 5 жанров по продажам в Европе')\n",
    "plt.xlabel('Жанр')\n",
    "plt.ylabel('Сумма продаж')\n",
    "eu_genres"
   ]
  },
  {
   "cell_type": "code",
   "execution_count": 46,
   "metadata": {},
   "outputs": [
    {
     "data": {
      "text/html": [
       "<div>\n",
       "<style scoped>\n",
       "    .dataframe tbody tr th:only-of-type {\n",
       "        vertical-align: middle;\n",
       "    }\n",
       "\n",
       "    .dataframe tbody tr th {\n",
       "        vertical-align: top;\n",
       "    }\n",
       "\n",
       "    .dataframe thead th {\n",
       "        text-align: right;\n",
       "    }\n",
       "</style>\n",
       "<table border=\"1\" class=\"dataframe\">\n",
       "  <thead>\n",
       "    <tr style=\"text-align: right;\">\n",
       "      <th></th>\n",
       "      <th>jp_sales</th>\n",
       "    </tr>\n",
       "    <tr>\n",
       "      <th>genre</th>\n",
       "      <th></th>\n",
       "    </tr>\n",
       "  </thead>\n",
       "  <tbody>\n",
       "    <tr>\n",
       "      <th>Role-Playing</th>\n",
       "      <td>51.04</td>\n",
       "    </tr>\n",
       "    <tr>\n",
       "      <th>Action</th>\n",
       "      <td>40.49</td>\n",
       "    </tr>\n",
       "    <tr>\n",
       "      <th>Misc</th>\n",
       "      <td>9.20</td>\n",
       "    </tr>\n",
       "    <tr>\n",
       "      <th>Fighting</th>\n",
       "      <td>7.65</td>\n",
       "    </tr>\n",
       "    <tr>\n",
       "      <th>Shooter</th>\n",
       "      <td>6.61</td>\n",
       "    </tr>\n",
       "  </tbody>\n",
       "</table>\n",
       "</div>"
      ],
      "text/plain": [
       "              jp_sales\n",
       "genre                 \n",
       "Role-Playing     51.04\n",
       "Action           40.49\n",
       "Misc              9.20\n",
       "Fighting          7.65\n",
       "Shooter           6.61"
      ]
     },
     "execution_count": 46,
     "metadata": {},
     "output_type": "execute_result"
    },
    {
     "data": {
      "image/png": "[encoded data removed]",
      "text/plain": [
       "<Figure size 720x720 with 1 Axes>"
      ]
     },
     "metadata": {},
     "output_type": "display_data"
    }
   ],
   "source": [
    "jp_genres = df_actual.pivot_table(index='genre', values='jp_sales', aggfunc='sum').sort_values(by='jp_sales', ascending=False).head(5)\n",
    "jp_genres['jp_sales'].plot(kind='pie', figsize=(10,10), autopct='%.0f%%')\n",
    "plt.title('Топ 5 жанров по продажам в Японии')\n",
    "plt.xlabel('Жанр')\n",
    "plt.ylabel('Сумма продаж')\n",
    "jp_genres"
   ]
  },
  {
   "cell_type": "markdown",
   "metadata": {},
   "source": [
    "Из полученных данных видно для Северной Америки и Европы популярные жанры, как и их доли на рынке, практически совпадают. В Японии большую часть рынка занимают RPG игры и action."
   ]
  },
  {
   "cell_type": "markdown",
   "metadata": {},
   "source": [
    "Определите влияет ли рейтинг ESRB на продажи в отдельном регионе?"
   ]
  },
  {
   "cell_type": "code",
   "execution_count": 47,
   "metadata": {},
   "outputs": [
    {
     "data": {
      "text/html": [
       "<div>\n",
       "<style scoped>\n",
       "    .dataframe tbody tr th:only-of-type {\n",
       "        vertical-align: middle;\n",
       "    }\n",
       "\n",
       "    .dataframe tbody tr th {\n",
       "        vertical-align: top;\n",
       "    }\n",
       "\n",
       "    .dataframe thead th {\n",
       "        text-align: right;\n",
       "    }\n",
       "</style>\n",
       "<table border=\"1\" class=\"dataframe\">\n",
       "  <thead>\n",
       "    <tr style=\"text-align: right;\">\n",
       "      <th></th>\n",
       "      <th>na_sales</th>\n",
       "    </tr>\n",
       "    <tr>\n",
       "      <th>rating</th>\n",
       "      <th></th>\n",
       "    </tr>\n",
       "  </thead>\n",
       "  <tbody>\n",
       "    <tr>\n",
       "      <th>M</th>\n",
       "      <td>165.21</td>\n",
       "    </tr>\n",
       "    <tr>\n",
       "      <th>E</th>\n",
       "      <td>79.05</td>\n",
       "    </tr>\n",
       "    <tr>\n",
       "      <th>E10+</th>\n",
       "      <td>54.24</td>\n",
       "    </tr>\n",
       "    <tr>\n",
       "      <th>T</th>\n",
       "      <td>49.79</td>\n",
       "    </tr>\n",
       "  </tbody>\n",
       "</table>\n",
       "</div>"
      ],
      "text/plain": [
       "        na_sales\n",
       "rating          \n",
       "M         165.21\n",
       "E          79.05\n",
       "E10+       54.24\n",
       "T          49.79"
      ]
     },
     "execution_count": 47,
     "metadata": {},
     "output_type": "execute_result"
    },
    {
     "data": {
      "image/png": "[encoded data removed]",
      "text/plain": [
       "<Figure size 720x720 with 1 Axes>"
      ]
     },
     "metadata": {},
     "output_type": "display_data"
    }
   ],
   "source": [
    "na_esrb = df_actual.pivot_table(index='rating', values='na_sales', aggfunc='sum').sort_values(by='na_sales', ascending=False).head(5)\n",
    "na_esrb['na_sales'].plot(kind='pie', figsize=(10,10), autopct='%.0f%%')\n",
    "plt.title('Топ рейтингов ESRB по продажам в Северной Америке')\n",
    "plt.xlabel('Рейтинг')\n",
    "plt.ylabel('Сумма продаж')\n",
    "na_esrb"
   ]
  },
  {
   "cell_type": "code",
   "execution_count": 48,
   "metadata": {},
   "outputs": [
    {
     "data": {
      "text/html": [
       "<div>\n",
       "<style scoped>\n",
       "    .dataframe tbody tr th:only-of-type {\n",
       "        vertical-align: middle;\n",
       "    }\n",
       "\n",
       "    .dataframe tbody tr th {\n",
       "        vertical-align: top;\n",
       "    }\n",
       "\n",
       "    .dataframe thead th {\n",
       "        text-align: right;\n",
       "    }\n",
       "</style>\n",
       "<table border=\"1\" class=\"dataframe\">\n",
       "  <thead>\n",
       "    <tr style=\"text-align: right;\">\n",
       "      <th></th>\n",
       "      <th>eu_sales</th>\n",
       "    </tr>\n",
       "    <tr>\n",
       "      <th>rating</th>\n",
       "      <th></th>\n",
       "    </tr>\n",
       "  </thead>\n",
       "  <tbody>\n",
       "    <tr>\n",
       "      <th>M</th>\n",
       "      <td>145.32</td>\n",
       "    </tr>\n",
       "    <tr>\n",
       "      <th>E</th>\n",
       "      <td>83.36</td>\n",
       "    </tr>\n",
       "    <tr>\n",
       "      <th>E10+</th>\n",
       "      <td>42.69</td>\n",
       "    </tr>\n",
       "    <tr>\n",
       "      <th>T</th>\n",
       "      <td>41.95</td>\n",
       "    </tr>\n",
       "  </tbody>\n",
       "</table>\n",
       "</div>"
      ],
      "text/plain": [
       "        eu_sales\n",
       "rating          \n",
       "M         145.32\n",
       "E          83.36\n",
       "E10+       42.69\n",
       "T          41.95"
      ]
     },
     "execution_count": 48,
     "metadata": {},
     "output_type": "execute_result"
    },
    {
     "data": {
      "image/png": "[encoded data removed]",
      "text/plain": [
       "<Figure size 720x720 with 1 Axes>"
      ]
     },
     "metadata": {},
     "output_type": "display_data"
    }
   ],
   "source": [
    "eu_esrb = df_actual.pivot_table(index='rating', values='eu_sales', aggfunc='sum').sort_values(by='eu_sales', ascending=False).head(5)\n",
    "eu_esrb['eu_sales'].plot(kind='pie', figsize=(10,10), autopct='%.0f%%')\n",
    "plt.title('Топ рейтингов ESRB по продажам в Европе')\n",
    "plt.xlabel('Рейтинг')\n",
    "plt.ylabel('Сумма продаж')\n",
    "eu_esrb"
   ]
  },
  {
   "cell_type": "code",
   "execution_count": 49,
   "metadata": {},
   "outputs": [
    {
     "data": {
      "text/html": [
       "<div>\n",
       "<style scoped>\n",
       "    .dataframe tbody tr th:only-of-type {\n",
       "        vertical-align: middle;\n",
       "    }\n",
       "\n",
       "    .dataframe tbody tr th {\n",
       "        vertical-align: top;\n",
       "    }\n",
       "\n",
       "    .dataframe thead th {\n",
       "        text-align: right;\n",
       "    }\n",
       "</style>\n",
       "<table border=\"1\" class=\"dataframe\">\n",
       "  <thead>\n",
       "    <tr style=\"text-align: right;\">\n",
       "      <th></th>\n",
       "      <th>jp_sales</th>\n",
       "    </tr>\n",
       "    <tr>\n",
       "      <th>rating</th>\n",
       "      <th></th>\n",
       "    </tr>\n",
       "  </thead>\n",
       "  <tbody>\n",
       "    <tr>\n",
       "      <th>T</th>\n",
       "      <td>20.59</td>\n",
       "    </tr>\n",
       "    <tr>\n",
       "      <th>E</th>\n",
       "      <td>15.14</td>\n",
       "    </tr>\n",
       "    <tr>\n",
       "      <th>M</th>\n",
       "      <td>14.11</td>\n",
       "    </tr>\n",
       "    <tr>\n",
       "      <th>E10+</th>\n",
       "      <td>5.89</td>\n",
       "    </tr>\n",
       "  </tbody>\n",
       "</table>\n",
       "</div>"
      ],
      "text/plain": [
       "        jp_sales\n",
       "rating          \n",
       "T          20.59\n",
       "E          15.14\n",
       "M          14.11\n",
       "E10+        5.89"
      ]
     },
     "execution_count": 49,
     "metadata": {},
     "output_type": "execute_result"
    },
    {
     "data": {
      "image/png": "[encoded data removed]",
      "text/plain": [
       "<Figure size 720x720 with 1 Axes>"
      ]
     },
     "metadata": {},
     "output_type": "display_data"
    }
   ],
   "source": [
    "jp_esrb = df_actual.pivot_table(index='rating', values='jp_sales', aggfunc='sum').sort_values(by='jp_sales', ascending=False).head(5)\n",
    "jp_esrb['jp_sales'].plot(kind='pie', figsize=(10,10), autopct='%.0f%%')\n",
    "plt.title('Топ рейтингов ESRB по продажам в Японии')\n",
    "plt.xlabel('Рейтинг')\n",
    "plt.ylabel('Сумма продаж')\n",
    "jp_esrb"
   ]
  },
  {
   "cell_type": "markdown",
   "metadata": {},
   "source": [
    "По аналогии с жанрами Северная Америка и Европа очень схожи - близкое количество продаж и одинаковый топ рейтинга: в основном предпочитают игры со взрослым рейтингом. А в Японии, с большим отрывом на первом месте идут игры для подростков."
   ]
  },
  {
   "cell_type": "code",
   "execution_count": 50,
   "metadata": {},
   "outputs": [
    {
     "name": "stdout",
     "output_type": "stream",
     "text": [
      "977 0.43752798925212716\n"
     ]
    },
    {
     "data": {
      "text/plain": [
       "NaN     977\n",
       "M       369\n",
       "T       333\n",
       "E       302\n",
       "E10+    252\n",
       "Name: rating, dtype: int64"
      ]
     },
     "execution_count": 50,
     "metadata": {},
     "output_type": "execute_result"
    }
   ],
   "source": [
    "# Комментарий ревьюера\n",
    "temp = df_actual.copy()\n",
    "print(temp.rating.isna().sum(), temp.rating.isna().sum()/len(temp))\n",
    "temp.rating.value_counts(dropna=False)"
   ]
  },
  {
   "cell_type": "markdown",
   "metadata": {},
   "source": [
    "# Вывод:\n",
    "- Профиль пользователей Северной Америки и Европы в некотором роде похож. Наиболее популярной платформой в этих регионах являются PS4. Но в Японии картина значительно отличается, наиболее популярной платформой здесь является 3DS, и она одна занимает значительную часть рынка. Также видно, что топ-5 платформ занимаю большую часть рынка.\n",
    "- Из полученных данных видно для Северной Америки и Европы популярные жанры, как и их доли на рынке, практически совпадают. В Японии большую часть рынка занимают RPG игры и action.\n",
    "- По аналогии с жанрами Северная Америка и Европа очень схожи - близкое количество продаж и одинаковый топ рейтинга: в основном предпочитают игры со взрослым рейтингом. А в Японии, с большим отрывом на первом месте идут игры для подростков."
   ]
  },
  {
   "cell_type": "markdown",
   "metadata": {},
   "source": [
    "# Шаг 5. Проверить гипотезы"
   ]
  },
  {
   "cell_type": "markdown",
   "metadata": {},
   "source": [
    "- Нулевая гипотеза(H0): Средние пользовательские рейтинги платформ Xbox One и PC одинаковые.\n",
    "- Альтернативная гипотеза(H1): Средние пользовательские рейтинги платформ Xbox One и PC разные."
   ]
  },
  {
   "cell_type": "code",
   "execution_count": 51,
   "metadata": {},
   "outputs": [
    {
     "name": "stdout",
     "output_type": "stream",
     "text": [
      "p-value: 0.14012658403611503\n",
      "Не получилось отвергнуть нулевую гипотезу\n"
     ]
    }
   ],
   "source": [
    "# укажем уровень статиcтической значимости\n",
    "alpha = 0.05\n",
    "\n",
    "sample1 = df_actual.query('platform == \"XOne\"')['user_score']\n",
    "\n",
    "sample2 =  df_actual.query('platform == \"PC\"')['user_score']\n",
    "\n",
    "results = st.ttest_ind(sample1, sample2, alternative = 'two-sided', nan_policy='omit', equal_var = True)\n",
    "\n",
    "print('p-value:', results.pvalue) \n",
    "\n",
    "if (results.pvalue < alpha): \n",
    "    print('Отвергаем нулевую гипотезу')\n",
    "else: \n",
    "    print('Не получилось отвергнуть нулевую гипотезу')"
   ]
  },
  {
   "cell_type": "markdown",
   "metadata": {},
   "source": [
    "При проверке гипотезы о равенстве средних пользовательских рейтингов платформ Xbox One и PC, P-значение оказалось равным 0.14012658403611503, что выше заданного порогового значения alpha. При таком высоком P-значении отвергнуть H0 не представляется возможным. Таким образом, средние пользовательские рейтинги платформ Xbox One и PC одинаковые."
   ]
  },
  {
   "cell_type": "markdown",
   "metadata": {},
   "source": [
    "- Нулевая гипотеза(H0): Средние пользовательские рейтинги жанров Action и Sports одинаковые.\n",
    "- Альтернативная гипотеза(H1): Средние пользовательские рейтинги жанров Action и Sports разные."
   ]
  },
  {
   "cell_type": "code",
   "execution_count": 52,
   "metadata": {},
   "outputs": [
    {
     "name": "stdout",
     "output_type": "stream",
     "text": [
      "p-value: 1.0517832389139422e-27\n",
      "Отвергаем нулевую гипотезу\n"
     ]
    }
   ],
   "source": [
    "# укажем уровень статиcтической значимости\n",
    "alpha = 0.05\n",
    "\n",
    "sample1 = df_actual.query('genre == \"Action\"')['user_score']\n",
    "\n",
    "sample2 = df_actual.query('genre == \"Sports\"')['user_score']\n",
    "\n",
    "results = st.ttest_ind(sample1, sample2, alternative ='two-sided', nan_policy ='omit')\n",
    "\n",
    "print('p-value:', results.pvalue)\n",
    "\n",
    "if (results.pvalue < alpha): \n",
    "    print('Отвергаем нулевую гипотезу')\n",
    "else: \n",
    "    print('Не получилось отвергнуть нулевую гипотезу')"
   ]
  },
  {
   "cell_type": "markdown",
   "metadata": {},
   "source": [
    "При проверке гипотезы о равенстве средних пользовательских рейтингов жанров Action и Sports, P-значение оказалось равным 1.0517832389139422e-27, что существенно меньше заданного порогового значения alpha. При таком P-значении нулевая гипотеза H0 была отвергнута. Таким образом, средние пользовательские рейтинги жанров Action и Sports разные."
   ]
  },
  {
   "cell_type": "markdown",
   "metadata": {},
   "source": [
    "# Вывод:\n",
    "- При проверке гипотезы о равенстве средних пользовательских рейтингов платформ Xbox One и PC, P-значение оказалось равным 0.14012658403611503, что выше заданного порогового значения alpha. При таком высоком P-значении отвергнуть H0 не представляется возможным. Таким образом, средние пользовательские рейтинги платформ Xbox One и PC одинаковые.\n",
    "- При проверке гипотезы о равенстве средних пользовательских рейтингов жанров Action и Sports, P-значение оказалось равным 1.0517832389139422e-27, что существенно меньше заданного порогового значения alpha. При таком P-значении нулевая гипотеза H0 была отвергнута. Таким образом, средние пользовательские рейтинги жанров Action и Sports разные."
   ]
  },
  {
   "cell_type": "markdown",
   "metadata": {},
   "source": [
    "- Мы сформулировали нулевые гипотезы о, том что средние двух генеральных совокупностей одинаковые. Нас интересует отклонение как в большую, так и в меньшую сторону, поэтому альтернативные гипотезы о неравенстве средних будут двухсторонними.\n",
    "- Так как мы будем сравнивать средние двух генеральных совокупностей между собой, мы выбираем метод t-теста то есть, t-критерий Стьюдента(генеральные совокупности независимы, выборочные средние распределены нормально, выборки достаточно большие)."
   ]
  },
  {
   "cell_type": "markdown",
   "metadata": {},
   "source": [
    "# Шаг 6. Написать общий вывод\n",
    "- В датасете 11 столбцов с различными данными. Необходимо привести названия столбцов к нижнему регистру, преобразовать данные в нужные типы, обработать пропуски, посчитать суммарные продажи во всех регионах и записать в отдельный столбец.\n",
    "- Возмножно пропуски в столбцах critic_score, user_score и rating связаны с тем, что их необязательно заполнять. Или в базе данных интернет-магазина «Стримчик» нету этих данных.\n",
    "- Была выполнена проверка на дубликаты, столбцы были приведены к нижнему регистру. В колонка critic_score, user_score и rating было обнаруженно множество пропусков, но было решено оставить их из-за невозможности правильного заполнения. Значения tbd были заменены на nan, необходимые столбцы были приведены к нужным типам данных.\n",
    "- В 80-е выпускалось очень мало игр каждый год, в 90-е и 00-е количество игр выпускаемых каждый год постепенно увеличивалось, не смотря на небольшие спады, с 2009 по 2011 виден резкий спад, в период с 2012 по 2016 количество игр выпускаемых каждый год постепенно выравнелось.\n",
    "- Срок жизни одной платформы составляет, в среднем, 9 лет. Из графика можно увидеть платформы, ответственные за определенные пики в продажах по годам. Так, небольшие пики 1998 и 2002 года явно связаны с PS и PS2, а самый большой пик 2008-2009 года - с Wii, Xbox 360, PSP и, частично, PS3.\n",
    "- Топ 3 продаж составляют PS4, PS3 И XOne. Необычайно низкие продажи PC. Игровые консоли нового поколения имеют высокие продажи, особенно PS4, к сожалению, хоть WiiU и относится к новому поколению консолей, продажи этой приставки ниже чем у PS3 и Х360. В целом, считаю, что лучше ориентироваться на PS4 И XOne, потому что это консоли нового поколения и имеют высокие продажи.\n",
    "- По играм видно, что 3DS сильно проседает, а на WiiU неплохо покупают игры. Также, довольно много игр покупают для X360.\n",
    "- Если сравнивать результаты корреляции PS4 с другими платформами, то можно заметить, что корреляция для отзывов критиков более существена чем для пользователей. Исключением будет 3DS где можно заметить самую большую корреляция для отзывов пользователей среди всех платформ, но в целом она тоже не очень большая.\n",
    "- Самым продаваемым жанром является shooter, данный жанр также характеризуется наибольшим показателем медианных продаж - шутеры продаются в 2 раза лучше, чем ближайшие кокнуренты sports и platform. Самый непопулярный жанр это Adventure.\n",
    "- Профиль пользователей Северной Америки и Европы в некотором роде похож. Наиболее популярной платформой в этих регионах являются PS4. Но в Японии картина значительно отличается, наиболее популярной платформой здесь является 3DS, и она одна занимает значительную часть рынка. Также видно, что топ-5 платформ занимаю большую часть рынка.\n",
    "- Из полученных данных видно для Северной Америки и Европы популярные жанры, как и их доли на рынке, практически совпадают. В Японии большую часть рынка занимают RPG игры и action.\n",
    "- По аналогии с жанрами Северная Америка и Европа очень схожи - близкое количество продаж и одинаковый топ рейтинга: в основном предпочитают игры со взрослым рейтингом. А в Японии, с большим отрывом на первом месте идут игры для подростков.\n",
    "- При проверке гипотезы о равенстве средних пользовательских рейтингов платформ Xbox One и PC, P-значение оказалось равным 0.14012658403611503, что выше заданного порогового значения alpha. При таком высоком P-значении отвергнуть H0 не представляется возможным. Таким образом, средние пользовательские рейтинги платформ Xbox One и PC одинаковые.\n",
    "- При проверке гипотезы о равенстве средних пользовательских рейтингов жанров Action и Sports, P-значение оказалось равным 1.0517832389139422e-27, что существенно меньше заданного порогового значения alpha. При таком P-значении нулевая гипотеза H0 была отвергнута. Таким образом, средние пользовательские рейтинги жанров Action и Sports разные."
   ]
  }
 ],
 "metadata": {
  "ExecuteTimeLog": [
   {
    "duration": 1362,
    "start_time": "2024-04-01T13:34:13.556Z"
   },
   {
    "duration": 216,
    "start_time": "2024-04-01T13:34:22.452Z"
   },
   {
    "duration": 117,
    "start_time": "2024-04-01T13:34:46.940Z"
   },
   {
    "duration": 15,
    "start_time": "2024-04-01T13:34:51.797Z"
   },
   {
    "duration": 17,
    "start_time": "2024-04-01T13:37:51.447Z"
   },
   {
    "duration": 3,
    "start_time": "2024-04-01T13:39:46.828Z"
   },
   {
    "duration": 80,
    "start_time": "2024-04-01T13:39:47.006Z"
   },
   {
    "duration": 15,
    "start_time": "2024-04-01T13:39:47.214Z"
   },
   {
    "duration": 14,
    "start_time": "2024-04-01T13:39:47.407Z"
   },
   {
    "duration": 4,
    "start_time": "2024-04-01T13:41:17.041Z"
   },
   {
    "duration": 5,
    "start_time": "2024-04-01T13:41:17.660Z"
   },
   {
    "duration": 17,
    "start_time": "2024-04-01T13:42:06.408Z"
   },
   {
    "duration": 8,
    "start_time": "2024-04-01T13:42:56.511Z"
   },
   {
    "duration": 12,
    "start_time": "2024-04-01T13:43:01.132Z"
   },
   {
    "duration": 6,
    "start_time": "2024-04-01T13:46:22.190Z"
   },
   {
    "duration": 7,
    "start_time": "2024-04-01T13:46:37.343Z"
   },
   {
    "duration": 26,
    "start_time": "2024-04-01T13:46:41.713Z"
   },
   {
    "duration": 20,
    "start_time": "2024-04-01T13:48:47.364Z"
   },
   {
    "duration": 9,
    "start_time": "2024-04-01T14:07:54.456Z"
   },
   {
    "duration": 4,
    "start_time": "2024-04-01T14:13:11.858Z"
   },
   {
    "duration": 7,
    "start_time": "2024-04-01T14:14:20.900Z"
   },
   {
    "duration": 5,
    "start_time": "2024-04-01T14:15:48.734Z"
   },
   {
    "duration": 10,
    "start_time": "2024-04-01T14:16:18.116Z"
   },
   {
    "duration": 8,
    "start_time": "2024-04-01T14:16:24.773Z"
   },
   {
    "duration": 14,
    "start_time": "2024-04-01T14:20:08.361Z"
   },
   {
    "duration": 5,
    "start_time": "2024-04-01T14:20:36.615Z"
   },
   {
    "duration": 6,
    "start_time": "2024-04-01T14:22:50.206Z"
   },
   {
    "duration": 25,
    "start_time": "2024-04-01T14:22:59.253Z"
   },
   {
    "duration": 1154,
    "start_time": "2024-04-01T14:24:53.347Z"
   },
   {
    "duration": 80,
    "start_time": "2024-04-01T14:24:54.504Z"
   },
   {
    "duration": 15,
    "start_time": "2024-04-01T14:24:54.586Z"
   },
   {
    "duration": 1737,
    "start_time": "2024-04-01T14:24:54.603Z"
   },
   {
    "duration": 0,
    "start_time": "2024-04-01T14:24:56.343Z"
   },
   {
    "duration": 0,
    "start_time": "2024-04-01T14:24:56.344Z"
   },
   {
    "duration": 0,
    "start_time": "2024-04-01T14:24:56.346Z"
   },
   {
    "duration": 0,
    "start_time": "2024-04-01T14:24:56.347Z"
   },
   {
    "duration": 0,
    "start_time": "2024-04-01T14:24:56.349Z"
   },
   {
    "duration": 0,
    "start_time": "2024-04-01T14:24:56.350Z"
   },
   {
    "duration": 1406,
    "start_time": "2024-04-01T14:25:03.620Z"
   },
   {
    "duration": 14,
    "start_time": "2024-04-01T14:25:22.059Z"
   },
   {
    "duration": 15,
    "start_time": "2024-04-01T14:25:28.204Z"
   },
   {
    "duration": 19,
    "start_time": "2024-04-01T14:25:29.249Z"
   },
   {
    "duration": 3,
    "start_time": "2024-04-01T14:25:29.723Z"
   },
   {
    "duration": 4,
    "start_time": "2024-04-01T14:25:30.123Z"
   },
   {
    "duration": 348,
    "start_time": "2024-04-01T14:25:30.517Z"
   },
   {
    "duration": 83,
    "start_time": "2024-04-01T14:25:31.166Z"
   },
   {
    "duration": 28,
    "start_time": "2024-04-01T14:25:33.117Z"
   },
   {
    "duration": 10,
    "start_time": "2024-04-01T14:26:37.178Z"
   },
   {
    "duration": 9,
    "start_time": "2024-04-01T14:26:45.624Z"
   },
   {
    "duration": 26,
    "start_time": "2024-04-01T14:26:48.379Z"
   },
   {
    "duration": 26,
    "start_time": "2024-04-01T14:26:59.945Z"
   },
   {
    "duration": 5,
    "start_time": "2024-04-01T14:27:18.929Z"
   },
   {
    "duration": 26,
    "start_time": "2024-04-01T14:27:20.672Z"
   },
   {
    "duration": 20,
    "start_time": "2024-04-01T14:29:46.087Z"
   },
   {
    "duration": 25,
    "start_time": "2024-04-01T14:29:48.863Z"
   },
   {
    "duration": 16,
    "start_time": "2024-04-01T14:30:05.264Z"
   },
   {
    "duration": 17,
    "start_time": "2024-04-01T14:30:09.374Z"
   },
   {
    "duration": 3,
    "start_time": "2024-04-01T14:33:12.827Z"
   },
   {
    "duration": 394,
    "start_time": "2024-04-01T14:33:15.043Z"
   },
   {
    "duration": 12,
    "start_time": "2024-04-01T14:33:23.769Z"
   },
   {
    "duration": 362,
    "start_time": "2024-04-01T14:33:24.931Z"
   },
   {
    "duration": 1134,
    "start_time": "2024-04-01T14:33:47.449Z"
   },
   {
    "duration": 78,
    "start_time": "2024-04-01T14:33:48.585Z"
   },
   {
    "duration": 16,
    "start_time": "2024-04-01T14:33:48.664Z"
   },
   {
    "duration": 19,
    "start_time": "2024-04-01T14:33:48.682Z"
   },
   {
    "duration": 17,
    "start_time": "2024-04-01T14:33:49.500Z"
   },
   {
    "duration": 4,
    "start_time": "2024-04-01T14:33:49.809Z"
   },
   {
    "duration": 5,
    "start_time": "2024-04-01T14:33:50.057Z"
   },
   {
    "duration": 10,
    "start_time": "2024-04-01T14:33:50.265Z"
   },
   {
    "duration": 8,
    "start_time": "2024-04-01T14:33:50.489Z"
   },
   {
    "duration": 19,
    "start_time": "2024-04-01T14:33:50.777Z"
   },
   {
    "duration": 7,
    "start_time": "2024-04-01T14:33:51.095Z"
   },
   {
    "duration": 6,
    "start_time": "2024-04-01T14:33:51.521Z"
   },
   {
    "duration": 18,
    "start_time": "2024-04-01T14:34:29.864Z"
   },
   {
    "duration": 4,
    "start_time": "2024-04-01T14:35:03.423Z"
   },
   {
    "duration": 4,
    "start_time": "2024-04-01T16:08:13.976Z"
   },
   {
    "duration": 92,
    "start_time": "2024-04-01T16:08:14.424Z"
   },
   {
    "duration": 15,
    "start_time": "2024-04-01T16:08:14.795Z"
   },
   {
    "duration": 15,
    "start_time": "2024-04-01T16:08:15.159Z"
   },
   {
    "duration": 17,
    "start_time": "2024-04-01T16:08:16.142Z"
   },
   {
    "duration": 3,
    "start_time": "2024-04-01T16:08:16.541Z"
   },
   {
    "duration": 5,
    "start_time": "2024-04-01T16:08:16.887Z"
   },
   {
    "duration": 11,
    "start_time": "2024-04-01T16:08:17.431Z"
   },
   {
    "duration": 8,
    "start_time": "2024-04-01T16:08:17.589Z"
   },
   {
    "duration": 8,
    "start_time": "2024-04-01T16:08:18.118Z"
   },
   {
    "duration": 5,
    "start_time": "2024-04-01T16:08:18.454Z"
   },
   {
    "duration": 17,
    "start_time": "2024-04-01T16:08:18.805Z"
   },
   {
    "duration": 15,
    "start_time": "2024-04-01T16:08:55.764Z"
   },
   {
    "duration": 6,
    "start_time": "2024-04-01T16:13:36.616Z"
   },
   {
    "duration": 1147,
    "start_time": "2024-04-01T16:14:07.344Z"
   },
   {
    "duration": 88,
    "start_time": "2024-04-01T16:14:08.494Z"
   },
   {
    "duration": 16,
    "start_time": "2024-04-01T16:14:09.102Z"
   },
   {
    "duration": 16,
    "start_time": "2024-04-01T16:14:09.758Z"
   },
   {
    "duration": 17,
    "start_time": "2024-04-01T16:14:11.574Z"
   },
   {
    "duration": 3,
    "start_time": "2024-04-01T16:14:12.367Z"
   },
   {
    "duration": 5,
    "start_time": "2024-04-01T16:14:12.894Z"
   },
   {
    "duration": 10,
    "start_time": "2024-04-01T16:14:13.377Z"
   },
   {
    "duration": 6,
    "start_time": "2024-04-01T16:14:15.606Z"
   },
   {
    "duration": 8,
    "start_time": "2024-04-01T16:14:27.406Z"
   },
   {
    "duration": 15,
    "start_time": "2024-04-01T16:14:30.423Z"
   },
   {
    "duration": 6,
    "start_time": "2024-04-01T16:14:40.175Z"
   },
   {
    "duration": 1132,
    "start_time": "2024-04-01T16:15:51.430Z"
   },
   {
    "duration": 80,
    "start_time": "2024-04-01T16:15:52.564Z"
   },
   {
    "duration": 16,
    "start_time": "2024-04-01T16:15:52.645Z"
   },
   {
    "duration": 19,
    "start_time": "2024-04-01T16:15:52.663Z"
   },
   {
    "duration": 17,
    "start_time": "2024-04-01T16:15:53.077Z"
   },
   {
    "duration": 3,
    "start_time": "2024-04-01T16:15:53.284Z"
   },
   {
    "duration": 5,
    "start_time": "2024-04-01T16:15:53.492Z"
   },
   {
    "duration": 10,
    "start_time": "2024-04-01T16:15:53.652Z"
   },
   {
    "duration": 5,
    "start_time": "2024-04-01T16:15:53.813Z"
   },
   {
    "duration": 8,
    "start_time": "2024-04-01T16:15:53.973Z"
   },
   {
    "duration": 8,
    "start_time": "2024-04-01T16:15:54.141Z"
   },
   {
    "duration": 6,
    "start_time": "2024-04-01T16:15:54.468Z"
   },
   {
    "duration": 20,
    "start_time": "2024-04-01T16:15:54.693Z"
   },
   {
    "duration": 3,
    "start_time": "2024-04-01T16:15:58.725Z"
   },
   {
    "duration": 18,
    "start_time": "2024-04-01T16:16:01.477Z"
   },
   {
    "duration": 371,
    "start_time": "2024-04-01T16:20:58.262Z"
   },
   {
    "duration": 340,
    "start_time": "2024-04-01T16:29:20.637Z"
   },
   {
    "duration": 379,
    "start_time": "2024-04-01T16:29:38.916Z"
   },
   {
    "duration": 331,
    "start_time": "2024-04-01T16:30:32.819Z"
   },
   {
    "duration": 437,
    "start_time": "2024-04-01T16:30:44.681Z"
   },
   {
    "duration": 348,
    "start_time": "2024-04-01T16:31:10.068Z"
   },
   {
    "duration": 444,
    "start_time": "2024-04-01T16:38:50.488Z"
   },
   {
    "duration": 398,
    "start_time": "2024-04-01T16:38:55.879Z"
   },
   {
    "duration": 13,
    "start_time": "2024-04-01T16:39:43.502Z"
   },
   {
    "duration": 348,
    "start_time": "2024-04-01T16:39:49.798Z"
   },
   {
    "duration": 353,
    "start_time": "2024-04-01T16:40:54.045Z"
   },
   {
    "duration": 15,
    "start_time": "2024-04-01T16:53:09.424Z"
   },
   {
    "duration": 15,
    "start_time": "2024-04-01T16:53:28.647Z"
   },
   {
    "duration": 23,
    "start_time": "2024-04-01T16:53:37.263Z"
   },
   {
    "duration": 10,
    "start_time": "2024-04-01T16:54:45.726Z"
   },
   {
    "duration": 18,
    "start_time": "2024-04-01T16:54:52.231Z"
   },
   {
    "duration": 1377,
    "start_time": "2024-04-03T12:39:21.429Z"
   },
   {
    "duration": 215,
    "start_time": "2024-04-03T12:39:22.808Z"
   },
   {
    "duration": 16,
    "start_time": "2024-04-03T12:39:23.833Z"
   },
   {
    "duration": 15,
    "start_time": "2024-04-03T12:39:24.999Z"
   },
   {
    "duration": 17,
    "start_time": "2024-04-03T12:39:27.641Z"
   },
   {
    "duration": 3,
    "start_time": "2024-04-03T12:39:28.284Z"
   },
   {
    "duration": 3,
    "start_time": "2024-04-03T12:39:28.796Z"
   },
   {
    "duration": 14,
    "start_time": "2024-04-03T12:39:29.481Z"
   },
   {
    "duration": 6,
    "start_time": "2024-04-03T12:39:30.013Z"
   },
   {
    "duration": 8,
    "start_time": "2024-04-03T12:39:30.737Z"
   },
   {
    "duration": 8,
    "start_time": "2024-04-03T12:39:31.745Z"
   },
   {
    "duration": 5,
    "start_time": "2024-04-03T12:39:32.530Z"
   },
   {
    "duration": 18,
    "start_time": "2024-04-03T12:39:33.505Z"
   },
   {
    "duration": 3,
    "start_time": "2024-04-03T12:39:35.410Z"
   },
   {
    "duration": 3,
    "start_time": "2024-04-03T12:41:07.193Z"
   },
   {
    "duration": 68,
    "start_time": "2024-04-03T12:41:09.056Z"
   },
   {
    "duration": 16,
    "start_time": "2024-04-03T12:41:09.887Z"
   },
   {
    "duration": 14,
    "start_time": "2024-04-03T12:41:10.664Z"
   },
   {
    "duration": 17,
    "start_time": "2024-04-03T12:41:14.856Z"
   },
   {
    "duration": 3,
    "start_time": "2024-04-03T12:41:15.374Z"
   },
   {
    "duration": 4,
    "start_time": "2024-04-03T12:41:15.774Z"
   },
   {
    "duration": 10,
    "start_time": "2024-04-03T12:41:16.213Z"
   },
   {
    "duration": 6,
    "start_time": "2024-04-03T12:41:16.736Z"
   },
   {
    "duration": 8,
    "start_time": "2024-04-03T12:41:17.280Z"
   },
   {
    "duration": 6,
    "start_time": "2024-04-03T12:41:17.720Z"
   },
   {
    "duration": 5,
    "start_time": "2024-04-03T12:41:18.125Z"
   },
   {
    "duration": 17,
    "start_time": "2024-04-03T12:41:18.736Z"
   },
   {
    "duration": 16,
    "start_time": "2024-04-03T12:47:00.947Z"
   },
   {
    "duration": 16,
    "start_time": "2024-04-03T12:47:03.921Z"
   },
   {
    "duration": 320,
    "start_time": "2024-04-03T12:47:04.588Z"
   },
   {
    "duration": 23,
    "start_time": "2024-04-03T12:54:00.146Z"
   },
   {
    "duration": 116,
    "start_time": "2024-04-03T12:59:06.251Z"
   },
   {
    "duration": 22,
    "start_time": "2024-04-03T12:59:36.937Z"
   },
   {
    "duration": 20,
    "start_time": "2024-04-03T12:59:42.788Z"
   },
   {
    "duration": 62,
    "start_time": "2024-04-03T13:00:11.469Z"
   },
   {
    "duration": 222,
    "start_time": "2024-04-03T13:00:14.793Z"
   },
   {
    "duration": 22,
    "start_time": "2024-04-03T13:00:44.655Z"
   },
   {
    "duration": 233,
    "start_time": "2024-04-03T13:00:45.994Z"
   },
   {
    "duration": 16,
    "start_time": "2024-04-03T13:02:19.645Z"
   },
   {
    "duration": 2058,
    "start_time": "2024-04-03T13:03:44.390Z"
   },
   {
    "duration": 5,
    "start_time": "2024-04-03T13:24:58.335Z"
   },
   {
    "duration": 18,
    "start_time": "2024-04-03T13:25:09.863Z"
   },
   {
    "duration": 205,
    "start_time": "2024-04-03T13:26:04.068Z"
   },
   {
    "duration": 198,
    "start_time": "2024-04-03T13:26:33.267Z"
   },
   {
    "duration": 743,
    "start_time": "2024-04-03T13:27:41.539Z"
   },
   {
    "duration": 5,
    "start_time": "2024-04-03T13:30:24.127Z"
   },
   {
    "duration": 237,
    "start_time": "2024-04-03T13:30:25.903Z"
   },
   {
    "duration": 234,
    "start_time": "2024-04-03T13:30:33.080Z"
   },
   {
    "duration": 5,
    "start_time": "2024-04-03T13:32:26.200Z"
   },
   {
    "duration": 252,
    "start_time": "2024-04-03T13:32:27.557Z"
   },
   {
    "duration": 4,
    "start_time": "2024-04-03T13:32:35.533Z"
   },
   {
    "duration": 231,
    "start_time": "2024-04-03T13:32:37.037Z"
   },
   {
    "duration": 11,
    "start_time": "2024-04-03T13:56:41.106Z"
   },
   {
    "duration": 18,
    "start_time": "2024-04-03T13:57:04.723Z"
   },
   {
    "duration": 238,
    "start_time": "2024-04-03T13:57:22.947Z"
   },
   {
    "duration": 221,
    "start_time": "2024-04-03T13:57:35.617Z"
   },
   {
    "duration": 441,
    "start_time": "2024-04-03T13:57:42.129Z"
   },
   {
    "duration": 18,
    "start_time": "2024-04-03T13:59:27.496Z"
   },
   {
    "duration": 857,
    "start_time": "2024-04-03T13:59:49.902Z"
   },
   {
    "duration": 11,
    "start_time": "2024-04-03T14:00:31.989Z"
   },
   {
    "duration": 9,
    "start_time": "2024-04-03T14:01:02.658Z"
   },
   {
    "duration": 692,
    "start_time": "2024-04-03T14:01:05.900Z"
   },
   {
    "duration": 12,
    "start_time": "2024-04-03T14:01:08.847Z"
   },
   {
    "duration": 790,
    "start_time": "2024-04-03T14:03:12.690Z"
   },
   {
    "duration": 27,
    "start_time": "2024-04-03T14:04:35.364Z"
   },
   {
    "duration": 47,
    "start_time": "2024-04-03T16:10:24.833Z"
   },
   {
    "duration": 1324,
    "start_time": "2024-04-03T16:10:34.369Z"
   },
   {
    "duration": 124,
    "start_time": "2024-04-03T16:10:35.695Z"
   },
   {
    "duration": 14,
    "start_time": "2024-04-03T16:10:35.820Z"
   },
   {
    "duration": 15,
    "start_time": "2024-04-03T16:10:35.836Z"
   },
   {
    "duration": 27,
    "start_time": "2024-04-03T16:10:35.853Z"
   },
   {
    "duration": 3,
    "start_time": "2024-04-03T16:10:35.882Z"
   },
   {
    "duration": 13,
    "start_time": "2024-04-03T16:10:35.888Z"
   },
   {
    "duration": 9,
    "start_time": "2024-04-03T16:10:36.073Z"
   },
   {
    "duration": 4,
    "start_time": "2024-04-03T16:10:36.229Z"
   },
   {
    "duration": 8,
    "start_time": "2024-04-03T16:10:36.423Z"
   },
   {
    "duration": 7,
    "start_time": "2024-04-03T16:10:36.601Z"
   },
   {
    "duration": 5,
    "start_time": "2024-04-03T16:10:36.793Z"
   },
   {
    "duration": 17,
    "start_time": "2024-04-03T16:10:36.963Z"
   },
   {
    "duration": 352,
    "start_time": "2024-04-03T16:10:37.777Z"
   },
   {
    "duration": 14,
    "start_time": "2024-04-03T16:10:38.273Z"
   },
   {
    "duration": 15,
    "start_time": "2024-04-03T16:10:38.481Z"
   },
   {
    "duration": 275,
    "start_time": "2024-04-03T16:10:38.681Z"
   },
   {
    "duration": 20,
    "start_time": "2024-04-03T16:10:39.233Z"
   },
   {
    "duration": 191,
    "start_time": "2024-04-03T16:10:39.437Z"
   },
   {
    "duration": 4,
    "start_time": "2024-04-03T16:10:40.194Z"
   },
   {
    "duration": 213,
    "start_time": "2024-04-03T16:10:40.386Z"
   },
   {
    "duration": 649,
    "start_time": "2024-04-03T16:10:40.786Z"
   },
   {
    "duration": 9,
    "start_time": "2024-04-03T16:10:41.437Z"
   },
   {
    "duration": 31,
    "start_time": "2024-04-03T16:10:41.809Z"
   },
   {
    "duration": 112,
    "start_time": "2024-04-03T16:10:43.707Z"
   },
   {
    "duration": 148,
    "start_time": "2024-04-03T16:10:52.263Z"
   },
   {
    "duration": 130,
    "start_time": "2024-04-03T16:11:07.703Z"
   },
   {
    "duration": 106,
    "start_time": "2024-04-03T16:11:24.738Z"
   },
   {
    "duration": 114,
    "start_time": "2024-04-03T16:11:29.993Z"
   },
   {
    "duration": 134,
    "start_time": "2024-04-03T16:11:49.743Z"
   },
   {
    "duration": 197,
    "start_time": "2024-04-03T16:12:52.271Z"
   },
   {
    "duration": 138,
    "start_time": "2024-04-03T16:13:23.574Z"
   },
   {
    "duration": 136,
    "start_time": "2024-04-03T16:13:26.790Z"
   },
   {
    "duration": 141,
    "start_time": "2024-04-03T16:13:31.734Z"
   },
   {
    "duration": 64,
    "start_time": "2024-04-03T16:15:41.099Z"
   },
   {
    "duration": 16,
    "start_time": "2024-04-03T16:15:51.249Z"
   },
   {
    "duration": 15,
    "start_time": "2024-04-03T16:16:34.963Z"
   },
   {
    "duration": 12,
    "start_time": "2024-04-03T16:16:53.219Z"
   },
   {
    "duration": 182,
    "start_time": "2024-04-03T16:17:06.755Z"
   },
   {
    "duration": 106,
    "start_time": "2024-04-03T16:18:20.849Z"
   },
   {
    "duration": 9,
    "start_time": "2024-04-03T16:18:42.208Z"
   },
   {
    "duration": 99,
    "start_time": "2024-04-03T16:18:50.894Z"
   },
   {
    "duration": 1221,
    "start_time": "2024-04-04T14:26:42.247Z"
   },
   {
    "duration": 203,
    "start_time": "2024-04-04T14:26:43.470Z"
   },
   {
    "duration": 13,
    "start_time": "2024-04-04T14:26:43.675Z"
   },
   {
    "duration": 12,
    "start_time": "2024-04-04T14:26:43.690Z"
   },
   {
    "duration": 28,
    "start_time": "2024-04-04T14:26:43.704Z"
   },
   {
    "duration": 3,
    "start_time": "2024-04-04T14:26:43.733Z"
   },
   {
    "duration": 8,
    "start_time": "2024-04-04T14:26:43.737Z"
   },
   {
    "duration": 11,
    "start_time": "2024-04-04T14:26:43.747Z"
   },
   {
    "duration": 4,
    "start_time": "2024-04-04T14:26:43.760Z"
   },
   {
    "duration": 7,
    "start_time": "2024-04-04T14:26:43.887Z"
   },
   {
    "duration": 6,
    "start_time": "2024-04-04T14:26:44.047Z"
   },
   {
    "duration": 4,
    "start_time": "2024-04-04T14:26:44.215Z"
   },
   {
    "duration": 13,
    "start_time": "2024-04-04T14:26:44.383Z"
   },
   {
    "duration": 263,
    "start_time": "2024-04-04T14:26:45.014Z"
   },
   {
    "duration": 12,
    "start_time": "2024-04-04T14:26:45.623Z"
   },
   {
    "duration": 13,
    "start_time": "2024-04-04T14:26:45.823Z"
   },
   {
    "duration": 220,
    "start_time": "2024-04-04T14:26:46.013Z"
   },
   {
    "duration": 16,
    "start_time": "2024-04-04T14:26:46.519Z"
   },
   {
    "duration": 162,
    "start_time": "2024-04-04T14:26:46.695Z"
   },
   {
    "duration": 3,
    "start_time": "2024-04-04T14:26:47.205Z"
   },
   {
    "duration": 161,
    "start_time": "2024-04-04T14:26:47.391Z"
   },
   {
    "duration": 515,
    "start_time": "2024-04-04T14:26:47.799Z"
   },
   {
    "duration": 7,
    "start_time": "2024-04-04T14:26:48.315Z"
   },
   {
    "duration": 24,
    "start_time": "2024-04-04T14:26:48.687Z"
   },
   {
    "duration": 110,
    "start_time": "2024-04-04T14:26:50.541Z"
   },
   {
    "duration": 109,
    "start_time": "2024-04-04T14:26:50.734Z"
   },
   {
    "duration": 111,
    "start_time": "2024-04-04T14:26:50.902Z"
   },
   {
    "duration": 87,
    "start_time": "2024-04-04T14:26:51.255Z"
   },
   {
    "duration": 7,
    "start_time": "2024-04-04T14:26:51.425Z"
   },
   {
    "duration": 8,
    "start_time": "2024-04-04T14:26:51.572Z"
   },
   {
    "duration": 80,
    "start_time": "2024-04-04T14:26:51.751Z"
   },
   {
    "duration": 77,
    "start_time": "2024-04-04T14:26:51.925Z"
   },
   {
    "duration": 81,
    "start_time": "2024-04-04T14:26:52.455Z"
   },
   {
    "duration": 9,
    "start_time": "2024-04-04T14:55:02.332Z"
   },
   {
    "duration": 12,
    "start_time": "2024-04-04T14:55:32.299Z"
   },
   {
    "duration": 3,
    "start_time": "2024-04-04T14:58:03.532Z"
   },
   {
    "duration": 59,
    "start_time": "2024-04-04T14:58:04.184Z"
   },
   {
    "duration": 1062,
    "start_time": "2024-04-04T14:58:12.873Z"
   },
   {
    "duration": 66,
    "start_time": "2024-04-04T14:58:14.226Z"
   },
   {
    "duration": 12,
    "start_time": "2024-04-04T14:58:24.983Z"
   },
   {
    "duration": 11,
    "start_time": "2024-04-04T14:58:25.415Z"
   },
   {
    "duration": 13,
    "start_time": "2024-04-04T14:58:37.615Z"
   },
   {
    "duration": 3,
    "start_time": "2024-04-04T14:58:51.168Z"
   },
   {
    "duration": 4,
    "start_time": "2024-04-04T14:58:51.870Z"
   },
   {
    "duration": 9,
    "start_time": "2024-04-04T14:58:57.966Z"
   },
   {
    "duration": 5,
    "start_time": "2024-04-04T14:59:07.094Z"
   },
   {
    "duration": 7,
    "start_time": "2024-04-04T14:59:12.782Z"
   },
   {
    "duration": 23,
    "start_time": "2024-04-04T14:59:16.646Z"
   },
   {
    "duration": 4,
    "start_time": "2024-04-04T14:59:23.687Z"
   },
   {
    "duration": 3,
    "start_time": "2024-04-04T14:59:25.535Z"
   },
   {
    "duration": 14,
    "start_time": "2024-04-04T14:59:29.246Z"
   },
   {
    "duration": 270,
    "start_time": "2024-04-04T15:01:28.492Z"
   },
   {
    "duration": 12,
    "start_time": "2024-04-04T15:02:17.979Z"
   },
   {
    "duration": 19,
    "start_time": "2024-04-04T15:02:50.850Z"
   },
   {
    "duration": 237,
    "start_time": "2024-04-04T15:04:03.216Z"
   },
   {
    "duration": 16,
    "start_time": "2024-04-04T15:04:51.439Z"
   },
   {
    "duration": 201,
    "start_time": "2024-04-04T15:05:25.622Z"
   },
   {
    "duration": 204,
    "start_time": "2024-04-04T15:05:39.062Z"
   },
   {
    "duration": 165,
    "start_time": "2024-04-04T15:05:53.148Z"
   },
   {
    "duration": 4,
    "start_time": "2024-04-04T15:06:16.718Z"
   },
   {
    "duration": 182,
    "start_time": "2024-04-04T15:06:18.605Z"
   },
   {
    "duration": 541,
    "start_time": "2024-04-04T15:07:15.004Z"
   },
   {
    "duration": 7,
    "start_time": "2024-04-04T15:07:20.868Z"
   },
   {
    "duration": 20,
    "start_time": "2024-04-04T15:08:04.856Z"
   },
   {
    "duration": 111,
    "start_time": "2024-04-04T15:16:33.123Z"
   },
   {
    "duration": 107,
    "start_time": "2024-04-04T15:16:39.463Z"
   },
   {
    "duration": 133,
    "start_time": "2024-04-04T15:17:01.217Z"
   },
   {
    "duration": 116,
    "start_time": "2024-04-04T15:18:34.980Z"
   },
   {
    "duration": 112,
    "start_time": "2024-04-04T15:18:46.540Z"
   },
   {
    "duration": 113,
    "start_time": "2024-04-04T15:19:13.723Z"
   },
   {
    "duration": 108,
    "start_time": "2024-04-04T16:07:12.013Z"
   },
   {
    "duration": 110,
    "start_time": "2024-04-04T16:07:16.847Z"
   },
   {
    "duration": 9,
    "start_time": "2024-04-04T16:12:13.500Z"
   },
   {
    "duration": 9,
    "start_time": "2024-04-04T16:12:16.309Z"
   },
   {
    "duration": 8,
    "start_time": "2024-04-04T16:15:10.767Z"
   },
   {
    "duration": 8,
    "start_time": "2024-04-04T16:15:12.281Z"
   },
   {
    "duration": 1329,
    "start_time": "2024-04-04T17:29:00.456Z"
   },
   {
    "duration": 229,
    "start_time": "2024-04-04T17:29:01.789Z"
   },
   {
    "duration": 14,
    "start_time": "2024-04-04T17:29:02.560Z"
   },
   {
    "duration": 13,
    "start_time": "2024-04-04T17:29:03.511Z"
   },
   {
    "duration": 16,
    "start_time": "2024-04-04T17:29:06.431Z"
   },
   {
    "duration": 3,
    "start_time": "2024-04-04T17:29:06.871Z"
   },
   {
    "duration": 3,
    "start_time": "2024-04-04T17:29:07.264Z"
   },
   {
    "duration": 9,
    "start_time": "2024-04-04T17:29:07.783Z"
   },
   {
    "duration": 5,
    "start_time": "2024-04-04T17:29:08.241Z"
   },
   {
    "duration": 7,
    "start_time": "2024-04-04T17:29:08.816Z"
   },
   {
    "duration": 8,
    "start_time": "2024-04-04T17:29:09.255Z"
   },
   {
    "duration": 4,
    "start_time": "2024-04-04T17:29:09.688Z"
   },
   {
    "duration": 17,
    "start_time": "2024-04-04T17:29:10.506Z"
   },
   {
    "duration": 3,
    "start_time": "2024-04-04T17:29:12.416Z"
   },
   {
    "duration": 24,
    "start_time": "2024-04-04T17:29:13.893Z"
   },
   {
    "duration": 320,
    "start_time": "2024-04-04T17:29:18.520Z"
   },
   {
    "duration": 22,
    "start_time": "2024-04-04T17:29:21.392Z"
   },
   {
    "duration": 16,
    "start_time": "2024-04-04T17:29:28.062Z"
   },
   {
    "duration": 294,
    "start_time": "2024-04-04T17:29:29.344Z"
   },
   {
    "duration": 31,
    "start_time": "2024-04-04T17:29:31.888Z"
   },
   {
    "duration": 197,
    "start_time": "2024-04-04T17:29:33.871Z"
   },
   {
    "duration": 4,
    "start_time": "2024-04-04T17:29:35.919Z"
   },
   {
    "duration": 189,
    "start_time": "2024-04-04T17:29:36.359Z"
   },
   {
    "duration": 642,
    "start_time": "2024-04-04T17:29:38.096Z"
   },
   {
    "duration": 8,
    "start_time": "2024-04-04T17:29:39.326Z"
   },
   {
    "duration": 30,
    "start_time": "2024-04-04T17:29:40.695Z"
   },
   {
    "duration": 121,
    "start_time": "2024-04-04T17:29:44.206Z"
   },
   {
    "duration": 126,
    "start_time": "2024-04-04T17:29:44.695Z"
   },
   {
    "duration": 124,
    "start_time": "2024-04-04T17:29:45.495Z"
   },
   {
    "duration": 121,
    "start_time": "2024-04-04T17:29:47.271Z"
   },
   {
    "duration": 128,
    "start_time": "2024-04-04T17:29:47.710Z"
   },
   {
    "duration": 131,
    "start_time": "2024-04-04T17:29:48.210Z"
   },
   {
    "duration": 133,
    "start_time": "2024-04-04T17:29:49.646Z"
   },
   {
    "duration": 130,
    "start_time": "2024-04-04T17:29:50.383Z"
   },
   {
    "duration": 121,
    "start_time": "2024-04-04T17:29:51.023Z"
   },
   {
    "duration": 11,
    "start_time": "2024-04-04T17:29:55.715Z"
   },
   {
    "duration": 19,
    "start_time": "2024-04-04T17:29:58.789Z"
   },
   {
    "duration": 1125,
    "start_time": "2024-04-04T17:44:05.541Z"
   },
   {
    "duration": 73,
    "start_time": "2024-04-04T17:44:06.669Z"
   },
   {
    "duration": 19,
    "start_time": "2024-04-04T17:44:06.743Z"
   },
   {
    "duration": 13,
    "start_time": "2024-04-04T17:44:06.763Z"
   },
   {
    "duration": 15,
    "start_time": "2024-04-04T17:44:06.778Z"
   },
   {
    "duration": 2,
    "start_time": "2024-04-04T17:44:06.795Z"
   },
   {
    "duration": 12,
    "start_time": "2024-04-04T17:44:06.799Z"
   },
   {
    "duration": 8,
    "start_time": "2024-04-04T17:44:06.813Z"
   },
   {
    "duration": 5,
    "start_time": "2024-04-04T17:44:06.823Z"
   },
   {
    "duration": 35,
    "start_time": "2024-04-04T17:44:06.830Z"
   },
   {
    "duration": 7,
    "start_time": "2024-04-04T17:44:06.866Z"
   },
   {
    "duration": 4,
    "start_time": "2024-04-04T17:44:06.875Z"
   },
   {
    "duration": 26,
    "start_time": "2024-04-04T17:44:06.880Z"
   },
   {
    "duration": 319,
    "start_time": "2024-04-04T17:44:06.908Z"
   },
   {
    "duration": 13,
    "start_time": "2024-04-04T17:44:07.229Z"
   },
   {
    "duration": 28,
    "start_time": "2024-04-04T17:44:07.243Z"
   },
   {
    "duration": 252,
    "start_time": "2024-04-04T17:44:07.272Z"
   },
   {
    "duration": 19,
    "start_time": "2024-04-04T17:44:07.525Z"
   },
   {
    "duration": 196,
    "start_time": "2024-04-04T17:44:07.545Z"
   },
   {
    "duration": 5,
    "start_time": "2024-04-04T17:44:07.743Z"
   },
   {
    "duration": 204,
    "start_time": "2024-04-04T17:44:07.750Z"
   },
   {
    "duration": 607,
    "start_time": "2024-04-04T17:44:07.956Z"
   },
   {
    "duration": 8,
    "start_time": "2024-04-04T17:44:08.564Z"
   },
   {
    "duration": 24,
    "start_time": "2024-04-04T17:44:08.573Z"
   },
   {
    "duration": 136,
    "start_time": "2024-04-04T17:44:08.599Z"
   },
   {
    "duration": 131,
    "start_time": "2024-04-04T17:44:08.737Z"
   },
   {
    "duration": 159,
    "start_time": "2024-04-04T17:44:08.870Z"
   },
   {
    "duration": 127,
    "start_time": "2024-04-04T17:44:09.031Z"
   },
   {
    "duration": 141,
    "start_time": "2024-04-04T17:44:09.160Z"
   },
   {
    "duration": 144,
    "start_time": "2024-04-04T17:44:09.303Z"
   },
   {
    "duration": 128,
    "start_time": "2024-04-04T17:44:09.449Z"
   },
   {
    "duration": 133,
    "start_time": "2024-04-04T17:44:09.578Z"
   },
   {
    "duration": 154,
    "start_time": "2024-04-04T17:44:09.713Z"
   },
   {
    "duration": 11,
    "start_time": "2024-04-04T17:44:09.868Z"
   },
   {
    "duration": 10,
    "start_time": "2024-04-04T17:44:09.881Z"
   },
   {
    "duration": 77,
    "start_time": "2024-04-04T18:24:17.095Z"
   },
   {
    "duration": 71,
    "start_time": "2024-04-04T18:24:21.955Z"
   },
   {
    "duration": 23,
    "start_time": "2024-04-04T18:26:40.483Z"
   },
   {
    "duration": 12,
    "start_time": "2024-04-04T18:34:48.988Z"
   },
   {
    "duration": 45,
    "start_time": "2024-04-05T14:28:20.095Z"
   },
   {
    "duration": 1253,
    "start_time": "2024-04-05T14:28:24.973Z"
   },
   {
    "duration": 142,
    "start_time": "2024-04-05T14:28:27.133Z"
   },
   {
    "duration": 15,
    "start_time": "2024-04-05T14:28:29.269Z"
   },
   {
    "duration": 13,
    "start_time": "2024-04-05T14:28:29.773Z"
   },
   {
    "duration": 1027,
    "start_time": "2024-04-05T14:28:32.221Z"
   },
   {
    "duration": 5,
    "start_time": "2024-04-05T14:28:42.374Z"
   },
   {
    "duration": 11,
    "start_time": "2024-04-05T14:29:01.150Z"
   },
   {
    "duration": 15,
    "start_time": "2024-04-05T14:31:11.267Z"
   },
   {
    "duration": 17,
    "start_time": "2024-04-05T14:31:17.729Z"
   },
   {
    "duration": 10,
    "start_time": "2024-04-05T14:33:14.989Z"
   },
   {
    "duration": 9,
    "start_time": "2024-04-05T14:33:47.044Z"
   },
   {
    "duration": 1019,
    "start_time": "2024-04-05T14:34:03.186Z"
   },
   {
    "duration": 1052,
    "start_time": "2024-04-05T14:34:11.318Z"
   },
   {
    "duration": 1104,
    "start_time": "2024-04-05T14:34:47.237Z"
   },
   {
    "duration": 74,
    "start_time": "2024-04-05T14:34:48.629Z"
   },
   {
    "duration": 14,
    "start_time": "2024-04-05T14:34:49.069Z"
   },
   {
    "duration": 12,
    "start_time": "2024-04-05T14:34:49.565Z"
   },
   {
    "duration": 16,
    "start_time": "2024-04-05T14:34:51.421Z"
   },
   {
    "duration": 90,
    "start_time": "2024-04-05T14:34:52.022Z"
   },
   {
    "duration": 3,
    "start_time": "2024-04-05T14:34:53.110Z"
   },
   {
    "duration": 4,
    "start_time": "2024-04-05T14:34:53.829Z"
   },
   {
    "duration": 9,
    "start_time": "2024-04-05T14:34:54.205Z"
   },
   {
    "duration": 5,
    "start_time": "2024-04-05T14:34:54.613Z"
   },
   {
    "duration": 8,
    "start_time": "2024-04-05T14:34:55.095Z"
   },
   {
    "duration": 7,
    "start_time": "2024-04-05T14:34:55.910Z"
   },
   {
    "duration": 5,
    "start_time": "2024-04-05T14:34:57.070Z"
   },
   {
    "duration": 16,
    "start_time": "2024-04-05T14:34:58.854Z"
   },
   {
    "duration": 10,
    "start_time": "2024-04-05T14:35:31.180Z"
   },
   {
    "duration": 10,
    "start_time": "2024-04-05T14:35:38.390Z"
   },
   {
    "duration": 17,
    "start_time": "2024-04-05T14:35:45.317Z"
   },
   {
    "duration": 2,
    "start_time": "2024-04-05T14:41:30.016Z"
   },
   {
    "duration": 1044,
    "start_time": "2024-04-05T14:41:34.175Z"
   },
   {
    "duration": 70,
    "start_time": "2024-04-05T14:41:36.192Z"
   },
   {
    "duration": 15,
    "start_time": "2024-04-05T14:41:36.831Z"
   },
   {
    "duration": 11,
    "start_time": "2024-04-05T14:41:39.296Z"
   },
   {
    "duration": 14,
    "start_time": "2024-04-05T14:41:40.863Z"
   },
   {
    "duration": 1084,
    "start_time": "2024-04-05T14:41:43.008Z"
   },
   {
    "duration": 1040,
    "start_time": "2024-04-05T14:41:53.296Z"
   },
   {
    "duration": 965,
    "start_time": "2024-04-05T14:42:03.160Z"
   },
   {
    "duration": 15,
    "start_time": "2024-04-05T14:42:48.846Z"
   },
   {
    "duration": 14,
    "start_time": "2024-04-05T14:42:49.604Z"
   },
   {
    "duration": 9,
    "start_time": "2024-04-05T14:42:53.189Z"
   },
   {
    "duration": 8,
    "start_time": "2024-04-05T14:43:08.221Z"
   },
   {
    "duration": 4,
    "start_time": "2024-04-05T14:43:09.741Z"
   },
   {
    "duration": 3,
    "start_time": "2024-04-05T14:43:11.589Z"
   },
   {
    "duration": 9,
    "start_time": "2024-04-05T14:43:17.617Z"
   },
   {
    "duration": 16,
    "start_time": "2024-04-05T14:43:24.309Z"
   },
   {
    "duration": 13,
    "start_time": "2024-04-05T14:43:26.549Z"
   },
   {
    "duration": 10,
    "start_time": "2024-04-05T14:43:28.843Z"
   },
   {
    "duration": 9,
    "start_time": "2024-04-05T14:43:35.752Z"
   },
   {
    "duration": 13,
    "start_time": "2024-04-05T14:43:37.075Z"
   },
   {
    "duration": 1035,
    "start_time": "2024-04-05T15:07:55.271Z"
   },
   {
    "duration": 69,
    "start_time": "2024-04-05T15:07:56.308Z"
   },
   {
    "duration": 20,
    "start_time": "2024-04-05T15:07:56.378Z"
   },
   {
    "duration": 11,
    "start_time": "2024-04-05T15:07:56.946Z"
   },
   {
    "duration": 14,
    "start_time": "2024-04-05T15:07:58.863Z"
   },
   {
    "duration": 8,
    "start_time": "2024-04-05T15:07:59.487Z"
   },
   {
    "duration": 5,
    "start_time": "2024-04-05T15:08:07.922Z"
   },
   {
    "duration": 3,
    "start_time": "2024-04-05T15:08:10.328Z"
   },
   {
    "duration": 14,
    "start_time": "2024-04-05T15:08:12.474Z"
   },
   {
    "duration": 12,
    "start_time": "2024-04-05T15:08:15.536Z"
   },
   {
    "duration": 8,
    "start_time": "2024-04-05T15:08:16.456Z"
   },
   {
    "duration": 12,
    "start_time": "2024-04-05T15:08:17.352Z"
   },
   {
    "duration": 3,
    "start_time": "2024-04-05T15:08:44.279Z"
   },
   {
    "duration": 5,
    "start_time": "2024-04-05T15:08:45.242Z"
   },
   {
    "duration": 11,
    "start_time": "2024-04-05T15:08:45.478Z"
   },
   {
    "duration": 4,
    "start_time": "2024-04-05T15:08:45.991Z"
   },
   {
    "duration": 7,
    "start_time": "2024-04-05T15:08:46.558Z"
   },
   {
    "duration": 15,
    "start_time": "2024-04-05T15:08:47.485Z"
   },
   {
    "duration": 99,
    "start_time": "2024-04-05T15:45:51.568Z"
   },
   {
    "duration": 20,
    "start_time": "2024-04-05T15:46:26.790Z"
   },
   {
    "duration": 146,
    "start_time": "2024-04-05T15:46:33.532Z"
   },
   {
    "duration": 126,
    "start_time": "2024-04-05T15:46:40.211Z"
   },
   {
    "duration": 138,
    "start_time": "2024-04-05T15:50:08.299Z"
   },
   {
    "duration": 130,
    "start_time": "2024-04-05T15:50:29.321Z"
   },
   {
    "duration": 73,
    "start_time": "2024-04-05T15:51:44.713Z"
   },
   {
    "duration": 150,
    "start_time": "2024-04-05T15:51:50.868Z"
   },
   {
    "duration": 129,
    "start_time": "2024-04-05T17:18:59.968Z"
   },
   {
    "duration": 11,
    "start_time": "2024-04-05T17:19:53.286Z"
   },
   {
    "duration": 122,
    "start_time": "2024-04-05T17:20:10.910Z"
   },
   {
    "duration": 111,
    "start_time": "2024-04-05T17:20:55.470Z"
   },
   {
    "duration": 200,
    "start_time": "2024-04-05T17:23:49.511Z"
   },
   {
    "duration": 145,
    "start_time": "2024-04-05T17:24:49.347Z"
   },
   {
    "duration": 149,
    "start_time": "2024-04-05T17:24:50.209Z"
   },
   {
    "duration": 130,
    "start_time": "2024-04-05T17:25:33.119Z"
   },
   {
    "duration": 118,
    "start_time": "2024-04-05T17:25:37.888Z"
   },
   {
    "duration": 131,
    "start_time": "2024-04-05T17:27:24.320Z"
   },
   {
    "duration": 136,
    "start_time": "2024-04-05T17:27:26.206Z"
   },
   {
    "duration": 121,
    "start_time": "2024-04-05T17:28:40.104Z"
   },
   {
    "duration": 118,
    "start_time": "2024-04-05T17:28:40.900Z"
   },
   {
    "duration": 157,
    "start_time": "2024-04-05T17:30:25.902Z"
   },
   {
    "duration": 140,
    "start_time": "2024-04-05T17:30:26.823Z"
   },
   {
    "duration": 132,
    "start_time": "2024-04-05T17:48:20.315Z"
   },
   {
    "duration": 203,
    "start_time": "2024-04-05T17:51:06.890Z"
   },
   {
    "duration": 145,
    "start_time": "2024-04-05T17:51:08.234Z"
   },
   {
    "duration": 114,
    "start_time": "2024-04-05T17:51:11.514Z"
   },
   {
    "duration": 116,
    "start_time": "2024-04-05T17:51:12.585Z"
   },
   {
    "duration": 131,
    "start_time": "2024-04-05T17:51:15.925Z"
   },
   {
    "duration": 131,
    "start_time": "2024-04-05T17:51:18.006Z"
   },
   {
    "duration": 122,
    "start_time": "2024-04-05T17:51:21.239Z"
   },
   {
    "duration": 124,
    "start_time": "2024-04-05T17:51:24.707Z"
   },
   {
    "duration": 143,
    "start_time": "2024-04-05T17:51:26.866Z"
   },
   {
    "duration": 139,
    "start_time": "2024-04-05T17:51:30.810Z"
   },
   {
    "duration": 134,
    "start_time": "2024-04-05T17:56:07.054Z"
   },
   {
    "duration": 136,
    "start_time": "2024-04-05T17:57:05.475Z"
   },
   {
    "duration": 206,
    "start_time": "2024-04-05T17:58:23.915Z"
   },
   {
    "duration": 129,
    "start_time": "2024-04-05T17:59:20.329Z"
   },
   {
    "duration": 122,
    "start_time": "2024-04-05T18:03:19.177Z"
   },
   {
    "duration": 129,
    "start_time": "2024-04-05T18:04:13.740Z"
   },
   {
    "duration": 126,
    "start_time": "2024-04-05T18:04:32.034Z"
   },
   {
    "duration": 141,
    "start_time": "2024-04-05T18:05:15.358Z"
   },
   {
    "duration": 122,
    "start_time": "2024-04-05T18:05:24.178Z"
   },
   {
    "duration": 127,
    "start_time": "2024-04-05T18:05:35.499Z"
   },
   {
    "duration": 125,
    "start_time": "2024-04-05T18:05:39.505Z"
   },
   {
    "duration": 130,
    "start_time": "2024-04-05T18:05:47.280Z"
   },
   {
    "duration": 134,
    "start_time": "2024-04-05T18:05:53.369Z"
   },
   {
    "duration": 121,
    "start_time": "2024-04-05T18:05:59.353Z"
   },
   {
    "duration": 112,
    "start_time": "2024-04-05T18:06:04.519Z"
   },
   {
    "duration": 207,
    "start_time": "2024-04-05T18:06:11.640Z"
   },
   {
    "duration": 1032,
    "start_time": "2024-04-05T19:00:21.307Z"
   },
   {
    "duration": 69,
    "start_time": "2024-04-05T19:00:22.340Z"
   },
   {
    "duration": 13,
    "start_time": "2024-04-05T19:00:22.410Z"
   },
   {
    "duration": 12,
    "start_time": "2024-04-05T19:00:22.675Z"
   },
   {
    "duration": 14,
    "start_time": "2024-04-05T19:00:24.263Z"
   },
   {
    "duration": 7,
    "start_time": "2024-04-05T19:00:24.609Z"
   },
   {
    "duration": 4,
    "start_time": "2024-04-05T19:00:25.265Z"
   },
   {
    "duration": 4,
    "start_time": "2024-04-05T19:00:27.521Z"
   },
   {
    "duration": 16,
    "start_time": "2024-04-05T19:00:28.943Z"
   },
   {
    "duration": 12,
    "start_time": "2024-04-05T19:00:29.817Z"
   },
   {
    "duration": 8,
    "start_time": "2024-04-05T19:00:30.288Z"
   },
   {
    "duration": 13,
    "start_time": "2024-04-05T19:00:31.031Z"
   },
   {
    "duration": 3,
    "start_time": "2024-04-05T19:00:35.143Z"
   },
   {
    "duration": 3,
    "start_time": "2024-04-05T19:00:35.873Z"
   },
   {
    "duration": 10,
    "start_time": "2024-04-05T19:00:36.119Z"
   },
   {
    "duration": 5,
    "start_time": "2024-04-05T19:00:36.562Z"
   },
   {
    "duration": 7,
    "start_time": "2024-04-05T19:00:37.032Z"
   },
   {
    "duration": 15,
    "start_time": "2024-04-05T19:00:37.895Z"
   },
   {
    "duration": 71,
    "start_time": "2024-04-05T19:00:53.192Z"
   },
   {
    "duration": 299,
    "start_time": "2024-04-05T19:01:06.472Z"
   },
   {
    "duration": 13,
    "start_time": "2024-04-05T19:01:08.080Z"
   },
   {
    "duration": 15,
    "start_time": "2024-04-05T19:01:08.894Z"
   },
   {
    "duration": 226,
    "start_time": "2024-04-05T19:01:09.160Z"
   },
   {
    "duration": 21,
    "start_time": "2024-04-05T19:01:10.150Z"
   },
   {
    "duration": 17,
    "start_time": "2024-04-05T19:01:11.088Z"
   },
   {
    "duration": 179,
    "start_time": "2024-04-05T19:01:11.432Z"
   },
   {
    "duration": 4,
    "start_time": "2024-04-05T19:01:12.641Z"
   },
   {
    "duration": 170,
    "start_time": "2024-04-05T19:01:12.936Z"
   },
   {
    "duration": 585,
    "start_time": "2024-04-05T19:01:14.711Z"
   },
   {
    "duration": 7,
    "start_time": "2024-04-05T19:01:20.887Z"
   },
   {
    "duration": 139,
    "start_time": "2024-04-05T19:01:24.687Z"
   },
   {
    "duration": 149,
    "start_time": "2024-04-05T19:01:34.545Z"
   },
   {
    "duration": 122,
    "start_time": "2024-04-05T19:01:35.377Z"
   },
   {
    "duration": 117,
    "start_time": "2024-04-05T19:01:35.887Z"
   },
   {
    "duration": 138,
    "start_time": "2024-04-05T19:01:36.255Z"
   },
   {
    "duration": 140,
    "start_time": "2024-04-05T19:01:36.577Z"
   },
   {
    "duration": 130,
    "start_time": "2024-04-05T19:01:37.079Z"
   },
   {
    "duration": 127,
    "start_time": "2024-04-05T19:01:37.537Z"
   },
   {
    "duration": 156,
    "start_time": "2024-04-05T19:01:37.967Z"
   },
   {
    "duration": 147,
    "start_time": "2024-04-05T19:01:38.481Z"
   },
   {
    "duration": 24,
    "start_time": "2024-04-05T19:01:40.375Z"
   },
   {
    "duration": 128,
    "start_time": "2024-04-05T19:01:42.791Z"
   },
   {
    "duration": 124,
    "start_time": "2024-04-05T19:01:43.592Z"
   },
   {
    "duration": 127,
    "start_time": "2024-04-05T19:01:43.927Z"
   },
   {
    "duration": 224,
    "start_time": "2024-04-05T19:01:44.997Z"
   },
   {
    "duration": 141,
    "start_time": "2024-04-05T19:01:45.225Z"
   },
   {
    "duration": 145,
    "start_time": "2024-04-05T19:01:45.443Z"
   },
   {
    "duration": 122,
    "start_time": "2024-04-05T19:01:46.666Z"
   },
   {
    "duration": 129,
    "start_time": "2024-04-05T19:01:47.047Z"
   },
   {
    "duration": 124,
    "start_time": "2024-04-05T19:01:47.391Z"
   },
   {
    "duration": 8,
    "start_time": "2024-04-05T19:01:48.351Z"
   },
   {
    "duration": 11,
    "start_time": "2024-04-05T19:01:50.165Z"
   },
   {
    "duration": 10,
    "start_time": "2024-04-05T19:01:51.829Z"
   },
   {
    "duration": 1315,
    "start_time": "2024-04-05T19:50:42.663Z"
   },
   {
    "duration": 223,
    "start_time": "2024-04-05T19:50:43.980Z"
   },
   {
    "duration": 14,
    "start_time": "2024-04-05T19:50:44.204Z"
   },
   {
    "duration": 20,
    "start_time": "2024-04-05T19:50:44.220Z"
   },
   {
    "duration": 15,
    "start_time": "2024-04-05T19:50:44.242Z"
   },
   {
    "duration": 5,
    "start_time": "2024-04-05T19:50:44.258Z"
   },
   {
    "duration": 21,
    "start_time": "2024-04-05T19:50:44.265Z"
   },
   {
    "duration": 25,
    "start_time": "2024-04-05T19:50:44.288Z"
   },
   {
    "duration": 21,
    "start_time": "2024-04-05T19:50:44.314Z"
   },
   {
    "duration": 6,
    "start_time": "2024-04-05T19:50:44.337Z"
   },
   {
    "duration": 15,
    "start_time": "2024-04-05T19:50:44.345Z"
   },
   {
    "duration": 3,
    "start_time": "2024-04-05T19:50:44.361Z"
   },
   {
    "duration": 6,
    "start_time": "2024-04-05T19:50:44.365Z"
   },
   {
    "duration": 14,
    "start_time": "2024-04-05T19:50:44.374Z"
   },
   {
    "duration": 20,
    "start_time": "2024-04-05T19:50:44.390Z"
   },
   {
    "duration": 8,
    "start_time": "2024-04-05T19:50:44.412Z"
   },
   {
    "duration": 15,
    "start_time": "2024-04-05T19:50:44.422Z"
   },
   {
    "duration": 93,
    "start_time": "2024-04-05T19:50:44.439Z"
   },
   {
    "duration": 334,
    "start_time": "2024-04-05T19:50:44.534Z"
   },
   {
    "duration": 15,
    "start_time": "2024-04-05T19:50:44.869Z"
   },
   {
    "duration": 15,
    "start_time": "2024-04-05T19:50:44.885Z"
   },
   {
    "duration": 284,
    "start_time": "2024-04-05T19:50:44.901Z"
   },
   {
    "duration": 22,
    "start_time": "2024-04-05T19:50:45.187Z"
   },
   {
    "duration": 38,
    "start_time": "2024-04-05T19:50:45.211Z"
   },
   {
    "duration": 193,
    "start_time": "2024-04-05T19:50:45.250Z"
   },
   {
    "duration": 5,
    "start_time": "2024-04-05T19:50:45.445Z"
   },
   {
    "duration": 215,
    "start_time": "2024-04-05T19:50:45.451Z"
   },
   {
    "duration": 642,
    "start_time": "2024-04-05T19:50:45.668Z"
   },
   {
    "duration": 8,
    "start_time": "2024-04-05T19:50:46.311Z"
   },
   {
    "duration": 158,
    "start_time": "2024-04-05T19:50:46.320Z"
   },
   {
    "duration": 163,
    "start_time": "2024-04-05T19:50:46.480Z"
   },
   {
    "duration": 151,
    "start_time": "2024-04-05T19:50:46.644Z"
   },
   {
    "duration": 139,
    "start_time": "2024-04-05T19:50:46.797Z"
   },
   {
    "duration": 164,
    "start_time": "2024-04-05T19:50:46.937Z"
   },
   {
    "duration": 154,
    "start_time": "2024-04-05T19:50:47.102Z"
   },
   {
    "duration": 156,
    "start_time": "2024-04-05T19:50:47.257Z"
   },
   {
    "duration": 143,
    "start_time": "2024-04-05T19:50:47.414Z"
   },
   {
    "duration": 171,
    "start_time": "2024-04-05T19:50:47.558Z"
   },
   {
    "duration": 172,
    "start_time": "2024-04-05T19:50:47.731Z"
   },
   {
    "duration": 25,
    "start_time": "2024-04-05T19:50:47.905Z"
   },
   {
    "duration": 156,
    "start_time": "2024-04-05T19:50:47.933Z"
   },
   {
    "duration": 161,
    "start_time": "2024-04-05T19:50:48.090Z"
   },
   {
    "duration": 148,
    "start_time": "2024-04-05T19:50:48.253Z"
   },
   {
    "duration": 237,
    "start_time": "2024-04-05T19:50:48.402Z"
   },
   {
    "duration": 147,
    "start_time": "2024-04-05T19:50:48.641Z"
   },
   {
    "duration": 161,
    "start_time": "2024-04-05T19:50:48.789Z"
   },
   {
    "duration": 140,
    "start_time": "2024-04-05T19:50:48.951Z"
   },
   {
    "duration": 138,
    "start_time": "2024-04-05T19:50:49.092Z"
   },
   {
    "duration": 150,
    "start_time": "2024-04-05T19:50:49.232Z"
   },
   {
    "duration": 8,
    "start_time": "2024-04-05T19:50:49.384Z"
   },
   {
    "duration": 11,
    "start_time": "2024-04-05T19:50:49.394Z"
   },
   {
    "duration": 10,
    "start_time": "2024-04-05T19:50:49.406Z"
   },
   {
    "duration": 2397,
    "start_time": "2024-04-05T20:01:45.515Z"
   },
   {
    "duration": 1287,
    "start_time": "2024-09-03T13:08:40.326Z"
   },
   {
    "duration": 258,
    "start_time": "2024-09-03T13:08:41.615Z"
   },
   {
    "duration": 15,
    "start_time": "2024-09-03T13:08:41.875Z"
   },
   {
    "duration": 20,
    "start_time": "2024-09-03T13:08:41.892Z"
   },
   {
    "duration": 16,
    "start_time": "2024-09-03T13:08:43.013Z"
   },
   {
    "duration": 6,
    "start_time": "2024-09-03T13:08:43.358Z"
   },
   {
    "duration": 5,
    "start_time": "2024-09-03T13:08:43.750Z"
   },
   {
    "duration": 3,
    "start_time": "2024-09-03T13:08:45.766Z"
   },
   {
    "duration": 19,
    "start_time": "2024-09-03T13:08:46.646Z"
   },
   {
    "duration": 15,
    "start_time": "2024-09-03T13:08:47.382Z"
   },
   {
    "duration": 9,
    "start_time": "2024-09-03T13:08:47.878Z"
   },
   {
    "duration": 15,
    "start_time": "2024-09-03T13:08:48.342Z"
   },
   {
    "duration": 3,
    "start_time": "2024-09-03T13:08:49.270Z"
   },
   {
    "duration": 4,
    "start_time": "2024-09-03T13:08:49.701Z"
   },
   {
    "duration": 11,
    "start_time": "2024-09-03T13:08:50.166Z"
   },
   {
    "duration": 5,
    "start_time": "2024-09-03T13:08:50.606Z"
   },
   {
    "duration": 8,
    "start_time": "2024-09-03T13:08:51.030Z"
   },
   {
    "duration": 16,
    "start_time": "2024-09-03T13:08:51.487Z"
   },
   {
    "duration": 329,
    "start_time": "2024-09-03T13:08:53.636Z"
   },
   {
    "duration": 14,
    "start_time": "2024-09-03T13:08:55.428Z"
   },
   {
    "duration": 17,
    "start_time": "2024-09-03T13:08:55.990Z"
   },
   {
    "duration": 252,
    "start_time": "2024-09-03T13:08:56.486Z"
   },
   {
    "duration": 24,
    "start_time": "2024-09-03T13:08:57.470Z"
   },
   {
    "duration": 21,
    "start_time": "2024-09-03T13:08:58.397Z"
   },
   {
    "duration": 194,
    "start_time": "2024-09-03T13:08:58.868Z"
   },
   {
    "duration": 5,
    "start_time": "2024-09-03T13:09:00.388Z"
   },
   {
    "duration": 210,
    "start_time": "2024-09-03T13:09:00.981Z"
   },
   {
    "duration": 687,
    "start_time": "2024-09-03T13:09:02.364Z"
   },
   {
    "duration": 10,
    "start_time": "2024-09-03T13:09:03.053Z"
   },
   {
    "duration": 160,
    "start_time": "2024-09-03T13:09:03.892Z"
   },
   {
    "duration": 151,
    "start_time": "2024-09-03T13:09:04.420Z"
   },
   {
    "duration": 133,
    "start_time": "2024-09-03T13:09:05.445Z"
   },
   {
    "duration": 131,
    "start_time": "2024-09-03T13:09:06.031Z"
   },
   {
    "duration": 150,
    "start_time": "2024-09-03T13:09:07.100Z"
   },
   {
    "duration": 153,
    "start_time": "2024-09-03T13:09:08.558Z"
   },
   {
    "duration": 138,
    "start_time": "2024-09-03T13:09:09.036Z"
   },
   {
    "duration": 136,
    "start_time": "2024-09-03T13:09:09.348Z"
   },
   {
    "duration": 164,
    "start_time": "2024-09-03T13:09:09.564Z"
   },
   {
    "duration": 166,
    "start_time": "2024-09-03T13:09:09.924Z"
   },
   {
    "duration": 24,
    "start_time": "2024-09-03T13:09:10.893Z"
   },
   {
    "duration": 138,
    "start_time": "2024-09-03T13:09:12.716Z"
   },
   {
    "duration": 140,
    "start_time": "2024-09-03T13:09:13.292Z"
   },
   {
    "duration": 138,
    "start_time": "2024-09-03T13:09:13.941Z"
   },
   {
    "duration": 239,
    "start_time": "2024-09-03T13:09:16.245Z"
   },
   {
    "duration": 146,
    "start_time": "2024-09-03T13:09:16.877Z"
   },
   {
    "duration": 140,
    "start_time": "2024-09-03T13:09:17.572Z"
   },
   {
    "duration": 123,
    "start_time": "2024-09-03T13:09:19.053Z"
   },
   {
    "duration": 128,
    "start_time": "2024-09-03T13:09:19.541Z"
   },
   {
    "duration": 133,
    "start_time": "2024-09-03T13:09:19.917Z"
   },
   {
    "duration": 7,
    "start_time": "2024-09-03T13:09:20.805Z"
   },
   {
    "duration": 11,
    "start_time": "2024-09-03T13:09:22.789Z"
   },
   {
    "duration": 10,
    "start_time": "2024-09-03T13:09:25.677Z"
   }
  ],
  "kernelspec": {
   "display_name": "Python 3 (ipykernel)",
   "language": "python",
   "name": "python3"
  },
  "language_info": {
   "codemirror_mode": {
    "name": "ipython",
    "version": 3
   },
   "file_extension": ".py",
   "mimetype": "text/x-python",
   "name": "python",
   "nbconvert_exporter": "python",
   "pygments_lexer": "ipython3",
   "version": "3.9.5"
  },
  "toc": {
   "base_numbering": 1,
   "nav_menu": {},
   "number_sections": true,
   "sideBar": true,
   "skip_h1_title": true,
   "title_cell": "Table of Contents",
   "title_sidebar": "Contents",
   "toc_cell": false,
   "toc_position": {},
   "toc_section_display": true,
   "toc_window_display": false
  }
 },
 "nbformat": 4,
 "nbformat_minor": 2
}
