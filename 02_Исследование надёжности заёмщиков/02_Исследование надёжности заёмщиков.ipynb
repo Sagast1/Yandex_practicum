{
 "cells": [
  {
   "cell_type": "markdown",
   "id": "9eef807b",
   "metadata": {
    "deletable": false,
    "editable": false,
    "id": "c81daeeb"
   },
   "source": [
    "# Исследование надежности заемщиков\n"
   ]
  },
  {
   "cell_type": "markdown",
   "id": "d137db81",
   "metadata": {
    "deletable": false,
    "editable": false,
    "id": "827c20bf"
   },
   "source": [
    "Во второй части проекта вы выполните шаги 3 и 4. Их вручную проверит ревьюер.\n",
    "Чтобы вам не пришлось писать код заново для шагов 1 и 2, мы добавили авторские решения в ячейки с кодом. \n",
    "\n"
   ]
  },
  {
   "cell_type": "markdown",
   "id": "1cdc4bd1",
   "metadata": {
    "deletable": false,
    "editable": false,
    "id": "744d7639"
   },
   "source": [
    "## Откройте таблицу и изучите общую информацию о данных"
   ]
  },
  {
   "cell_type": "markdown",
   "id": "bed76d96",
   "metadata": {
    "deletable": false,
    "editable": false,
    "id": "e7a14c31"
   },
   "source": [
    "**Задание 1. Импортируйте библиотеку pandas. Считайте данные из csv-файла в датафрейм и сохраните в переменную `data`. Путь к файлу:**\n",
    "\n",
    "`/datasets/data.csv`"
   ]
  },
  {
   "cell_type": "code",
   "execution_count": 2,
   "id": "890463c5",
   "metadata": {
    "deletable": false,
    "id": "7bcf75c9"
   },
   "outputs": [],
   "source": [
    "import pandas as pd\n",
    "\n",
    "data = pd.read_csv('/datasets/data.csv')"
   ]
  },
  {
   "cell_type": "markdown",
   "id": "5f5986bd",
   "metadata": {
    "deletable": false,
    "editable": false,
    "id": "b8038fe3"
   },
   "source": [
    "**Задание 2. Выведите первые 20 строчек датафрейма `data` на экран.**"
   ]
  },
  {
   "cell_type": "code",
   "execution_count": 3,
   "id": "8c138094",
   "metadata": {
    "deletable": false,
    "id": "2a7cab99",
    "outputId": "1a8f3ef2-d323-4ec2-ddf7-89670b5944c4"
   },
   "outputs": [
    {
     "data": {
      "text/html": [
       "<div>\n",
       "<style scoped>\n",
       "    .dataframe tbody tr th:only-of-type {\n",
       "        vertical-align: middle;\n",
       "    }\n",
       "\n",
       "    .dataframe tbody tr th {\n",
       "        vertical-align: top;\n",
       "    }\n",
       "\n",
       "    .dataframe thead th {\n",
       "        text-align: right;\n",
       "    }\n",
       "</style>\n",
       "<table border=\"1\" class=\"dataframe\">\n",
       "  <thead>\n",
       "    <tr style=\"text-align: right;\">\n",
       "      <th></th>\n",
       "      <th>children</th>\n",
       "      <th>days_employed</th>\n",
       "      <th>dob_years</th>\n",
       "      <th>education</th>\n",
       "      <th>education_id</th>\n",
       "      <th>family_status</th>\n",
       "      <th>family_status_id</th>\n",
       "      <th>gender</th>\n",
       "      <th>income_type</th>\n",
       "      <th>debt</th>\n",
       "      <th>total_income</th>\n",
       "      <th>purpose</th>\n",
       "    </tr>\n",
       "  </thead>\n",
       "  <tbody>\n",
       "    <tr>\n",
       "      <th>0</th>\n",
       "      <td>1</td>\n",
       "      <td>-8437.673028</td>\n",
       "      <td>42</td>\n",
       "      <td>высшее</td>\n",
       "      <td>0</td>\n",
       "      <td>женат / замужем</td>\n",
       "      <td>0</td>\n",
       "      <td>F</td>\n",
       "      <td>сотрудник</td>\n",
       "      <td>0</td>\n",
       "      <td>253875.639453</td>\n",
       "      <td>покупка жилья</td>\n",
       "    </tr>\n",
       "    <tr>\n",
       "      <th>1</th>\n",
       "      <td>1</td>\n",
       "      <td>-4024.803754</td>\n",
       "      <td>36</td>\n",
       "      <td>среднее</td>\n",
       "      <td>1</td>\n",
       "      <td>женат / замужем</td>\n",
       "      <td>0</td>\n",
       "      <td>F</td>\n",
       "      <td>сотрудник</td>\n",
       "      <td>0</td>\n",
       "      <td>112080.014102</td>\n",
       "      <td>приобретение автомобиля</td>\n",
       "    </tr>\n",
       "    <tr>\n",
       "      <th>2</th>\n",
       "      <td>0</td>\n",
       "      <td>-5623.422610</td>\n",
       "      <td>33</td>\n",
       "      <td>Среднее</td>\n",
       "      <td>1</td>\n",
       "      <td>женат / замужем</td>\n",
       "      <td>0</td>\n",
       "      <td>M</td>\n",
       "      <td>сотрудник</td>\n",
       "      <td>0</td>\n",
       "      <td>145885.952297</td>\n",
       "      <td>покупка жилья</td>\n",
       "    </tr>\n",
       "    <tr>\n",
       "      <th>3</th>\n",
       "      <td>3</td>\n",
       "      <td>-4124.747207</td>\n",
       "      <td>32</td>\n",
       "      <td>среднее</td>\n",
       "      <td>1</td>\n",
       "      <td>женат / замужем</td>\n",
       "      <td>0</td>\n",
       "      <td>M</td>\n",
       "      <td>сотрудник</td>\n",
       "      <td>0</td>\n",
       "      <td>267628.550329</td>\n",
       "      <td>дополнительное образование</td>\n",
       "    </tr>\n",
       "    <tr>\n",
       "      <th>4</th>\n",
       "      <td>0</td>\n",
       "      <td>340266.072047</td>\n",
       "      <td>53</td>\n",
       "      <td>среднее</td>\n",
       "      <td>1</td>\n",
       "      <td>гражданский брак</td>\n",
       "      <td>1</td>\n",
       "      <td>F</td>\n",
       "      <td>пенсионер</td>\n",
       "      <td>0</td>\n",
       "      <td>158616.077870</td>\n",
       "      <td>сыграть свадьбу</td>\n",
       "    </tr>\n",
       "    <tr>\n",
       "      <th>5</th>\n",
       "      <td>0</td>\n",
       "      <td>-926.185831</td>\n",
       "      <td>27</td>\n",
       "      <td>высшее</td>\n",
       "      <td>0</td>\n",
       "      <td>гражданский брак</td>\n",
       "      <td>1</td>\n",
       "      <td>M</td>\n",
       "      <td>компаньон</td>\n",
       "      <td>0</td>\n",
       "      <td>255763.565419</td>\n",
       "      <td>покупка жилья</td>\n",
       "    </tr>\n",
       "    <tr>\n",
       "      <th>6</th>\n",
       "      <td>0</td>\n",
       "      <td>-2879.202052</td>\n",
       "      <td>43</td>\n",
       "      <td>высшее</td>\n",
       "      <td>0</td>\n",
       "      <td>женат / замужем</td>\n",
       "      <td>0</td>\n",
       "      <td>F</td>\n",
       "      <td>компаньон</td>\n",
       "      <td>0</td>\n",
       "      <td>240525.971920</td>\n",
       "      <td>операции с жильем</td>\n",
       "    </tr>\n",
       "    <tr>\n",
       "      <th>7</th>\n",
       "      <td>0</td>\n",
       "      <td>-152.779569</td>\n",
       "      <td>50</td>\n",
       "      <td>СРЕДНЕЕ</td>\n",
       "      <td>1</td>\n",
       "      <td>женат / замужем</td>\n",
       "      <td>0</td>\n",
       "      <td>M</td>\n",
       "      <td>сотрудник</td>\n",
       "      <td>0</td>\n",
       "      <td>135823.934197</td>\n",
       "      <td>образование</td>\n",
       "    </tr>\n",
       "    <tr>\n",
       "      <th>8</th>\n",
       "      <td>2</td>\n",
       "      <td>-6929.865299</td>\n",
       "      <td>35</td>\n",
       "      <td>ВЫСШЕЕ</td>\n",
       "      <td>0</td>\n",
       "      <td>гражданский брак</td>\n",
       "      <td>1</td>\n",
       "      <td>F</td>\n",
       "      <td>сотрудник</td>\n",
       "      <td>0</td>\n",
       "      <td>95856.832424</td>\n",
       "      <td>на проведение свадьбы</td>\n",
       "    </tr>\n",
       "    <tr>\n",
       "      <th>9</th>\n",
       "      <td>0</td>\n",
       "      <td>-2188.756445</td>\n",
       "      <td>41</td>\n",
       "      <td>среднее</td>\n",
       "      <td>1</td>\n",
       "      <td>женат / замужем</td>\n",
       "      <td>0</td>\n",
       "      <td>M</td>\n",
       "      <td>сотрудник</td>\n",
       "      <td>0</td>\n",
       "      <td>144425.938277</td>\n",
       "      <td>покупка жилья для семьи</td>\n",
       "    </tr>\n",
       "    <tr>\n",
       "      <th>10</th>\n",
       "      <td>2</td>\n",
       "      <td>-4171.483647</td>\n",
       "      <td>36</td>\n",
       "      <td>высшее</td>\n",
       "      <td>0</td>\n",
       "      <td>женат / замужем</td>\n",
       "      <td>0</td>\n",
       "      <td>M</td>\n",
       "      <td>компаньон</td>\n",
       "      <td>0</td>\n",
       "      <td>113943.491460</td>\n",
       "      <td>покупка недвижимости</td>\n",
       "    </tr>\n",
       "    <tr>\n",
       "      <th>11</th>\n",
       "      <td>0</td>\n",
       "      <td>-792.701887</td>\n",
       "      <td>40</td>\n",
       "      <td>среднее</td>\n",
       "      <td>1</td>\n",
       "      <td>женат / замужем</td>\n",
       "      <td>0</td>\n",
       "      <td>F</td>\n",
       "      <td>сотрудник</td>\n",
       "      <td>0</td>\n",
       "      <td>77069.234271</td>\n",
       "      <td>покупка коммерческой недвижимости</td>\n",
       "    </tr>\n",
       "    <tr>\n",
       "      <th>12</th>\n",
       "      <td>0</td>\n",
       "      <td>NaN</td>\n",
       "      <td>65</td>\n",
       "      <td>среднее</td>\n",
       "      <td>1</td>\n",
       "      <td>гражданский брак</td>\n",
       "      <td>1</td>\n",
       "      <td>M</td>\n",
       "      <td>пенсионер</td>\n",
       "      <td>0</td>\n",
       "      <td>NaN</td>\n",
       "      <td>сыграть свадьбу</td>\n",
       "    </tr>\n",
       "    <tr>\n",
       "      <th>13</th>\n",
       "      <td>0</td>\n",
       "      <td>-1846.641941</td>\n",
       "      <td>54</td>\n",
       "      <td>неоконченное высшее</td>\n",
       "      <td>2</td>\n",
       "      <td>женат / замужем</td>\n",
       "      <td>0</td>\n",
       "      <td>F</td>\n",
       "      <td>сотрудник</td>\n",
       "      <td>0</td>\n",
       "      <td>130458.228857</td>\n",
       "      <td>приобретение автомобиля</td>\n",
       "    </tr>\n",
       "    <tr>\n",
       "      <th>14</th>\n",
       "      <td>0</td>\n",
       "      <td>-1844.956182</td>\n",
       "      <td>56</td>\n",
       "      <td>высшее</td>\n",
       "      <td>0</td>\n",
       "      <td>гражданский брак</td>\n",
       "      <td>1</td>\n",
       "      <td>F</td>\n",
       "      <td>компаньон</td>\n",
       "      <td>1</td>\n",
       "      <td>165127.911772</td>\n",
       "      <td>покупка жилой недвижимости</td>\n",
       "    </tr>\n",
       "    <tr>\n",
       "      <th>15</th>\n",
       "      <td>1</td>\n",
       "      <td>-972.364419</td>\n",
       "      <td>26</td>\n",
       "      <td>среднее</td>\n",
       "      <td>1</td>\n",
       "      <td>женат / замужем</td>\n",
       "      <td>0</td>\n",
       "      <td>F</td>\n",
       "      <td>сотрудник</td>\n",
       "      <td>0</td>\n",
       "      <td>116820.904450</td>\n",
       "      <td>строительство собственной недвижимости</td>\n",
       "    </tr>\n",
       "    <tr>\n",
       "      <th>16</th>\n",
       "      <td>0</td>\n",
       "      <td>-1719.934226</td>\n",
       "      <td>35</td>\n",
       "      <td>среднее</td>\n",
       "      <td>1</td>\n",
       "      <td>женат / замужем</td>\n",
       "      <td>0</td>\n",
       "      <td>F</td>\n",
       "      <td>сотрудник</td>\n",
       "      <td>0</td>\n",
       "      <td>289202.704229</td>\n",
       "      <td>недвижимость</td>\n",
       "    </tr>\n",
       "    <tr>\n",
       "      <th>17</th>\n",
       "      <td>0</td>\n",
       "      <td>-2369.999720</td>\n",
       "      <td>33</td>\n",
       "      <td>высшее</td>\n",
       "      <td>0</td>\n",
       "      <td>гражданский брак</td>\n",
       "      <td>1</td>\n",
       "      <td>M</td>\n",
       "      <td>сотрудник</td>\n",
       "      <td>0</td>\n",
       "      <td>90410.586745</td>\n",
       "      <td>строительство недвижимости</td>\n",
       "    </tr>\n",
       "    <tr>\n",
       "      <th>18</th>\n",
       "      <td>0</td>\n",
       "      <td>400281.136913</td>\n",
       "      <td>53</td>\n",
       "      <td>среднее</td>\n",
       "      <td>1</td>\n",
       "      <td>вдовец / вдова</td>\n",
       "      <td>2</td>\n",
       "      <td>F</td>\n",
       "      <td>пенсионер</td>\n",
       "      <td>0</td>\n",
       "      <td>56823.777243</td>\n",
       "      <td>на покупку подержанного автомобиля</td>\n",
       "    </tr>\n",
       "    <tr>\n",
       "      <th>19</th>\n",
       "      <td>0</td>\n",
       "      <td>-10038.818549</td>\n",
       "      <td>48</td>\n",
       "      <td>СРЕДНЕЕ</td>\n",
       "      <td>1</td>\n",
       "      <td>в разводе</td>\n",
       "      <td>3</td>\n",
       "      <td>F</td>\n",
       "      <td>сотрудник</td>\n",
       "      <td>0</td>\n",
       "      <td>242831.107982</td>\n",
       "      <td>на покупку своего автомобиля</td>\n",
       "    </tr>\n",
       "  </tbody>\n",
       "</table>\n",
       "</div>"
      ],
      "text/plain": [
       "    children  days_employed  dob_years            education  education_id  \\\n",
       "0          1   -8437.673028         42               высшее             0   \n",
       "1          1   -4024.803754         36              среднее             1   \n",
       "2          0   -5623.422610         33              Среднее             1   \n",
       "3          3   -4124.747207         32              среднее             1   \n",
       "4          0  340266.072047         53              среднее             1   \n",
       "5          0    -926.185831         27               высшее             0   \n",
       "6          0   -2879.202052         43               высшее             0   \n",
       "7          0    -152.779569         50              СРЕДНЕЕ             1   \n",
       "8          2   -6929.865299         35               ВЫСШЕЕ             0   \n",
       "9          0   -2188.756445         41              среднее             1   \n",
       "10         2   -4171.483647         36               высшее             0   \n",
       "11         0    -792.701887         40              среднее             1   \n",
       "12         0            NaN         65              среднее             1   \n",
       "13         0   -1846.641941         54  неоконченное высшее             2   \n",
       "14         0   -1844.956182         56               высшее             0   \n",
       "15         1    -972.364419         26              среднее             1   \n",
       "16         0   -1719.934226         35              среднее             1   \n",
       "17         0   -2369.999720         33               высшее             0   \n",
       "18         0  400281.136913         53              среднее             1   \n",
       "19         0  -10038.818549         48              СРЕДНЕЕ             1   \n",
       "\n",
       "       family_status  family_status_id gender income_type  debt  \\\n",
       "0    женат / замужем                 0      F   сотрудник     0   \n",
       "1    женат / замужем                 0      F   сотрудник     0   \n",
       "2    женат / замужем                 0      M   сотрудник     0   \n",
       "3    женат / замужем                 0      M   сотрудник     0   \n",
       "4   гражданский брак                 1      F   пенсионер     0   \n",
       "5   гражданский брак                 1      M   компаньон     0   \n",
       "6    женат / замужем                 0      F   компаньон     0   \n",
       "7    женат / замужем                 0      M   сотрудник     0   \n",
       "8   гражданский брак                 1      F   сотрудник     0   \n",
       "9    женат / замужем                 0      M   сотрудник     0   \n",
       "10   женат / замужем                 0      M   компаньон     0   \n",
       "11   женат / замужем                 0      F   сотрудник     0   \n",
       "12  гражданский брак                 1      M   пенсионер     0   \n",
       "13   женат / замужем                 0      F   сотрудник     0   \n",
       "14  гражданский брак                 1      F   компаньон     1   \n",
       "15   женат / замужем                 0      F   сотрудник     0   \n",
       "16   женат / замужем                 0      F   сотрудник     0   \n",
       "17  гражданский брак                 1      M   сотрудник     0   \n",
       "18    вдовец / вдова                 2      F   пенсионер     0   \n",
       "19         в разводе                 3      F   сотрудник     0   \n",
       "\n",
       "     total_income                                 purpose  \n",
       "0   253875.639453                           покупка жилья  \n",
       "1   112080.014102                 приобретение автомобиля  \n",
       "2   145885.952297                           покупка жилья  \n",
       "3   267628.550329              дополнительное образование  \n",
       "4   158616.077870                         сыграть свадьбу  \n",
       "5   255763.565419                           покупка жилья  \n",
       "6   240525.971920                       операции с жильем  \n",
       "7   135823.934197                             образование  \n",
       "8    95856.832424                   на проведение свадьбы  \n",
       "9   144425.938277                 покупка жилья для семьи  \n",
       "10  113943.491460                    покупка недвижимости  \n",
       "11   77069.234271       покупка коммерческой недвижимости  \n",
       "12            NaN                         сыграть свадьбу  \n",
       "13  130458.228857                 приобретение автомобиля  \n",
       "14  165127.911772              покупка жилой недвижимости  \n",
       "15  116820.904450  строительство собственной недвижимости  \n",
       "16  289202.704229                            недвижимость  \n",
       "17   90410.586745              строительство недвижимости  \n",
       "18   56823.777243      на покупку подержанного автомобиля  \n",
       "19  242831.107982            на покупку своего автомобиля  "
      ]
     },
     "execution_count": 3,
     "metadata": {},
     "output_type": "execute_result"
    }
   ],
   "source": [
    "data.head(20)"
   ]
  },
  {
   "cell_type": "markdown",
   "id": "b78b07d8",
   "metadata": {
    "deletable": false,
    "editable": false,
    "id": "1c12e233"
   },
   "source": [
    "**Задание 3. Выведите основную информацию о датафрейме с помощью метода `info()`.**"
   ]
  },
  {
   "cell_type": "code",
   "execution_count": 4,
   "id": "48c9e67e",
   "metadata": {
    "deletable": false,
    "id": "2b757bca",
    "outputId": "15376089-8dad-46c9-b520-c05248d43158"
   },
   "outputs": [
    {
     "name": "stdout",
     "output_type": "stream",
     "text": [
      "<class 'pandas.core.frame.DataFrame'>\n",
      "RangeIndex: 21525 entries, 0 to 21524\n",
      "Data columns (total 12 columns):\n",
      " #   Column            Non-Null Count  Dtype  \n",
      "---  ------            --------------  -----  \n",
      " 0   children          21525 non-null  int64  \n",
      " 1   days_employed     19351 non-null  float64\n",
      " 2   dob_years         21525 non-null  int64  \n",
      " 3   education         21525 non-null  object \n",
      " 4   education_id      21525 non-null  int64  \n",
      " 5   family_status     21525 non-null  object \n",
      " 6   family_status_id  21525 non-null  int64  \n",
      " 7   gender            21525 non-null  object \n",
      " 8   income_type       21525 non-null  object \n",
      " 9   debt              21525 non-null  int64  \n",
      " 10  total_income      19351 non-null  float64\n",
      " 11  purpose           21525 non-null  object \n",
      "dtypes: float64(2), int64(5), object(5)\n",
      "memory usage: 2.0+ MB\n"
     ]
    }
   ],
   "source": [
    "data.info()"
   ]
  },
  {
   "cell_type": "markdown",
   "id": "d7e597c7",
   "metadata": {
    "deletable": false,
    "editable": false,
    "id": "333ec665"
   },
   "source": [
    "## Предобработка данных"
   ]
  },
  {
   "cell_type": "markdown",
   "id": "48418db3",
   "metadata": {
    "deletable": false,
    "editable": false,
    "id": "02d92d53"
   },
   "source": [
    "### Удаление пропусков"
   ]
  },
  {
   "cell_type": "markdown",
   "id": "616610df",
   "metadata": {
    "deletable": false,
    "editable": false,
    "id": "cd84967c"
   },
   "source": [
    "**Задание 4. Выведите количество пропущенных значений для каждого столбца. Используйте комбинацию двух методов.**"
   ]
  },
  {
   "cell_type": "code",
   "execution_count": 5,
   "id": "3ad86e04",
   "metadata": {
    "deletable": false,
    "id": "7f9b2309",
    "outputId": "81f4d817-781c-465c-ed15-91ce4446810d"
   },
   "outputs": [
    {
     "data": {
      "text/plain": [
       "children               0\n",
       "days_employed       2174\n",
       "dob_years              0\n",
       "education              0\n",
       "education_id           0\n",
       "family_status          0\n",
       "family_status_id       0\n",
       "gender                 0\n",
       "income_type            0\n",
       "debt                   0\n",
       "total_income        2174\n",
       "purpose                0\n",
       "dtype: int64"
      ]
     },
     "execution_count": 5,
     "metadata": {},
     "output_type": "execute_result"
    }
   ],
   "source": [
    "data.isna().sum()"
   ]
  },
  {
   "cell_type": "markdown",
   "id": "ab79c704",
   "metadata": {
    "deletable": false,
    "editable": false,
    "id": "db86e27b"
   },
   "source": [
    "**Задание 5. В двух столбцах есть пропущенные значения. Один из них — `days_employed`. Пропуски в этом столбце вы обработаете на следующем этапе. Другой столбец с пропущенными значениями — `total_income` — хранит данные о доходах. На сумму дохода сильнее всего влияет тип занятости, поэтому заполнить пропуски в этом столбце нужно медианным значением по каждому типу из столбца `income_type`. Например, у человека с типом занятости `сотрудник` пропуск в столбце `total_income` должен быть заполнен медианным доходом среди всех записей с тем же типом.**"
   ]
  },
  {
   "cell_type": "code",
   "execution_count": 6,
   "id": "ee476b54",
   "metadata": {
    "deletable": false,
    "id": "42006a93"
   },
   "outputs": [],
   "source": [
    "for t in data['income_type'].unique():\n",
    "    data.loc[(data['income_type'] == t) & (data['total_income'].isna()), 'total_income'] = \\\n",
    "    data.loc[(data['income_type'] == t), 'total_income'].median()"
   ]
  },
  {
   "cell_type": "markdown",
   "id": "0f8c9bab",
   "metadata": {
    "deletable": false,
    "editable": false,
    "id": "89da5ece"
   },
   "source": [
    "### Обработка аномальных значений"
   ]
  },
  {
   "cell_type": "markdown",
   "id": "590870f4",
   "metadata": {
    "deletable": false,
    "editable": false,
    "id": "57964554"
   },
   "source": [
    "**Задание 6. В данных могут встречаться артефакты (аномалии) — значения, которые не отражают действительность и появились по какой-то ошибке. таким артефактом будет отрицательное количество дней трудового стажа в столбце `days_employed`. Для реальных данных это нормально. Обработайте значения в этом столбце: замените все отрицательные значения положительными с помощью метода `abs()`.**"
   ]
  },
  {
   "cell_type": "code",
   "execution_count": 7,
   "id": "9a7e3b6f",
   "metadata": {
    "deletable": false,
    "id": "f6f055bf"
   },
   "outputs": [],
   "source": [
    "data['days_employed'] = data['days_employed'].abs()"
   ]
  },
  {
   "cell_type": "markdown",
   "id": "f2eb3d71",
   "metadata": {
    "deletable": false,
    "editable": false,
    "id": "6107dd2f"
   },
   "source": [
    "**Задание 7. Для каждого типа занятости выведите медианное значение трудового стажа `days_employed` в днях.**"
   ]
  },
  {
   "cell_type": "code",
   "execution_count": 8,
   "id": "3bda1a1c",
   "metadata": {
    "deletable": false,
    "id": "85a5faf6",
    "outputId": "801ef80e-522b-4668-f34e-565af7432bcf"
   },
   "outputs": [
    {
     "data": {
      "text/plain": [
       "income_type\n",
       "безработный        366413.652744\n",
       "в декрете            3296.759962\n",
       "госслужащий          2689.368353\n",
       "компаньон            1547.382223\n",
       "пенсионер          365213.306266\n",
       "предприниматель       520.848083\n",
       "сотрудник            1574.202821\n",
       "студент               578.751554\n",
       "Name: days_employed, dtype: float64"
      ]
     },
     "execution_count": 8,
     "metadata": {},
     "output_type": "execute_result"
    }
   ],
   "source": [
    "data.groupby('income_type')['days_employed'].agg('median')"
   ]
  },
  {
   "cell_type": "markdown",
   "id": "19bf85e9",
   "metadata": {
    "deletable": false,
    "editable": false,
    "id": "38d1a030"
   },
   "source": [
    "У двух типов (безработные и пенсионеры) получатся аномально большие значения. Исправить такие значения сложно, поэтому оставьте их как есть. Тем более этот столбец не понадобится вам для исследования."
   ]
  },
  {
   "cell_type": "markdown",
   "id": "7df624fe",
   "metadata": {
    "deletable": false,
    "editable": false,
    "id": "d8a9f147"
   },
   "source": [
    "**Задание 8. Выведите перечень уникальных значений столбца `children`.**"
   ]
  },
  {
   "cell_type": "code",
   "execution_count": 9,
   "id": "1f572858",
   "metadata": {
    "deletable": false,
    "id": "ef5056eb",
    "outputId": "6975b15c-7f95-4697-d16d-a0c79b657b03"
   },
   "outputs": [
    {
     "data": {
      "text/plain": [
       "array([ 1,  0,  3,  2, -1,  4, 20,  5])"
      ]
     },
     "execution_count": 9,
     "metadata": {},
     "output_type": "execute_result"
    }
   ],
   "source": [
    "data['children'].unique()"
   ]
  },
  {
   "cell_type": "markdown",
   "id": "20d89769",
   "metadata": {
    "deletable": false,
    "editable": false,
    "id": "40b9ebf2"
   },
   "source": [
    "**Задание 9. В столбце `children` есть два аномальных значения. Удалите строки, в которых встречаются такие аномальные значения из датафрейма `data`.**"
   ]
  },
  {
   "cell_type": "code",
   "execution_count": 10,
   "id": "a33d0c3a",
   "metadata": {
    "deletable": false,
    "id": "3ff9801d"
   },
   "outputs": [],
   "source": [
    "data = data[(data['children'] != -1) & (data['children'] != 20)]"
   ]
  },
  {
   "cell_type": "markdown",
   "id": "101788f5",
   "metadata": {
    "deletable": false,
    "editable": false,
    "id": "bbc4d0ce"
   },
   "source": [
    "**Задание 10. Ещё раз выведите перечень уникальных значений столбца `children`, чтобы убедиться, что артефакты удалены.**"
   ]
  },
  {
   "cell_type": "code",
   "execution_count": 11,
   "id": "0c2b09db",
   "metadata": {
    "deletable": false,
    "id": "ad4fa8b7",
    "outputId": "b2097101-d49d-44d9-901b-32a65c9463d1"
   },
   "outputs": [
    {
     "data": {
      "text/plain": [
       "array([1, 0, 3, 2, 4, 5])"
      ]
     },
     "execution_count": 11,
     "metadata": {},
     "output_type": "execute_result"
    }
   ],
   "source": [
    "data['children'].unique()"
   ]
  },
  {
   "cell_type": "markdown",
   "id": "564ccf0a",
   "metadata": {
    "deletable": false,
    "editable": false,
    "id": "75440b63"
   },
   "source": [
    "### Удаление пропусков (продолжение)"
   ]
  },
  {
   "cell_type": "markdown",
   "id": "00b5bf03",
   "metadata": {
    "deletable": false,
    "editable": false,
    "id": "f4ea573f"
   },
   "source": [
    "**Задание 11. Заполните пропуски в столбце `days_employed` медианными значениями по каждого типа занятости `income_type`.**"
   ]
  },
  {
   "cell_type": "code",
   "execution_count": 12,
   "id": "c3111a7b",
   "metadata": {
    "deletable": false,
    "id": "af6b1a7e"
   },
   "outputs": [],
   "source": [
    "for t in data['income_type'].unique():\n",
    "    data.loc[(data['income_type'] == t) & (data['days_employed'].isna()), 'days_employed'] = \\\n",
    "    data.loc[(data['income_type'] == t), 'days_employed'].median()"
   ]
  },
  {
   "cell_type": "markdown",
   "id": "71fd7234",
   "metadata": {
    "deletable": false,
    "editable": false,
    "id": "2753f40d"
   },
   "source": [
    "**Задание 12. Убедитесь, что все пропуски заполнены. Проверьте себя и ещё раз выведите количество пропущенных значений для каждого столбца с помощью двух методов.**"
   ]
  },
  {
   "cell_type": "code",
   "execution_count": 13,
   "id": "7c78e1b0",
   "metadata": {
    "deletable": false,
    "id": "55f78bc2",
    "outputId": "8da1e4e1-358e-4e87-98c9-f261bce0a7b2"
   },
   "outputs": [
    {
     "data": {
      "text/plain": [
       "children            0\n",
       "days_employed       0\n",
       "dob_years           0\n",
       "education           0\n",
       "education_id        0\n",
       "family_status       0\n",
       "family_status_id    0\n",
       "gender              0\n",
       "income_type         0\n",
       "debt                0\n",
       "total_income        0\n",
       "purpose             0\n",
       "dtype: int64"
      ]
     },
     "execution_count": 13,
     "metadata": {},
     "output_type": "execute_result"
    }
   ],
   "source": [
    "data.isna().sum()"
   ]
  },
  {
   "cell_type": "markdown",
   "id": "53b38c60",
   "metadata": {
    "deletable": false,
    "editable": false,
    "id": "ddc81e43"
   },
   "source": [
    "### Изменение типов данных"
   ]
  },
  {
   "cell_type": "markdown",
   "id": "d8cb0f8a",
   "metadata": {
    "deletable": false,
    "editable": false,
    "id": "42d19d24"
   },
   "source": [
    "**Задание 13. Замените вещественный тип данных в столбце `total_income` на целочисленный с помощью метода `astype()`.**"
   ]
  },
  {
   "cell_type": "code",
   "execution_count": 14,
   "id": "5000579e",
   "metadata": {
    "deletable": false,
    "id": "920b65ad"
   },
   "outputs": [],
   "source": [
    "data['total_income'] = data['total_income'].astype(int)"
   ]
  },
  {
   "cell_type": "markdown",
   "id": "bd5fae2e",
   "metadata": {
    "deletable": false,
    "editable": false,
    "id": "80c420ba"
   },
   "source": [
    "### Обработка дубликатов"
   ]
  },
  {
   "cell_type": "markdown",
   "id": "23c8b7f8",
   "metadata": {
    "deletable": false,
    "editable": false
   },
   "source": [
    "**Задание 14. Обработайте неявные дубликаты в столбце `education`. В этом столбце есть одни и те же значения, но записанные по-разному: с использованием заглавных и строчных букв. Приведите их к нижнему регистру. Проверьте остальные столбцы.**"
   ]
  },
  {
   "cell_type": "code",
   "execution_count": 15,
   "id": "304c12a9",
   "metadata": {
    "deletable": false
   },
   "outputs": [],
   "source": [
    "data['education'] = data['education'].str.lower()"
   ]
  },
  {
   "cell_type": "markdown",
   "id": "5042924b",
   "metadata": {
    "deletable": false,
    "editable": false,
    "id": "dc587695"
   },
   "source": [
    "**Задание 15. Выведите на экран количество строк-дубликатов в данных. Если такие строки присутствуют, удалите их.**"
   ]
  },
  {
   "cell_type": "code",
   "execution_count": 16,
   "id": "bbfbafb9",
   "metadata": {
    "deletable": false,
    "id": "3ee445e4",
    "outputId": "9684deba-1934-42d1-99e1-cda61740f822"
   },
   "outputs": [
    {
     "data": {
      "text/plain": [
       "71"
      ]
     },
     "execution_count": 16,
     "metadata": {},
     "output_type": "execute_result"
    }
   ],
   "source": [
    "data.duplicated().sum()"
   ]
  },
  {
   "cell_type": "code",
   "execution_count": 17,
   "id": "77f41b14",
   "metadata": {
    "deletable": false,
    "id": "8575fe05"
   },
   "outputs": [],
   "source": [
    "data = data.drop_duplicates()"
   ]
  },
  {
   "cell_type": "markdown",
   "id": "9af2b411",
   "metadata": {
    "deletable": false,
    "editable": false,
    "id": "9904cf55"
   },
   "source": [
    "### Категоризация данных"
   ]
  },
  {
   "cell_type": "markdown",
   "id": "baf65cf6",
   "metadata": {
    "deletable": false,
    "editable": false,
    "id": "72fcc8a2"
   },
   "source": [
    "**Задание 16. На основании диапазонов, указанных ниже, создайте в датафрейме `data` столбец `total_income_category` с категориями:**\n",
    "\n",
    "- 0–30000 — `'E'`;\n",
    "- 30001–50000 — `'D'`;\n",
    "- 50001–200000 — `'C'`;\n",
    "- 200001–1000000 — `'B'`;\n",
    "- 1000001 и выше — `'A'`.\n",
    "\n",
    "\n",
    "**Например, кредитополучателю с доходом 25000 нужно назначить категорию `'E'`, а клиенту, получающему 235000, — `'B'`. Используйте собственную функцию с именем `categorize_income()` и метод `apply()`.**"
   ]
  },
  {
   "cell_type": "code",
   "execution_count": 18,
   "id": "180f8cf1",
   "metadata": {
    "deletable": false,
    "id": "e1771346"
   },
   "outputs": [],
   "source": [
    "def categorize_income(income):\n",
    "    try:\n",
    "        if 0 <= income <= 30000:\n",
    "            return 'E'\n",
    "        elif 30001 <= income <= 50000:\n",
    "            return 'D'\n",
    "        elif 50001 <= income <= 200000:\n",
    "            return 'C'\n",
    "        elif 200001 <= income <= 1000000:\n",
    "            return 'B'\n",
    "        elif income >= 1000001:\n",
    "            return 'A'\n",
    "    except:\n",
    "        pass"
   ]
  },
  {
   "cell_type": "code",
   "execution_count": 19,
   "id": "499d1ccf",
   "metadata": {
    "deletable": false,
    "id": "d5f3586d"
   },
   "outputs": [],
   "source": [
    "data['total_income_category'] = data['total_income'].apply(categorize_income)"
   ]
  },
  {
   "cell_type": "markdown",
   "id": "3b47c91f",
   "metadata": {
    "deletable": false,
    "editable": false,
    "id": "dde49b5c"
   },
   "source": [
    "**Задание 17. Выведите на экран перечень уникальных целей взятия кредита из столбца `purpose`.**"
   ]
  },
  {
   "cell_type": "code",
   "execution_count": 20,
   "id": "1e11b4e0",
   "metadata": {
    "deletable": false,
    "id": "f67ce9b3",
    "outputId": "673c12d9-7d7e-4ae0-9812-c622c89dd244"
   },
   "outputs": [
    {
     "data": {
      "text/plain": [
       "array(['покупка жилья', 'приобретение автомобиля',\n",
       "       'дополнительное образование', 'сыграть свадьбу',\n",
       "       'операции с жильем', 'образование', 'на проведение свадьбы',\n",
       "       'покупка жилья для семьи', 'покупка недвижимости',\n",
       "       'покупка коммерческой недвижимости', 'покупка жилой недвижимости',\n",
       "       'строительство собственной недвижимости', 'недвижимость',\n",
       "       'строительство недвижимости', 'на покупку подержанного автомобиля',\n",
       "       'на покупку своего автомобиля',\n",
       "       'операции с коммерческой недвижимостью',\n",
       "       'строительство жилой недвижимости', 'жилье',\n",
       "       'операции со своей недвижимостью', 'автомобили',\n",
       "       'заняться образованием', 'сделка с подержанным автомобилем',\n",
       "       'получение образования', 'автомобиль', 'свадьба',\n",
       "       'получение дополнительного образования', 'покупка своего жилья',\n",
       "       'операции с недвижимостью', 'получение высшего образования',\n",
       "       'свой автомобиль', 'сделка с автомобилем',\n",
       "       'профильное образование', 'высшее образование',\n",
       "       'покупка жилья для сдачи', 'на покупку автомобиля', 'ремонт жилью',\n",
       "       'заняться высшим образованием'], dtype=object)"
      ]
     },
     "execution_count": 20,
     "metadata": {},
     "output_type": "execute_result"
    }
   ],
   "source": [
    "data['purpose'].unique()"
   ]
  },
  {
   "cell_type": "markdown",
   "id": "84f187f3",
   "metadata": {
    "deletable": false,
    "editable": false,
    "id": "85d0aef0"
   },
   "source": [
    "**Задание 18. Создайте функцию, которая на основании данных из столбца `purpose` сформирует новый столбец `purpose_category`, в который войдут следующие категории:**\n",
    "\n",
    "- `'операции с автомобилем'`,\n",
    "- `'операции с недвижимостью'`,\n",
    "- `'проведение свадьбы'`,\n",
    "- `'получение образования'`.\n",
    "\n",
    "**Например, если в столбце `purpose` находится подстрока `'на покупку автомобиля'`, то в столбце `purpose_category` должна появиться строка `'операции с автомобилем'`.**\n",
    "\n",
    "**Используйте собственную функцию с именем `categorize_purpose()` и метод `apply()`. Изучите данные в столбце `purpose` и определите, какие подстроки помогут вам правильно определить категорию.**"
   ]
  },
  {
   "cell_type": "code",
   "execution_count": 21,
   "id": "3ebe6e8f",
   "metadata": {
    "deletable": false,
    "id": "e149fab4"
   },
   "outputs": [],
   "source": [
    "def categorize_purpose(row):\n",
    "    try:\n",
    "        if 'автом' in row:\n",
    "            return 'операции с автомобилем'\n",
    "        elif 'жил' in row or 'недвиж' in row:\n",
    "            return 'операции с недвижимостью'\n",
    "        elif 'свад' in row:\n",
    "            return 'проведение свадьбы'\n",
    "        elif 'образов' in row:\n",
    "            return 'получение образования'\n",
    "    except:\n",
    "        return 'нет категории'"
   ]
  },
  {
   "cell_type": "code",
   "execution_count": 22,
   "id": "264b1095",
   "metadata": {
    "deletable": false,
    "id": "bf36e69b"
   },
   "outputs": [],
   "source": [
    "data['purpose_category'] = data['purpose'].apply(categorize_purpose)"
   ]
  },
  {
   "cell_type": "markdown",
   "id": "28cff9bf",
   "metadata": {
    "deletable": false,
    "editable": false,
    "id": "09b242bf"
   },
   "source": [
    "### Шаг 3. Исследуйте данные и ответьте на вопросы"
   ]
  },
  {
   "cell_type": "markdown",
   "id": "a218befe",
   "metadata": {
    "deletable": false,
    "editable": false,
    "id": "c5d66278"
   },
   "source": [
    "#### 3.1 Есть ли зависимость между количеством детей и возвратом кредита в срок?"
   ]
  },
  {
   "cell_type": "code",
   "execution_count": 23,
   "id": "5ffb5b49",
   "metadata": {
    "deletable": false,
    "id": "2cacfc4a"
   },
   "outputs": [
    {
     "data": {
      "text/html": [
       "<div>\n",
       "<style scoped>\n",
       "    .dataframe tbody tr th:only-of-type {\n",
       "        vertical-align: middle;\n",
       "    }\n",
       "\n",
       "    .dataframe tbody tr th {\n",
       "        vertical-align: top;\n",
       "    }\n",
       "\n",
       "    .dataframe thead th {\n",
       "        text-align: right;\n",
       "    }\n",
       "</style>\n",
       "<table border=\"1\" class=\"dataframe\">\n",
       "  <thead>\n",
       "    <tr style=\"text-align: right;\">\n",
       "      <th></th>\n",
       "      <th>Количество записей</th>\n",
       "      <th>Среднее по задолженностям</th>\n",
       "    </tr>\n",
       "    <tr>\n",
       "      <th>children</th>\n",
       "      <th></th>\n",
       "      <th></th>\n",
       "    </tr>\n",
       "  </thead>\n",
       "  <tbody>\n",
       "    <tr>\n",
       "      <th>4</th>\n",
       "      <td>41.0</td>\n",
       "      <td>9.76%</td>\n",
       "    </tr>\n",
       "    <tr>\n",
       "      <th>2</th>\n",
       "      <td>2052.0</td>\n",
       "      <td>9.45%</td>\n",
       "    </tr>\n",
       "    <tr>\n",
       "      <th>1</th>\n",
       "      <td>4808.0</td>\n",
       "      <td>9.23%</td>\n",
       "    </tr>\n",
       "    <tr>\n",
       "      <th>3</th>\n",
       "      <td>330.0</td>\n",
       "      <td>8.18%</td>\n",
       "    </tr>\n",
       "    <tr>\n",
       "      <th>0</th>\n",
       "      <td>14091.0</td>\n",
       "      <td>7.54%</td>\n",
       "    </tr>\n",
       "    <tr>\n",
       "      <th>5</th>\n",
       "      <td>9.0</td>\n",
       "      <td>0.00%</td>\n",
       "    </tr>\n",
       "  </tbody>\n",
       "</table>\n",
       "</div>"
      ],
      "text/plain": [
       "          Количество записей Среднее по задолженностям\n",
       "children                                              \n",
       "4                       41.0                     9.76%\n",
       "2                     2052.0                     9.45%\n",
       "1                     4808.0                     9.23%\n",
       "3                      330.0                     8.18%\n",
       "0                    14091.0                     7.54%\n",
       "5                        9.0                     0.00%"
      ]
     },
     "execution_count": 23,
     "metadata": {},
     "output_type": "execute_result"
    }
   ],
   "source": [
    "children_debt = data.pivot_table(index = ['children'], values='debt', aggfunc = ('mean', lambda X:\n",
    "                                                                               X.count()))\n",
    "\n",
    "def percent(x):\n",
    "    return \"{0:.2%}\".format(x)\n",
    "\n",
    "children_debt['mean'] = children_debt['mean'].apply(percent)\n",
    "children_debt = children_debt.rename(columns={'<lambda_0>': 'Количество записей', 'mean': 'Среднее по задолженностям'})\n",
    "children_debt.sort_values(by='Среднее по задолженностям', ascending=False) # Ваш код будет здесь. Вы можете создавать новые ячейки."
   ]
  },
  {
   "cell_type": "markdown",
   "id": "0dffd766",
   "metadata": {
    "deletable": false,
    "id": "3a6b99ec"
   },
   "source": [
    "**Вывод:** Исходя из данных таблицы можно сделать вывод, что люди не имеющие детей чаще выплачивают кредит в срок. Кроме того, количество таких людей значительно превышает количество людей у которых имеется хотя бы один ребенок. Пары с 3 детьми находятся на втором месте по выплачиванию кредита в срок. На последнем месте идут пары с 1,2,4 детьми с незначительной разницей относительно выплаты кредита. Пары с 3-5 детьми являются незначительным количеством относительно бездетных людей и пар с 1-2 детьми."
   ]
  },
  {
   "cell_type": "markdown",
   "id": "53608ec2",
   "metadata": {
    "deletable": false,
    "editable": false,
    "id": "97be82ca"
   },
   "source": [
    "#### 3.2 Есть ли зависимость между семейным положением и возвратом кредита в срок?"
   ]
  },
  {
   "cell_type": "code",
   "execution_count": 24,
   "id": "7832925e",
   "metadata": {
    "deletable": false,
    "id": "dc3f7ee8"
   },
   "outputs": [
    {
     "data": {
      "text/html": [
       "<div>\n",
       "<style scoped>\n",
       "    .dataframe tbody tr th:only-of-type {\n",
       "        vertical-align: middle;\n",
       "    }\n",
       "\n",
       "    .dataframe tbody tr th {\n",
       "        vertical-align: top;\n",
       "    }\n",
       "\n",
       "    .dataframe thead th {\n",
       "        text-align: right;\n",
       "    }\n",
       "</style>\n",
       "<table border=\"1\" class=\"dataframe\">\n",
       "  <thead>\n",
       "    <tr style=\"text-align: right;\">\n",
       "      <th></th>\n",
       "      <th>Количество записей</th>\n",
       "      <th>Среднее по задолженностям</th>\n",
       "    </tr>\n",
       "    <tr>\n",
       "      <th>family_status</th>\n",
       "      <th></th>\n",
       "      <th></th>\n",
       "    </tr>\n",
       "  </thead>\n",
       "  <tbody>\n",
       "    <tr>\n",
       "      <th>Не женат / не замужем</th>\n",
       "      <td>2796.0</td>\n",
       "      <td>9.76%</td>\n",
       "    </tr>\n",
       "    <tr>\n",
       "      <th>гражданский брак</th>\n",
       "      <td>4134.0</td>\n",
       "      <td>9.31%</td>\n",
       "    </tr>\n",
       "    <tr>\n",
       "      <th>женат / замужем</th>\n",
       "      <td>12261.0</td>\n",
       "      <td>7.56%</td>\n",
       "    </tr>\n",
       "    <tr>\n",
       "      <th>в разводе</th>\n",
       "      <td>1189.0</td>\n",
       "      <td>7.06%</td>\n",
       "    </tr>\n",
       "    <tr>\n",
       "      <th>вдовец / вдова</th>\n",
       "      <td>951.0</td>\n",
       "      <td>6.62%</td>\n",
       "    </tr>\n",
       "  </tbody>\n",
       "</table>\n",
       "</div>"
      ],
      "text/plain": [
       "                       Количество записей Среднее по задолженностям\n",
       "family_status                                                      \n",
       "Не женат / не замужем              2796.0                     9.76%\n",
       "гражданский брак                   4134.0                     9.31%\n",
       "женат / замужем                   12261.0                     7.56%\n",
       "в разводе                          1189.0                     7.06%\n",
       "вдовец / вдова                      951.0                     6.62%"
      ]
     },
     "execution_count": 24,
     "metadata": {},
     "output_type": "execute_result"
    }
   ],
   "source": [
    "family_debt = data.pivot_table(index = ['family_status'], values='debt', aggfunc = ('mean', lambda X:\n",
    "                                                                       X.count()))\n",
    "\n",
    "def percent(x):\n",
    "    return \"{0:.2%}\".format(x)\n",
    "\n",
    "family_debt['mean'] = family_debt['mean'].apply(percent)\n",
    "family_debt = family_debt.rename(columns={'<lambda_0>': 'Количество записей', 'mean': 'Среднее по задолженностям'})\n",
    "family_debt.sort_values(by='Среднее по задолженностям', ascending=False) # Ваш код будет здесь. Вы можете создавать новые ячейки."
   ]
  },
  {
   "cell_type": "markdown",
   "id": "4f96d328",
   "metadata": {
    "deletable": false,
    "id": "1cef7837"
   },
   "source": [
    "**Вывод:** Лучше всех выплачивают кредит люди в разводе или вдовцы/вдовы. Женатые пары идут за этой категорией людей с небольшой разницей. И хуже всех кредит выплачивают не замужние люди и пары состаящие в гражданском браке. Количество людей находящихся замужем значительно превышает остальные категории людей."
   ]
  },
  {
   "cell_type": "markdown",
   "id": "072c44ed",
   "metadata": {
    "deletable": false,
    "editable": false,
    "id": "1e8b2fca"
   },
   "source": [
    "#### 3.3 Есть ли зависимость между уровнем дохода и возвратом кредита в срок?"
   ]
  },
  {
   "cell_type": "code",
   "execution_count": 25,
   "id": "5cd85687",
   "metadata": {
    "deletable": false,
    "id": "cd7e3720"
   },
   "outputs": [
    {
     "data": {
      "text/html": [
       "<div>\n",
       "<style scoped>\n",
       "    .dataframe tbody tr th:only-of-type {\n",
       "        vertical-align: middle;\n",
       "    }\n",
       "\n",
       "    .dataframe tbody tr th {\n",
       "        vertical-align: top;\n",
       "    }\n",
       "\n",
       "    .dataframe thead th {\n",
       "        text-align: right;\n",
       "    }\n",
       "</style>\n",
       "<table border=\"1\" class=\"dataframe\">\n",
       "  <thead>\n",
       "    <tr style=\"text-align: right;\">\n",
       "      <th></th>\n",
       "      <th>Количество записей</th>\n",
       "      <th>Среднее по задолженностям</th>\n",
       "    </tr>\n",
       "    <tr>\n",
       "      <th>total_income_category</th>\n",
       "      <th></th>\n",
       "      <th></th>\n",
       "    </tr>\n",
       "  </thead>\n",
       "  <tbody>\n",
       "    <tr>\n",
       "      <th>E</th>\n",
       "      <td>22.0</td>\n",
       "      <td>9.09%</td>\n",
       "    </tr>\n",
       "    <tr>\n",
       "      <th>C</th>\n",
       "      <td>15921.0</td>\n",
       "      <td>8.50%</td>\n",
       "    </tr>\n",
       "    <tr>\n",
       "      <th>A</th>\n",
       "      <td>25.0</td>\n",
       "      <td>8.00%</td>\n",
       "    </tr>\n",
       "    <tr>\n",
       "      <th>B</th>\n",
       "      <td>5014.0</td>\n",
       "      <td>7.06%</td>\n",
       "    </tr>\n",
       "    <tr>\n",
       "      <th>D</th>\n",
       "      <td>349.0</td>\n",
       "      <td>6.02%</td>\n",
       "    </tr>\n",
       "  </tbody>\n",
       "</table>\n",
       "</div>"
      ],
      "text/plain": [
       "                       Количество записей Среднее по задолженностям\n",
       "total_income_category                                              \n",
       "E                                    22.0                     9.09%\n",
       "C                                 15921.0                     8.50%\n",
       "A                                    25.0                     8.00%\n",
       "B                                  5014.0                     7.06%\n",
       "D                                   349.0                     6.02%"
      ]
     },
     "execution_count": 25,
     "metadata": {},
     "output_type": "execute_result"
    }
   ],
   "source": [
    "total_debt = data.pivot_table(index = 'total_income_category', values='debt', aggfunc = ('mean', lambda X:\n",
    "                                                                       X.count()))\n",
    "def percent(x):\n",
    "    return \"{0:.2%}\".format(x)\n",
    "\n",
    "total_debt['mean'] = total_debt['mean'].apply(percent)\n",
    "total_debt = total_debt.rename(columns={'<lambda_0>': 'Количество записей', 'mean': 'Среднее по задолженностям'})\n",
    "total_debt.sort_values(by='Среднее по задолженностям', ascending=False) # Ваш код будет здесь. Вы можете создавать новые ячейки."
   ]
  },
  {
   "cell_type": "markdown",
   "id": "005a1906",
   "metadata": {
    "deletable": false,
    "id": "e8593def"
   },
   "source": [
    "**Вывод:** Люди с зарплатой категории D выплачивают кредит лучше остальных. За ними разницей в один процент идут люди с зарплатой категории B. На последнем месте идут люди с зарплатой категории A,C,E. Клиенты с зарплатами E,A,D являются незначительными группами клиентов. Следовательно банку лучше делать приоритет на группе B из-за того, что это вторая по многочисленности группа и вторая по выплате кредита в срок."
   ]
  },
  {
   "cell_type": "markdown",
   "id": "1589a436",
   "metadata": {
    "deletable": false,
    "editable": false,
    "id": "99ecbd1f"
   },
   "source": [
    "#### 3.4 Как разные цели кредита влияют на его возврат в срок?"
   ]
  },
  {
   "cell_type": "code",
   "execution_count": 26,
   "id": "2acc3542",
   "metadata": {
    "deletable": false,
    "id": "2b687290"
   },
   "outputs": [
    {
     "data": {
      "text/html": [
       "<div>\n",
       "<style scoped>\n",
       "    .dataframe tbody tr th:only-of-type {\n",
       "        vertical-align: middle;\n",
       "    }\n",
       "\n",
       "    .dataframe tbody tr th {\n",
       "        vertical-align: top;\n",
       "    }\n",
       "\n",
       "    .dataframe thead th {\n",
       "        text-align: right;\n",
       "    }\n",
       "</style>\n",
       "<table border=\"1\" class=\"dataframe\">\n",
       "  <thead>\n",
       "    <tr style=\"text-align: right;\">\n",
       "      <th></th>\n",
       "      <th>Количество записей</th>\n",
       "      <th>Среднее по задолженностям</th>\n",
       "    </tr>\n",
       "    <tr>\n",
       "      <th>purpose_category</th>\n",
       "      <th></th>\n",
       "      <th></th>\n",
       "    </tr>\n",
       "  </thead>\n",
       "  <tbody>\n",
       "    <tr>\n",
       "      <th>операции с автомобилем</th>\n",
       "      <td>4279.0</td>\n",
       "      <td>9.35%</td>\n",
       "    </tr>\n",
       "    <tr>\n",
       "      <th>получение образования</th>\n",
       "      <td>3988.0</td>\n",
       "      <td>9.25%</td>\n",
       "    </tr>\n",
       "    <tr>\n",
       "      <th>проведение свадьбы</th>\n",
       "      <td>2313.0</td>\n",
       "      <td>7.91%</td>\n",
       "    </tr>\n",
       "    <tr>\n",
       "      <th>операции с недвижимостью</th>\n",
       "      <td>10751.0</td>\n",
       "      <td>7.26%</td>\n",
       "    </tr>\n",
       "  </tbody>\n",
       "</table>\n",
       "</div>"
      ],
      "text/plain": [
       "                          Количество записей Среднее по задолженностям\n",
       "purpose_category                                                      \n",
       "операции с автомобилем                4279.0                     9.35%\n",
       "получение образования                 3988.0                     9.25%\n",
       "проведение свадьбы                    2313.0                     7.91%\n",
       "операции с недвижимостью             10751.0                     7.26%"
      ]
     },
     "execution_count": 26,
     "metadata": {},
     "output_type": "execute_result"
    }
   ],
   "source": [
    "purpose_debt = data.pivot_table(index = ['purpose_category'], values='debt', aggfunc = ('mean', lambda X:\n",
    "                                                                       X.count()))\n",
    "def percent(x):\n",
    "    return \"{0:.2%}\".format(x)\n",
    "\n",
    "purpose_debt['mean'] = purpose_debt['mean'].apply(percent)\n",
    "purpose_debt = purpose_debt.rename(columns={'<lambda_0>': 'Количество записей', 'mean': 'Среднее по задолженностям'})\n",
    "purpose_debt.sort_values(by='Среднее по задолженностям', ascending=False) # Ваш код будет здесь. Вы можете создавать новые ячейки."
   ]
  },
  {
   "cell_type": "markdown",
   "id": "05e930fe",
   "metadata": {
    "deletable": false,
    "id": "b4bb2ce6"
   },
   "source": [
    "**Вывод:** При операциях с недвижемостью люди лучше выплачивают кредит. После этого идёт группа людей получающая кредит для проведение свадьбы. И хуже всех выплачивают кредит люди, которые получили кредит на получение образования и операции с автомобилем."
   ]
  },
  {
   "cell_type": "markdown",
   "id": "26204de7",
   "metadata": {
    "deletable": false,
    "editable": false,
    "id": "09c3ac4c"
   },
   "source": [
    "#### 3.5 Приведите возможные причины появления пропусков в исходных данных."
   ]
  },
  {
   "cell_type": "markdown",
   "id": "28ba9a01",
   "metadata": {
    "deletable": false,
    "id": "9da2ceda"
   },
   "source": [
    "*Ответ:* В основном пропуски в данных появляются из-за человеческой ошибки, сбоя системы или клиент забыл указать о себе какие-нибудь сведения."
   ]
  },
  {
   "cell_type": "markdown",
   "id": "9c29281f",
   "metadata": {
    "deletable": false,
    "editable": false,
    "id": "7b0487d6"
   },
   "source": [
    "#### 3.6 Объясните, почему заполнить пропуски медианным значением — лучшее решение для количественных переменных."
   ]
  },
  {
   "cell_type": "markdown",
   "id": "5cdda428",
   "metadata": {
    "deletable": false,
    "id": "7ecf2b8e"
   },
   "source": [
    "*Ответ:* Заполнять пропуски медианой лучше, потому что в количественных данных могут быть значения с черезмерно большой разницей."
   ]
  },
  {
   "cell_type": "markdown",
   "id": "77a8509e",
   "metadata": {
    "deletable": false,
    "editable": false,
    "id": "6db5255a"
   },
   "source": [
    "### Шаг 4: общий вывод."
   ]
  },
  {
   "cell_type": "markdown",
   "id": "26247175",
   "metadata": {
    "deletable": false,
    "id": "bad65432"
   },
   "source": [
    "Исследование проходило для кредитного отдела банка. В ходе исследования нужно было разобраться, влияет ли семейное положение и количество детей клиента на факт погашения кредита в срок. Входные данные от банка — статистика о платёжеспособности клиентов. В исходных данных были найдены дубликаты, пропуски и артефакты, которые были успешно обработаны для нашего исследования. Также была проведена категоризация данных для распределения клиентов по их доходам и их целям для получения кредита.\n",
    "Отталкиваясь от цели нашего исследования можно сделать вывод, что семейное положение и количество детей клиента влияют на сроки погашения кредита. Кроме этих факторов, нужно учитывать цели клиента для взятия кредита и его уровень дохода. При предоставлении кредита банку стоит учитывать следующие факторы: \n",
    "1) Люди не имеющие детей являются крайне многочисленной группой и выплачивают кредит вовремя чаще пар с детьми\n",
    "2) Замужние пары средне выплачивают кредит относительно сроков, но при этом крайне многочисленны\n",
    "3) Люди с зарплатой категории B отлично успевают в сроки выплаты кредита\n",
    "4) Если целью человека является какие-любо операции с недвижемостью, то клиенты стараются не задерживать выплаты"
   ]
  }
 ],
 "metadata": {
  "ExecuteTimeLog": [
   {
    "duration": 73,
    "start_time": "2022-12-26T10:59:39.921Z"
   },
   {
    "duration": 66,
    "start_time": "2022-12-26T10:59:58.038Z"
   },
   {
    "duration": 467,
    "start_time": "2022-12-26T11:01:04.837Z"
   },
   {
    "duration": 470,
    "start_time": "2022-12-26T11:01:12.294Z"
   },
   {
    "duration": 22,
    "start_time": "2022-12-26T11:01:14.406Z"
   },
   {
    "duration": 16,
    "start_time": "2022-12-26T11:01:17.367Z"
   },
   {
    "duration": 10,
    "start_time": "2022-12-26T11:01:19.743Z"
   },
   {
    "duration": 36,
    "start_time": "2022-12-26T11:01:21.552Z"
   },
   {
    "duration": 4,
    "start_time": "2022-12-26T11:01:23.302Z"
   },
   {
    "duration": 7,
    "start_time": "2022-12-26T11:01:24.863Z"
   },
   {
    "duration": 4,
    "start_time": "2022-12-26T11:01:26.887Z"
   },
   {
    "duration": 8,
    "start_time": "2022-12-26T11:01:28.644Z"
   },
   {
    "duration": 5,
    "start_time": "2022-12-26T11:01:30.591Z"
   },
   {
    "duration": 35,
    "start_time": "2022-12-26T11:01:32.561Z"
   },
   {
    "duration": 9,
    "start_time": "2022-12-26T11:01:34.560Z"
   },
   {
    "duration": 3,
    "start_time": "2022-12-26T11:01:36.557Z"
   },
   {
    "duration": 13,
    "start_time": "2022-12-26T11:01:38.436Z"
   },
   {
    "duration": 20,
    "start_time": "2022-12-26T11:01:39.884Z"
   },
   {
    "duration": 17,
    "start_time": "2022-12-26T11:01:41.230Z"
   },
   {
    "duration": 3,
    "start_time": "2022-12-26T11:01:43.303Z"
   },
   {
    "duration": 10,
    "start_time": "2022-12-26T11:01:47.764Z"
   },
   {
    "duration": 6,
    "start_time": "2022-12-26T11:01:49.534Z"
   },
   {
    "duration": 3,
    "start_time": "2022-12-26T11:01:51.957Z"
   },
   {
    "duration": 14,
    "start_time": "2022-12-26T11:01:53.549Z"
   },
   {
    "duration": 74,
    "start_time": "2022-12-26T11:01:55.741Z"
   },
   {
    "duration": 19,
    "start_time": "2022-12-26T11:03:22.899Z"
   },
   {
    "duration": 13,
    "start_time": "2022-12-26T11:03:25.332Z"
   },
   {
    "duration": 17,
    "start_time": "2022-12-26T11:03:41.043Z"
   },
   {
    "duration": 80,
    "start_time": "2022-12-26T11:04:35.267Z"
   },
   {
    "duration": 78,
    "start_time": "2022-12-26T11:05:48.155Z"
   },
   {
    "duration": 18,
    "start_time": "2022-12-26T11:05:56.411Z"
   },
   {
    "duration": 1156,
    "start_time": "2022-12-26T11:06:13.609Z"
   },
   {
    "duration": 23,
    "start_time": "2022-12-26T11:06:28.087Z"
   },
   {
    "duration": 20,
    "start_time": "2022-12-26T11:06:43.170Z"
   },
   {
    "duration": 10,
    "start_time": "2022-12-26T11:07:01.363Z"
   },
   {
    "duration": 34,
    "start_time": "2022-12-26T11:07:06.574Z"
   },
   {
    "duration": 37,
    "start_time": "2022-12-26T11:08:01.509Z"
   },
   {
    "duration": 13,
    "start_time": "2022-12-26T11:13:52.556Z"
   },
   {
    "duration": 67,
    "start_time": "2022-12-26T11:16:21.789Z"
   },
   {
    "duration": 12,
    "start_time": "2022-12-26T11:16:29.597Z"
   },
   {
    "duration": 31,
    "start_time": "2022-12-26T11:20:56.666Z"
   },
   {
    "duration": 22,
    "start_time": "2022-12-26T11:21:16.794Z"
   },
   {
    "duration": 16,
    "start_time": "2022-12-26T11:21:26.239Z"
   },
   {
    "duration": 24,
    "start_time": "2022-12-26T11:21:33.206Z"
   },
   {
    "duration": 21,
    "start_time": "2022-12-26T11:22:07.756Z"
   },
   {
    "duration": 23,
    "start_time": "2022-12-26T11:22:29.505Z"
   },
   {
    "duration": 21,
    "start_time": "2022-12-26T11:22:45.118Z"
   },
   {
    "duration": 19,
    "start_time": "2022-12-26T11:23:09.063Z"
   },
   {
    "duration": 1170,
    "start_time": "2022-12-26T11:23:17.573Z"
   },
   {
    "duration": 22,
    "start_time": "2022-12-26T11:23:32.583Z"
   },
   {
    "duration": 3,
    "start_time": "2022-12-26T11:25:03.716Z"
   },
   {
    "duration": 18,
    "start_time": "2022-12-26T12:26:15.293Z"
   },
   {
    "duration": 20,
    "start_time": "2022-12-26T12:26:41.289Z"
   },
   {
    "duration": 31,
    "start_time": "2022-12-26T12:27:07.058Z"
   },
   {
    "duration": 22,
    "start_time": "2022-12-26T12:30:57.748Z"
   },
   {
    "duration": 9,
    "start_time": "2022-12-26T12:32:20.462Z"
   },
   {
    "duration": 18,
    "start_time": "2022-12-26T12:32:41.963Z"
   },
   {
    "duration": 27,
    "start_time": "2022-12-26T13:21:43.864Z"
   },
   {
    "duration": 22,
    "start_time": "2022-12-26T13:22:15.227Z"
   },
   {
    "duration": 21,
    "start_time": "2022-12-26T13:22:44.230Z"
   },
   {
    "duration": 33,
    "start_time": "2022-12-26T13:24:53.881Z"
   },
   {
    "duration": 27,
    "start_time": "2022-12-26T13:25:21.283Z"
   },
   {
    "duration": 8,
    "start_time": "2022-12-26T13:28:17.704Z"
   },
   {
    "duration": 22,
    "start_time": "2022-12-26T13:28:23.007Z"
   },
   {
    "duration": 24,
    "start_time": "2022-12-26T13:28:42.167Z"
   },
   {
    "duration": 27,
    "start_time": "2022-12-26T13:33:29.568Z"
   },
   {
    "duration": 28,
    "start_time": "2022-12-26T13:34:22.029Z"
   },
   {
    "duration": 25,
    "start_time": "2022-12-26T13:34:30.872Z"
   },
   {
    "duration": 25,
    "start_time": "2022-12-26T13:34:41.806Z"
   },
   {
    "duration": 34,
    "start_time": "2022-12-26T13:34:53.998Z"
   },
   {
    "duration": 27,
    "start_time": "2022-12-26T13:44:33.878Z"
   },
   {
    "duration": 482,
    "start_time": "2022-12-26T14:50:26.593Z"
   },
   {
    "duration": 26,
    "start_time": "2022-12-26T14:50:30.638Z"
   },
   {
    "duration": 15,
    "start_time": "2022-12-26T14:50:42.538Z"
   },
   {
    "duration": 10,
    "start_time": "2022-12-26T14:50:45.181Z"
   },
   {
    "duration": 41,
    "start_time": "2022-12-26T14:50:47.721Z"
   },
   {
    "duration": 4,
    "start_time": "2022-12-26T14:50:50.210Z"
   },
   {
    "duration": 8,
    "start_time": "2022-12-26T14:50:51.762Z"
   },
   {
    "duration": 5,
    "start_time": "2022-12-26T14:50:55.184Z"
   },
   {
    "duration": 8,
    "start_time": "2022-12-26T14:50:57.746Z"
   },
   {
    "duration": 5,
    "start_time": "2022-12-26T14:51:00.504Z"
   },
   {
    "duration": 34,
    "start_time": "2022-12-26T14:51:05.016Z"
   },
   {
    "duration": 10,
    "start_time": "2022-12-26T14:51:06.945Z"
   },
   {
    "duration": 4,
    "start_time": "2022-12-26T14:51:10.146Z"
   },
   {
    "duration": 11,
    "start_time": "2022-12-26T14:51:13.521Z"
   },
   {
    "duration": 20,
    "start_time": "2022-12-26T14:51:15.993Z"
   },
   {
    "duration": 21,
    "start_time": "2022-12-26T14:51:17.873Z"
   },
   {
    "duration": 3,
    "start_time": "2022-12-26T14:51:23.113Z"
   },
   {
    "duration": 9,
    "start_time": "2022-12-26T14:51:25.656Z"
   },
   {
    "duration": 8,
    "start_time": "2022-12-26T14:51:27.201Z"
   },
   {
    "duration": 3,
    "start_time": "2022-12-26T14:51:30.311Z"
   },
   {
    "duration": 9,
    "start_time": "2022-12-26T14:51:32.440Z"
   },
   {
    "duration": 30,
    "start_time": "2022-12-26T14:51:34.607Z"
   },
   {
    "duration": 76,
    "start_time": "2022-12-26T14:51:42.410Z"
   },
   {
    "duration": 24,
    "start_time": "2022-12-26T14:52:30.793Z"
   },
   {
    "duration": 22,
    "start_time": "2022-12-26T14:52:33.496Z"
   },
   {
    "duration": 23,
    "start_time": "2022-12-26T14:52:36.663Z"
   },
   {
    "duration": 446,
    "start_time": "2022-12-26T14:52:54.927Z"
   },
   {
    "duration": 22,
    "start_time": "2022-12-26T14:52:56.455Z"
   },
   {
    "duration": 15,
    "start_time": "2022-12-26T14:52:59.055Z"
   },
   {
    "duration": 11,
    "start_time": "2022-12-26T14:53:01.503Z"
   },
   {
    "duration": 33,
    "start_time": "2022-12-26T14:53:03.143Z"
   },
   {
    "duration": 4,
    "start_time": "2022-12-26T14:53:04.975Z"
   },
   {
    "duration": 9,
    "start_time": "2022-12-26T14:53:06.189Z"
   },
   {
    "duration": 5,
    "start_time": "2022-12-26T14:53:08.077Z"
   },
   {
    "duration": 7,
    "start_time": "2022-12-26T14:53:09.909Z"
   },
   {
    "duration": 5,
    "start_time": "2022-12-26T14:53:11.245Z"
   },
   {
    "duration": 37,
    "start_time": "2022-12-26T14:53:12.934Z"
   },
   {
    "duration": 10,
    "start_time": "2022-12-26T14:53:14.638Z"
   },
   {
    "duration": 4,
    "start_time": "2022-12-26T14:53:16.686Z"
   },
   {
    "duration": 16,
    "start_time": "2022-12-26T14:53:18.578Z"
   },
   {
    "duration": 23,
    "start_time": "2022-12-26T14:53:20.160Z"
   },
   {
    "duration": 25,
    "start_time": "2022-12-26T14:53:21.886Z"
   },
   {
    "duration": 6,
    "start_time": "2022-12-26T14:53:24.190Z"
   },
   {
    "duration": 10,
    "start_time": "2022-12-26T14:53:27.093Z"
   },
   {
    "duration": 6,
    "start_time": "2022-12-26T14:53:29.150Z"
   },
   {
    "duration": 4,
    "start_time": "2022-12-26T14:53:32.023Z"
   },
   {
    "duration": 10,
    "start_time": "2022-12-26T14:53:34.358Z"
   },
   {
    "duration": 28,
    "start_time": "2022-12-26T14:53:35.814Z"
   },
   {
    "duration": 27,
    "start_time": "2022-12-26T14:53:52.086Z"
   },
   {
    "duration": 27,
    "start_time": "2022-12-26T14:53:55.565Z"
   },
   {
    "duration": 28,
    "start_time": "2022-12-26T14:53:57.479Z"
   },
   {
    "duration": 59,
    "start_time": "2022-12-26T14:57:07.764Z"
   },
   {
    "duration": 457,
    "start_time": "2022-12-26T14:57:12.346Z"
   },
   {
    "duration": 29,
    "start_time": "2022-12-26T14:57:13.997Z"
   },
   {
    "duration": 24,
    "start_time": "2022-12-26T14:57:16.675Z"
   },
   {
    "duration": 9,
    "start_time": "2022-12-26T14:57:19.417Z"
   },
   {
    "duration": 54,
    "start_time": "2022-12-26T14:57:21.443Z"
   },
   {
    "duration": 5,
    "start_time": "2022-12-26T14:57:23.419Z"
   },
   {
    "duration": 10,
    "start_time": "2022-12-26T14:57:25.420Z"
   },
   {
    "duration": 6,
    "start_time": "2022-12-26T14:57:35.187Z"
   },
   {
    "duration": 8,
    "start_time": "2022-12-26T14:57:38.137Z"
   },
   {
    "duration": 5,
    "start_time": "2022-12-26T14:57:39.463Z"
   },
   {
    "duration": 33,
    "start_time": "2022-12-26T14:57:41.091Z"
   },
   {
    "duration": 11,
    "start_time": "2022-12-26T14:57:42.369Z"
   },
   {
    "duration": 5,
    "start_time": "2022-12-26T14:57:44.146Z"
   },
   {
    "duration": 15,
    "start_time": "2022-12-26T14:57:45.714Z"
   },
   {
    "duration": 20,
    "start_time": "2022-12-26T14:57:47.489Z"
   },
   {
    "duration": 19,
    "start_time": "2022-12-26T14:57:48.808Z"
   },
   {
    "duration": 4,
    "start_time": "2022-12-26T14:57:50.648Z"
   },
   {
    "duration": 16,
    "start_time": "2022-12-26T14:57:52.418Z"
   },
   {
    "duration": 7,
    "start_time": "2022-12-26T14:57:54.156Z"
   },
   {
    "duration": 5,
    "start_time": "2022-12-26T14:57:56.082Z"
   },
   {
    "duration": 13,
    "start_time": "2022-12-26T14:57:57.740Z"
   },
   {
    "duration": 32,
    "start_time": "2022-12-26T14:57:59.339Z"
   },
   {
    "duration": 24,
    "start_time": "2022-12-26T14:58:01.987Z"
   },
   {
    "duration": 35,
    "start_time": "2022-12-26T14:58:04.906Z"
   },
   {
    "duration": 34,
    "start_time": "2022-12-26T14:58:07.041Z"
   },
   {
    "duration": 495,
    "start_time": "2022-12-26T18:49:43.075Z"
   },
   {
    "duration": 21,
    "start_time": "2022-12-26T18:49:43.572Z"
   },
   {
    "duration": 13,
    "start_time": "2022-12-26T18:49:43.595Z"
   },
   {
    "duration": 9,
    "start_time": "2022-12-26T18:49:43.610Z"
   },
   {
    "duration": 34,
    "start_time": "2022-12-26T18:49:43.620Z"
   },
   {
    "duration": 4,
    "start_time": "2022-12-26T18:49:43.655Z"
   },
   {
    "duration": 13,
    "start_time": "2022-12-26T18:49:43.660Z"
   },
   {
    "duration": 7,
    "start_time": "2022-12-26T18:49:43.674Z"
   },
   {
    "duration": 27,
    "start_time": "2022-12-26T18:49:43.683Z"
   },
   {
    "duration": 7,
    "start_time": "2022-12-26T18:49:43.712Z"
   },
   {
    "duration": 32,
    "start_time": "2022-12-26T18:49:43.720Z"
   },
   {
    "duration": 9,
    "start_time": "2022-12-26T18:49:43.753Z"
   },
   {
    "duration": 4,
    "start_time": "2022-12-26T18:49:43.763Z"
   },
   {
    "duration": 26,
    "start_time": "2022-12-26T18:49:43.770Z"
   },
   {
    "duration": 24,
    "start_time": "2022-12-26T18:49:43.804Z"
   },
   {
    "duration": 16,
    "start_time": "2022-12-26T18:49:43.830Z"
   },
   {
    "duration": 3,
    "start_time": "2022-12-26T18:49:43.847Z"
   },
   {
    "duration": 13,
    "start_time": "2022-12-26T18:49:43.852Z"
   },
   {
    "duration": 5,
    "start_time": "2022-12-26T18:49:43.867Z"
   },
   {
    "duration": 4,
    "start_time": "2022-12-26T18:49:43.873Z"
   },
   {
    "duration": 35,
    "start_time": "2022-12-26T18:49:43.878Z"
   },
   {
    "duration": 27,
    "start_time": "2022-12-26T18:49:43.915Z"
   },
   {
    "duration": 24,
    "start_time": "2022-12-26T18:49:43.943Z"
   },
   {
    "duration": 45,
    "start_time": "2022-12-26T18:49:43.968Z"
   },
   {
    "duration": 25,
    "start_time": "2022-12-26T18:49:44.015Z"
   },
   {
    "duration": 487,
    "start_time": "2022-12-27T16:03:54.288Z"
   },
   {
    "duration": 29,
    "start_time": "2022-12-27T16:03:54.778Z"
   },
   {
    "duration": 25,
    "start_time": "2022-12-27T16:03:54.809Z"
   },
   {
    "duration": 13,
    "start_time": "2022-12-27T16:03:54.836Z"
   },
   {
    "duration": 72,
    "start_time": "2022-12-27T16:03:54.851Z"
   },
   {
    "duration": 4,
    "start_time": "2022-12-27T16:03:54.926Z"
   },
   {
    "duration": 12,
    "start_time": "2022-12-27T16:03:54.932Z"
   },
   {
    "duration": 18,
    "start_time": "2022-12-27T16:03:54.945Z"
   },
   {
    "duration": 18,
    "start_time": "2022-12-27T16:03:54.965Z"
   },
   {
    "duration": 10,
    "start_time": "2022-12-27T16:03:54.986Z"
   },
   {
    "duration": 40,
    "start_time": "2022-12-27T16:03:54.997Z"
   },
   {
    "duration": 9,
    "start_time": "2022-12-27T16:03:55.039Z"
   },
   {
    "duration": 20,
    "start_time": "2022-12-27T16:03:55.050Z"
   },
   {
    "duration": 23,
    "start_time": "2022-12-27T16:03:55.071Z"
   },
   {
    "duration": 25,
    "start_time": "2022-12-27T16:03:55.096Z"
   },
   {
    "duration": 57,
    "start_time": "2022-12-27T16:03:55.122Z"
   },
   {
    "duration": 4,
    "start_time": "2022-12-27T16:03:55.180Z"
   },
   {
    "duration": 35,
    "start_time": "2022-12-27T16:03:55.185Z"
   },
   {
    "duration": 12,
    "start_time": "2022-12-27T16:03:55.222Z"
   },
   {
    "duration": 17,
    "start_time": "2022-12-27T16:03:55.236Z"
   },
   {
    "duration": 27,
    "start_time": "2022-12-27T16:03:55.254Z"
   },
   {
    "duration": 37,
    "start_time": "2022-12-27T16:03:55.283Z"
   },
   {
    "duration": 29,
    "start_time": "2022-12-27T16:03:55.322Z"
   },
   {
    "duration": 53,
    "start_time": "2022-12-27T16:03:55.352Z"
   },
   {
    "duration": 24,
    "start_time": "2022-12-27T16:03:55.407Z"
   },
   {
    "duration": 63,
    "start_time": "2023-01-16T08:50:26.260Z"
   },
   {
    "duration": 683,
    "start_time": "2024-02-15T15:39:04.761Z"
   },
   {
    "duration": 73,
    "start_time": "2024-02-15T15:40:27.969Z"
   },
   {
    "duration": 24,
    "start_time": "2024-02-15T15:40:30.264Z"
   },
   {
    "duration": 19,
    "start_time": "2024-02-15T15:40:34.771Z"
   },
   {
    "duration": 11,
    "start_time": "2024-02-15T15:40:53.075Z"
   },
   {
    "duration": 38,
    "start_time": "2024-02-15T15:40:54.137Z"
   },
   {
    "duration": 4,
    "start_time": "2024-02-15T15:40:56.275Z"
   },
   {
    "duration": 9,
    "start_time": "2024-02-15T15:40:57.634Z"
   },
   {
    "duration": 5,
    "start_time": "2024-02-15T15:41:00.491Z"
   },
   {
    "duration": 7,
    "start_time": "2024-02-15T15:41:01.188Z"
   },
   {
    "duration": 4,
    "start_time": "2024-02-15T15:41:01.844Z"
   },
   {
    "duration": 33,
    "start_time": "2024-02-15T15:41:03.954Z"
   },
   {
    "duration": 11,
    "start_time": "2024-02-15T15:41:04.950Z"
   },
   {
    "duration": 4,
    "start_time": "2024-02-15T15:41:06.544Z"
   },
   {
    "duration": 12,
    "start_time": "2024-02-15T15:41:07.979Z"
   },
   {
    "duration": 20,
    "start_time": "2024-02-15T15:41:08.859Z"
   },
   {
    "duration": 17,
    "start_time": "2024-02-15T15:41:09.370Z"
   },
   {
    "duration": 4,
    "start_time": "2024-02-15T15:41:11.476Z"
   },
   {
    "duration": 11,
    "start_time": "2024-02-15T15:41:11.944Z"
   },
   {
    "duration": 5,
    "start_time": "2024-02-15T15:41:12.736Z"
   },
   {
    "duration": 3,
    "start_time": "2024-02-15T15:41:13.826Z"
   },
   {
    "duration": 9,
    "start_time": "2024-02-15T15:41:14.670Z"
   },
   {
    "duration": 28,
    "start_time": "2024-02-15T15:41:19.735Z"
   },
   {
    "duration": 25,
    "start_time": "2024-02-15T15:41:43.747Z"
   },
   {
    "duration": 25,
    "start_time": "2024-02-15T15:41:52.749Z"
   },
   {
    "duration": 25,
    "start_time": "2024-02-15T15:42:01.379Z"
   }
  ],
  "colab": {
   "name": "dpp_template_part2.ipynb",
   "provenance": []
  },
  "kernelspec": {
   "display_name": "Python 3 (ipykernel)",
   "language": "python",
   "name": "python3"
  },
  "language_info": {
   "codemirror_mode": {
    "name": "ipython",
    "version": 3
   },
   "file_extension": ".py",
   "mimetype": "text/x-python",
   "name": "python",
   "nbconvert_exporter": "python",
   "pygments_lexer": "ipython3",
   "version": "3.9.5"
  },
  "toc": {
   "base_numbering": 1,
   "nav_menu": {},
   "number_sections": true,
   "sideBar": true,
   "skip_h1_title": true,
   "title_cell": "Table of Contents",
   "title_sidebar": "Contents",
   "toc_cell": false,
   "toc_position": {},
   "toc_section_display": true,
   "toc_window_display": false
  }
 },
 "nbformat": 4,
 "nbformat_minor": 5
}
