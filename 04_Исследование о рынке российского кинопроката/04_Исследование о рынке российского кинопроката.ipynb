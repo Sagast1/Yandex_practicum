{
 "cells": [
  {
   "cell_type": "markdown",
   "metadata": {
    "id": "sIfNaMOxgFyK"
   },
   "source": [
    "## Исследование данных о российском кинопрокате\n",
    "\n"
   ]
  },
  {
   "cell_type": "markdown",
   "metadata": {},
   "source": [
    "Заказчик этого исследования — Министерство культуры Российской Федерации. Нам нужно изучить рынок российского кинопроката и выявить текущие тренды. Уделите внимание фильмам, которые получили государственную поддержку. Попробовать ответить на вопрос, насколько такие фильмы интересны зрителю. Мы будем работать с данными, опубликованными на портале открытых данных Министерства культуры. Набор данных содержит информацию о прокатных удостоверениях, сборах и государственной поддержке фильмов, а также информацию с сайта КиноПоиск."
   ]
  },
  {
   "cell_type": "markdown",
   "metadata": {
    "id": "3bSlkCsbgFyL"
   },
   "source": [
    "### Шаг 1. Откройте файлы с данными и объедините их в один датафрейм. \n",
    "\n",
    "Объедините данные таким образом, чтобы все объекты из датасета `mkrf_movies` обязательно вошли в получившийся датафрейм. \n",
    "\n",
    "<div id=\"accordion\">\n",
    "    <div class=\"card\">\n",
    "        <div class=\"card-header\" id=\"headingThree\">\n",
    "            <button class=\"btn btn-link collapsed\" data-toggle=\"collapse\" data-target=\"#collapseHint_0\" aria-expanded=\"false\" aria-controls=\"collapseHint_0\">Подсказка</button>\n",
    "        </div>\n",
    "        <div id=\"collapseHint_0\" class=\"collapse\" aria-labelledby=\"headingThree\" data-parent=\"#accordion\">\n",
    "            <div class=\"card-body\">\n",
    "Обратите внимание на тип данных столбца, по которому будете соединять датафреймы. Тип данных этих столбцов должен быть одинаковым в обоих датафреймах.\n",
    "            </div>\n",
    "        </div>\n",
    "    </div>\n",
    "</div>"
   ]
  },
  {
   "cell_type": "code",
   "execution_count": 1,
   "metadata": {
    "id": "dw87FlzMgFyM"
   },
   "outputs": [],
   "source": [
    "import pandas as pd\n",
    "import warnings\n",
    "df_1 = pd.read_csv('/datasets/mkrf_movies.csv')\n",
    "df_2 = pd.read_csv('/datasets/mkrf_shows.csv')"
   ]
  },
  {
   "cell_type": "code",
   "execution_count": 2,
   "metadata": {},
   "outputs": [
    {
     "name": "stdout",
     "output_type": "stream",
     "text": [
      "<class 'pandas.core.frame.DataFrame'>\n",
      "RangeIndex: 7486 entries, 0 to 7485\n",
      "Data columns (total 15 columns):\n",
      " #   Column                 Non-Null Count  Dtype  \n",
      "---  ------                 --------------  -----  \n",
      " 0   title                  7486 non-null   object \n",
      " 1   puNumber               7486 non-null   object \n",
      " 2   show_start_date        7486 non-null   object \n",
      " 3   type                   7486 non-null   object \n",
      " 4   film_studio            7468 non-null   object \n",
      " 5   production_country     7484 non-null   object \n",
      " 6   director               7477 non-null   object \n",
      " 7   producer               6918 non-null   object \n",
      " 8   age_restriction        7486 non-null   object \n",
      " 9   refundable_support     332 non-null    float64\n",
      " 10  nonrefundable_support  332 non-null    float64\n",
      " 11  budget                 332 non-null    float64\n",
      " 12  financing_source       332 non-null    object \n",
      " 13  ratings                6519 non-null   object \n",
      " 14  genres                 6510 non-null   object \n",
      "dtypes: float64(3), object(12)\n",
      "memory usage: 877.4+ KB\n"
     ]
    }
   ],
   "source": [
    "df_1.info() # посмотрим общую информацию о датафреймах"
   ]
  },
  {
   "cell_type": "code",
   "execution_count": 3,
   "metadata": {},
   "outputs": [
    {
     "data": {
      "text/html": [
       "<div>\n",
       "<style scoped>\n",
       "    .dataframe tbody tr th:only-of-type {\n",
       "        vertical-align: middle;\n",
       "    }\n",
       "\n",
       "    .dataframe tbody tr th {\n",
       "        vertical-align: top;\n",
       "    }\n",
       "\n",
       "    .dataframe thead th {\n",
       "        text-align: right;\n",
       "    }\n",
       "</style>\n",
       "<table border=\"1\" class=\"dataframe\">\n",
       "  <thead>\n",
       "    <tr style=\"text-align: right;\">\n",
       "      <th></th>\n",
       "      <th>title</th>\n",
       "      <th>puNumber</th>\n",
       "      <th>show_start_date</th>\n",
       "      <th>type</th>\n",
       "      <th>film_studio</th>\n",
       "      <th>production_country</th>\n",
       "      <th>director</th>\n",
       "      <th>producer</th>\n",
       "      <th>age_restriction</th>\n",
       "      <th>refundable_support</th>\n",
       "      <th>nonrefundable_support</th>\n",
       "      <th>budget</th>\n",
       "      <th>financing_source</th>\n",
       "      <th>ratings</th>\n",
       "      <th>genres</th>\n",
       "    </tr>\n",
       "  </thead>\n",
       "  <tbody>\n",
       "    <tr>\n",
       "      <th>0</th>\n",
       "      <td>Открытый простор</td>\n",
       "      <td>221048915</td>\n",
       "      <td>2015-11-27T12:00:00.000Z</td>\n",
       "      <td>Художественный</td>\n",
       "      <td>Тачстоун Пикчерз, Кобальт Пикчерз, Бикон Пикче...</td>\n",
       "      <td>США</td>\n",
       "      <td>Кевин Костнер</td>\n",
       "      <td>Дэвид Валдес, Кевин Костнер, Джейк Эбертс</td>\n",
       "      <td>«18+» - запрещено для детей</td>\n",
       "      <td>NaN</td>\n",
       "      <td>NaN</td>\n",
       "      <td>NaN</td>\n",
       "      <td>NaN</td>\n",
       "      <td>7.2</td>\n",
       "      <td>боевик,драма,мелодрама</td>\n",
       "    </tr>\n",
       "    <tr>\n",
       "      <th>1</th>\n",
       "      <td>Особо важное задание</td>\n",
       "      <td>111013716</td>\n",
       "      <td>2016-09-13T12:00:00.000Z</td>\n",
       "      <td>Художественный</td>\n",
       "      <td>Киностудия \"Мосфильм\"</td>\n",
       "      <td>СССР</td>\n",
       "      <td>Е.Матвеев</td>\n",
       "      <td>NaN</td>\n",
       "      <td>«6+» - для детей старше 6 лет</td>\n",
       "      <td>NaN</td>\n",
       "      <td>NaN</td>\n",
       "      <td>NaN</td>\n",
       "      <td>NaN</td>\n",
       "      <td>6.6</td>\n",
       "      <td>драма,военный</td>\n",
       "    </tr>\n",
       "    <tr>\n",
       "      <th>2</th>\n",
       "      <td>Особо опасен</td>\n",
       "      <td>221038416</td>\n",
       "      <td>2016-10-10T12:00:00.000Z</td>\n",
       "      <td>Художественный</td>\n",
       "      <td>Юниверсал Пикчерз, Кикстарт Продакшнз, Марк Пл...</td>\n",
       "      <td>США</td>\n",
       "      <td>Тимур Бекмамбетов</td>\n",
       "      <td>Джим Лемли, Джейсон Нетер, Марк Е.Платт, Яйн Смит</td>\n",
       "      <td>«18+» - запрещено для детей</td>\n",
       "      <td>NaN</td>\n",
       "      <td>NaN</td>\n",
       "      <td>NaN</td>\n",
       "      <td>NaN</td>\n",
       "      <td>6.8</td>\n",
       "      <td>фантастика,боевик,триллер</td>\n",
       "    </tr>\n",
       "    <tr>\n",
       "      <th>3</th>\n",
       "      <td>Особо опасен</td>\n",
       "      <td>221026916</td>\n",
       "      <td>2016-06-10T12:00:00.000Z</td>\n",
       "      <td>Художественный</td>\n",
       "      <td>Юниверсал Пикчерз, Кикстарт Продакшнз, Марк Пл...</td>\n",
       "      <td>США</td>\n",
       "      <td>Тимур Бекмамбетов</td>\n",
       "      <td>Джим Лемли, Джейсон Нетер, Марк Е.Платт, Яйн Смит</td>\n",
       "      <td>«18+» - запрещено для детей</td>\n",
       "      <td>NaN</td>\n",
       "      <td>NaN</td>\n",
       "      <td>NaN</td>\n",
       "      <td>NaN</td>\n",
       "      <td>6.8</td>\n",
       "      <td>фантастика,боевик,триллер</td>\n",
       "    </tr>\n",
       "    <tr>\n",
       "      <th>4</th>\n",
       "      <td>Особо опасен</td>\n",
       "      <td>221030815</td>\n",
       "      <td>2015-07-29T12:00:00.000Z</td>\n",
       "      <td>Художественный</td>\n",
       "      <td>Юниверсал Пикчерз, Кикстарт Продакшнз, Марк Пл...</td>\n",
       "      <td>США</td>\n",
       "      <td>Тимур Бекмамбетов</td>\n",
       "      <td>Джим Лемли, Джейсон Нетер, Марк Е.Платт, Яйн Смит</td>\n",
       "      <td>«18+» - запрещено для детей</td>\n",
       "      <td>NaN</td>\n",
       "      <td>NaN</td>\n",
       "      <td>NaN</td>\n",
       "      <td>NaN</td>\n",
       "      <td>6.8</td>\n",
       "      <td>фантастика,боевик,триллер</td>\n",
       "    </tr>\n",
       "    <tr>\n",
       "      <th>5</th>\n",
       "      <td>Остановился поезд</td>\n",
       "      <td>111013816</td>\n",
       "      <td>2016-09-13T12:00:00.000Z</td>\n",
       "      <td>Художественный</td>\n",
       "      <td>Киностудия \"Мосфильм\"</td>\n",
       "      <td>СССР</td>\n",
       "      <td>В.Абдрашитов</td>\n",
       "      <td>NaN</td>\n",
       "      <td>«6+» - для детей старше 6 лет</td>\n",
       "      <td>NaN</td>\n",
       "      <td>NaN</td>\n",
       "      <td>NaN</td>\n",
       "      <td>NaN</td>\n",
       "      <td>7.7</td>\n",
       "      <td>драма</td>\n",
       "    </tr>\n",
       "    <tr>\n",
       "      <th>6</th>\n",
       "      <td>Любовь и голуби</td>\n",
       "      <td>111007013</td>\n",
       "      <td>2013-10-18T12:00:00.000Z</td>\n",
       "      <td>Художественный</td>\n",
       "      <td>Киностудия \"Мосфильм\"</td>\n",
       "      <td>СССР</td>\n",
       "      <td>В.Меньшов</td>\n",
       "      <td>NaN</td>\n",
       "      <td>«12+» - для детей старше 12 лет</td>\n",
       "      <td>NaN</td>\n",
       "      <td>NaN</td>\n",
       "      <td>NaN</td>\n",
       "      <td>NaN</td>\n",
       "      <td>8.3</td>\n",
       "      <td>мелодрама,комедия</td>\n",
       "    </tr>\n",
       "    <tr>\n",
       "      <th>7</th>\n",
       "      <td>Любовь и сигареты</td>\n",
       "      <td>221074614</td>\n",
       "      <td>2014-12-29T12:00:00.000Z</td>\n",
       "      <td>Художественный</td>\n",
       "      <td>Юнайтед Артистс, Грин Стрит Филмз, Айкон Интер...</td>\n",
       "      <td>США</td>\n",
       "      <td>Джон Туртурро</td>\n",
       "      <td>Джон Пенотти, Джон Туртурро</td>\n",
       "      <td>«18+» - запрещено для детей</td>\n",
       "      <td>NaN</td>\n",
       "      <td>NaN</td>\n",
       "      <td>NaN</td>\n",
       "      <td>NaN</td>\n",
       "      <td>6.6</td>\n",
       "      <td>мюзикл,мелодрама,комедия</td>\n",
       "    </tr>\n",
       "    <tr>\n",
       "      <th>8</th>\n",
       "      <td>Отпетые мошенники.</td>\n",
       "      <td>121011416</td>\n",
       "      <td>2016-05-05T12:00:00.000Z</td>\n",
       "      <td>Художественный</td>\n",
       "      <td>Пульсар Продюксьон, ТФ1 Фильм</td>\n",
       "      <td>Франция</td>\n",
       "      <td>Эрик Беснард</td>\n",
       "      <td>Патрис Леду</td>\n",
       "      <td>«18+» - запрещено для детей</td>\n",
       "      <td>NaN</td>\n",
       "      <td>NaN</td>\n",
       "      <td>NaN</td>\n",
       "      <td>NaN</td>\n",
       "      <td>8.0</td>\n",
       "      <td>комедия,криминал</td>\n",
       "    </tr>\n",
       "    <tr>\n",
       "      <th>9</th>\n",
       "      <td>Отпуск за свой счет</td>\n",
       "      <td>111019114</td>\n",
       "      <td>2014-12-01T12:00:00.000Z</td>\n",
       "      <td>Художественный</td>\n",
       "      <td>Киностудия \"Мосфильм\", Телевидение ВНР</td>\n",
       "      <td>СССР, Венгрия</td>\n",
       "      <td>В.Титов</td>\n",
       "      <td>NaN</td>\n",
       "      <td>«12+» - для детей старше 12 лет</td>\n",
       "      <td>NaN</td>\n",
       "      <td>NaN</td>\n",
       "      <td>NaN</td>\n",
       "      <td>NaN</td>\n",
       "      <td>7.8</td>\n",
       "      <td>мелодрама,комедия</td>\n",
       "    </tr>\n",
       "  </tbody>\n",
       "</table>\n",
       "</div>"
      ],
      "text/plain": [
       "                  title   puNumber           show_start_date            type  \\\n",
       "0      Открытый простор  221048915  2015-11-27T12:00:00.000Z  Художественный   \n",
       "1  Особо важное задание  111013716  2016-09-13T12:00:00.000Z  Художественный   \n",
       "2          Особо опасен  221038416  2016-10-10T12:00:00.000Z  Художественный   \n",
       "3          Особо опасен  221026916  2016-06-10T12:00:00.000Z  Художественный   \n",
       "4          Особо опасен  221030815  2015-07-29T12:00:00.000Z  Художественный   \n",
       "5     Остановился поезд  111013816  2016-09-13T12:00:00.000Z  Художественный   \n",
       "6       Любовь и голуби  111007013  2013-10-18T12:00:00.000Z  Художественный   \n",
       "7     Любовь и сигареты  221074614  2014-12-29T12:00:00.000Z  Художественный   \n",
       "8    Отпетые мошенники.  121011416  2016-05-05T12:00:00.000Z  Художественный   \n",
       "9   Отпуск за свой счет  111019114  2014-12-01T12:00:00.000Z  Художественный   \n",
       "\n",
       "                                         film_studio production_country  \\\n",
       "0  Тачстоун Пикчерз, Кобальт Пикчерз, Бикон Пикче...                США   \n",
       "1                              Киностудия \"Мосфильм\"               СССР   \n",
       "2  Юниверсал Пикчерз, Кикстарт Продакшнз, Марк Пл...                США   \n",
       "3  Юниверсал Пикчерз, Кикстарт Продакшнз, Марк Пл...                США   \n",
       "4  Юниверсал Пикчерз, Кикстарт Продакшнз, Марк Пл...                США   \n",
       "5                              Киностудия \"Мосфильм\"               СССР   \n",
       "6                              Киностудия \"Мосфильм\"               СССР   \n",
       "7  Юнайтед Артистс, Грин Стрит Филмз, Айкон Интер...                США   \n",
       "8                     Пульсар Продюксьон, ТФ1 Фильм             Франция   \n",
       "9             Киностудия \"Мосфильм\", Телевидение ВНР      СССР, Венгрия   \n",
       "\n",
       "            director                                           producer  \\\n",
       "0      Кевин Костнер          Дэвид Валдес, Кевин Костнер, Джейк Эбертс   \n",
       "1          Е.Матвеев                                                NaN   \n",
       "2  Тимур Бекмамбетов  Джим Лемли, Джейсон Нетер, Марк Е.Платт, Яйн Смит   \n",
       "3  Тимур Бекмамбетов  Джим Лемли, Джейсон Нетер, Марк Е.Платт, Яйн Смит   \n",
       "4  Тимур Бекмамбетов  Джим Лемли, Джейсон Нетер, Марк Е.Платт, Яйн Смит   \n",
       "5       В.Абдрашитов                                                NaN   \n",
       "6          В.Меньшов                                                NaN   \n",
       "7      Джон Туртурро                        Джон Пенотти, Джон Туртурро   \n",
       "8       Эрик Беснард                                        Патрис Леду   \n",
       "9            В.Титов                                                NaN   \n",
       "\n",
       "                   age_restriction  refundable_support  nonrefundable_support  \\\n",
       "0      «18+» - запрещено для детей                 NaN                    NaN   \n",
       "1    «6+» - для детей старше 6 лет                 NaN                    NaN   \n",
       "2      «18+» - запрещено для детей                 NaN                    NaN   \n",
       "3      «18+» - запрещено для детей                 NaN                    NaN   \n",
       "4      «18+» - запрещено для детей                 NaN                    NaN   \n",
       "5    «6+» - для детей старше 6 лет                 NaN                    NaN   \n",
       "6  «12+» - для детей старше 12 лет                 NaN                    NaN   \n",
       "7      «18+» - запрещено для детей                 NaN                    NaN   \n",
       "8      «18+» - запрещено для детей                 NaN                    NaN   \n",
       "9  «12+» - для детей старше 12 лет                 NaN                    NaN   \n",
       "\n",
       "   budget financing_source ratings                     genres  \n",
       "0     NaN              NaN     7.2     боевик,драма,мелодрама  \n",
       "1     NaN              NaN     6.6              драма,военный  \n",
       "2     NaN              NaN     6.8  фантастика,боевик,триллер  \n",
       "3     NaN              NaN     6.8  фантастика,боевик,триллер  \n",
       "4     NaN              NaN     6.8  фантастика,боевик,триллер  \n",
       "5     NaN              NaN     7.7                      драма  \n",
       "6     NaN              NaN     8.3          мелодрама,комедия  \n",
       "7     NaN              NaN     6.6   мюзикл,мелодрама,комедия  \n",
       "8     NaN              NaN     8.0           комедия,криминал  \n",
       "9     NaN              NaN     7.8          мелодрама,комедия  "
      ]
     },
     "execution_count": 3,
     "metadata": {},
     "output_type": "execute_result"
    }
   ],
   "source": [
    "df_1.head(10)"
   ]
  },
  {
   "cell_type": "code",
   "execution_count": 4,
   "metadata": {},
   "outputs": [
    {
     "name": "stdout",
     "output_type": "stream",
     "text": [
      "<class 'pandas.core.frame.DataFrame'>\n",
      "RangeIndex: 3158 entries, 0 to 3157\n",
      "Data columns (total 2 columns):\n",
      " #   Column      Non-Null Count  Dtype  \n",
      "---  ------      --------------  -----  \n",
      " 0   puNumber    3158 non-null   int64  \n",
      " 1   box_office  3158 non-null   float64\n",
      "dtypes: float64(1), int64(1)\n",
      "memory usage: 49.5 KB\n"
     ]
    }
   ],
   "source": [
    "df_2.info() # у столбцов, которые нужно объединить разный тип данных"
   ]
  },
  {
   "cell_type": "code",
   "execution_count": 5,
   "metadata": {},
   "outputs": [
    {
     "data": {
      "text/html": [
       "<div>\n",
       "<style scoped>\n",
       "    .dataframe tbody tr th:only-of-type {\n",
       "        vertical-align: middle;\n",
       "    }\n",
       "\n",
       "    .dataframe tbody tr th {\n",
       "        vertical-align: top;\n",
       "    }\n",
       "\n",
       "    .dataframe thead th {\n",
       "        text-align: right;\n",
       "    }\n",
       "</style>\n",
       "<table border=\"1\" class=\"dataframe\">\n",
       "  <thead>\n",
       "    <tr style=\"text-align: right;\">\n",
       "      <th></th>\n",
       "      <th>puNumber</th>\n",
       "      <th>box_office</th>\n",
       "    </tr>\n",
       "  </thead>\n",
       "  <tbody>\n",
       "    <tr>\n",
       "      <th>0</th>\n",
       "      <td>111000113</td>\n",
       "      <td>2.450000e+03</td>\n",
       "    </tr>\n",
       "    <tr>\n",
       "      <th>1</th>\n",
       "      <td>111000115</td>\n",
       "      <td>6.104000e+04</td>\n",
       "    </tr>\n",
       "    <tr>\n",
       "      <th>2</th>\n",
       "      <td>111000116</td>\n",
       "      <td>1.530300e+08</td>\n",
       "    </tr>\n",
       "    <tr>\n",
       "      <th>3</th>\n",
       "      <td>111000117</td>\n",
       "      <td>1.226096e+07</td>\n",
       "    </tr>\n",
       "    <tr>\n",
       "      <th>4</th>\n",
       "      <td>111000118</td>\n",
       "      <td>1.636841e+08</td>\n",
       "    </tr>\n",
       "    <tr>\n",
       "      <th>5</th>\n",
       "      <td>111000119</td>\n",
       "      <td>4.293650e+06</td>\n",
       "    </tr>\n",
       "    <tr>\n",
       "      <th>6</th>\n",
       "      <td>111000212</td>\n",
       "      <td>2.000000e+02</td>\n",
       "    </tr>\n",
       "    <tr>\n",
       "      <th>7</th>\n",
       "      <td>111000216</td>\n",
       "      <td>3.555670e+05</td>\n",
       "    </tr>\n",
       "    <tr>\n",
       "      <th>8</th>\n",
       "      <td>111000313</td>\n",
       "      <td>7.100000e+02</td>\n",
       "    </tr>\n",
       "    <tr>\n",
       "      <th>9</th>\n",
       "      <td>111000314</td>\n",
       "      <td>1.607970e+06</td>\n",
       "    </tr>\n",
       "  </tbody>\n",
       "</table>\n",
       "</div>"
      ],
      "text/plain": [
       "    puNumber    box_office\n",
       "0  111000113  2.450000e+03\n",
       "1  111000115  6.104000e+04\n",
       "2  111000116  1.530300e+08\n",
       "3  111000117  1.226096e+07\n",
       "4  111000118  1.636841e+08\n",
       "5  111000119  4.293650e+06\n",
       "6  111000212  2.000000e+02\n",
       "7  111000216  3.555670e+05\n",
       "8  111000313  7.100000e+02\n",
       "9  111000314  1.607970e+06"
      ]
     },
     "execution_count": 5,
     "metadata": {},
     "output_type": "execute_result"
    }
   ],
   "source": [
    "df_2.head(10)"
   ]
  },
  {
   "cell_type": "code",
   "execution_count": 6,
   "metadata": {},
   "outputs": [
    {
     "data": {
      "text/plain": [
       "title                       0\n",
       "puNumber                    0\n",
       "show_start_date             0\n",
       "type                        0\n",
       "film_studio                18\n",
       "production_country          2\n",
       "director                    9\n",
       "producer                  568\n",
       "age_restriction             0\n",
       "refundable_support       7154\n",
       "nonrefundable_support    7154\n",
       "budget                   7154\n",
       "financing_source         7154\n",
       "ratings                   967\n",
       "genres                    976\n",
       "dtype: int64"
      ]
     },
     "execution_count": 6,
     "metadata": {},
     "output_type": "execute_result"
    }
   ],
   "source": [
    "df_1.isna().sum()"
   ]
  },
  {
   "cell_type": "code",
   "execution_count": 7,
   "metadata": {},
   "outputs": [],
   "source": [
    "df_1['puNumber'] = pd.to_numeric(df_1['puNumber'], errors='coerce') # при попытке изменения типа данных в ошибке появляется значения типа str."
   ]
  },
  {
   "cell_type": "code",
   "execution_count": 8,
   "metadata": {},
   "outputs": [
    {
     "data": {
      "text/plain": [
       "title                       0\n",
       "puNumber                    1\n",
       "show_start_date             0\n",
       "type                        0\n",
       "film_studio                18\n",
       "production_country          2\n",
       "director                    9\n",
       "producer                  568\n",
       "age_restriction             0\n",
       "refundable_support       7154\n",
       "nonrefundable_support    7154\n",
       "budget                   7154\n",
       "financing_source         7154\n",
       "ratings                   967\n",
       "genres                    976\n",
       "dtype: int64"
      ]
     },
     "execution_count": 8,
     "metadata": {},
     "output_type": "execute_result"
    }
   ],
   "source": [
    "df_1.isna().sum() # появился один пропуск, следовательно только одно значение типа str"
   ]
  },
  {
   "cell_type": "code",
   "execution_count": 9,
   "metadata": {},
   "outputs": [],
   "source": [
    "df_1['puNumber'] = df_1['puNumber'].fillna(0) # чтобы не терять часть данных заменим его на 0, если будет необходимо в дальнейшем можно его удалить."
   ]
  },
  {
   "cell_type": "code",
   "execution_count": 10,
   "metadata": {},
   "outputs": [],
   "source": [
    "df_1['puNumber'] = df_1['puNumber'].astype('int') # переводим в целочисленный"
   ]
  },
  {
   "cell_type": "code",
   "execution_count": 11,
   "metadata": {},
   "outputs": [],
   "source": [
    "df = df_1.merge(df_2, on='puNumber', how='left') # объединяем таблицы так, чтобы попали все данные из стобца mkrf_movies"
   ]
  },
  {
   "cell_type": "code",
   "execution_count": 12,
   "metadata": {},
   "outputs": [
    {
     "name": "stdout",
     "output_type": "stream",
     "text": [
      "<class 'pandas.core.frame.DataFrame'>\n",
      "Int64Index: 7486 entries, 0 to 7485\n",
      "Data columns (total 16 columns):\n",
      " #   Column                 Non-Null Count  Dtype  \n",
      "---  ------                 --------------  -----  \n",
      " 0   title                  7486 non-null   object \n",
      " 1   puNumber               7486 non-null   int64  \n",
      " 2   show_start_date        7486 non-null   object \n",
      " 3   type                   7486 non-null   object \n",
      " 4   film_studio            7468 non-null   object \n",
      " 5   production_country     7484 non-null   object \n",
      " 6   director               7477 non-null   object \n",
      " 7   producer               6918 non-null   object \n",
      " 8   age_restriction        7486 non-null   object \n",
      " 9   refundable_support     332 non-null    float64\n",
      " 10  nonrefundable_support  332 non-null    float64\n",
      " 11  budget                 332 non-null    float64\n",
      " 12  financing_source       332 non-null    object \n",
      " 13  ratings                6519 non-null   object \n",
      " 14  genres                 6510 non-null   object \n",
      " 15  box_office             3158 non-null   float64\n",
      "dtypes: float64(4), int64(1), object(11)\n",
      "memory usage: 994.2+ KB\n"
     ]
    }
   ],
   "source": [
    "df.info()"
   ]
  },
  {
   "cell_type": "code",
   "execution_count": 13,
   "metadata": {},
   "outputs": [
    {
     "data": {
      "text/html": [
       "<div>\n",
       "<style scoped>\n",
       "    .dataframe tbody tr th:only-of-type {\n",
       "        vertical-align: middle;\n",
       "    }\n",
       "\n",
       "    .dataframe tbody tr th {\n",
       "        vertical-align: top;\n",
       "    }\n",
       "\n",
       "    .dataframe thead th {\n",
       "        text-align: right;\n",
       "    }\n",
       "</style>\n",
       "<table border=\"1\" class=\"dataframe\">\n",
       "  <thead>\n",
       "    <tr style=\"text-align: right;\">\n",
       "      <th></th>\n",
       "      <th>title</th>\n",
       "      <th>puNumber</th>\n",
       "      <th>show_start_date</th>\n",
       "      <th>type</th>\n",
       "      <th>film_studio</th>\n",
       "      <th>production_country</th>\n",
       "      <th>director</th>\n",
       "      <th>producer</th>\n",
       "      <th>age_restriction</th>\n",
       "      <th>refundable_support</th>\n",
       "      <th>nonrefundable_support</th>\n",
       "      <th>budget</th>\n",
       "      <th>financing_source</th>\n",
       "      <th>ratings</th>\n",
       "      <th>genres</th>\n",
       "      <th>box_office</th>\n",
       "    </tr>\n",
       "  </thead>\n",
       "  <tbody>\n",
       "    <tr>\n",
       "      <th>0</th>\n",
       "      <td>Открытый простор</td>\n",
       "      <td>221048915</td>\n",
       "      <td>2015-11-27T12:00:00.000Z</td>\n",
       "      <td>Художественный</td>\n",
       "      <td>Тачстоун Пикчерз, Кобальт Пикчерз, Бикон Пикче...</td>\n",
       "      <td>США</td>\n",
       "      <td>Кевин Костнер</td>\n",
       "      <td>Дэвид Валдес, Кевин Костнер, Джейк Эбертс</td>\n",
       "      <td>«18+» - запрещено для детей</td>\n",
       "      <td>NaN</td>\n",
       "      <td>NaN</td>\n",
       "      <td>NaN</td>\n",
       "      <td>NaN</td>\n",
       "      <td>7.2</td>\n",
       "      <td>боевик,драма,мелодрама</td>\n",
       "      <td>NaN</td>\n",
       "    </tr>\n",
       "    <tr>\n",
       "      <th>1</th>\n",
       "      <td>Особо важное задание</td>\n",
       "      <td>111013716</td>\n",
       "      <td>2016-09-13T12:00:00.000Z</td>\n",
       "      <td>Художественный</td>\n",
       "      <td>Киностудия \"Мосфильм\"</td>\n",
       "      <td>СССР</td>\n",
       "      <td>Е.Матвеев</td>\n",
       "      <td>NaN</td>\n",
       "      <td>«6+» - для детей старше 6 лет</td>\n",
       "      <td>NaN</td>\n",
       "      <td>NaN</td>\n",
       "      <td>NaN</td>\n",
       "      <td>NaN</td>\n",
       "      <td>6.6</td>\n",
       "      <td>драма,военный</td>\n",
       "      <td>NaN</td>\n",
       "    </tr>\n",
       "    <tr>\n",
       "      <th>2</th>\n",
       "      <td>Особо опасен</td>\n",
       "      <td>221038416</td>\n",
       "      <td>2016-10-10T12:00:00.000Z</td>\n",
       "      <td>Художественный</td>\n",
       "      <td>Юниверсал Пикчерз, Кикстарт Продакшнз, Марк Пл...</td>\n",
       "      <td>США</td>\n",
       "      <td>Тимур Бекмамбетов</td>\n",
       "      <td>Джим Лемли, Джейсон Нетер, Марк Е.Платт, Яйн Смит</td>\n",
       "      <td>«18+» - запрещено для детей</td>\n",
       "      <td>NaN</td>\n",
       "      <td>NaN</td>\n",
       "      <td>NaN</td>\n",
       "      <td>NaN</td>\n",
       "      <td>6.8</td>\n",
       "      <td>фантастика,боевик,триллер</td>\n",
       "      <td>NaN</td>\n",
       "    </tr>\n",
       "    <tr>\n",
       "      <th>3</th>\n",
       "      <td>Особо опасен</td>\n",
       "      <td>221026916</td>\n",
       "      <td>2016-06-10T12:00:00.000Z</td>\n",
       "      <td>Художественный</td>\n",
       "      <td>Юниверсал Пикчерз, Кикстарт Продакшнз, Марк Пл...</td>\n",
       "      <td>США</td>\n",
       "      <td>Тимур Бекмамбетов</td>\n",
       "      <td>Джим Лемли, Джейсон Нетер, Марк Е.Платт, Яйн Смит</td>\n",
       "      <td>«18+» - запрещено для детей</td>\n",
       "      <td>NaN</td>\n",
       "      <td>NaN</td>\n",
       "      <td>NaN</td>\n",
       "      <td>NaN</td>\n",
       "      <td>6.8</td>\n",
       "      <td>фантастика,боевик,триллер</td>\n",
       "      <td>NaN</td>\n",
       "    </tr>\n",
       "    <tr>\n",
       "      <th>4</th>\n",
       "      <td>Особо опасен</td>\n",
       "      <td>221030815</td>\n",
       "      <td>2015-07-29T12:00:00.000Z</td>\n",
       "      <td>Художественный</td>\n",
       "      <td>Юниверсал Пикчерз, Кикстарт Продакшнз, Марк Пл...</td>\n",
       "      <td>США</td>\n",
       "      <td>Тимур Бекмамбетов</td>\n",
       "      <td>Джим Лемли, Джейсон Нетер, Марк Е.Платт, Яйн Смит</td>\n",
       "      <td>«18+» - запрещено для детей</td>\n",
       "      <td>NaN</td>\n",
       "      <td>NaN</td>\n",
       "      <td>NaN</td>\n",
       "      <td>NaN</td>\n",
       "      <td>6.8</td>\n",
       "      <td>фантастика,боевик,триллер</td>\n",
       "      <td>NaN</td>\n",
       "    </tr>\n",
       "    <tr>\n",
       "      <th>5</th>\n",
       "      <td>Остановился поезд</td>\n",
       "      <td>111013816</td>\n",
       "      <td>2016-09-13T12:00:00.000Z</td>\n",
       "      <td>Художественный</td>\n",
       "      <td>Киностудия \"Мосфильм\"</td>\n",
       "      <td>СССР</td>\n",
       "      <td>В.Абдрашитов</td>\n",
       "      <td>NaN</td>\n",
       "      <td>«6+» - для детей старше 6 лет</td>\n",
       "      <td>NaN</td>\n",
       "      <td>NaN</td>\n",
       "      <td>NaN</td>\n",
       "      <td>NaN</td>\n",
       "      <td>7.7</td>\n",
       "      <td>драма</td>\n",
       "      <td>NaN</td>\n",
       "    </tr>\n",
       "    <tr>\n",
       "      <th>6</th>\n",
       "      <td>Любовь и голуби</td>\n",
       "      <td>111007013</td>\n",
       "      <td>2013-10-18T12:00:00.000Z</td>\n",
       "      <td>Художественный</td>\n",
       "      <td>Киностудия \"Мосфильм\"</td>\n",
       "      <td>СССР</td>\n",
       "      <td>В.Меньшов</td>\n",
       "      <td>NaN</td>\n",
       "      <td>«12+» - для детей старше 12 лет</td>\n",
       "      <td>NaN</td>\n",
       "      <td>NaN</td>\n",
       "      <td>NaN</td>\n",
       "      <td>NaN</td>\n",
       "      <td>8.3</td>\n",
       "      <td>мелодрама,комедия</td>\n",
       "      <td>2700.0</td>\n",
       "    </tr>\n",
       "    <tr>\n",
       "      <th>7</th>\n",
       "      <td>Любовь и сигареты</td>\n",
       "      <td>221074614</td>\n",
       "      <td>2014-12-29T12:00:00.000Z</td>\n",
       "      <td>Художественный</td>\n",
       "      <td>Юнайтед Артистс, Грин Стрит Филмз, Айкон Интер...</td>\n",
       "      <td>США</td>\n",
       "      <td>Джон Туртурро</td>\n",
       "      <td>Джон Пенотти, Джон Туртурро</td>\n",
       "      <td>«18+» - запрещено для детей</td>\n",
       "      <td>NaN</td>\n",
       "      <td>NaN</td>\n",
       "      <td>NaN</td>\n",
       "      <td>NaN</td>\n",
       "      <td>6.6</td>\n",
       "      <td>мюзикл,мелодрама,комедия</td>\n",
       "      <td>NaN</td>\n",
       "    </tr>\n",
       "    <tr>\n",
       "      <th>8</th>\n",
       "      <td>Отпетые мошенники.</td>\n",
       "      <td>121011416</td>\n",
       "      <td>2016-05-05T12:00:00.000Z</td>\n",
       "      <td>Художественный</td>\n",
       "      <td>Пульсар Продюксьон, ТФ1 Фильм</td>\n",
       "      <td>Франция</td>\n",
       "      <td>Эрик Беснард</td>\n",
       "      <td>Патрис Леду</td>\n",
       "      <td>«18+» - запрещено для детей</td>\n",
       "      <td>NaN</td>\n",
       "      <td>NaN</td>\n",
       "      <td>NaN</td>\n",
       "      <td>NaN</td>\n",
       "      <td>8.0</td>\n",
       "      <td>комедия,криминал</td>\n",
       "      <td>NaN</td>\n",
       "    </tr>\n",
       "    <tr>\n",
       "      <th>9</th>\n",
       "      <td>Отпуск за свой счет</td>\n",
       "      <td>111019114</td>\n",
       "      <td>2014-12-01T12:00:00.000Z</td>\n",
       "      <td>Художественный</td>\n",
       "      <td>Киностудия \"Мосфильм\", Телевидение ВНР</td>\n",
       "      <td>СССР, Венгрия</td>\n",
       "      <td>В.Титов</td>\n",
       "      <td>NaN</td>\n",
       "      <td>«12+» - для детей старше 12 лет</td>\n",
       "      <td>NaN</td>\n",
       "      <td>NaN</td>\n",
       "      <td>NaN</td>\n",
       "      <td>NaN</td>\n",
       "      <td>7.8</td>\n",
       "      <td>мелодрама,комедия</td>\n",
       "      <td>NaN</td>\n",
       "    </tr>\n",
       "    <tr>\n",
       "      <th>10</th>\n",
       "      <td>Превосходство Борна /По одноименной новелле Ро...</td>\n",
       "      <td>221031416</td>\n",
       "      <td>2016-06-29T12:00:00.000Z</td>\n",
       "      <td>Художественный</td>\n",
       "      <td>Кеннеди/Маршал Компани, Юниверсал Пикчерз, Гип...</td>\n",
       "      <td>США</td>\n",
       "      <td>Пол Грингросс</td>\n",
       "      <td>Патрик Кроули, Фрэнк Маршалл, Пол Сэндберг</td>\n",
       "      <td>«16+» - для детей старше 16 лет</td>\n",
       "      <td>NaN</td>\n",
       "      <td>NaN</td>\n",
       "      <td>NaN</td>\n",
       "      <td>NaN</td>\n",
       "      <td>7.7</td>\n",
       "      <td>боевик,триллер,детектив</td>\n",
       "      <td>NaN</td>\n",
       "    </tr>\n",
       "    <tr>\n",
       "      <th>11</th>\n",
       "      <td>Ответный ход</td>\n",
       "      <td>111019014</td>\n",
       "      <td>2014-12-01T12:00:00.000Z</td>\n",
       "      <td>Художественный</td>\n",
       "      <td>Киностудия \"Мосфильм\"</td>\n",
       "      <td>СССР</td>\n",
       "      <td>М.Туманишвили</td>\n",
       "      <td>NaN</td>\n",
       "      <td>«12+» - для детей старше 12 лет</td>\n",
       "      <td>NaN</td>\n",
       "      <td>NaN</td>\n",
       "      <td>NaN</td>\n",
       "      <td>NaN</td>\n",
       "      <td>7.8</td>\n",
       "      <td>боевик,драма,приключения</td>\n",
       "      <td>NaN</td>\n",
       "    </tr>\n",
       "    <tr>\n",
       "      <th>12</th>\n",
       "      <td>Малышка на миллион /По мотивам рассказов Ф.Х.Т...</td>\n",
       "      <td>221011415</td>\n",
       "      <td>2015-04-03T12:00:00.000Z</td>\n",
       "      <td>Художественный</td>\n",
       "      <td>Уорнер Бразерс, Лейкшор Интертейнмент, Малпасо...</td>\n",
       "      <td>США</td>\n",
       "      <td>Клинт Иствуд</td>\n",
       "      <td>Клинт Иствуд, Том Розенберг, Альберт С.Рудди, ...</td>\n",
       "      <td>«16+» - для детей старше 16 лет</td>\n",
       "      <td>NaN</td>\n",
       "      <td>NaN</td>\n",
       "      <td>NaN</td>\n",
       "      <td>NaN</td>\n",
       "      <td>8.1</td>\n",
       "      <td>драма,спорт</td>\n",
       "      <td>NaN</td>\n",
       "    </tr>\n",
       "    <tr>\n",
       "      <th>13</th>\n",
       "      <td>Преданный садовник</td>\n",
       "      <td>121003106</td>\n",
       "      <td>2013-08-26T12:00:00.000Z</td>\n",
       "      <td>Художественный</td>\n",
       "      <td>Потбойлер Продакшнз, Эпсилон Моушн Пикчерз, Ск...</td>\n",
       "      <td>Германия-Великобритания</td>\n",
       "      <td>Фернанду Мейрелльеш</td>\n",
       "      <td>Саймон Чэннинг Уильямс</td>\n",
       "      <td>«16+» - для детей старше 16 лет</td>\n",
       "      <td>NaN</td>\n",
       "      <td>NaN</td>\n",
       "      <td>NaN</td>\n",
       "      <td>NaN</td>\n",
       "      <td>7.1</td>\n",
       "      <td>триллер,драма,мелодрама</td>\n",
       "      <td>NaN</td>\n",
       "    </tr>\n",
       "    <tr>\n",
       "      <th>14</th>\n",
       "      <td>Отель /По мотивам пьесы Джона Уэбстера/</td>\n",
       "      <td>221008812</td>\n",
       "      <td>2012-01-27T12:00:00.000Z</td>\n",
       "      <td>Художественный</td>\n",
       "      <td>Кэтлей, Отель Продакшнс, Мунстоун Интертейнмен...</td>\n",
       "      <td>Великобритания - Италия</td>\n",
       "      <td>Майк Фиггис</td>\n",
       "      <td>Этчи Стро, Анни Стюарт, Майк Фиггис</td>\n",
       "      <td>«18+» - запрещено для детей</td>\n",
       "      <td>NaN</td>\n",
       "      <td>NaN</td>\n",
       "      <td>NaN</td>\n",
       "      <td>NaN</td>\n",
       "      <td>6.0</td>\n",
       "      <td>комедия,мелодрама</td>\n",
       "      <td>NaN</td>\n",
       "    </tr>\n",
       "    <tr>\n",
       "      <th>15</th>\n",
       "      <td>Председатель</td>\n",
       "      <td>111014916</td>\n",
       "      <td>2016-09-13T12:00:00.000Z</td>\n",
       "      <td>Художественный</td>\n",
       "      <td>Киностудия \"Мосфильм\"</td>\n",
       "      <td>СССР</td>\n",
       "      <td>А.Салтыков</td>\n",
       "      <td>NaN</td>\n",
       "      <td>«12+» - для детей старше 12 лет</td>\n",
       "      <td>NaN</td>\n",
       "      <td>NaN</td>\n",
       "      <td>NaN</td>\n",
       "      <td>NaN</td>\n",
       "      <td>8.3</td>\n",
       "      <td>драма</td>\n",
       "      <td>NaN</td>\n",
       "    </tr>\n",
       "    <tr>\n",
       "      <th>16</th>\n",
       "      <td>Осенний марафон</td>\n",
       "      <td>111007513</td>\n",
       "      <td>2013-10-18T12:00:00.000Z</td>\n",
       "      <td>Художественный</td>\n",
       "      <td>Киностудия \"Мосфильм\"</td>\n",
       "      <td>СССР</td>\n",
       "      <td>Г.Данелия</td>\n",
       "      <td>NaN</td>\n",
       "      <td>«12+» - для детей старше 12 лет</td>\n",
       "      <td>NaN</td>\n",
       "      <td>NaN</td>\n",
       "      <td>NaN</td>\n",
       "      <td>NaN</td>\n",
       "      <td>8.0</td>\n",
       "      <td>драма,мелодрама,комедия</td>\n",
       "      <td>NaN</td>\n",
       "    </tr>\n",
       "    <tr>\n",
       "      <th>17</th>\n",
       "      <td>Осень</td>\n",
       "      <td>111027914</td>\n",
       "      <td>2014-12-24T12:00:00.000Z</td>\n",
       "      <td>Художественный</td>\n",
       "      <td>Киностудия \"Мосфильм\"</td>\n",
       "      <td>СССР</td>\n",
       "      <td>А.Смирнов</td>\n",
       "      <td>NaN</td>\n",
       "      <td>«12+» - для детей старше 12 лет</td>\n",
       "      <td>NaN</td>\n",
       "      <td>NaN</td>\n",
       "      <td>NaN</td>\n",
       "      <td>NaN</td>\n",
       "      <td>7.4</td>\n",
       "      <td>драма,мелодрама</td>\n",
       "      <td>NaN</td>\n",
       "    </tr>\n",
       "    <tr>\n",
       "      <th>18</th>\n",
       "      <td>Неподдающиеся</td>\n",
       "      <td>111003616</td>\n",
       "      <td>2016-02-12T12:00:00.000Z</td>\n",
       "      <td>Художественный</td>\n",
       "      <td>Киностудия \"Мосфильм\"</td>\n",
       "      <td>СССР</td>\n",
       "      <td>Ю.Чулюкин</td>\n",
       "      <td>NaN</td>\n",
       "      <td>«6+» - для детей старше 6 лет</td>\n",
       "      <td>NaN</td>\n",
       "      <td>NaN</td>\n",
       "      <td>NaN</td>\n",
       "      <td>NaN</td>\n",
       "      <td>8.0</td>\n",
       "      <td>мелодрама,комедия</td>\n",
       "      <td>360.0</td>\n",
       "    </tr>\n",
       "    <tr>\n",
       "      <th>19</th>\n",
       "      <td>Неподсуден</td>\n",
       "      <td>111003716</td>\n",
       "      <td>2016-02-12T12:00:00.000Z</td>\n",
       "      <td>Художественный</td>\n",
       "      <td>Киностудия \"Мосфильм\"</td>\n",
       "      <td>СССР</td>\n",
       "      <td>В.Краснопольский, В.Усков</td>\n",
       "      <td>NaN</td>\n",
       "      <td>«6+» - для детей старше 6 лет</td>\n",
       "      <td>NaN</td>\n",
       "      <td>NaN</td>\n",
       "      <td>NaN</td>\n",
       "      <td>NaN</td>\n",
       "      <td>7.7</td>\n",
       "      <td>драма</td>\n",
       "      <td>420.0</td>\n",
       "    </tr>\n",
       "    <tr>\n",
       "      <th>20</th>\n",
       "      <td>Незабываемый 1919-й год</td>\n",
       "      <td>111003316</td>\n",
       "      <td>2016-02-12T12:00:00.000Z</td>\n",
       "      <td>Художественный</td>\n",
       "      <td>Киностудия \"Мосфильм\"</td>\n",
       "      <td>СССР</td>\n",
       "      <td>М.Чиаурели</td>\n",
       "      <td>NaN</td>\n",
       "      <td>«12+» - для детей старше 12 лет</td>\n",
       "      <td>NaN</td>\n",
       "      <td>NaN</td>\n",
       "      <td>NaN</td>\n",
       "      <td>NaN</td>\n",
       "      <td>5.8</td>\n",
       "      <td>драма,история</td>\n",
       "      <td>NaN</td>\n",
       "    </tr>\n",
       "    <tr>\n",
       "      <th>21</th>\n",
       "      <td>Незаконченная жизнь</td>\n",
       "      <td>121015405</td>\n",
       "      <td>2015-05-06T12:00:00.000Z</td>\n",
       "      <td>Художественный</td>\n",
       "      <td>Инишиэл Интертейнмент Групп, Мирамакс Филмз, П...</td>\n",
       "      <td>США</td>\n",
       "      <td>Лассе Халлстрем</td>\n",
       "      <td>Лесли Холлеран, Алан Лэдд мл., Келлиан Лэдд, Х...</td>\n",
       "      <td>«12+» - для детей старше 12 лет</td>\n",
       "      <td>NaN</td>\n",
       "      <td>NaN</td>\n",
       "      <td>NaN</td>\n",
       "      <td>NaN</td>\n",
       "      <td>7.2</td>\n",
       "      <td>драма,мелодрама,семейный</td>\n",
       "      <td>NaN</td>\n",
       "    </tr>\n",
       "    <tr>\n",
       "      <th>22</th>\n",
       "      <td>Операция \"Ы\" и другие приключения Шурика</td>\n",
       "      <td>111007413</td>\n",
       "      <td>2013-10-18T12:00:00.000Z</td>\n",
       "      <td>Художественный</td>\n",
       "      <td>Киностудия \"Мосфильм\"</td>\n",
       "      <td>СССР</td>\n",
       "      <td>Л.Гайдай</td>\n",
       "      <td>NaN</td>\n",
       "      <td>«6+» - для детей старше 6 лет</td>\n",
       "      <td>NaN</td>\n",
       "      <td>NaN</td>\n",
       "      <td>NaN</td>\n",
       "      <td>NaN</td>\n",
       "      <td>8.7</td>\n",
       "      <td>комедия,мелодрама,криминал</td>\n",
       "      <td>380.0</td>\n",
       "    </tr>\n",
       "    <tr>\n",
       "      <th>23</th>\n",
       "      <td>Неизвестные страницы из жизни разведчика</td>\n",
       "      <td>111003416</td>\n",
       "      <td>2016-02-12T12:00:00.000Z</td>\n",
       "      <td>Художественный</td>\n",
       "      <td>Киностудия \"Мосфильм\"</td>\n",
       "      <td>СССР</td>\n",
       "      <td>В.Чеботарев</td>\n",
       "      <td>NaN</td>\n",
       "      <td>«12+» - для детей старше 12 лет</td>\n",
       "      <td>NaN</td>\n",
       "      <td>NaN</td>\n",
       "      <td>NaN</td>\n",
       "      <td>NaN</td>\n",
       "      <td>6.3</td>\n",
       "      <td>драма,военный</td>\n",
       "      <td>NaN</td>\n",
       "    </tr>\n",
       "    <tr>\n",
       "      <th>24</th>\n",
       "      <td>Неисправимый лгун</td>\n",
       "      <td>111003516</td>\n",
       "      <td>2016-02-12T12:00:00.000Z</td>\n",
       "      <td>Художественный</td>\n",
       "      <td>Киностудия \"Мосфильм\"</td>\n",
       "      <td>СССР</td>\n",
       "      <td>В.Азаров</td>\n",
       "      <td>NaN</td>\n",
       "      <td>«6+» - для детей старше 6 лет</td>\n",
       "      <td>NaN</td>\n",
       "      <td>NaN</td>\n",
       "      <td>NaN</td>\n",
       "      <td>NaN</td>\n",
       "      <td>7.7</td>\n",
       "      <td>комедия</td>\n",
       "      <td>NaN</td>\n",
       "    </tr>\n",
       "    <tr>\n",
       "      <th>25</th>\n",
       "      <td>Призрак замка Моррисвиль</td>\n",
       "      <td>221072614</td>\n",
       "      <td>2014-12-29T12:00:00.000Z</td>\n",
       "      <td>Художественный</td>\n",
       "      <td>Фильмове Студио Баррандов</td>\n",
       "      <td>Чехословакия</td>\n",
       "      <td>Боривой Земан</td>\n",
       "      <td>NaN</td>\n",
       "      <td>«12+» - для детей старше 12 лет</td>\n",
       "      <td>NaN</td>\n",
       "      <td>NaN</td>\n",
       "      <td>NaN</td>\n",
       "      <td>NaN</td>\n",
       "      <td>7.7</td>\n",
       "      <td>комедия</td>\n",
       "      <td>NaN</td>\n",
       "    </tr>\n",
       "    <tr>\n",
       "      <th>26</th>\n",
       "      <td>Оружейный барон</td>\n",
       "      <td>221012515</td>\n",
       "      <td>2015-04-03T12:00:00.000Z</td>\n",
       "      <td>Художественный</td>\n",
       "      <td>Вэ И Пэ Медиенфондс 3, Асендант Пикчерз, Сатур...</td>\n",
       "      <td>США - Франция - Турция</td>\n",
       "      <td>Эндрю Никкол</td>\n",
       "      <td>Норман Голуайтли, Энди Грош, Николас Кейдж, Эн...</td>\n",
       "      <td>«18+» - запрещено для детей</td>\n",
       "      <td>NaN</td>\n",
       "      <td>NaN</td>\n",
       "      <td>NaN</td>\n",
       "      <td>NaN</td>\n",
       "      <td>7.7</td>\n",
       "      <td>боевик,драма,криминал</td>\n",
       "      <td>NaN</td>\n",
       "    </tr>\n",
       "    <tr>\n",
       "      <th>27</th>\n",
       "      <td>Отставной козы барабанщик</td>\n",
       "      <td>111024314</td>\n",
       "      <td>2014-12-24T12:00:00.000Z</td>\n",
       "      <td>Художественный</td>\n",
       "      <td>Киностудия \"Мосфильм\"</td>\n",
       "      <td>СССР</td>\n",
       "      <td>Г.Мыльников</td>\n",
       "      <td>NaN</td>\n",
       "      <td>«6+» - для детей старше 6 лет</td>\n",
       "      <td>NaN</td>\n",
       "      <td>NaN</td>\n",
       "      <td>NaN</td>\n",
       "      <td>NaN</td>\n",
       "      <td>6.9</td>\n",
       "      <td>драма,комедия</td>\n",
       "      <td>NaN</td>\n",
       "    </tr>\n",
       "    <tr>\n",
       "      <th>28</th>\n",
       "      <td>Паршивая овца</td>\n",
       "      <td>221012815</td>\n",
       "      <td>2015-04-03T12:00:00.000Z</td>\n",
       "      <td>Художественный</td>\n",
       "      <td>Лайв Сток Филмз, Нью Зиланд Филм Комишн</td>\n",
       "      <td>Новая Зеландия</td>\n",
       "      <td>Джонатан Кинг</td>\n",
       "      <td>Филиппа Кемпбелл</td>\n",
       "      <td>«18+» - запрещено для детей</td>\n",
       "      <td>NaN</td>\n",
       "      <td>NaN</td>\n",
       "      <td>NaN</td>\n",
       "      <td>NaN</td>\n",
       "      <td>5.0</td>\n",
       "      <td>ужасы,фантастика,комедия</td>\n",
       "      <td>NaN</td>\n",
       "    </tr>\n",
       "    <tr>\n",
       "      <th>29</th>\n",
       "      <td>Плюмбум, или Опасная игра</td>\n",
       "      <td>111014116</td>\n",
       "      <td>2016-09-13T12:00:00.000Z</td>\n",
       "      <td>Художественный</td>\n",
       "      <td>Киностудия \"Мосфильм\"</td>\n",
       "      <td>СССР</td>\n",
       "      <td>В.Абдрашитов</td>\n",
       "      <td>NaN</td>\n",
       "      <td>«16+» - для детей старше 16 лет</td>\n",
       "      <td>NaN</td>\n",
       "      <td>NaN</td>\n",
       "      <td>NaN</td>\n",
       "      <td>NaN</td>\n",
       "      <td>6.9</td>\n",
       "      <td>драма</td>\n",
       "      <td>NaN</td>\n",
       "    </tr>\n",
       "    <tr>\n",
       "      <th>30</th>\n",
       "      <td>Первое свидание</td>\n",
       "      <td>111019314</td>\n",
       "      <td>2014-12-01T12:00:00.000Z</td>\n",
       "      <td>Художественный</td>\n",
       "      <td>Киностудия \"Мосфильм\"</td>\n",
       "      <td>СССР</td>\n",
       "      <td>И.Бабич</td>\n",
       "      <td>NaN</td>\n",
       "      <td>«12+» - для детей старше 12 лет</td>\n",
       "      <td>NaN</td>\n",
       "      <td>NaN</td>\n",
       "      <td>NaN</td>\n",
       "      <td>NaN</td>\n",
       "      <td>7.4</td>\n",
       "      <td>мультфильм,короткометражка,мелодрама</td>\n",
       "      <td>NaN</td>\n",
       "    </tr>\n",
       "    <tr>\n",
       "      <th>31</th>\n",
       "      <td>Охота на лис.</td>\n",
       "      <td>111013916</td>\n",
       "      <td>2016-09-13T12:00:00.000Z</td>\n",
       "      <td>Художественный</td>\n",
       "      <td>Киностудия \"Мосфильм\"</td>\n",
       "      <td>СССР</td>\n",
       "      <td>В.Абдрашитов</td>\n",
       "      <td>NaN</td>\n",
       "      <td>«12+» - для детей старше 12 лет</td>\n",
       "      <td>NaN</td>\n",
       "      <td>NaN</td>\n",
       "      <td>NaN</td>\n",
       "      <td>NaN</td>\n",
       "      <td>7.1</td>\n",
       "      <td>драма,криминал</td>\n",
       "      <td>NaN</td>\n",
       "    </tr>\n",
       "    <tr>\n",
       "      <th>32</th>\n",
       "      <td>Пиноккио 3000</td>\n",
       "      <td>224020512</td>\n",
       "      <td>2012-08-27T12:00:00.000Z</td>\n",
       "      <td>Анимационный</td>\n",
       "      <td>Синегруп, Анимакидс-Франс 2 Синема/Кастелао Пр...</td>\n",
       "      <td>Канада - Франция - Испания</td>\n",
       "      <td>Даниэль Робишо</td>\n",
       "      <td>Луис Дюкью</td>\n",
       "      <td>«0+» - для любой зрительской аудитории</td>\n",
       "      <td>NaN</td>\n",
       "      <td>NaN</td>\n",
       "      <td>NaN</td>\n",
       "      <td>NaN</td>\n",
       "      <td>4.3</td>\n",
       "      <td>мультфильм,фантастика,фэнтези</td>\n",
       "      <td>NaN</td>\n",
       "    </tr>\n",
       "    <tr>\n",
       "      <th>33</th>\n",
       "      <td>Перелом</td>\n",
       "      <td>221006016</td>\n",
       "      <td>2016-02-09T12:00:00.000Z</td>\n",
       "      <td>Художественный</td>\n",
       "      <td>Уорнер Бразерс, Нью Лайн Синема, Касл Рок Инте...</td>\n",
       "      <td>США-Германия</td>\n",
       "      <td>Грегори Хоблит</td>\n",
       "      <td>Чарльз Уэйнсток</td>\n",
       "      <td>«18+» - запрещено для детей</td>\n",
       "      <td>NaN</td>\n",
       "      <td>NaN</td>\n",
       "      <td>NaN</td>\n",
       "      <td>NaN</td>\n",
       "      <td>7.7</td>\n",
       "      <td>триллер,драма,криминал</td>\n",
       "      <td>NaN</td>\n",
       "    </tr>\n",
       "    <tr>\n",
       "      <th>34</th>\n",
       "      <td>Мисс Поттер</td>\n",
       "      <td>221011915</td>\n",
       "      <td>2015-04-03T12:00:00.000Z</td>\n",
       "      <td>Художественный</td>\n",
       "      <td>Феникс Пикчерз, Дэвид Киршнер Продакшнз, Айл о...</td>\n",
       "      <td>США - Великобритания</td>\n",
       "      <td>Крис Нунан</td>\n",
       "      <td>Дэвид Киршнер, Майк Медэвой, Арнольд Мессер, К...</td>\n",
       "      <td>«12+» - для детей старше 12 лет</td>\n",
       "      <td>NaN</td>\n",
       "      <td>NaN</td>\n",
       "      <td>NaN</td>\n",
       "      <td>NaN</td>\n",
       "      <td>7.3</td>\n",
       "      <td>драма,мелодрама,биография</td>\n",
       "      <td>NaN</td>\n",
       "    </tr>\n",
       "    <tr>\n",
       "      <th>35</th>\n",
       "      <td>Миссис Хендерсон представляет</td>\n",
       "      <td>121006706</td>\n",
       "      <td>2015-12-30T12:00:00.000Z</td>\n",
       "      <td>Художественный</td>\n",
       "      <td>БиБиСи Филмз, Фьючер Филмз, Хейман-Хоскинс Про...</td>\n",
       "      <td>Великобритания</td>\n",
       "      <td>Стивен Фрирз</td>\n",
       "      <td>Норма Хейман, Боб Хоскинс</td>\n",
       "      <td>«16+» - для детей старше 16 лет</td>\n",
       "      <td>NaN</td>\n",
       "      <td>NaN</td>\n",
       "      <td>NaN</td>\n",
       "      <td>NaN</td>\n",
       "      <td>7.0</td>\n",
       "      <td>драма,комедия,военный</td>\n",
       "      <td>NaN</td>\n",
       "    </tr>\n",
       "    <tr>\n",
       "      <th>36</th>\n",
       "      <td>Планета КА-ПЭКС /По мотивам романа Джин Бруэр/</td>\n",
       "      <td>221009314</td>\n",
       "      <td>2014-03-03T12:00:00.000Z</td>\n",
       "      <td>Художественный</td>\n",
       "      <td>Интермедиа Филмз, Юниверсал Пикчерз, Лоуренс Г...</td>\n",
       "      <td>США - Германия</td>\n",
       "      <td>Йэн Софтли</td>\n",
       "      <td>Лоуренс Гордон, Роберт Коулсберри, Ллойд Левин</td>\n",
       "      <td>«12+» - для детей старше 12 лет</td>\n",
       "      <td>NaN</td>\n",
       "      <td>NaN</td>\n",
       "      <td>NaN</td>\n",
       "      <td>NaN</td>\n",
       "      <td>8.0</td>\n",
       "      <td>фантастика,драма,детектив</td>\n",
       "      <td>NaN</td>\n",
       "    </tr>\n",
       "    <tr>\n",
       "      <th>37</th>\n",
       "      <td>Молчи в тряпочку</td>\n",
       "      <td>221012015</td>\n",
       "      <td>2015-04-03T12:00:00.000Z</td>\n",
       "      <td>Художественный</td>\n",
       "      <td>Саммит Интертейнмент, Айл оф Мэн Филм, Эйзур Ф...</td>\n",
       "      <td>Великобритания</td>\n",
       "      <td>Найл Джонсон</td>\n",
       "      <td>Мэтью Пэйн, Джулия Пэло</td>\n",
       "      <td>«18+» - запрещено для детей</td>\n",
       "      <td>NaN</td>\n",
       "      <td>NaN</td>\n",
       "      <td>NaN</td>\n",
       "      <td>NaN</td>\n",
       "      <td>7.1</td>\n",
       "      <td>комедия,криминал</td>\n",
       "      <td>NaN</td>\n",
       "    </tr>\n",
       "    <tr>\n",
       "      <th>38</th>\n",
       "      <td>Мужики!..</td>\n",
       "      <td>111007213</td>\n",
       "      <td>2013-10-18T12:00:00.000Z</td>\n",
       "      <td>Художественный</td>\n",
       "      <td>Киностудия \"Мосфильм\"</td>\n",
       "      <td>СССР</td>\n",
       "      <td>И.Бабич</td>\n",
       "      <td>NaN</td>\n",
       "      <td>«6+» - для детей старше 6 лет</td>\n",
       "      <td>NaN</td>\n",
       "      <td>NaN</td>\n",
       "      <td>NaN</td>\n",
       "      <td>NaN</td>\n",
       "      <td>8.1</td>\n",
       "      <td>драма</td>\n",
       "      <td>1165.0</td>\n",
       "    </tr>\n",
       "    <tr>\n",
       "      <th>39</th>\n",
       "      <td>Автомобиль, скрипка и собака Клякса</td>\n",
       "      <td>111010313</td>\n",
       "      <td>2013-12-19T12:00:00.000Z</td>\n",
       "      <td>Художественный</td>\n",
       "      <td>Киностудия \"Мосфильм\"</td>\n",
       "      <td>СССР</td>\n",
       "      <td>Р.Быков</td>\n",
       "      <td>NaN</td>\n",
       "      <td>«0+» - для любой зрительской аудитории</td>\n",
       "      <td>NaN</td>\n",
       "      <td>NaN</td>\n",
       "      <td>NaN</td>\n",
       "      <td>NaN</td>\n",
       "      <td>7.2</td>\n",
       "      <td>мюзикл,семейный</td>\n",
       "      <td>NaN</td>\n",
       "    </tr>\n",
       "    <tr>\n",
       "      <th>40</th>\n",
       "      <td>Алекс и Эмма</td>\n",
       "      <td>221005015</td>\n",
       "      <td>2015-02-25T12:00:00.000Z</td>\n",
       "      <td>Художественный</td>\n",
       "      <td>Эскейп Артистс, Франчайз Пикчерз, Рейнер-Грэйс...</td>\n",
       "      <td>США</td>\n",
       "      <td>Роб Райнер</td>\n",
       "      <td>Тодд Блэк, Элан Грейсман, Джереми Левен, Роб Р...</td>\n",
       "      <td>«16+» - для детей старше 16 лет</td>\n",
       "      <td>NaN</td>\n",
       "      <td>NaN</td>\n",
       "      <td>NaN</td>\n",
       "      <td>NaN</td>\n",
       "      <td>6.4</td>\n",
       "      <td>мелодрама,комедия</td>\n",
       "      <td>NaN</td>\n",
       "    </tr>\n",
       "    <tr>\n",
       "      <th>41</th>\n",
       "      <td>Алекс и Эмма</td>\n",
       "      <td>221004616</td>\n",
       "      <td>2016-02-09T12:00:00.000Z</td>\n",
       "      <td>Художественный</td>\n",
       "      <td>Эскейп Артистс, Франчайз Пикчерз, Рейнер-Грэйс...</td>\n",
       "      <td>США</td>\n",
       "      <td>Роб Райнер</td>\n",
       "      <td>Тодд Блэк, Элан Грейсман, Джереми Левен, Роб Р...</td>\n",
       "      <td>«16+» - для детей старше 16 лет</td>\n",
       "      <td>NaN</td>\n",
       "      <td>NaN</td>\n",
       "      <td>NaN</td>\n",
       "      <td>NaN</td>\n",
       "      <td>6.4</td>\n",
       "      <td>мелодрама,комедия</td>\n",
       "      <td>NaN</td>\n",
       "    </tr>\n",
       "    <tr>\n",
       "      <th>42</th>\n",
       "      <td>Мой лучший любовник</td>\n",
       "      <td>121019205</td>\n",
       "      <td>2013-10-21T12:00:00.000Z</td>\n",
       "      <td>Художественный</td>\n",
       "      <td>Прайм Филм Продакшнс ЛЛСи, Стратус Филм Ко., Т...</td>\n",
       "      <td>США</td>\n",
       "      <td>Бен Янгер</td>\n",
       "      <td>Дженнифер Тодд, Сюзанн Тодд, Брэдли Дженкел, Э...</td>\n",
       "      <td>«12+» - для детей старше 12 лет</td>\n",
       "      <td>NaN</td>\n",
       "      <td>NaN</td>\n",
       "      <td>NaN</td>\n",
       "      <td>NaN</td>\n",
       "      <td>6.8</td>\n",
       "      <td>драма,мелодрама,комедия</td>\n",
       "      <td>NaN</td>\n",
       "    </tr>\n",
       "    <tr>\n",
       "      <th>43</th>\n",
       "      <td>Мемуары гейши (по роману Артура Голдена)</td>\n",
       "      <td>121000606</td>\n",
       "      <td>2012-12-14T12:00:00.000Z</td>\n",
       "      <td>Художественный</td>\n",
       "      <td>Коламбия Пикчерз Корпорейшн, ДримУоркс ЭсКейДж...</td>\n",
       "      <td>США</td>\n",
       "      <td>Роб Маршалл</td>\n",
       "      <td>Стивен Спилберг, Люси Фишер, Дуглас Уик, Джон ...</td>\n",
       "      <td>«12+» - для детей старше 12 лет</td>\n",
       "      <td>NaN</td>\n",
       "      <td>NaN</td>\n",
       "      <td>NaN</td>\n",
       "      <td>NaN</td>\n",
       "      <td>NaN</td>\n",
       "      <td>NaN</td>\n",
       "      <td>NaN</td>\n",
       "    </tr>\n",
       "    <tr>\n",
       "      <th>44</th>\n",
       "      <td>Адъютант его превосходительства</td>\n",
       "      <td>211044013</td>\n",
       "      <td>2013-12-19T12:00:00.000Z</td>\n",
       "      <td>Художественный</td>\n",
       "      <td>Киностудия \"Мосфильм\"</td>\n",
       "      <td>СССР</td>\n",
       "      <td>Е.Ташков</td>\n",
       "      <td>NaN</td>\n",
       "      <td>«6+» - для детей старше 6 лет</td>\n",
       "      <td>NaN</td>\n",
       "      <td>NaN</td>\n",
       "      <td>NaN</td>\n",
       "      <td>NaN</td>\n",
       "      <td>8.2</td>\n",
       "      <td>военный,приключения,драма</td>\n",
       "      <td>NaN</td>\n",
       "    </tr>\n",
       "    <tr>\n",
       "      <th>45</th>\n",
       "      <td>Без свидетелей</td>\n",
       "      <td>111011313</td>\n",
       "      <td>2013-12-19T12:00:00.000Z</td>\n",
       "      <td>Художественный</td>\n",
       "      <td>Киностудия \"Мосфильм\"</td>\n",
       "      <td>СССР</td>\n",
       "      <td>Н.Михалков</td>\n",
       "      <td>NaN</td>\n",
       "      <td>«12+» - для детей старше 12 лет</td>\n",
       "      <td>NaN</td>\n",
       "      <td>NaN</td>\n",
       "      <td>NaN</td>\n",
       "      <td>NaN</td>\n",
       "      <td>7.1</td>\n",
       "      <td>драма</td>\n",
       "      <td>NaN</td>\n",
       "    </tr>\n",
       "    <tr>\n",
       "      <th>46</th>\n",
       "      <td>Без солнца</td>\n",
       "      <td>111006415</td>\n",
       "      <td>2015-04-23T12:00:00.000Z</td>\n",
       "      <td>Художественный</td>\n",
       "      <td>Киностудия \"Мосфильм\"</td>\n",
       "      <td>СССР</td>\n",
       "      <td>Ю.Карасик</td>\n",
       "      <td>NaN</td>\n",
       "      <td>«12+» - для детей старше 12 лет</td>\n",
       "      <td>NaN</td>\n",
       "      <td>NaN</td>\n",
       "      <td>NaN</td>\n",
       "      <td>NaN</td>\n",
       "      <td>7.4</td>\n",
       "      <td>документальный,драма</td>\n",
       "      <td>NaN</td>\n",
       "    </tr>\n",
       "    <tr>\n",
       "      <th>47</th>\n",
       "      <td>Андрей Рублев.</td>\n",
       "      <td>111029814</td>\n",
       "      <td>2014-12-24T12:00:00.000Z</td>\n",
       "      <td>Художественный</td>\n",
       "      <td>Киностудия \"Мосфильм\"</td>\n",
       "      <td>СССР</td>\n",
       "      <td>А.Тарковский</td>\n",
       "      <td>NaN</td>\n",
       "      <td>«12+» - для детей старше 12 лет</td>\n",
       "      <td>NaN</td>\n",
       "      <td>NaN</td>\n",
       "      <td>NaN</td>\n",
       "      <td>NaN</td>\n",
       "      <td>8.2</td>\n",
       "      <td>драма,биография,история</td>\n",
       "      <td>22660.0</td>\n",
       "    </tr>\n",
       "    <tr>\n",
       "      <th>48</th>\n",
       "      <td>Азартные игры</td>\n",
       "      <td>221058014</td>\n",
       "      <td>2014-10-15T12:00:00.000Z</td>\n",
       "      <td>Художественный</td>\n",
       "      <td>Мирамакс, Дименшн Филмс</td>\n",
       "      <td>США</td>\n",
       "      <td>Джон Франкенхаймер</td>\n",
       "      <td>NaN</td>\n",
       "      <td>«16+» - для детей старше 16 лет</td>\n",
       "      <td>NaN</td>\n",
       "      <td>NaN</td>\n",
       "      <td>NaN</td>\n",
       "      <td>NaN</td>\n",
       "      <td>7.0</td>\n",
       "      <td>боевик,триллер,драма</td>\n",
       "      <td>NaN</td>\n",
       "    </tr>\n",
       "    <tr>\n",
       "      <th>49</th>\n",
       "      <td>36, Набережная Орфевр</td>\n",
       "      <td>121004205</td>\n",
       "      <td>2012-10-31T12:00:00.000Z</td>\n",
       "      <td>Художественный</td>\n",
       "      <td>ЭлДжиЭм Продюксьон, Гомон</td>\n",
       "      <td>Франция</td>\n",
       "      <td>Оливье Маршал</td>\n",
       "      <td>Франк Шоро, Сирил Кольбьё-Жюстен, Жан-Баптист ...</td>\n",
       "      <td>«16+» - для детей старше 16 лет</td>\n",
       "      <td>NaN</td>\n",
       "      <td>NaN</td>\n",
       "      <td>NaN</td>\n",
       "      <td>NaN</td>\n",
       "      <td>7.5</td>\n",
       "      <td>боевик,триллер,драма</td>\n",
       "      <td>NaN</td>\n",
       "    </tr>\n",
       "  </tbody>\n",
       "</table>\n",
       "</div>"
      ],
      "text/plain": [
       "                                                title   puNumber  \\\n",
       "0                                    Открытый простор  221048915   \n",
       "1                                Особо важное задание  111013716   \n",
       "2                                        Особо опасен  221038416   \n",
       "3                                        Особо опасен  221026916   \n",
       "4                                        Особо опасен  221030815   \n",
       "5                                   Остановился поезд  111013816   \n",
       "6                                     Любовь и голуби  111007013   \n",
       "7                                   Любовь и сигареты  221074614   \n",
       "8                                  Отпетые мошенники.  121011416   \n",
       "9                                 Отпуск за свой счет  111019114   \n",
       "10  Превосходство Борна /По одноименной новелле Ро...  221031416   \n",
       "11                                       Ответный ход  111019014   \n",
       "12  Малышка на миллион /По мотивам рассказов Ф.Х.Т...  221011415   \n",
       "13                                 Преданный садовник  121003106   \n",
       "14            Отель /По мотивам пьесы Джона Уэбстера/  221008812   \n",
       "15                                       Председатель  111014916   \n",
       "16                                    Осенний марафон  111007513   \n",
       "17                                              Осень  111027914   \n",
       "18                                      Неподдающиеся  111003616   \n",
       "19                                         Неподсуден  111003716   \n",
       "20                            Незабываемый 1919-й год  111003316   \n",
       "21                                Незаконченная жизнь  121015405   \n",
       "22           Операция \"Ы\" и другие приключения Шурика  111007413   \n",
       "23           Неизвестные страницы из жизни разведчика  111003416   \n",
       "24                                  Неисправимый лгун  111003516   \n",
       "25                           Призрак замка Моррисвиль  221072614   \n",
       "26                                    Оружейный барон  221012515   \n",
       "27                          Отставной козы барабанщик  111024314   \n",
       "28                                      Паршивая овца  221012815   \n",
       "29                          Плюмбум, или Опасная игра  111014116   \n",
       "30                                    Первое свидание  111019314   \n",
       "31                                      Охота на лис.  111013916   \n",
       "32                                      Пиноккио 3000  224020512   \n",
       "33                                            Перелом  221006016   \n",
       "34                                        Мисс Поттер  221011915   \n",
       "35                      Миссис Хендерсон представляет  121006706   \n",
       "36     Планета КА-ПЭКС /По мотивам романа Джин Бруэр/  221009314   \n",
       "37                                   Молчи в тряпочку  221012015   \n",
       "38                                          Мужики!..  111007213   \n",
       "39                Автомобиль, скрипка и собака Клякса  111010313   \n",
       "40                                       Алекс и Эмма  221005015   \n",
       "41                                       Алекс и Эмма  221004616   \n",
       "42                                Мой лучший любовник  121019205   \n",
       "43           Мемуары гейши (по роману Артура Голдена)  121000606   \n",
       "44                    Адъютант его превосходительства  211044013   \n",
       "45                                     Без свидетелей  111011313   \n",
       "46                                         Без солнца  111006415   \n",
       "47                                     Андрей Рублев.  111029814   \n",
       "48                                      Азартные игры  221058014   \n",
       "49                              36, Набережная Орфевр  121004205   \n",
       "\n",
       "             show_start_date            type  \\\n",
       "0   2015-11-27T12:00:00.000Z  Художественный   \n",
       "1   2016-09-13T12:00:00.000Z  Художественный   \n",
       "2   2016-10-10T12:00:00.000Z  Художественный   \n",
       "3   2016-06-10T12:00:00.000Z  Художественный   \n",
       "4   2015-07-29T12:00:00.000Z  Художественный   \n",
       "5   2016-09-13T12:00:00.000Z  Художественный   \n",
       "6   2013-10-18T12:00:00.000Z  Художественный   \n",
       "7   2014-12-29T12:00:00.000Z  Художественный   \n",
       "8   2016-05-05T12:00:00.000Z  Художественный   \n",
       "9   2014-12-01T12:00:00.000Z  Художественный   \n",
       "10  2016-06-29T12:00:00.000Z  Художественный   \n",
       "11  2014-12-01T12:00:00.000Z  Художественный   \n",
       "12  2015-04-03T12:00:00.000Z  Художественный   \n",
       "13  2013-08-26T12:00:00.000Z  Художественный   \n",
       "14  2012-01-27T12:00:00.000Z  Художественный   \n",
       "15  2016-09-13T12:00:00.000Z  Художественный   \n",
       "16  2013-10-18T12:00:00.000Z  Художественный   \n",
       "17  2014-12-24T12:00:00.000Z  Художественный   \n",
       "18  2016-02-12T12:00:00.000Z  Художественный   \n",
       "19  2016-02-12T12:00:00.000Z  Художественный   \n",
       "20  2016-02-12T12:00:00.000Z  Художественный   \n",
       "21  2015-05-06T12:00:00.000Z  Художественный   \n",
       "22  2013-10-18T12:00:00.000Z  Художественный   \n",
       "23  2016-02-12T12:00:00.000Z  Художественный   \n",
       "24  2016-02-12T12:00:00.000Z  Художественный   \n",
       "25  2014-12-29T12:00:00.000Z  Художественный   \n",
       "26  2015-04-03T12:00:00.000Z  Художественный   \n",
       "27  2014-12-24T12:00:00.000Z  Художественный   \n",
       "28  2015-04-03T12:00:00.000Z  Художественный   \n",
       "29  2016-09-13T12:00:00.000Z  Художественный   \n",
       "30  2014-12-01T12:00:00.000Z  Художественный   \n",
       "31  2016-09-13T12:00:00.000Z  Художественный   \n",
       "32  2012-08-27T12:00:00.000Z    Анимационный   \n",
       "33  2016-02-09T12:00:00.000Z  Художественный   \n",
       "34  2015-04-03T12:00:00.000Z  Художественный   \n",
       "35  2015-12-30T12:00:00.000Z  Художественный   \n",
       "36  2014-03-03T12:00:00.000Z  Художественный   \n",
       "37  2015-04-03T12:00:00.000Z  Художественный   \n",
       "38  2013-10-18T12:00:00.000Z  Художественный   \n",
       "39  2013-12-19T12:00:00.000Z  Художественный   \n",
       "40  2015-02-25T12:00:00.000Z  Художественный   \n",
       "41  2016-02-09T12:00:00.000Z  Художественный   \n",
       "42  2013-10-21T12:00:00.000Z  Художественный   \n",
       "43  2012-12-14T12:00:00.000Z  Художественный   \n",
       "44  2013-12-19T12:00:00.000Z  Художественный   \n",
       "45  2013-12-19T12:00:00.000Z  Художественный   \n",
       "46  2015-04-23T12:00:00.000Z  Художественный   \n",
       "47  2014-12-24T12:00:00.000Z  Художественный   \n",
       "48  2014-10-15T12:00:00.000Z  Художественный   \n",
       "49  2012-10-31T12:00:00.000Z  Художественный   \n",
       "\n",
       "                                          film_studio  \\\n",
       "0   Тачстоун Пикчерз, Кобальт Пикчерз, Бикон Пикче...   \n",
       "1                               Киностудия \"Мосфильм\"   \n",
       "2   Юниверсал Пикчерз, Кикстарт Продакшнз, Марк Пл...   \n",
       "3   Юниверсал Пикчерз, Кикстарт Продакшнз, Марк Пл...   \n",
       "4   Юниверсал Пикчерз, Кикстарт Продакшнз, Марк Пл...   \n",
       "5                               Киностудия \"Мосфильм\"   \n",
       "6                               Киностудия \"Мосфильм\"   \n",
       "7   Юнайтед Артистс, Грин Стрит Филмз, Айкон Интер...   \n",
       "8                      Пульсар Продюксьон, ТФ1 Фильм    \n",
       "9              Киностудия \"Мосфильм\", Телевидение ВНР   \n",
       "10  Кеннеди/Маршал Компани, Юниверсал Пикчерз, Гип...   \n",
       "11                              Киностудия \"Мосфильм\"   \n",
       "12  Уорнер Бразерс, Лейкшор Интертейнмент, Малпасо...   \n",
       "13  Потбойлер Продакшнз, Эпсилон Моушн Пикчерз, Ск...   \n",
       "14  Кэтлей, Отель Продакшнс, Мунстоун Интертейнмен...   \n",
       "15                              Киностудия \"Мосфильм\"   \n",
       "16                              Киностудия \"Мосфильм\"   \n",
       "17                              Киностудия \"Мосфильм\"   \n",
       "18                              Киностудия \"Мосфильм\"   \n",
       "19                              Киностудия \"Мосфильм\"   \n",
       "20                              Киностудия \"Мосфильм\"   \n",
       "21  Инишиэл Интертейнмент Групп, Мирамакс Филмз, П...   \n",
       "22                              Киностудия \"Мосфильм\"   \n",
       "23                              Киностудия \"Мосфильм\"   \n",
       "24                              Киностудия \"Мосфильм\"   \n",
       "25                          Фильмове Студио Баррандов   \n",
       "26  Вэ И Пэ Медиенфондс 3, Асендант Пикчерз, Сатур...   \n",
       "27                              Киностудия \"Мосфильм\"   \n",
       "28            Лайв Сток Филмз, Нью Зиланд Филм Комишн   \n",
       "29                              Киностудия \"Мосфильм\"   \n",
       "30                              Киностудия \"Мосфильм\"   \n",
       "31                              Киностудия \"Мосфильм\"   \n",
       "32  Синегруп, Анимакидс-Франс 2 Синема/Кастелао Пр...   \n",
       "33  Уорнер Бразерс, Нью Лайн Синема, Касл Рок Инте...   \n",
       "34  Феникс Пикчерз, Дэвид Киршнер Продакшнз, Айл о...   \n",
       "35  БиБиСи Филмз, Фьючер Филмз, Хейман-Хоскинс Про...   \n",
       "36  Интермедиа Филмз, Юниверсал Пикчерз, Лоуренс Г...   \n",
       "37  Саммит Интертейнмент, Айл оф Мэн Филм, Эйзур Ф...   \n",
       "38                              Киностудия \"Мосфильм\"   \n",
       "39                              Киностудия \"Мосфильм\"   \n",
       "40  Эскейп Артистс, Франчайз Пикчерз, Рейнер-Грэйс...   \n",
       "41  Эскейп Артистс, Франчайз Пикчерз, Рейнер-Грэйс...   \n",
       "42  Прайм Филм Продакшнс ЛЛСи, Стратус Филм Ко., Т...   \n",
       "43  Коламбия Пикчерз Корпорейшн, ДримУоркс ЭсКейДж...   \n",
       "44                              Киностудия \"Мосфильм\"   \n",
       "45                              Киностудия \"Мосфильм\"   \n",
       "46                              Киностудия \"Мосфильм\"   \n",
       "47                              Киностудия \"Мосфильм\"   \n",
       "48                            Мирамакс, Дименшн Филмс   \n",
       "49                          ЭлДжиЭм Продюксьон, Гомон   \n",
       "\n",
       "            production_country                   director  \\\n",
       "0                          США              Кевин Костнер   \n",
       "1                         СССР                  Е.Матвеев   \n",
       "2                          США          Тимур Бекмамбетов   \n",
       "3                          США          Тимур Бекмамбетов   \n",
       "4                          США          Тимур Бекмамбетов   \n",
       "5                         СССР               В.Абдрашитов   \n",
       "6                         СССР                  В.Меньшов   \n",
       "7                          США              Джон Туртурро   \n",
       "8                      Франция               Эрик Беснард   \n",
       "9                СССР, Венгрия                    В.Титов   \n",
       "10                         США              Пол Грингросс   \n",
       "11                        СССР              М.Туманишвили   \n",
       "12                         США               Клинт Иствуд   \n",
       "13     Германия-Великобритания        Фернанду Мейрелльеш   \n",
       "14     Великобритания - Италия                Майк Фиггис   \n",
       "15                        СССР                 А.Салтыков   \n",
       "16                        СССР                  Г.Данелия   \n",
       "17                        СССР                  А.Смирнов   \n",
       "18                        СССР                  Ю.Чулюкин   \n",
       "19                        СССР  В.Краснопольский, В.Усков   \n",
       "20                        СССР                 М.Чиаурели   \n",
       "21                         США            Лассе Халлстрем   \n",
       "22                        СССР                   Л.Гайдай   \n",
       "23                        СССР                В.Чеботарев   \n",
       "24                        СССР                   В.Азаров   \n",
       "25                Чехословакия              Боривой Земан   \n",
       "26      США - Франция - Турция               Эндрю Никкол   \n",
       "27                        СССР                Г.Мыльников   \n",
       "28              Новая Зеландия              Джонатан Кинг   \n",
       "29                        СССР               В.Абдрашитов   \n",
       "30                        СССР                    И.Бабич   \n",
       "31                        СССР               В.Абдрашитов   \n",
       "32  Канада - Франция - Испания             Даниэль Робишо   \n",
       "33                США-Германия             Грегори Хоблит   \n",
       "34        США - Великобритания                 Крис Нунан   \n",
       "35              Великобритания               Стивен Фрирз   \n",
       "36              США - Германия                 Йэн Софтли   \n",
       "37              Великобритания               Найл Джонсон   \n",
       "38                        СССР                    И.Бабич   \n",
       "39                        СССР                    Р.Быков   \n",
       "40                         США                 Роб Райнер   \n",
       "41                         США                 Роб Райнер   \n",
       "42                         США                  Бен Янгер   \n",
       "43                         США                Роб Маршалл   \n",
       "44                        СССР                   Е.Ташков   \n",
       "45                        СССР                 Н.Михалков   \n",
       "46                        СССР                  Ю.Карасик   \n",
       "47                        СССР               А.Тарковский   \n",
       "48                         США         Джон Франкенхаймер   \n",
       "49                     Франция              Оливье Маршал   \n",
       "\n",
       "                                             producer  \\\n",
       "0           Дэвид Валдес, Кевин Костнер, Джейк Эбертс   \n",
       "1                                                 NaN   \n",
       "2   Джим Лемли, Джейсон Нетер, Марк Е.Платт, Яйн Смит   \n",
       "3   Джим Лемли, Джейсон Нетер, Марк Е.Платт, Яйн Смит   \n",
       "4   Джим Лемли, Джейсон Нетер, Марк Е.Платт, Яйн Смит   \n",
       "5                                                 NaN   \n",
       "6                                                 NaN   \n",
       "7                         Джон Пенотти, Джон Туртурро   \n",
       "8                                         Патрис Леду   \n",
       "9                                                 NaN   \n",
       "10         Патрик Кроули, Фрэнк Маршалл, Пол Сэндберг   \n",
       "11                                                NaN   \n",
       "12  Клинт Иствуд, Том Розенберг, Альберт С.Рудди, ...   \n",
       "13                             Саймон Чэннинг Уильямс   \n",
       "14                Этчи Стро, Анни Стюарт, Майк Фиггис   \n",
       "15                                                NaN   \n",
       "16                                                NaN   \n",
       "17                                                NaN   \n",
       "18                                                NaN   \n",
       "19                                                NaN   \n",
       "20                                                NaN   \n",
       "21  Лесли Холлеран, Алан Лэдд мл., Келлиан Лэдд, Х...   \n",
       "22                                                NaN   \n",
       "23                                                NaN   \n",
       "24                                                NaN   \n",
       "25                                                NaN   \n",
       "26  Норман Голуайтли, Энди Грош, Николас Кейдж, Эн...   \n",
       "27                                                NaN   \n",
       "28                                   Филиппа Кемпбелл   \n",
       "29                                                NaN   \n",
       "30                                                NaN   \n",
       "31                                                NaN   \n",
       "32                                         Луис Дюкью   \n",
       "33                                    Чарльз Уэйнсток   \n",
       "34  Дэвид Киршнер, Майк Медэвой, Арнольд Мессер, К...   \n",
       "35                          Норма Хейман, Боб Хоскинс   \n",
       "36     Лоуренс Гордон, Роберт Коулсберри, Ллойд Левин   \n",
       "37                            Мэтью Пэйн, Джулия Пэло   \n",
       "38                                                NaN   \n",
       "39                                                NaN   \n",
       "40  Тодд Блэк, Элан Грейсман, Джереми Левен, Роб Р...   \n",
       "41  Тодд Блэк, Элан Грейсман, Джереми Левен, Роб Р...   \n",
       "42  Дженнифер Тодд, Сюзанн Тодд, Брэдли Дженкел, Э...   \n",
       "43  Стивен Спилберг, Люси Фишер, Дуглас Уик, Джон ...   \n",
       "44                                                NaN   \n",
       "45                                                NaN   \n",
       "46                                                NaN   \n",
       "47                                                NaN   \n",
       "48                                                NaN   \n",
       "49  Франк Шоро, Сирил Кольбьё-Жюстен, Жан-Баптист ...   \n",
       "\n",
       "                           age_restriction  refundable_support  \\\n",
       "0              «18+» - запрещено для детей                 NaN   \n",
       "1            «6+» - для детей старше 6 лет                 NaN   \n",
       "2              «18+» - запрещено для детей                 NaN   \n",
       "3              «18+» - запрещено для детей                 NaN   \n",
       "4              «18+» - запрещено для детей                 NaN   \n",
       "5            «6+» - для детей старше 6 лет                 NaN   \n",
       "6          «12+» - для детей старше 12 лет                 NaN   \n",
       "7              «18+» - запрещено для детей                 NaN   \n",
       "8              «18+» - запрещено для детей                 NaN   \n",
       "9          «12+» - для детей старше 12 лет                 NaN   \n",
       "10         «16+» - для детей старше 16 лет                 NaN   \n",
       "11         «12+» - для детей старше 12 лет                 NaN   \n",
       "12         «16+» - для детей старше 16 лет                 NaN   \n",
       "13         «16+» - для детей старше 16 лет                 NaN   \n",
       "14             «18+» - запрещено для детей                 NaN   \n",
       "15         «12+» - для детей старше 12 лет                 NaN   \n",
       "16         «12+» - для детей старше 12 лет                 NaN   \n",
       "17         «12+» - для детей старше 12 лет                 NaN   \n",
       "18           «6+» - для детей старше 6 лет                 NaN   \n",
       "19           «6+» - для детей старше 6 лет                 NaN   \n",
       "20         «12+» - для детей старше 12 лет                 NaN   \n",
       "21         «12+» - для детей старше 12 лет                 NaN   \n",
       "22           «6+» - для детей старше 6 лет                 NaN   \n",
       "23         «12+» - для детей старше 12 лет                 NaN   \n",
       "24           «6+» - для детей старше 6 лет                 NaN   \n",
       "25         «12+» - для детей старше 12 лет                 NaN   \n",
       "26             «18+» - запрещено для детей                 NaN   \n",
       "27           «6+» - для детей старше 6 лет                 NaN   \n",
       "28             «18+» - запрещено для детей                 NaN   \n",
       "29         «16+» - для детей старше 16 лет                 NaN   \n",
       "30         «12+» - для детей старше 12 лет                 NaN   \n",
       "31         «12+» - для детей старше 12 лет                 NaN   \n",
       "32  «0+» - для любой зрительской аудитории                 NaN   \n",
       "33             «18+» - запрещено для детей                 NaN   \n",
       "34         «12+» - для детей старше 12 лет                 NaN   \n",
       "35         «16+» - для детей старше 16 лет                 NaN   \n",
       "36         «12+» - для детей старше 12 лет                 NaN   \n",
       "37             «18+» - запрещено для детей                 NaN   \n",
       "38           «6+» - для детей старше 6 лет                 NaN   \n",
       "39  «0+» - для любой зрительской аудитории                 NaN   \n",
       "40         «16+» - для детей старше 16 лет                 NaN   \n",
       "41         «16+» - для детей старше 16 лет                 NaN   \n",
       "42         «12+» - для детей старше 12 лет                 NaN   \n",
       "43         «12+» - для детей старше 12 лет                 NaN   \n",
       "44           «6+» - для детей старше 6 лет                 NaN   \n",
       "45         «12+» - для детей старше 12 лет                 NaN   \n",
       "46         «12+» - для детей старше 12 лет                 NaN   \n",
       "47         «12+» - для детей старше 12 лет                 NaN   \n",
       "48         «16+» - для детей старше 16 лет                 NaN   \n",
       "49         «16+» - для детей старше 16 лет                 NaN   \n",
       "\n",
       "    nonrefundable_support  budget financing_source ratings  \\\n",
       "0                     NaN     NaN              NaN     7.2   \n",
       "1                     NaN     NaN              NaN     6.6   \n",
       "2                     NaN     NaN              NaN     6.8   \n",
       "3                     NaN     NaN              NaN     6.8   \n",
       "4                     NaN     NaN              NaN     6.8   \n",
       "5                     NaN     NaN              NaN     7.7   \n",
       "6                     NaN     NaN              NaN     8.3   \n",
       "7                     NaN     NaN              NaN     6.6   \n",
       "8                     NaN     NaN              NaN     8.0   \n",
       "9                     NaN     NaN              NaN     7.8   \n",
       "10                    NaN     NaN              NaN     7.7   \n",
       "11                    NaN     NaN              NaN     7.8   \n",
       "12                    NaN     NaN              NaN     8.1   \n",
       "13                    NaN     NaN              NaN     7.1   \n",
       "14                    NaN     NaN              NaN     6.0   \n",
       "15                    NaN     NaN              NaN     8.3   \n",
       "16                    NaN     NaN              NaN     8.0   \n",
       "17                    NaN     NaN              NaN     7.4   \n",
       "18                    NaN     NaN              NaN     8.0   \n",
       "19                    NaN     NaN              NaN     7.7   \n",
       "20                    NaN     NaN              NaN     5.8   \n",
       "21                    NaN     NaN              NaN     7.2   \n",
       "22                    NaN     NaN              NaN     8.7   \n",
       "23                    NaN     NaN              NaN     6.3   \n",
       "24                    NaN     NaN              NaN     7.7   \n",
       "25                    NaN     NaN              NaN     7.7   \n",
       "26                    NaN     NaN              NaN     7.7   \n",
       "27                    NaN     NaN              NaN     6.9   \n",
       "28                    NaN     NaN              NaN     5.0   \n",
       "29                    NaN     NaN              NaN     6.9   \n",
       "30                    NaN     NaN              NaN     7.4   \n",
       "31                    NaN     NaN              NaN     7.1   \n",
       "32                    NaN     NaN              NaN     4.3   \n",
       "33                    NaN     NaN              NaN     7.7   \n",
       "34                    NaN     NaN              NaN     7.3   \n",
       "35                    NaN     NaN              NaN     7.0   \n",
       "36                    NaN     NaN              NaN     8.0   \n",
       "37                    NaN     NaN              NaN     7.1   \n",
       "38                    NaN     NaN              NaN     8.1   \n",
       "39                    NaN     NaN              NaN     7.2   \n",
       "40                    NaN     NaN              NaN     6.4   \n",
       "41                    NaN     NaN              NaN     6.4   \n",
       "42                    NaN     NaN              NaN     6.8   \n",
       "43                    NaN     NaN              NaN     NaN   \n",
       "44                    NaN     NaN              NaN     8.2   \n",
       "45                    NaN     NaN              NaN     7.1   \n",
       "46                    NaN     NaN              NaN     7.4   \n",
       "47                    NaN     NaN              NaN     8.2   \n",
       "48                    NaN     NaN              NaN     7.0   \n",
       "49                    NaN     NaN              NaN     7.5   \n",
       "\n",
       "                                  genres  box_office  \n",
       "0                 боевик,драма,мелодрама         NaN  \n",
       "1                          драма,военный         NaN  \n",
       "2              фантастика,боевик,триллер         NaN  \n",
       "3              фантастика,боевик,триллер         NaN  \n",
       "4              фантастика,боевик,триллер         NaN  \n",
       "5                                  драма         NaN  \n",
       "6                      мелодрама,комедия      2700.0  \n",
       "7               мюзикл,мелодрама,комедия         NaN  \n",
       "8                       комедия,криминал         NaN  \n",
       "9                      мелодрама,комедия         NaN  \n",
       "10               боевик,триллер,детектив         NaN  \n",
       "11              боевик,драма,приключения         NaN  \n",
       "12                           драма,спорт         NaN  \n",
       "13               триллер,драма,мелодрама         NaN  \n",
       "14                     комедия,мелодрама         NaN  \n",
       "15                                 драма         NaN  \n",
       "16               драма,мелодрама,комедия         NaN  \n",
       "17                       драма,мелодрама         NaN  \n",
       "18                     мелодрама,комедия       360.0  \n",
       "19                                 драма       420.0  \n",
       "20                         драма,история         NaN  \n",
       "21              драма,мелодрама,семейный         NaN  \n",
       "22            комедия,мелодрама,криминал       380.0  \n",
       "23                         драма,военный         NaN  \n",
       "24                               комедия         NaN  \n",
       "25                               комедия         NaN  \n",
       "26                 боевик,драма,криминал         NaN  \n",
       "27                         драма,комедия         NaN  \n",
       "28              ужасы,фантастика,комедия         NaN  \n",
       "29                                 драма         NaN  \n",
       "30  мультфильм,короткометражка,мелодрама         NaN  \n",
       "31                        драма,криминал         NaN  \n",
       "32         мультфильм,фантастика,фэнтези         NaN  \n",
       "33                триллер,драма,криминал         NaN  \n",
       "34             драма,мелодрама,биография         NaN  \n",
       "35                 драма,комедия,военный         NaN  \n",
       "36             фантастика,драма,детектив         NaN  \n",
       "37                      комедия,криминал         NaN  \n",
       "38                                 драма      1165.0  \n",
       "39                       мюзикл,семейный         NaN  \n",
       "40                     мелодрама,комедия         NaN  \n",
       "41                     мелодрама,комедия         NaN  \n",
       "42               драма,мелодрама,комедия         NaN  \n",
       "43                                   NaN         NaN  \n",
       "44             военный,приключения,драма         NaN  \n",
       "45                                 драма         NaN  \n",
       "46                  документальный,драма         NaN  \n",
       "47               драма,биография,история     22660.0  \n",
       "48                  боевик,триллер,драма         NaN  \n",
       "49                  боевик,триллер,драма         NaN  "
      ]
     },
     "execution_count": 13,
     "metadata": {},
     "output_type": "execute_result"
    }
   ],
   "source": [
    "df.head(50)"
   ]
  },
  {
   "cell_type": "code",
   "execution_count": 14,
   "metadata": {},
   "outputs": [],
   "source": [
    "df = df.rename(columns={'puNumber':'pu_number'}) # приводим название к соответствующему стилю"
   ]
  },
  {
   "cell_type": "code",
   "execution_count": 15,
   "metadata": {},
   "outputs": [
    {
     "data": {
      "text/plain": [
       "0"
      ]
     },
     "execution_count": 15,
     "metadata": {},
     "output_type": "execute_result"
    }
   ],
   "source": [
    "df.duplicated().sum() # проверяем на наличие явных дубликатов"
   ]
  },
  {
   "cell_type": "markdown",
   "metadata": {
    "id": "KLDGpPG0gFyM"
   },
   "source": [
    "### Шаг 2. Предобработка данных"
   ]
  },
  {
   "cell_type": "markdown",
   "metadata": {
    "id": "ssWwKXsxgFyO"
   },
   "source": [
    "#### Шаг 2.1. Проверьте типы данных\n",
    "\n",
    "- Проверьте типы данных в датафрейме и преобразуйте их там, где это необходимо."
   ]
  },
  {
   "cell_type": "code",
   "execution_count": 16,
   "metadata": {
    "id": "kVGSplJOgFyO"
   },
   "outputs": [
    {
     "data": {
      "text/plain": [
       "array(['7.2', '6.6', '6.8', '7.7', '8.3', '8.0', '7.8', '8.1', '7.1',\n",
       "       '6.0', '7.4', '5.8', '8.7', '6.3', '6.9', '5.0', '4.3', '7.3',\n",
       "       '7.0', '6.4', nan, '8.2', '7.5', '6.7', '7.9', '5.9', '6.2', '5.6',\n",
       "       '6.5', '2.4', '7.6', '6.1', '8.6', '8.5', '8.8', '5.5', '5.1',\n",
       "       '5.7', '5.4', '99%', '4.4', '4.5', '5.3', '4.1', '8.4', '2.6',\n",
       "       '3.8', '4.6', '4.8', '4.0', '3.0', '1.6', '4.2', '5.2', '4.7',\n",
       "       '4.9', '3.9', '2.7', '3.3', '2.9', '28%', '3.7', '1.4', '3.1',\n",
       "       '97%', '3.5', '3.2', '2.8', '1.5', '2.1', '2.5', '9.2', '3.4',\n",
       "       '1.1', '3.6', '83%', '64%', '91%', '94%', '62%', '79%', '90%',\n",
       "       '19%', '88%', '1.0', '89%', '1.3', '1.9', '1.8', '1.2', '1.7',\n",
       "       '9.0', '98%', '8.9', '9.1'], dtype=object)"
      ]
     },
     "execution_count": 16,
     "metadata": {},
     "output_type": "execute_result"
    }
   ],
   "source": [
    "df['ratings'].unique() # есть процентные значения"
   ]
  },
  {
   "cell_type": "code",
   "execution_count": 17,
   "metadata": {},
   "outputs": [
    {
     "data": {
      "text/plain": [
       "967"
      ]
     },
     "execution_count": 17,
     "metadata": {},
     "output_type": "execute_result"
    }
   ],
   "source": [
    "df['ratings'].isna().sum()"
   ]
  },
  {
   "cell_type": "code",
   "execution_count": 18,
   "metadata": {},
   "outputs": [],
   "source": [
    "df['ratings'] = pd.to_numeric(df['ratings'], errors='coerce')"
   ]
  },
  {
   "cell_type": "code",
   "execution_count": 19,
   "metadata": {},
   "outputs": [
    {
     "data": {
      "text/plain": [
       "996"
      ]
     },
     "execution_count": 19,
     "metadata": {},
     "output_type": "execute_result"
    }
   ],
   "source": [
    "df['ratings'].isna().sum() # после перевода в тип данных float количество значений уменьшилось незначительно, поэтому удаление этих значений не сильно повлияет на исследование"
   ]
  },
  {
   "cell_type": "code",
   "execution_count": 20,
   "metadata": {},
   "outputs": [
    {
     "data": {
      "text/plain": [
       "array([7.2, 6.6, 6.8, 7.7, 8.3, 8. , 7.8, 8.1, 7.1, 6. , 7.4, 5.8, 8.7,\n",
       "       6.3, 6.9, 5. , 4.3, 7.3, 7. , 6.4, nan, 8.2, 7.5, 6.7, 7.9, 5.9,\n",
       "       6.2, 5.6, 6.5, 2.4, 7.6, 6.1, 8.6, 8.5, 8.8, 5.5, 5.1, 5.7, 5.4,\n",
       "       4.4, 4.5, 5.3, 4.1, 8.4, 2.6, 3.8, 4.6, 4.8, 4. , 3. , 1.6, 4.2,\n",
       "       5.2, 4.7, 4.9, 3.9, 2.7, 3.3, 2.9, 3.7, 1.4, 3.1, 3.5, 3.2, 2.8,\n",
       "       1.5, 2.1, 2.5, 9.2, 3.4, 1.1, 3.6, 1. , 1.3, 1.9, 1.8, 1.2, 1.7,\n",
       "       9. , 8.9, 9.1])"
      ]
     },
     "execution_count": 20,
     "metadata": {},
     "output_type": "execute_result"
    }
   ],
   "source": [
    "df['ratings'].unique() # остальные пропуски нельзя заполнить без знания четких данных"
   ]
  },
  {
   "cell_type": "code",
   "execution_count": 21,
   "metadata": {},
   "outputs": [],
   "source": [
    "df['show_start_date'] = pd.to_datetime(\n",
    "    df['show_start_date'], format='%Y-%m-%dT%H:%M:%S.%fZ') # перевод в соответствующий формат"
   ]
  },
  {
   "cell_type": "code",
   "execution_count": 22,
   "metadata": {},
   "outputs": [
    {
     "data": {
      "text/plain": [
       "0      NaN\n",
       "1      NaN\n",
       "2      NaN\n",
       "3      NaN\n",
       "4      NaN\n",
       "        ..\n",
       "7481   NaN\n",
       "7482   NaN\n",
       "7483   NaN\n",
       "7484   NaN\n",
       "7485   NaN\n",
       "Name: box_office, Length: 7486, dtype: float64"
      ]
     },
     "execution_count": 22,
     "metadata": {},
     "output_type": "execute_result"
    }
   ],
   "source": [
    "df['box_office'].round() # оставим данные этого столбца с типом данных float для корректного построения графиков"
   ]
  },
  {
   "cell_type": "markdown",
   "metadata": {
    "id": "i0MOLbF-gFyP"
   },
   "source": [
    "#### Шаг 2.2. Изучите пропуски в датафрейме\n",
    "\n",
    "- Объясните, почему заполнили пропуски определённым образом или почему не стали этого делать."
   ]
  },
  {
   "cell_type": "code",
   "execution_count": 23,
   "metadata": {},
   "outputs": [
    {
     "data": {
      "text/plain": [
       "title                     0.00\n",
       "pu_number                 0.00\n",
       "show_start_date           0.00\n",
       "type                      0.00\n",
       "film_studio               0.24\n",
       "production_country        0.03\n",
       "director                  0.12\n",
       "producer                  7.59\n",
       "age_restriction           0.00\n",
       "refundable_support       95.57\n",
       "nonrefundable_support    95.57\n",
       "budget                   95.57\n",
       "financing_source         95.57\n",
       "ratings                  13.30\n",
       "genres                   13.04\n",
       "box_office               57.81\n",
       "dtype: float64"
      ]
     },
     "execution_count": 23,
     "metadata": {},
     "output_type": "execute_result"
    }
   ],
   "source": [
    "round(df.isna().sum()/len(df)*100,2)"
   ]
  },
  {
   "cell_type": "markdown",
   "metadata": {
    "id": "8MJD_lkngFyP"
   },
   "source": [
    "Практически половина пропусков в столбце box_office. Незначительное количество в слобцах ratings, producer и genres. И практически не заполненные столбцы refundable_support, nonrefundable_support, budget, financing_source. Заполнение пропусков в столбцах с типом данных object не имеет смысла без знания правильных данных и скорее всего эти данные не важны для исследования. Схожая ситуация с данными числовых типов, заполнить их не возможно без знания конкретных данных, но важность их для исследования велика. Заполнить их медианной или средним также не возможно, так как пропущенных данных в большинстве столбцов больше 90 %."
   ]
  },
  {
   "cell_type": "markdown",
   "metadata": {
    "id": "4c6k1t9ygFyQ"
   },
   "source": [
    "#### Шаг 2.3. Изучите дубликаты в датафрейме\n",
    "- Проверьте, есть ли в данных дубликаты. Опишите причины, которые могли повлиять на появление дублей."
   ]
  },
  {
   "cell_type": "code",
   "execution_count": 24,
   "metadata": {
    "id": "aKck8RIdgFyQ"
   },
   "outputs": [
    {
     "data": {
      "text/plain": [
       "title                    0.0\n",
       "pu_number                0.0\n",
       "type                     0.0\n",
       "film_studio              0.0\n",
       "production_country       0.0\n",
       "director                 0.0\n",
       "producer                 0.0\n",
       "age_restriction          0.0\n",
       "refundable_support       0.0\n",
       "nonrefundable_support    0.0\n",
       "budget                   0.0\n",
       "financing_source         0.0\n",
       "ratings                  0.0\n",
       "genres                   0.0\n",
       "box_office               0.0\n",
       "dtype: float64"
      ]
     },
     "execution_count": 24,
     "metadata": {},
     "output_type": "execute_result"
    }
   ],
   "source": [
    "df.loc[df.duplicated()].sum()"
   ]
  },
  {
   "cell_type": "code",
   "execution_count": 25,
   "metadata": {},
   "outputs": [
    {
     "data": {
      "text/plain": [
       "2"
      ]
     },
     "execution_count": 25,
     "metadata": {},
     "output_type": "execute_result"
    }
   ],
   "source": [
    "df['pu_number'].duplicated().sum() # незначительное количество дубликатов в этом столбце"
   ]
  },
  {
   "cell_type": "code",
   "execution_count": 26,
   "metadata": {},
   "outputs": [
    {
     "data": {
      "text/plain": [
       "714"
      ]
     },
     "execution_count": 26,
     "metadata": {},
     "output_type": "execute_result"
    }
   ],
   "source": [
    "df['title'].duplicated().sum()"
   ]
  },
  {
   "cell_type": "markdown",
   "metadata": {},
   "source": [
    "Есть значительное количество строчек, которые практически полность повторяются, но у них разный номер прокатного удостоверения, скорее всего у одного фильма может быть несколько прокатных удостоверений, поэтому их нельзя считать за дубликаты."
   ]
  },
  {
   "cell_type": "markdown",
   "metadata": {
    "id": "52fOPrEBgFyQ"
   },
   "source": [
    "#### Шаг 2.4. Изучите категориальные значения\n",
    "\n",
    "- Посмотрите, какая общая проблема встречается почти во всех категориальных столбцах;\n",
    "- Исправьте проблемные значения в поле `type`.\n",
    "\n",
    "<div id=\"accordion\">\n",
    "    <div class=\"card\">\n",
    "        <div class=\"card-header\" id=\"headingThree\">\n",
    "            <button class=\"btn btn-link collapsed\" data-toggle=\"collapse\" data-target=\"#collapseHint_1\" aria-expanded=\"false\" aria-controls=\"collapseHint_1\">Подсказка</button>\n",
    "        </div>\n",
    "        <div id=\"collapseHint_1\" class=\"collapse\" aria-labelledby=\"headingThree\" data-parent=\"#accordion\">\n",
    "            <div class=\"card-body\">\n",
    "В поле <code>type</code> есть несколько значений, у которых появился пробел в начале строки. Самый простой способ их «починить» -- использовать метод <a href=\"https://pandas.pydata.org/docs/reference/api/pandas.Series.str.strip.html#pandas.Series.str.strip\">.str.strip</a>. Этот метод удаляет все пробелы, которые встречаются в начале и в конце строки. Применяют его таким образом:<br>\n",
    "<code>df['type'].str.strip()</code>\n",
    "            </div>\n",
    "        </div>\n",
    "    </div>\n",
    "</div>"
   ]
  },
  {
   "cell_type": "code",
   "execution_count": 27,
   "metadata": {
    "id": "PnXKIVdFgFyR"
   },
   "outputs": [
    {
     "data": {
      "text/plain": [
       "array(['Художественный', 'Анимационный', 'Прочие', 'Документальный',\n",
       "       'Научно-популярный', ' Художественный', ' Анимационный',\n",
       "       'Музыкально-развлекательный'], dtype=object)"
      ]
     },
     "execution_count": 27,
     "metadata": {},
     "output_type": "execute_result"
    }
   ],
   "source": [
    "df['type'].unique() # у всех категориальных данных есть проблема с пробелами, в том числе и у столбца type."
   ]
  },
  {
   "cell_type": "code",
   "execution_count": 28,
   "metadata": {},
   "outputs": [],
   "source": [
    "for column in ['title', 'type', 'film_studio','production_country', 'director', 'producer', 'age_restriction','financing_source', 'genres']:\n",
    "    df[column] = df[column].str.strip()"
   ]
  },
  {
   "cell_type": "code",
   "execution_count": 29,
   "metadata": {},
   "outputs": [
    {
     "data": {
      "text/plain": [
       "array(['Художественный', 'Анимационный', 'Прочие', 'Документальный',\n",
       "       'Научно-популярный', 'Музыкально-развлекательный'], dtype=object)"
      ]
     },
     "execution_count": 29,
     "metadata": {},
     "output_type": "execute_result"
    }
   ],
   "source": [
    "df['type'].unique() # код успешно работает"
   ]
  },
  {
   "cell_type": "code",
   "execution_count": 30,
   "metadata": {},
   "outputs": [
    {
     "data": {
      "text/html": [
       "<div>\n",
       "<style scoped>\n",
       "    .dataframe tbody tr th:only-of-type {\n",
       "        vertical-align: middle;\n",
       "    }\n",
       "\n",
       "    .dataframe tbody tr th {\n",
       "        vertical-align: top;\n",
       "    }\n",
       "\n",
       "    .dataframe thead th {\n",
       "        text-align: right;\n",
       "    }\n",
       "</style>\n",
       "<table border=\"1\" class=\"dataframe\">\n",
       "  <thead>\n",
       "    <tr style=\"text-align: right;\">\n",
       "      <th></th>\n",
       "      <th>title</th>\n",
       "      <th>type</th>\n",
       "      <th>film_studio</th>\n",
       "      <th>production_country</th>\n",
       "      <th>director</th>\n",
       "      <th>producer</th>\n",
       "      <th>age_restriction</th>\n",
       "      <th>financing_source</th>\n",
       "      <th>genres</th>\n",
       "    </tr>\n",
       "  </thead>\n",
       "  <tbody>\n",
       "    <tr>\n",
       "      <th>count</th>\n",
       "      <td>7486</td>\n",
       "      <td>7486</td>\n",
       "      <td>7468</td>\n",
       "      <td>7484</td>\n",
       "      <td>7477</td>\n",
       "      <td>6918</td>\n",
       "      <td>7486</td>\n",
       "      <td>332</td>\n",
       "      <td>6510</td>\n",
       "    </tr>\n",
       "    <tr>\n",
       "      <th>unique</th>\n",
       "      <td>6772</td>\n",
       "      <td>6</td>\n",
       "      <td>5462</td>\n",
       "      <td>934</td>\n",
       "      <td>4801</td>\n",
       "      <td>5334</td>\n",
       "      <td>5</td>\n",
       "      <td>3</td>\n",
       "      <td>742</td>\n",
       "    </tr>\n",
       "    <tr>\n",
       "      <th>top</th>\n",
       "      <td>День святого Валентина_</td>\n",
       "      <td>Художественный</td>\n",
       "      <td>Киностудия \"Мосфильм\"</td>\n",
       "      <td>США</td>\n",
       "      <td>О.Семёнова</td>\n",
       "      <td>П.Смирнов</td>\n",
       "      <td>«16+» - для детей старше 16 лет</td>\n",
       "      <td>Министерство культуры</td>\n",
       "      <td>драма</td>\n",
       "    </tr>\n",
       "    <tr>\n",
       "      <th>freq</th>\n",
       "      <td>5</td>\n",
       "      <td>5909</td>\n",
       "      <td>345</td>\n",
       "      <td>2175</td>\n",
       "      <td>60</td>\n",
       "      <td>67</td>\n",
       "      <td>2851</td>\n",
       "      <td>164</td>\n",
       "      <td>476</td>\n",
       "    </tr>\n",
       "  </tbody>\n",
       "</table>\n",
       "</div>"
      ],
      "text/plain": [
       "                          title            type            film_studio  \\\n",
       "count                      7486            7486                   7468   \n",
       "unique                     6772               6                   5462   \n",
       "top     День святого Валентина_  Художественный  Киностудия \"Мосфильм\"   \n",
       "freq                          5            5909                    345   \n",
       "\n",
       "       production_country    director   producer  \\\n",
       "count                7484        7477       6918   \n",
       "unique                934        4801       5334   \n",
       "top                   США  О.Семёнова  П.Смирнов   \n",
       "freq                 2175          60         67   \n",
       "\n",
       "                        age_restriction       financing_source genres  \n",
       "count                              7486                    332   6510  \n",
       "unique                                5                      3    742  \n",
       "top     «16+» - для детей старше 16 лет  Министерство культуры  драма  \n",
       "freq                               2851                    164    476  "
      ]
     },
     "execution_count": 30,
     "metadata": {},
     "output_type": "execute_result"
    }
   ],
   "source": [
    "df.describe(include='object')"
   ]
  },
  {
   "cell_type": "code",
   "execution_count": 31,
   "metadata": {},
   "outputs": [
    {
     "data": {
      "text/plain": [
       "array(['США', 'СССР', 'Франция', 'СССР, Венгрия',\n",
       "       'Германия-Великобритания', 'Великобритания - Италия',\n",
       "       'Чехословакия', 'США - Франция - Турция', 'Новая Зеландия',\n",
       "       'Канада - Франция - Испания', 'США-Германия',\n",
       "       'США - Великобритания', 'Великобритания', 'США - Германия',\n",
       "       'Франция - Мексика - США', 'Россия, Казахстан, США',\n",
       "       'СССР, Швеция', 'СССР, Франция, Англия, Куба, ГДР', 'Германия',\n",
       "       'Великобритания-США-Германия-КНР',\n",
       "       'СССР, ЧССР, Западный Берлин, ПНР', 'СССР, Италия', 'Гонконг, КНР',\n",
       "       'США - Франция', 'США - Япония - Франция - Великобритания',\n",
       "       'Гонконг - Сингапур - Таиланд - Великобритания', 'США-Канада',\n",
       "       'Франция - Италия - Великобритания - США', 'Франция - США',\n",
       "       'Ирландия-Великобритания-Германия', 'Чехия', 'США-Австралия',\n",
       "       'СССР, Финляндия', 'США-Франция-Великобритания-Австрия',\n",
       "       'США - Бельгия', 'США - Ирландия - Великобритания',\n",
       "       'Великобритания - США',\n",
       "       'Люксембург - Нидерланды - Испания - Великобритания - США - Италия',\n",
       "       'Великобритания - Франция - США', 'Новая Зеландия - США',\n",
       "       'США - Великобритания - Чехия',\n",
       "       'Канада - Франция - Великобритания', 'Ирландия',\n",
       "       'Великобритания - Германия - США',\n",
       "       'США - Франция - Великобритания', 'Япония', 'СССР, Польша',\n",
       "       'Франция - Испания', 'Канада-Франция', 'Германия - Италия - США',\n",
       "       'Аргентина - Бразилия', 'Дания - Швейцария - Бельгия - Франция',\n",
       "       'США - Испания', 'Германия - США',\n",
       "       'Франция - Австрия - Германия - Италия - США', 'Австрия',\n",
       "       'США - Канада - Германия', 'США - Канада',\n",
       "       'СССР - Швейцария - Франция', 'Россия - Казахстан', 'Гонконг',\n",
       "       'Италия', 'США - ОАЭ', 'Россия',\n",
       "       'США - Франция - Испания - Великобритания',\n",
       "       'Великобритания - Франция', 'США-Италия-Испания-Аргентина',\n",
       "       'Франция-Великобритания', 'КНР - Гонконг',\n",
       "       'Франция - Италия - Швейцария', 'США - Новая Зеландия',\n",
       "       'Франция - Бельгия', 'КНР', 'Германия - Великобритания - Австрия',\n",
       "       'Великобритания - Израиль - Франция - Япония - США', 'Швеция',\n",
       "       'Испания', 'Дания', 'Франция - Бельгия - Люксембург',\n",
       "       'США - Индия - ОАЭ',\n",
       "       'Германия-Канада-Великобритания-Швейцария-Франция',\n",
       "       'Мексика - Чили', 'Аргентина', 'Бразилия', 'Чили', 'Австралия',\n",
       "       'Португалия - Франция', 'США - ЮАР', 'Исландия-Ирландия-Германия',\n",
       "       'США-Индонезия', 'Южная Корея', 'Мексика - Испания - Дания - США',\n",
       "       'Великобритания-США', 'Франция - Италия', 'США-Франция',\n",
       "       'США - Венгрия - Великобритания', 'Бельгия-Франция-Италия',\n",
       "       'Чехия - Германия', 'Германия - Франция', 'США-Нидерланды',\n",
       "       'Украина', 'Великобритания - Германия', 'Франция-Бельгия',\n",
       "       'США-Франция-Испания', 'Италия - Франция', 'Канада',\n",
       "       'Швеция-Франция-Дания', 'Германия-Франция-Польша',\n",
       "       'Франция-Великобритания - Германия',\n",
       "       'США - Бразилия - Франция - Австралия - Великобритания - Германия',\n",
       "       'Германия-Австрия', 'Германия-Италия- Шри-Ланка',\n",
       "       'Великобритания - Испания',\n",
       "       'США - Великобритания - Канада - Швеция',\n",
       "       'Босния и Герцеговина - Франция - Великобритания - Германия - Словения - Бельгия - Сербия',\n",
       "       'Великобритания - Франция - Италия - США', 'США-ОАЭ',\n",
       "       'Испания - Франция', 'США-Великобритания', 'США-ЮАР',\n",
       "       'Великобритания-Австралия - США',\n",
       "       'Норвегия - Швеция - Дания - Германия', 'Норвегия', 'Швейцария',\n",
       "       'Греция - Германия - Франция', 'Норвения', 'Южная Корея - США',\n",
       "       'Чили - Франция - США', 'Австрия - Германия - Франция',\n",
       "       'Швеция - Дания', 'Великобритания - Франция - Бельгия - Италия',\n",
       "       'Франция - Германия', 'Грузия - Франция - Люксембург',\n",
       "       'США - Франция - Великобритания - Бразилия', 'США - КНР',\n",
       "       'Мексика - Франция', 'США - Германия - Гонконг - Сингапур',\n",
       "       'Финляндия - Австрия - Россия', 'Испания - Куба',\n",
       "       'Великобритания - ЮАР', 'Великобритания - Ирландия', 'Израиль',\n",
       "       'Бразилия - Германия - Порртугалия - Франция',\n",
       "       'Франция - Канада - Бельгия', 'Франция-Испания',\n",
       "       'Испания - Канада - Япония', 'Иран', 'Швеция-Куба',\n",
       "       'США-Великобритания-Ирландия', 'Гонконг - КНР', 'Нидерланды',\n",
       "       'Испания - Канада', 'Япония-Великобритания',\n",
       "       'Великобритания - Норвегия - Дания - Германия',\n",
       "       'Финляндия - Франция - Германия',\n",
       "       'Мексика - Франция - Нидерланды - Германия', 'США - Индия',\n",
       "       'США-Великобритания-Индия', 'США-Канада-Бельгия',\n",
       "       'Республика Узбекистан', 'Турция',\n",
       "       'Сербия - Словения - Хорватия - Черногория - Македония',\n",
       "       'Киргизия', 'Германия - Нидерланды - Беларусь - Россия - Латвия',\n",
       "       'Индия', 'Нидерланды - Россия - Германия',\n",
       "       'Великобритания - Нидерланды - Франция - Хорватия',\n",
       "       'Канада - Южная Корея',\n",
       "       'Великобритания - Польша - КНР - Индия - Норвегия',\n",
       "       'Япония - Франция - США - Южная Корея - Турция',\n",
       "       'Мексика - Аргентина - Великобритания', 'Израиль - Франция',\n",
       "       'Польша - Португалия - Франция - Великобритания',\n",
       "       'Австралия - США', 'Франция - Люксембург - Бельгия', 'Армения',\n",
       "       'Бельгия - Люксембург - Франция - Швейцария',\n",
       "       'США - Великобритания - Канада', 'Норвегия - Швеция',\n",
       "       'Канада - Франция', 'КНР - Гонконг - США',\n",
       "       'США - Сингапур - Малайзия - Индонезия', 'Германия - Россия',\n",
       "       'Япония - Канада', 'Финляндия - Дания - Германия - Ирландия',\n",
       "       'Франция - Люксембург - Германия - Бельгия - Швейцария - Великобритания',\n",
       "       'Канада - США', 'США-Италия-Испания', 'США-Испания',\n",
       "       'США - Швейцария - Франция', 'Испания - США - Колумбия',\n",
       "       'Канада-ЮАР', 'Франция - Россия',\n",
       "       'Германия - Финляндия - Австралия', 'Дания - Швеция', 'Бельгия',\n",
       "       'Германия - Франция - Австрия', 'Франция-Индия', 'ЮАР',\n",
       "       'Франция-Перу', 'Франция - Канада', 'Республика Беларусь',\n",
       "       'Великобритания - Австрия - Франция - США',\n",
       "       'Австрия-Германия-Франция', 'США-Россия', 'Германия-США',\n",
       "       'США - Южная Корея', 'Канада - КНР',\n",
       "       'Дания - Швеция - Италия - Франция - Германия',\n",
       "       'Франция-Италия-Испания-Венгрия', 'Франция - Германия - Бельгия',\n",
       "       'Франция-Великобритания-Чехия', 'Румыния - Франция - Бельгия',\n",
       "       'Болгария - Франция - Изриль',\n",
       "       'Израиль - Германия - Польша - Бельгия - Франция - Люксембург',\n",
       "       'Россия, Германия, Франция, Бельгия', 'Индонезия',\n",
       "       'Франция - Португалия', 'Великобритания - Пуэрто-Рико',\n",
       "       'СССР, ФРГ, Западный Берлин', 'Россия, Республика Беларусь',\n",
       "       'США, Великобритания', 'Франция - Австрия', 'Бельгия-Нидерланды',\n",
       "       'Великобритания - США - Индия', 'США - Великобритания - Австралия',\n",
       "       'Канада - Франция - США - ОАЭ - Великобритания',\n",
       "       'США - Австралия - Франция',\n",
       "       'Дания-Франция-Бельгия-Германия-Великобритания',\n",
       "       'Испания - Аргентина', 'Исландия - Финляндия',\n",
       "       'Россия-Польша-Голландия-Словакия', 'Дания - Германия - Швеция',\n",
       "       'Южная Корея - США - Канада', 'Таиланд', 'США-Мальта',\n",
       "       'США -Германия',\n",
       "       'Великобритания - Германия - Франция - Кипр - США', 'Мексика',\n",
       "       'США - Великобритания - Ирландия', 'США - Украина',\n",
       "       'США - Финляндия - Испания - Великобритания - Франция',\n",
       "       'Австралия-Великобритания',\n",
       "       'США - Канада - Афганистан - Бельгия - Франция',\n",
       "       'США - Великобритания - Германия - Новая Зеландия - Бельгия - Франция',\n",
       "       'Франция-Канада',\n",
       "       'Ирландия - Финляндия - Бельгия - Великобритания - США - Швейцария',\n",
       "       'Малайзия - США', 'Германия - Италия',\n",
       "       'США - Франция - Бельгия - Италия', 'Франция - Ирландия - Швеция',\n",
       "       'Азербайджан-Россия', 'Великобритания - Италия - Швейцария',\n",
       "       'США - Германия - Великобритания',\n",
       "       'Германия - Бельгия - США -Франция', 'США-Китай', 'Чили - Испания',\n",
       "       'Франция - Швейцария', 'Канада - Испания',\n",
       "       'США - Румыния - Великобритания', 'США - Япония',\n",
       "       'США - Россия - Франция', 'Франция-США', 'Парагвай',\n",
       "       'Германия - Канада', 'США - Канада - Великобритания',\n",
       "       'Финляндия - Канада', 'Уругвай-Мексика-Германия', 'США - Чили',\n",
       "       'Германия - Аргентина - Нидерланды - Чили',\n",
       "       'США - Канада - Индонезия', 'Армения - Казахстан', 'Финляндия',\n",
       "       'Испания - Италия - Франция',\n",
       "       'Бельгия - Испания - Канада - Нидерланды',\n",
       "       'Великобритания - Франция - Швеция - Бельгия',\n",
       "       'Мексика - Эквадор - Канада - США - Франция - Малайзия - Италия - Аргентина - Германия - Индия',\n",
       "       'Франция - Бенльгия', 'Индия - Великобритания',\n",
       "       'Япония - Великобритания - Франция',\n",
       "       'Испания - Уругвай - Аргентина',\n",
       "       'Франция - Италия - Бельгия - Люксембург',\n",
       "       'Франция - Украина - Грузия - Армения',\n",
       "       'Сербия - Германия - Венгрия', 'Франция-Польша', 'Румыния-США',\n",
       "       'Россия-Азербайджан',\n",
       "       'США - Нидерланды - Бельгия - Венгрия - Греция - Канада',\n",
       "       'Германия - Франция - Люксембург', 'США - Россия',\n",
       "       'Великобритания - США - Франция', 'США - Австралия - Дания',\n",
       "       'Бельгия-Франция', 'США-Мексика',\n",
       "       'Норвегия - Азербайджан - Россия - Колумбия - Великобритания - Венгрия - Румыния - Франция - Грузия',\n",
       "       'СЩА', 'Бразилия - Испания', 'Россия, Франция, Латвия',\n",
       "       'Нидерланды - США - Германия - Канада - Франция - Ирландия - Великобритания',\n",
       "       'Уругвай - Колумбия', 'США - Испания - Болгария',\n",
       "       'Армения - Германия', 'США - Великобритания- Франция - Швеция',\n",
       "       'США - Мексика', 'Австралия-Турция-США', 'Швеция - Германия',\n",
       "       'Польша - Италия - Россия', 'Франция - Бразилия',\n",
       "       'США - Канада - КНР', 'СССР, Венгрия, ЧССР, ГДР',\n",
       "       'Бельгия - Германия - Люксембург', 'США - Австралия',\n",
       "       'Бразилия - США', 'США - Великобритания - Канада - КНР',\n",
       "       'Франция - Чили',\n",
       "       'Франция - США - Великобритания - Колумбия - Бельгия - Россия',\n",
       "       'Дания - Великобритания - ЮАР', 'Россия-США-Канада-Люксембург',\n",
       "       'Россия - Республика Кипр', 'Германия - США - Швеция - Франция',\n",
       "       'Великобритания-Германия-Канада-ЮАР', 'Ирландия, Канада',\n",
       "       'Япония - Великобритания - Швейцария - Ирландия - Дания - Франция - Польша - Австралия - Канада',\n",
       "       'Великобритания, Канада', 'Бельгия - США',\n",
       "       'Великобритания - США - Россия', 'Россия-Украина',\n",
       "       'Германия - США - Великобритания - Израиль', 'Канада - Германия',\n",
       "       'США- Ю.Корея', 'Индия - Мексика',\n",
       "       'Великобритания - Франция - Республика Кипр - Швейцария - США - Сербия',\n",
       "       'Испания - Аргентина - Индия - США',\n",
       "       'Норвегия - Исландия - США - Великобритания',\n",
       "       'Турция - Германя - Франция', 'Германия - Великобритания',\n",
       "       'Австралия - Германия', 'Мексика - Испания',\n",
       "       'Великобритания - США - Германия - Бельгия',\n",
       "       'США - Чехия - Франция', 'Россия - Италия', 'Франция-Россия',\n",
       "       'Норвегия - Дания - Швеция', 'Франция - Швейцария - Германия',\n",
       "       'Грузия - Украина', 'Россия - Эстония - Финляндия - Беларусь',\n",
       "       'США - Франция - ЮАР', 'Великобритания - США - Швейцария',\n",
       "       'Канада-США', 'Мексика - Нидерланды - Германия - Франция',\n",
       "       'США - Испания - Франция', 'США - Великобритания - КНР',\n",
       "       'США-Франция-Канада',\n",
       "       'Япония, Великобритания, Австрия, Германия, Ю.Корея',\n",
       "       'Великобритания - Ирландия - США', 'Бельгия - Италия - Франция',\n",
       "       'Швейцария-Германия-ЮАР', 'Великобритания - США - Германия',\n",
       "       'Германия - Исландия', 'Испания - США', 'Хорватия',\n",
       "       'Финляндия - Исландия - Швеция',\n",
       "       'Канада - США - Германия - Франция',\n",
       "       'США - Великобритания - Испания', 'Ирландия-Великобритания',\n",
       "       'Аргентина - Испания', 'Австрия - Германия',\n",
       "       'Германия - Швейцария - Франция - Южная Корея - США',\n",
       "       'Украина - Нидерланды', 'Венгрия - Германия - Швеция',\n",
       "       'Германия - Франция -  Польша - Турция - Канада - Италия - Россия',\n",
       "       'СССР, Афганистан', 'СССР, Монголия', 'Россия-Кипр',\n",
       "       'Россия, Грузия, Испания',\n",
       "       'Великобритания - Нидерланды - Германия - Франция - Бельгия - Австрия',\n",
       "       'Испания - Великобритания - Франция',\n",
       "       'Дания - Норвегия - Великобритания',\n",
       "       'Бельгия - Франция - Люксембург',\n",
       "       'Италия - Франция - Швейцария - Великобритания',\n",
       "       'Франция - Бельгия - Великобритания - Испания - Германия - США',\n",
       "       'Швейцария - Израиль - Франция - Великобритания',\n",
       "       'Великобритания - США - Канада - Нидерланды - Франция',\n",
       "       'Россия, Италия', 'СССР, Албания',\n",
       "       'Россия, Украина, Республика Беларусь, Литва',\n",
       "       'Финляндия - Великобритания - Германия', 'Россия, Украина, Польша',\n",
       "       'Франция - Италия - Бельгия - КНР',\n",
       "       'Германия - Бельгия - Люксембург - Ирландия', 'КНР - Сингапур',\n",
       "       'Франция - Бельгия - Великобритания - США - Нидерланды - Канада',\n",
       "       'США - Россия - Польша - Германия - Пуэрто Рико',\n",
       "       'Франция - Бельгия - Канада', 'Мексика - США',\n",
       "       'США - Гонконг - КНР', 'Греция - Россия',\n",
       "       'Ирландия - Дания - Бельгия - Люксембург - Франция',\n",
       "       'Эстония - Россия',\n",
       "       'Великобритания - Исландия - Испания - Швейцария - США',\n",
       "       'Австралия - Великобритания - Бельгия - Индия',\n",
       "       'Швеция - Германия - Франция - Норвегия',\n",
       "       'Нидерланды - Бельгия - Германия - Ирландия',\n",
       "       'Нидерланды - Великобритания - Бельгия',\n",
       "       'США - Колумбия - Испания', 'Франция-Испания-Бельгия-Панама',\n",
       "       'США-Великобритания-Чехия-Румыния',\n",
       "       'Аргентина - Уругвай - Россия - Германия - Франция - Нидерланды',\n",
       "       'Швеция - Франция - Норвегия - Дания',\n",
       "       'Италия-Франция-Великобритания', 'Великобритания, Франция',\n",
       "       'Австралия, США', 'Венесуэла',\n",
       "       'Великобритания - США - Австралия - Ирландия - Германия - Куба - Канада',\n",
       "       'Южная Корея - КНР',\n",
       "       'Аргентина - Мексика - Бразилия - Франция - США', 'Швеция - США',\n",
       "       'Франция - Германия - Турция - Катар', 'Франция-Китай',\n",
       "       'Россия, Германия, Великобритания',\n",
       "       'Великобритания - Италия - Испания', 'Италия - Россия',\n",
       "       'Япония - КНР - Южная Корея', 'Россия, Германия',\n",
       "       'Россия-Ирландия', 'Македония - Франция - Великобритания',\n",
       "       'Франция - Бразилия - Италия', 'Россия-США', 'Армения-Россия',\n",
       "       'Россия, Румыния', 'Франция -  Бельгия', 'Грузия-Франция',\n",
       "       'ЮАР - США', 'Великобритания-США-Франция',\n",
       "       'Великобритания - США - Германия - Канада - Австралия',\n",
       "       'США-Ирландия', 'Россия, Республика Кипр',\n",
       "       'Германия - Люксембург - Франция', 'Россия-Франция',\n",
       "       'США - Нидерланды - Финляндия - Великобритания - Италия',\n",
       "       'Республика Кипр', 'Венгрия', 'Франция - США - Норвегия - Дания',\n",
       "       'Германия - Австрия - Ирландия', 'США - Финляндия',\n",
       "       'Италия-Великобритания', 'Россия, Испания',\n",
       "       'США - Великобритания - Болгария', 'Великобритания - Люксембург',\n",
       "       'Индия - США', 'США - Канада - Россия - Франция - Чили - Ирландия',\n",
       "       'Грузия-Россия',\n",
       "       'Дания - Австрия - Ирландия - Финляндия - Норвегия - Швеция - Нидерланды',\n",
       "       'США-КНР', 'Грузия', 'Австралия - Ирландия',\n",
       "       'Великобритания - Канада', 'Италия - Аргентина - Словения',\n",
       "       'Испания - Франция - Нидерланды - Германия - Бельгия - Великобритания - Канада',\n",
       "       'Франция - Чехия - Бельгия',\n",
       "       'Великобритания - Франция - Германия - США',\n",
       "       'Ирландия - Великобритания - Франция - США - Германия - Нидерланды',\n",
       "       'США - Канада - Япония - КНР', 'Италия-Франция',\n",
       "       'США - Великобритания - Исландия', 'Великобритания-Франция',\n",
       "       'Франция - Германия - Нидерланды',\n",
       "       'Франция - Германия - Швеция - США - Чехия - Словакия - Великобритания - Нидерланды',\n",
       "       'Франция - Канада - Н.Зеландия - США - Нидерланды - Германия - Швеция - Россия',\n",
       "       'Турция - США',\n",
       "       'Великобритания - США - Канада - Бельгия - Нидерланды - Австрия - Германия',\n",
       "       'Израиль - Франция - Германия - Палестина - США - Австрия - Великобритания',\n",
       "       'Аргентина - Франция - Испания', 'СССР, Россия',\n",
       "       'Великобритания - Франция - Италия - Индия - Дания - КНР - Бангладеш - Камбоджа - Гаити - Уганда',\n",
       "       'Италия - Франция - Швейцария',\n",
       "       'Ирландия - Великобритания - Канада', 'Перу', 'США - Норвегия',\n",
       "       'Испания-Канада', 'Китай-Гонконг', 'США - Германия - КНР',\n",
       "       'Великобритания - Новая Зеландия',\n",
       "       'Франция - Дания - Швеция - КНР',\n",
       "       'США - Великобритания - Германия - Бельгия - Дания',\n",
       "       'США - Франция - Канада - Германия - Австралия - Индия', nan,\n",
       "       'СССР, Румыния, Франция', 'СССР, ГДР', 'Австралия-Ирландия',\n",
       "       'США - Китай', 'Великобритания - Франция - Австрия - Швеция',\n",
       "       'Россия, Таджикистан', 'Нидерланды - Бельгия - Болгария',\n",
       "       'Великобритания - Канада - США', 'Франция - Бельгия - Испания',\n",
       "       'Китай-Гонконг-США', 'Франция - Великобритания', 'США - Вьетнам',\n",
       "       'США - Германия - Франция', 'Германия - Франция - Бельгия',\n",
       "       'США - Италия',\n",
       "       'Германия - Дания - Испания - Швеция - Канада - Эстония - Франция',\n",
       "       'Княжество Андорра - Украина', 'Германия - Люксембург - Бельгия',\n",
       "       'Великобритания - Россия - Украина - США',\n",
       "       'Германия - Бельгия - Люксембург - Норвегия',\n",
       "       'США - Австралия - Новая Зеландия - Великобритания',\n",
       "       'США - Франция - Канада - Великобритания', 'Испания-Колумбия',\n",
       "       'Великобритания - Чехия - Франция', 'Россия, Украина', 'Исландия',\n",
       "       'Великобритания - Франция - Венгрия',\n",
       "       'Россия, Франция, Германия, Бельгия', 'Франция - Македония',\n",
       "       'Нидерланды - Франция - Германия - Бельгия - Швеция - Великобритания',\n",
       "       'Испания - США - Великобритания - Канада', 'Германия - Австрия',\n",
       "       'Республика Казахстан',\n",
       "       'Франция - Испания - Дания - Венгрия - Швейцария', 'Франция-КНР',\n",
       "       'США - Пуэрто-Рико - Франция', 'Мексика - Тайвань - США',\n",
       "       'Великобритания - Испания - Непал - Индия - Венгрия - Гонконг - Германия - Дания - Бахрейн',\n",
       "       'Великобритания - Аргентина - США - Франция - Россия - Испания',\n",
       "       'КНР - США', 'Италия - США', 'Финляндия - Швеция - Германия',\n",
       "       'Канада- Испания', 'Франция - Бельгия - Чехия',\n",
       "       'Франция-Бельгия-Канада', 'Франция - Германия - США',\n",
       "       'США - Дания', 'Индия - КНР', 'Чехия-Великобритания-США',\n",
       "       'США-ФРГ-Россия', 'Ирландия-Нидерланды-Франция-США-Великобритания',\n",
       "       'Россия, Грузия, Хорватия, Испания',\n",
       "       'Финляндия - Швеция - Норвегия', 'Сербия - Великобритания - США',\n",
       "       'США - Великобритания - Франция - Гонконг', 'Швейцария - Франция',\n",
       "       'Швейцария - Великобритания', 'ОАЭ - США',\n",
       "       'США - Франция - Германия - Канада - Австралия',\n",
       "       'Германия - Австралия', 'Иран, Франция',\n",
       "       'США - Великобритания - Новая Зеландия', 'США-Колумбия',\n",
       "       'США-Франция-Ирландия', 'Великобритания - Франция - Бельгия',\n",
       "       'США - Великобритания - Япония', 'США - Франция - Германия',\n",
       "       'Польша - Ирландия', 'Ирландия - Великобритания - Франция - США',\n",
       "       'США - Бельгия - Великобритания', 'СССР, ВНР',\n",
       "       'Испания - Франция - США - Великобритания - Бельгия',\n",
       "       'Франция - Дания - США', 'США - Гонконг', 'Бразилия - К;анада',\n",
       "       'Франция-Германия', 'США - Колумбия',\n",
       "       'США - Ирландия - Великобритания - Франция',\n",
       "       'Великобритания - США - Канада', 'Польша - Франция',\n",
       "       'Канада - США - Нидерланды - Великобритания - Аргентина',\n",
       "       'Великобритания - Дания', 'Франция - Бельгия - Япония',\n",
       "       'Россия,  Испания', 'Франция -Бельгия',\n",
       "       'США - Канада - Германия - Франция', 'США-Канада-Франция',\n",
       "       'Россия - Германия', 'Россия-Италия', 'Китай - Гонконг',\n",
       "       'Германия-Австрия-Франция-Италия', 'США-Япония',\n",
       "       'США - Германия - Канада', 'Испания-Мексика',\n",
       "       'США - Япония - Канада - Великобритания - Германия - Франция',\n",
       "       'США -Великобритания - Австралия', 'Россия-Украина-Германия',\n",
       "       'Израиль - Франция - Великобритания - Германия', 'Корея',\n",
       "       'Россия - Болгария', 'США-Индия',\n",
       "       'Германия-Канада-Франция-Бельгия', 'Германия-Кения',\n",
       "       'Франция - Монако', 'Франция-Испания-Швейцария',\n",
       "       'Австрия-Франция-Германия', 'Румыния',\n",
       "       'США-Великобритания-Франция', 'Канада-Великобритания',\n",
       "       'Канада-Бразилия-Япония', 'Германия - Дания - Норвегия',\n",
       "       'Дания - Германия', 'СССР - Италия',\n",
       "       'СССР - ГДР - Польша - Италия',\n",
       "       'США - Испания - Франция - Великобритания', 'Китай',\n",
       "       'Мексика-Аргентина',\n",
       "       'Германия - Великобритания - Италия - Испания',\n",
       "       'Франция-Германия-Великобритания', 'Россия - Германия - Швейцария',\n",
       "       'Франция-Австралия', 'Голландия', 'Швейцария-Франция',\n",
       "       'Россия-Белоруссия', 'Франция - Испания - Тайвань',\n",
       "       'США-Южная Корея-Новая Зеландия', 'Великобритания-Венгрия',\n",
       "       'Россия-Германия', 'Великобритания-Франция-Германия',\n",
       "       'Франция-Германия-Италия', 'Швеция-Финляндия-Франция-Норвегия',\n",
       "       'Франция-Италия', 'Германия-Израиль',\n",
       "       'Швеция - Германия - Дания - Норвегия', 'США-Бельгия',\n",
       "       'Франция-Гонконг-Ирландия', 'Эстония', 'Литва-Россия-Украина',\n",
       "       'Германия - Италия - Франция',\n",
       "       'Великобритания - Австрия - Германия', 'Бельгия - Франция',\n",
       "       'Россия-Казахстан', 'Испания - Мальта',\n",
       "       'Франция-Россия-Румыния-Италия-Бельгия', 'Россия - Польша',\n",
       "       'Испания - Мексика', 'США-Аргентина', 'Израиль-США-Франция',\n",
       "       'США - Новая Зеландия - Япония',\n",
       "       'Франция - Чехия - Великобритания', 'Россия-Польша',\n",
       "       'Германия-Франция-Великобритания', 'США-Германия-Канада',\n",
       "       'США-Гонконг-Китай', 'США - Великобритания - Германия',\n",
       "       'США-Канада-Австралия', 'Япония-США-Франция',\n",
       "       'Франция-Испания-Германия', 'США - Хорватия - Босния-Герцеговина',\n",
       "       'Великобритания - Чехия - Франция - Италия',\n",
       "       'США - Германия - Нидерланды', 'Германия - Франция - Канада',\n",
       "       'Франция-Грузия-Германия-Россия-Украина-Бельгия',\n",
       "       'Великобритания - Франция - Италия', 'Россия - США',\n",
       "       'Франция - Италия - Иран', 'Россия - Азербайджан', 'Греция',\n",
       "       'Дания - США', 'США-Великобритания-Новая Зеландия',\n",
       "       'США-Германия-Австралия', 'США-Канада-Италия',\n",
       "       'США - Япония - Германия', 'Австралия-США',\n",
       "       'Франция - Великобритания - Багамские острова - США',\n",
       "       'Швейцария - Люксембург', 'Швейцария - Австрия',\n",
       "       'Германия - Швейцария', 'Дания-Швеция-Франция-Германия', 'Польша',\n",
       "       'Швейцария-Австрия', 'Бразилия - Канада - США',\n",
       "       'Нидерланды - Россия', 'Португалия', 'Франция-Аргентина',\n",
       "       'Швеция-Франция', 'Франция-Украина', 'Германия-Украина-Нидерланды',\n",
       "       'Италия-Швейцария', 'США-Германия-Великобритания',\n",
       "       'Латвия - Россия', 'Германия-Франция-Великобритания-США',\n",
       "       'Канада - Италия', 'США - Объединенные Арабские Эмираты',\n",
       "       'США-Венгрия', 'Малайзия', 'Россия - Германия - Украина',\n",
       "       'США - Австралия - Мексика', 'Литва - Венгрия', 'Германия - Китай',\n",
       "       'Казахстан', 'Республика Корея',\n",
       "       'США - Германия - Франция - Великобритания - Канада',\n",
       "       'Бельгия - Германия - Люксембург - Франция', 'Франция - Греция',\n",
       "       'Италия - Канада', 'США - Великобритания - Франция',\n",
       "       'США-Италия-Греция', 'Германия - США - Великобритания - Ирландия',\n",
       "       'Великобритания - Франция - Германия',\n",
       "       'Германия - Нидерланды - ЮАР',\n",
       "       'США-Япония-Германия-Великобритания-Нидерланды',\n",
       "       'США-Япония-Германия-Великобритания',\n",
       "       'Германия - Франция - Польша',\n",
       "       'Таиланд-Великобритания-Франция-Германия-Испания-Нидерланды',\n",
       "       'Германия-Италия-Швейцария',\n",
       "       'Дания - Швеция - Великобритания - Франция - Германия - Нидерланды - Норвегия - Финляндия',\n",
       "       'Франция - Великобритания - Нидерланды - Люксембург',\n",
       "       'Нидерланды-Великобритания-Франция-Италия-Япония',\n",
       "       'Финляндия-Дания-Германия-Ирландия', 'Испания-Аргентина',\n",
       "       'Великобритания - Нидерланды - Франция - США', 'Канада - Мексика',\n",
       "       'США, Франция', 'Канада-Южная Корея-США',\n",
       "       'Великобритания - Франция - Бельгия - США', 'КНР - Канада - США',\n",
       "       'Италия - Франция - Германия',\n",
       "       'Швеция - Германия - Франция - Дания', 'Франция - США - Бельгия',\n",
       "       'Украина - Германия - Латвия - Эстония', 'Австрия - Люксембург',\n",
       "       'Великобритания - КНР', 'Монголия', 'Франция - Дания',\n",
       "       'Швеция - Дания - Финляндия',\n",
       "       'Сингапур - Великобритания - Индонезия - Канада - США',\n",
       "       'США - Германия - Япония', 'Таиланд - США', 'Франция - Нидерланды',\n",
       "       'Великобритания - Румыния', 'США - Мальта',\n",
       "       'Великобритания - Германия - Нидерланды - Дания',\n",
       "       'Франция - Германия - Литва - Нидерланды - Россия',\n",
       "       'США - ЮАР - Гонконг', 'Австралия - Колумбия',\n",
       "       'Великобритания - Польша', 'США - Великобритания - Швеция',\n",
       "       'Франция - Швеция - Дания - Норвегия', 'Болгария - США',\n",
       "       'СССР, ФРГ', 'Бельгия - Нидерланды - Франция',\n",
       "       'Финляндия - Германия', 'Болгария',\n",
       "       'Грузия - Россия - Украина - Хорватия - Германия',\n",
       "       'Франция - Люксембург', 'Франция - Германия - Австрия',\n",
       "       'Норвегия - США', 'Германия-Швеция', 'Франция - Германия - Италия',\n",
       "       'Франция-Германия-Австрия', 'КНР-США',\n",
       "       'Дания - Латвия - Россия - США', 'Финляндия - Польша',\n",
       "       'Германия - Бельгия', 'Германия - США - Франция - Испания',\n",
       "       'Бельгия-Германия-Канада-Франция-США-Великобритания',\n",
       "       'Нидерланды - Бельгия - Люксембург', 'Канада-Германия',\n",
       "       'Люксембург - Бельгия - Франция', 'США-Великобритания-Австралия',\n",
       "       'Великобритания, Новая Зеландия', 'Бельгия, Великобритания, США',\n",
       "       'Великобритания, Австралия', 'Исландия, Бельгия',\n",
       "       'Испания - Швейцария - Великобритания - Германия - Новая Зеландия - Нидерланды - Канада',\n",
       "       'Франция, Бельгия', 'Великобритания, США', 'Киргизия-Россия',\n",
       "       'Германия, США', 'Великобритания, США, Испания',\n",
       "       'Италия - Швейцария - Германия', 'Россия, Армения',\n",
       "       'Франция, Германия', 'Китай, Канада, США', 'Германия, Австралия',\n",
       "       'КНР, США', 'США, Великобритания, Люксембург',\n",
       "       'Испания, Ирландия, Бельгия, Франция',\n",
       "       'Великобритания - Гонконг - Венгрия - США - Ирландия',\n",
       "       'США - Пуэрто Рико', 'Аргентина - Испания - Уругвай',\n",
       "       'Израиль - Германия - Франция - Швейцария',\n",
       "       'Великобритания - Мексика - США', 'Испания - Болгария - США',\n",
       "       'Россия-Словакия-Чехия',\n",
       "       'Швейцария - КНР - США - Россия - Республика Корея - Великобритания',\n",
       "       'Россия, Нидерланды, Финляндия',\n",
       "       'Испания - Бельгия - Франция - Португалия - Великобритания',\n",
       "       'Бразилия - Португалия - Франция', 'Швеция - Норвегия',\n",
       "       'Франция - Польша - Бельгия', 'CША', 'Китай, США',\n",
       "       'Италия, Франция, Германия', 'Германия - Австрия - Франция',\n",
       "       'Чехия - Словакия - Хорватия', 'Россия, Польша, Финляндия',\n",
       "       'Россия, Латвия, Чешская Республика',\n",
       "       'Франция - Великобритания - Камбоджа - США - КНР',\n",
       "       'Чехия - Испания - США', 'Германия - Люксембург - Дания',\n",
       "       'Великобритания - Испания - Германия', 'Дания - Исландия',\n",
       "       'Германия, Франция, Великобритания',\n",
       "       'Великобритания - Испания - Италия - Латвия - Франция - Эстония',\n",
       "       'Дания, Швеция, Великобритания, Франция, Германия, Норвегия, Финляндия, Нидерланды, Италия',\n",
       "       'Польша - Франция - Великобритания',\n",
       "       'Дания, Норвегия, Венгрия, Чехия',\n",
       "       'Дания - Франция - Германия - Швеция',\n",
       "       'Великобритания, Швеция, США',\n",
       "       'Канада, Франция, Италия, Швейцария, США', 'США, Индия',\n",
       "       'США - Великобритания - Германия - - Швеция - Канада',\n",
       "       'Италия, Франция', 'Республика Беларусь, Германия, США, Россия',\n",
       "       'Италия-Швейцария-Франция-Германия',\n",
       "       'Россия - Франция - Великобритания - Латвия', 'Россия-Беларусь',\n",
       "       'Франция - Испания - Румыния - США - Бельгия', 'Италия-США',\n",
       "       'Россия, Австрия', 'Ирландия - Великобритания - США',\n",
       "       'Швейцария, Великобритания, Франция, США, Ирландия',\n",
       "       'Мексика, Франция, Германия, Дания, Швеция', 'Нидерланды, Бельгия',\n",
       "       'Швеция, Норвегия, Финляндия, Франция', 'Испания, Франция, Италия',\n",
       "       'Испания-Франция-Греция-Индия-США-Россия-Великобритания',\n",
       "       'Великобритания - Япония - США',\n",
       "       'Дания, Канада, Норвегия, Австралия, США', 'Аргентина, Испания',\n",
       "       'Россия, Германия, Казахстан, Польша, Китай',\n",
       "       'Португалия, Франция, Польша, США', 'США - Канада - Аргентина',\n",
       "       'Ливан-США', 'Япония - США', 'США, Гонконг',\n",
       "       'Франция - Россия - Швейцария - Румыния - Венгрия',\n",
       "       'Аргентина-Испания', 'Россия, Сербия', 'США - Болгария - Мексика',\n",
       "       'США - Великобритания - Швейцария - Франция',\n",
       "       'Таиланд - КНР - США',\n",
       "       'Великобритания, Нидерланды, Польша, Швейцария, Франция',\n",
       "       'Ирландия - США',\n",
       "       'Германия - Франция - Великобритания - Польша - США',\n",
       "       'Великобритания-Франция-Италия', 'США - Австралия - Индия',\n",
       "       'Франция - КНР', 'Великобритания - Израиль',\n",
       "       'Великобритания - Норвегия - Кения - Хорватия',\n",
       "       'США - Бразилия - Великобритания - Канада', 'Германия, Бельгия',\n",
       "       'Австралия, Канада', 'США, Великобритания, Франция',\n",
       "       'Кения, Германия', 'Нидерланды, Бельгия, Люксембург', 'Колумбия',\n",
       "       'Латвия - Франция', 'Ирландия, Великобритания',\n",
       "       'Франция - Израиль - Германия', 'Швеция, Франция, Великобритания',\n",
       "       'Бельгия - Люксембург', 'Германия - Бельгия - Великобритания',\n",
       "       'Испания, Франция, Великобритания, Дания, Бельгия, Германия',\n",
       "       'Румыния, ЮАР, Иран, Франция, Канада, Великобритания',\n",
       "       'Германия, Франция', 'США, Япония',\n",
       "       'США, Великобритания, Ирландия, Люксембург', 'Республика Армения',\n",
       "       'США, Франция, Япония', 'Япония, США', 'Канада, США',\n",
       "       'Республика Кипр - Россия',\n",
       "       'Дания - Франция - Италия - Бельгия - Нидерланды',\n",
       "       'Россия - Грузия', 'Италия, Германия', 'Норвегия, Швеция, Дания',\n",
       "       'Республика Кипр, Россия', 'КНР, Индия, Гонконг, США',\n",
       "       'Израиль, Украина', 'США, Россия', 'США - КНР - Индия - Ю.Корея',\n",
       "       'США - Швеция', 'Франция, Канада', 'Россия-Китай',\n",
       "       'Канада, Великобритания', 'США, Германия',\n",
       "       'Канада, США, Каймановы острова',\n",
       "       'Бразилия, Уругвай, Дания, Норвегия, Чили, Швеция',\n",
       "       'Пуэрто-Рико, Великобритания, США',\n",
       "       'Уругвай - Аргентина - Испания',\n",
       "       'США - Великобритания - Италия - Израиль - Сербия - Индия',\n",
       "       'США - Канада - Франция - Индия', 'Великобритания - Россия - КНР',\n",
       "       'Франция, Новая Зеландия', 'Франция, Люксембург, Бельгия',\n",
       "       'Канада, США, Норвегия', 'Италия, Испания',\n",
       "       'Испания - Германия - Нидерланды', 'Бразилия - США - КНР',\n",
       "       'Великобритания, Германия, Дания, США', '2019',\n",
       "       'Италия - Фрация - Бразилия - Германия',\n",
       "       'Норвегия - Швеция - Россия', 'Великобритания, Япония, США',\n",
       "       'Сша, Канада', 'Бельгия, Канада',\n",
       "       'Великобритания - Австралия - США', 'США, Канада',\n",
       "       'Франция - Финляндия', 'Колумбия - США',\n",
       "       'Великобритания, Франция, Бельгия', 'Норвегия - Нидерланды',\n",
       "       'Великобритания, Канада, США', 'Япония, Великобритания',\n",
       "       'Италия - Бельгия - Франция', 'Россия, Бельгия, Финляндия',\n",
       "       'США, Украина', 'Франция, Норвегия',\n",
       "       'Великобритания, Южная Корея, Канада, США, Индия, Китай, Япония',\n",
       "       'Канада - Норвегия', 'Республика Кипр-Россия', 'Германия, Россия',\n",
       "       'Польша - Франция - Испания - Бразилия - Швеция',\n",
       "       'Австрия, Великобритания, Германия', 'Франция - Сенегал - Бельгия',\n",
       "       'Франция, Бельгия, Люксембург', 'Финляндия, Латвия', 'Пакистан',\n",
       "       'Германия, Франция, США', 'Германия - Великобритания - США',\n",
       "       'КНР - Франция', 'Дания, Норвегия, Швеция, Исландия',\n",
       "       'Республика Кипр, США, Россия', 'Новая Зеландия - КНР',\n",
       "       'Дания - Канада - Швеция - Франция - Германия - Великобритания - США'],\n",
       "      dtype=object)"
      ]
     },
     "execution_count": 31,
     "metadata": {},
     "output_type": "execute_result"
    }
   ],
   "source": [
    "df['production_country'].unique() # есть два способа написания стран через '-' или ',' поэтому нужно привести к одному варианту"
   ]
  },
  {
   "cell_type": "code",
   "execution_count": 32,
   "metadata": {},
   "outputs": [],
   "source": [
    "df['production_country'] = df['production_country'].dropna().apply(lambda x: ', '.join([x.strip() for x in x.split('-')]))"
   ]
  },
  {
   "cell_type": "markdown",
   "metadata": {
    "id": "XFSN5lrEgFyR"
   },
   "source": [
    "#### Шаг 2.5. Проверьте количественные значения\n",
    "\n",
    "- Проверьте, обнаружились ли в таких столбцах подозрительные данные. Как с такими данными лучше поступить?\n",
    "\n",
    "<div id=\"accordion\">\n",
    "    <div class=\"card\">\n",
    "        <div class=\"card-header\" id=\"headingThree\">\n",
    "            <button class=\"btn btn-link collapsed\" data-toggle=\"collapse\" data-target=\"#collapseHint_budget\" aria-expanded=\"false\" aria-controls=\"collapseHint_budget\">Подсказка</button>\n",
    "        </div>\n",
    "        <div id=\"collapseHint_budget\" class=\"collapse\" aria-labelledby=\"headingThree\" data-parent=\"#accordion\">\n",
    "            <div class=\"card-body\">\n",
    "Обратите внимание на описание столбца <code>budget</code>. Как этот столбец соотносится с двумя другими: <code>refundable_support</code> и <code>nonrefundable_support</code>?\n",
    "            </div>\n",
    "        </div>\n",
    "    </div>\n",
    "</div>"
   ]
  },
  {
   "cell_type": "code",
   "execution_count": 33,
   "metadata": {},
   "outputs": [
    {
     "data": {
      "text/html": [
       "<div>\n",
       "<style scoped>\n",
       "    .dataframe tbody tr th:only-of-type {\n",
       "        vertical-align: middle;\n",
       "    }\n",
       "\n",
       "    .dataframe tbody tr th {\n",
       "        vertical-align: top;\n",
       "    }\n",
       "\n",
       "    .dataframe thead th {\n",
       "        text-align: right;\n",
       "    }\n",
       "</style>\n",
       "<table border=\"1\" class=\"dataframe\">\n",
       "  <thead>\n",
       "    <tr style=\"text-align: right;\">\n",
       "      <th></th>\n",
       "      <th>title</th>\n",
       "      <th>budget</th>\n",
       "      <th>refundable_support</th>\n",
       "      <th>nonrefundable_support</th>\n",
       "    </tr>\n",
       "  </thead>\n",
       "  <tbody>\n",
       "    <tr>\n",
       "      <th>0</th>\n",
       "      <td>14+</td>\n",
       "      <td>0.0</td>\n",
       "      <td>0.0</td>\n",
       "      <td>23000000.0</td>\n",
       "    </tr>\n",
       "    <tr>\n",
       "      <th>1</th>\n",
       "      <td>Дуxless 2</td>\n",
       "      <td>0.0</td>\n",
       "      <td>0.0</td>\n",
       "      <td>75000000.0</td>\n",
       "    </tr>\n",
       "    <tr>\n",
       "      <th>2</th>\n",
       "      <td>Воин (2015)</td>\n",
       "      <td>0.0</td>\n",
       "      <td>10000000.0</td>\n",
       "      <td>70000000.0</td>\n",
       "    </tr>\n",
       "    <tr>\n",
       "      <th>3</th>\n",
       "      <td>Бармен.</td>\n",
       "      <td>0.0</td>\n",
       "      <td>20000000.0</td>\n",
       "      <td>0.0</td>\n",
       "    </tr>\n",
       "    <tr>\n",
       "      <th>4</th>\n",
       "      <td>Савва. Сердце воина</td>\n",
       "      <td>0.0</td>\n",
       "      <td>60000000.0</td>\n",
       "      <td>100000000.0</td>\n",
       "    </tr>\n",
       "    <tr>\n",
       "      <th>5</th>\n",
       "      <td>Тряпичный союз</td>\n",
       "      <td>0.0</td>\n",
       "      <td>0.0</td>\n",
       "      <td>59000000.0</td>\n",
       "    </tr>\n",
       "    <tr>\n",
       "      <th>6</th>\n",
       "      <td>Срочно выйду замуж</td>\n",
       "      <td>0.0</td>\n",
       "      <td>0.0</td>\n",
       "      <td>35000000.0</td>\n",
       "    </tr>\n",
       "    <tr>\n",
       "      <th>7</th>\n",
       "      <td>Помню - не помню!</td>\n",
       "      <td>0.0</td>\n",
       "      <td>0.0</td>\n",
       "      <td>6000000.0</td>\n",
       "    </tr>\n",
       "    <tr>\n",
       "      <th>8</th>\n",
       "      <td>Любовь с ограничениями</td>\n",
       "      <td>0.0</td>\n",
       "      <td>19000000.0</td>\n",
       "      <td>51000000.0</td>\n",
       "    </tr>\n",
       "    <tr>\n",
       "      <th>9</th>\n",
       "      <td>Притяжение (2016)</td>\n",
       "      <td>0.0</td>\n",
       "      <td>0.0</td>\n",
       "      <td>250000000.0</td>\n",
       "    </tr>\n",
       "    <tr>\n",
       "      <th>10</th>\n",
       "      <td>Чудо-юдо</td>\n",
       "      <td>0.0</td>\n",
       "      <td>20000000.0</td>\n",
       "      <td>20000000.0</td>\n",
       "    </tr>\n",
       "    <tr>\n",
       "      <th>11</th>\n",
       "      <td>Мифы</td>\n",
       "      <td>0.0</td>\n",
       "      <td>25000000.0</td>\n",
       "      <td>20000000.0</td>\n",
       "    </tr>\n",
       "    <tr>\n",
       "      <th>12</th>\n",
       "      <td>Селфи</td>\n",
       "      <td>0.0</td>\n",
       "      <td>20000000.0</td>\n",
       "      <td>40000000.0</td>\n",
       "    </tr>\n",
       "    <tr>\n",
       "      <th>13</th>\n",
       "      <td>Два хвоста</td>\n",
       "      <td>0.0</td>\n",
       "      <td>10000000.0</td>\n",
       "      <td>60000000.0</td>\n",
       "    </tr>\n",
       "    <tr>\n",
       "      <th>14</th>\n",
       "      <td>Принцесса и дракон</td>\n",
       "      <td>0.0</td>\n",
       "      <td>40000000.0</td>\n",
       "      <td>40000000.0</td>\n",
       "    </tr>\n",
       "    <tr>\n",
       "      <th>15</th>\n",
       "      <td>Баба Яга</td>\n",
       "      <td>0.0</td>\n",
       "      <td>0.0</td>\n",
       "      <td>138969465.0</td>\n",
       "    </tr>\n",
       "    <tr>\n",
       "      <th>16</th>\n",
       "      <td>Большое путешествие</td>\n",
       "      <td>0.0</td>\n",
       "      <td>60000000.0</td>\n",
       "      <td>120000000.0</td>\n",
       "    </tr>\n",
       "  </tbody>\n",
       "</table>\n",
       "</div>"
      ],
      "text/plain": [
       "                     title  budget  refundable_support  nonrefundable_support\n",
       "0                      14+     0.0                 0.0             23000000.0\n",
       "1                Дуxless 2     0.0                 0.0             75000000.0\n",
       "2              Воин (2015)     0.0          10000000.0             70000000.0\n",
       "3                  Бармен.     0.0          20000000.0                    0.0\n",
       "4      Савва. Сердце воина     0.0          60000000.0            100000000.0\n",
       "5           Тряпичный союз     0.0                 0.0             59000000.0\n",
       "6       Срочно выйду замуж     0.0                 0.0             35000000.0\n",
       "7        Помню - не помню!     0.0                 0.0              6000000.0\n",
       "8   Любовь с ограничениями     0.0          19000000.0             51000000.0\n",
       "9        Притяжение (2016)     0.0                 0.0            250000000.0\n",
       "10                Чудо-юдо     0.0          20000000.0             20000000.0\n",
       "11                    Мифы     0.0          25000000.0             20000000.0\n",
       "12                   Селфи     0.0          20000000.0             40000000.0\n",
       "13              Два хвоста     0.0          10000000.0             60000000.0\n",
       "14      Принцесса и дракон     0.0          40000000.0             40000000.0\n",
       "15                Баба Яга     0.0                 0.0            138969465.0\n",
       "16     Большое путешествие     0.0          60000000.0            120000000.0"
      ]
     },
     "execution_count": 33,
     "metadata": {},
     "output_type": "execute_result"
    }
   ],
   "source": [
    "pd.DataFrame(df[df['budget'] == 0][['title','budget','refundable_support','nonrefundable_support']]).reset_index(drop=True)"
   ]
  },
  {
   "cell_type": "markdown",
   "metadata": {},
   "source": [
    "Есть некоторое количество фильмов, где бюджет равен 0, но при этом поддержка от государства не 0. В теории можно было бы заполнить эти строки с помощью выражения budget = refundable_support + nonrefundable_support, проблема только в том, что если посмотреть на строки где заполнены все три столбца можно понять, что это не сработает, так как фильмы представленные в таблице в большинстве своём имеют также альтернативные источники финансирования по мимо государственной поддержки, поэтому оставляю все как есть."
   ]
  },
  {
   "cell_type": "markdown",
   "metadata": {
    "id": "Eu6oWp2CgFyS"
   },
   "source": [
    "#### Шаг 2.6. Добавьте новые столбцы\n",
    "\n",
    "\n",
    "\n"
   ]
  },
  {
   "cell_type": "markdown",
   "metadata": {
    "id": "7GgW-UpAgFyS"
   },
   "source": [
    "- Создайте столбец с информацией о годе проката. Выделите год из даты премьеры фильма."
   ]
  },
  {
   "cell_type": "code",
   "execution_count": 34,
   "metadata": {
    "id": "I-yd1DkWgFyT"
   },
   "outputs": [],
   "source": [
    "df['show_start_date_year'] = df['show_start_date'].dt.year"
   ]
  },
  {
   "cell_type": "markdown",
   "metadata": {
    "id": "nFTDLDYOgFyT"
   },
   "source": [
    "- Создайте два столбца: с именем и фамилией главного режиссёра и основным жанром фильма. В столбцы войдут первые значения из списка режиссёров и жанров соответственно.\n",
    "\n",
    "<div id=\"accordion\">\n",
    "    <div class=\"card\">\n",
    "        <div class=\"card-header\" id=\"headingThree\">\n",
    "            <button class=\"btn btn-link collapsed\" data-toggle=\"collapse\" data-target=\"#collapseHint_2\" aria-expanded=\"false\" aria-controls=\"collapseHint_2\">Подсказка</button>\n",
    "        </div>\n",
    "        <div id=\"collapseHint_2\" class=\"collapse\" aria-labelledby=\"headingThree\" data-parent=\"#accordion\">\n",
    "            <div class=\"card-body\">\n",
    "Чтобы создать такие столбцы, лучше всего использовать собственную функцию. Эту функцию можно применить к двум столбцам сразу. \n",
    "            </div>\n",
    "        </div>\n",
    "    </div>\n",
    "</div>"
   ]
  },
  {
   "cell_type": "code",
   "execution_count": 35,
   "metadata": {
    "id": "LSbRZKbMgFyU"
   },
   "outputs": [],
   "source": [
    "def add_main(df, columns):\n",
    "    for column in columns:\n",
    "        df[f'main_{column}'] = df[column].dropna().apply(lambda x: x.split(', ')[0])\n",
    "    return df"
   ]
  },
  {
   "cell_type": "code",
   "execution_count": 36,
   "metadata": {},
   "outputs": [],
   "source": [
    "df = add_main(df, ['director', 'genres'])"
   ]
  },
  {
   "cell_type": "code",
   "execution_count": 37,
   "metadata": {},
   "outputs": [],
   "source": [
    "df['main_genres'] = df['genres'].str.split(',').str[0]"
   ]
  },
  {
   "cell_type": "markdown",
   "metadata": {
    "id": "1FsCXHwdgFyU"
   },
   "source": [
    "- Посчитайте, какую долю от общего бюджета фильма составляет государственная поддержка."
   ]
  },
  {
   "cell_type": "code",
   "execution_count": 38,
   "metadata": {
    "id": "LV6qFuZLgFyV"
   },
   "outputs": [],
   "source": [
    "df['support_in_percentage'] = (df['refundable_support'] + df['nonrefundable_support']) / df['budget']"
   ]
  },
  {
   "cell_type": "code",
   "execution_count": 39,
   "metadata": {},
   "outputs": [
    {
     "data": {
      "text/html": [
       "<div>\n",
       "<style scoped>\n",
       "    .dataframe tbody tr th:only-of-type {\n",
       "        vertical-align: middle;\n",
       "    }\n",
       "\n",
       "    .dataframe tbody tr th {\n",
       "        vertical-align: top;\n",
       "    }\n",
       "\n",
       "    .dataframe thead th {\n",
       "        text-align: right;\n",
       "    }\n",
       "</style>\n",
       "<table border=\"1\" class=\"dataframe\">\n",
       "  <thead>\n",
       "    <tr style=\"text-align: right;\">\n",
       "      <th></th>\n",
       "      <th>title</th>\n",
       "      <th>pu_number</th>\n",
       "      <th>show_start_date</th>\n",
       "      <th>type</th>\n",
       "      <th>film_studio</th>\n",
       "      <th>production_country</th>\n",
       "      <th>director</th>\n",
       "      <th>producer</th>\n",
       "      <th>age_restriction</th>\n",
       "      <th>refundable_support</th>\n",
       "      <th>nonrefundable_support</th>\n",
       "      <th>budget</th>\n",
       "      <th>financing_source</th>\n",
       "      <th>ratings</th>\n",
       "      <th>genres</th>\n",
       "      <th>box_office</th>\n",
       "      <th>show_start_date_year</th>\n",
       "      <th>main_director</th>\n",
       "      <th>main_genres</th>\n",
       "      <th>support_in_percentage</th>\n",
       "    </tr>\n",
       "  </thead>\n",
       "  <tbody>\n",
       "    <tr>\n",
       "      <th>0</th>\n",
       "      <td>Открытый простор</td>\n",
       "      <td>221048915</td>\n",
       "      <td>2015-11-27 12:00:00</td>\n",
       "      <td>Художественный</td>\n",
       "      <td>Тачстоун Пикчерз, Кобальт Пикчерз, Бикон Пикче...</td>\n",
       "      <td>США</td>\n",
       "      <td>Кевин Костнер</td>\n",
       "      <td>Дэвид Валдес, Кевин Костнер, Джейк Эбертс</td>\n",
       "      <td>«18+» - запрещено для детей</td>\n",
       "      <td>NaN</td>\n",
       "      <td>NaN</td>\n",
       "      <td>NaN</td>\n",
       "      <td>NaN</td>\n",
       "      <td>7.2</td>\n",
       "      <td>боевик,драма,мелодрама</td>\n",
       "      <td>NaN</td>\n",
       "      <td>2015</td>\n",
       "      <td>Кевин Костнер</td>\n",
       "      <td>боевик</td>\n",
       "      <td>NaN</td>\n",
       "    </tr>\n",
       "    <tr>\n",
       "      <th>1</th>\n",
       "      <td>Особо важное задание</td>\n",
       "      <td>111013716</td>\n",
       "      <td>2016-09-13 12:00:00</td>\n",
       "      <td>Художественный</td>\n",
       "      <td>Киностудия \"Мосфильм\"</td>\n",
       "      <td>СССР</td>\n",
       "      <td>Е.Матвеев</td>\n",
       "      <td>NaN</td>\n",
       "      <td>«6+» - для детей старше 6 лет</td>\n",
       "      <td>NaN</td>\n",
       "      <td>NaN</td>\n",
       "      <td>NaN</td>\n",
       "      <td>NaN</td>\n",
       "      <td>6.6</td>\n",
       "      <td>драма,военный</td>\n",
       "      <td>NaN</td>\n",
       "      <td>2016</td>\n",
       "      <td>Е.Матвеев</td>\n",
       "      <td>драма</td>\n",
       "      <td>NaN</td>\n",
       "    </tr>\n",
       "    <tr>\n",
       "      <th>2</th>\n",
       "      <td>Особо опасен</td>\n",
       "      <td>221038416</td>\n",
       "      <td>2016-10-10 12:00:00</td>\n",
       "      <td>Художественный</td>\n",
       "      <td>Юниверсал Пикчерз, Кикстарт Продакшнз, Марк Пл...</td>\n",
       "      <td>США</td>\n",
       "      <td>Тимур Бекмамбетов</td>\n",
       "      <td>Джим Лемли, Джейсон Нетер, Марк Е.Платт, Яйн Смит</td>\n",
       "      <td>«18+» - запрещено для детей</td>\n",
       "      <td>NaN</td>\n",
       "      <td>NaN</td>\n",
       "      <td>NaN</td>\n",
       "      <td>NaN</td>\n",
       "      <td>6.8</td>\n",
       "      <td>фантастика,боевик,триллер</td>\n",
       "      <td>NaN</td>\n",
       "      <td>2016</td>\n",
       "      <td>Тимур Бекмамбетов</td>\n",
       "      <td>фантастика</td>\n",
       "      <td>NaN</td>\n",
       "    </tr>\n",
       "    <tr>\n",
       "      <th>3</th>\n",
       "      <td>Особо опасен</td>\n",
       "      <td>221026916</td>\n",
       "      <td>2016-06-10 12:00:00</td>\n",
       "      <td>Художественный</td>\n",
       "      <td>Юниверсал Пикчерз, Кикстарт Продакшнз, Марк Пл...</td>\n",
       "      <td>США</td>\n",
       "      <td>Тимур Бекмамбетов</td>\n",
       "      <td>Джим Лемли, Джейсон Нетер, Марк Е.Платт, Яйн Смит</td>\n",
       "      <td>«18+» - запрещено для детей</td>\n",
       "      <td>NaN</td>\n",
       "      <td>NaN</td>\n",
       "      <td>NaN</td>\n",
       "      <td>NaN</td>\n",
       "      <td>6.8</td>\n",
       "      <td>фантастика,боевик,триллер</td>\n",
       "      <td>NaN</td>\n",
       "      <td>2016</td>\n",
       "      <td>Тимур Бекмамбетов</td>\n",
       "      <td>фантастика</td>\n",
       "      <td>NaN</td>\n",
       "    </tr>\n",
       "    <tr>\n",
       "      <th>4</th>\n",
       "      <td>Особо опасен</td>\n",
       "      <td>221030815</td>\n",
       "      <td>2015-07-29 12:00:00</td>\n",
       "      <td>Художественный</td>\n",
       "      <td>Юниверсал Пикчерз, Кикстарт Продакшнз, Марк Пл...</td>\n",
       "      <td>США</td>\n",
       "      <td>Тимур Бекмамбетов</td>\n",
       "      <td>Джим Лемли, Джейсон Нетер, Марк Е.Платт, Яйн Смит</td>\n",
       "      <td>«18+» - запрещено для детей</td>\n",
       "      <td>NaN</td>\n",
       "      <td>NaN</td>\n",
       "      <td>NaN</td>\n",
       "      <td>NaN</td>\n",
       "      <td>6.8</td>\n",
       "      <td>фантастика,боевик,триллер</td>\n",
       "      <td>NaN</td>\n",
       "      <td>2015</td>\n",
       "      <td>Тимур Бекмамбетов</td>\n",
       "      <td>фантастика</td>\n",
       "      <td>NaN</td>\n",
       "    </tr>\n",
       "  </tbody>\n",
       "</table>\n",
       "</div>"
      ],
      "text/plain": [
       "                  title  pu_number     show_start_date            type  \\\n",
       "0      Открытый простор  221048915 2015-11-27 12:00:00  Художественный   \n",
       "1  Особо важное задание  111013716 2016-09-13 12:00:00  Художественный   \n",
       "2          Особо опасен  221038416 2016-10-10 12:00:00  Художественный   \n",
       "3          Особо опасен  221026916 2016-06-10 12:00:00  Художественный   \n",
       "4          Особо опасен  221030815 2015-07-29 12:00:00  Художественный   \n",
       "\n",
       "                                         film_studio production_country  \\\n",
       "0  Тачстоун Пикчерз, Кобальт Пикчерз, Бикон Пикче...                США   \n",
       "1                              Киностудия \"Мосфильм\"               СССР   \n",
       "2  Юниверсал Пикчерз, Кикстарт Продакшнз, Марк Пл...                США   \n",
       "3  Юниверсал Пикчерз, Кикстарт Продакшнз, Марк Пл...                США   \n",
       "4  Юниверсал Пикчерз, Кикстарт Продакшнз, Марк Пл...                США   \n",
       "\n",
       "            director                                           producer  \\\n",
       "0      Кевин Костнер          Дэвид Валдес, Кевин Костнер, Джейк Эбертс   \n",
       "1          Е.Матвеев                                                NaN   \n",
       "2  Тимур Бекмамбетов  Джим Лемли, Джейсон Нетер, Марк Е.Платт, Яйн Смит   \n",
       "3  Тимур Бекмамбетов  Джим Лемли, Джейсон Нетер, Марк Е.Платт, Яйн Смит   \n",
       "4  Тимур Бекмамбетов  Джим Лемли, Джейсон Нетер, Марк Е.Платт, Яйн Смит   \n",
       "\n",
       "                 age_restriction  refundable_support  nonrefundable_support  \\\n",
       "0    «18+» - запрещено для детей                 NaN                    NaN   \n",
       "1  «6+» - для детей старше 6 лет                 NaN                    NaN   \n",
       "2    «18+» - запрещено для детей                 NaN                    NaN   \n",
       "3    «18+» - запрещено для детей                 NaN                    NaN   \n",
       "4    «18+» - запрещено для детей                 NaN                    NaN   \n",
       "\n",
       "   budget financing_source  ratings                     genres  box_office  \\\n",
       "0     NaN              NaN      7.2     боевик,драма,мелодрама         NaN   \n",
       "1     NaN              NaN      6.6              драма,военный         NaN   \n",
       "2     NaN              NaN      6.8  фантастика,боевик,триллер         NaN   \n",
       "3     NaN              NaN      6.8  фантастика,боевик,триллер         NaN   \n",
       "4     NaN              NaN      6.8  фантастика,боевик,триллер         NaN   \n",
       "\n",
       "   show_start_date_year      main_director main_genres  support_in_percentage  \n",
       "0                  2015      Кевин Костнер      боевик                    NaN  \n",
       "1                  2016          Е.Матвеев       драма                    NaN  \n",
       "2                  2016  Тимур Бекмамбетов  фантастика                    NaN  \n",
       "3                  2016  Тимур Бекмамбетов  фантастика                    NaN  \n",
       "4                  2015  Тимур Бекмамбетов  фантастика                    NaN  "
      ]
     },
     "execution_count": 39,
     "metadata": {},
     "output_type": "execute_result"
    }
   ],
   "source": [
    "df.head(5)"
   ]
  },
  {
   "cell_type": "markdown",
   "metadata": {},
   "source": [
    "В исходных данных были найдены дубликаты и пропуски которые были успешно обработаны для нашего исследования. Большая часть пропусков была оставлена из-за не возможности их заполнения. В таблицу были добавленны: год премьеры фильма, столбцы с именем и фамилией главного режиссера и основного жанра фильма, и доля от общего бюджета фильма, которая составляла государственная поддержка."
   ]
  },
  {
   "cell_type": "markdown",
   "metadata": {
    "id": "6t4EukPLgFyV"
   },
   "source": [
    "### Шаг 3. Проведите исследовательский анализ данных\n"
   ]
  },
  {
   "cell_type": "markdown",
   "metadata": {
    "id": "vAH8WCzugFyV"
   },
   "source": [
    "- Посмотрите, сколько фильмов выходило в прокат каждый год. Обратите внимание, что данные о прокате в кинотеатрах известны не для всех фильмов. Посчитайте, какую долю составляют фильмы с указанной информацией о прокате в кинотеатрах."
   ]
  },
  {
   "cell_type": "code",
   "execution_count": 40,
   "metadata": {},
   "outputs": [],
   "source": [
    "in_year = df.pivot_table(index='show_start_date_year', values='box_office', aggfunc='count')"
   ]
  },
  {
   "cell_type": "code",
   "execution_count": 41,
   "metadata": {},
   "outputs": [
    {
     "data": {
      "text/html": [
       "<div>\n",
       "<style scoped>\n",
       "    .dataframe tbody tr th:only-of-type {\n",
       "        vertical-align: middle;\n",
       "    }\n",
       "\n",
       "    .dataframe tbody tr th {\n",
       "        vertical-align: top;\n",
       "    }\n",
       "\n",
       "    .dataframe thead th {\n",
       "        text-align: right;\n",
       "    }\n",
       "</style>\n",
       "<table border=\"1\" class=\"dataframe\">\n",
       "  <thead>\n",
       "    <tr style=\"text-align: right;\">\n",
       "      <th></th>\n",
       "      <th>box_office</th>\n",
       "    </tr>\n",
       "    <tr>\n",
       "      <th>show_start_date_year</th>\n",
       "      <th></th>\n",
       "    </tr>\n",
       "  </thead>\n",
       "  <tbody>\n",
       "    <tr>\n",
       "      <th>2019</th>\n",
       "      <td>530</td>\n",
       "    </tr>\n",
       "    <tr>\n",
       "      <th>2016</th>\n",
       "      <td>526</td>\n",
       "    </tr>\n",
       "    <tr>\n",
       "      <th>2018</th>\n",
       "      <td>475</td>\n",
       "    </tr>\n",
       "    <tr>\n",
       "      <th>2015</th>\n",
       "      <td>465</td>\n",
       "    </tr>\n",
       "    <tr>\n",
       "      <th>2017</th>\n",
       "      <td>357</td>\n",
       "    </tr>\n",
       "    <tr>\n",
       "      <th>2014</th>\n",
       "      <td>279</td>\n",
       "    </tr>\n",
       "    <tr>\n",
       "      <th>2013</th>\n",
       "      <td>184</td>\n",
       "    </tr>\n",
       "    <tr>\n",
       "      <th>2012</th>\n",
       "      <td>128</td>\n",
       "    </tr>\n",
       "    <tr>\n",
       "      <th>2011</th>\n",
       "      <td>109</td>\n",
       "    </tr>\n",
       "    <tr>\n",
       "      <th>2010</th>\n",
       "      <td>105</td>\n",
       "    </tr>\n",
       "  </tbody>\n",
       "</table>\n",
       "</div>"
      ],
      "text/plain": [
       "                      box_office\n",
       "show_start_date_year            \n",
       "2019                         530\n",
       "2016                         526\n",
       "2018                         475\n",
       "2015                         465\n",
       "2017                         357\n",
       "2014                         279\n",
       "2013                         184\n",
       "2012                         128\n",
       "2011                         109\n",
       "2010                         105"
      ]
     },
     "execution_count": 41,
     "metadata": {},
     "output_type": "execute_result"
    }
   ],
   "source": [
    "in_year.sort_values('box_office', ascending=False)"
   ]
  },
  {
   "cell_type": "code",
   "execution_count": 42,
   "metadata": {
    "id": "ABeV47y7gFyW"
   },
   "outputs": [
    {
     "data": {
      "text/plain": [
       "<AxesSubplot:title={'center':'Прокат фильмов по годам'}, xlabel='show_start_date_year'>"
      ]
     },
     "execution_count": 42,
     "metadata": {},
     "output_type": "execute_result"
    },
    {
     "data": {
      "image/png": "[encoded data removed]",
      "text/plain": [
       "<Figure size 432x288 with 1 Axes>"
      ]
     },
     "metadata": {
      "needs_background": "light"
     },
     "output_type": "display_data"
    }
   ],
   "source": [
    "in_year.plot(kind='bar', grid=True, title='Прокат фильмов по годам')"
   ]
  },
  {
   "cell_type": "code",
   "execution_count": 43,
   "metadata": {},
   "outputs": [
    {
     "data": {
      "text/plain": [
       "0.42"
      ]
     },
     "execution_count": 43,
     "metadata": {},
     "output_type": "execute_result"
    }
   ],
   "source": [
    "round(df.box_office.notna().mean(),2) # Доля фильмов, для которых есть информация о сборах"
   ]
  },
  {
   "cell_type": "markdown",
   "metadata": {},
   "source": [
    "По графику можно сказать, что идет увеличение числа фильмов в прокате за исключением 2017 года. Больше чем у половины фильмов отсутствует информация о сборах в кинотеатрах."
   ]
  },
  {
   "cell_type": "markdown",
   "metadata": {
    "id": "BEOdcIrIgFyW"
   },
   "source": [
    "- Изучите, как менялась динамика проката по годам. В каком году сумма сборов была минимальной? А максимальной?"
   ]
  },
  {
   "cell_type": "code",
   "execution_count": 44,
   "metadata": {},
   "outputs": [
    {
     "data": {
      "text/html": [
       "<div>\n",
       "<style scoped>\n",
       "    .dataframe tbody tr th:only-of-type {\n",
       "        vertical-align: middle;\n",
       "    }\n",
       "\n",
       "    .dataframe tbody tr th {\n",
       "        vertical-align: top;\n",
       "    }\n",
       "\n",
       "    .dataframe thead th {\n",
       "        text-align: right;\n",
       "    }\n",
       "</style>\n",
       "<table border=\"1\" class=\"dataframe\">\n",
       "  <thead>\n",
       "    <tr style=\"text-align: right;\">\n",
       "      <th></th>\n",
       "      <th>box_office</th>\n",
       "    </tr>\n",
       "    <tr>\n",
       "      <th>show_start_date_year</th>\n",
       "      <th></th>\n",
       "    </tr>\n",
       "  </thead>\n",
       "  <tbody>\n",
       "    <tr>\n",
       "      <th>2010</th>\n",
       "      <td>2.428654e+06</td>\n",
       "    </tr>\n",
       "    <tr>\n",
       "      <th>2011</th>\n",
       "      <td>1.410276e+07</td>\n",
       "    </tr>\n",
       "    <tr>\n",
       "      <th>2012</th>\n",
       "      <td>6.955423e+06</td>\n",
       "    </tr>\n",
       "    <tr>\n",
       "      <th>2013</th>\n",
       "      <td>2.979971e+07</td>\n",
       "    </tr>\n",
       "    <tr>\n",
       "      <th>2014</th>\n",
       "      <td>7.444952e+09</td>\n",
       "    </tr>\n",
       "    <tr>\n",
       "      <th>2015</th>\n",
       "      <td>3.949737e+10</td>\n",
       "    </tr>\n",
       "    <tr>\n",
       "      <th>2016</th>\n",
       "      <td>4.786630e+10</td>\n",
       "    </tr>\n",
       "    <tr>\n",
       "      <th>2017</th>\n",
       "      <td>4.856371e+10</td>\n",
       "    </tr>\n",
       "    <tr>\n",
       "      <th>2018</th>\n",
       "      <td>4.966840e+10</td>\n",
       "    </tr>\n",
       "    <tr>\n",
       "      <th>2019</th>\n",
       "      <td>4.842571e+10</td>\n",
       "    </tr>\n",
       "  </tbody>\n",
       "</table>\n",
       "</div>"
      ],
      "text/plain": [
       "                        box_office\n",
       "show_start_date_year              \n",
       "2010                  2.428654e+06\n",
       "2011                  1.410276e+07\n",
       "2012                  6.955423e+06\n",
       "2013                  2.979971e+07\n",
       "2014                  7.444952e+09\n",
       "2015                  3.949737e+10\n",
       "2016                  4.786630e+10\n",
       "2017                  4.856371e+10\n",
       "2018                  4.966840e+10\n",
       "2019                  4.842571e+10"
      ]
     },
     "execution_count": 44,
     "metadata": {},
     "output_type": "execute_result"
    }
   ],
   "source": [
    "box_office_per_year = df.pivot_table(index='show_start_date_year', values='box_office', aggfunc='sum')\n",
    "box_office_per_year"
   ]
  },
  {
   "cell_type": "code",
   "execution_count": 45,
   "metadata": {
    "id": "tfEhofYvgFyX"
   },
   "outputs": [
    {
     "data": {
      "text/plain": [
       "<AxesSubplot:title={'center':'суммы сборов по годам'}, xlabel='show_start_date_year'>"
      ]
     },
     "execution_count": 45,
     "metadata": {},
     "output_type": "execute_result"
    },
    {
     "data": {
      "image/png": "[encoded data removed]",
      "text/plain": [
       "<Figure size 432x288 with 1 Axes>"
      ]
     },
     "metadata": {
      "needs_background": "light"
     },
     "output_type": "display_data"
    }
   ],
   "source": [
    "box_office_per_year.plot(kind='bar', grid=True, title='суммы сборов по годам')"
   ]
  },
  {
   "cell_type": "markdown",
   "metadata": {},
   "source": [
    "Идет увеличение числа сборов за исключение некоторых годов и небольших погрешностей. Особенно значительное различие между 2013 и 2014 годами, и между 2014 и 2015 годами. В эти периоды происходили значительные скачки в сторону увеличения. Минимальной сумма была в 2010, а максимальной в 2018."
   ]
  },
  {
   "cell_type": "markdown",
   "metadata": {
    "id": "G-7qS-N-gFyY"
   },
   "source": [
    "- С помощью сводной таблицы посчитайте среднюю и медианную сумму сборов для каждого года."
   ]
  },
  {
   "cell_type": "code",
   "execution_count": 46,
   "metadata": {
    "id": "jmp-rgg9gFyY"
   },
   "outputs": [
    {
     "data": {
      "text/html": [
       "<div>\n",
       "<style scoped>\n",
       "    .dataframe tbody tr th:only-of-type {\n",
       "        vertical-align: middle;\n",
       "    }\n",
       "\n",
       "    .dataframe tbody tr th {\n",
       "        vertical-align: top;\n",
       "    }\n",
       "\n",
       "    .dataframe thead th {\n",
       "        text-align: right;\n",
       "    }\n",
       "</style>\n",
       "<table border=\"1\" class=\"dataframe\">\n",
       "  <thead>\n",
       "    <tr style=\"text-align: right;\">\n",
       "      <th></th>\n",
       "      <th>mean</th>\n",
       "      <th>median</th>\n",
       "      <th>sum</th>\n",
       "    </tr>\n",
       "    <tr>\n",
       "      <th>show_start_date_year</th>\n",
       "      <th></th>\n",
       "      <th></th>\n",
       "      <th></th>\n",
       "    </tr>\n",
       "  </thead>\n",
       "  <tbody>\n",
       "    <tr>\n",
       "      <th>2010</th>\n",
       "      <td>24046</td>\n",
       "      <td>1710</td>\n",
       "      <td>2428654</td>\n",
       "    </tr>\n",
       "    <tr>\n",
       "      <th>2011</th>\n",
       "      <td>129383</td>\n",
       "      <td>3000</td>\n",
       "      <td>14102765</td>\n",
       "    </tr>\n",
       "    <tr>\n",
       "      <th>2012</th>\n",
       "      <td>56548</td>\n",
       "      <td>6220</td>\n",
       "      <td>6955423</td>\n",
       "    </tr>\n",
       "    <tr>\n",
       "      <th>2013</th>\n",
       "      <td>166478</td>\n",
       "      <td>3580</td>\n",
       "      <td>29799706</td>\n",
       "    </tr>\n",
       "    <tr>\n",
       "      <th>2014</th>\n",
       "      <td>27270885</td>\n",
       "      <td>20400</td>\n",
       "      <td>7444951859</td>\n",
       "    </tr>\n",
       "    <tr>\n",
       "      <th>2015</th>\n",
       "      <td>85492132</td>\n",
       "      <td>5003450</td>\n",
       "      <td>39497365196</td>\n",
       "    </tr>\n",
       "    <tr>\n",
       "      <th>2016</th>\n",
       "      <td>91173904</td>\n",
       "      <td>3915041</td>\n",
       "      <td>47866299741</td>\n",
       "    </tr>\n",
       "    <tr>\n",
       "      <th>2017</th>\n",
       "      <td>136032793</td>\n",
       "      <td>9968340</td>\n",
       "      <td>48563707217</td>\n",
       "    </tr>\n",
       "    <tr>\n",
       "      <th>2018</th>\n",
       "      <td>104565059</td>\n",
       "      <td>8891102</td>\n",
       "      <td>49668403134</td>\n",
       "    </tr>\n",
       "    <tr>\n",
       "      <th>2019</th>\n",
       "      <td>91369261</td>\n",
       "      <td>4627798</td>\n",
       "      <td>48425708779</td>\n",
       "    </tr>\n",
       "  </tbody>\n",
       "</table>\n",
       "</div>"
      ],
      "text/plain": [
       "                           mean   median          sum\n",
       "show_start_date_year                                 \n",
       "2010                      24046     1710      2428654\n",
       "2011                     129383     3000     14102765\n",
       "2012                      56548     6220      6955423\n",
       "2013                     166478     3580     29799706\n",
       "2014                   27270885    20400   7444951859\n",
       "2015                   85492132  5003450  39497365196\n",
       "2016                   91173904  3915041  47866299741\n",
       "2017                  136032793  9968340  48563707217\n",
       "2018                  104565059  8891102  49668403134\n",
       "2019                   91369261  4627798  48425708779"
      ]
     },
     "execution_count": 46,
     "metadata": {},
     "output_type": "execute_result"
    }
   ],
   "source": [
    "df_mean_median = df.query('box_office > 0')\n",
    "df_mean_median.pivot_table(index='show_start_date_year', values='box_office', aggfunc=('mean', 'median', 'sum')).astype('int')"
   ]
  },
  {
   "cell_type": "markdown",
   "metadata": {
    "id": "Ok89WFwJgFyZ"
   },
   "source": [
    "- Определите, влияет ли возрастное ограничение аудитории («6+», «12+», «16+», «18+» и т. д.) на сборы фильма в прокате в период с 2015 по 2019 год? Фильмы с каким возрастным ограничением собрали больше всего денег в прокате? Меняется ли картина в зависимости от года? Если да, предположите, с чем это может быть связано."
   ]
  },
  {
   "cell_type": "code",
   "execution_count": 47,
   "metadata": {},
   "outputs": [
    {
     "data": {
      "text/html": [
       "<div>\n",
       "<style scoped>\n",
       "    .dataframe tbody tr th:only-of-type {\n",
       "        vertical-align: middle;\n",
       "    }\n",
       "\n",
       "    .dataframe tbody tr th {\n",
       "        vertical-align: top;\n",
       "    }\n",
       "\n",
       "    .dataframe thead th {\n",
       "        text-align: right;\n",
       "    }\n",
       "</style>\n",
       "<table border=\"1\" class=\"dataframe\">\n",
       "  <thead>\n",
       "    <tr style=\"text-align: right;\">\n",
       "      <th>show_start_date_year</th>\n",
       "      <th>age_restriction</th>\n",
       "      <th>2015</th>\n",
       "      <th>2016</th>\n",
       "      <th>2017</th>\n",
       "      <th>2018</th>\n",
       "      <th>2019</th>\n",
       "    </tr>\n",
       "  </thead>\n",
       "  <tbody>\n",
       "    <tr>\n",
       "      <th>0</th>\n",
       "      <td>«0+» - для любой зрительской аудитории</td>\n",
       "      <td>3.790546e+08</td>\n",
       "      <td>1.502288e+08</td>\n",
       "      <td>2.295989e+08</td>\n",
       "      <td>3.244900e+07</td>\n",
       "      <td>1.774607e+07</td>\n",
       "    </tr>\n",
       "    <tr>\n",
       "      <th>1</th>\n",
       "      <td>«12+» - для детей старше 12 лет</td>\n",
       "      <td>1.361608e+10</td>\n",
       "      <td>1.220445e+10</td>\n",
       "      <td>7.851428e+09</td>\n",
       "      <td>1.426729e+10</td>\n",
       "      <td>1.268020e+10</td>\n",
       "    </tr>\n",
       "    <tr>\n",
       "      <th>2</th>\n",
       "      <td>«16+» - для детей старше 16 лет</td>\n",
       "      <td>1.136812e+10</td>\n",
       "      <td>1.666455e+10</td>\n",
       "      <td>1.874504e+10</td>\n",
       "      <td>1.650360e+10</td>\n",
       "      <td>1.275342e+10</td>\n",
       "    </tr>\n",
       "    <tr>\n",
       "      <th>3</th>\n",
       "      <td>«18+» - запрещено для детей</td>\n",
       "      <td>5.432308e+09</td>\n",
       "      <td>6.793930e+09</td>\n",
       "      <td>9.651496e+09</td>\n",
       "      <td>8.760086e+09</td>\n",
       "      <td>1.012180e+10</td>\n",
       "    </tr>\n",
       "    <tr>\n",
       "      <th>4</th>\n",
       "      <td>«6+» - для детей старше 6 лет</td>\n",
       "      <td>8.701799e+09</td>\n",
       "      <td>1.205315e+10</td>\n",
       "      <td>1.208614e+10</td>\n",
       "      <td>1.010497e+10</td>\n",
       "      <td>1.285255e+10</td>\n",
       "    </tr>\n",
       "  </tbody>\n",
       "</table>\n",
       "</div>"
      ],
      "text/plain": [
       "show_start_date_year                         age_restriction          2015  \\\n",
       "0                     «0+» - для любой зрительской аудитории  3.790546e+08   \n",
       "1                            «12+» - для детей старше 12 лет  1.361608e+10   \n",
       "2                            «16+» - для детей старше 16 лет  1.136812e+10   \n",
       "3                                «18+» - запрещено для детей  5.432308e+09   \n",
       "4                              «6+» - для детей старше 6 лет  8.701799e+09   \n",
       "\n",
       "show_start_date_year          2016          2017          2018          2019  \n",
       "0                     1.502288e+08  2.295989e+08  3.244900e+07  1.774607e+07  \n",
       "1                     1.220445e+10  7.851428e+09  1.426729e+10  1.268020e+10  \n",
       "2                     1.666455e+10  1.874504e+10  1.650360e+10  1.275342e+10  \n",
       "3                     6.793930e+09  9.651496e+09  8.760086e+09  1.012180e+10  \n",
       "4                     1.205315e+10  1.208614e+10  1.010497e+10  1.285255e+10  "
      ]
     },
     "execution_count": 47,
     "metadata": {},
     "output_type": "execute_result"
    }
   ],
   "source": [
    "(pd.DataFrame(df[(df['show_start_date_year'] >= 2015) & (df['show_start_date_year'] <= 2019)].pivot_table(index='age_restriction', \n",
    "columns='show_start_date_year', values='box_office', aggfunc='sum').reset_index()))"
   ]
  },
  {
   "cell_type": "markdown",
   "metadata": {},
   "source": [
    "Возрастное ограничение влияет на сборы фильма в прокате в период с 2015 по 2019 год. В 2015 году больше всего денег в прокате собрали фильмы с маркеровкой \"12+\", в 2019 больше всего денег в прокате собрали фильмы с маркеровкой \"6+\" В остальные же года фильмы с маркировкой \"16+\". Изменчивость в таблице связанна скорее всего с одним популярным фильмом, который собирает большую кассу."
   ]
  },
  {
   "cell_type": "markdown",
   "metadata": {
    "id": "l_Kg6Ku4gFya"
   },
   "source": [
    "### Шаг 4. Исследуйте фильмы, которые получили государственную поддержку\n",
    "\n",
    "На этом этапе нет конкретных инструкций и заданий — поищите интересные закономерности в данных. Посмотрите, сколько выделяют средств на поддержку кино. Проверьте, хорошо ли окупаются такие фильмы, какой у них рейтинг."
   ]
  },
  {
   "cell_type": "code",
   "execution_count": 48,
   "metadata": {},
   "outputs": [
    {
     "name": "stderr",
     "output_type": "stream",
     "text": [
      "/tmp/ipykernel_104/3153480252.py:2: SettingWithCopyWarning: \n",
      "A value is trying to be set on a copy of a slice from a DataFrame.\n",
      "Try using .loc[row_indexer,col_indexer] = value instead\n",
      "\n",
      "See the caveats in the documentation: https://pandas.pydata.org/pandas-docs/stable/user_guide/indexing.html#returning-a-view-versus-a-copy\n",
      "  df_3['budget'] = df_3['budget'].apply(lambda x: round(x/1000000,2)) # перевод в миллионы\n",
      "/tmp/ipykernel_104/3153480252.py:3: SettingWithCopyWarning: \n",
      "A value is trying to be set on a copy of a slice from a DataFrame.\n",
      "Try using .loc[row_indexer,col_indexer] = value instead\n",
      "\n",
      "See the caveats in the documentation: https://pandas.pydata.org/pandas-docs/stable/user_guide/indexing.html#returning-a-view-versus-a-copy\n",
      "  df_3['box_office'] = df_3['box_office'].apply(lambda x: round(x/1000000,2))\n"
     ]
    },
    {
     "data": {
      "text/plain": [
       "count     301.000000\n",
       "mean      134.837741\n",
       "std       189.140433\n",
       "min        14.460000\n",
       "25%        46.160000\n",
       "50%        75.000000\n",
       "75%       154.250000\n",
       "max      2305.070000\n",
       "Name: budget, dtype: float64"
      ]
     },
     "execution_count": 48,
     "metadata": {},
     "output_type": "execute_result"
    }
   ],
   "source": [
    "df_3 = df.query('budget > 0 and box_office > 0')\n",
    "df_3['budget'] = df_3['budget'].apply(lambda x: round(x/1000000,2)) # перевод в миллионы\n",
    "df_3['box_office'] = df_3['box_office'].apply(lambda x: round(x/1000000,2))\n",
    "warnings.filterwarnings(\"ignore\")\n",
    "df_3['budget'].describe()"
   ]
  },
  {
   "cell_type": "markdown",
   "metadata": {},
   "source": [
    "Бюджет фильмов колеблется от 14 до 2305 млн.рублей, при среднем значении 134 млн.руб и медиане 75 млн.руб."
   ]
  },
  {
   "cell_type": "code",
   "execution_count": 49,
   "metadata": {},
   "outputs": [
    {
     "data": {
      "text/plain": [
       "1281     214.621622\n",
       "1448    1238.000000\n",
       "1498       8.818637\n",
       "1524     676.166667\n",
       "1792     174.000000\n",
       "1854       3.438329\n",
       "1870       0.885299\n",
       "1871      18.226216\n",
       "1903       0.395550\n",
       "1912     971.400000\n",
       "1987       0.659903\n",
       "1991      65.927273\n",
       "1997       1.628302\n",
       "2005       0.805416\n",
       "2014      11.928344\n",
       "2084       3.951585\n",
       "2092       0.965981\n",
       "2106     109.459459\n",
       "2108     220.935484\n",
       "2109       3.860206\n",
       "Name: payback, dtype: float64"
      ]
     },
     "execution_count": 49,
     "metadata": {},
     "output_type": "execute_result"
    }
   ],
   "source": [
    "df_3['payback'] = df_3['budget'] / df_3['box_office'] # добавим окупаемость фильмов\n",
    "warnings.filterwarnings(\"ignore\")\n",
    "df_3['payback'].head(20)"
   ]
  },
  {
   "cell_type": "code",
   "execution_count": 50,
   "metadata": {},
   "outputs": [
    {
     "data": {
      "text/plain": [
       "count    301.000000\n",
       "mean            inf\n",
       "std             NaN\n",
       "min        0.052057\n",
       "25%        1.275699\n",
       "50%        6.727520\n",
       "75%       44.293878\n",
       "max             inf\n",
       "Name: payback, dtype: float64"
      ]
     },
     "execution_count": 50,
     "metadata": {},
     "output_type": "execute_result"
    }
   ],
   "source": [
    "df_3['payback'].describe()"
   ]
  },
  {
   "cell_type": "markdown",
   "metadata": {},
   "source": [
    "У фильмов крайне не пропорциональная окупаемость, то есть, часть фильмов сильно убыточные, а другий наоборот крайне прибыльные."
   ]
  },
  {
   "cell_type": "code",
   "execution_count": 51,
   "metadata": {},
   "outputs": [
    {
     "data": {
      "text/plain": [
       "count    285.000000\n",
       "mean       6.014737\n",
       "std        1.141037\n",
       "min        1.000000\n",
       "25%        5.400000\n",
       "50%        6.200000\n",
       "75%        6.700000\n",
       "max        8.500000\n",
       "Name: ratings, dtype: float64"
      ]
     },
     "metadata": {},
     "output_type": "display_data"
    },
    {
     "data": {
      "text/plain": [
       "<AxesSubplot:title={'center':'Рейтинг'}, ylabel='Frequency'>"
      ]
     },
     "execution_count": 51,
     "metadata": {},
     "output_type": "execute_result"
    },
    {
     "data": {
      "image/png": "[encoded data removed]",
      "text/plain": [
       "<Figure size 864x360 with 1 Axes>"
      ]
     },
     "metadata": {
      "needs_background": "light"
     },
     "output_type": "display_data"
    }
   ],
   "source": [
    "df_3 = df_3.query('ratings > 0')\n",
    "display(df_3['ratings'].describe())\n",
    "df_3.plot.hist(y='ratings', grid=True, bins=11, range=(0, 10), figsize=(12, 5), title='Рейтинг')"
   ]
  },
  {
   "cell_type": "markdown",
   "metadata": {},
   "source": [
    "Средний балл выставленный зрителем совпадает с медианой."
   ]
  },
  {
   "cell_type": "code",
   "execution_count": 52,
   "metadata": {},
   "outputs": [
    {
     "data": {
      "text/plain": [
       "<AxesSubplot:title={'center':'количество фильмов, получивших господдержку (по жанрам)'}>"
      ]
     },
     "execution_count": 52,
     "metadata": {},
     "output_type": "execute_result"
    },
    {
     "data": {
      "image/png": "[encoded data removed]",
      "text/plain": [
       "<Figure size 432x288 with 1 Axes>"
      ]
     },
     "metadata": {
      "needs_background": "light"
     },
     "output_type": "display_data"
    }
   ],
   "source": [
    "df_3['main_genres'].value_counts().plot(title='количество фильмов, получивших господдержку (по жанрам)', kind='bar')"
   ]
  },
  {
   "cell_type": "code",
   "execution_count": 53,
   "metadata": {},
   "outputs": [
    {
     "data": {
      "text/html": [
       "<div>\n",
       "<style scoped>\n",
       "    .dataframe tbody tr th:only-of-type {\n",
       "        vertical-align: middle;\n",
       "    }\n",
       "\n",
       "    .dataframe tbody tr th {\n",
       "        vertical-align: top;\n",
       "    }\n",
       "\n",
       "    .dataframe thead th {\n",
       "        text-align: right;\n",
       "    }\n",
       "</style>\n",
       "<table border=\"1\" class=\"dataframe\">\n",
       "  <thead>\n",
       "    <tr style=\"text-align: right;\">\n",
       "      <th></th>\n",
       "      <th>payback</th>\n",
       "    </tr>\n",
       "    <tr>\n",
       "      <th>main_genres</th>\n",
       "      <th></th>\n",
       "    </tr>\n",
       "  </thead>\n",
       "  <tbody>\n",
       "    <tr>\n",
       "      <th>биография</th>\n",
       "      <td>3.16</td>\n",
       "    </tr>\n",
       "    <tr>\n",
       "      <th>боевик</th>\n",
       "      <td>3.02</td>\n",
       "    </tr>\n",
       "    <tr>\n",
       "      <th>военный</th>\n",
       "      <td>5.38</td>\n",
       "    </tr>\n",
       "    <tr>\n",
       "      <th>детектив</th>\n",
       "      <td>15.42</td>\n",
       "    </tr>\n",
       "    <tr>\n",
       "      <th>детский</th>\n",
       "      <td>36.44</td>\n",
       "    </tr>\n",
       "    <tr>\n",
       "      <th>драма</th>\n",
       "      <td>18.23</td>\n",
       "    </tr>\n",
       "    <tr>\n",
       "      <th>история</th>\n",
       "      <td>2.49</td>\n",
       "    </tr>\n",
       "    <tr>\n",
       "      <th>комедия</th>\n",
       "      <td>3.26</td>\n",
       "    </tr>\n",
       "    <tr>\n",
       "      <th>криминал</th>\n",
       "      <td>4.34</td>\n",
       "    </tr>\n",
       "    <tr>\n",
       "      <th>мелодрама</th>\n",
       "      <td>65.93</td>\n",
       "    </tr>\n",
       "    <tr>\n",
       "      <th>мультфильм</th>\n",
       "      <td>1.92</td>\n",
       "    </tr>\n",
       "    <tr>\n",
       "      <th>мюзикл</th>\n",
       "      <td>77.51</td>\n",
       "    </tr>\n",
       "    <tr>\n",
       "      <th>приключения</th>\n",
       "      <td>1.47</td>\n",
       "    </tr>\n",
       "    <tr>\n",
       "      <th>реальное ТВ</th>\n",
       "      <td>2.44</td>\n",
       "    </tr>\n",
       "    <tr>\n",
       "      <th>семейный</th>\n",
       "      <td>1.82</td>\n",
       "    </tr>\n",
       "    <tr>\n",
       "      <th>спорт</th>\n",
       "      <td>0.54</td>\n",
       "    </tr>\n",
       "    <tr>\n",
       "      <th>триллер</th>\n",
       "      <td>17.75</td>\n",
       "    </tr>\n",
       "    <tr>\n",
       "      <th>ужасы</th>\n",
       "      <td>1.45</td>\n",
       "    </tr>\n",
       "    <tr>\n",
       "      <th>фантастика</th>\n",
       "      <td>2.72</td>\n",
       "    </tr>\n",
       "    <tr>\n",
       "      <th>фэнтези</th>\n",
       "      <td>3.76</td>\n",
       "    </tr>\n",
       "  </tbody>\n",
       "</table>\n",
       "</div>"
      ],
      "text/plain": [
       "             payback\n",
       "main_genres         \n",
       "биография       3.16\n",
       "боевик          3.02\n",
       "военный         5.38\n",
       "детектив       15.42\n",
       "детский        36.44\n",
       "драма          18.23\n",
       "история         2.49\n",
       "комедия         3.26\n",
       "криминал        4.34\n",
       "мелодрама      65.93\n",
       "мультфильм      1.92\n",
       "мюзикл         77.51\n",
       "приключения     1.47\n",
       "реальное ТВ     2.44\n",
       "семейный        1.82\n",
       "спорт           0.54\n",
       "триллер        17.75\n",
       "ужасы           1.45\n",
       "фантастика      2.72\n",
       "фэнтези         3.76"
      ]
     },
     "execution_count": 53,
     "metadata": {},
     "output_type": "execute_result"
    }
   ],
   "source": [
    "df_3.pivot_table(index='main_genres', values='payback', aggfunc='median').round(2)\n"
   ]
  },
  {
   "cell_type": "code",
   "execution_count": 54,
   "metadata": {},
   "outputs": [
    {
     "data": {
      "text/html": [
       "<div>\n",
       "<style scoped>\n",
       "    .dataframe tbody tr th:only-of-type {\n",
       "        vertical-align: middle;\n",
       "    }\n",
       "\n",
       "    .dataframe tbody tr th {\n",
       "        vertical-align: top;\n",
       "    }\n",
       "\n",
       "    .dataframe thead th {\n",
       "        text-align: right;\n",
       "    }\n",
       "</style>\n",
       "<table border=\"1\" class=\"dataframe\">\n",
       "  <thead>\n",
       "    <tr style=\"text-align: right;\">\n",
       "      <th></th>\n",
       "      <th>payback</th>\n",
       "    </tr>\n",
       "    <tr>\n",
       "      <th>main_director</th>\n",
       "      <th></th>\n",
       "    </tr>\n",
       "  </thead>\n",
       "  <tbody>\n",
       "    <tr>\n",
       "      <th>Н.Джорджадзе</th>\n",
       "      <td>inf</td>\n",
       "    </tr>\n",
       "    <tr>\n",
       "      <th>И.Кордзаия</th>\n",
       "      <td>5956.00</td>\n",
       "    </tr>\n",
       "    <tr>\n",
       "      <th>В.Татарский</th>\n",
       "      <td>3000.00</td>\n",
       "    </tr>\n",
       "    <tr>\n",
       "      <th>А.Соколов</th>\n",
       "      <td>1166.67</td>\n",
       "    </tr>\n",
       "    <tr>\n",
       "      <th>В.Сторожева</th>\n",
       "      <td>1157.17</td>\n",
       "    </tr>\n",
       "    <tr>\n",
       "      <th>К.Геворкян</th>\n",
       "      <td>1155.00</td>\n",
       "    </tr>\n",
       "    <tr>\n",
       "      <th>Ф.Абрютин</th>\n",
       "      <td>1075.00</td>\n",
       "    </tr>\n",
       "    <tr>\n",
       "      <th>А.Майовер</th>\n",
       "      <td>1000.00</td>\n",
       "    </tr>\n",
       "    <tr>\n",
       "      <th>Стефано Лоренци</th>\n",
       "      <td>995.43</td>\n",
       "    </tr>\n",
       "    <tr>\n",
       "      <th>Д.Федоров</th>\n",
       "      <td>971.40</td>\n",
       "    </tr>\n",
       "  </tbody>\n",
       "</table>\n",
       "</div>"
      ],
      "text/plain": [
       "                 payback\n",
       "main_director           \n",
       "Н.Джорджадзе         inf\n",
       "И.Кордзаия       5956.00\n",
       "В.Татарский      3000.00\n",
       "А.Соколов        1166.67\n",
       "В.Сторожева      1157.17\n",
       "К.Геворкян       1155.00\n",
       "Ф.Абрютин        1075.00\n",
       "А.Майовер        1000.00\n",
       "Стефано Лоренци   995.43\n",
       "Д.Федоров         971.40"
      ]
     },
     "execution_count": 54,
     "metadata": {},
     "output_type": "execute_result"
    }
   ],
   "source": [
    "df_3.pivot_table(index='main_director', values='payback', aggfunc='median').sort_values(by='payback', ascending=False).head(10).round(2)"
   ]
  },
  {
   "cell_type": "code",
   "execution_count": 55,
   "metadata": {},
   "outputs": [
    {
     "data": {
      "text/html": [
       "<div>\n",
       "<style scoped>\n",
       "    .dataframe tbody tr th:only-of-type {\n",
       "        vertical-align: middle;\n",
       "    }\n",
       "\n",
       "    .dataframe tbody tr th {\n",
       "        vertical-align: top;\n",
       "    }\n",
       "\n",
       "    .dataframe thead th {\n",
       "        text-align: right;\n",
       "    }\n",
       "</style>\n",
       "<table border=\"1\" class=\"dataframe\">\n",
       "  <thead>\n",
       "    <tr style=\"text-align: right;\">\n",
       "      <th></th>\n",
       "      <th>payback</th>\n",
       "    </tr>\n",
       "    <tr>\n",
       "      <th>film_studio</th>\n",
       "      <th></th>\n",
       "    </tr>\n",
       "  </thead>\n",
       "  <tbody>\n",
       "    <tr>\n",
       "      <th>НП Киностудия детских и юношеских фильмов \"Илья Муромец\"</th>\n",
       "      <td>inf</td>\n",
       "    </tr>\n",
       "    <tr>\n",
       "      <th>ООО \"Первое творческое объединение\"</th>\n",
       "      <td>inf</td>\n",
       "    </tr>\n",
       "    <tr>\n",
       "      <th>ООО \"Кинобюро\" по заказу ООО \"Среда и Ко\"</th>\n",
       "      <td>9082.00</td>\n",
       "    </tr>\n",
       "    <tr>\n",
       "      <th>ООО \"КИНОДАНЦ\", ООО \"КИНОБАЙТ\"</th>\n",
       "      <td>5956.00</td>\n",
       "    </tr>\n",
       "    <tr>\n",
       "      <th>ООО \"КИНОБЮРО\"</th>\n",
       "      <td>3000.00</td>\n",
       "    </tr>\n",
       "    <tr>\n",
       "      <th>ООО \"Продюсерский центр \"Синема Продакшн\"</th>\n",
       "      <td>1166.67</td>\n",
       "    </tr>\n",
       "    <tr>\n",
       "      <th>ФГУП \"Киноконцерн \"Мосфильм\", ООО \"Киностудия \"ВЕРТИКАЛЬ\"</th>\n",
       "      <td>1157.17</td>\n",
       "    </tr>\n",
       "    <tr>\n",
       "      <th>ООО \"Валдай\"</th>\n",
       "      <td>1075.00</td>\n",
       "    </tr>\n",
       "    <tr>\n",
       "      <th>ООО \"Кинофабрика\"</th>\n",
       "      <td>1000.00</td>\n",
       "    </tr>\n",
       "    <tr>\n",
       "      <th>ООО \"ЛИГА ПРОДАКШН\"</th>\n",
       "      <td>995.43</td>\n",
       "    </tr>\n",
       "  </tbody>\n",
       "</table>\n",
       "</div>"
      ],
      "text/plain": [
       "                                                    payback\n",
       "film_studio                                                \n",
       "НП Киностудия детских и юношеских фильмов \"Илья...      inf\n",
       "ООО \"Первое творческое объединение\"                     inf\n",
       "ООО \"Кинобюро\" по заказу ООО \"Среда и Ко\"           9082.00\n",
       "ООО \"КИНОДАНЦ\", ООО \"КИНОБАЙТ\"                      5956.00\n",
       "ООО \"КИНОБЮРО\"                                      3000.00\n",
       "ООО \"Продюсерский центр \"Синема Продакшн\"           1166.67\n",
       "ФГУП \"Киноконцерн \"Мосфильм\", ООО \"Киностудия \"...  1157.17\n",
       "ООО \"Валдай\"                                        1075.00\n",
       "ООО \"Кинофабрика\"                                   1000.00\n",
       "ООО \"ЛИГА ПРОДАКШН\"                                  995.43"
      ]
     },
     "execution_count": 55,
     "metadata": {},
     "output_type": "execute_result"
    }
   ],
   "source": [
    "df_3.pivot_table(index='film_studio', values='payback', aggfunc='median').sort_values(by='payback', ascending=False).head(10).round(2)"
   ]
  },
  {
   "cell_type": "markdown",
   "metadata": {},
   "source": [
    "Самыми популярными жанрами являются драма и комедия, но окупаемость у них не велика. Самая большая окупаемость у жанров мюзикл и мелодрама. Также были выявлены топ-10 студий и режиссеров с самой лучшей окупаемостью."
   ]
  },
  {
   "cell_type": "markdown",
   "metadata": {
    "id": "V2gYwMcPgFyd"
   },
   "source": [
    "### Шаг 5. Напишите общий вывод"
   ]
  },
  {
   "cell_type": "markdown",
   "metadata": {
    "id": "AYRg3dzXgFye"
   },
   "source": [
    "Исследование проходило для министерства культуры Российской Федерации. В ходе исследования нужно было изучить рынок российского кинопроката и выявить текущие тренды. Уделите внимание фильмам, которые получили государственную поддержку.Также нужно было изучить рынок российского кинопроката и выявить текущие тренды, и попробовать ответить на вопрос, насколько такие фильмы интересны зрителю.  Входные данные были опубликованны на портале Министерства культуры. Набор данных содержал информацию о прокатных удостоверениях, сборах и государственной поддержке фильмов, а также информацию с сайта КиноПоиск. \n",
    "Для начало нужно было объединить данные о прокатных удостоверениях и данные о прокате в российских кинотеатрах. В исходных данных были найдены дубликаты и пропуски которые были успешно обработаны для нашего исследования. Большая часть пропусков была оставлена из-за не возможности их заполнения. В таблицу были добавленны: год премьеры фильма, столбцы с именем и фамилией главного режиссера и основного жанра фильма, и доля от общего бюджета фильма, которая составляла государственная поддержка. Было изученно, что идет постепенное увеличение числа фильмов в прокате за исключением 2017 года. Больше чем у половины фильмов отсутстствовала информация о сборах в кинотеатрах. Сумма сборов также фильмов в прокате, также растет, особо значимый рост был в период с 2014 по 2015 год. Было доказано, что на сборы фильмов влияет возрастной рейтинг, связано это скорее всего с небольшой долей фильмов, которые делают большую кассу, возможно это фильмы из больших франшиз. В целом поддержка государства достигает от 6 до 2300 млн.руб. Была выявлена не пропорциональная окупаемость у большинства фильмов. Самыми популярными жанрами являются драма и комедия, но окупаемость у них не велика. Самая большая окупаемость у жанров мюзикл и мелодрама."
   ]
  }
 ],
 "metadata": {
  "ExecuteTimeLog": [
   {
    "duration": 537,
    "start_time": "2021-07-07T10:12:08.634Z"
   },
   {
    "duration": 206,
    "start_time": "2021-07-07T10:12:30.191Z"
   },
   {
    "duration": 227,
    "start_time": "2021-07-07T10:12:33.078Z"
   },
   {
    "duration": 153,
    "start_time": "2021-07-07T10:13:42.146Z"
   },
   {
    "duration": 233,
    "start_time": "2021-07-07T10:30:09.252Z"
   },
   {
    "duration": 19,
    "start_time": "2021-07-07T10:30:15.577Z"
   },
   {
    "duration": 18,
    "start_time": "2021-07-07T10:30:57.348Z"
   },
   {
    "duration": 19,
    "start_time": "2021-07-07T10:31:17.452Z"
   },
   {
    "duration": 21,
    "start_time": "2021-07-07T10:31:32.227Z"
   },
   {
    "duration": 27,
    "start_time": "2021-07-07T10:32:06.588Z"
   },
   {
    "duration": 23,
    "start_time": "2021-07-07T10:32:43.645Z"
   },
   {
    "duration": 24,
    "start_time": "2021-07-07T10:33:06.948Z"
   },
   {
    "duration": 7,
    "start_time": "2021-07-07T10:33:28.558Z"
   },
   {
    "duration": 23,
    "start_time": "2021-07-07T10:33:43.761Z"
   },
   {
    "duration": 28,
    "start_time": "2021-07-07T10:34:13.466Z"
   },
   {
    "duration": 23,
    "start_time": "2021-07-07T10:35:56.187Z"
   },
   {
    "duration": 6,
    "start_time": "2021-07-07T10:36:48.182Z"
   },
   {
    "duration": 14,
    "start_time": "2021-07-07T10:37:49.641Z"
   },
   {
    "duration": 6,
    "start_time": "2021-07-07T10:38:06.694Z"
   },
   {
    "duration": 6,
    "start_time": "2021-07-07T10:38:13.493Z"
   },
   {
    "duration": 19,
    "start_time": "2021-07-07T10:38:44.056Z"
   },
   {
    "duration": 186,
    "start_time": "2021-07-07T10:48:35.618Z"
   },
   {
    "duration": 24,
    "start_time": "2021-07-07T10:48:51.498Z"
   },
   {
    "duration": 20,
    "start_time": "2021-07-07T10:48:59.415Z"
   },
   {
    "duration": 20,
    "start_time": "2021-07-07T10:53:02.195Z"
   },
   {
    "duration": 188,
    "start_time": "2021-07-07T10:54:40.486Z"
   },
   {
    "duration": 115,
    "start_time": "2021-07-07T10:54:52.552Z"
   },
   {
    "duration": 214,
    "start_time": "2021-07-07T10:54:56.354Z"
   },
   {
    "duration": 47,
    "start_time": "2021-07-07T10:54:58.282Z"
   },
   {
    "duration": 217,
    "start_time": "2021-07-07T10:59:16.075Z"
   },
   {
    "duration": 51,
    "start_time": "2021-07-07T10:59:16.243Z"
   },
   {
    "duration": 578,
    "start_time": "2021-07-07T10:59:18.774Z"
   },
   {
    "duration": 161,
    "start_time": "2021-07-07T10:59:21.238Z"
   },
   {
    "duration": 59,
    "start_time": "2021-07-07T10:59:21.453Z"
   },
   {
    "duration": 3,
    "start_time": "2021-07-07T11:02:10.786Z"
   },
   {
    "duration": 13,
    "start_time": "2021-07-07T11:07:07.722Z"
   },
   {
    "duration": 26,
    "start_time": "2021-07-07T11:07:17.958Z"
   },
   {
    "duration": 22,
    "start_time": "2021-07-07T11:08:17.939Z"
   },
   {
    "duration": 212,
    "start_time": "2021-07-07T11:08:19.665Z"
   },
   {
    "duration": 21,
    "start_time": "2021-07-07T11:08:29.945Z"
   },
   {
    "duration": 31,
    "start_time": "2021-07-07T11:08:38.899Z"
   },
   {
    "duration": 23,
    "start_time": "2021-07-07T11:08:54.527Z"
   },
   {
    "duration": 8,
    "start_time": "2021-07-07T11:18:55.974Z"
   },
   {
    "duration": 7,
    "start_time": "2021-07-07T11:19:03.639Z"
   },
   {
    "duration": 7,
    "start_time": "2021-07-07T11:19:06.444Z"
   },
   {
    "duration": 578,
    "start_time": "2021-07-07T12:09:59.576Z"
   },
   {
    "duration": 195,
    "start_time": "2021-07-07T12:10:00.156Z"
   },
   {
    "duration": 115,
    "start_time": "2021-07-07T12:10:00.353Z"
   },
   {
    "duration": 3,
    "start_time": "2021-07-07T12:10:00.470Z"
   },
   {
    "duration": 32,
    "start_time": "2021-07-07T12:10:00.474Z"
   },
   {
    "duration": 23,
    "start_time": "2021-07-07T12:10:00.508Z"
   },
   {
    "duration": 19,
    "start_time": "2021-07-07T12:10:00.533Z"
   },
   {
    "duration": 44,
    "start_time": "2021-07-07T12:10:00.553Z"
   },
   {
    "duration": 7,
    "start_time": "2021-07-07T12:10:00.600Z"
   },
   {
    "duration": 7,
    "start_time": "2021-07-07T12:19:45.761Z"
   },
   {
    "duration": 21,
    "start_time": "2021-07-07T12:21:35.482Z"
   },
   {
    "duration": 21,
    "start_time": "2021-07-07T12:29:23.569Z"
   },
   {
    "duration": 525,
    "start_time": "2021-07-07T12:29:44.542Z"
   },
   {
    "duration": 214,
    "start_time": "2021-07-07T12:29:45.069Z"
   },
   {
    "duration": 92,
    "start_time": "2021-07-07T12:29:45.285Z"
   },
   {
    "duration": 3,
    "start_time": "2021-07-07T12:29:45.379Z"
   },
   {
    "duration": 28,
    "start_time": "2021-07-07T12:29:45.384Z"
   },
   {
    "duration": 23,
    "start_time": "2021-07-07T12:29:45.413Z"
   },
   {
    "duration": 21,
    "start_time": "2021-07-07T12:29:45.437Z"
   },
   {
    "duration": 41,
    "start_time": "2021-07-07T12:29:45.460Z"
   },
   {
    "duration": 7,
    "start_time": "2021-07-07T12:29:45.502Z"
   },
   {
    "duration": 20,
    "start_time": "2021-07-07T12:29:45.511Z"
   },
   {
    "duration": 12,
    "start_time": "2021-07-07T12:34:02.800Z"
   },
   {
    "duration": 7,
    "start_time": "2021-07-07T12:35:10.479Z"
   },
   {
    "duration": 8,
    "start_time": "2021-07-07T12:35:22.440Z"
   },
   {
    "duration": 6,
    "start_time": "2021-07-07T12:35:35.649Z"
   },
   {
    "duration": 6,
    "start_time": "2021-07-07T12:35:43.107Z"
   },
   {
    "duration": 22,
    "start_time": "2021-07-07T12:38:03.029Z"
   },
   {
    "duration": 10,
    "start_time": "2021-07-07T12:38:06.592Z"
   },
   {
    "duration": 563,
    "start_time": "2021-07-07T12:38:46.493Z"
   },
   {
    "duration": 265,
    "start_time": "2021-07-07T12:38:47.058Z"
   },
   {
    "duration": 94,
    "start_time": "2021-07-07T12:38:47.325Z"
   },
   {
    "duration": 3,
    "start_time": "2021-07-07T12:38:47.422Z"
   },
   {
    "duration": 30,
    "start_time": "2021-07-07T12:38:47.427Z"
   },
   {
    "duration": 16,
    "start_time": "2021-07-07T12:38:53.305Z"
   },
   {
    "duration": 10,
    "start_time": "2021-07-07T12:38:53.499Z"
   },
   {
    "duration": 8,
    "start_time": "2021-07-07T12:39:48.161Z"
   },
   {
    "duration": 27,
    "start_time": "2021-07-07T12:41:17.629Z"
   },
   {
    "duration": 17,
    "start_time": "2021-07-07T12:41:17.867Z"
   },
   {
    "duration": 21,
    "start_time": "2021-07-07T12:41:19.310Z"
   },
   {
    "duration": 7,
    "start_time": "2021-07-07T12:41:19.544Z"
   },
   {
    "duration": 20,
    "start_time": "2021-07-07T12:41:20.504Z"
   },
   {
    "duration": 554,
    "start_time": "2021-07-07T12:56:23.696Z"
   },
   {
    "duration": 200,
    "start_time": "2021-07-07T12:56:25.234Z"
   },
   {
    "duration": 119,
    "start_time": "2021-07-07T12:56:25.480Z"
   },
   {
    "duration": 4,
    "start_time": "2021-07-07T12:56:25.762Z"
   },
   {
    "duration": 26,
    "start_time": "2021-07-07T12:56:27.172Z"
   },
   {
    "duration": 12,
    "start_time": "2021-07-07T12:56:29.051Z"
   },
   {
    "duration": 10,
    "start_time": "2021-07-07T12:56:29.291Z"
   },
   {
    "duration": 8,
    "start_time": "2021-07-07T12:56:29.623Z"
   },
   {
    "duration": 28,
    "start_time": "2021-07-07T12:56:32.137Z"
   },
   {
    "duration": 19,
    "start_time": "2021-07-07T12:56:39.785Z"
   },
   {
    "duration": 20,
    "start_time": "2021-07-07T12:56:44.297Z"
   },
   {
    "duration": 7,
    "start_time": "2021-07-07T12:56:45.392Z"
   },
   {
    "duration": 23,
    "start_time": "2021-07-07T12:56:46.615Z"
   },
   {
    "duration": 4,
    "start_time": "2021-07-07T12:57:06.625Z"
   },
   {
    "duration": 32,
    "start_time": "2021-07-07T12:57:36.690Z"
   },
   {
    "duration": 18,
    "start_time": "2021-07-07T12:58:00.149Z"
   },
   {
    "duration": 15,
    "start_time": "2021-07-07T12:59:16.793Z"
   },
   {
    "duration": 7,
    "start_time": "2021-07-07T13:19:22.624Z"
   },
   {
    "duration": 6,
    "start_time": "2021-07-07T14:17:33.527Z"
   },
   {
    "duration": 9,
    "start_time": "2021-07-07T14:17:48.409Z"
   },
   {
    "duration": 8,
    "start_time": "2021-07-07T14:20:13.060Z"
   },
   {
    "duration": 8,
    "start_time": "2021-07-07T14:20:37.957Z"
   },
   {
    "duration": 8,
    "start_time": "2021-07-07T14:20:47.470Z"
   },
   {
    "duration": 9,
    "start_time": "2021-07-07T14:20:54.503Z"
   },
   {
    "duration": 10,
    "start_time": "2021-07-07T14:28:57.763Z"
   },
   {
    "duration": 3,
    "start_time": "2021-07-07T14:30:23.377Z"
   },
   {
    "duration": 3,
    "start_time": "2021-07-07T14:30:36.489Z"
   },
   {
    "duration": 103,
    "start_time": "2021-07-07T14:30:52.351Z"
   },
   {
    "duration": 8,
    "start_time": "2021-07-07T14:30:54.763Z"
   },
   {
    "duration": 8,
    "start_time": "2021-07-07T14:31:29.301Z"
   },
   {
    "duration": 13,
    "start_time": "2021-07-07T14:31:44.516Z"
   },
   {
    "duration": 7,
    "start_time": "2021-07-07T14:33:10.972Z"
   },
   {
    "duration": 11,
    "start_time": "2021-07-07T14:33:27.780Z"
   },
   {
    "duration": 8,
    "start_time": "2021-07-07T14:34:44.588Z"
   },
   {
    "duration": 57,
    "start_time": "2021-07-07T14:35:59.042Z"
   },
   {
    "duration": 3,
    "start_time": "2021-07-07T14:36:28.168Z"
   },
   {
    "duration": 5,
    "start_time": "2021-07-07T14:36:46.254Z"
   },
   {
    "duration": 4,
    "start_time": "2021-07-07T14:36:52.714Z"
   },
   {
    "duration": 3,
    "start_time": "2021-07-07T14:36:56.612Z"
   },
   {
    "duration": 4,
    "start_time": "2021-07-07T14:36:57.049Z"
   },
   {
    "duration": 3,
    "start_time": "2021-07-07T14:39:21.214Z"
   },
   {
    "duration": 7,
    "start_time": "2021-07-07T14:39:52.406Z"
   },
   {
    "duration": 11,
    "start_time": "2021-07-07T14:39:58.576Z"
   },
   {
    "duration": 9,
    "start_time": "2021-07-07T14:40:26.301Z"
   },
   {
    "duration": 10,
    "start_time": "2021-07-07T14:40:31.704Z"
   },
   {
    "duration": 11,
    "start_time": "2021-07-07T14:40:36.249Z"
   },
   {
    "duration": 10,
    "start_time": "2021-07-07T14:40:39.783Z"
   },
   {
    "duration": 9,
    "start_time": "2021-07-07T14:40:48.558Z"
   },
   {
    "duration": 10,
    "start_time": "2021-07-07T14:40:57.143Z"
   },
   {
    "duration": 9,
    "start_time": "2021-07-07T14:41:06.074Z"
   },
   {
    "duration": 4324,
    "start_time": "2021-07-07T14:41:22.004Z"
   },
   {
    "duration": 11,
    "start_time": "2021-07-07T14:41:33.392Z"
   },
   {
    "duration": 9,
    "start_time": "2021-07-07T14:41:39.288Z"
   },
   {
    "duration": 569,
    "start_time": "2021-07-07T14:42:14.387Z"
   },
   {
    "duration": 197,
    "start_time": "2021-07-07T14:42:14.959Z"
   },
   {
    "duration": 84,
    "start_time": "2021-07-07T14:42:16.052Z"
   },
   {
    "duration": 4,
    "start_time": "2021-07-07T14:42:16.900Z"
   },
   {
    "duration": 27,
    "start_time": "2021-07-07T14:42:19.898Z"
   },
   {
    "duration": 12,
    "start_time": "2021-07-07T14:42:21.577Z"
   },
   {
    "duration": 9,
    "start_time": "2021-07-07T14:42:21.813Z"
   },
   {
    "duration": 9,
    "start_time": "2021-07-07T14:42:22.569Z"
   },
   {
    "duration": 29,
    "start_time": "2021-07-07T14:42:25.837Z"
   },
   {
    "duration": 20,
    "start_time": "2021-07-07T14:42:27.003Z"
   },
   {
    "duration": 21,
    "start_time": "2021-07-07T14:42:28.767Z"
   },
   {
    "duration": 7,
    "start_time": "2021-07-07T14:42:29.838Z"
   },
   {
    "duration": 4,
    "start_time": "2021-07-07T14:43:25.493Z"
   },
   {
    "duration": 7,
    "start_time": "2021-07-07T14:43:26.573Z"
   },
   {
    "duration": 10,
    "start_time": "2021-07-07T14:43:31.639Z"
   },
   {
    "duration": 9,
    "start_time": "2021-07-07T14:43:32.046Z"
   },
   {
    "duration": 10,
    "start_time": "2021-07-07T14:43:33.301Z"
   },
   {
    "duration": 12,
    "start_time": "2021-07-07T14:43:33.658Z"
   },
   {
    "duration": 8,
    "start_time": "2021-07-07T14:43:34.552Z"
   },
   {
    "duration": 9,
    "start_time": "2021-07-07T14:43:35.058Z"
   },
   {
    "duration": 12,
    "start_time": "2021-07-07T14:43:35.914Z"
   },
   {
    "duration": 17,
    "start_time": "2021-07-07T14:45:34.368Z"
   },
   {
    "duration": 512,
    "start_time": "2021-07-07T14:51:58.236Z"
   },
   {
    "duration": 223,
    "start_time": "2021-07-07T14:51:58.750Z"
   },
   {
    "duration": 93,
    "start_time": "2021-07-07T14:51:58.977Z"
   },
   {
    "duration": 4,
    "start_time": "2021-07-07T14:51:59.071Z"
   },
   {
    "duration": 37,
    "start_time": "2021-07-07T14:51:59.077Z"
   },
   {
    "duration": 18,
    "start_time": "2021-07-07T14:51:59.116Z"
   },
   {
    "duration": 10,
    "start_time": "2021-07-07T14:51:59.137Z"
   },
   {
    "duration": 8,
    "start_time": "2021-07-07T14:51:59.149Z"
   },
   {
    "duration": 54,
    "start_time": "2021-07-07T14:51:59.158Z"
   },
   {
    "duration": 18,
    "start_time": "2021-07-07T14:51:59.213Z"
   },
   {
    "duration": 22,
    "start_time": "2021-07-07T14:51:59.232Z"
   },
   {
    "duration": 36,
    "start_time": "2021-07-07T14:51:59.255Z"
   },
   {
    "duration": 7,
    "start_time": "2021-07-07T14:51:59.293Z"
   },
   {
    "duration": 10,
    "start_time": "2021-07-07T14:51:59.302Z"
   },
   {
    "duration": 9,
    "start_time": "2021-07-07T14:51:59.313Z"
   },
   {
    "duration": 11,
    "start_time": "2021-07-07T14:51:59.324Z"
   },
   {
    "duration": 8,
    "start_time": "2021-07-07T14:51:59.337Z"
   },
   {
    "duration": 46,
    "start_time": "2021-07-07T14:51:59.347Z"
   },
   {
    "duration": 22,
    "start_time": "2021-07-07T14:51:59.395Z"
   },
   {
    "duration": 24,
    "start_time": "2021-07-07T14:57:32.911Z"
   },
   {
    "duration": 7,
    "start_time": "2021-07-07T14:58:22.070Z"
   },
   {
    "duration": 4,
    "start_time": "2021-07-07T14:59:11.239Z"
   },
   {
    "duration": 25,
    "start_time": "2021-07-07T15:07:22.208Z"
   },
   {
    "duration": 16,
    "start_time": "2021-07-07T15:08:25.560Z"
   },
   {
    "duration": 15,
    "start_time": "2021-07-07T15:08:40.647Z"
   },
   {
    "duration": 14,
    "start_time": "2021-07-07T15:08:46.669Z"
   },
   {
    "duration": 533,
    "start_time": "2021-07-07T15:18:07.440Z"
   },
   {
    "duration": 173,
    "start_time": "2021-07-07T15:18:07.974Z"
   },
   {
    "duration": 84,
    "start_time": "2021-07-07T15:18:08.149Z"
   },
   {
    "duration": 3,
    "start_time": "2021-07-07T15:18:08.235Z"
   },
   {
    "duration": 30,
    "start_time": "2021-07-07T15:18:08.240Z"
   },
   {
    "duration": 22,
    "start_time": "2021-07-07T15:18:08.272Z"
   },
   {
    "duration": 11,
    "start_time": "2021-07-07T15:18:08.295Z"
   },
   {
    "duration": 11,
    "start_time": "2021-07-07T15:18:08.309Z"
   },
   {
    "duration": 40,
    "start_time": "2021-07-07T15:18:08.322Z"
   },
   {
    "duration": 42,
    "start_time": "2021-07-07T15:18:08.364Z"
   },
   {
    "duration": 22,
    "start_time": "2021-07-07T15:18:08.408Z"
   },
   {
    "duration": 5,
    "start_time": "2021-07-07T15:18:08.432Z"
   },
   {
    "duration": 13,
    "start_time": "2021-07-07T15:18:08.439Z"
   },
   {
    "duration": 9,
    "start_time": "2021-07-07T15:18:08.454Z"
   },
   {
    "duration": 32,
    "start_time": "2021-07-07T15:18:08.465Z"
   },
   {
    "duration": 10,
    "start_time": "2021-07-07T15:18:08.501Z"
   },
   {
    "duration": 7,
    "start_time": "2021-07-07T15:18:08.513Z"
   },
   {
    "duration": 11,
    "start_time": "2021-07-07T15:18:08.521Z"
   },
   {
    "duration": 17,
    "start_time": "2021-07-07T15:18:08.534Z"
   },
   {
    "duration": 44,
    "start_time": "2021-07-07T15:18:08.553Z"
   },
   {
    "duration": 22,
    "start_time": "2021-07-07T15:18:08.599Z"
   },
   {
    "duration": 61,
    "start_time": "2021-07-07T15:18:08.622Z"
   },
   {
    "duration": 7,
    "start_time": "2021-07-07T15:18:39.457Z"
   },
   {
    "duration": 5,
    "start_time": "2021-07-07T16:05:17.020Z"
   },
   {
    "duration": 5,
    "start_time": "2021-07-07T16:51:28.794Z"
   },
   {
    "duration": 546,
    "start_time": "2021-07-07T16:52:26.306Z"
   },
   {
    "duration": 203,
    "start_time": "2021-07-07T16:52:27.523Z"
   },
   {
    "duration": 85,
    "start_time": "2021-07-07T16:52:27.736Z"
   },
   {
    "duration": 4,
    "start_time": "2021-07-07T16:52:27.899Z"
   },
   {
    "duration": 25,
    "start_time": "2021-07-07T16:52:28.674Z"
   },
   {
    "duration": 8,
    "start_time": "2021-07-07T16:52:32.956Z"
   },
   {
    "duration": 18,
    "start_time": "2021-07-07T16:52:35.616Z"
   },
   {
    "duration": 6,
    "start_time": "2021-07-07T16:52:36.913Z"
   },
   {
    "duration": 11,
    "start_time": "2021-07-07T16:52:40.258Z"
   },
   {
    "duration": 10,
    "start_time": "2021-07-07T16:52:46.251Z"
   },
   {
    "duration": 8,
    "start_time": "2021-07-07T16:52:47.182Z"
   },
   {
    "duration": 27,
    "start_time": "2021-07-07T16:53:20.391Z"
   },
   {
    "duration": 20,
    "start_time": "2021-07-07T16:53:22.022Z"
   },
   {
    "duration": 23,
    "start_time": "2021-07-07T16:53:23.690Z"
   },
   {
    "duration": 8,
    "start_time": "2021-07-07T16:53:24.261Z"
   },
   {
    "duration": 4,
    "start_time": "2021-07-07T16:53:38.733Z"
   },
   {
    "duration": 7,
    "start_time": "2021-07-07T16:53:40.445Z"
   },
   {
    "duration": 11,
    "start_time": "2021-07-07T16:53:41.348Z"
   },
   {
    "duration": 13,
    "start_time": "2021-07-07T16:53:45.250Z"
   },
   {
    "duration": 12,
    "start_time": "2021-07-07T16:53:45.467Z"
   },
   {
    "duration": 4,
    "start_time": "2021-07-07T16:55:32.704Z"
   },
   {
    "duration": 12,
    "start_time": "2021-07-07T16:55:49.012Z"
   },
   {
    "duration": 18,
    "start_time": "2021-07-07T16:55:49.547Z"
   },
   {
    "duration": 611,
    "start_time": "2021-07-07T16:58:35.156Z"
   },
   {
    "duration": 200,
    "start_time": "2021-07-07T16:58:35.770Z"
   },
   {
    "duration": 86,
    "start_time": "2021-07-07T16:58:35.972Z"
   },
   {
    "duration": 3,
    "start_time": "2021-07-07T16:58:36.060Z"
   },
   {
    "duration": 27,
    "start_time": "2021-07-07T16:58:36.065Z"
   },
   {
    "duration": 8,
    "start_time": "2021-07-07T16:58:36.094Z"
   },
   {
    "duration": 17,
    "start_time": "2021-07-07T16:58:36.103Z"
   },
   {
    "duration": 5,
    "start_time": "2021-07-07T16:58:36.123Z"
   },
   {
    "duration": 11,
    "start_time": "2021-07-07T16:58:36.130Z"
   },
   {
    "duration": 7,
    "start_time": "2021-07-07T16:58:36.143Z"
   },
   {
    "duration": 37,
    "start_time": "2021-07-07T16:58:36.152Z"
   },
   {
    "duration": 27,
    "start_time": "2021-07-07T16:58:36.191Z"
   },
   {
    "duration": 19,
    "start_time": "2021-07-07T16:58:36.219Z"
   },
   {
    "duration": 49,
    "start_time": "2021-07-07T16:58:36.240Z"
   },
   {
    "duration": 6,
    "start_time": "2021-07-07T16:58:36.291Z"
   },
   {
    "duration": 3,
    "start_time": "2021-07-07T16:58:36.299Z"
   },
   {
    "duration": 13,
    "start_time": "2021-07-07T16:58:36.304Z"
   },
   {
    "duration": 10,
    "start_time": "2021-07-07T16:58:36.319Z"
   },
   {
    "duration": 10,
    "start_time": "2021-07-07T16:58:36.331Z"
   },
   {
    "duration": 44,
    "start_time": "2021-07-07T16:58:36.343Z"
   },
   {
    "duration": 4,
    "start_time": "2021-07-07T16:58:36.388Z"
   },
   {
    "duration": 13,
    "start_time": "2021-07-07T16:58:36.394Z"
   },
   {
    "duration": 16,
    "start_time": "2021-07-07T16:58:36.410Z"
   },
   {
    "duration": 8,
    "start_time": "2021-07-07T17:02:31.629Z"
   },
   {
    "duration": 8,
    "start_time": "2021-07-07T17:02:34.308Z"
   },
   {
    "duration": 6,
    "start_time": "2021-07-07T17:05:13.483Z"
   },
   {
    "duration": 17,
    "start_time": "2021-07-07T17:05:20.606Z"
   },
   {
    "duration": 7,
    "start_time": "2021-07-07T17:05:34.638Z"
   },
   {
    "duration": 3,
    "start_time": "2021-07-07T17:06:31.883Z"
   },
   {
    "duration": 570,
    "start_time": "2021-07-07T17:06:37.165Z"
   },
   {
    "duration": 174,
    "start_time": "2021-07-07T17:06:37.737Z"
   },
   {
    "duration": 47,
    "start_time": "2021-07-07T17:06:37.913Z"
   },
   {
    "duration": 3,
    "start_time": "2021-07-07T17:06:37.962Z"
   },
   {
    "duration": 27,
    "start_time": "2021-07-07T17:06:37.967Z"
   },
   {
    "duration": 7,
    "start_time": "2021-07-07T17:06:37.996Z"
   },
   {
    "duration": 16,
    "start_time": "2021-07-07T17:06:38.005Z"
   },
   {
    "duration": 6,
    "start_time": "2021-07-07T17:06:38.024Z"
   },
   {
    "duration": 12,
    "start_time": "2021-07-07T17:06:38.031Z"
   },
   {
    "duration": 41,
    "start_time": "2021-07-07T17:06:38.045Z"
   },
   {
    "duration": 8,
    "start_time": "2021-07-07T17:06:38.088Z"
   },
   {
    "duration": 26,
    "start_time": "2021-07-07T17:06:38.098Z"
   },
   {
    "duration": 17,
    "start_time": "2021-07-07T17:06:38.126Z"
   },
   {
    "duration": 43,
    "start_time": "2021-07-07T17:06:38.144Z"
   },
   {
    "duration": 6,
    "start_time": "2021-07-07T17:06:38.188Z"
   },
   {
    "duration": 5,
    "start_time": "2021-07-07T17:06:38.195Z"
   },
   {
    "duration": 9,
    "start_time": "2021-07-07T17:06:38.201Z"
   },
   {
    "duration": 12,
    "start_time": "2021-07-07T17:06:38.212Z"
   },
   {
    "duration": 11,
    "start_time": "2021-07-07T17:06:38.226Z"
   },
   {
    "duration": 47,
    "start_time": "2021-07-07T17:06:38.239Z"
   },
   {
    "duration": 4,
    "start_time": "2021-07-07T17:06:38.288Z"
   },
   {
    "duration": 13,
    "start_time": "2021-07-07T17:06:38.293Z"
   },
   {
    "duration": 5,
    "start_time": "2021-07-07T17:06:38.309Z"
   },
   {
    "duration": 18,
    "start_time": "2021-07-07T17:06:38.325Z"
   },
   {
    "duration": 20,
    "start_time": "2021-07-07T17:07:02.805Z"
   },
   {
    "duration": 19,
    "start_time": "2021-07-07T17:07:08.527Z"
   },
   {
    "duration": 19,
    "start_time": "2021-07-07T17:07:12.758Z"
   },
   {
    "duration": 22,
    "start_time": "2021-07-07T17:07:17.497Z"
   },
   {
    "duration": 19,
    "start_time": "2021-07-07T17:07:19.645Z"
   },
   {
    "duration": 10,
    "start_time": "2021-07-07T17:07:34.239Z"
   },
   {
    "duration": 17,
    "start_time": "2021-07-07T17:07:54.144Z"
   },
   {
    "duration": 14,
    "start_time": "2021-07-07T17:08:14.357Z"
   },
   {
    "duration": 616,
    "start_time": "2021-07-07T17:08:45.254Z"
   },
   {
    "duration": 178,
    "start_time": "2021-07-07T17:08:45.872Z"
   },
   {
    "duration": 60,
    "start_time": "2021-07-07T17:08:46.054Z"
   },
   {
    "duration": 3,
    "start_time": "2021-07-07T17:08:46.116Z"
   },
   {
    "duration": 26,
    "start_time": "2021-07-07T17:08:46.121Z"
   },
   {
    "duration": 7,
    "start_time": "2021-07-07T17:08:46.149Z"
   },
   {
    "duration": 17,
    "start_time": "2021-07-07T17:08:46.158Z"
   },
   {
    "duration": 14,
    "start_time": "2021-07-07T17:08:46.176Z"
   },
   {
    "duration": 17,
    "start_time": "2021-07-07T17:08:46.193Z"
   },
   {
    "duration": 9,
    "start_time": "2021-07-07T17:08:46.211Z"
   },
   {
    "duration": 21,
    "start_time": "2021-07-07T17:08:46.221Z"
   },
   {
    "duration": 49,
    "start_time": "2021-07-07T17:08:46.244Z"
   },
   {
    "duration": 24,
    "start_time": "2021-07-07T17:08:46.295Z"
   },
   {
    "duration": 22,
    "start_time": "2021-07-07T17:08:46.321Z"
   },
   {
    "duration": 6,
    "start_time": "2021-07-07T17:08:46.345Z"
   },
   {
    "duration": 5,
    "start_time": "2021-07-07T17:08:46.353Z"
   },
   {
    "duration": 13,
    "start_time": "2021-07-07T17:08:46.386Z"
   },
   {
    "duration": 12,
    "start_time": "2021-07-07T17:08:46.402Z"
   },
   {
    "duration": 10,
    "start_time": "2021-07-07T17:08:46.415Z"
   },
   {
    "duration": 7,
    "start_time": "2021-07-07T17:08:46.427Z"
   },
   {
    "duration": 8,
    "start_time": "2021-07-07T17:08:46.435Z"
   },
   {
    "duration": 68,
    "start_time": "2021-07-07T17:08:46.446Z"
   },
   {
    "duration": 13,
    "start_time": "2021-07-07T17:08:46.516Z"
   },
   {
    "duration": 78,
    "start_time": "2021-07-07T17:08:46.530Z"
   },
   {
    "duration": 40,
    "start_time": "2021-07-07T17:09:08.185Z"
   },
   {
    "duration": 16,
    "start_time": "2021-07-07T17:09:19.324Z"
   },
   {
    "duration": 21,
    "start_time": "2021-07-07T17:09:23.290Z"
   },
   {
    "duration": 13,
    "start_time": "2021-07-07T17:09:54.812Z"
   },
   {
    "duration": 13,
    "start_time": "2021-07-07T17:10:02.039Z"
   },
   {
    "duration": 10,
    "start_time": "2021-07-07T17:10:29.632Z"
   },
   {
    "duration": 13,
    "start_time": "2021-07-07T17:10:52.372Z"
   },
   {
    "duration": 13,
    "start_time": "2021-07-07T17:11:17.270Z"
   },
   {
    "duration": 13,
    "start_time": "2021-07-07T17:14:59.284Z"
   },
   {
    "duration": 547,
    "start_time": "2021-07-07T17:18:52.403Z"
   },
   {
    "duration": 163,
    "start_time": "2021-07-07T17:18:52.952Z"
   },
   {
    "duration": 44,
    "start_time": "2021-07-07T17:18:53.117Z"
   },
   {
    "duration": 3,
    "start_time": "2021-07-07T17:18:53.162Z"
   },
   {
    "duration": 26,
    "start_time": "2021-07-07T17:18:53.167Z"
   },
   {
    "duration": 6,
    "start_time": "2021-07-07T17:18:53.195Z"
   },
   {
    "duration": 15,
    "start_time": "2021-07-07T17:18:53.203Z"
   },
   {
    "duration": 5,
    "start_time": "2021-07-07T17:18:53.220Z"
   },
   {
    "duration": 11,
    "start_time": "2021-07-07T17:18:53.228Z"
   },
   {
    "duration": 9,
    "start_time": "2021-07-07T17:18:53.241Z"
   },
   {
    "duration": 41,
    "start_time": "2021-07-07T17:18:53.252Z"
   },
   {
    "duration": 33,
    "start_time": "2021-07-07T17:18:53.295Z"
   },
   {
    "duration": 19,
    "start_time": "2021-07-07T17:18:53.330Z"
   },
   {
    "duration": 49,
    "start_time": "2021-07-07T17:18:53.350Z"
   },
   {
    "duration": 5,
    "start_time": "2021-07-07T17:18:53.401Z"
   },
   {
    "duration": 5,
    "start_time": "2021-07-07T17:18:53.408Z"
   },
   {
    "duration": 11,
    "start_time": "2021-07-07T17:18:53.414Z"
   },
   {
    "duration": 9,
    "start_time": "2021-07-07T17:18:53.427Z"
   },
   {
    "duration": 10,
    "start_time": "2021-07-07T17:18:53.437Z"
   },
   {
    "duration": 39,
    "start_time": "2021-07-07T17:18:53.448Z"
   },
   {
    "duration": 26,
    "start_time": "2021-07-07T17:18:55.799Z"
   },
   {
    "duration": 598,
    "start_time": "2021-07-07T17:20:17.862Z"
   },
   {
    "duration": 161,
    "start_time": "2021-07-07T17:20:18.462Z"
   },
   {
    "duration": 45,
    "start_time": "2021-07-07T17:20:18.626Z"
   },
   {
    "duration": 4,
    "start_time": "2021-07-07T17:20:18.673Z"
   },
   {
    "duration": 38,
    "start_time": "2021-07-07T17:20:26.877Z"
   },
   {
    "duration": 7,
    "start_time": "2021-07-07T17:20:37.405Z"
   },
   {
    "duration": 19,
    "start_time": "2021-07-07T17:20:51.534Z"
   },
   {
    "duration": 5,
    "start_time": "2021-07-07T17:20:57.228Z"
   },
   {
    "duration": 7,
    "start_time": "2021-07-07T17:21:08.235Z"
   },
   {
    "duration": 19,
    "start_time": "2021-07-07T17:21:42.158Z"
   },
   {
    "duration": 14,
    "start_time": "2021-07-07T17:21:50.225Z"
   },
   {
    "duration": 22,
    "start_time": "2021-07-07T17:22:54.104Z"
   },
   {
    "duration": 5,
    "start_time": "2021-07-07T17:22:56.371Z"
   },
   {
    "duration": 14,
    "start_time": "2021-07-07T17:22:58.316Z"
   },
   {
    "duration": 5,
    "start_time": "2021-07-07T17:22:58.493Z"
   },
   {
    "duration": 35,
    "start_time": "2021-07-07T17:22:59.666Z"
   },
   {
    "duration": 6,
    "start_time": "2021-07-07T17:23:02.410Z"
   },
   {
    "duration": 611,
    "start_time": "2021-07-07T17:24:59.664Z"
   },
   {
    "duration": 178,
    "start_time": "2021-07-07T17:25:01.945Z"
   },
   {
    "duration": 47,
    "start_time": "2021-07-07T17:25:02.125Z"
   },
   {
    "duration": 2,
    "start_time": "2021-07-07T17:25:07.903Z"
   },
   {
    "duration": 254,
    "start_time": "2021-07-07T17:25:08.232Z"
   },
   {
    "duration": 182,
    "start_time": "2021-07-07T17:25:08.671Z"
   },
   {
    "duration": 6,
    "start_time": "2021-07-07T17:25:13.104Z"
   },
   {
    "duration": 36,
    "start_time": "2021-07-07T17:25:13.662Z"
   },
   {
    "duration": 7,
    "start_time": "2021-07-07T17:25:14.528Z"
   },
   {
    "duration": 24,
    "start_time": "2021-07-07T17:25:27.982Z"
   },
   {
    "duration": 3,
    "start_time": "2021-07-07T17:25:48.982Z"
   },
   {
    "duration": 165,
    "start_time": "2021-07-07T17:25:48.987Z"
   },
   {
    "duration": 50,
    "start_time": "2021-07-07T17:25:49.154Z"
   },
   {
    "duration": 4,
    "start_time": "2021-07-07T17:25:49.206Z"
   },
   {
    "duration": 26,
    "start_time": "2021-07-07T17:25:49.212Z"
   },
   {
    "duration": 7,
    "start_time": "2021-07-07T17:25:49.240Z"
   },
   {
    "duration": 16,
    "start_time": "2021-07-07T17:25:49.249Z"
   },
   {
    "duration": 22,
    "start_time": "2021-07-07T17:25:49.266Z"
   },
   {
    "duration": 16,
    "start_time": "2021-07-07T17:25:49.291Z"
   },
   {
    "duration": 9,
    "start_time": "2021-07-07T17:25:49.309Z"
   },
   {
    "duration": 7,
    "start_time": "2021-07-07T17:25:49.319Z"
   },
   {
    "duration": 28,
    "start_time": "2021-07-07T17:25:49.328Z"
   },
   {
    "duration": 44,
    "start_time": "2021-07-07T17:25:49.357Z"
   },
   {
    "duration": 22,
    "start_time": "2021-07-07T17:25:49.403Z"
   },
   {
    "duration": 7,
    "start_time": "2021-07-07T17:25:49.427Z"
   },
   {
    "duration": 3,
    "start_time": "2021-07-07T17:25:49.436Z"
   },
   {
    "duration": 44,
    "start_time": "2021-07-07T17:25:49.441Z"
   },
   {
    "duration": 12,
    "start_time": "2021-07-07T17:25:49.488Z"
   },
   {
    "duration": 13,
    "start_time": "2021-07-07T17:25:49.502Z"
   },
   {
    "duration": 10,
    "start_time": "2021-07-07T17:25:49.516Z"
   },
   {
    "duration": 62,
    "start_time": "2021-07-07T17:25:49.527Z"
   },
   {
    "duration": 26,
    "start_time": "2021-07-07T17:26:51.809Z"
   },
   {
    "duration": 26,
    "start_time": "2021-07-07T17:26:55.759Z"
   },
   {
    "duration": 26,
    "start_time": "2021-07-07T17:27:04.501Z"
   },
   {
    "duration": 25,
    "start_time": "2021-07-07T17:28:24.859Z"
   },
   {
    "duration": 21,
    "start_time": "2021-07-07T17:28:55.250Z"
   },
   {
    "duration": 21,
    "start_time": "2021-07-07T17:28:58.885Z"
   },
   {
    "duration": 7,
    "start_time": "2021-07-07T17:45:40.972Z"
   },
   {
    "duration": 13,
    "start_time": "2021-07-07T17:45:42.529Z"
   },
   {
    "duration": 27,
    "start_time": "2021-07-07T17:45:51.026Z"
   },
   {
    "duration": 518,
    "start_time": "2021-07-07T17:46:15.532Z"
   },
   {
    "duration": 235,
    "start_time": "2021-07-07T17:46:16.053Z"
   },
   {
    "duration": 80,
    "start_time": "2021-07-07T17:46:16.292Z"
   },
   {
    "duration": 5,
    "start_time": "2021-07-07T17:46:16.373Z"
   },
   {
    "duration": 26,
    "start_time": "2021-07-07T17:46:16.380Z"
   },
   {
    "duration": 7,
    "start_time": "2021-07-07T17:46:16.408Z"
   },
   {
    "duration": 16,
    "start_time": "2021-07-07T17:46:16.418Z"
   },
   {
    "duration": 5,
    "start_time": "2021-07-07T17:46:16.436Z"
   },
   {
    "duration": 13,
    "start_time": "2021-07-07T17:46:16.442Z"
   },
   {
    "duration": 35,
    "start_time": "2021-07-07T17:46:16.456Z"
   },
   {
    "duration": 8,
    "start_time": "2021-07-07T17:46:16.493Z"
   },
   {
    "duration": 28,
    "start_time": "2021-07-07T17:46:16.502Z"
   },
   {
    "duration": 17,
    "start_time": "2021-07-07T17:46:16.532Z"
   },
   {
    "duration": 44,
    "start_time": "2021-07-07T17:46:16.551Z"
   },
   {
    "duration": 6,
    "start_time": "2021-07-07T17:46:16.597Z"
   },
   {
    "duration": 4,
    "start_time": "2021-07-07T17:46:16.605Z"
   },
   {
    "duration": 9,
    "start_time": "2021-07-07T17:46:16.610Z"
   },
   {
    "duration": 9,
    "start_time": "2021-07-07T17:46:16.621Z"
   },
   {
    "duration": 10,
    "start_time": "2021-07-07T17:46:16.632Z"
   },
   {
    "duration": 43,
    "start_time": "2021-07-07T17:46:16.644Z"
   },
   {
    "duration": 26,
    "start_time": "2021-07-07T17:46:16.689Z"
   },
   {
    "duration": 19,
    "start_time": "2021-07-07T17:46:16.718Z"
   },
   {
    "duration": 8,
    "start_time": "2021-07-07T17:46:16.738Z"
   },
   {
    "duration": 43,
    "start_time": "2021-07-07T17:46:16.747Z"
   },
   {
    "duration": 19,
    "start_time": "2021-07-07T17:46:16.791Z"
   },
   {
    "duration": 9,
    "start_time": "2021-07-07T17:46:16.812Z"
   },
   {
    "duration": 60,
    "start_time": "2021-07-07T17:46:16.822Z"
   },
   {
    "duration": -8,
    "start_time": "2021-07-07T17:46:16.892Z"
   },
   {
    "duration": 12,
    "start_time": "2021-07-07T17:48:47.707Z"
   },
   {
    "duration": 553,
    "start_time": "2021-07-07T18:10:09.350Z"
   },
   {
    "duration": 230,
    "start_time": "2021-07-07T18:10:09.905Z"
   },
   {
    "duration": 97,
    "start_time": "2021-07-07T18:10:10.137Z"
   },
   {
    "duration": 5,
    "start_time": "2021-07-07T18:10:10.236Z"
   },
   {
    "duration": 29,
    "start_time": "2021-07-07T18:10:10.242Z"
   },
   {
    "duration": 7,
    "start_time": "2021-07-07T18:10:10.272Z"
   },
   {
    "duration": 15,
    "start_time": "2021-07-07T18:10:10.281Z"
   },
   {
    "duration": 4,
    "start_time": "2021-07-07T18:10:10.299Z"
   },
   {
    "duration": 14,
    "start_time": "2021-07-07T18:10:10.305Z"
   },
   {
    "duration": 8,
    "start_time": "2021-07-07T18:10:10.321Z"
   },
   {
    "duration": 8,
    "start_time": "2021-07-07T18:10:10.331Z"
   },
   {
    "duration": 56,
    "start_time": "2021-07-07T18:10:10.341Z"
   },
   {
    "duration": 19,
    "start_time": "2021-07-07T18:10:10.399Z"
   },
   {
    "duration": 23,
    "start_time": "2021-07-07T18:10:10.419Z"
   },
   {
    "duration": 6,
    "start_time": "2021-07-07T18:10:10.444Z"
   },
   {
    "duration": 9,
    "start_time": "2021-07-07T18:10:10.451Z"
   },
   {
    "duration": 30,
    "start_time": "2021-07-07T18:10:10.462Z"
   },
   {
    "duration": 9,
    "start_time": "2021-07-07T18:10:10.494Z"
   },
   {
    "duration": 14,
    "start_time": "2021-07-07T18:10:10.505Z"
   },
   {
    "duration": 7,
    "start_time": "2021-07-07T18:10:10.521Z"
   },
   {
    "duration": 26,
    "start_time": "2021-07-07T18:10:10.530Z"
   },
   {
    "duration": 44,
    "start_time": "2021-07-07T18:10:10.558Z"
   },
   {
    "duration": 7,
    "start_time": "2021-07-07T18:10:10.605Z"
   },
   {
    "duration": 11,
    "start_time": "2021-07-07T18:10:10.614Z"
   },
   {
    "duration": 19,
    "start_time": "2021-07-07T18:10:10.626Z"
   },
   {
    "duration": 44,
    "start_time": "2021-07-07T18:10:10.646Z"
   },
   {
    "duration": 516,
    "start_time": "2021-07-07T18:14:00.826Z"
   },
   {
    "duration": 230,
    "start_time": "2021-07-07T18:14:01.344Z"
   },
   {
    "duration": 105,
    "start_time": "2021-07-07T18:14:01.576Z"
   },
   {
    "duration": 5,
    "start_time": "2021-07-07T18:14:01.683Z"
   },
   {
    "duration": 46,
    "start_time": "2021-07-07T18:14:01.690Z"
   },
   {
    "duration": 7,
    "start_time": "2021-07-07T18:14:01.738Z"
   },
   {
    "duration": 20,
    "start_time": "2021-07-07T18:14:01.747Z"
   },
   {
    "duration": 16,
    "start_time": "2021-07-07T18:14:01.769Z"
   },
   {
    "duration": 14,
    "start_time": "2021-07-07T18:14:01.787Z"
   },
   {
    "duration": 15,
    "start_time": "2021-07-07T18:14:01.803Z"
   },
   {
    "duration": 12,
    "start_time": "2021-07-07T18:14:01.820Z"
   },
   {
    "duration": 35,
    "start_time": "2021-07-07T18:14:01.833Z"
   },
   {
    "duration": 31,
    "start_time": "2021-07-07T18:14:01.869Z"
   },
   {
    "duration": 37,
    "start_time": "2021-07-07T18:14:01.902Z"
   },
   {
    "duration": 8,
    "start_time": "2021-07-07T18:14:01.942Z"
   },
   {
    "duration": 16,
    "start_time": "2021-07-07T18:14:01.952Z"
   },
   {
    "duration": 13,
    "start_time": "2021-07-07T18:14:01.970Z"
   },
   {
    "duration": 32,
    "start_time": "2021-07-07T18:14:01.985Z"
   },
   {
    "duration": 11,
    "start_time": "2021-07-07T18:14:02.019Z"
   },
   {
    "duration": 22,
    "start_time": "2021-07-07T18:14:02.031Z"
   },
   {
    "duration": 27,
    "start_time": "2021-07-07T18:14:02.055Z"
   },
   {
    "duration": 18,
    "start_time": "2021-07-07T18:14:02.084Z"
   },
   {
    "duration": 18,
    "start_time": "2021-07-07T18:14:02.106Z"
   },
   {
    "duration": 11,
    "start_time": "2021-07-07T18:14:02.126Z"
   },
   {
    "duration": 21,
    "start_time": "2021-07-07T18:14:02.138Z"
   },
   {
    "duration": 32,
    "start_time": "2021-07-07T18:14:02.161Z"
   },
   {
    "duration": 28,
    "start_time": "2021-07-07T18:14:44.295Z"
   },
   {
    "duration": 6,
    "start_time": "2021-07-07T18:15:05.834Z"
   },
   {
    "duration": 511,
    "start_time": "2021-07-07T18:15:41.541Z"
   },
   {
    "duration": 183,
    "start_time": "2021-07-07T18:15:42.054Z"
   },
   {
    "duration": 50,
    "start_time": "2021-07-07T18:15:42.239Z"
   },
   {
    "duration": 5,
    "start_time": "2021-07-07T18:15:42.291Z"
   },
   {
    "duration": 48,
    "start_time": "2021-07-07T18:15:42.297Z"
   },
   {
    "duration": 8,
    "start_time": "2021-07-07T18:15:42.346Z"
   },
   {
    "duration": 17,
    "start_time": "2021-07-07T18:15:42.356Z"
   },
   {
    "duration": 15,
    "start_time": "2021-07-07T18:15:42.375Z"
   },
   {
    "duration": 12,
    "start_time": "2021-07-07T18:15:42.392Z"
   },
   {
    "duration": 7,
    "start_time": "2021-07-07T18:15:42.406Z"
   },
   {
    "duration": 7,
    "start_time": "2021-07-07T18:15:42.415Z"
   },
   {
    "duration": 29,
    "start_time": "2021-07-07T18:15:42.423Z"
   },
   {
    "duration": 43,
    "start_time": "2021-07-07T18:15:42.453Z"
   },
   {
    "duration": 18,
    "start_time": "2021-07-07T18:15:42.497Z"
   },
   {
    "duration": 6,
    "start_time": "2021-07-07T18:15:42.516Z"
   },
   {
    "duration": 3,
    "start_time": "2021-07-07T18:15:42.523Z"
   },
   {
    "duration": 18,
    "start_time": "2021-07-07T18:15:42.528Z"
   },
   {
    "duration": 10,
    "start_time": "2021-07-07T18:15:42.547Z"
   },
   {
    "duration": 36,
    "start_time": "2021-07-07T18:15:42.559Z"
   },
   {
    "duration": 8,
    "start_time": "2021-07-07T18:15:42.597Z"
   },
   {
    "duration": 28,
    "start_time": "2021-07-07T18:15:42.606Z"
   },
   {
    "duration": 52,
    "start_time": "2021-07-07T18:15:42.635Z"
   },
   {
    "duration": 7,
    "start_time": "2021-07-07T18:15:42.690Z"
   },
   {
    "duration": 10,
    "start_time": "2021-07-07T18:15:42.699Z"
   },
   {
    "duration": 19,
    "start_time": "2021-07-07T18:15:42.711Z"
   },
   {
    "duration": 9,
    "start_time": "2021-07-07T18:15:42.732Z"
   },
   {
    "duration": 5,
    "start_time": "2021-07-07T18:15:42.743Z"
   },
   {
    "duration": 1450,
    "start_time": "2021-07-07T18:15:51.984Z"
   },
   {
    "duration": 161,
    "start_time": "2021-07-07T18:15:53.435Z"
   },
   {
    "duration": 124,
    "start_time": "2021-07-07T18:15:53.598Z"
   },
   {
    "duration": 5,
    "start_time": "2021-07-07T18:15:53.724Z"
   },
   {
    "duration": 34,
    "start_time": "2021-07-07T18:15:53.730Z"
   },
   {
    "duration": 7,
    "start_time": "2021-07-07T18:15:53.765Z"
   },
   {
    "duration": 15,
    "start_time": "2021-07-07T18:15:53.773Z"
   },
   {
    "duration": 5,
    "start_time": "2021-07-07T18:15:53.791Z"
   },
   {
    "duration": 19,
    "start_time": "2021-07-07T18:15:53.798Z"
   },
   {
    "duration": 9,
    "start_time": "2021-07-07T18:15:53.818Z"
   },
   {
    "duration": 19,
    "start_time": "2021-07-07T18:15:53.828Z"
   },
   {
    "duration": 27,
    "start_time": "2021-07-07T18:15:53.848Z"
   },
   {
    "duration": 16,
    "start_time": "2021-07-07T18:15:53.884Z"
   },
   {
    "duration": 29,
    "start_time": "2021-07-07T18:15:53.901Z"
   },
   {
    "duration": 5,
    "start_time": "2021-07-07T18:15:53.932Z"
   },
   {
    "duration": 15,
    "start_time": "2021-07-07T18:15:53.939Z"
   },
   {
    "duration": 13,
    "start_time": "2021-07-07T18:15:53.956Z"
   },
   {
    "duration": 20,
    "start_time": "2021-07-07T18:15:53.971Z"
   },
   {
    "duration": 14,
    "start_time": "2021-07-07T18:15:53.992Z"
   },
   {
    "duration": 9,
    "start_time": "2021-07-07T18:15:54.009Z"
   },
   {
    "duration": 28,
    "start_time": "2021-07-07T18:15:54.020Z"
   },
   {
    "duration": 50,
    "start_time": "2021-07-07T18:15:54.051Z"
   },
   {
    "duration": 8,
    "start_time": "2021-07-07T18:15:54.105Z"
   },
   {
    "duration": 11,
    "start_time": "2021-07-07T18:15:54.115Z"
   },
   {
    "duration": 20,
    "start_time": "2021-07-07T18:15:54.128Z"
   },
   {
    "duration": 13,
    "start_time": "2021-07-07T18:15:54.184Z"
   },
   {
    "duration": 7,
    "start_time": "2021-07-07T18:15:54.199Z"
   },
   {
    "duration": 7,
    "start_time": "2021-07-07T18:17:08.042Z"
   },
   {
    "duration": 8,
    "start_time": "2021-07-07T18:17:21.008Z"
   },
   {
    "duration": 7,
    "start_time": "2021-07-07T18:17:29.003Z"
   },
   {
    "duration": 8,
    "start_time": "2021-07-07T18:17:32.492Z"
   },
   {
    "duration": 9,
    "start_time": "2021-07-07T18:17:41.758Z"
   },
   {
    "duration": 255,
    "start_time": "2021-07-07T18:20:20.897Z"
   },
   {
    "duration": 173,
    "start_time": "2021-07-07T18:20:26.636Z"
   },
   {
    "duration": 7,
    "start_time": "2021-07-07T18:21:47.164Z"
   },
   {
    "duration": 254,
    "start_time": "2021-07-07T18:23:08.703Z"
   },
   {
    "duration": 21,
    "start_time": "2021-07-07T18:23:22.506Z"
   },
   {
    "duration": 315,
    "start_time": "2021-07-07T18:25:54.801Z"
   },
   {
    "duration": 34,
    "start_time": "2021-07-07T18:26:51.817Z"
   },
   {
    "duration": 327,
    "start_time": "2021-07-07T18:26:56.147Z"
   },
   {
    "duration": 342,
    "start_time": "2021-07-07T18:27:15.887Z"
   },
   {
    "duration": 302,
    "start_time": "2021-07-07T18:28:18.569Z"
   },
   {
    "duration": 226,
    "start_time": "2021-07-07T18:29:20.879Z"
   },
   {
    "duration": 207,
    "start_time": "2021-07-07T18:29:58.114Z"
   },
   {
    "duration": 140,
    "start_time": "2021-07-07T18:32:04.372Z"
   },
   {
    "duration": 158,
    "start_time": "2021-07-07T18:32:32.508Z"
   },
   {
    "duration": 145,
    "start_time": "2021-07-07T18:32:41.365Z"
   },
   {
    "duration": 132,
    "start_time": "2021-07-07T18:32:45.199Z"
   },
   {
    "duration": 11,
    "start_time": "2021-07-07T18:35:24.679Z"
   },
   {
    "duration": 268,
    "start_time": "2021-07-07T18:36:16.145Z"
   },
   {
    "duration": 227,
    "start_time": "2021-07-07T18:37:04.918Z"
   },
   {
    "duration": 3,
    "start_time": "2021-07-07T18:37:33.012Z"
   },
   {
    "duration": 671,
    "start_time": "2021-07-07T18:37:38.295Z"
   },
   {
    "duration": 54,
    "start_time": "2021-07-07T18:37:53.406Z"
   },
   {
    "duration": 631,
    "start_time": "2021-07-07T18:37:56.463Z"
   },
   {
    "duration": 19,
    "start_time": "2021-07-07T18:39:40.535Z"
   },
   {
    "duration": 20,
    "start_time": "2021-07-07T18:40:12.236Z"
   },
   {
    "duration": 633,
    "start_time": "2021-07-07T18:42:00.398Z"
   },
   {
    "duration": 218,
    "start_time": "2021-07-07T18:42:01.033Z"
   },
   {
    "duration": 49,
    "start_time": "2021-07-07T18:42:01.253Z"
   },
   {
    "duration": 5,
    "start_time": "2021-07-07T18:42:01.303Z"
   },
   {
    "duration": 27,
    "start_time": "2021-07-07T18:42:01.310Z"
   },
   {
    "duration": 8,
    "start_time": "2021-07-07T18:42:01.339Z"
   },
   {
    "duration": 20,
    "start_time": "2021-07-07T18:42:01.348Z"
   },
   {
    "duration": 6,
    "start_time": "2021-07-07T18:42:01.386Z"
   },
   {
    "duration": 16,
    "start_time": "2021-07-07T18:42:01.394Z"
   },
   {
    "duration": 9,
    "start_time": "2021-07-07T18:42:01.411Z"
   },
   {
    "duration": 11,
    "start_time": "2021-07-07T18:42:01.421Z"
   },
   {
    "duration": 31,
    "start_time": "2021-07-07T18:42:01.434Z"
   },
   {
    "duration": 18,
    "start_time": "2021-07-07T18:42:01.485Z"
   },
   {
    "duration": 23,
    "start_time": "2021-07-07T18:42:01.505Z"
   },
   {
    "duration": 6,
    "start_time": "2021-07-07T18:42:01.530Z"
   },
   {
    "duration": 10,
    "start_time": "2021-07-07T18:42:01.538Z"
   },
   {
    "duration": 13,
    "start_time": "2021-07-07T18:42:01.550Z"
   },
   {
    "duration": 24,
    "start_time": "2021-07-07T18:42:01.564Z"
   },
   {
    "duration": 20,
    "start_time": "2021-07-07T18:42:01.590Z"
   },
   {
    "duration": 8,
    "start_time": "2021-07-07T18:42:01.611Z"
   },
   {
    "duration": 31,
    "start_time": "2021-07-07T18:42:01.620Z"
   },
   {
    "duration": 39,
    "start_time": "2021-07-07T18:42:01.653Z"
   },
   {
    "duration": 8,
    "start_time": "2021-07-07T18:42:01.696Z"
   },
   {
    "duration": 13,
    "start_time": "2021-07-07T18:42:01.705Z"
   },
   {
    "duration": 20,
    "start_time": "2021-07-07T18:42:01.720Z"
   },
   {
    "duration": 12,
    "start_time": "2021-07-07T18:42:01.741Z"
   },
   {
    "duration": 35,
    "start_time": "2021-07-07T18:42:01.755Z"
   },
   {
    "duration": 14,
    "start_time": "2021-07-07T18:42:01.792Z"
   },
   {
    "duration": 188,
    "start_time": "2021-07-07T18:42:01.808Z"
   },
   {
    "duration": 19,
    "start_time": "2021-07-07T18:42:01.998Z"
   },
   {
    "duration": 175,
    "start_time": "2021-07-07T18:42:02.019Z"
   },
   {
    "duration": 134,
    "start_time": "2021-07-07T18:42:02.196Z"
   },
   {
    "duration": 10,
    "start_time": "2021-07-07T18:42:02.331Z"
   },
   {
    "duration": 19,
    "start_time": "2021-07-07T18:42:02.343Z"
   },
   {
    "duration": 628,
    "start_time": "2021-07-07T18:46:30.701Z"
   },
   {
    "duration": 183,
    "start_time": "2021-07-07T18:46:31.331Z"
   },
   {
    "duration": 48,
    "start_time": "2021-07-07T18:46:31.516Z"
   },
   {
    "duration": 5,
    "start_time": "2021-07-07T18:46:31.566Z"
   },
   {
    "duration": 28,
    "start_time": "2021-07-07T18:46:31.572Z"
   },
   {
    "duration": 8,
    "start_time": "2021-07-07T18:46:31.602Z"
   },
   {
    "duration": 19,
    "start_time": "2021-07-07T18:46:31.611Z"
   },
   {
    "duration": 6,
    "start_time": "2021-07-07T18:46:31.633Z"
   },
   {
    "duration": 17,
    "start_time": "2021-07-07T18:46:31.642Z"
   },
   {
    "duration": 10,
    "start_time": "2021-07-07T18:46:31.684Z"
   },
   {
    "duration": 9,
    "start_time": "2021-07-07T18:46:31.695Z"
   },
   {
    "duration": 28,
    "start_time": "2021-07-07T18:46:31.705Z"
   },
   {
    "duration": 18,
    "start_time": "2021-07-07T18:46:31.735Z"
   },
   {
    "duration": 48,
    "start_time": "2021-07-07T18:46:31.755Z"
   },
   {
    "duration": 6,
    "start_time": "2021-07-07T18:46:31.804Z"
   },
   {
    "duration": 4,
    "start_time": "2021-07-07T18:46:31.812Z"
   },
   {
    "duration": 9,
    "start_time": "2021-07-07T18:46:31.817Z"
   },
   {
    "duration": 10,
    "start_time": "2021-07-07T18:46:31.827Z"
   },
   {
    "duration": 12,
    "start_time": "2021-07-07T18:46:31.838Z"
   },
   {
    "duration": 39,
    "start_time": "2021-07-07T18:46:31.851Z"
   },
   {
    "duration": 24,
    "start_time": "2021-07-07T18:46:31.892Z"
   },
   {
    "duration": 15,
    "start_time": "2021-07-07T18:46:31.918Z"
   },
   {
    "duration": 7,
    "start_time": "2021-07-07T18:46:31.936Z"
   },
   {
    "duration": 8,
    "start_time": "2021-07-07T18:46:31.944Z"
   },
   {
    "duration": 19,
    "start_time": "2021-07-07T18:46:31.984Z"
   },
   {
    "duration": 10,
    "start_time": "2021-07-07T18:46:32.004Z"
   },
   {
    "duration": 5,
    "start_time": "2021-07-07T18:46:32.016Z"
   },
   {
    "duration": 9,
    "start_time": "2021-07-07T18:46:32.023Z"
   },
   {
    "duration": 199,
    "start_time": "2021-07-07T18:46:32.033Z"
   },
   {
    "duration": 19,
    "start_time": "2021-07-07T18:46:32.234Z"
   },
   {
    "duration": 159,
    "start_time": "2021-07-07T18:46:32.255Z"
   },
   {
    "duration": 134,
    "start_time": "2021-07-07T18:46:32.416Z"
   },
   {
    "duration": 10,
    "start_time": "2021-07-07T18:46:32.552Z"
   },
   {
    "duration": 34,
    "start_time": "2021-07-07T18:46:32.563Z"
   },
   {
    "duration": 1039,
    "start_time": "2021-07-08T08:41:09.419Z"
   },
   {
    "duration": 333,
    "start_time": "2021-07-08T08:41:10.459Z"
   },
   {
    "duration": 173,
    "start_time": "2021-07-08T08:41:10.794Z"
   },
   {
    "duration": 5,
    "start_time": "2021-07-08T08:41:10.968Z"
   },
   {
    "duration": 25,
    "start_time": "2021-07-08T08:41:10.975Z"
   },
   {
    "duration": 9,
    "start_time": "2021-07-08T08:41:11.002Z"
   },
   {
    "duration": 18,
    "start_time": "2021-07-08T08:41:11.013Z"
   },
   {
    "duration": 6,
    "start_time": "2021-07-08T08:41:11.033Z"
   },
   {
    "duration": 44,
    "start_time": "2021-07-08T08:41:11.042Z"
   },
   {
    "duration": 10,
    "start_time": "2021-07-08T08:41:11.088Z"
   },
   {
    "duration": 9,
    "start_time": "2021-07-08T08:41:11.100Z"
   },
   {
    "duration": 27,
    "start_time": "2021-07-08T08:41:11.111Z"
   },
   {
    "duration": 46,
    "start_time": "2021-07-08T08:41:11.140Z"
   },
   {
    "duration": 17,
    "start_time": "2021-07-08T08:41:11.187Z"
   },
   {
    "duration": 6,
    "start_time": "2021-07-08T08:41:11.206Z"
   },
   {
    "duration": 5,
    "start_time": "2021-07-08T08:41:11.213Z"
   },
   {
    "duration": 10,
    "start_time": "2021-07-08T08:41:11.219Z"
   },
   {
    "duration": 9,
    "start_time": "2021-07-08T08:41:11.230Z"
   },
   {
    "duration": 45,
    "start_time": "2021-07-08T08:41:11.241Z"
   },
   {
    "duration": 7,
    "start_time": "2021-07-08T08:41:11.287Z"
   },
   {
    "duration": 24,
    "start_time": "2021-07-08T08:41:11.296Z"
   },
   {
    "duration": 16,
    "start_time": "2021-07-08T08:41:11.322Z"
   },
   {
    "duration": 7,
    "start_time": "2021-07-08T08:41:11.341Z"
   },
   {
    "duration": 41,
    "start_time": "2021-07-08T08:41:11.349Z"
   },
   {
    "duration": 17,
    "start_time": "2021-07-08T08:41:11.391Z"
   },
   {
    "duration": 9,
    "start_time": "2021-07-08T08:41:11.410Z"
   },
   {
    "duration": 5,
    "start_time": "2021-07-08T08:41:11.421Z"
   },
   {
    "duration": 6,
    "start_time": "2021-07-08T08:41:11.428Z"
   },
   {
    "duration": 198,
    "start_time": "2021-07-08T08:41:11.435Z"
   },
   {
    "duration": 18,
    "start_time": "2021-07-08T08:41:11.635Z"
   },
   {
    "duration": 155,
    "start_time": "2021-07-08T08:41:11.655Z"
   },
   {
    "duration": 138,
    "start_time": "2021-07-08T08:41:11.811Z"
   },
   {
    "duration": 10,
    "start_time": "2021-07-08T08:41:11.950Z"
   },
   {
    "duration": 29,
    "start_time": "2021-07-08T08:41:11.961Z"
   },
   {
    "duration": 171,
    "start_time": "2021-07-08T08:47:44.522Z"
   },
   {
    "duration": 124,
    "start_time": "2021-07-08T08:47:46.872Z"
   },
   {
    "duration": 191,
    "start_time": "2021-07-08T08:47:58.148Z"
   },
   {
    "duration": 191,
    "start_time": "2021-07-08T08:48:07.412Z"
   },
   {
    "duration": 261,
    "start_time": "2021-07-08T08:48:10.385Z"
   },
   {
    "duration": 255,
    "start_time": "2021-07-08T08:48:14.494Z"
   },
   {
    "duration": 219,
    "start_time": "2021-07-08T08:48:22.752Z"
   },
   {
    "duration": 173,
    "start_time": "2021-07-08T08:49:06.395Z"
   },
   {
    "duration": 180,
    "start_time": "2021-07-08T08:49:21.011Z"
   },
   {
    "duration": 6,
    "start_time": "2021-07-08T08:50:31.697Z"
   },
   {
    "duration": 10,
    "start_time": "2021-07-08T08:50:47.394Z"
   },
   {
    "duration": 11,
    "start_time": "2021-07-08T08:53:49.332Z"
   },
   {
    "duration": 171,
    "start_time": "2021-07-08T08:54:28.408Z"
   },
   {
    "duration": 636,
    "start_time": "2021-07-08T09:02:48.385Z"
   },
   {
    "duration": 227,
    "start_time": "2021-07-08T09:02:49.023Z"
   },
   {
    "duration": 104,
    "start_time": "2021-07-08T09:02:49.252Z"
   },
   {
    "duration": 5,
    "start_time": "2021-07-08T09:02:49.358Z"
   },
   {
    "duration": 27,
    "start_time": "2021-07-08T09:02:49.365Z"
   },
   {
    "duration": 8,
    "start_time": "2021-07-08T09:02:49.394Z"
   },
   {
    "duration": 18,
    "start_time": "2021-07-08T09:02:49.404Z"
   },
   {
    "duration": 6,
    "start_time": "2021-07-08T09:02:49.424Z"
   },
   {
    "duration": 11,
    "start_time": "2021-07-08T09:02:49.433Z"
   },
   {
    "duration": 13,
    "start_time": "2021-07-08T09:02:49.485Z"
   },
   {
    "duration": 9,
    "start_time": "2021-07-08T09:02:49.500Z"
   },
   {
    "duration": 38,
    "start_time": "2021-07-08T09:02:49.511Z"
   },
   {
    "duration": 42,
    "start_time": "2021-07-08T09:02:49.551Z"
   },
   {
    "duration": 21,
    "start_time": "2021-07-08T09:02:49.594Z"
   },
   {
    "duration": 6,
    "start_time": "2021-07-08T09:02:49.616Z"
   },
   {
    "duration": 3,
    "start_time": "2021-07-08T09:02:49.623Z"
   },
   {
    "duration": 9,
    "start_time": "2021-07-08T09:02:49.628Z"
   },
   {
    "duration": 52,
    "start_time": "2021-07-08T09:02:49.638Z"
   },
   {
    "duration": 11,
    "start_time": "2021-07-08T09:02:49.692Z"
   },
   {
    "duration": 8,
    "start_time": "2021-07-08T09:02:49.704Z"
   },
   {
    "duration": 27,
    "start_time": "2021-07-08T09:02:49.713Z"
   },
   {
    "duration": 59,
    "start_time": "2021-07-08T09:02:49.741Z"
   },
   {
    "duration": 8,
    "start_time": "2021-07-08T09:02:49.803Z"
   },
   {
    "duration": 14,
    "start_time": "2021-07-08T09:02:49.813Z"
   },
   {
    "duration": 20,
    "start_time": "2021-07-08T09:02:49.829Z"
   },
   {
    "duration": 44,
    "start_time": "2021-07-08T09:02:49.851Z"
   },
   {
    "duration": 14,
    "start_time": "2021-07-08T09:02:49.896Z"
   },
   {
    "duration": 221,
    "start_time": "2021-07-08T09:02:49.912Z"
   },
   {
    "duration": 6,
    "start_time": "2021-07-08T09:02:50.134Z"
   },
   {
    "duration": 206,
    "start_time": "2021-07-08T09:02:50.142Z"
   },
   {
    "duration": 19,
    "start_time": "2021-07-08T09:02:50.350Z"
   },
   {
    "duration": 21,
    "start_time": "2021-07-08T09:02:50.370Z"
   },
   {
    "duration": 20,
    "start_time": "2021-07-08T09:02:50.393Z"
   },
   {
    "duration": 5,
    "start_time": "2021-07-08T09:02:50.414Z"
   },
   {
    "duration": 5,
    "start_time": "2021-07-08T09:03:34.173Z"
   },
   {
    "duration": 6,
    "start_time": "2021-07-08T09:04:49.062Z"
   },
   {
    "duration": 9,
    "start_time": "2021-07-08T09:04:50.118Z"
   },
   {
    "duration": 14,
    "start_time": "2021-07-08T09:04:58.512Z"
   },
   {
    "duration": 9,
    "start_time": "2021-07-08T09:05:10.988Z"
   },
   {
    "duration": 11,
    "start_time": "2021-07-08T09:05:11.743Z"
   },
   {
    "duration": 7,
    "start_time": "2021-07-08T09:05:25.677Z"
   },
   {
    "duration": 13,
    "start_time": "2021-07-08T09:05:47.189Z"
   },
   {
    "duration": 13,
    "start_time": "2021-07-08T09:05:54.755Z"
   },
   {
    "duration": 4,
    "start_time": "2021-07-08T09:06:29.189Z"
   },
   {
    "duration": 244,
    "start_time": "2021-07-08T09:06:29.195Z"
   },
   {
    "duration": 91,
    "start_time": "2021-07-08T09:06:29.441Z"
   },
   {
    "duration": 4,
    "start_time": "2021-07-08T09:06:29.534Z"
   },
   {
    "duration": 28,
    "start_time": "2021-07-08T09:06:29.540Z"
   },
   {
    "duration": 6,
    "start_time": "2021-07-08T09:06:29.570Z"
   },
   {
    "duration": 18,
    "start_time": "2021-07-08T09:06:29.578Z"
   },
   {
    "duration": 5,
    "start_time": "2021-07-08T09:06:29.597Z"
   },
   {
    "duration": 13,
    "start_time": "2021-07-08T09:06:29.605Z"
   },
   {
    "duration": 8,
    "start_time": "2021-07-08T09:06:29.620Z"
   },
   {
    "duration": 7,
    "start_time": "2021-07-08T09:06:29.630Z"
   },
   {
    "duration": 63,
    "start_time": "2021-07-08T09:06:29.639Z"
   },
   {
    "duration": 17,
    "start_time": "2021-07-08T09:06:29.704Z"
   },
   {
    "duration": 20,
    "start_time": "2021-07-08T09:06:29.723Z"
   },
   {
    "duration": 6,
    "start_time": "2021-07-08T09:06:29.745Z"
   },
   {
    "duration": 3,
    "start_time": "2021-07-08T09:06:29.752Z"
   },
   {
    "duration": 7,
    "start_time": "2021-07-08T09:06:29.785Z"
   },
   {
    "duration": 11,
    "start_time": "2021-07-08T09:06:29.794Z"
   },
   {
    "duration": 15,
    "start_time": "2021-07-08T09:06:29.807Z"
   },
   {
    "duration": 8,
    "start_time": "2021-07-08T09:06:29.823Z"
   },
   {
    "duration": 70,
    "start_time": "2021-07-08T09:06:29.832Z"
   },
   {
    "duration": 17,
    "start_time": "2021-07-08T09:06:29.903Z"
   },
   {
    "duration": 9,
    "start_time": "2021-07-08T09:06:29.921Z"
   },
   {
    "duration": 9,
    "start_time": "2021-07-08T09:06:29.932Z"
   },
   {
    "duration": 57,
    "start_time": "2021-07-08T09:06:29.942Z"
   },
   {
    "duration": 11,
    "start_time": "2021-07-08T09:06:30.001Z"
   },
   {
    "duration": 19,
    "start_time": "2021-07-08T09:06:30.016Z"
   },
   {
    "duration": 217,
    "start_time": "2021-07-08T09:06:30.037Z"
   },
   {
    "duration": 6,
    "start_time": "2021-07-08T09:06:30.255Z"
   },
   {
    "duration": 205,
    "start_time": "2021-07-08T09:06:30.263Z"
   },
   {
    "duration": 27,
    "start_time": "2021-07-08T09:06:30.470Z"
   },
   {
    "duration": 11,
    "start_time": "2021-07-08T09:06:30.500Z"
   },
   {
    "duration": 31,
    "start_time": "2021-07-08T09:06:30.513Z"
   },
   {
    "duration": 18,
    "start_time": "2021-07-08T09:06:30.546Z"
   },
   {
    "duration": 11,
    "start_time": "2021-07-08T09:06:30.566Z"
   },
   {
    "duration": 19,
    "start_time": "2021-07-08T09:06:30.579Z"
   },
   {
    "duration": 20,
    "start_time": "2021-07-08T09:06:49.466Z"
   },
   {
    "duration": 9,
    "start_time": "2021-07-08T09:06:51.994Z"
   },
   {
    "duration": 20,
    "start_time": "2021-07-08T09:06:52.273Z"
   },
   {
    "duration": 246,
    "start_time": "2021-07-08T09:10:21.272Z"
   },
   {
    "duration": 84,
    "start_time": "2021-07-08T09:10:21.436Z"
   },
   {
    "duration": 7,
    "start_time": "2021-07-08T09:10:37.608Z"
   },
   {
    "duration": 189,
    "start_time": "2021-07-08T09:10:38.573Z"
   },
   {
    "duration": 185,
    "start_time": "2021-07-08T09:10:53.181Z"
   },
   {
    "duration": 11,
    "start_time": "2021-07-08T09:10:59.549Z"
   },
   {
    "duration": 42,
    "start_time": "2021-07-08T09:10:59.709Z"
   },
   {
    "duration": 12,
    "start_time": "2021-07-08T09:11:02.857Z"
   },
   {
    "duration": 28,
    "start_time": "2021-07-08T09:11:10.062Z"
   },
   {
    "duration": 249,
    "start_time": "2021-07-08T09:11:37.388Z"
   },
   {
    "duration": 232,
    "start_time": "2021-07-08T09:11:49.485Z"
   },
   {
    "duration": 453,
    "start_time": "2021-07-08T09:12:01.546Z"
   },
   {
    "duration": 440,
    "start_time": "2021-07-08T09:12:12.347Z"
   },
   {
    "duration": 213,
    "start_time": "2021-07-08T09:13:32.196Z"
   },
   {
    "duration": 172,
    "start_time": "2021-07-08T09:14:07.400Z"
   },
   {
    "duration": 185,
    "start_time": "2021-07-08T09:14:14.905Z"
   },
   {
    "duration": 209,
    "start_time": "2021-07-08T09:14:40.109Z"
   },
   {
    "duration": 201,
    "start_time": "2021-07-08T09:14:54.506Z"
   },
   {
    "duration": 622,
    "start_time": "2021-07-08T09:18:14.497Z"
   },
   {
    "duration": 220,
    "start_time": "2021-07-08T09:18:15.121Z"
   },
   {
    "duration": 79,
    "start_time": "2021-07-08T09:18:15.343Z"
   },
   {
    "duration": 4,
    "start_time": "2021-07-08T09:18:15.425Z"
   },
   {
    "duration": 24,
    "start_time": "2021-07-08T09:18:15.431Z"
   },
   {
    "duration": 8,
    "start_time": "2021-07-08T09:18:15.457Z"
   },
   {
    "duration": 16,
    "start_time": "2021-07-08T09:18:15.466Z"
   },
   {
    "duration": 5,
    "start_time": "2021-07-08T09:18:15.484Z"
   },
   {
    "duration": 10,
    "start_time": "2021-07-08T09:18:15.493Z"
   },
   {
    "duration": 8,
    "start_time": "2021-07-08T09:18:15.504Z"
   },
   {
    "duration": 7,
    "start_time": "2021-07-08T09:18:15.513Z"
   },
   {
    "duration": 26,
    "start_time": "2021-07-08T09:18:15.522Z"
   },
   {
    "duration": 49,
    "start_time": "2021-07-08T09:18:15.550Z"
   },
   {
    "duration": 21,
    "start_time": "2021-07-08T09:18:15.601Z"
   },
   {
    "duration": 8,
    "start_time": "2021-07-08T09:18:15.624Z"
   },
   {
    "duration": 3,
    "start_time": "2021-07-08T09:18:15.634Z"
   },
   {
    "duration": 8,
    "start_time": "2021-07-08T09:18:15.639Z"
   },
   {
    "duration": 45,
    "start_time": "2021-07-08T09:18:15.649Z"
   },
   {
    "duration": 13,
    "start_time": "2021-07-08T09:18:15.696Z"
   },
   {
    "duration": 10,
    "start_time": "2021-07-08T09:18:15.711Z"
   },
   {
    "duration": 64,
    "start_time": "2021-07-08T09:18:15.722Z"
   },
   {
    "duration": 19,
    "start_time": "2021-07-08T09:18:15.788Z"
   },
   {
    "duration": 9,
    "start_time": "2021-07-08T09:18:15.809Z"
   },
   {
    "duration": 9,
    "start_time": "2021-07-08T09:18:15.820Z"
   },
   {
    "duration": 18,
    "start_time": "2021-07-08T09:18:15.831Z"
   },
   {
    "duration": 43,
    "start_time": "2021-07-08T09:18:15.851Z"
   },
   {
    "duration": 12,
    "start_time": "2021-07-08T09:18:15.897Z"
   },
   {
    "duration": 219,
    "start_time": "2021-07-08T09:18:15.911Z"
   },
   {
    "duration": 8,
    "start_time": "2021-07-08T09:18:16.132Z"
   },
   {
    "duration": 199,
    "start_time": "2021-07-08T09:18:16.141Z"
   },
   {
    "duration": 18,
    "start_time": "2021-07-08T09:18:16.341Z"
   },
   {
    "duration": 24,
    "start_time": "2021-07-08T09:18:16.361Z"
   },
   {
    "duration": 24,
    "start_time": "2021-07-08T09:18:16.387Z"
   },
   {
    "duration": 211,
    "start_time": "2021-07-08T09:18:16.413Z"
   },
   {
    "duration": 18,
    "start_time": "2021-07-08T09:18:16.626Z"
   },
   {
    "duration": 596,
    "start_time": "2021-07-08T10:06:33.623Z"
   },
   {
    "duration": 181,
    "start_time": "2021-07-08T10:06:34.221Z"
   },
   {
    "duration": 176,
    "start_time": "2021-07-08T10:06:34.635Z"
   },
   {
    "duration": 239,
    "start_time": "2021-07-08T10:06:55.572Z"
   },
   {
    "duration": 6,
    "start_time": "2021-07-08T10:06:57.687Z"
   },
   {
    "duration": 4,
    "start_time": "2021-07-08T10:07:03.956Z"
   },
   {
    "duration": 4,
    "start_time": "2021-07-08T10:07:10.376Z"
   },
   {
    "duration": 4,
    "start_time": "2021-07-08T10:17:19.889Z"
   },
   {
    "duration": 3,
    "start_time": "2021-07-08T10:19:19.407Z"
   },
   {
    "duration": 197,
    "start_time": "2021-07-08T10:19:19.412Z"
   },
   {
    "duration": 127,
    "start_time": "2021-07-08T10:19:19.611Z"
   },
   {
    "duration": 4,
    "start_time": "2021-07-08T10:19:19.740Z"
   },
   {
    "duration": 27,
    "start_time": "2021-07-08T10:19:19.746Z"
   },
   {
    "duration": 7,
    "start_time": "2021-07-08T10:19:19.775Z"
   },
   {
    "duration": 30,
    "start_time": "2021-07-08T10:19:19.784Z"
   },
   {
    "duration": 7,
    "start_time": "2021-07-08T10:19:19.817Z"
   },
   {
    "duration": 26,
    "start_time": "2021-07-08T10:19:19.826Z"
   },
   {
    "duration": 18,
    "start_time": "2021-07-08T10:19:19.854Z"
   },
   {
    "duration": 14,
    "start_time": "2021-07-08T10:19:19.874Z"
   },
   {
    "duration": 48,
    "start_time": "2021-07-08T10:19:19.890Z"
   },
   {
    "duration": 17,
    "start_time": "2021-07-08T10:19:19.940Z"
   },
   {
    "duration": 38,
    "start_time": "2021-07-08T10:19:19.959Z"
   },
   {
    "duration": 8,
    "start_time": "2021-07-08T10:19:19.999Z"
   },
   {
    "duration": 15,
    "start_time": "2021-07-08T10:19:20.009Z"
   },
   {
    "duration": 22,
    "start_time": "2021-07-08T10:19:20.026Z"
   },
   {
    "duration": 10,
    "start_time": "2021-07-08T10:19:20.050Z"
   },
   {
    "duration": 10,
    "start_time": "2021-07-08T10:19:20.062Z"
   },
   {
    "duration": 20,
    "start_time": "2021-07-08T10:19:20.073Z"
   },
   {
    "duration": 29,
    "start_time": "2021-07-08T10:19:20.095Z"
   },
   {
    "duration": 17,
    "start_time": "2021-07-08T10:19:20.126Z"
   },
   {
    "duration": 40,
    "start_time": "2021-07-08T10:19:20.146Z"
   },
   {
    "duration": 15,
    "start_time": "2021-07-08T10:19:20.189Z"
   },
   {
    "duration": 19,
    "start_time": "2021-07-08T10:19:20.206Z"
   },
   {
    "duration": 10,
    "start_time": "2021-07-08T10:19:20.226Z"
   },
   {
    "duration": 11,
    "start_time": "2021-07-08T10:19:20.238Z"
   },
   {
    "duration": 297,
    "start_time": "2021-07-08T10:19:20.250Z"
   },
   {
    "duration": 6,
    "start_time": "2021-07-08T10:19:20.549Z"
   },
   {
    "duration": 191,
    "start_time": "2021-07-08T10:19:20.557Z"
   },
   {
    "duration": 19,
    "start_time": "2021-07-08T10:19:20.750Z"
   },
   {
    "duration": 20,
    "start_time": "2021-07-08T10:19:20.771Z"
   },
   {
    "duration": 15,
    "start_time": "2021-07-08T10:19:20.793Z"
   },
   {
    "duration": 222,
    "start_time": "2021-07-08T10:19:20.809Z"
   },
   {
    "duration": 20,
    "start_time": "2021-07-08T10:19:21.033Z"
   },
   {
    "duration": 27,
    "start_time": "2021-07-08T10:45:04.055Z"
   },
   {
    "duration": 8,
    "start_time": "2021-07-08T10:45:08.478Z"
   },
   {
    "duration": 8,
    "start_time": "2021-07-08T10:45:31.982Z"
   },
   {
    "duration": 10,
    "start_time": "2021-07-08T10:46:01.221Z"
   },
   {
    "duration": 17,
    "start_time": "2021-07-08T10:46:40.011Z"
   },
   {
    "duration": 193,
    "start_time": "2021-07-08T10:48:19.471Z"
   },
   {
    "duration": 225,
    "start_time": "2021-07-08T10:49:26.480Z"
   },
   {
    "duration": 204,
    "start_time": "2021-07-08T10:49:59.992Z"
   },
   {
    "duration": 435,
    "start_time": "2021-07-08T10:50:06.779Z"
   },
   {
    "duration": 199,
    "start_time": "2021-07-08T10:50:14.891Z"
   },
   {
    "duration": 204,
    "start_time": "2021-07-08T10:50:18.501Z"
   },
   {
    "duration": 244,
    "start_time": "2021-07-08T10:50:23.359Z"
   },
   {
    "duration": 192,
    "start_time": "2021-07-08T10:50:29.135Z"
   },
   {
    "duration": 218,
    "start_time": "2021-07-08T10:50:33.092Z"
   },
   {
    "duration": 207,
    "start_time": "2021-07-08T10:52:45.381Z"
   },
   {
    "duration": 5,
    "start_time": "2021-07-08T10:53:34.641Z"
   },
   {
    "duration": 196,
    "start_time": "2021-07-08T10:53:41.478Z"
   },
   {
    "duration": 43,
    "start_time": "2021-07-08T10:53:50.335Z"
   },
   {
    "duration": 32,
    "start_time": "2021-07-08T10:53:55.294Z"
   },
   {
    "duration": 55,
    "start_time": "2021-07-08T10:54:09.675Z"
   },
   {
    "duration": 16,
    "start_time": "2021-07-08T10:54:12.260Z"
   },
   {
    "duration": 15,
    "start_time": "2021-07-08T10:54:49.150Z"
   },
   {
    "duration": 20,
    "start_time": "2021-07-08T10:56:07.596Z"
   },
   {
    "duration": 16,
    "start_time": "2021-07-08T10:58:26.276Z"
   },
   {
    "duration": 22,
    "start_time": "2021-07-08T10:59:00.486Z"
   },
   {
    "duration": 18,
    "start_time": "2021-07-08T11:02:09.653Z"
   },
   {
    "duration": 10,
    "start_time": "2021-07-08T11:03:44.331Z"
   },
   {
    "duration": 10,
    "start_time": "2021-07-08T11:03:54.055Z"
   },
   {
    "duration": 12,
    "start_time": "2021-07-08T11:04:41.967Z"
   },
   {
    "duration": 24,
    "start_time": "2021-07-08T11:07:30.732Z"
   },
   {
    "duration": 6,
    "start_time": "2021-07-08T11:07:37.364Z"
   },
   {
    "duration": 16,
    "start_time": "2021-07-08T11:08:01.819Z"
   },
   {
    "duration": 17,
    "start_time": "2021-07-08T11:09:47.488Z"
   },
   {
    "duration": 246,
    "start_time": "2021-07-08T11:10:00.830Z"
   },
   {
    "duration": 18,
    "start_time": "2021-07-08T11:13:55.195Z"
   },
   {
    "duration": 204,
    "start_time": "2021-07-08T11:14:04.951Z"
   },
   {
    "duration": 19,
    "start_time": "2021-07-08T11:15:10.613Z"
   },
   {
    "duration": 680,
    "start_time": "2021-07-08T11:16:25.793Z"
   },
   {
    "duration": 451,
    "start_time": "2021-07-08T11:16:40.313Z"
   },
   {
    "duration": 469,
    "start_time": "2021-07-08T11:17:21.286Z"
   },
   {
    "duration": 20,
    "start_time": "2021-07-08T11:19:12.554Z"
   },
   {
    "duration": 35,
    "start_time": "2021-07-08T11:20:05.484Z"
   },
   {
    "duration": 53,
    "start_time": "2021-07-08T11:21:40.050Z"
   },
   {
    "duration": 13,
    "start_time": "2021-07-08T11:22:26.059Z"
   },
   {
    "duration": 19,
    "start_time": "2021-07-08T11:22:47.419Z"
   },
   {
    "duration": 25,
    "start_time": "2021-07-08T11:23:19.958Z"
   },
   {
    "duration": 29,
    "start_time": "2021-07-08T11:23:25.415Z"
   },
   {
    "duration": 10,
    "start_time": "2021-07-08T11:24:45.138Z"
   },
   {
    "duration": 19,
    "start_time": "2021-07-08T11:24:54.498Z"
   },
   {
    "duration": 12,
    "start_time": "2021-07-08T11:25:32.225Z"
   },
   {
    "duration": 19,
    "start_time": "2021-07-08T11:25:37.092Z"
   },
   {
    "duration": 17,
    "start_time": "2021-07-08T11:25:58.116Z"
   },
   {
    "duration": 15,
    "start_time": "2021-07-08T11:26:02.258Z"
   },
   {
    "duration": 8,
    "start_time": "2021-07-08T11:26:59.682Z"
   },
   {
    "duration": 184,
    "start_time": "2021-07-08T11:27:21.894Z"
   },
   {
    "duration": 8,
    "start_time": "2021-07-08T11:27:23.824Z"
   },
   {
    "duration": 202,
    "start_time": "2021-07-08T11:27:23.962Z"
   },
   {
    "duration": 360,
    "start_time": "2021-07-08T11:28:33.215Z"
   },
   {
    "duration": 231,
    "start_time": "2021-07-08T11:32:05.542Z"
   },
   {
    "duration": 607,
    "start_time": "2021-07-08T11:36:27.854Z"
   },
   {
    "duration": 241,
    "start_time": "2021-07-08T11:36:28.463Z"
   },
   {
    "duration": 67,
    "start_time": "2021-07-08T11:36:28.709Z"
   },
   {
    "duration": 5,
    "start_time": "2021-07-08T11:36:28.778Z"
   },
   {
    "duration": 32,
    "start_time": "2021-07-08T11:36:28.784Z"
   },
   {
    "duration": 11,
    "start_time": "2021-07-08T11:36:28.819Z"
   },
   {
    "duration": 20,
    "start_time": "2021-07-08T11:36:28.834Z"
   },
   {
    "duration": 36,
    "start_time": "2021-07-08T11:36:28.857Z"
   },
   {
    "duration": 16,
    "start_time": "2021-07-08T11:36:28.895Z"
   },
   {
    "duration": 14,
    "start_time": "2021-07-08T11:36:28.913Z"
   },
   {
    "duration": 9,
    "start_time": "2021-07-08T11:36:28.930Z"
   },
   {
    "duration": 55,
    "start_time": "2021-07-08T11:36:28.941Z"
   },
   {
    "duration": 27,
    "start_time": "2021-07-08T11:36:28.999Z"
   },
   {
    "duration": 30,
    "start_time": "2021-07-08T11:36:29.028Z"
   },
   {
    "duration": 31,
    "start_time": "2021-07-08T11:36:29.060Z"
   },
   {
    "duration": 3,
    "start_time": "2021-07-08T11:36:29.093Z"
   },
   {
    "duration": 12,
    "start_time": "2021-07-08T11:36:29.099Z"
   },
   {
    "duration": 11,
    "start_time": "2021-07-08T11:36:29.112Z"
   },
   {
    "duration": 12,
    "start_time": "2021-07-08T11:36:29.125Z"
   },
   {
    "duration": 9,
    "start_time": "2021-07-08T11:36:29.139Z"
   },
   {
    "duration": 31,
    "start_time": "2021-07-08T11:36:29.191Z"
   },
   {
    "duration": 17,
    "start_time": "2021-07-08T11:36:29.226Z"
   },
   {
    "duration": 7,
    "start_time": "2021-07-08T11:36:29.245Z"
   },
   {
    "duration": 10,
    "start_time": "2021-07-08T11:36:29.254Z"
   },
   {
    "duration": 30,
    "start_time": "2021-07-08T11:36:29.292Z"
   },
   {
    "duration": 11,
    "start_time": "2021-07-08T11:36:29.324Z"
   },
   {
    "duration": 11,
    "start_time": "2021-07-08T11:36:29.337Z"
   },
   {
    "duration": 230,
    "start_time": "2021-07-08T11:36:29.349Z"
   },
   {
    "duration": 13,
    "start_time": "2021-07-08T11:36:29.588Z"
   },
   {
    "duration": 205,
    "start_time": "2021-07-08T11:36:29.603Z"
   },
   {
    "duration": 20,
    "start_time": "2021-07-08T11:36:29.810Z"
   },
   {
    "duration": 9,
    "start_time": "2021-07-08T11:36:29.832Z"
   },
   {
    "duration": 16,
    "start_time": "2021-07-08T11:36:29.843Z"
   },
   {
    "duration": 283,
    "start_time": "2021-07-08T11:36:29.861Z"
   },
   {
    "duration": 50,
    "start_time": "2021-07-08T11:36:30.146Z"
   },
   {
    "duration": 14,
    "start_time": "2021-07-08T11:36:30.198Z"
   },
   {
    "duration": 11,
    "start_time": "2021-07-08T11:36:30.214Z"
   },
   {
    "duration": 245,
    "start_time": "2021-07-08T11:36:30.227Z"
   },
   {
    "duration": 439,
    "start_time": "2021-07-08T11:36:30.474Z"
   },
   {
    "duration": 210,
    "start_time": "2021-07-08T11:36:30.915Z"
   },
   {
    "duration": 15,
    "start_time": "2021-07-08T11:36:31.127Z"
   },
   {
    "duration": 17,
    "start_time": "2021-07-08T11:38:20.451Z"
   },
   {
    "duration": 642,
    "start_time": "2021-07-08T11:46:17.881Z"
   },
   {
    "duration": 210,
    "start_time": "2021-07-08T11:46:18.525Z"
   },
   {
    "duration": 104,
    "start_time": "2021-07-08T11:46:18.741Z"
   },
   {
    "duration": 8,
    "start_time": "2021-07-08T11:46:18.847Z"
   },
   {
    "duration": 25,
    "start_time": "2021-07-08T11:46:18.857Z"
   },
   {
    "duration": 14,
    "start_time": "2021-07-08T11:46:18.884Z"
   },
   {
    "duration": 22,
    "start_time": "2021-07-08T11:46:18.900Z"
   },
   {
    "duration": 5,
    "start_time": "2021-07-08T11:46:18.924Z"
   },
   {
    "duration": 13,
    "start_time": "2021-07-08T11:46:18.931Z"
   },
   {
    "duration": 45,
    "start_time": "2021-07-08T11:46:18.946Z"
   },
   {
    "duration": 12,
    "start_time": "2021-07-08T11:46:18.993Z"
   },
   {
    "duration": 38,
    "start_time": "2021-07-08T11:46:19.006Z"
   },
   {
    "duration": 50,
    "start_time": "2021-07-08T11:46:19.046Z"
   },
   {
    "duration": 29,
    "start_time": "2021-07-08T11:46:19.099Z"
   },
   {
    "duration": 7,
    "start_time": "2021-07-08T11:46:19.130Z"
   },
   {
    "duration": 3,
    "start_time": "2021-07-08T11:46:19.139Z"
   },
   {
    "duration": 11,
    "start_time": "2021-07-08T11:46:19.144Z"
   },
   {
    "duration": 40,
    "start_time": "2021-07-08T11:46:19.157Z"
   },
   {
    "duration": 15,
    "start_time": "2021-07-08T11:46:19.199Z"
   },
   {
    "duration": 10,
    "start_time": "2021-07-08T11:46:19.217Z"
   },
   {
    "duration": 68,
    "start_time": "2021-07-08T11:46:19.230Z"
   },
   {
    "duration": 17,
    "start_time": "2021-07-08T11:46:19.301Z"
   },
   {
    "duration": 7,
    "start_time": "2021-07-08T11:46:19.321Z"
   },
   {
    "duration": 11,
    "start_time": "2021-07-08T11:46:19.330Z"
   },
   {
    "duration": 59,
    "start_time": "2021-07-08T11:46:19.343Z"
   },
   {
    "duration": 17,
    "start_time": "2021-07-08T11:46:19.405Z"
   },
   {
    "duration": 16,
    "start_time": "2021-07-08T11:46:19.424Z"
   },
   {
    "duration": 252,
    "start_time": "2021-07-08T11:46:19.443Z"
   },
   {
    "duration": 9,
    "start_time": "2021-07-08T11:46:19.697Z"
   },
   {
    "duration": 224,
    "start_time": "2021-07-08T11:46:19.708Z"
   },
   {
    "duration": 21,
    "start_time": "2021-07-08T11:46:19.934Z"
   },
   {
    "duration": 9,
    "start_time": "2021-07-08T11:46:19.956Z"
   },
   {
    "duration": 32,
    "start_time": "2021-07-08T11:46:19.967Z"
   },
   {
    "duration": 288,
    "start_time": "2021-07-08T11:46:20.004Z"
   },
   {
    "duration": 23,
    "start_time": "2021-07-08T11:46:20.300Z"
   },
   {
    "duration": 11,
    "start_time": "2021-07-08T11:46:20.325Z"
   },
   {
    "duration": 11,
    "start_time": "2021-07-08T11:46:20.339Z"
   },
   {
    "duration": 259,
    "start_time": "2021-07-08T11:46:20.352Z"
   },
   {
    "duration": 438,
    "start_time": "2021-07-08T11:46:20.613Z"
   },
   {
    "duration": 207,
    "start_time": "2021-07-08T11:46:21.054Z"
   },
   {
    "duration": 27,
    "start_time": "2021-07-08T11:46:21.262Z"
   },
   {
    "duration": 19,
    "start_time": "2021-07-08T11:46:21.291Z"
   },
   {
    "duration": 820,
    "start_time": "2021-07-08T11:49:01.655Z"
   },
   {
    "duration": 372,
    "start_time": "2021-07-08T11:49:02.478Z"
   },
   {
    "duration": 98,
    "start_time": "2021-07-08T11:49:02.853Z"
   },
   {
    "duration": 6,
    "start_time": "2021-07-08T11:49:02.953Z"
   },
   {
    "duration": 39,
    "start_time": "2021-07-08T11:49:02.960Z"
   },
   {
    "duration": 9,
    "start_time": "2021-07-08T11:49:03.003Z"
   },
   {
    "duration": 23,
    "start_time": "2021-07-08T11:49:03.014Z"
   },
   {
    "duration": 6,
    "start_time": "2021-07-08T11:49:03.041Z"
   },
   {
    "duration": 20,
    "start_time": "2021-07-08T11:49:03.049Z"
   },
   {
    "duration": 18,
    "start_time": "2021-07-08T11:49:03.084Z"
   },
   {
    "duration": 14,
    "start_time": "2021-07-08T11:49:03.104Z"
   },
   {
    "duration": 39,
    "start_time": "2021-07-08T11:49:03.119Z"
   },
   {
    "duration": 38,
    "start_time": "2021-07-08T11:49:03.160Z"
   },
   {
    "duration": 26,
    "start_time": "2021-07-08T11:49:03.200Z"
   },
   {
    "duration": 7,
    "start_time": "2021-07-08T11:49:03.227Z"
   },
   {
    "duration": 4,
    "start_time": "2021-07-08T11:49:03.236Z"
   },
   {
    "duration": 15,
    "start_time": "2021-07-08T11:49:03.243Z"
   },
   {
    "duration": 21,
    "start_time": "2021-07-08T11:49:03.285Z"
   },
   {
    "duration": 17,
    "start_time": "2021-07-08T11:49:03.309Z"
   },
   {
    "duration": 10,
    "start_time": "2021-07-08T11:49:03.328Z"
   },
   {
    "duration": 65,
    "start_time": "2021-07-08T11:49:03.340Z"
   },
   {
    "duration": 18,
    "start_time": "2021-07-08T11:49:03.407Z"
   },
   {
    "duration": 8,
    "start_time": "2021-07-08T11:49:03.428Z"
   },
   {
    "duration": 15,
    "start_time": "2021-07-08T11:49:03.438Z"
   },
   {
    "duration": 40,
    "start_time": "2021-07-08T11:49:03.455Z"
   },
   {
    "duration": 12,
    "start_time": "2021-07-08T11:49:03.497Z"
   },
   {
    "duration": 29,
    "start_time": "2021-07-08T11:49:03.511Z"
   },
   {
    "duration": 285,
    "start_time": "2021-07-08T11:49:03.542Z"
   },
   {
    "duration": 8,
    "start_time": "2021-07-08T11:49:03.829Z"
   },
   {
    "duration": 227,
    "start_time": "2021-07-08T11:49:03.838Z"
   },
   {
    "duration": 40,
    "start_time": "2021-07-08T11:49:04.066Z"
   },
   {
    "duration": 10,
    "start_time": "2021-07-08T11:49:04.108Z"
   },
   {
    "duration": 26,
    "start_time": "2021-07-08T11:49:04.121Z"
   },
   {
    "duration": 290,
    "start_time": "2021-07-08T11:49:04.149Z"
   },
   {
    "duration": 26,
    "start_time": "2021-07-08T11:49:04.441Z"
   },
   {
    "duration": 31,
    "start_time": "2021-07-08T11:49:04.470Z"
   },
   {
    "duration": 14,
    "start_time": "2021-07-08T11:49:04.503Z"
   },
   {
    "duration": 259,
    "start_time": "2021-07-08T11:49:04.521Z"
   },
   {
    "duration": 480,
    "start_time": "2021-07-08T11:49:04.782Z"
   },
   {
    "duration": 225,
    "start_time": "2021-07-08T11:49:05.264Z"
   },
   {
    "duration": 22,
    "start_time": "2021-07-08T11:49:05.491Z"
   },
   {
    "duration": 24,
    "start_time": "2021-07-08T11:49:05.515Z"
   },
   {
    "duration": 634,
    "start_time": "2021-07-08T11:52:24.960Z"
   },
   {
    "duration": 199,
    "start_time": "2021-07-08T11:52:25.599Z"
   },
   {
    "duration": 106,
    "start_time": "2021-07-08T11:52:25.803Z"
   },
   {
    "duration": 7,
    "start_time": "2021-07-08T11:52:25.911Z"
   },
   {
    "duration": 29,
    "start_time": "2021-07-08T11:52:25.920Z"
   },
   {
    "duration": 7,
    "start_time": "2021-07-08T11:52:25.951Z"
   },
   {
    "duration": 26,
    "start_time": "2021-07-08T11:52:25.961Z"
   },
   {
    "duration": 11,
    "start_time": "2021-07-08T11:52:25.990Z"
   },
   {
    "duration": 29,
    "start_time": "2021-07-08T11:52:26.005Z"
   },
   {
    "duration": 9,
    "start_time": "2021-07-08T11:52:26.036Z"
   },
   {
    "duration": 8,
    "start_time": "2021-07-08T11:52:26.047Z"
   },
   {
    "duration": 63,
    "start_time": "2021-07-08T11:52:26.057Z"
   },
   {
    "duration": 17,
    "start_time": "2021-07-08T11:52:26.122Z"
   },
   {
    "duration": 43,
    "start_time": "2021-07-08T11:52:26.142Z"
   },
   {
    "duration": 17,
    "start_time": "2021-07-08T11:52:26.187Z"
   },
   {
    "duration": 5,
    "start_time": "2021-07-08T11:52:26.206Z"
   },
   {
    "duration": 12,
    "start_time": "2021-07-08T11:52:26.212Z"
   },
   {
    "duration": 11,
    "start_time": "2021-07-08T11:52:26.226Z"
   },
   {
    "duration": 12,
    "start_time": "2021-07-08T11:52:26.238Z"
   },
   {
    "duration": 38,
    "start_time": "2021-07-08T11:52:26.252Z"
   },
   {
    "duration": 40,
    "start_time": "2021-07-08T11:52:26.292Z"
   },
   {
    "duration": 17,
    "start_time": "2021-07-08T11:52:26.336Z"
   },
   {
    "duration": 39,
    "start_time": "2021-07-08T11:52:26.355Z"
   },
   {
    "duration": 11,
    "start_time": "2021-07-08T11:52:26.395Z"
   },
   {
    "duration": 23,
    "start_time": "2021-07-08T11:52:26.408Z"
   },
   {
    "duration": 12,
    "start_time": "2021-07-08T11:52:26.432Z"
   },
   {
    "duration": 41,
    "start_time": "2021-07-08T11:52:26.446Z"
   },
   {
    "duration": 215,
    "start_time": "2021-07-08T11:52:26.493Z"
   },
   {
    "duration": 8,
    "start_time": "2021-07-08T11:52:26.710Z"
   },
   {
    "duration": 228,
    "start_time": "2021-07-08T11:52:26.720Z"
   },
   {
    "duration": 18,
    "start_time": "2021-07-08T11:52:26.950Z"
   },
   {
    "duration": 35,
    "start_time": "2021-07-08T11:52:26.969Z"
   },
   {
    "duration": 23,
    "start_time": "2021-07-08T11:52:27.006Z"
   },
   {
    "duration": 258,
    "start_time": "2021-07-08T11:52:27.030Z"
   },
   {
    "duration": 24,
    "start_time": "2021-07-08T11:52:27.290Z"
   },
   {
    "duration": 12,
    "start_time": "2021-07-08T11:52:27.316Z"
   },
   {
    "duration": 10,
    "start_time": "2021-07-08T11:52:27.329Z"
   },
   {
    "duration": 298,
    "start_time": "2021-07-08T11:52:27.341Z"
   },
   {
    "duration": 436,
    "start_time": "2021-07-08T11:52:27.641Z"
   },
   {
    "duration": 216,
    "start_time": "2021-07-08T11:52:28.079Z"
   },
   {
    "duration": 20,
    "start_time": "2021-07-08T11:52:28.297Z"
   },
   {
    "duration": 17,
    "start_time": "2021-07-08T11:52:28.319Z"
   },
   {
    "duration": 912,
    "start_time": "2023-01-17T12:40:38.677Z"
   },
   {
    "duration": 129,
    "start_time": "2023-01-17T12:40:51.776Z"
   },
   {
    "duration": 141,
    "start_time": "2023-01-17T12:41:10.249Z"
   },
   {
    "duration": 196,
    "start_time": "2023-01-17T12:42:43.089Z"
   },
   {
    "duration": 147,
    "start_time": "2023-01-17T12:43:22.751Z"
   },
   {
    "duration": 134,
    "start_time": "2023-01-17T12:46:02.245Z"
   },
   {
    "duration": 144,
    "start_time": "2023-01-17T12:46:12.444Z"
   },
   {
    "duration": 12,
    "start_time": "2023-01-17T12:46:35.333Z"
   },
   {
    "duration": 30,
    "start_time": "2023-01-17T12:47:27.644Z"
   },
   {
    "duration": 13,
    "start_time": "2023-01-17T12:47:32.203Z"
   },
   {
    "duration": 1293,
    "start_time": "2023-01-17T12:49:29.906Z"
   },
   {
    "duration": 148,
    "start_time": "2023-01-17T12:50:51.567Z"
   },
   {
    "duration": 149,
    "start_time": "2023-01-17T12:51:49.001Z"
   },
   {
    "duration": 221,
    "start_time": "2023-01-17T12:51:52.920Z"
   },
   {
    "duration": 139,
    "start_time": "2023-01-17T12:53:43.964Z"
   },
   {
    "duration": 15,
    "start_time": "2023-01-17T12:54:01.450Z"
   },
   {
    "duration": 1001,
    "start_time": "2023-01-17T12:54:43.541Z"
   },
   {
    "duration": 142,
    "start_time": "2023-01-17T12:54:51.737Z"
   },
   {
    "duration": 136,
    "start_time": "2023-01-17T12:55:41.544Z"
   },
   {
    "duration": 915,
    "start_time": "2023-01-17T12:57:04.473Z"
   },
   {
    "duration": 135,
    "start_time": "2023-01-17T12:57:12.767Z"
   },
   {
    "duration": 174,
    "start_time": "2023-01-17T12:58:24.399Z"
   },
   {
    "duration": 197,
    "start_time": "2023-01-17T12:58:28.288Z"
   },
   {
    "duration": 145,
    "start_time": "2023-01-17T12:58:47.837Z"
   },
   {
    "duration": 14,
    "start_time": "2023-01-17T12:58:49.679Z"
   },
   {
    "duration": 162,
    "start_time": "2023-01-17T13:00:33.132Z"
   },
   {
    "duration": 138,
    "start_time": "2023-01-17T13:00:42.612Z"
   },
   {
    "duration": 254,
    "start_time": "2023-01-17T13:00:44.500Z"
   },
   {
    "duration": 141,
    "start_time": "2023-01-17T13:01:27.996Z"
   },
   {
    "duration": 140,
    "start_time": "2023-01-17T13:02:03.842Z"
   },
   {
    "duration": 251,
    "start_time": "2023-01-17T13:02:06.266Z"
   },
   {
    "duration": 151,
    "start_time": "2023-01-17T13:02:24.649Z"
   },
   {
    "duration": 145,
    "start_time": "2023-01-17T13:02:32.130Z"
   },
   {
    "duration": 159,
    "start_time": "2023-01-17T13:02:40.650Z"
   },
   {
    "duration": 488,
    "start_time": "2023-01-17T13:02:42.785Z"
   },
   {
    "duration": 10,
    "start_time": "2023-01-17T13:02:47.089Z"
   },
   {
    "duration": 260,
    "start_time": "2023-01-17T13:02:52.018Z"
   },
   {
    "duration": 7,
    "start_time": "2023-01-17T13:05:13.975Z"
   },
   {
    "duration": 507,
    "start_time": "2023-01-17T13:05:36.629Z"
   },
   {
    "duration": 12,
    "start_time": "2023-01-17T13:05:38.749Z"
   },
   {
    "duration": 8,
    "start_time": "2023-01-17T13:05:41.261Z"
   },
   {
    "duration": 6,
    "start_time": "2023-01-17T13:05:44.917Z"
   },
   {
    "duration": 10,
    "start_time": "2023-01-17T13:05:47.823Z"
   },
   {
    "duration": 9,
    "start_time": "2023-01-17T13:05:52.793Z"
   },
   {
    "duration": 6,
    "start_time": "2023-01-17T13:05:57.029Z"
   },
   {
    "duration": 8,
    "start_time": "2023-01-17T13:05:58.837Z"
   },
   {
    "duration": 280,
    "start_time": "2023-01-17T13:06:01.093Z"
   },
   {
    "duration": 276,
    "start_time": "2023-01-17T13:08:04.618Z"
   },
   {
    "duration": 19,
    "start_time": "2023-01-17T13:08:28.483Z"
   },
   {
    "duration": 37,
    "start_time": "2023-01-17T13:09:08.520Z"
   },
   {
    "duration": 75,
    "start_time": "2023-01-17T13:10:10.202Z"
   },
   {
    "duration": 24,
    "start_time": "2023-01-17T13:10:32.248Z"
   },
   {
    "duration": 29,
    "start_time": "2023-01-17T13:10:34.219Z"
   },
   {
    "duration": 12,
    "start_time": "2023-01-17T13:10:45.368Z"
   },
   {
    "duration": 9,
    "start_time": "2023-01-17T13:10:59.551Z"
   },
   {
    "duration": 5,
    "start_time": "2023-01-17T13:11:35.136Z"
   },
   {
    "duration": 21,
    "start_time": "2023-01-17T13:11:38.542Z"
   },
   {
    "duration": 197,
    "start_time": "2023-01-17T13:11:53.255Z"
   },
   {
    "duration": 531,
    "start_time": "2023-01-17T13:24:17.646Z"
   },
   {
    "duration": 32,
    "start_time": "2023-01-17T13:24:19.115Z"
   },
   {
    "duration": 17,
    "start_time": "2023-01-17T13:24:24.915Z"
   },
   {
    "duration": 6,
    "start_time": "2023-01-17T13:24:31.609Z"
   },
   {
    "duration": 5,
    "start_time": "2023-01-17T13:24:45.652Z"
   },
   {
    "duration": 6,
    "start_time": "2023-01-17T13:24:52.426Z"
   },
   {
    "duration": 6,
    "start_time": "2023-01-17T13:24:56.322Z"
   },
   {
    "duration": 9,
    "start_time": "2023-01-17T13:25:01.210Z"
   },
   {
    "duration": 500,
    "start_time": "2023-01-17T13:25:03.226Z"
   },
   {
    "duration": 12,
    "start_time": "2023-01-17T13:25:16.225Z"
   },
   {
    "duration": 216,
    "start_time": "2023-01-17T13:25:19.178Z"
   },
   {
    "duration": 5,
    "start_time": "2023-01-17T13:25:37.306Z"
   },
   {
    "duration": 5,
    "start_time": "2023-01-17T13:26:37.841Z"
   },
   {
    "duration": 5,
    "start_time": "2023-01-17T13:26:39.793Z"
   },
   {
    "duration": 382,
    "start_time": "2023-01-17T13:26:42.825Z"
   },
   {
    "duration": 371,
    "start_time": "2023-01-17T13:28:16.135Z"
   },
   {
    "duration": 6,
    "start_time": "2023-01-17T13:29:41.507Z"
   },
   {
    "duration": 9,
    "start_time": "2023-01-17T13:30:25.573Z"
   },
   {
    "duration": 39,
    "start_time": "2023-01-17T13:30:38.435Z"
   },
   {
    "duration": 6,
    "start_time": "2023-01-17T13:31:17.606Z"
   },
   {
    "duration": 6,
    "start_time": "2023-01-17T13:31:28.587Z"
   },
   {
    "duration": 46,
    "start_time": "2023-01-17T13:31:46.741Z"
   },
   {
    "duration": 121,
    "start_time": "2023-01-17T13:33:55.907Z"
   },
   {
    "duration": 562,
    "start_time": "2023-01-17T13:34:00.806Z"
   },
   {
    "duration": 12,
    "start_time": "2023-01-17T13:34:02.535Z"
   },
   {
    "duration": 6,
    "start_time": "2023-01-17T13:34:04.265Z"
   },
   {
    "duration": 257,
    "start_time": "2023-01-17T13:34:11.385Z"
   },
   {
    "duration": 6,
    "start_time": "2023-01-17T13:34:16.065Z"
   },
   {
    "duration": 6,
    "start_time": "2023-01-17T13:35:28.847Z"
   },
   {
    "duration": 226,
    "start_time": "2023-01-17T13:35:31.648Z"
   },
   {
    "duration": 5,
    "start_time": "2023-01-17T13:35:34.168Z"
   },
   {
    "duration": 5,
    "start_time": "2023-01-17T13:35:37.168Z"
   },
   {
    "duration": 5,
    "start_time": "2023-01-17T13:35:41.184Z"
   },
   {
    "duration": 6,
    "start_time": "2023-01-17T13:35:44.863Z"
   },
   {
    "duration": 7,
    "start_time": "2023-01-17T13:35:55.937Z"
   },
   {
    "duration": 5,
    "start_time": "2023-01-17T13:35:57.506Z"
   },
   {
    "duration": 5,
    "start_time": "2023-01-17T13:35:59.680Z"
   },
   {
    "duration": 7,
    "start_time": "2023-01-17T13:36:07.911Z"
   },
   {
    "duration": 198,
    "start_time": "2023-01-17T13:39:01.108Z"
   },
   {
    "duration": 9,
    "start_time": "2023-01-17T13:41:09.234Z"
   },
   {
    "duration": 5,
    "start_time": "2023-01-17T13:41:20.250Z"
   },
   {
    "duration": 5,
    "start_time": "2023-01-17T13:41:23.306Z"
   },
   {
    "duration": 4,
    "start_time": "2023-01-17T13:41:28.297Z"
   },
   {
    "duration": 16,
    "start_time": "2023-01-17T13:41:39.232Z"
   },
   {
    "duration": 10,
    "start_time": "2023-01-17T13:42:06.482Z"
   },
   {
    "duration": 7,
    "start_time": "2023-01-17T13:42:10.279Z"
   },
   {
    "duration": 9,
    "start_time": "2023-01-17T13:42:12.007Z"
   },
   {
    "duration": 4,
    "start_time": "2023-01-17T13:42:30.783Z"
   },
   {
    "duration": 5,
    "start_time": "2023-01-17T13:42:32.223Z"
   },
   {
    "duration": 6,
    "start_time": "2023-01-17T13:42:35.152Z"
   },
   {
    "duration": 15,
    "start_time": "2023-01-17T13:51:28.757Z"
   },
   {
    "duration": 66,
    "start_time": "2023-01-17T13:51:30.767Z"
   },
   {
    "duration": 532,
    "start_time": "2023-01-17T13:51:38.232Z"
   },
   {
    "duration": 18,
    "start_time": "2023-01-17T13:51:39.507Z"
   },
   {
    "duration": 12,
    "start_time": "2023-01-17T13:51:41.415Z"
   },
   {
    "duration": 17,
    "start_time": "2023-01-17T13:51:49.921Z"
   },
   {
    "duration": 30,
    "start_time": "2023-01-17T13:51:51.615Z"
   },
   {
    "duration": 98,
    "start_time": "2023-01-17T13:52:06.309Z"
   },
   {
    "duration": 23,
    "start_time": "2023-01-17T13:53:46.709Z"
   },
   {
    "duration": 48,
    "start_time": "2023-01-17T13:53:56.347Z"
   },
   {
    "duration": 291,
    "start_time": "2023-01-17T13:54:02.591Z"
   },
   {
    "duration": 8,
    "start_time": "2023-01-17T13:58:12.903Z"
   },
   {
    "duration": 6,
    "start_time": "2023-01-17T13:58:24.365Z"
   },
   {
    "duration": 13,
    "start_time": "2023-01-17T13:59:16.372Z"
   },
   {
    "duration": 9,
    "start_time": "2023-01-17T13:59:22.733Z"
   },
   {
    "duration": 197,
    "start_time": "2023-01-17T13:59:34.085Z"
   },
   {
    "duration": 514,
    "start_time": "2023-01-17T13:59:41.325Z"
   },
   {
    "duration": 10,
    "start_time": "2023-01-17T13:59:50.339Z"
   },
   {
    "duration": 10,
    "start_time": "2023-01-17T13:59:57.083Z"
   },
   {
    "duration": 12,
    "start_time": "2023-01-17T14:00:20.686Z"
   },
   {
    "duration": 36,
    "start_time": "2023-01-17T14:00:34.253Z"
   },
   {
    "duration": 7,
    "start_time": "2023-01-17T14:00:43.303Z"
   },
   {
    "duration": 8,
    "start_time": "2023-01-17T14:01:43.310Z"
   },
   {
    "duration": 7,
    "start_time": "2023-01-17T14:01:47.571Z"
   },
   {
    "duration": 12,
    "start_time": "2023-01-17T14:01:52.450Z"
   },
   {
    "duration": 28,
    "start_time": "2023-01-17T14:02:02.004Z"
   },
   {
    "duration": 6,
    "start_time": "2023-01-17T14:04:21.872Z"
   },
   {
    "duration": 10,
    "start_time": "2023-01-17T14:04:32.984Z"
   },
   {
    "duration": 5,
    "start_time": "2023-01-17T14:04:36.311Z"
   },
   {
    "duration": 18,
    "start_time": "2023-01-17T14:27:46.299Z"
   },
   {
    "duration": 13,
    "start_time": "2023-01-17T14:32:04.782Z"
   },
   {
    "duration": 62,
    "start_time": "2023-01-17T14:39:56.246Z"
   },
   {
    "duration": 554,
    "start_time": "2023-01-17T14:40:08.365Z"
   },
   {
    "duration": 12,
    "start_time": "2023-01-17T14:40:09.941Z"
   },
   {
    "duration": 4,
    "start_time": "2023-01-17T14:40:12.733Z"
   },
   {
    "duration": 855,
    "start_time": "2023-01-18T13:30:58.276Z"
   },
   {
    "duration": 11,
    "start_time": "2023-01-18T13:31:00.300Z"
   },
   {
    "duration": 50,
    "start_time": "2023-01-18T13:31:02.182Z"
   },
   {
    "duration": 10,
    "start_time": "2023-01-18T13:31:45.596Z"
   },
   {
    "duration": 15,
    "start_time": "2023-01-18T13:35:31.642Z"
   },
   {
    "duration": 29,
    "start_time": "2023-01-18T13:35:33.759Z"
   },
   {
    "duration": 12,
    "start_time": "2023-01-18T13:35:36.927Z"
   },
   {
    "duration": 9,
    "start_time": "2023-01-18T13:35:38.761Z"
   },
   {
    "duration": 6,
    "start_time": "2023-01-18T13:37:53.140Z"
   },
   {
    "duration": 95,
    "start_time": "2023-01-18T13:38:04.189Z"
   },
   {
    "duration": 7,
    "start_time": "2023-01-18T13:38:15.124Z"
   },
   {
    "duration": 3,
    "start_time": "2023-01-18T13:38:35.655Z"
   },
   {
    "duration": 13,
    "start_time": "2023-01-18T13:38:39.067Z"
   },
   {
    "duration": 524,
    "start_time": "2023-01-18T13:39:03.699Z"
   },
   {
    "duration": 16,
    "start_time": "2023-01-18T13:39:05.443Z"
   },
   {
    "duration": 29,
    "start_time": "2023-01-18T13:39:08.855Z"
   },
   {
    "duration": 14,
    "start_time": "2023-01-18T13:39:11.577Z"
   },
   {
    "duration": 9,
    "start_time": "2023-01-18T13:39:13.513Z"
   },
   {
    "duration": 7,
    "start_time": "2023-01-18T13:39:16.970Z"
   },
   {
    "duration": 8,
    "start_time": "2023-01-18T13:39:27.419Z"
   },
   {
    "duration": 14,
    "start_time": "2023-01-18T13:39:29.555Z"
   },
   {
    "duration": 14,
    "start_time": "2023-01-18T13:40:26.129Z"
   },
   {
    "duration": 484,
    "start_time": "2023-01-18T13:46:56.130Z"
   },
   {
    "duration": 16,
    "start_time": "2023-01-18T13:46:59.009Z"
   },
   {
    "duration": 28,
    "start_time": "2023-01-18T13:47:04.120Z"
   },
   {
    "duration": 10,
    "start_time": "2023-01-18T13:47:07.137Z"
   },
   {
    "duration": 9,
    "start_time": "2023-01-18T13:47:08.776Z"
   },
   {
    "duration": 6,
    "start_time": "2023-01-18T13:47:12.624Z"
   },
   {
    "duration": 9,
    "start_time": "2023-01-18T13:47:17.121Z"
   },
   {
    "duration": 74,
    "start_time": "2023-01-18T13:47:41.119Z"
   },
   {
    "duration": 3,
    "start_time": "2023-01-18T13:47:47.668Z"
   },
   {
    "duration": 12,
    "start_time": "2023-01-18T13:47:52.656Z"
   },
   {
    "duration": 12,
    "start_time": "2023-01-18T13:47:59.199Z"
   },
   {
    "duration": 3,
    "start_time": "2023-01-18T13:49:03.543Z"
   },
   {
    "duration": 12,
    "start_time": "2023-01-18T13:49:05.631Z"
   },
   {
    "duration": 4,
    "start_time": "2023-01-18T13:50:23.925Z"
   },
   {
    "duration": 15,
    "start_time": "2023-01-18T13:50:26.904Z"
   },
   {
    "duration": 4,
    "start_time": "2023-01-18T13:57:59.988Z"
   },
   {
    "duration": 12,
    "start_time": "2023-01-18T13:58:07.581Z"
   },
   {
    "duration": 570,
    "start_time": "2023-01-18T13:58:12.563Z"
   },
   {
    "duration": 19,
    "start_time": "2023-01-18T13:58:14.165Z"
   },
   {
    "duration": 30,
    "start_time": "2023-01-18T13:58:16.818Z"
   },
   {
    "duration": 13,
    "start_time": "2023-01-18T13:58:20.164Z"
   },
   {
    "duration": 9,
    "start_time": "2023-01-18T13:58:22.139Z"
   },
   {
    "duration": 5,
    "start_time": "2023-01-18T13:58:25.164Z"
   },
   {
    "duration": 5,
    "start_time": "2023-01-18T13:58:37.564Z"
   },
   {
    "duration": 6,
    "start_time": "2023-01-18T13:58:40.019Z"
   },
   {
    "duration": 87,
    "start_time": "2023-01-18T13:59:29.027Z"
   },
   {
    "duration": 14,
    "start_time": "2023-01-18T13:59:38.968Z"
   },
   {
    "duration": 17,
    "start_time": "2023-01-18T13:59:52.473Z"
   },
   {
    "duration": 37,
    "start_time": "2023-01-18T14:00:08.049Z"
   },
   {
    "duration": 10,
    "start_time": "2023-01-18T14:02:12.918Z"
   },
   {
    "duration": 15,
    "start_time": "2023-01-18T14:02:14.675Z"
   },
   {
    "duration": 14,
    "start_time": "2023-01-18T14:02:19.622Z"
   },
   {
    "duration": 17,
    "start_time": "2023-01-18T14:02:20.913Z"
   },
   {
    "duration": 547,
    "start_time": "2023-01-18T14:04:50.684Z"
   },
   {
    "duration": 18,
    "start_time": "2023-01-18T14:04:52.776Z"
   },
   {
    "duration": 29,
    "start_time": "2023-01-18T14:04:54.682Z"
   },
   {
    "duration": 11,
    "start_time": "2023-01-18T14:05:08.390Z"
   },
   {
    "duration": 10,
    "start_time": "2023-01-18T14:05:10.389Z"
   },
   {
    "duration": 5,
    "start_time": "2023-01-18T14:05:13.003Z"
   },
   {
    "duration": 5,
    "start_time": "2023-01-18T14:05:14.413Z"
   },
   {
    "duration": 13,
    "start_time": "2023-01-18T14:05:15.980Z"
   },
   {
    "duration": 18,
    "start_time": "2023-01-18T14:05:17.491Z"
   },
   {
    "duration": 33,
    "start_time": "2023-01-18T14:05:19.815Z"
   },
   {
    "duration": 22,
    "start_time": "2023-01-18T14:06:20.395Z"
   },
   {
    "duration": 64,
    "start_time": "2023-01-18T14:10:25.633Z"
   },
   {
    "duration": 5,
    "start_time": "2023-01-18T14:10:57.101Z"
   },
   {
    "duration": 7,
    "start_time": "2023-01-18T14:25:24.630Z"
   },
   {
    "duration": 6,
    "start_time": "2023-01-18T14:25:30.993Z"
   },
   {
    "duration": 4,
    "start_time": "2023-01-18T14:27:02.495Z"
   },
   {
    "duration": 4,
    "start_time": "2023-01-18T14:27:05.388Z"
   },
   {
    "duration": 6,
    "start_time": "2023-01-18T14:27:06.986Z"
   },
   {
    "duration": 7,
    "start_time": "2023-01-18T14:27:43.492Z"
   },
   {
    "duration": 7,
    "start_time": "2023-01-18T14:27:51.994Z"
   },
   {
    "duration": 7,
    "start_time": "2023-01-18T14:29:38.139Z"
   },
   {
    "duration": 10,
    "start_time": "2023-01-18T14:30:30.592Z"
   },
   {
    "duration": 20,
    "start_time": "2023-01-18T14:31:58.433Z"
   },
   {
    "duration": 9,
    "start_time": "2023-01-18T14:37:03.288Z"
   },
   {
    "duration": 23,
    "start_time": "2023-01-18T14:37:23.291Z"
   },
   {
    "duration": 12,
    "start_time": "2023-01-18T14:37:45.786Z"
   },
   {
    "duration": 23,
    "start_time": "2023-01-18T14:37:48.185Z"
   },
   {
    "duration": 54,
    "start_time": "2023-01-18T14:37:54.602Z"
   },
   {
    "duration": 10,
    "start_time": "2023-01-18T14:38:41.497Z"
   },
   {
    "duration": 3,
    "start_time": "2023-01-18T14:38:47.681Z"
   },
   {
    "duration": 717,
    "start_time": "2023-01-19T10:11:09.733Z"
   },
   {
    "duration": 64,
    "start_time": "2023-01-19T10:11:18.798Z"
   },
   {
    "duration": 17,
    "start_time": "2023-01-19T10:11:23.996Z"
   },
   {
    "duration": 28,
    "start_time": "2023-01-19T10:11:28.748Z"
   },
   {
    "duration": 10,
    "start_time": "2023-01-19T10:11:37.637Z"
   },
   {
    "duration": 9,
    "start_time": "2023-01-19T10:11:39.460Z"
   },
   {
    "duration": 4,
    "start_time": "2023-01-19T10:16:32.408Z"
   },
   {
    "duration": 6,
    "start_time": "2023-01-19T10:16:34.809Z"
   },
   {
    "duration": 14,
    "start_time": "2023-01-19T10:16:36.909Z"
   },
   {
    "duration": 16,
    "start_time": "2023-01-19T10:16:39.773Z"
   },
   {
    "duration": 33,
    "start_time": "2023-01-19T10:16:53.365Z"
   },
   {
    "duration": 18,
    "start_time": "2023-01-19T10:16:56.574Z"
   },
   {
    "duration": 458,
    "start_time": "2023-01-19T10:18:14.413Z"
   },
   {
    "duration": 17,
    "start_time": "2023-01-19T10:18:16.045Z"
   },
   {
    "duration": 25,
    "start_time": "2023-01-19T10:18:18.045Z"
   },
   {
    "duration": 10,
    "start_time": "2023-01-19T10:18:25.771Z"
   },
   {
    "duration": 9,
    "start_time": "2023-01-19T10:18:27.547Z"
   },
   {
    "duration": 4,
    "start_time": "2023-01-19T10:18:32.892Z"
   },
   {
    "duration": 60,
    "start_time": "2023-01-19T10:19:59.967Z"
   },
   {
    "duration": 486,
    "start_time": "2023-01-19T10:20:07.506Z"
   },
   {
    "duration": 17,
    "start_time": "2023-01-19T10:20:09.067Z"
   },
   {
    "duration": 25,
    "start_time": "2023-01-19T10:20:10.965Z"
   },
   {
    "duration": 10,
    "start_time": "2023-01-19T10:20:13.627Z"
   },
   {
    "duration": 8,
    "start_time": "2023-01-19T10:20:15.581Z"
   },
   {
    "duration": 4,
    "start_time": "2023-01-19T10:20:17.429Z"
   },
   {
    "duration": 5,
    "start_time": "2023-01-19T10:20:18.818Z"
   },
   {
    "duration": 11,
    "start_time": "2023-01-19T10:20:20.389Z"
   },
   {
    "duration": 14,
    "start_time": "2023-01-19T10:20:21.499Z"
   },
   {
    "duration": 31,
    "start_time": "2023-01-19T10:20:23.869Z"
   },
   {
    "duration": 17,
    "start_time": "2023-01-19T10:20:26.617Z"
   },
   {
    "duration": 5,
    "start_time": "2023-01-19T10:20:43.375Z"
   },
   {
    "duration": 6,
    "start_time": "2023-01-19T10:20:54.026Z"
   },
   {
    "duration": 52,
    "start_time": "2023-01-19T10:46:49.494Z"
   },
   {
    "duration": 703,
    "start_time": "2023-01-19T10:46:56.567Z"
   },
   {
    "duration": 17,
    "start_time": "2023-01-19T10:47:01.607Z"
   },
   {
    "duration": 77,
    "start_time": "2023-01-19T10:47:50.632Z"
   },
   {
    "duration": 9,
    "start_time": "2023-01-19T10:48:07.310Z"
   },
   {
    "duration": 11,
    "start_time": "2023-01-19T10:48:13.572Z"
   },
   {
    "duration": 7,
    "start_time": "2023-01-19T10:48:18.535Z"
   },
   {
    "duration": 5,
    "start_time": "2023-01-19T10:48:24.236Z"
   },
   {
    "duration": 9,
    "start_time": "2023-01-19T10:48:26.533Z"
   },
   {
    "duration": 492,
    "start_time": "2023-01-19T10:50:44.835Z"
   },
   {
    "duration": 15,
    "start_time": "2023-01-19T10:50:46.337Z"
   },
   {
    "duration": 26,
    "start_time": "2023-01-19T10:50:48.084Z"
   },
   {
    "duration": 10,
    "start_time": "2023-01-19T10:50:51.315Z"
   },
   {
    "duration": 9,
    "start_time": "2023-01-19T10:50:53.956Z"
   },
   {
    "duration": 11,
    "start_time": "2023-01-19T10:50:59.435Z"
   },
   {
    "duration": 7,
    "start_time": "2023-01-19T10:51:08.545Z"
   },
   {
    "duration": 9,
    "start_time": "2023-01-19T10:51:10.601Z"
   },
   {
    "duration": 7,
    "start_time": "2023-01-19T10:52:34.921Z"
   },
   {
    "duration": 84,
    "start_time": "2023-01-19T10:52:44.057Z"
   },
   {
    "duration": 15,
    "start_time": "2023-01-19T10:53:17.337Z"
   },
   {
    "duration": 511,
    "start_time": "2023-01-19T10:53:52.335Z"
   },
   {
    "duration": 18,
    "start_time": "2023-01-19T10:53:53.727Z"
   },
   {
    "duration": 30,
    "start_time": "2023-01-19T10:53:55.247Z"
   },
   {
    "duration": 11,
    "start_time": "2023-01-19T10:53:57.839Z"
   },
   {
    "duration": 8,
    "start_time": "2023-01-19T10:53:59.287Z"
   },
   {
    "duration": 11,
    "start_time": "2023-01-19T10:54:02.103Z"
   },
   {
    "duration": 8,
    "start_time": "2023-01-19T10:54:04.032Z"
   },
   {
    "duration": 12,
    "start_time": "2023-01-19T10:54:06.617Z"
   },
   {
    "duration": 6,
    "start_time": "2023-01-19T10:54:08.880Z"
   },
   {
    "duration": 74,
    "start_time": "2023-01-19T10:54:10.680Z"
   },
   {
    "duration": 10,
    "start_time": "2023-01-19T10:54:56.636Z"
   },
   {
    "duration": 10,
    "start_time": "2023-01-19T10:55:03.484Z"
   },
   {
    "duration": 4,
    "start_time": "2023-01-19T10:55:43.717Z"
   },
   {
    "duration": 9,
    "start_time": "2023-01-19T10:55:46.749Z"
   },
   {
    "duration": 4,
    "start_time": "2023-01-19T10:55:48.405Z"
   },
   {
    "duration": 509,
    "start_time": "2023-01-19T10:55:53.960Z"
   },
   {
    "duration": 16,
    "start_time": "2023-01-19T10:55:55.644Z"
   },
   {
    "duration": 30,
    "start_time": "2023-01-19T10:55:57.419Z"
   },
   {
    "duration": 12,
    "start_time": "2023-01-19T10:56:00.244Z"
   },
   {
    "duration": 9,
    "start_time": "2023-01-19T10:56:02.209Z"
   },
   {
    "duration": 10,
    "start_time": "2023-01-19T10:56:04.876Z"
   },
   {
    "duration": 8,
    "start_time": "2023-01-19T10:56:08.934Z"
   },
   {
    "duration": 10,
    "start_time": "2023-01-19T10:56:11.259Z"
   },
   {
    "duration": 9,
    "start_time": "2023-01-19T10:56:27.997Z"
   },
   {
    "duration": 518,
    "start_time": "2023-01-19T10:56:35.877Z"
   },
   {
    "duration": 23,
    "start_time": "2023-01-19T10:56:37.291Z"
   },
   {
    "duration": 27,
    "start_time": "2023-01-19T10:56:39.164Z"
   },
   {
    "duration": 13,
    "start_time": "2023-01-19T10:56:41.615Z"
   },
   {
    "duration": 11,
    "start_time": "2023-01-19T10:56:44.084Z"
   },
   {
    "duration": 11,
    "start_time": "2023-01-19T10:56:45.955Z"
   },
   {
    "duration": 9,
    "start_time": "2023-01-19T10:56:48.348Z"
   },
   {
    "duration": 15,
    "start_time": "2023-01-19T10:56:49.746Z"
   },
   {
    "duration": 4,
    "start_time": "2023-01-19T10:56:53.347Z"
   },
   {
    "duration": 4,
    "start_time": "2023-01-19T10:56:56.275Z"
   },
   {
    "duration": 12,
    "start_time": "2023-01-19T10:56:58.963Z"
   },
   {
    "duration": 16,
    "start_time": "2023-01-19T10:57:21.604Z"
   },
   {
    "duration": 31,
    "start_time": "2023-01-19T10:57:28.533Z"
   },
   {
    "duration": 5,
    "start_time": "2023-01-19T10:58:59.806Z"
   },
   {
    "duration": 20,
    "start_time": "2023-01-19T10:59:01.735Z"
   },
   {
    "duration": 5,
    "start_time": "2023-01-19T11:02:16.933Z"
   },
   {
    "duration": 4,
    "start_time": "2023-01-19T11:02:22.606Z"
   },
   {
    "duration": 4,
    "start_time": "2023-01-19T11:04:21.534Z"
   },
   {
    "duration": 666,
    "start_time": "2023-01-19T11:04:43.755Z"
   },
   {
    "duration": 5,
    "start_time": "2023-01-19T11:05:06.180Z"
   },
   {
    "duration": 6,
    "start_time": "2023-01-19T11:05:20.562Z"
   },
   {
    "duration": 13,
    "start_time": "2023-01-19T11:25:42.233Z"
   },
   {
    "duration": 25,
    "start_time": "2023-01-19T11:27:53.779Z"
   },
   {
    "duration": 21,
    "start_time": "2023-01-19T11:28:10.186Z"
   },
   {
    "duration": 6,
    "start_time": "2023-01-19T11:53:53.608Z"
   },
   {
    "duration": 9,
    "start_time": "2023-01-19T11:54:20.183Z"
   },
   {
    "duration": 5,
    "start_time": "2023-01-19T11:54:26.943Z"
   },
   {
    "duration": 5,
    "start_time": "2023-01-19T11:56:53.605Z"
   },
   {
    "duration": 5,
    "start_time": "2023-01-19T11:56:55.973Z"
   },
   {
    "duration": 9,
    "start_time": "2023-01-19T11:57:01.077Z"
   },
   {
    "duration": 40,
    "start_time": "2023-01-19T12:04:12.644Z"
   },
   {
    "duration": 4,
    "start_time": "2023-01-19T12:04:47.253Z"
   },
   {
    "duration": 2,
    "start_time": "2023-01-19T12:04:49.388Z"
   },
   {
    "duration": 72,
    "start_time": "2023-01-19T12:04:51.804Z"
   },
   {
    "duration": 3,
    "start_time": "2023-01-19T12:04:57.580Z"
   },
   {
    "duration": 11,
    "start_time": "2023-01-19T12:05:07.173Z"
   },
   {
    "duration": 4,
    "start_time": "2023-01-19T12:05:12.774Z"
   },
   {
    "duration": 40,
    "start_time": "2023-01-19T12:06:24.897Z"
   },
   {
    "duration": 19,
    "start_time": "2023-01-19T12:06:27.284Z"
   },
   {
    "duration": 41,
    "start_time": "2023-01-19T12:06:32.269Z"
   },
   {
    "duration": 139,
    "start_time": "2023-01-19T12:07:46.739Z"
   },
   {
    "duration": 43,
    "start_time": "2023-01-19T12:08:51.287Z"
   },
   {
    "duration": 125,
    "start_time": "2023-01-19T12:08:55.295Z"
   },
   {
    "duration": 104,
    "start_time": "2023-01-19T12:08:57.248Z"
   },
   {
    "duration": 39,
    "start_time": "2023-01-19T12:10:50.111Z"
   },
   {
    "duration": 47,
    "start_time": "2023-01-19T12:12:30.756Z"
   },
   {
    "duration": 9,
    "start_time": "2023-01-19T12:13:48.750Z"
   },
   {
    "duration": 8,
    "start_time": "2023-01-19T12:14:00.706Z"
   },
   {
    "duration": 6,
    "start_time": "2023-01-19T12:14:10.296Z"
   },
   {
    "duration": 77,
    "start_time": "2023-01-19T12:15:46.574Z"
   },
   {
    "duration": 11,
    "start_time": "2023-01-19T12:15:56.945Z"
   },
   {
    "duration": 21,
    "start_time": "2023-01-19T12:18:07.116Z"
   },
   {
    "duration": 506,
    "start_time": "2023-01-19T12:19:11.307Z"
   },
   {
    "duration": 15,
    "start_time": "2023-01-19T12:19:12.685Z"
   },
   {
    "duration": 26,
    "start_time": "2023-01-19T12:19:14.387Z"
   },
   {
    "duration": 11,
    "start_time": "2023-01-19T12:19:16.953Z"
   },
   {
    "duration": 9,
    "start_time": "2023-01-19T12:19:18.779Z"
   },
   {
    "duration": 10,
    "start_time": "2023-01-19T12:19:20.483Z"
   },
   {
    "duration": 8,
    "start_time": "2023-01-19T12:19:22.343Z"
   },
   {
    "duration": 13,
    "start_time": "2023-01-19T12:19:23.801Z"
   },
   {
    "duration": 4,
    "start_time": "2023-01-19T12:19:26.177Z"
   },
   {
    "duration": 4,
    "start_time": "2023-01-19T12:19:28.443Z"
   },
   {
    "duration": 12,
    "start_time": "2023-01-19T12:19:33.347Z"
   },
   {
    "duration": 17,
    "start_time": "2023-01-19T12:19:34.889Z"
   },
   {
    "duration": 33,
    "start_time": "2023-01-19T12:19:36.988Z"
   },
   {
    "duration": 5,
    "start_time": "2023-01-19T12:19:40.044Z"
   },
   {
    "duration": 22,
    "start_time": "2023-01-19T12:19:41.588Z"
   },
   {
    "duration": 5,
    "start_time": "2023-01-19T12:19:43.568Z"
   },
   {
    "duration": 4,
    "start_time": "2023-01-19T12:19:44.953Z"
   },
   {
    "duration": 5,
    "start_time": "2023-01-19T12:19:46.347Z"
   },
   {
    "duration": 5,
    "start_time": "2023-01-19T12:19:47.562Z"
   },
   {
    "duration": 5,
    "start_time": "2023-01-19T12:19:49.570Z"
   },
   {
    "duration": 19,
    "start_time": "2023-01-19T12:19:51.587Z"
   },
   {
    "duration": 6,
    "start_time": "2023-01-19T12:19:52.906Z"
   },
   {
    "duration": 21,
    "start_time": "2023-01-19T12:20:04.447Z"
   },
   {
    "duration": 13,
    "start_time": "2023-01-19T12:20:08.246Z"
   },
   {
    "duration": 23,
    "start_time": "2023-01-19T12:20:11.660Z"
   },
   {
    "duration": 6,
    "start_time": "2023-01-19T12:20:14.856Z"
   },
   {
    "duration": 6,
    "start_time": "2023-01-19T12:20:17.155Z"
   },
   {
    "duration": 5,
    "start_time": "2023-01-19T12:20:19.229Z"
   },
   {
    "duration": 40,
    "start_time": "2023-01-19T12:20:21.839Z"
   },
   {
    "duration": 14,
    "start_time": "2023-01-19T12:20:35.410Z"
   },
   {
    "duration": 22,
    "start_time": "2023-01-19T12:20:39.944Z"
   },
   {
    "duration": 38,
    "start_time": "2023-01-19T12:20:41.257Z"
   },
   {
    "duration": 22,
    "start_time": "2023-01-19T12:20:49.355Z"
   },
   {
    "duration": 5,
    "start_time": "2023-01-19T12:24:51.451Z"
   },
   {
    "duration": 21,
    "start_time": "2023-01-19T12:24:53.699Z"
   },
   {
    "duration": 5,
    "start_time": "2023-01-19T12:24:55.492Z"
   },
   {
    "duration": 39,
    "start_time": "2023-01-19T12:25:03.871Z"
   },
   {
    "duration": 26,
    "start_time": "2023-01-19T12:30:41.714Z"
   },
   {
    "duration": 23,
    "start_time": "2023-01-19T12:33:20.092Z"
   },
   {
    "duration": 26,
    "start_time": "2023-01-19T12:33:44.545Z"
   },
   {
    "duration": 6,
    "start_time": "2023-01-19T12:34:37.112Z"
   },
   {
    "duration": 11,
    "start_time": "2023-01-19T12:34:45.713Z"
   },
   {
    "duration": 12,
    "start_time": "2023-01-19T12:34:58.550Z"
   },
   {
    "duration": 79,
    "start_time": "2023-01-19T12:38:16.014Z"
   },
   {
    "duration": 11,
    "start_time": "2023-01-19T12:45:58.812Z"
   },
   {
    "duration": 4,
    "start_time": "2023-01-19T12:46:09.867Z"
   },
   {
    "duration": 11,
    "start_time": "2023-01-19T12:46:17.867Z"
   },
   {
    "duration": 11,
    "start_time": "2023-01-19T12:46:35.083Z"
   },
   {
    "duration": 11,
    "start_time": "2023-01-19T12:47:02.076Z"
   },
   {
    "duration": 5,
    "start_time": "2023-01-19T12:51:36.981Z"
   },
   {
    "duration": 376,
    "start_time": "2023-01-19T13:05:19.704Z"
   },
   {
    "duration": 4,
    "start_time": "2023-01-19T13:06:07.222Z"
   },
   {
    "duration": 14,
    "start_time": "2023-01-19T13:06:14.956Z"
   },
   {
    "duration": 40,
    "start_time": "2023-01-19T13:06:27.701Z"
   },
   {
    "duration": 10,
    "start_time": "2023-01-19T13:06:34.965Z"
   },
   {
    "duration": 35,
    "start_time": "2023-01-19T13:06:37.672Z"
   },
   {
    "duration": 10,
    "start_time": "2023-01-19T13:13:29.256Z"
   },
   {
    "duration": 615,
    "start_time": "2023-01-19T13:15:38.748Z"
   },
   {
    "duration": 178,
    "start_time": "2023-01-19T13:16:00.708Z"
   },
   {
    "duration": 173,
    "start_time": "2023-01-19T13:16:59.811Z"
   },
   {
    "duration": 175,
    "start_time": "2023-01-19T13:17:13.305Z"
   },
   {
    "duration": 7,
    "start_time": "2023-01-19T13:17:43.943Z"
   },
   {
    "duration": 6,
    "start_time": "2023-01-19T13:17:59.192Z"
   },
   {
    "duration": 280,
    "start_time": "2023-01-19T13:18:39.119Z"
   },
   {
    "duration": 189,
    "start_time": "2023-01-19T13:18:49.119Z"
   },
   {
    "duration": 21,
    "start_time": "2023-01-19T13:19:15.921Z"
   },
   {
    "duration": 20,
    "start_time": "2023-01-19T13:19:40.547Z"
   },
   {
    "duration": 18,
    "start_time": "2023-01-19T13:22:32.467Z"
   },
   {
    "duration": 253,
    "start_time": "2023-01-19T13:22:58.662Z"
   },
   {
    "duration": 495,
    "start_time": "2023-01-19T13:59:57.832Z"
   },
   {
    "duration": 18,
    "start_time": "2023-01-19T14:00:01.085Z"
   },
   {
    "duration": 28,
    "start_time": "2023-01-19T14:00:04.539Z"
   },
   {
    "duration": 10,
    "start_time": "2023-01-19T14:00:10.438Z"
   },
   {
    "duration": 9,
    "start_time": "2023-01-19T14:00:25.781Z"
   },
   {
    "duration": 10,
    "start_time": "2023-01-19T14:00:50.343Z"
   },
   {
    "duration": 8,
    "start_time": "2023-01-19T14:01:08.880Z"
   },
   {
    "duration": 10,
    "start_time": "2023-01-19T14:01:10.770Z"
   },
   {
    "duration": 3,
    "start_time": "2023-01-19T14:01:16.197Z"
   },
   {
    "duration": 5,
    "start_time": "2023-01-19T14:01:20.763Z"
   },
   {
    "duration": 13,
    "start_time": "2023-01-19T14:01:24.578Z"
   },
   {
    "duration": 15,
    "start_time": "2023-01-19T14:01:41.707Z"
   },
   {
    "duration": 15,
    "start_time": "2023-01-19T14:01:45.676Z"
   },
   {
    "duration": 21,
    "start_time": "2023-01-19T14:01:56.285Z"
   },
   {
    "duration": 6,
    "start_time": "2023-01-19T14:02:04.603Z"
   },
   {
    "duration": 23,
    "start_time": "2023-01-19T14:02:09.637Z"
   },
   {
    "duration": 5,
    "start_time": "2023-01-19T14:02:21.778Z"
   },
   {
    "duration": 5,
    "start_time": "2023-01-19T14:02:25.202Z"
   },
   {
    "duration": 6,
    "start_time": "2023-01-19T14:02:27.914Z"
   },
   {
    "duration": 5,
    "start_time": "2023-01-19T14:02:35.763Z"
   },
   {
    "duration": 6,
    "start_time": "2023-01-19T14:02:53.935Z"
   },
   {
    "duration": 16,
    "start_time": "2023-01-19T14:03:09.441Z"
   },
   {
    "duration": 10,
    "start_time": "2023-01-19T14:03:18.113Z"
   },
   {
    "duration": 6,
    "start_time": "2023-01-19T14:03:25.682Z"
   },
   {
    "duration": 12,
    "start_time": "2023-01-19T14:03:57.672Z"
   },
   {
    "duration": 22,
    "start_time": "2023-01-19T14:04:00.634Z"
   },
   {
    "duration": 22,
    "start_time": "2023-01-19T14:04:09.897Z"
   },
   {
    "duration": 4,
    "start_time": "2023-01-19T14:04:29.139Z"
   },
   {
    "duration": 62,
    "start_time": "2023-01-19T14:04:30.723Z"
   },
   {
    "duration": 8,
    "start_time": "2023-01-19T14:05:02.662Z"
   },
   {
    "duration": 8,
    "start_time": "2023-01-19T14:05:10.982Z"
   },
   {
    "duration": 5,
    "start_time": "2023-01-19T14:05:21.446Z"
   },
   {
    "duration": 40,
    "start_time": "2023-01-19T14:05:26.142Z"
   },
   {
    "duration": 3,
    "start_time": "2023-01-19T14:05:40.303Z"
   },
   {
    "duration": 8,
    "start_time": "2023-01-19T14:05:51.159Z"
   },
   {
    "duration": 23,
    "start_time": "2023-01-19T14:06:05.096Z"
   },
   {
    "duration": 830,
    "start_time": "2023-01-20T10:24:56.470Z"
   },
   {
    "duration": 22,
    "start_time": "2023-01-20T10:24:58.343Z"
   },
   {
    "duration": 32,
    "start_time": "2023-01-20T10:25:01.031Z"
   },
   {
    "duration": 10,
    "start_time": "2023-01-20T10:25:50.734Z"
   },
   {
    "duration": 8,
    "start_time": "2023-01-20T10:25:52.678Z"
   },
   {
    "duration": 13,
    "start_time": "2023-01-20T10:25:55.367Z"
   },
   {
    "duration": 7,
    "start_time": "2023-01-20T10:26:03.933Z"
   },
   {
    "duration": 10,
    "start_time": "2023-01-20T10:26:07.493Z"
   },
   {
    "duration": 3,
    "start_time": "2023-01-20T10:26:10.237Z"
   },
   {
    "duration": 4,
    "start_time": "2023-01-20T10:26:17.685Z"
   },
   {
    "duration": 11,
    "start_time": "2023-01-20T10:26:21.413Z"
   },
   {
    "duration": 19,
    "start_time": "2023-01-20T10:26:23.134Z"
   },
   {
    "duration": 27,
    "start_time": "2023-01-20T10:26:27.141Z"
   },
   {
    "duration": 5,
    "start_time": "2023-01-20T10:26:30.253Z"
   },
   {
    "duration": 20,
    "start_time": "2023-01-20T10:26:35.803Z"
   },
   {
    "duration": 4,
    "start_time": "2023-01-20T10:27:18.101Z"
   },
   {
    "duration": 7,
    "start_time": "2023-01-20T10:27:38.251Z"
   },
   {
    "duration": 7,
    "start_time": "2023-01-20T10:27:40.520Z"
   },
   {
    "duration": 4,
    "start_time": "2023-01-20T10:27:45.675Z"
   },
   {
    "duration": 5,
    "start_time": "2023-01-20T10:27:47.524Z"
   },
   {
    "duration": 13,
    "start_time": "2023-01-20T10:27:57.428Z"
   },
   {
    "duration": 7,
    "start_time": "2023-01-20T10:27:59.508Z"
   },
   {
    "duration": 19,
    "start_time": "2023-01-20T10:28:51.901Z"
   },
   {
    "duration": 14,
    "start_time": "2023-01-20T10:29:26.967Z"
   },
   {
    "duration": 20,
    "start_time": "2023-01-20T10:29:32.002Z"
   },
   {
    "duration": 10,
    "start_time": "2023-01-20T10:31:34.968Z"
   },
   {
    "duration": 844,
    "start_time": "2023-01-20T10:32:19.664Z"
   },
   {
    "duration": 9,
    "start_time": "2023-01-20T10:32:27.742Z"
   },
   {
    "duration": 5,
    "start_time": "2023-01-20T10:36:30.601Z"
   },
   {
    "duration": 8,
    "start_time": "2023-01-20T10:36:32.296Z"
   },
   {
    "duration": 8,
    "start_time": "2023-01-20T10:36:44.528Z"
   },
   {
    "duration": 6,
    "start_time": "2023-01-20T10:36:47.217Z"
   },
   {
    "duration": 46,
    "start_time": "2023-01-20T10:36:48.945Z"
   },
   {
    "duration": 11,
    "start_time": "2023-01-20T10:38:21.511Z"
   },
   {
    "duration": 9,
    "start_time": "2023-01-20T10:40:08.030Z"
   },
   {
    "duration": 27,
    "start_time": "2023-01-20T10:40:18.783Z"
   },
   {
    "duration": 5,
    "start_time": "2023-01-20T10:40:21.983Z"
   },
   {
    "duration": 18,
    "start_time": "2023-01-20T10:40:42.805Z"
   },
   {
    "duration": 5,
    "start_time": "2023-01-20T10:40:44.605Z"
   },
   {
    "duration": 38,
    "start_time": "2023-01-20T10:41:09.595Z"
   },
   {
    "duration": 36,
    "start_time": "2023-01-20T10:45:08.585Z"
   },
   {
    "duration": 5,
    "start_time": "2023-01-20T10:45:10.424Z"
   },
   {
    "duration": 40,
    "start_time": "2023-01-20T10:45:12.773Z"
   },
   {
    "duration": 20,
    "start_time": "2023-01-20T10:45:31.736Z"
   },
   {
    "duration": 5,
    "start_time": "2023-01-20T10:48:57.941Z"
   },
   {
    "duration": 4,
    "start_time": "2023-01-20T10:49:08.253Z"
   },
   {
    "duration": 29,
    "start_time": "2023-01-20T10:49:10.123Z"
   },
   {
    "duration": 12,
    "start_time": "2023-01-20T10:49:26.940Z"
   },
   {
    "duration": 16,
    "start_time": "2023-01-20T10:49:33.508Z"
   },
   {
    "duration": 11,
    "start_time": "2023-01-20T10:50:06.010Z"
   },
   {
    "duration": 30,
    "start_time": "2023-01-20T10:50:49.690Z"
   },
   {
    "duration": 21,
    "start_time": "2023-01-20T10:52:49.329Z"
   },
   {
    "duration": 55,
    "start_time": "2023-01-20T11:10:18.182Z"
   },
   {
    "duration": 56,
    "start_time": "2023-01-20T11:11:18.030Z"
   },
   {
    "duration": 6,
    "start_time": "2023-01-20T11:12:46.588Z"
   },
   {
    "duration": 22,
    "start_time": "2023-01-20T11:12:50.184Z"
   },
   {
    "duration": 53,
    "start_time": "2023-01-20T11:13:00.977Z"
   },
   {
    "duration": 40,
    "start_time": "2023-01-20T11:13:16.875Z"
   },
   {
    "duration": 5,
    "start_time": "2023-01-20T11:21:42.947Z"
   },
   {
    "duration": 41,
    "start_time": "2023-01-20T11:21:47.785Z"
   },
   {
    "duration": 4,
    "start_time": "2023-01-20T11:24:55.553Z"
   },
   {
    "duration": 47,
    "start_time": "2023-01-20T11:24:58.344Z"
   },
   {
    "duration": 48,
    "start_time": "2023-01-20T11:26:19.667Z"
   },
   {
    "duration": 43,
    "start_time": "2023-01-20T11:26:30.857Z"
   },
   {
    "duration": 42,
    "start_time": "2023-01-20T11:26:45.317Z"
   },
   {
    "duration": 54,
    "start_time": "2023-01-20T11:27:04.773Z"
   },
   {
    "duration": 50,
    "start_time": "2023-01-20T11:27:53.575Z"
   },
   {
    "duration": 5,
    "start_time": "2023-01-20T11:28:33.855Z"
   },
   {
    "duration": 27,
    "start_time": "2023-01-20T11:29:13.580Z"
   },
   {
    "duration": 11,
    "start_time": "2023-01-20T11:31:03.624Z"
   },
   {
    "duration": 8,
    "start_time": "2023-01-20T11:31:31.410Z"
   },
   {
    "duration": 23,
    "start_time": "2023-01-20T11:43:07.678Z"
   },
   {
    "duration": 13,
    "start_time": "2023-01-20T11:43:43.493Z"
   },
   {
    "duration": 14,
    "start_time": "2023-01-20T11:44:29.276Z"
   },
   {
    "duration": 4,
    "start_time": "2023-01-20T11:44:41.868Z"
   },
   {
    "duration": 10,
    "start_time": "2023-01-20T11:44:47.624Z"
   },
   {
    "duration": 11,
    "start_time": "2023-01-20T11:44:53.858Z"
   },
   {
    "duration": 84,
    "start_time": "2023-01-20T11:45:06.525Z"
   },
   {
    "duration": 9,
    "start_time": "2023-01-20T11:45:12.805Z"
   },
   {
    "duration": 584,
    "start_time": "2023-01-20T11:45:48.428Z"
   },
   {
    "duration": 7,
    "start_time": "2023-01-20T11:46:06.283Z"
   },
   {
    "duration": 15,
    "start_time": "2023-01-20T11:46:56.065Z"
   },
   {
    "duration": 180,
    "start_time": "2023-01-20T11:47:01.538Z"
   },
   {
    "duration": 6,
    "start_time": "2023-01-20T11:47:04.410Z"
   },
   {
    "duration": 4,
    "start_time": "2023-01-20T11:47:50.609Z"
   },
   {
    "duration": 171,
    "start_time": "2023-01-20T11:47:53.295Z"
   },
   {
    "duration": 7,
    "start_time": "2023-01-20T11:47:55.481Z"
   },
   {
    "duration": 188,
    "start_time": "2023-01-20T11:50:13.486Z"
   },
   {
    "duration": 16,
    "start_time": "2023-01-20T11:51:41.515Z"
   },
   {
    "duration": 17,
    "start_time": "2023-01-20T11:53:18.155Z"
   },
   {
    "duration": 259,
    "start_time": "2023-01-20T11:53:37.713Z"
   },
   {
    "duration": 775,
    "start_time": "2023-01-20T11:59:12.996Z"
   },
   {
    "duration": 27,
    "start_time": "2023-01-20T11:59:34.018Z"
   },
   {
    "duration": 266,
    "start_time": "2023-01-20T12:02:04.599Z"
   },
   {
    "duration": 267,
    "start_time": "2023-01-20T12:02:15.040Z"
   },
   {
    "duration": 251,
    "start_time": "2023-01-20T12:02:27.063Z"
   },
   {
    "duration": 259,
    "start_time": "2023-01-20T12:02:37.745Z"
   },
   {
    "duration": 608,
    "start_time": "2023-01-20T12:02:42.063Z"
   },
   {
    "duration": 210,
    "start_time": "2023-01-20T12:03:18.216Z"
   },
   {
    "duration": 220,
    "start_time": "2023-01-20T12:04:00.757Z"
   },
   {
    "duration": 220,
    "start_time": "2023-01-20T12:04:06.413Z"
   },
   {
    "duration": 199,
    "start_time": "2023-01-20T12:04:09.966Z"
   },
   {
    "duration": 194,
    "start_time": "2023-01-20T12:04:14.535Z"
   },
   {
    "duration": 223,
    "start_time": "2023-01-20T12:04:19.229Z"
   },
   {
    "duration": 273,
    "start_time": "2023-01-20T12:04:31.245Z"
   },
   {
    "duration": 287,
    "start_time": "2023-01-20T12:05:43.718Z"
   },
   {
    "duration": 213,
    "start_time": "2023-01-20T12:05:49.067Z"
   },
   {
    "duration": 19,
    "start_time": "2023-01-20T12:07:20.156Z"
   },
   {
    "duration": 129,
    "start_time": "2023-01-20T12:30:34.752Z"
   },
   {
    "duration": 547,
    "start_time": "2023-01-20T12:30:39.050Z"
   },
   {
    "duration": 23,
    "start_time": "2023-01-20T12:30:58.860Z"
   },
   {
    "duration": 26,
    "start_time": "2023-01-20T12:31:01.424Z"
   },
   {
    "duration": 10,
    "start_time": "2023-01-20T12:31:12.710Z"
   },
   {
    "duration": 8,
    "start_time": "2023-01-20T12:31:16.166Z"
   },
   {
    "duration": 15,
    "start_time": "2023-01-20T12:31:19.742Z"
   },
   {
    "duration": 7,
    "start_time": "2023-01-20T12:31:28.335Z"
   },
   {
    "duration": 12,
    "start_time": "2023-01-20T12:31:34.821Z"
   },
   {
    "duration": 72,
    "start_time": "2023-01-20T12:31:44.351Z"
   },
   {
    "duration": 4,
    "start_time": "2023-01-20T12:31:51.365Z"
   },
   {
    "duration": 3,
    "start_time": "2023-01-20T12:31:53.805Z"
   },
   {
    "duration": 11,
    "start_time": "2023-01-20T12:31:56.397Z"
   },
   {
    "duration": 15,
    "start_time": "2023-01-20T12:32:02.333Z"
   },
   {
    "duration": 83,
    "start_time": "2023-01-20T12:32:05.496Z"
   },
   {
    "duration": 4,
    "start_time": "2023-01-20T12:32:12.270Z"
   },
   {
    "duration": 25,
    "start_time": "2023-01-20T12:32:14.677Z"
   },
   {
    "duration": 5,
    "start_time": "2023-01-20T12:32:32.204Z"
   },
   {
    "duration": 6,
    "start_time": "2023-01-20T12:32:33.752Z"
   },
   {
    "duration": 4,
    "start_time": "2023-01-20T12:32:35.502Z"
   },
   {
    "duration": 6,
    "start_time": "2023-01-20T12:32:37.438Z"
   },
   {
    "duration": 16,
    "start_time": "2023-01-20T12:32:55.582Z"
   },
   {
    "duration": 8,
    "start_time": "2023-01-20T12:33:01.613Z"
   },
   {
    "duration": 5,
    "start_time": "2023-01-20T12:40:24.372Z"
   },
   {
    "duration": 28,
    "start_time": "2023-01-20T12:40:28.931Z"
   },
   {
    "duration": 35,
    "start_time": "2023-01-20T12:40:30.780Z"
   },
   {
    "duration": 5,
    "start_time": "2023-01-20T12:40:32.588Z"
   },
   {
    "duration": 5,
    "start_time": "2023-01-20T12:40:35.108Z"
   },
   {
    "duration": 25,
    "start_time": "2023-01-20T12:40:36.980Z"
   },
   {
    "duration": 5,
    "start_time": "2023-01-20T12:40:38.460Z"
   },
   {
    "duration": 39,
    "start_time": "2023-01-20T12:41:03.269Z"
   },
   {
    "duration": 29,
    "start_time": "2023-01-20T12:42:11.311Z"
   },
   {
    "duration": 15,
    "start_time": "2023-01-20T12:42:33.552Z"
   },
   {
    "duration": 5,
    "start_time": "2023-01-20T12:48:51.402Z"
   },
   {
    "duration": 3,
    "start_time": "2023-01-20T12:48:52.891Z"
   },
   {
    "duration": 11,
    "start_time": "2023-01-20T12:48:54.298Z"
   },
   {
    "duration": 17,
    "start_time": "2023-01-20T12:48:56.026Z"
   },
   {
    "duration": 4,
    "start_time": "2023-01-20T12:49:15.163Z"
   },
   {
    "duration": 18,
    "start_time": "2023-01-20T12:49:17.515Z"
   },
   {
    "duration": 14,
    "start_time": "2023-01-20T12:50:50.505Z"
   },
   {
    "duration": 370,
    "start_time": "2023-01-20T12:50:59.057Z"
   },
   {
    "duration": 7,
    "start_time": "2023-01-20T12:51:42.584Z"
   },
   {
    "duration": 7,
    "start_time": "2023-01-20T12:51:45.375Z"
   },
   {
    "duration": 5,
    "start_time": "2023-01-20T12:51:49.255Z"
   },
   {
    "duration": 169,
    "start_time": "2023-01-20T12:51:51.167Z"
   },
   {
    "duration": 6,
    "start_time": "2023-01-20T12:53:32.877Z"
   },
   {
    "duration": 8,
    "start_time": "2023-01-20T12:53:34.709Z"
   },
   {
    "duration": 7,
    "start_time": "2023-01-20T12:53:36.717Z"
   },
   {
    "duration": 159,
    "start_time": "2023-01-20T12:53:46.755Z"
   },
   {
    "duration": 4,
    "start_time": "2023-01-20T12:58:13.860Z"
   },
   {
    "duration": 7,
    "start_time": "2023-01-20T12:58:16.722Z"
   },
   {
    "duration": 7,
    "start_time": "2023-01-20T12:58:19.060Z"
   },
   {
    "duration": 5,
    "start_time": "2023-01-20T12:58:22.330Z"
   },
   {
    "duration": 7,
    "start_time": "2023-01-20T12:58:24.696Z"
   },
   {
    "duration": 9,
    "start_time": "2023-01-20T12:59:52.041Z"
   },
   {
    "duration": 6,
    "start_time": "2023-01-20T13:00:00.903Z"
   },
   {
    "duration": 168,
    "start_time": "2023-01-20T13:00:06.142Z"
   },
   {
    "duration": 3,
    "start_time": "2023-01-20T13:00:44.632Z"
   },
   {
    "duration": 7,
    "start_time": "2023-01-20T13:00:47.286Z"
   },
   {
    "duration": 7,
    "start_time": "2023-01-20T13:00:49.053Z"
   },
   {
    "duration": 6,
    "start_time": "2023-01-20T13:00:51.408Z"
   },
   {
    "duration": 219,
    "start_time": "2023-01-20T13:02:06.790Z"
   },
   {
    "duration": 21,
    "start_time": "2023-01-20T13:03:29.948Z"
   },
   {
    "duration": 12,
    "start_time": "2023-01-20T13:03:38.254Z"
   },
   {
    "duration": 11,
    "start_time": "2023-01-20T13:03:55.475Z"
   },
   {
    "duration": 187,
    "start_time": "2023-01-20T13:04:20.796Z"
   },
   {
    "duration": 121,
    "start_time": "2023-01-20T13:18:40.733Z"
   },
   {
    "duration": 480,
    "start_time": "2023-01-20T13:18:44.170Z"
   },
   {
    "duration": 16,
    "start_time": "2023-01-20T13:18:45.743Z"
   },
   {
    "duration": 22,
    "start_time": "2023-01-20T13:18:47.237Z"
   },
   {
    "duration": 9,
    "start_time": "2023-01-20T13:18:50.192Z"
   },
   {
    "duration": 7,
    "start_time": "2023-01-20T13:18:51.645Z"
   },
   {
    "duration": 16,
    "start_time": "2023-01-20T13:18:53.526Z"
   },
   {
    "duration": 11,
    "start_time": "2023-01-20T13:18:55.438Z"
   },
   {
    "duration": 16,
    "start_time": "2023-01-20T13:18:57.701Z"
   },
   {
    "duration": 4,
    "start_time": "2023-01-20T13:18:59.526Z"
   },
   {
    "duration": 4,
    "start_time": "2023-01-20T13:19:01.221Z"
   },
   {
    "duration": 11,
    "start_time": "2023-01-20T13:19:03.004Z"
   },
   {
    "duration": 15,
    "start_time": "2023-01-20T13:19:04.884Z"
   },
   {
    "duration": 73,
    "start_time": "2023-01-20T13:19:06.624Z"
   },
   {
    "duration": 5,
    "start_time": "2023-01-20T13:19:11.036Z"
   },
   {
    "duration": 34,
    "start_time": "2023-01-20T13:19:12.500Z"
   },
   {
    "duration": 5,
    "start_time": "2023-01-20T13:19:18.356Z"
   },
   {
    "duration": 7,
    "start_time": "2023-01-20T13:19:19.676Z"
   },
   {
    "duration": 8,
    "start_time": "2023-01-20T13:19:21.965Z"
   },
   {
    "duration": 6,
    "start_time": "2023-01-20T13:19:23.741Z"
   },
   {
    "duration": 6,
    "start_time": "2023-01-20T13:19:30.677Z"
   },
   {
    "duration": 12,
    "start_time": "2023-01-20T13:19:32.564Z"
   },
   {
    "duration": 7,
    "start_time": "2023-01-20T13:19:34.668Z"
   },
   {
    "duration": 12,
    "start_time": "2023-01-20T13:19:36.804Z"
   },
   {
    "duration": 21,
    "start_time": "2023-01-20T13:19:38.861Z"
   },
   {
    "duration": 5,
    "start_time": "2023-01-20T13:19:41.124Z"
   },
   {
    "duration": 5,
    "start_time": "2023-01-20T13:19:43.132Z"
   },
   {
    "duration": 26,
    "start_time": "2023-01-20T13:19:45.019Z"
   },
   {
    "duration": 5,
    "start_time": "2023-01-20T13:19:46.532Z"
   },
   {
    "duration": 39,
    "start_time": "2023-01-20T13:19:49.684Z"
   },
   {
    "duration": 13,
    "start_time": "2023-01-20T13:19:52.123Z"
   },
   {
    "duration": 4,
    "start_time": "2023-01-20T13:19:55.443Z"
   },
   {
    "duration": 3,
    "start_time": "2023-01-20T13:19:57.251Z"
   },
   {
    "duration": 6,
    "start_time": "2023-01-20T13:19:59.739Z"
   },
   {
    "duration": 17,
    "start_time": "2023-01-20T13:20:01.187Z"
   },
   {
    "duration": 58,
    "start_time": "2023-01-20T13:21:50.122Z"
   },
   {
    "duration": 8,
    "start_time": "2023-01-20T13:22:31.671Z"
   },
   {
    "duration": 13,
    "start_time": "2023-01-20T13:22:36.716Z"
   },
   {
    "duration": 10,
    "start_time": "2023-01-20T13:22:37.770Z"
   },
   {
    "duration": 410,
    "start_time": "2023-01-20T13:22:41.074Z"
   },
   {
    "duration": 4,
    "start_time": "2023-01-20T13:22:46.585Z"
   },
   {
    "duration": 5,
    "start_time": "2023-01-20T13:23:21.025Z"
   },
   {
    "duration": 6,
    "start_time": "2023-01-20T13:23:43.522Z"
   },
   {
    "duration": 14,
    "start_time": "2023-01-20T13:25:21.479Z"
   },
   {
    "duration": 161,
    "start_time": "2023-01-20T13:25:23.479Z"
   },
   {
    "duration": 19,
    "start_time": "2023-01-20T13:25:38.278Z"
   },
   {
    "duration": 26,
    "start_time": "2023-01-20T13:25:43.517Z"
   },
   {
    "duration": 20,
    "start_time": "2023-01-20T13:27:02.668Z"
   },
   {
    "duration": 13,
    "start_time": "2023-01-20T13:28:11.484Z"
   },
   {
    "duration": 13,
    "start_time": "2023-01-20T13:28:28.978Z"
   },
   {
    "duration": 8,
    "start_time": "2023-01-20T13:28:53.691Z"
   },
   {
    "duration": 157,
    "start_time": "2023-01-20T13:29:33.970Z"
   },
   {
    "duration": 145,
    "start_time": "2023-01-20T13:29:46.468Z"
   },
   {
    "duration": 794,
    "start_time": "2023-01-20T13:31:10.048Z"
   },
   {
    "duration": 14,
    "start_time": "2023-01-20T13:31:32.158Z"
   },
   {
    "duration": 9,
    "start_time": "2023-01-20T13:33:11.519Z"
   },
   {
    "duration": 16,
    "start_time": "2023-01-20T13:34:05.014Z"
   },
   {
    "duration": 6,
    "start_time": "2023-01-20T13:34:36.666Z"
   },
   {
    "duration": 6,
    "start_time": "2023-01-20T13:34:52.119Z"
   },
   {
    "duration": 10,
    "start_time": "2023-01-20T13:36:56.493Z"
   },
   {
    "duration": 9,
    "start_time": "2023-01-20T13:36:59.984Z"
   },
   {
    "duration": 4,
    "start_time": "2023-01-20T13:42:23.742Z"
   },
   {
    "duration": 122,
    "start_time": "2023-01-20T13:45:06.607Z"
   },
   {
    "duration": 92,
    "start_time": "2023-01-20T13:45:25.682Z"
   },
   {
    "duration": 81,
    "start_time": "2023-01-20T13:45:41.173Z"
   },
   {
    "duration": 152,
    "start_time": "2023-01-20T13:45:52.686Z"
   },
   {
    "duration": 13,
    "start_time": "2023-01-20T13:49:00.177Z"
   },
   {
    "duration": 18,
    "start_time": "2023-01-20T13:49:13.225Z"
   },
   {
    "duration": 11,
    "start_time": "2023-01-20T13:49:18.793Z"
   },
   {
    "duration": 10,
    "start_time": "2023-01-20T13:49:21.225Z"
   },
   {
    "duration": 14,
    "start_time": "2023-01-20T13:49:27.825Z"
   },
   {
    "duration": 15,
    "start_time": "2023-01-20T13:52:19.558Z"
   },
   {
    "duration": 14,
    "start_time": "2023-01-20T13:52:37.774Z"
   },
   {
    "duration": 9,
    "start_time": "2023-01-20T13:52:57.325Z"
   },
   {
    "duration": 487,
    "start_time": "2023-01-20T13:53:57.867Z"
   },
   {
    "duration": 14,
    "start_time": "2023-01-20T13:54:00.108Z"
   },
   {
    "duration": 21,
    "start_time": "2023-01-20T13:54:03.244Z"
   },
   {
    "duration": 10,
    "start_time": "2023-01-20T13:54:06.436Z"
   },
   {
    "duration": 8,
    "start_time": "2023-01-20T13:54:08.980Z"
   },
   {
    "duration": 10,
    "start_time": "2023-01-20T13:54:11.084Z"
   },
   {
    "duration": 7,
    "start_time": "2023-01-20T13:54:12.666Z"
   },
   {
    "duration": 11,
    "start_time": "2023-01-20T13:54:15.114Z"
   },
   {
    "duration": 4,
    "start_time": "2023-01-20T13:54:17.420Z"
   },
   {
    "duration": 3,
    "start_time": "2023-01-20T13:54:18.795Z"
   },
   {
    "duration": 12,
    "start_time": "2023-01-20T13:54:20.426Z"
   },
   {
    "duration": 16,
    "start_time": "2023-01-20T13:54:21.661Z"
   },
   {
    "duration": 48,
    "start_time": "2023-01-20T13:54:24.085Z"
   },
   {
    "duration": 6,
    "start_time": "2023-01-20T13:54:26.658Z"
   },
   {
    "duration": 19,
    "start_time": "2023-01-20T13:54:29.803Z"
   },
   {
    "duration": 4,
    "start_time": "2023-01-20T13:54:59.884Z"
   },
   {
    "duration": 5,
    "start_time": "2023-01-20T13:55:02.273Z"
   },
   {
    "duration": 5,
    "start_time": "2023-01-20T13:55:03.841Z"
   },
   {
    "duration": 4,
    "start_time": "2023-01-20T13:55:05.634Z"
   },
   {
    "duration": 5,
    "start_time": "2023-01-20T13:55:07.642Z"
   },
   {
    "duration": 13,
    "start_time": "2023-01-20T13:55:09.524Z"
   },
   {
    "duration": 5,
    "start_time": "2023-01-20T13:55:11.258Z"
   },
   {
    "duration": 12,
    "start_time": "2023-01-20T13:55:21.778Z"
   },
   {
    "duration": 22,
    "start_time": "2023-01-20T13:55:25.026Z"
   },
   {
    "duration": 5,
    "start_time": "2023-01-20T13:55:27.234Z"
   },
   {
    "duration": 4,
    "start_time": "2023-01-20T13:55:30.259Z"
   },
   {
    "duration": 26,
    "start_time": "2023-01-20T13:55:33.955Z"
   },
   {
    "duration": 5,
    "start_time": "2023-01-20T13:55:37.587Z"
   },
   {
    "duration": 40,
    "start_time": "2023-01-20T13:55:39.826Z"
   },
   {
    "duration": 13,
    "start_time": "2023-01-20T13:55:53.017Z"
   },
   {
    "duration": 4,
    "start_time": "2023-01-20T13:56:00.025Z"
   },
   {
    "duration": 3,
    "start_time": "2023-01-20T13:56:02.049Z"
   },
   {
    "duration": 11,
    "start_time": "2023-01-20T13:56:04.265Z"
   },
   {
    "duration": 5,
    "start_time": "2023-01-20T13:56:07.370Z"
   },
   {
    "duration": 17,
    "start_time": "2023-01-20T13:56:10.057Z"
   },
   {
    "duration": 4,
    "start_time": "2023-01-20T13:56:32.680Z"
   },
   {
    "duration": 11,
    "start_time": "2023-01-20T13:57:31.455Z"
   },
   {
    "duration": 6,
    "start_time": "2023-01-20T13:57:33.241Z"
   },
   {
    "duration": 398,
    "start_time": "2023-01-20T13:57:43.824Z"
   },
   {
    "duration": 5,
    "start_time": "2023-01-20T13:57:46.615Z"
   },
   {
    "duration": 13,
    "start_time": "2023-01-20T13:58:43.575Z"
   },
   {
    "duration": 161,
    "start_time": "2023-01-20T13:58:50.153Z"
   },
   {
    "duration": 21,
    "start_time": "2023-01-20T13:59:24.566Z"
   },
   {
    "duration": 60,
    "start_time": "2023-01-20T14:00:04.283Z"
   },
   {
    "duration": 77,
    "start_time": "2023-01-20T14:00:15.110Z"
   },
   {
    "duration": 58,
    "start_time": "2023-01-20T14:00:30.358Z"
   },
   {
    "duration": 43,
    "start_time": "2023-01-20T14:01:06.549Z"
   },
   {
    "duration": 24,
    "start_time": "2023-01-20T14:01:09.965Z"
   },
   {
    "duration": 24,
    "start_time": "2023-01-20T14:01:18.691Z"
   },
   {
    "duration": 13,
    "start_time": "2023-01-20T14:01:29.548Z"
   },
   {
    "duration": 156,
    "start_time": "2023-01-20T14:01:38.827Z"
   },
   {
    "duration": 14,
    "start_time": "2023-01-20T14:01:44.876Z"
   },
   {
    "duration": 9,
    "start_time": "2023-01-20T14:01:45.803Z"
   },
   {
    "duration": 197,
    "start_time": "2023-01-20T14:01:46.885Z"
   },
   {
    "duration": 145,
    "start_time": "2023-01-20T14:02:33.474Z"
   },
   {
    "duration": 22,
    "start_time": "2023-01-20T14:02:55.795Z"
   },
   {
    "duration": 15,
    "start_time": "2023-01-20T14:02:57.705Z"
   },
   {
    "duration": 10,
    "start_time": "2023-01-20T14:02:59.641Z"
   },
   {
    "duration": 8,
    "start_time": "2023-01-20T14:03:02.842Z"
   },
   {
    "duration": 9,
    "start_time": "2023-01-20T14:03:06.881Z"
   },
   {
    "duration": 15,
    "start_time": "2023-01-20T14:03:09.571Z"
   },
   {
    "duration": 899,
    "start_time": "2023-01-20T14:03:59.873Z"
   },
   {
    "duration": 82,
    "start_time": "2023-01-20T14:04:16.345Z"
   },
   {
    "duration": 12,
    "start_time": "2023-01-20T14:04:18.392Z"
   },
   {
    "duration": 8,
    "start_time": "2023-01-20T14:04:20.896Z"
   },
   {
    "duration": 12,
    "start_time": "2023-01-20T14:04:51.364Z"
   },
   {
    "duration": 8,
    "start_time": "2023-01-20T14:04:53.088Z"
   },
   {
    "duration": 17,
    "start_time": "2023-01-20T14:07:08.863Z"
   },
   {
    "duration": 11,
    "start_time": "2023-01-20T14:07:25.053Z"
   },
   {
    "duration": 171,
    "start_time": "2023-01-20T14:07:26.943Z"
   },
   {
    "duration": 129,
    "start_time": "2023-01-20T14:26:46.282Z"
   },
   {
    "duration": 497,
    "start_time": "2023-01-20T14:26:50.056Z"
   },
   {
    "duration": 15,
    "start_time": "2023-01-20T14:26:51.915Z"
   },
   {
    "duration": 21,
    "start_time": "2023-01-20T14:26:56.170Z"
   },
   {
    "duration": 11,
    "start_time": "2023-01-20T14:27:00.426Z"
   },
   {
    "duration": 10,
    "start_time": "2023-01-20T14:27:06.948Z"
   },
   {
    "duration": 11,
    "start_time": "2023-01-20T14:27:09.059Z"
   },
   {
    "duration": 7,
    "start_time": "2023-01-20T14:27:18.557Z"
   },
   {
    "duration": 10,
    "start_time": "2023-01-20T14:27:21.825Z"
   },
   {
    "duration": 4,
    "start_time": "2023-01-20T14:27:24.705Z"
   },
   {
    "duration": 4,
    "start_time": "2023-01-20T14:27:27.458Z"
   },
   {
    "duration": 11,
    "start_time": "2023-01-20T14:27:31.308Z"
   },
   {
    "duration": 15,
    "start_time": "2023-01-20T14:27:33.465Z"
   },
   {
    "duration": 49,
    "start_time": "2023-01-20T14:27:35.380Z"
   },
   {
    "duration": 6,
    "start_time": "2023-01-20T14:27:37.801Z"
   },
   {
    "duration": 21,
    "start_time": "2023-01-20T14:27:39.577Z"
   },
   {
    "duration": 5,
    "start_time": "2023-01-20T14:27:43.666Z"
   },
   {
    "duration": 5,
    "start_time": "2023-01-20T14:27:45.738Z"
   },
   {
    "duration": 5,
    "start_time": "2023-01-20T14:27:48.520Z"
   },
   {
    "duration": 5,
    "start_time": "2023-01-20T14:27:52.354Z"
   },
   {
    "duration": 4,
    "start_time": "2023-01-20T14:27:57.076Z"
   },
   {
    "duration": 12,
    "start_time": "2023-01-20T14:28:00.296Z"
   },
   {
    "duration": 6,
    "start_time": "2023-01-20T14:28:03.920Z"
   },
   {
    "duration": 12,
    "start_time": "2023-01-20T14:28:08.531Z"
   },
   {
    "duration": 21,
    "start_time": "2023-01-20T14:28:26.913Z"
   },
   {
    "duration": 5,
    "start_time": "2023-01-20T14:28:29.617Z"
   },
   {
    "duration": 6,
    "start_time": "2023-01-20T14:28:46.049Z"
   },
   {
    "duration": 24,
    "start_time": "2023-01-20T14:28:49.197Z"
   },
   {
    "duration": 6,
    "start_time": "2023-01-20T14:28:56.696Z"
   },
   {
    "duration": 37,
    "start_time": "2023-01-20T14:28:58.744Z"
   },
   {
    "duration": 13,
    "start_time": "2023-01-20T14:29:06.120Z"
   },
   {
    "duration": 6,
    "start_time": "2023-01-20T14:29:35.559Z"
   },
   {
    "duration": 4,
    "start_time": "2023-01-20T14:29:44.887Z"
   },
   {
    "duration": 10,
    "start_time": "2023-01-20T14:29:46.631Z"
   },
   {
    "duration": 5,
    "start_time": "2023-01-20T14:29:52.679Z"
   },
   {
    "duration": 18,
    "start_time": "2023-01-20T14:29:54.401Z"
   },
   {
    "duration": 10,
    "start_time": "2023-01-20T14:30:12.461Z"
   },
   {
    "duration": 7,
    "start_time": "2023-01-20T14:30:18.059Z"
   },
   {
    "duration": 410,
    "start_time": "2023-01-20T14:30:21.518Z"
   },
   {
    "duration": 5,
    "start_time": "2023-01-20T14:30:24.950Z"
   },
   {
    "duration": 16,
    "start_time": "2023-01-20T14:30:37.214Z"
   },
   {
    "duration": 157,
    "start_time": "2023-01-20T14:30:40.814Z"
   },
   {
    "duration": 21,
    "start_time": "2023-01-20T14:30:43.535Z"
   },
   {
    "duration": 23,
    "start_time": "2023-01-20T14:30:47.406Z"
   },
   {
    "duration": 168,
    "start_time": "2023-01-20T14:31:32.327Z"
   },
   {
    "duration": 88,
    "start_time": "2023-01-20T14:47:08.341Z"
   },
   {
    "duration": 14,
    "start_time": "2023-01-20T14:47:10.413Z"
   },
   {
    "duration": 9,
    "start_time": "2023-01-20T14:47:12.408Z"
   },
   {
    "duration": 198,
    "start_time": "2023-01-20T14:47:15.147Z"
   },
   {
    "duration": 150,
    "start_time": "2023-01-20T14:52:47.021Z"
   },
   {
    "duration": 34,
    "start_time": "2023-01-20T14:56:01.560Z"
   },
   {
    "duration": 10,
    "start_time": "2023-01-20T14:56:47.329Z"
   },
   {
    "duration": 9,
    "start_time": "2023-01-20T15:01:40.461Z"
   },
   {
    "duration": 86,
    "start_time": "2023-01-20T15:03:15.265Z"
   },
   {
    "duration": 2,
    "start_time": "2023-01-20T15:04:49.712Z"
   },
   {
    "duration": 90,
    "start_time": "2023-01-20T15:05:09.160Z"
   },
   {
    "duration": 81,
    "start_time": "2023-01-20T15:06:04.648Z"
   },
   {
    "duration": 8,
    "start_time": "2023-01-20T15:08:22.117Z"
   },
   {
    "duration": 161,
    "start_time": "2023-01-20T15:10:35.653Z"
   },
   {
    "duration": 168,
    "start_time": "2023-01-20T15:10:40.227Z"
   },
   {
    "duration": 159,
    "start_time": "2023-01-20T15:10:50.555Z"
   },
   {
    "duration": 276,
    "start_time": "2023-01-20T15:11:04.290Z"
   },
   {
    "duration": 129,
    "start_time": "2023-01-20T15:11:15.836Z"
   },
   {
    "duration": 179,
    "start_time": "2023-01-20T15:11:21.930Z"
   },
   {
    "duration": 159,
    "start_time": "2023-01-20T15:11:27.738Z"
   },
   {
    "duration": 156,
    "start_time": "2023-01-20T15:11:32.054Z"
   },
   {
    "duration": 149,
    "start_time": "2023-01-20T15:11:42.801Z"
   },
   {
    "duration": 511,
    "start_time": "2023-01-20T15:38:00.809Z"
   },
   {
    "duration": 15,
    "start_time": "2023-01-20T15:38:02.976Z"
   },
   {
    "duration": 21,
    "start_time": "2023-01-20T15:38:04.944Z"
   },
   {
    "duration": 11,
    "start_time": "2023-01-20T15:38:07.873Z"
   },
   {
    "duration": 9,
    "start_time": "2023-01-20T15:38:09.249Z"
   },
   {
    "duration": 10,
    "start_time": "2023-01-20T15:38:11.403Z"
   },
   {
    "duration": 7,
    "start_time": "2023-01-20T15:38:13.425Z"
   },
   {
    "duration": 10,
    "start_time": "2023-01-20T15:38:14.601Z"
   },
   {
    "duration": 4,
    "start_time": "2023-01-20T15:38:16.737Z"
   },
   {
    "duration": 4,
    "start_time": "2023-01-20T15:38:18.615Z"
   },
   {
    "duration": 13,
    "start_time": "2023-01-20T15:38:19.896Z"
   },
   {
    "duration": 15,
    "start_time": "2023-01-20T15:38:21.393Z"
   },
   {
    "duration": 62,
    "start_time": "2023-01-20T15:38:23.451Z"
   },
   {
    "duration": 30,
    "start_time": "2023-01-20T15:38:37.716Z"
   },
   {
    "duration": 5,
    "start_time": "2023-01-20T15:38:39.568Z"
   },
   {
    "duration": 20,
    "start_time": "2023-01-20T15:38:40.920Z"
   },
   {
    "duration": 4,
    "start_time": "2023-01-20T15:38:42.784Z"
   },
   {
    "duration": 4,
    "start_time": "2023-01-20T15:38:48.283Z"
   },
   {
    "duration": 5,
    "start_time": "2023-01-20T15:38:49.864Z"
   },
   {
    "duration": 5,
    "start_time": "2023-01-20T15:38:53.864Z"
   },
   {
    "duration": 5,
    "start_time": "2023-01-20T15:38:56.248Z"
   },
   {
    "duration": 13,
    "start_time": "2023-01-20T15:38:58.408Z"
   },
   {
    "duration": 6,
    "start_time": "2023-01-20T15:39:00.112Z"
   },
   {
    "duration": 15,
    "start_time": "2023-01-20T15:39:04.686Z"
   },
   {
    "duration": 21,
    "start_time": "2023-01-20T15:39:15.704Z"
   },
   {
    "duration": 5,
    "start_time": "2023-01-20T15:39:17.502Z"
   },
   {
    "duration": 4,
    "start_time": "2023-01-20T15:39:19.655Z"
   },
   {
    "duration": 24,
    "start_time": "2023-01-20T15:39:22.391Z"
   },
   {
    "duration": 5,
    "start_time": "2023-01-20T15:39:23.967Z"
   },
   {
    "duration": 42,
    "start_time": "2023-01-20T15:39:25.551Z"
   },
   {
    "duration": 14,
    "start_time": "2023-01-20T15:39:31.479Z"
   },
   {
    "duration": 7,
    "start_time": "2023-01-20T15:39:49.077Z"
   },
   {
    "duration": 4,
    "start_time": "2023-01-20T15:39:52.797Z"
   },
   {
    "duration": 13,
    "start_time": "2023-01-20T15:39:55.814Z"
   },
   {
    "duration": 4,
    "start_time": "2023-01-20T15:39:57.614Z"
   },
   {
    "duration": 18,
    "start_time": "2023-01-20T15:39:59.398Z"
   },
   {
    "duration": 14,
    "start_time": "2023-01-20T15:40:12.414Z"
   },
   {
    "duration": 11,
    "start_time": "2023-01-20T15:40:14.623Z"
   },
   {
    "duration": 372,
    "start_time": "2023-01-20T15:40:19.582Z"
   },
   {
    "duration": 5,
    "start_time": "2023-01-20T15:40:22.518Z"
   },
   {
    "duration": 14,
    "start_time": "2023-01-20T15:40:30.630Z"
   },
   {
    "duration": 148,
    "start_time": "2023-01-20T15:40:33.566Z"
   },
   {
    "duration": 20,
    "start_time": "2023-01-20T15:40:45.892Z"
   },
   {
    "duration": 21,
    "start_time": "2023-01-20T15:40:48.126Z"
   },
   {
    "duration": 77,
    "start_time": "2023-01-20T15:40:51.325Z"
   },
   {
    "duration": 13,
    "start_time": "2023-01-20T15:40:52.893Z"
   },
   {
    "duration": 8,
    "start_time": "2023-01-20T15:40:54.808Z"
   },
   {
    "duration": 8,
    "start_time": "2023-01-20T15:40:56.749Z"
   },
   {
    "duration": 168,
    "start_time": "2023-01-20T15:40:58.645Z"
   },
   {
    "duration": 200,
    "start_time": "2023-01-20T15:41:27.872Z"
   },
   {
    "duration": 479,
    "start_time": "2023-01-20T15:47:42.783Z"
   },
   {
    "duration": 16,
    "start_time": "2023-01-20T15:47:44.372Z"
   },
   {
    "duration": 21,
    "start_time": "2023-01-20T15:47:45.989Z"
   },
   {
    "duration": 10,
    "start_time": "2023-01-20T15:47:49.845Z"
   },
   {
    "duration": 7,
    "start_time": "2023-01-20T15:47:51.389Z"
   },
   {
    "duration": 10,
    "start_time": "2023-01-20T15:47:53.202Z"
   },
   {
    "duration": 7,
    "start_time": "2023-01-20T15:47:54.909Z"
   },
   {
    "duration": 10,
    "start_time": "2023-01-20T15:47:56.046Z"
   },
   {
    "duration": 4,
    "start_time": "2023-01-20T15:47:59.445Z"
   },
   {
    "duration": 3,
    "start_time": "2023-01-20T15:48:01.670Z"
   },
   {
    "duration": 13,
    "start_time": "2023-01-20T15:48:03.147Z"
   },
   {
    "duration": 14,
    "start_time": "2023-01-20T15:48:04.374Z"
   },
   {
    "duration": 33,
    "start_time": "2023-01-20T15:48:06.085Z"
   },
   {
    "duration": 5,
    "start_time": "2023-01-20T15:48:12.228Z"
   },
   {
    "duration": 21,
    "start_time": "2023-01-20T15:48:14.101Z"
   },
   {
    "duration": 5,
    "start_time": "2023-01-20T15:48:16.276Z"
   },
   {
    "duration": 6,
    "start_time": "2023-01-20T15:48:18.077Z"
   },
   {
    "duration": 7,
    "start_time": "2023-01-20T15:48:19.309Z"
   },
   {
    "duration": 4,
    "start_time": "2023-01-20T15:48:20.710Z"
   },
   {
    "duration": 5,
    "start_time": "2023-01-20T15:48:22.238Z"
   },
   {
    "duration": 16,
    "start_time": "2023-01-20T15:48:24.069Z"
   },
   {
    "duration": 5,
    "start_time": "2023-01-20T15:48:26.028Z"
   },
   {
    "duration": 11,
    "start_time": "2023-01-20T15:48:28.900Z"
   },
   {
    "duration": 23,
    "start_time": "2023-01-20T15:48:31.244Z"
   },
   {
    "duration": 4,
    "start_time": "2023-01-20T15:48:34.108Z"
   },
   {
    "duration": 5,
    "start_time": "2023-01-20T15:48:35.981Z"
   },
   {
    "duration": 26,
    "start_time": "2023-01-20T15:48:37.676Z"
   },
   {
    "duration": 5,
    "start_time": "2023-01-20T15:48:38.876Z"
   },
   {
    "duration": 37,
    "start_time": "2023-01-20T15:48:40.124Z"
   },
   {
    "duration": 13,
    "start_time": "2023-01-20T15:48:41.916Z"
   },
   {
    "duration": 4,
    "start_time": "2023-01-20T15:48:45.189Z"
   },
   {
    "duration": 3,
    "start_time": "2023-01-20T15:48:47.125Z"
   },
   {
    "duration": 10,
    "start_time": "2023-01-20T15:48:48.572Z"
   },
   {
    "duration": 5,
    "start_time": "2023-01-20T15:48:49.796Z"
   },
   {
    "duration": 17,
    "start_time": "2023-01-20T15:48:56.773Z"
   },
   {
    "duration": 11,
    "start_time": "2023-01-20T15:49:02.877Z"
   },
   {
    "duration": 6,
    "start_time": "2023-01-20T15:49:04.373Z"
   },
   {
    "duration": 384,
    "start_time": "2023-01-20T15:49:06.539Z"
   },
   {
    "duration": 5,
    "start_time": "2023-01-20T15:49:12.699Z"
   },
   {
    "duration": 13,
    "start_time": "2023-01-20T15:49:15.739Z"
   },
   {
    "duration": 150,
    "start_time": "2023-01-20T15:49:18.851Z"
   },
   {
    "duration": 20,
    "start_time": "2023-01-20T15:49:30.195Z"
   },
   {
    "duration": 22,
    "start_time": "2023-01-20T15:49:32.507Z"
   },
   {
    "duration": 90,
    "start_time": "2023-01-20T15:49:35.513Z"
   },
   {
    "duration": 13,
    "start_time": "2023-01-20T15:49:37.724Z"
   },
   {
    "duration": 7,
    "start_time": "2023-01-20T15:49:40.372Z"
   },
   {
    "duration": 7,
    "start_time": "2023-01-20T15:49:42.958Z"
   },
   {
    "duration": 154,
    "start_time": "2023-01-20T15:49:45.476Z"
   },
   {
    "duration": 13,
    "start_time": "2023-01-20T15:50:02.522Z"
   },
   {
    "duration": 8,
    "start_time": "2023-01-20T15:50:05.019Z"
   },
   {
    "duration": 10,
    "start_time": "2023-01-20T15:50:07.275Z"
   },
   {
    "duration": 224,
    "start_time": "2023-01-20T15:50:09.253Z"
   },
   {
    "duration": 25,
    "start_time": "2023-01-20T15:51:33.417Z"
   },
   {
    "duration": 514,
    "start_time": "2023-01-20T15:51:59.258Z"
   },
   {
    "duration": 15,
    "start_time": "2023-01-20T15:52:01.342Z"
   },
   {
    "duration": 20,
    "start_time": "2023-01-20T15:52:02.754Z"
   },
   {
    "duration": 13,
    "start_time": "2023-01-20T15:52:04.675Z"
   },
   {
    "duration": 8,
    "start_time": "2023-01-20T15:52:06.376Z"
   },
   {
    "duration": 10,
    "start_time": "2023-01-20T15:52:07.858Z"
   },
   {
    "duration": 7,
    "start_time": "2023-01-20T15:52:09.936Z"
   },
   {
    "duration": 12,
    "start_time": "2023-01-20T15:52:11.474Z"
   },
   {
    "duration": 4,
    "start_time": "2023-01-20T15:52:13.112Z"
   },
   {
    "duration": 5,
    "start_time": "2023-01-20T15:52:14.401Z"
   },
   {
    "duration": 12,
    "start_time": "2023-01-20T15:52:17.011Z"
   },
   {
    "duration": 15,
    "start_time": "2023-01-20T15:52:18.240Z"
   },
   {
    "duration": 30,
    "start_time": "2023-01-20T15:52:20.091Z"
   },
   {
    "duration": 5,
    "start_time": "2023-01-20T15:52:21.656Z"
   },
   {
    "duration": 28,
    "start_time": "2023-01-20T15:52:23.352Z"
   },
   {
    "duration": 4,
    "start_time": "2023-01-20T15:52:25.049Z"
   },
   {
    "duration": 4,
    "start_time": "2023-01-20T15:52:26.877Z"
   },
   {
    "duration": 5,
    "start_time": "2023-01-20T15:52:28.258Z"
   },
   {
    "duration": 5,
    "start_time": "2023-01-20T15:52:29.353Z"
   },
   {
    "duration": 5,
    "start_time": "2023-01-20T15:52:30.713Z"
   },
   {
    "duration": 13,
    "start_time": "2023-01-20T15:52:32.073Z"
   },
   {
    "duration": 6,
    "start_time": "2023-01-20T15:52:33.113Z"
   },
   {
    "duration": 11,
    "start_time": "2023-01-20T15:52:35.253Z"
   },
   {
    "duration": 20,
    "start_time": "2023-01-20T15:52:38.185Z"
   },
   {
    "duration": 5,
    "start_time": "2023-01-20T15:52:41.361Z"
   },
   {
    "duration": 5,
    "start_time": "2023-01-20T15:52:43.145Z"
   },
   {
    "duration": 43,
    "start_time": "2023-01-20T15:52:44.578Z"
   },
   {
    "duration": 5,
    "start_time": "2023-01-20T15:52:46.017Z"
   },
   {
    "duration": 40,
    "start_time": "2023-01-20T15:52:47.625Z"
   },
   {
    "duration": 14,
    "start_time": "2023-01-20T15:52:49.393Z"
   },
   {
    "duration": 5,
    "start_time": "2023-01-20T15:52:52.103Z"
   },
   {
    "duration": 3,
    "start_time": "2023-01-20T15:52:53.729Z"
   },
   {
    "duration": 11,
    "start_time": "2023-01-20T15:52:55.329Z"
   },
   {
    "duration": 6,
    "start_time": "2023-01-20T15:52:56.616Z"
   },
   {
    "duration": 18,
    "start_time": "2023-01-20T15:52:57.767Z"
   },
   {
    "duration": 11,
    "start_time": "2023-01-20T15:52:59.735Z"
   },
   {
    "duration": 6,
    "start_time": "2023-01-20T15:53:01.224Z"
   },
   {
    "duration": 374,
    "start_time": "2023-01-20T15:53:03.072Z"
   },
   {
    "duration": 5,
    "start_time": "2023-01-20T15:53:06.623Z"
   },
   {
    "duration": 13,
    "start_time": "2023-01-20T15:53:08.064Z"
   },
   {
    "duration": 154,
    "start_time": "2023-01-20T15:53:09.648Z"
   },
   {
    "duration": 22,
    "start_time": "2023-01-20T15:53:11.616Z"
   },
   {
    "duration": 30,
    "start_time": "2023-01-20T15:53:14.160Z"
   },
   {
    "duration": 17,
    "start_time": "2023-01-20T15:53:15.760Z"
   },
   {
    "duration": 8,
    "start_time": "2023-01-20T15:53:18.200Z"
   },
   {
    "duration": 8,
    "start_time": "2023-01-20T15:53:20.784Z"
   },
   {
    "duration": 151,
    "start_time": "2023-01-20T15:53:22.584Z"
   },
   {
    "duration": 19,
    "start_time": "2023-01-20T15:53:26.097Z"
   },
   {
    "duration": 24,
    "start_time": "2023-01-20T15:54:00.880Z"
   },
   {
    "duration": 7,
    "start_time": "2023-01-20T15:54:03.240Z"
   },
   {
    "duration": 9,
    "start_time": "2023-01-20T15:54:05.641Z"
   },
   {
    "duration": 153,
    "start_time": "2023-01-20T15:54:08.543Z"
   },
   {
    "duration": 19,
    "start_time": "2023-01-20T15:54:10.663Z"
   },
   {
    "duration": 5,
    "start_time": "2023-01-20T15:54:44.854Z"
   },
   {
    "duration": 26,
    "start_time": "2023-01-20T15:54:46.511Z"
   },
   {
    "duration": 8,
    "start_time": "2023-01-20T15:54:48.646Z"
   },
   {
    "duration": 78,
    "start_time": "2023-01-20T15:56:10.767Z"
   },
   {
    "duration": 16,
    "start_time": "2023-01-20T15:56:12.653Z"
   },
   {
    "duration": 28,
    "start_time": "2023-01-20T15:56:15.573Z"
   },
   {
    "duration": 18,
    "start_time": "2023-01-20T15:56:34.871Z"
   },
   {
    "duration": 9,
    "start_time": "2023-01-20T15:56:37.134Z"
   },
   {
    "duration": 5,
    "start_time": "2023-01-20T15:56:58.784Z"
   },
   {
    "duration": 7,
    "start_time": "2023-01-20T15:57:01.052Z"
   },
   {
    "duration": 18,
    "start_time": "2023-01-20T15:57:19.221Z"
   },
   {
    "duration": 61,
    "start_time": "2023-01-20T15:57:35.233Z"
   },
   {
    "duration": 6,
    "start_time": "2023-01-20T15:57:57.596Z"
   },
   {
    "duration": 4,
    "start_time": "2023-01-20T15:58:53.691Z"
   },
   {
    "duration": 7,
    "start_time": "2023-01-20T15:58:55.083Z"
   },
   {
    "duration": 32,
    "start_time": "2023-01-20T15:58:58.427Z"
   },
   {
    "duration": 84,
    "start_time": "2023-01-20T15:59:40.316Z"
   },
   {
    "duration": 7,
    "start_time": "2023-01-20T15:59:43.026Z"
   },
   {
    "duration": 24,
    "start_time": "2023-01-20T16:00:42.631Z"
   },
   {
    "duration": 28,
    "start_time": "2023-01-20T16:01:23.203Z"
   },
   {
    "duration": 7,
    "start_time": "2023-01-20T16:01:58.738Z"
   },
   {
    "duration": 6,
    "start_time": "2023-01-20T16:02:03.992Z"
   },
   {
    "duration": 64,
    "start_time": "2023-01-20T16:02:14.304Z"
   },
   {
    "duration": 6,
    "start_time": "2023-01-20T16:02:18.734Z"
   },
   {
    "duration": 6,
    "start_time": "2023-01-20T16:02:26.782Z"
   },
   {
    "duration": 62,
    "start_time": "2023-01-20T16:02:29.455Z"
   },
   {
    "duration": 31,
    "start_time": "2023-01-20T16:03:32.012Z"
   },
   {
    "duration": 495,
    "start_time": "2023-01-20T16:03:46.151Z"
   },
   {
    "duration": 15,
    "start_time": "2023-01-20T16:03:47.765Z"
   },
   {
    "duration": 20,
    "start_time": "2023-01-20T16:03:49.287Z"
   },
   {
    "duration": 10,
    "start_time": "2023-01-20T16:03:51.285Z"
   },
   {
    "duration": 8,
    "start_time": "2023-01-20T16:03:52.813Z"
   },
   {
    "duration": 9,
    "start_time": "2023-01-20T16:03:54.573Z"
   },
   {
    "duration": 8,
    "start_time": "2023-01-20T16:03:56.340Z"
   },
   {
    "duration": 10,
    "start_time": "2023-01-20T16:03:57.661Z"
   },
   {
    "duration": 4,
    "start_time": "2023-01-20T16:03:59.501Z"
   },
   {
    "duration": 4,
    "start_time": "2023-01-20T16:04:00.901Z"
   },
   {
    "duration": 12,
    "start_time": "2023-01-20T16:04:02.379Z"
   },
   {
    "duration": 15,
    "start_time": "2023-01-20T16:04:03.661Z"
   },
   {
    "duration": 31,
    "start_time": "2023-01-20T16:04:05.391Z"
   },
   {
    "duration": 4,
    "start_time": "2023-01-20T16:04:07.173Z"
   },
   {
    "duration": 20,
    "start_time": "2023-01-20T16:04:08.580Z"
   },
   {
    "duration": 5,
    "start_time": "2023-01-20T16:04:10.717Z"
   },
   {
    "duration": 4,
    "start_time": "2023-01-20T16:04:12.342Z"
   },
   {
    "duration": 5,
    "start_time": "2023-01-20T16:04:13.785Z"
   },
   {
    "duration": 5,
    "start_time": "2023-01-20T16:04:15.681Z"
   },
   {
    "duration": 13,
    "start_time": "2023-01-20T16:04:20.309Z"
   },
   {
    "duration": 7,
    "start_time": "2023-01-20T16:04:22.043Z"
   },
   {
    "duration": 9,
    "start_time": "2023-01-20T16:04:23.693Z"
   },
   {
    "duration": 7,
    "start_time": "2023-01-20T16:04:26.404Z"
   },
   {
    "duration": 13,
    "start_time": "2023-01-20T16:04:28.253Z"
   },
   {
    "duration": 21,
    "start_time": "2023-01-20T16:04:30.636Z"
   },
   {
    "duration": 5,
    "start_time": "2023-01-20T16:04:32.451Z"
   },
   {
    "duration": 5,
    "start_time": "2023-01-20T16:04:34.211Z"
   },
   {
    "duration": 26,
    "start_time": "2023-01-20T16:04:36.012Z"
   },
   {
    "duration": 6,
    "start_time": "2023-01-20T16:04:37.724Z"
   },
   {
    "duration": 37,
    "start_time": "2023-01-20T16:04:39.180Z"
   },
   {
    "duration": 14,
    "start_time": "2023-01-20T16:04:41.022Z"
   },
   {
    "duration": 4,
    "start_time": "2023-01-20T16:04:47.604Z"
   },
   {
    "duration": 3,
    "start_time": "2023-01-20T16:04:49.188Z"
   },
   {
    "duration": 14,
    "start_time": "2023-01-20T16:04:50.378Z"
   },
   {
    "duration": 4,
    "start_time": "2023-01-20T16:04:51.965Z"
   },
   {
    "duration": 18,
    "start_time": "2023-01-20T16:04:53.124Z"
   },
   {
    "duration": 11,
    "start_time": "2023-01-20T16:04:55.284Z"
   },
   {
    "duration": 7,
    "start_time": "2023-01-20T16:04:56.589Z"
   },
   {
    "duration": 347,
    "start_time": "2023-01-20T16:04:58.557Z"
   },
   {
    "duration": 5,
    "start_time": "2023-01-20T16:05:00.507Z"
   },
   {
    "duration": 12,
    "start_time": "2023-01-20T16:05:02.053Z"
   },
   {
    "duration": 143,
    "start_time": "2023-01-20T16:05:03.621Z"
   },
   {
    "duration": 19,
    "start_time": "2023-01-20T16:05:05.415Z"
   },
   {
    "duration": 24,
    "start_time": "2023-01-20T16:05:07.293Z"
   },
   {
    "duration": 27,
    "start_time": "2023-01-20T16:05:09.101Z"
   },
   {
    "duration": 8,
    "start_time": "2023-01-20T16:05:11.779Z"
   },
   {
    "duration": 13,
    "start_time": "2023-01-20T16:05:25.091Z"
   },
   {
    "duration": 13,
    "start_time": "2023-01-20T16:05:31.459Z"
   },
   {
    "duration": 7,
    "start_time": "2023-01-20T16:05:33.859Z"
   },
   {
    "duration": 8,
    "start_time": "2023-01-20T16:05:36.883Z"
   },
   {
    "duration": 155,
    "start_time": "2023-01-20T16:05:39.131Z"
   },
   {
    "duration": 51,
    "start_time": "2023-01-23T10:13:35.255Z"
   },
   {
    "duration": 727,
    "start_time": "2023-01-23T10:13:54.397Z"
   },
   {
    "duration": 16,
    "start_time": "2023-01-23T10:13:55.988Z"
   },
   {
    "duration": 21,
    "start_time": "2023-01-23T10:13:57.964Z"
   },
   {
    "duration": 12,
    "start_time": "2023-01-23T10:14:01.458Z"
   },
   {
    "duration": 8,
    "start_time": "2023-01-23T10:14:03.530Z"
   },
   {
    "duration": 10,
    "start_time": "2023-01-23T10:14:07.733Z"
   },
   {
    "duration": 8,
    "start_time": "2023-01-23T10:14:09.618Z"
   },
   {
    "duration": 16,
    "start_time": "2023-01-23T10:14:13.315Z"
   },
   {
    "duration": 5,
    "start_time": "2023-01-23T10:14:16.330Z"
   },
   {
    "duration": 3,
    "start_time": "2023-01-23T10:14:20.235Z"
   },
   {
    "duration": 12,
    "start_time": "2023-01-23T10:14:21.826Z"
   },
   {
    "duration": 15,
    "start_time": "2023-01-23T10:14:24.394Z"
   },
   {
    "duration": 30,
    "start_time": "2023-01-23T10:14:26.836Z"
   },
   {
    "duration": 5,
    "start_time": "2023-01-23T10:14:29.562Z"
   },
   {
    "duration": 21,
    "start_time": "2023-01-23T10:14:32.406Z"
   },
   {
    "duration": 5,
    "start_time": "2023-01-23T10:14:35.405Z"
   },
   {
    "duration": 4,
    "start_time": "2023-01-23T10:14:37.408Z"
   },
   {
    "duration": 7,
    "start_time": "2023-01-23T10:14:39.418Z"
   },
   {
    "duration": 4,
    "start_time": "2023-01-23T10:14:41.369Z"
   },
   {
    "duration": 4,
    "start_time": "2023-01-23T10:14:44.667Z"
   },
   {
    "duration": 12,
    "start_time": "2023-01-23T10:14:47.249Z"
   },
   {
    "duration": 6,
    "start_time": "2023-01-23T10:14:50.299Z"
   },
   {
    "duration": 13,
    "start_time": "2023-01-23T10:14:53.697Z"
   },
   {
    "duration": 21,
    "start_time": "2023-01-23T10:14:57.185Z"
   },
   {
    "duration": 6,
    "start_time": "2023-01-23T10:14:59.610Z"
   },
   {
    "duration": 6,
    "start_time": "2023-01-23T10:15:01.186Z"
   },
   {
    "duration": 7,
    "start_time": "2023-01-23T10:17:05.192Z"
   },
   {
    "duration": 38,
    "start_time": "2023-01-23T10:17:07.412Z"
   },
   {
    "duration": 7,
    "start_time": "2023-01-23T10:17:09.081Z"
   },
   {
    "duration": 47,
    "start_time": "2023-01-23T10:17:10.751Z"
   },
   {
    "duration": 5,
    "start_time": "2023-01-23T10:17:41.488Z"
   },
   {
    "duration": 9,
    "start_time": "2023-01-23T10:18:49.605Z"
   },
   {
    "duration": 64,
    "start_time": "2023-01-23T11:00:03.773Z"
   },
   {
    "duration": 19,
    "start_time": "2023-01-23T11:00:13.640Z"
   },
   {
    "duration": 58,
    "start_time": "2023-01-23T11:00:30.605Z"
   },
   {
    "duration": 14,
    "start_time": "2023-01-23T11:00:35.557Z"
   },
   {
    "duration": 37,
    "start_time": "2023-01-23T11:00:37.995Z"
   },
   {
    "duration": 36,
    "start_time": "2023-01-23T11:00:40.277Z"
   },
   {
    "duration": 11,
    "start_time": "2023-01-23T11:01:01.822Z"
   },
   {
    "duration": 554,
    "start_time": "2023-01-23T11:05:12.169Z"
   },
   {
    "duration": 16,
    "start_time": "2023-01-23T11:05:13.819Z"
   },
   {
    "duration": 22,
    "start_time": "2023-01-23T11:05:17.070Z"
   },
   {
    "duration": 10,
    "start_time": "2023-01-23T11:05:19.571Z"
   },
   {
    "duration": 8,
    "start_time": "2023-01-23T11:05:21.073Z"
   },
   {
    "duration": 13,
    "start_time": "2023-01-23T11:05:22.921Z"
   },
   {
    "duration": 9,
    "start_time": "2023-01-23T11:05:24.770Z"
   },
   {
    "duration": 16,
    "start_time": "2023-01-23T11:05:26.901Z"
   },
   {
    "duration": 4,
    "start_time": "2023-01-23T11:05:28.768Z"
   },
   {
    "duration": 3,
    "start_time": "2023-01-23T11:05:31.322Z"
   },
   {
    "duration": 12,
    "start_time": "2023-01-23T11:05:32.929Z"
   },
   {
    "duration": 17,
    "start_time": "2023-01-23T11:05:35.106Z"
   },
   {
    "duration": 30,
    "start_time": "2023-01-23T11:05:37.211Z"
   },
   {
    "duration": 4,
    "start_time": "2023-01-23T11:05:39.009Z"
   },
   {
    "duration": 22,
    "start_time": "2023-01-23T11:05:40.786Z"
   },
   {
    "duration": 5,
    "start_time": "2023-01-23T11:05:42.899Z"
   },
   {
    "duration": 5,
    "start_time": "2023-01-23T11:05:45.538Z"
   },
   {
    "duration": 6,
    "start_time": "2023-01-23T11:05:47.090Z"
   },
   {
    "duration": 7,
    "start_time": "2023-01-23T11:05:48.993Z"
   },
   {
    "duration": 5,
    "start_time": "2023-01-23T11:05:50.870Z"
   },
   {
    "duration": 11,
    "start_time": "2023-01-23T11:05:52.930Z"
   },
   {
    "duration": 7,
    "start_time": "2023-01-23T11:05:55.188Z"
   },
   {
    "duration": 12,
    "start_time": "2023-01-23T11:05:57.195Z"
   },
   {
    "duration": 27,
    "start_time": "2023-01-23T11:06:00.122Z"
   },
   {
    "duration": 5,
    "start_time": "2023-01-23T11:06:01.904Z"
   },
   {
    "duration": 5,
    "start_time": "2023-01-23T11:06:03.826Z"
   },
   {
    "duration": 6,
    "start_time": "2023-01-23T11:06:06.568Z"
   },
   {
    "duration": 27,
    "start_time": "2023-01-23T11:06:07.870Z"
   },
   {
    "duration": 7,
    "start_time": "2023-01-23T11:06:09.662Z"
   },
   {
    "duration": 47,
    "start_time": "2023-01-23T11:06:10.907Z"
   },
   {
    "duration": 6,
    "start_time": "2023-01-23T11:06:13.281Z"
   },
   {
    "duration": 9,
    "start_time": "2023-01-23T11:06:16.674Z"
   },
   {
    "duration": 4,
    "start_time": "2023-01-23T11:12:23.069Z"
   },
   {
    "duration": 53,
    "start_time": "2023-01-23T11:12:27.732Z"
   },
   {
    "duration": 3,
    "start_time": "2023-01-23T11:12:40.219Z"
   },
   {
    "duration": 38,
    "start_time": "2023-01-23T11:12:44.499Z"
   },
   {
    "duration": 12,
    "start_time": "2023-01-23T11:12:48.273Z"
   },
   {
    "duration": 4,
    "start_time": "2023-01-23T11:13:04.213Z"
   },
   {
    "duration": 61,
    "start_time": "2023-01-23T11:13:11.536Z"
   },
   {
    "duration": 4,
    "start_time": "2023-01-23T11:13:43.610Z"
   },
   {
    "duration": 77,
    "start_time": "2023-01-23T11:13:47.964Z"
   },
   {
    "duration": 15,
    "start_time": "2023-01-23T11:14:00.530Z"
   },
   {
    "duration": 51,
    "start_time": "2023-01-23T11:14:04.722Z"
   },
   {
    "duration": 8,
    "start_time": "2023-01-23T11:14:07.130Z"
   },
   {
    "duration": 76,
    "start_time": "2023-01-23T11:38:09.696Z"
   },
   {
    "duration": 48,
    "start_time": "2023-01-23T11:49:15.769Z"
   },
   {
    "duration": 504,
    "start_time": "2023-01-23T11:49:21.564Z"
   },
   {
    "duration": 17,
    "start_time": "2023-01-23T11:49:23.158Z"
   },
   {
    "duration": 21,
    "start_time": "2023-01-23T11:49:25.858Z"
   },
   {
    "duration": 11,
    "start_time": "2023-01-23T11:49:28.243Z"
   },
   {
    "duration": 7,
    "start_time": "2023-01-23T11:49:29.883Z"
   },
   {
    "duration": 11,
    "start_time": "2023-01-23T11:49:31.627Z"
   },
   {
    "duration": 8,
    "start_time": "2023-01-23T11:49:33.179Z"
   },
   {
    "duration": 11,
    "start_time": "2023-01-23T11:49:34.779Z"
   },
   {
    "duration": 4,
    "start_time": "2023-01-23T11:49:37.785Z"
   },
   {
    "duration": 4,
    "start_time": "2023-01-23T11:49:39.131Z"
   },
   {
    "duration": 12,
    "start_time": "2023-01-23T11:49:40.395Z"
   },
   {
    "duration": 15,
    "start_time": "2023-01-23T11:49:41.938Z"
   },
   {
    "duration": 29,
    "start_time": "2023-01-23T11:49:43.827Z"
   },
   {
    "duration": 5,
    "start_time": "2023-01-23T11:49:45.625Z"
   },
   {
    "duration": 21,
    "start_time": "2023-01-23T11:49:47.401Z"
   },
   {
    "duration": 5,
    "start_time": "2023-01-23T11:49:49.233Z"
   },
   {
    "duration": 5,
    "start_time": "2023-01-23T11:49:50.817Z"
   },
   {
    "duration": 6,
    "start_time": "2023-01-23T11:49:52.986Z"
   },
   {
    "duration": 4,
    "start_time": "2023-01-23T11:49:54.468Z"
   },
   {
    "duration": 6,
    "start_time": "2023-01-23T11:49:55.979Z"
   },
   {
    "duration": 13,
    "start_time": "2023-01-23T11:49:57.194Z"
   },
   {
    "duration": 6,
    "start_time": "2023-01-23T11:49:58.978Z"
   },
   {
    "duration": 14,
    "start_time": "2023-01-23T11:50:01.562Z"
   },
   {
    "duration": 22,
    "start_time": "2023-01-23T11:50:04.378Z"
   },
   {
    "duration": 5,
    "start_time": "2023-01-23T11:50:06.085Z"
   },
   {
    "duration": 5,
    "start_time": "2023-01-23T11:50:07.435Z"
   },
   {
    "duration": 5,
    "start_time": "2023-01-23T11:50:10.178Z"
   },
   {
    "duration": 26,
    "start_time": "2023-01-23T11:50:11.916Z"
   },
   {
    "duration": 6,
    "start_time": "2023-01-23T11:50:13.707Z"
   },
   {
    "duration": 43,
    "start_time": "2023-01-23T11:50:14.958Z"
   },
   {
    "duration": 5,
    "start_time": "2023-01-23T11:50:16.746Z"
   },
   {
    "duration": 8,
    "start_time": "2023-01-23T11:50:18.091Z"
   },
   {
    "duration": 9,
    "start_time": "2023-01-23T11:50:19.858Z"
   },
   {
    "duration": 14,
    "start_time": "2023-01-23T11:50:21.866Z"
   },
   {
    "duration": 5,
    "start_time": "2023-01-23T11:50:24.875Z"
   },
   {
    "duration": 3,
    "start_time": "2023-01-23T11:50:26.266Z"
   },
   {
    "duration": 10,
    "start_time": "2023-01-23T11:50:27.489Z"
   },
   {
    "duration": 5,
    "start_time": "2023-01-23T11:50:29.129Z"
   },
   {
    "duration": 20,
    "start_time": "2023-01-23T11:50:30.676Z"
   },
   {
    "duration": 11,
    "start_time": "2023-01-23T11:50:33.833Z"
   },
   {
    "duration": 6,
    "start_time": "2023-01-23T11:50:35.137Z"
   },
   {
    "duration": 537,
    "start_time": "2023-01-23T11:50:37.280Z"
   },
   {
    "duration": 5,
    "start_time": "2023-01-23T11:50:42.633Z"
   },
   {
    "duration": 18,
    "start_time": "2023-01-23T11:50:44.705Z"
   },
   {
    "duration": 145,
    "start_time": "2023-01-23T11:50:46.482Z"
   },
   {
    "duration": 21,
    "start_time": "2023-01-23T11:50:50.290Z"
   },
   {
    "duration": 23,
    "start_time": "2023-01-23T11:50:52.369Z"
   },
   {
    "duration": 14,
    "start_time": "2023-01-23T11:50:55.658Z"
   },
   {
    "duration": 8,
    "start_time": "2023-01-23T11:50:58.025Z"
   },
   {
    "duration": 8,
    "start_time": "2023-01-23T11:51:00.329Z"
   },
   {
    "duration": 161,
    "start_time": "2023-01-23T11:51:02.658Z"
   },
   {
    "duration": 74,
    "start_time": "2023-01-23T11:51:04.911Z"
   },
   {
    "duration": 170,
    "start_time": "2023-01-23T11:51:22.921Z"
   },
   {
    "duration": 131,
    "start_time": "2023-01-23T11:51:27.536Z"
   },
   {
    "duration": 8,
    "start_time": "2023-01-23T11:51:40.617Z"
   },
   {
    "duration": 8,
    "start_time": "2023-01-23T11:52:08.209Z"
   },
   {
    "duration": 112,
    "start_time": "2023-01-23T11:52:17.810Z"
   },
   {
    "duration": 29,
    "start_time": "2023-01-23T11:53:11.761Z"
   },
   {
    "duration": 18,
    "start_time": "2023-01-23T11:57:04.610Z"
   },
   {
    "duration": 2530,
    "start_time": "2023-01-23T11:58:21.379Z"
   },
   {
    "duration": 10,
    "start_time": "2023-01-23T12:04:34.364Z"
   },
   {
    "duration": 143,
    "start_time": "2023-01-23T12:04:47.762Z"
   },
   {
    "duration": 140,
    "start_time": "2023-01-23T12:06:01.936Z"
   },
   {
    "duration": 8,
    "start_time": "2023-01-23T12:22:07.428Z"
   },
   {
    "duration": 2706,
    "start_time": "2023-01-23T12:22:16.092Z"
   },
   {
    "duration": 819,
    "start_time": "2023-01-23T12:35:13.730Z"
   },
   {
    "duration": 88,
    "start_time": "2023-01-23T12:35:56.041Z"
   },
   {
    "duration": 872,
    "start_time": "2023-01-23T12:35:58.225Z"
   },
   {
    "duration": 766,
    "start_time": "2023-01-23T12:36:08.065Z"
   },
   {
    "duration": 20,
    "start_time": "2023-01-23T12:36:17.497Z"
   },
   {
    "duration": 582,
    "start_time": "2023-01-23T12:38:18.827Z"
   },
   {
    "duration": 4,
    "start_time": "2023-01-23T12:38:35.330Z"
   },
   {
    "duration": 10,
    "start_time": "2023-01-23T12:38:39.928Z"
   },
   {
    "duration": 24,
    "start_time": "2023-01-23T12:38:41.963Z"
   },
   {
    "duration": 93,
    "start_time": "2023-01-23T12:38:53.414Z"
   },
   {
    "duration": 22,
    "start_time": "2023-01-23T12:38:56.351Z"
   },
   {
    "duration": 18,
    "start_time": "2023-01-23T12:40:03.424Z"
   },
   {
    "duration": 22,
    "start_time": "2023-01-23T12:40:37.427Z"
   },
   {
    "duration": 92,
    "start_time": "2023-01-23T12:42:04.179Z"
   },
   {
    "duration": 16,
    "start_time": "2023-01-23T12:44:17.553Z"
   },
   {
    "duration": 45,
    "start_time": "2023-01-23T12:45:17.777Z"
   },
   {
    "duration": 8,
    "start_time": "2023-01-23T12:46:10.904Z"
   },
   {
    "duration": 14,
    "start_time": "2023-01-23T12:47:25.223Z"
   },
   {
    "duration": 9,
    "start_time": "2023-01-23T12:49:46.708Z"
   },
   {
    "duration": 12,
    "start_time": "2023-01-23T12:49:56.554Z"
   },
   {
    "duration": 176,
    "start_time": "2023-01-23T12:50:02.403Z"
   },
   {
    "duration": 12,
    "start_time": "2023-01-23T12:50:30.382Z"
   },
   {
    "duration": 146,
    "start_time": "2023-01-23T12:50:39.729Z"
   },
   {
    "duration": 1866,
    "start_time": "2023-01-23T12:51:19.278Z"
   },
   {
    "duration": 321,
    "start_time": "2023-01-23T12:51:27.347Z"
   },
   {
    "duration": 2547,
    "start_time": "2023-01-23T12:56:55.260Z"
   },
   {
    "duration": 16,
    "start_time": "2023-01-23T12:57:11.003Z"
   },
   {
    "duration": 7,
    "start_time": "2023-01-23T12:57:12.938Z"
   },
   {
    "duration": 8,
    "start_time": "2023-01-23T12:57:14.817Z"
   },
   {
    "duration": 159,
    "start_time": "2023-01-23T12:57:16.481Z"
   },
   {
    "duration": 298,
    "start_time": "2023-01-23T12:57:19.079Z"
   },
   {
    "duration": 146,
    "start_time": "2023-01-23T12:57:29.859Z"
   },
   {
    "duration": 130,
    "start_time": "2023-01-23T12:57:33.594Z"
   },
   {
    "duration": 193,
    "start_time": "2023-01-23T12:57:38.931Z"
   },
   {
    "duration": 144,
    "start_time": "2023-01-23T12:57:54.450Z"
   },
   {
    "duration": 216,
    "start_time": "2023-01-23T12:58:12.681Z"
   },
   {
    "duration": 175,
    "start_time": "2023-01-23T12:58:25.969Z"
   },
   {
    "duration": 145,
    "start_time": "2023-01-23T12:58:29.249Z"
   },
   {
    "duration": 144,
    "start_time": "2023-01-23T12:58:35.784Z"
   },
   {
    "duration": 201,
    "start_time": "2023-01-23T12:59:12.051Z"
   },
   {
    "duration": 10,
    "start_time": "2023-01-23T12:59:31.305Z"
   },
   {
    "duration": 13,
    "start_time": "2023-01-23T12:59:38.289Z"
   },
   {
    "duration": 2888,
    "start_time": "2023-01-23T13:00:36.583Z"
   },
   {
    "duration": 4,
    "start_time": "2023-01-23T13:04:48.994Z"
   },
   {
    "duration": 12,
    "start_time": "2023-01-23T13:04:53.235Z"
   },
   {
    "duration": 53,
    "start_time": "2023-01-23T13:42:47.998Z"
   },
   {
    "duration": 1870,
    "start_time": "2023-01-23T13:42:59.494Z"
   },
   {
    "duration": 18,
    "start_time": "2023-01-23T13:43:02.166Z"
   },
   {
    "duration": 22,
    "start_time": "2023-01-23T13:43:03.715Z"
   },
   {
    "duration": 11,
    "start_time": "2023-01-23T13:43:05.862Z"
   },
   {
    "duration": 8,
    "start_time": "2023-01-23T13:43:07.478Z"
   },
   {
    "duration": 12,
    "start_time": "2023-01-23T13:43:09.323Z"
   },
   {
    "duration": 9,
    "start_time": "2023-01-23T13:43:11.028Z"
   },
   {
    "duration": 11,
    "start_time": "2023-01-23T13:43:12.612Z"
   },
   {
    "duration": 4,
    "start_time": "2023-01-23T13:43:14.188Z"
   },
   {
    "duration": 4,
    "start_time": "2023-01-23T13:43:15.718Z"
   },
   {
    "duration": 12,
    "start_time": "2023-01-23T13:43:16.908Z"
   },
   {
    "duration": 16,
    "start_time": "2023-01-23T13:43:18.629Z"
   },
   {
    "duration": 33,
    "start_time": "2023-01-23T13:43:20.287Z"
   },
   {
    "duration": 5,
    "start_time": "2023-01-23T13:43:23.173Z"
   },
   {
    "duration": 23,
    "start_time": "2023-01-23T13:43:25.181Z"
   },
   {
    "duration": 6,
    "start_time": "2023-01-23T13:43:26.973Z"
   },
   {
    "duration": 5,
    "start_time": "2023-01-23T13:43:28.325Z"
   },
   {
    "duration": 8,
    "start_time": "2023-01-23T13:43:29.805Z"
   },
   {
    "duration": 5,
    "start_time": "2023-01-23T13:43:31.205Z"
   },
   {
    "duration": 6,
    "start_time": "2023-01-23T13:43:32.892Z"
   },
   {
    "duration": 15,
    "start_time": "2023-01-23T13:43:34.227Z"
   },
   {
    "duration": 7,
    "start_time": "2023-01-23T13:43:35.827Z"
   },
   {
    "duration": 15,
    "start_time": "2023-01-23T13:43:39.447Z"
   },
   {
    "duration": 26,
    "start_time": "2023-01-23T13:43:42.821Z"
   },
   {
    "duration": 6,
    "start_time": "2023-01-23T13:43:44.404Z"
   },
   {
    "duration": 7,
    "start_time": "2023-01-23T13:43:45.667Z"
   },
   {
    "duration": 6,
    "start_time": "2023-01-23T13:43:47.266Z"
   },
   {
    "duration": 30,
    "start_time": "2023-01-23T13:43:48.435Z"
   },
   {
    "duration": 5,
    "start_time": "2023-01-23T13:43:50.035Z"
   },
   {
    "duration": 45,
    "start_time": "2023-01-23T13:43:51.460Z"
   },
   {
    "duration": 5,
    "start_time": "2023-01-23T13:43:53.523Z"
   },
   {
    "duration": 15,
    "start_time": "2023-01-23T13:43:54.861Z"
   },
   {
    "duration": 16,
    "start_time": "2023-01-23T13:43:56.939Z"
   },
   {
    "duration": 16,
    "start_time": "2023-01-23T13:43:58.773Z"
   },
   {
    "duration": 6,
    "start_time": "2023-01-23T13:44:01.915Z"
   },
   {
    "duration": 5,
    "start_time": "2023-01-23T13:44:03.093Z"
   },
   {
    "duration": 12,
    "start_time": "2023-01-23T13:44:04.547Z"
   },
   {
    "duration": 16,
    "start_time": "2023-01-23T13:44:07.851Z"
   },
   {
    "duration": 8,
    "start_time": "2023-01-23T13:44:09.646Z"
   },
   {
    "duration": 34,
    "start_time": "2023-01-23T13:44:10.848Z"
   },
   {
    "duration": 19,
    "start_time": "2023-01-23T13:44:13.764Z"
   },
   {
    "duration": 7,
    "start_time": "2023-01-23T13:44:14.931Z"
   },
   {
    "duration": 205,
    "start_time": "2023-01-23T13:44:18.003Z"
   },
   {
    "duration": 5,
    "start_time": "2023-01-23T13:44:20.060Z"
   },
   {
    "duration": 14,
    "start_time": "2023-01-23T13:44:21.982Z"
   },
   {
    "duration": 193,
    "start_time": "2023-01-23T13:44:27.850Z"
   },
   {
    "duration": 30,
    "start_time": "2023-01-23T13:44:30.372Z"
   },
   {
    "duration": 25,
    "start_time": "2023-01-23T13:44:32.526Z"
   },
   {
    "duration": 16,
    "start_time": "2023-01-23T13:44:38.226Z"
   },
   {
    "duration": 8,
    "start_time": "2023-01-23T13:44:40.035Z"
   },
   {
    "duration": 9,
    "start_time": "2023-01-23T13:44:41.794Z"
   },
   {
    "duration": 207,
    "start_time": "2023-01-23T13:44:43.283Z"
   },
   {
    "duration": 136,
    "start_time": "2023-01-23T13:44:46.554Z"
   },
   {
    "duration": 261,
    "start_time": "2023-01-23T13:44:49.843Z"
   },
   {
    "duration": 5,
    "start_time": "2023-01-23T13:44:52.394Z"
   },
   {
    "duration": 15,
    "start_time": "2023-01-23T13:44:58.061Z"
   },
   {
    "duration": 20,
    "start_time": "2023-01-23T13:45:08.368Z"
   },
   {
    "duration": 16,
    "start_time": "2023-01-23T13:46:12.593Z"
   },
   {
    "duration": 21,
    "start_time": "2023-01-23T13:46:24.169Z"
   },
   {
    "duration": 76,
    "start_time": "2023-01-23T13:48:05.063Z"
   },
   {
    "duration": 19,
    "start_time": "2023-01-23T13:48:13.991Z"
   },
   {
    "duration": 20,
    "start_time": "2023-01-23T13:48:44.711Z"
   },
   {
    "duration": 17,
    "start_time": "2023-01-23T13:50:16.508Z"
   },
   {
    "duration": 17,
    "start_time": "2023-01-23T13:50:22.957Z"
   },
   {
    "duration": 16,
    "start_time": "2023-01-23T13:52:51.122Z"
   },
   {
    "duration": 15,
    "start_time": "2023-01-23T14:09:41.623Z"
   },
   {
    "duration": 21,
    "start_time": "2023-01-23T14:09:47.922Z"
   },
   {
    "duration": 128,
    "start_time": "2023-01-23T14:19:11.437Z"
   },
   {
    "duration": 14,
    "start_time": "2023-01-23T14:19:15.971Z"
   },
   {
    "duration": 13,
    "start_time": "2023-01-23T14:19:22.026Z"
   },
   {
    "duration": 5,
    "start_time": "2023-01-23T14:19:30.267Z"
   },
   {
    "duration": 16,
    "start_time": "2023-01-23T14:19:50.067Z"
   },
   {
    "duration": 8,
    "start_time": "2023-01-23T14:19:51.603Z"
   },
   {
    "duration": 1369,
    "start_time": "2023-01-23T14:25:46.967Z"
   },
   {
    "duration": 19,
    "start_time": "2023-01-23T14:25:48.433Z"
   },
   {
    "duration": 22,
    "start_time": "2023-01-23T14:25:50.123Z"
   },
   {
    "duration": 12,
    "start_time": "2023-01-23T14:25:52.879Z"
   },
   {
    "duration": 9,
    "start_time": "2023-01-23T14:25:54.580Z"
   },
   {
    "duration": 10,
    "start_time": "2023-01-23T14:25:56.500Z"
   },
   {
    "duration": 10,
    "start_time": "2023-01-23T14:25:58.210Z"
   },
   {
    "duration": 590,
    "start_time": "2023-01-23T14:26:06.461Z"
   },
   {
    "duration": 18,
    "start_time": "2023-01-23T14:26:07.819Z"
   },
   {
    "duration": 26,
    "start_time": "2023-01-23T14:26:09.539Z"
   },
   {
    "duration": 13,
    "start_time": "2023-01-23T14:26:11.473Z"
   },
   {
    "duration": 9,
    "start_time": "2023-01-23T14:26:13.280Z"
   },
   {
    "duration": 16,
    "start_time": "2023-01-23T14:26:14.889Z"
   },
   {
    "duration": 9,
    "start_time": "2023-01-23T14:26:17.468Z"
   },
   {
    "duration": 15,
    "start_time": "2023-01-23T14:26:19.338Z"
   },
   {
    "duration": 5,
    "start_time": "2023-01-23T14:26:20.992Z"
   },
   {
    "duration": 5,
    "start_time": "2023-01-23T14:26:22.305Z"
   },
   {
    "duration": 16,
    "start_time": "2023-01-23T14:26:23.610Z"
   },
   {
    "duration": 18,
    "start_time": "2023-01-23T14:26:25.388Z"
   },
   {
    "duration": 35,
    "start_time": "2023-01-23T14:26:26.988Z"
   },
   {
    "duration": 7,
    "start_time": "2023-01-23T14:26:30.330Z"
   },
   {
    "duration": 25,
    "start_time": "2023-01-23T14:26:32.576Z"
   },
   {
    "duration": 6,
    "start_time": "2023-01-23T14:26:35.092Z"
   },
   {
    "duration": 5,
    "start_time": "2023-01-23T14:26:36.688Z"
   },
   {
    "duration": 6,
    "start_time": "2023-01-23T14:26:38.280Z"
   },
   {
    "duration": 5,
    "start_time": "2023-01-23T14:26:41.408Z"
   },
   {
    "duration": 5,
    "start_time": "2023-01-23T14:26:43.887Z"
   },
   {
    "duration": 16,
    "start_time": "2023-01-23T14:26:45.612Z"
   },
   {
    "duration": 7,
    "start_time": "2023-01-23T14:26:47.322Z"
   },
   {
    "duration": 13,
    "start_time": "2023-01-23T14:26:49.504Z"
   },
   {
    "duration": 25,
    "start_time": "2023-01-23T14:26:52.072Z"
   },
   {
    "duration": 6,
    "start_time": "2023-01-23T14:26:53.780Z"
   },
   {
    "duration": 7,
    "start_time": "2023-01-23T14:26:55.180Z"
   },
   {
    "duration": 5,
    "start_time": "2023-01-23T14:27:25.897Z"
   },
   {
    "duration": 6,
    "start_time": "2023-01-23T14:27:27.476Z"
   },
   {
    "duration": 5,
    "start_time": "2023-01-23T14:27:31.177Z"
   },
   {
    "duration": 47,
    "start_time": "2023-01-23T14:27:32.632Z"
   },
   {
    "duration": 5,
    "start_time": "2023-01-23T14:27:34.385Z"
   },
   {
    "duration": 41,
    "start_time": "2023-01-23T14:27:35.999Z"
   },
   {
    "duration": 10,
    "start_time": "2023-01-23T14:27:38.180Z"
   },
   {
    "duration": 11,
    "start_time": "2023-01-23T14:27:41.405Z"
   },
   {
    "duration": 17,
    "start_time": "2023-01-23T14:27:50.536Z"
   },
   {
    "duration": 6,
    "start_time": "2023-01-23T14:27:54.017Z"
   },
   {
    "duration": 4,
    "start_time": "2023-01-23T14:27:56.336Z"
   },
   {
    "duration": 17,
    "start_time": "2023-01-23T14:27:58.103Z"
   },
   {
    "duration": 14,
    "start_time": "2023-01-23T14:27:59.988Z"
   },
   {
    "duration": 5,
    "start_time": "2023-01-23T14:28:02.473Z"
   },
   {
    "duration": 21,
    "start_time": "2023-01-23T14:28:03.981Z"
   },
   {
    "duration": 13,
    "start_time": "2023-01-23T14:28:09.440Z"
   },
   {
    "duration": 9,
    "start_time": "2023-01-23T14:28:10.947Z"
   },
   {
    "duration": 516,
    "start_time": "2023-01-23T14:28:12.737Z"
   },
   {
    "duration": 8,
    "start_time": "2023-01-23T14:28:14.735Z"
   },
   {
    "duration": 21,
    "start_time": "2023-01-23T14:28:16.430Z"
   },
   {
    "duration": 230,
    "start_time": "2023-01-23T14:28:18.119Z"
   },
   {
    "duration": 29,
    "start_time": "2023-01-23T14:28:20.421Z"
   },
   {
    "duration": 27,
    "start_time": "2023-01-23T14:28:23.488Z"
   },
   {
    "duration": 18,
    "start_time": "2023-01-23T14:28:27.272Z"
   },
   {
    "duration": 15,
    "start_time": "2023-01-23T14:28:30.768Z"
   },
   {
    "duration": 8,
    "start_time": "2023-01-23T14:28:32.868Z"
   },
   {
    "duration": 9,
    "start_time": "2023-01-23T14:28:42.504Z"
   },
   {
    "duration": 184,
    "start_time": "2023-01-23T14:28:58.111Z"
   },
   {
    "duration": 306,
    "start_time": "2023-01-23T14:29:06.632Z"
   },
   {
    "duration": 16,
    "start_time": "2023-01-23T14:29:09.189Z"
   },
   {
    "duration": 18,
    "start_time": "2023-01-23T14:29:11.896Z"
   },
   {
    "duration": 16,
    "start_time": "2023-01-23T14:29:13.811Z"
   },
   {
    "duration": 653,
    "start_time": "2024-02-15T15:54:18.852Z"
   },
   {
    "duration": 17,
    "start_time": "2024-02-15T15:54:22.917Z"
   },
   {
    "duration": 24,
    "start_time": "2024-02-15T15:54:23.647Z"
   },
   {
    "duration": 11,
    "start_time": "2024-02-15T15:54:26.604Z"
   },
   {
    "duration": 8,
    "start_time": "2024-02-15T15:54:27.253Z"
   },
   {
    "duration": 10,
    "start_time": "2024-02-15T15:54:29.365Z"
   },
   {
    "duration": 8,
    "start_time": "2024-02-15T15:54:30.245Z"
   },
   {
    "duration": 10,
    "start_time": "2024-02-15T15:54:33.573Z"
   },
   {
    "duration": 3,
    "start_time": "2024-02-15T15:54:34.405Z"
   },
   {
    "duration": 5,
    "start_time": "2024-02-15T15:54:34.834Z"
   },
   {
    "duration": 12,
    "start_time": "2024-02-15T15:54:35.340Z"
   },
   {
    "duration": 16,
    "start_time": "2024-02-15T15:54:38.032Z"
   },
   {
    "duration": 32,
    "start_time": "2024-02-15T15:54:40.237Z"
   },
   {
    "duration": 5,
    "start_time": "2024-02-15T15:54:42.339Z"
   },
   {
    "duration": 24,
    "start_time": "2024-02-15T15:54:44.817Z"
   },
   {
    "duration": 5,
    "start_time": "2024-02-15T15:54:48.645Z"
   },
   {
    "duration": 5,
    "start_time": "2024-02-15T15:54:50.283Z"
   },
   {
    "duration": 5,
    "start_time": "2024-02-15T15:54:50.958Z"
   },
   {
    "duration": 5,
    "start_time": "2024-02-15T15:54:53.042Z"
   },
   {
    "duration": 6,
    "start_time": "2024-02-15T15:54:53.757Z"
   },
   {
    "duration": 14,
    "start_time": "2024-02-15T15:54:54.572Z"
   },
   {
    "duration": 7,
    "start_time": "2024-02-15T15:54:57.504Z"
   },
   {
    "duration": 13,
    "start_time": "2024-02-15T15:54:59.200Z"
   },
   {
    "duration": 25,
    "start_time": "2024-02-15T15:55:03.483Z"
   },
   {
    "duration": 4,
    "start_time": "2024-02-15T15:55:05.596Z"
   },
   {
    "duration": 5,
    "start_time": "2024-02-15T15:55:07.358Z"
   },
   {
    "duration": 5,
    "start_time": "2024-02-15T15:55:15.714Z"
   },
   {
    "duration": 29,
    "start_time": "2024-02-15T15:55:16.410Z"
   },
   {
    "duration": 5,
    "start_time": "2024-02-15T15:55:19.961Z"
   },
   {
    "duration": 41,
    "start_time": "2024-02-15T15:55:20.506Z"
   },
   {
    "duration": 10,
    "start_time": "2024-02-15T15:55:21.354Z"
   },
   {
    "duration": 10,
    "start_time": "2024-02-15T15:55:23.226Z"
   },
   {
    "duration": 13,
    "start_time": "2024-02-15T15:55:26.674Z"
   },
   {
    "duration": 5,
    "start_time": "2024-02-15T15:55:33.074Z"
   },
   {
    "duration": 3,
    "start_time": "2024-02-15T15:55:34.429Z"
   },
   {
    "duration": 11,
    "start_time": "2024-02-15T15:55:35.872Z"
   },
   {
    "duration": 13,
    "start_time": "2024-02-15T15:55:36.260Z"
   },
   {
    "duration": 4,
    "start_time": "2024-02-15T15:55:37.322Z"
   },
   {
    "duration": 20,
    "start_time": "2024-02-15T15:55:38.090Z"
   },
   {
    "duration": 11,
    "start_time": "2024-02-15T15:55:42.755Z"
   },
   {
    "duration": 6,
    "start_time": "2024-02-15T15:55:43.379Z"
   },
   {
    "duration": 434,
    "start_time": "2024-02-15T15:55:44.195Z"
   },
   {
    "duration": 5,
    "start_time": "2024-02-15T15:55:46.578Z"
   },
   {
    "duration": 13,
    "start_time": "2024-02-15T15:55:51.082Z"
   },
   {
    "duration": 172,
    "start_time": "2024-02-15T15:55:52.443Z"
   },
   {
    "duration": 20,
    "start_time": "2024-02-15T15:55:57.371Z"
   },
   {
    "duration": 23,
    "start_time": "2024-02-15T15:56:03.851Z"
   },
   {
    "duration": 14,
    "start_time": "2024-02-15T15:56:10.873Z"
   },
   {
    "duration": 7,
    "start_time": "2024-02-15T15:56:25.498Z"
   },
   {
    "duration": 8,
    "start_time": "2024-02-15T15:56:26.281Z"
   },
   {
    "duration": 163,
    "start_time": "2024-02-15T15:56:28.810Z"
   },
   {
    "duration": 277,
    "start_time": "2024-02-15T15:56:31.450Z"
   },
   {
    "duration": 15,
    "start_time": "2024-02-15T15:56:33.106Z"
   },
   {
    "duration": 14,
    "start_time": "2024-02-15T15:56:34.554Z"
   },
   {
    "duration": 16,
    "start_time": "2024-02-15T15:56:35.153Z"
   }
  ],
  "colab": {
   "name": "DA+. Сборный проект 1. Шаблон (1).ipynb",
   "provenance": []
  },
  "kernelspec": {
   "display_name": "Python 3 (ipykernel)",
   "language": "python",
   "name": "python3"
  },
  "language_info": {
   "codemirror_mode": {
    "name": "ipython",
    "version": 3
   },
   "file_extension": ".py",
   "mimetype": "text/x-python",
   "name": "python",
   "nbconvert_exporter": "python",
   "pygments_lexer": "ipython3",
   "version": "3.9.5"
  },
  "toc": {
   "base_numbering": 1,
   "nav_menu": {},
   "number_sections": true,
   "sideBar": true,
   "skip_h1_title": true,
   "title_cell": "Table of Contents",
   "title_sidebar": "Contents",
   "toc_cell": false,
   "toc_position": {
    "height": "calc(100% - 180px)",
    "left": "10px",
    "top": "150px",
    "width": "375.391px"
   },
   "toc_section_display": true,
   "toc_window_display": false
  }
 },
 "nbformat": 4,
 "nbformat_minor": 1
}
