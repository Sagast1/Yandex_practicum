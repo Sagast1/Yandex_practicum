{
 "cells": [
  {
   "cell_type": "code",
   "execution_count": 1,
   "id": "fc7efa54",
   "metadata": {},
   "outputs": [],
   "source": [
    "import pandas as pd\n",
    "import numpy as np\n",
    "\n",
    "from sqlalchemy import create_engine"
   ]
  },
  {
   "cell_type": "markdown",
   "id": "b7965881",
   "metadata": {},
   "source": [
    "# Цель работы \n",
    "Подготовить дашборд с итогами опроса лояльности клиентов телекоммуникационной компании. Ответить на вопросы в виде презентации."
   ]
  },
  {
   "cell_type": "markdown",
   "id": "94d9dfd7",
   "metadata": {},
   "source": [
    "# План\n",
    "- Шаг 1. Подключение к базе\n",
    "- Шаг 2. Выгрузка данных\n",
    "- Шаг 3. Создание дашборда в Tableau\n",
    "- Шаг 4. Ответы на вопросы с помощью дашборда"
   ]
  },
  {
   "cell_type": "code",
   "execution_count": 2,
   "id": "0017f8e7",
   "metadata": {},
   "outputs": [],
   "source": [
    "path_to_db = '/datasets/telecomm_csi.db'\n",
    "engine = create_engine(f'sqlite:///{path_to_db}', echo = False)"
   ]
  },
  {
   "cell_type": "code",
   "execution_count": 3,
   "id": "84ebad43",
   "metadata": {},
   "outputs": [],
   "source": [
    "query = \"\"\"\n",
    "SELECT u.user_id,\n",
    "       u.lt_day,\n",
    "       (CASE\n",
    "            WHEN u.lt_day <= 365 THEN 'новый клиент'\n",
    "            ELSE 'старый клиент'\n",
    "       END) AS is_new,\n",
    "       u.age,\n",
    "       (CASE \n",
    "            WHEN u.gender_segment = 1 THEN 'женщина'\n",
    "            WHEN u.gender_segment = 0 THEN 'мужчина'\n",
    "            ELSE 'другой'\n",
    "       END) AS gender_segment,\n",
    "       u.os_name,\n",
    "       u.cpe_type_name,\n",
    "       l.country,\n",
    "       l.city,\n",
    "       a.title AS age_segment,\n",
    "       t.title AS traffic_segment,\n",
    "       li.title AS lifetime_segment,\n",
    "       u.nps_score,\n",
    "       (CASE\n",
    "           WHEN u.nps_score >= 9 THEN 'сторонники'\n",
    "           WHEN u.nps_score >= 7 AND u.nps_score < 9 THEN 'нейтралы'\n",
    "           ELSE 'критики'\n",
    "       END) AS nps_group\n",
    "FROM user AS u\n",
    "JOIN location AS l ON u.location_id = l.location_id\n",
    "JOIN age_segment AS a ON u.age_gr_id = a.age_gr_id\n",
    "JOIN traffic_segment AS t ON u.tr_gr_id = t.tr_gr_id\n",
    "JOIN lifetime_segment AS li ON u.lt_gr_id = li.lt_gr_id;\n",
    "\"\"\""
   ]
  },
  {
   "cell_type": "code",
   "execution_count": 4,
   "id": "3965faf2",
   "metadata": {},
   "outputs": [
    {
     "data": {
      "text/html": [
       "<div>\n",
       "<style scoped>\n",
       "    .dataframe tbody tr th:only-of-type {\n",
       "        vertical-align: middle;\n",
       "    }\n",
       "\n",
       "    .dataframe tbody tr th {\n",
       "        vertical-align: top;\n",
       "    }\n",
       "\n",
       "    .dataframe thead th {\n",
       "        text-align: right;\n",
       "    }\n",
       "</style>\n",
       "<table border=\"1\" class=\"dataframe\">\n",
       "  <thead>\n",
       "    <tr style=\"text-align: right;\">\n",
       "      <th></th>\n",
       "      <th>user_id</th>\n",
       "      <th>lt_day</th>\n",
       "      <th>is_new</th>\n",
       "      <th>age</th>\n",
       "      <th>gender_segment</th>\n",
       "      <th>os_name</th>\n",
       "      <th>cpe_type_name</th>\n",
       "      <th>country</th>\n",
       "      <th>city</th>\n",
       "      <th>age_segment</th>\n",
       "      <th>traffic_segment</th>\n",
       "      <th>lifetime_segment</th>\n",
       "      <th>nps_score</th>\n",
       "      <th>nps_group</th>\n",
       "    </tr>\n",
       "  </thead>\n",
       "  <tbody>\n",
       "    <tr>\n",
       "      <th>0</th>\n",
       "      <td>A001A2</td>\n",
       "      <td>2320</td>\n",
       "      <td>старый клиент</td>\n",
       "      <td>45.0</td>\n",
       "      <td>женщина</td>\n",
       "      <td>ANDROID</td>\n",
       "      <td>SMARTPHONE</td>\n",
       "      <td>Россия</td>\n",
       "      <td>Уфа</td>\n",
       "      <td>05 45-54</td>\n",
       "      <td>04 1-5</td>\n",
       "      <td>08 36+</td>\n",
       "      <td>10</td>\n",
       "      <td>сторонники</td>\n",
       "    </tr>\n",
       "    <tr>\n",
       "      <th>1</th>\n",
       "      <td>A001WF</td>\n",
       "      <td>2344</td>\n",
       "      <td>старый клиент</td>\n",
       "      <td>53.0</td>\n",
       "      <td>мужчина</td>\n",
       "      <td>ANDROID</td>\n",
       "      <td>SMARTPHONE</td>\n",
       "      <td>Россия</td>\n",
       "      <td>Киров</td>\n",
       "      <td>05 45-54</td>\n",
       "      <td>04 1-5</td>\n",
       "      <td>08 36+</td>\n",
       "      <td>10</td>\n",
       "      <td>сторонники</td>\n",
       "    </tr>\n",
       "    <tr>\n",
       "      <th>2</th>\n",
       "      <td>A003Q7</td>\n",
       "      <td>467</td>\n",
       "      <td>старый клиент</td>\n",
       "      <td>57.0</td>\n",
       "      <td>мужчина</td>\n",
       "      <td>ANDROID</td>\n",
       "      <td>SMARTPHONE</td>\n",
       "      <td>Россия</td>\n",
       "      <td>Москва</td>\n",
       "      <td>06 55-64</td>\n",
       "      <td>08 20-25</td>\n",
       "      <td>06 13-24</td>\n",
       "      <td>10</td>\n",
       "      <td>сторонники</td>\n",
       "    </tr>\n",
       "  </tbody>\n",
       "</table>\n",
       "</div>"
      ],
      "text/plain": [
       "  user_id  lt_day         is_new   age gender_segment  os_name cpe_type_name  \\\n",
       "0  A001A2    2320  старый клиент  45.0        женщина  ANDROID    SMARTPHONE   \n",
       "1  A001WF    2344  старый клиент  53.0        мужчина  ANDROID    SMARTPHONE   \n",
       "2  A003Q7     467  старый клиент  57.0        мужчина  ANDROID    SMARTPHONE   \n",
       "\n",
       "  country    city age_segment traffic_segment lifetime_segment  nps_score  \\\n",
       "0  Россия     Уфа    05 45-54          04 1-5           08 36+         10   \n",
       "1  Россия   Киров    05 45-54          04 1-5           08 36+         10   \n",
       "2  Россия  Москва    06 55-64        08 20-25         06 13-24         10   \n",
       "\n",
       "    nps_group  \n",
       "0  сторонники  \n",
       "1  сторонники  \n",
       "2  сторонники  "
      ]
     },
     "execution_count": 4,
     "metadata": {},
     "output_type": "execute_result"
    }
   ],
   "source": [
    "df = pd.read_sql(query, engine)\n",
    "df.head(3)"
   ]
  },
  {
   "cell_type": "code",
   "execution_count": 5,
   "id": "9db04858",
   "metadata": {},
   "outputs": [],
   "source": [
    "df.to_csv('telecomm_csi_tableau.csv', index=False)"
   ]
  },
  {
   "cell_type": "markdown",
   "id": "14e86f60",
   "metadata": {},
   "source": [
    "Дашборд: https://public.tableau.com/shared/N2C388Q59?:display_count=n&:origin=viz_share_link"
   ]
  },
  {
   "cell_type": "markdown",
   "id": "4a04b7a4",
   "metadata": {},
   "source": [
    "Презентация: https://disk.yandex.ru/i/uYsXVnQSpW7pbA"
   ]
  }
 ],
 "metadata": {
  "ExecuteTimeLog": [
   {
    "duration": 534,
    "start_time": "2023-10-11T13:43:50.402Z"
   },
   {
    "duration": 4348,
    "start_time": "2023-10-11T13:43:52.974Z"
   },
   {
    "duration": 8,
    "start_time": "2023-10-11T13:44:00.547Z"
   },
   {
    "duration": 5036,
    "start_time": "2023-10-11T13:44:03.541Z"
   },
   {
    "duration": 3401,
    "start_time": "2023-10-11T13:44:16.390Z"
   },
   {
    "duration": 3,
    "start_time": "2023-10-11T13:48:22.505Z"
   },
   {
    "duration": 3,
    "start_time": "2023-10-11T13:48:24.629Z"
   },
   {
    "duration": 3,
    "start_time": "2023-10-11T13:48:26.122Z"
   },
   {
    "duration": 3484,
    "start_time": "2023-10-11T13:48:31.112Z"
   },
   {
    "duration": 7,
    "start_time": "2023-10-11T13:49:04.451Z"
   },
   {
    "duration": 741,
    "start_time": "2023-10-11T13:49:05.948Z"
   },
   {
    "duration": 3,
    "start_time": "2023-10-11T13:49:24.630Z"
   },
   {
    "duration": 569,
    "start_time": "2023-10-11T13:49:26.262Z"
   },
   {
    "duration": 581,
    "start_time": "2023-10-11T13:49:42.539Z"
   },
   {
    "duration": 584,
    "start_time": "2023-10-11T13:50:10.179Z"
   },
   {
    "duration": 3,
    "start_time": "2023-10-11T13:52:12.375Z"
   },
   {
    "duration": 3625,
    "start_time": "2023-10-11T13:52:16.352Z"
   },
   {
    "duration": 3527,
    "start_time": "2023-10-11T13:52:46.078Z"
   },
   {
    "duration": 3576,
    "start_time": "2023-10-11T13:53:12.267Z"
   },
   {
    "duration": 4,
    "start_time": "2023-10-11T14:50:44.151Z"
   },
   {
    "duration": 4,
    "start_time": "2023-10-11T14:50:45.704Z"
   },
   {
    "duration": 4,
    "start_time": "2023-10-11T14:50:47.067Z"
   },
   {
    "duration": 5746,
    "start_time": "2023-10-11T14:50:49.174Z"
   },
   {
    "duration": 5371,
    "start_time": "2023-10-11T14:52:12.286Z"
   },
   {
    "duration": 3,
    "start_time": "2023-10-11T14:54:51.077Z"
   },
   {
    "duration": 4,
    "start_time": "2023-10-11T14:54:52.699Z"
   },
   {
    "duration": 4,
    "start_time": "2023-10-11T14:54:54.221Z"
   },
   {
    "duration": 5744,
    "start_time": "2023-10-11T14:54:57.196Z"
   },
   {
    "duration": 5588,
    "start_time": "2023-10-11T14:55:05.381Z"
   },
   {
    "duration": 5781,
    "start_time": "2023-10-11T15:08:09.142Z"
   },
   {
    "duration": 5711,
    "start_time": "2023-10-11T15:11:46.976Z"
   },
   {
    "duration": 53,
    "start_time": "2023-10-11T15:12:46.829Z"
   },
   {
    "duration": 592,
    "start_time": "2023-10-11T15:12:49.569Z"
   },
   {
    "duration": 41,
    "start_time": "2023-10-11T15:12:51.436Z"
   },
   {
    "duration": 3,
    "start_time": "2023-10-11T15:12:53.129Z"
   },
   {
    "duration": 6489,
    "start_time": "2023-10-11T15:12:55.508Z"
   },
   {
    "duration": 5657,
    "start_time": "2023-10-11T15:13:37.470Z"
   },
   {
    "duration": 557,
    "start_time": "2023-10-11T15:14:02.841Z"
   },
   {
    "duration": 9,
    "start_time": "2023-10-11T15:14:04.294Z"
   },
   {
    "duration": 3,
    "start_time": "2023-10-11T15:14:05.805Z"
   },
   {
    "duration": 5749,
    "start_time": "2023-10-11T15:14:07.794Z"
   },
   {
    "duration": 5761,
    "start_time": "2023-10-11T15:14:15.873Z"
   },
   {
    "duration": 464,
    "start_time": "2023-10-11T15:54:43.697Z"
   },
   {
    "duration": 9,
    "start_time": "2023-10-11T15:54:47.371Z"
   },
   {
    "duration": 3,
    "start_time": "2023-10-11T15:54:48.803Z"
   },
   {
    "duration": 5324,
    "start_time": "2023-10-11T15:54:50.862Z"
   },
   {
    "duration": 4585,
    "start_time": "2023-10-11T15:54:59.699Z"
   },
   {
    "duration": 589,
    "start_time": "2023-10-12T12:14:35.760Z"
   },
   {
    "duration": 10,
    "start_time": "2023-10-12T12:14:46.889Z"
   },
   {
    "duration": 4,
    "start_time": "2023-10-12T12:14:48.571Z"
   },
   {
    "duration": 6223,
    "start_time": "2023-10-12T12:14:50.483Z"
   },
   {
    "duration": 5593,
    "start_time": "2023-10-12T12:14:59.346Z"
   },
   {
    "duration": 6138,
    "start_time": "2023-10-12T12:16:33.976Z"
   },
   {
    "duration": 6298,
    "start_time": "2023-10-12T12:26:32.319Z"
   },
   {
    "duration": 517,
    "start_time": "2023-10-13T22:22:46.732Z"
   },
   {
    "duration": 9,
    "start_time": "2023-10-13T22:22:47.251Z"
   },
   {
    "duration": 13,
    "start_time": "2023-10-13T22:22:47.261Z"
   },
   {
    "duration": 5392,
    "start_time": "2023-10-13T22:22:47.275Z"
   },
   {
    "duration": 4661,
    "start_time": "2023-10-13T22:22:52.668Z"
   },
   {
    "duration": 506,
    "start_time": "2023-10-13T22:43:00.754Z"
   },
   {
    "duration": 8,
    "start_time": "2023-10-13T22:43:01.263Z"
   },
   {
    "duration": 34,
    "start_time": "2023-10-13T22:43:01.273Z"
   },
   {
    "duration": 5487,
    "start_time": "2023-10-13T22:43:01.309Z"
   },
   {
    "duration": 4509,
    "start_time": "2023-10-13T22:43:06.798Z"
   },
   {
    "duration": 559,
    "start_time": "2023-10-15T10:09:33.444Z"
   },
   {
    "duration": 10,
    "start_time": "2023-10-15T10:09:36.442Z"
   },
   {
    "duration": 4,
    "start_time": "2023-10-15T10:09:38.107Z"
   },
   {
    "duration": 5706,
    "start_time": "2023-10-15T10:09:40.964Z"
   },
   {
    "duration": 5145,
    "start_time": "2023-10-15T10:09:52.546Z"
   },
   {
    "duration": 5277,
    "start_time": "2023-10-15T10:10:12.045Z"
   },
   {
    "duration": 5588,
    "start_time": "2023-10-15T10:10:31.383Z"
   },
   {
    "duration": 5278,
    "start_time": "2023-10-15T10:10:54.333Z"
   },
   {
    "duration": 569,
    "start_time": "2023-10-15T10:11:15.703Z"
   },
   {
    "duration": 11,
    "start_time": "2023-10-15T10:11:19.571Z"
   },
   {
    "duration": 4,
    "start_time": "2023-10-15T10:11:20.966Z"
   },
   {
    "duration": 5626,
    "start_time": "2023-10-15T10:11:23.715Z"
   },
   {
    "duration": 5276,
    "start_time": "2023-10-15T10:11:32.426Z"
   },
   {
    "duration": 532,
    "start_time": "2023-10-15T22:31:15.911Z"
   },
   {
    "duration": 9,
    "start_time": "2023-10-15T22:31:16.445Z"
   },
   {
    "duration": 3,
    "start_time": "2023-10-15T22:31:16.456Z"
   },
   {
    "duration": 5601,
    "start_time": "2023-10-15T22:31:16.461Z"
   },
   {
    "duration": 5020,
    "start_time": "2023-10-15T22:31:22.063Z"
   },
   {
    "duration": 493,
    "start_time": "2024-02-15T16:15:22.382Z"
   },
   {
    "duration": 10,
    "start_time": "2024-02-15T16:15:29.566Z"
   },
   {
    "duration": 3,
    "start_time": "2024-02-15T16:15:30.174Z"
   },
   {
    "duration": 5997,
    "start_time": "2024-02-15T16:15:37.231Z"
   },
   {
    "duration": 5312,
    "start_time": "2024-02-15T16:15:44.525Z"
   }
  ],
  "kernelspec": {
   "display_name": "Python 3 (ipykernel)",
   "language": "python",
   "name": "python3"
  },
  "language_info": {
   "codemirror_mode": {
    "name": "ipython",
    "version": 3
   },
   "file_extension": ".py",
   "mimetype": "text/x-python",
   "name": "python",
   "nbconvert_exporter": "python",
   "pygments_lexer": "ipython3",
   "version": "3.9.5"
  },
  "toc": {
   "base_numbering": 1,
   "nav_menu": {},
   "number_sections": true,
   "sideBar": true,
   "skip_h1_title": true,
   "title_cell": "Table of Contents",
   "title_sidebar": "Contents",
   "toc_cell": false,
   "toc_position": {},
   "toc_section_display": true,
   "toc_window_display": false
  }
 },
 "nbformat": 4,
 "nbformat_minor": 5
}
