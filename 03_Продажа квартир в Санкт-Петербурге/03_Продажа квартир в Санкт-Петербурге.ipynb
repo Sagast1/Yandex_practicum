{
 "cells": [
  {
   "cell_type": "markdown",
   "metadata": {},
   "source": [
    "# Исследование объявлений о продаже квартир\n",
    "\n",
    "В вашем распоряжении данные сервиса Яндекс.Недвижимость — архив объявлений о продаже квартир в Санкт-Петербурге и соседних населённых пунктов за несколько лет. Нужно научиться определять рыночную стоимость объектов недвижимости. Ваша задача — установить параметры. Это позволит построить автоматизированную систему: она отследит аномалии и мошенническую деятельность. \n",
    "\n",
    "По каждой квартире на продажу доступны два вида данных. Первые вписаны пользователем, вторые — получены автоматически на основе картографических данных. Например, расстояние до центра, аэропорта, ближайшего парка и водоёма. "
   ]
  },
  {
   "cell_type": "markdown",
   "metadata": {},
   "source": [
    "### Откройте файл с данными и изучите общую информацию. "
   ]
  },
  {
   "cell_type": "code",
   "execution_count": 1,
   "metadata": {},
   "outputs": [
    {
     "name": "stdout",
     "output_type": "stream",
     "text": [
      "<class 'pandas.core.frame.DataFrame'>\n",
      "RangeIndex: 23699 entries, 0 to 23698\n",
      "Data columns (total 22 columns):\n",
      " #   Column                Non-Null Count  Dtype  \n",
      "---  ------                --------------  -----  \n",
      " 0   total_images          23699 non-null  int64  \n",
      " 1   last_price            23699 non-null  float64\n",
      " 2   total_area            23699 non-null  float64\n",
      " 3   first_day_exposition  23699 non-null  object \n",
      " 4   rooms                 23699 non-null  int64  \n",
      " 5   ceiling_height        14504 non-null  float64\n",
      " 6   floors_total          23613 non-null  float64\n",
      " 7   living_area           21796 non-null  float64\n",
      " 8   floor                 23699 non-null  int64  \n",
      " 9   is_apartment          2775 non-null   object \n",
      " 10  studio                23699 non-null  bool   \n",
      " 11  open_plan             23699 non-null  bool   \n",
      " 12  kitchen_area          21421 non-null  float64\n",
      " 13  balcony               12180 non-null  float64\n",
      " 14  locality_name         23650 non-null  object \n",
      " 15  airports_nearest      18157 non-null  float64\n",
      " 16  cityCenters_nearest   18180 non-null  float64\n",
      " 17  parks_around3000      18181 non-null  float64\n",
      " 18  parks_nearest         8079 non-null   float64\n",
      " 19  ponds_around3000      18181 non-null  float64\n",
      " 20  ponds_nearest         9110 non-null   float64\n",
      " 21  days_exposition       20518 non-null  float64\n",
      "dtypes: bool(2), float64(14), int64(3), object(3)\n",
      "memory usage: 3.7+ MB\n"
     ]
    }
   ],
   "source": [
    "import pandas as pd\n",
    "data = pd.read_csv('/datasets/real_estate_data.csv', sep='\\t')\n",
    "data.info()"
   ]
  },
  {
   "cell_type": "code",
   "execution_count": 2,
   "metadata": {
    "scrolled": true
   },
   "outputs": [
    {
     "data": {
      "text/html": [
       "<div>\n",
       "<style scoped>\n",
       "    .dataframe tbody tr th:only-of-type {\n",
       "        vertical-align: middle;\n",
       "    }\n",
       "\n",
       "    .dataframe tbody tr th {\n",
       "        vertical-align: top;\n",
       "    }\n",
       "\n",
       "    .dataframe thead th {\n",
       "        text-align: right;\n",
       "    }\n",
       "</style>\n",
       "<table border=\"1\" class=\"dataframe\">\n",
       "  <thead>\n",
       "    <tr style=\"text-align: right;\">\n",
       "      <th></th>\n",
       "      <th>total_images</th>\n",
       "      <th>last_price</th>\n",
       "      <th>total_area</th>\n",
       "      <th>first_day_exposition</th>\n",
       "      <th>rooms</th>\n",
       "      <th>ceiling_height</th>\n",
       "      <th>floors_total</th>\n",
       "      <th>living_area</th>\n",
       "      <th>floor</th>\n",
       "      <th>is_apartment</th>\n",
       "      <th>...</th>\n",
       "      <th>kitchen_area</th>\n",
       "      <th>balcony</th>\n",
       "      <th>locality_name</th>\n",
       "      <th>airports_nearest</th>\n",
       "      <th>cityCenters_nearest</th>\n",
       "      <th>parks_around3000</th>\n",
       "      <th>parks_nearest</th>\n",
       "      <th>ponds_around3000</th>\n",
       "      <th>ponds_nearest</th>\n",
       "      <th>days_exposition</th>\n",
       "    </tr>\n",
       "  </thead>\n",
       "  <tbody>\n",
       "    <tr>\n",
       "      <th>0</th>\n",
       "      <td>20</td>\n",
       "      <td>13000000.0</td>\n",
       "      <td>108.00</td>\n",
       "      <td>2019-03-07T00:00:00</td>\n",
       "      <td>3</td>\n",
       "      <td>2.70</td>\n",
       "      <td>16.0</td>\n",
       "      <td>51.00</td>\n",
       "      <td>8</td>\n",
       "      <td>NaN</td>\n",
       "      <td>...</td>\n",
       "      <td>25.00</td>\n",
       "      <td>NaN</td>\n",
       "      <td>Санкт-Петербург</td>\n",
       "      <td>18863.0</td>\n",
       "      <td>16028.0</td>\n",
       "      <td>1.0</td>\n",
       "      <td>482.0</td>\n",
       "      <td>2.0</td>\n",
       "      <td>755.0</td>\n",
       "      <td>NaN</td>\n",
       "    </tr>\n",
       "    <tr>\n",
       "      <th>1</th>\n",
       "      <td>7</td>\n",
       "      <td>3350000.0</td>\n",
       "      <td>40.40</td>\n",
       "      <td>2018-12-04T00:00:00</td>\n",
       "      <td>1</td>\n",
       "      <td>NaN</td>\n",
       "      <td>11.0</td>\n",
       "      <td>18.60</td>\n",
       "      <td>1</td>\n",
       "      <td>NaN</td>\n",
       "      <td>...</td>\n",
       "      <td>11.00</td>\n",
       "      <td>2.0</td>\n",
       "      <td>посёлок Шушары</td>\n",
       "      <td>12817.0</td>\n",
       "      <td>18603.0</td>\n",
       "      <td>0.0</td>\n",
       "      <td>NaN</td>\n",
       "      <td>0.0</td>\n",
       "      <td>NaN</td>\n",
       "      <td>81.0</td>\n",
       "    </tr>\n",
       "    <tr>\n",
       "      <th>2</th>\n",
       "      <td>10</td>\n",
       "      <td>5196000.0</td>\n",
       "      <td>56.00</td>\n",
       "      <td>2015-08-20T00:00:00</td>\n",
       "      <td>2</td>\n",
       "      <td>NaN</td>\n",
       "      <td>5.0</td>\n",
       "      <td>34.30</td>\n",
       "      <td>4</td>\n",
       "      <td>NaN</td>\n",
       "      <td>...</td>\n",
       "      <td>8.30</td>\n",
       "      <td>0.0</td>\n",
       "      <td>Санкт-Петербург</td>\n",
       "      <td>21741.0</td>\n",
       "      <td>13933.0</td>\n",
       "      <td>1.0</td>\n",
       "      <td>90.0</td>\n",
       "      <td>2.0</td>\n",
       "      <td>574.0</td>\n",
       "      <td>558.0</td>\n",
       "    </tr>\n",
       "    <tr>\n",
       "      <th>3</th>\n",
       "      <td>0</td>\n",
       "      <td>64900000.0</td>\n",
       "      <td>159.00</td>\n",
       "      <td>2015-07-24T00:00:00</td>\n",
       "      <td>3</td>\n",
       "      <td>NaN</td>\n",
       "      <td>14.0</td>\n",
       "      <td>NaN</td>\n",
       "      <td>9</td>\n",
       "      <td>NaN</td>\n",
       "      <td>...</td>\n",
       "      <td>NaN</td>\n",
       "      <td>0.0</td>\n",
       "      <td>Санкт-Петербург</td>\n",
       "      <td>28098.0</td>\n",
       "      <td>6800.0</td>\n",
       "      <td>2.0</td>\n",
       "      <td>84.0</td>\n",
       "      <td>3.0</td>\n",
       "      <td>234.0</td>\n",
       "      <td>424.0</td>\n",
       "    </tr>\n",
       "    <tr>\n",
       "      <th>4</th>\n",
       "      <td>2</td>\n",
       "      <td>10000000.0</td>\n",
       "      <td>100.00</td>\n",
       "      <td>2018-06-19T00:00:00</td>\n",
       "      <td>2</td>\n",
       "      <td>3.03</td>\n",
       "      <td>14.0</td>\n",
       "      <td>32.00</td>\n",
       "      <td>13</td>\n",
       "      <td>NaN</td>\n",
       "      <td>...</td>\n",
       "      <td>41.00</td>\n",
       "      <td>NaN</td>\n",
       "      <td>Санкт-Петербург</td>\n",
       "      <td>31856.0</td>\n",
       "      <td>8098.0</td>\n",
       "      <td>2.0</td>\n",
       "      <td>112.0</td>\n",
       "      <td>1.0</td>\n",
       "      <td>48.0</td>\n",
       "      <td>121.0</td>\n",
       "    </tr>\n",
       "    <tr>\n",
       "      <th>5</th>\n",
       "      <td>10</td>\n",
       "      <td>2890000.0</td>\n",
       "      <td>30.40</td>\n",
       "      <td>2018-09-10T00:00:00</td>\n",
       "      <td>1</td>\n",
       "      <td>NaN</td>\n",
       "      <td>12.0</td>\n",
       "      <td>14.40</td>\n",
       "      <td>5</td>\n",
       "      <td>NaN</td>\n",
       "      <td>...</td>\n",
       "      <td>9.10</td>\n",
       "      <td>NaN</td>\n",
       "      <td>городской посёлок Янино-1</td>\n",
       "      <td>NaN</td>\n",
       "      <td>NaN</td>\n",
       "      <td>NaN</td>\n",
       "      <td>NaN</td>\n",
       "      <td>NaN</td>\n",
       "      <td>NaN</td>\n",
       "      <td>55.0</td>\n",
       "    </tr>\n",
       "    <tr>\n",
       "      <th>6</th>\n",
       "      <td>6</td>\n",
       "      <td>3700000.0</td>\n",
       "      <td>37.30</td>\n",
       "      <td>2017-11-02T00:00:00</td>\n",
       "      <td>1</td>\n",
       "      <td>NaN</td>\n",
       "      <td>26.0</td>\n",
       "      <td>10.60</td>\n",
       "      <td>6</td>\n",
       "      <td>NaN</td>\n",
       "      <td>...</td>\n",
       "      <td>14.40</td>\n",
       "      <td>1.0</td>\n",
       "      <td>посёлок Парголово</td>\n",
       "      <td>52996.0</td>\n",
       "      <td>19143.0</td>\n",
       "      <td>0.0</td>\n",
       "      <td>NaN</td>\n",
       "      <td>0.0</td>\n",
       "      <td>NaN</td>\n",
       "      <td>155.0</td>\n",
       "    </tr>\n",
       "    <tr>\n",
       "      <th>7</th>\n",
       "      <td>5</td>\n",
       "      <td>7915000.0</td>\n",
       "      <td>71.60</td>\n",
       "      <td>2019-04-18T00:00:00</td>\n",
       "      <td>2</td>\n",
       "      <td>NaN</td>\n",
       "      <td>24.0</td>\n",
       "      <td>NaN</td>\n",
       "      <td>22</td>\n",
       "      <td>NaN</td>\n",
       "      <td>...</td>\n",
       "      <td>18.90</td>\n",
       "      <td>2.0</td>\n",
       "      <td>Санкт-Петербург</td>\n",
       "      <td>23982.0</td>\n",
       "      <td>11634.0</td>\n",
       "      <td>0.0</td>\n",
       "      <td>NaN</td>\n",
       "      <td>0.0</td>\n",
       "      <td>NaN</td>\n",
       "      <td>NaN</td>\n",
       "    </tr>\n",
       "    <tr>\n",
       "      <th>8</th>\n",
       "      <td>20</td>\n",
       "      <td>2900000.0</td>\n",
       "      <td>33.16</td>\n",
       "      <td>2018-05-23T00:00:00</td>\n",
       "      <td>1</td>\n",
       "      <td>NaN</td>\n",
       "      <td>27.0</td>\n",
       "      <td>15.43</td>\n",
       "      <td>26</td>\n",
       "      <td>NaN</td>\n",
       "      <td>...</td>\n",
       "      <td>8.81</td>\n",
       "      <td>NaN</td>\n",
       "      <td>посёлок Мурино</td>\n",
       "      <td>NaN</td>\n",
       "      <td>NaN</td>\n",
       "      <td>NaN</td>\n",
       "      <td>NaN</td>\n",
       "      <td>NaN</td>\n",
       "      <td>NaN</td>\n",
       "      <td>189.0</td>\n",
       "    </tr>\n",
       "    <tr>\n",
       "      <th>9</th>\n",
       "      <td>18</td>\n",
       "      <td>5400000.0</td>\n",
       "      <td>61.00</td>\n",
       "      <td>2017-02-26T00:00:00</td>\n",
       "      <td>3</td>\n",
       "      <td>2.50</td>\n",
       "      <td>9.0</td>\n",
       "      <td>43.60</td>\n",
       "      <td>7</td>\n",
       "      <td>NaN</td>\n",
       "      <td>...</td>\n",
       "      <td>6.50</td>\n",
       "      <td>2.0</td>\n",
       "      <td>Санкт-Петербург</td>\n",
       "      <td>50898.0</td>\n",
       "      <td>15008.0</td>\n",
       "      <td>0.0</td>\n",
       "      <td>NaN</td>\n",
       "      <td>0.0</td>\n",
       "      <td>NaN</td>\n",
       "      <td>289.0</td>\n",
       "    </tr>\n",
       "    <tr>\n",
       "      <th>10</th>\n",
       "      <td>5</td>\n",
       "      <td>5050000.0</td>\n",
       "      <td>39.60</td>\n",
       "      <td>2017-11-16T00:00:00</td>\n",
       "      <td>1</td>\n",
       "      <td>2.67</td>\n",
       "      <td>12.0</td>\n",
       "      <td>20.30</td>\n",
       "      <td>3</td>\n",
       "      <td>NaN</td>\n",
       "      <td>...</td>\n",
       "      <td>8.50</td>\n",
       "      <td>NaN</td>\n",
       "      <td>Санкт-Петербург</td>\n",
       "      <td>38357.0</td>\n",
       "      <td>13878.0</td>\n",
       "      <td>1.0</td>\n",
       "      <td>310.0</td>\n",
       "      <td>2.0</td>\n",
       "      <td>553.0</td>\n",
       "      <td>137.0</td>\n",
       "    </tr>\n",
       "    <tr>\n",
       "      <th>11</th>\n",
       "      <td>9</td>\n",
       "      <td>3300000.0</td>\n",
       "      <td>44.00</td>\n",
       "      <td>2018-08-27T00:00:00</td>\n",
       "      <td>2</td>\n",
       "      <td>NaN</td>\n",
       "      <td>5.0</td>\n",
       "      <td>31.00</td>\n",
       "      <td>4</td>\n",
       "      <td>False</td>\n",
       "      <td>...</td>\n",
       "      <td>6.00</td>\n",
       "      <td>1.0</td>\n",
       "      <td>Ломоносов</td>\n",
       "      <td>48252.0</td>\n",
       "      <td>51677.0</td>\n",
       "      <td>0.0</td>\n",
       "      <td>NaN</td>\n",
       "      <td>0.0</td>\n",
       "      <td>NaN</td>\n",
       "      <td>7.0</td>\n",
       "    </tr>\n",
       "    <tr>\n",
       "      <th>12</th>\n",
       "      <td>10</td>\n",
       "      <td>3890000.0</td>\n",
       "      <td>54.00</td>\n",
       "      <td>2016-06-30T00:00:00</td>\n",
       "      <td>2</td>\n",
       "      <td>NaN</td>\n",
       "      <td>5.0</td>\n",
       "      <td>30.00</td>\n",
       "      <td>5</td>\n",
       "      <td>NaN</td>\n",
       "      <td>...</td>\n",
       "      <td>9.00</td>\n",
       "      <td>0.0</td>\n",
       "      <td>Сертолово</td>\n",
       "      <td>NaN</td>\n",
       "      <td>NaN</td>\n",
       "      <td>NaN</td>\n",
       "      <td>NaN</td>\n",
       "      <td>NaN</td>\n",
       "      <td>NaN</td>\n",
       "      <td>90.0</td>\n",
       "    </tr>\n",
       "    <tr>\n",
       "      <th>13</th>\n",
       "      <td>20</td>\n",
       "      <td>3550000.0</td>\n",
       "      <td>42.80</td>\n",
       "      <td>2017-07-01T00:00:00</td>\n",
       "      <td>2</td>\n",
       "      <td>2.56</td>\n",
       "      <td>5.0</td>\n",
       "      <td>27.00</td>\n",
       "      <td>5</td>\n",
       "      <td>NaN</td>\n",
       "      <td>...</td>\n",
       "      <td>5.20</td>\n",
       "      <td>1.0</td>\n",
       "      <td>Петергоф</td>\n",
       "      <td>37868.0</td>\n",
       "      <td>33058.0</td>\n",
       "      <td>1.0</td>\n",
       "      <td>294.0</td>\n",
       "      <td>3.0</td>\n",
       "      <td>298.0</td>\n",
       "      <td>366.0</td>\n",
       "    </tr>\n",
       "    <tr>\n",
       "      <th>14</th>\n",
       "      <td>1</td>\n",
       "      <td>4400000.0</td>\n",
       "      <td>36.00</td>\n",
       "      <td>2016-06-23T00:00:00</td>\n",
       "      <td>1</td>\n",
       "      <td>NaN</td>\n",
       "      <td>6.0</td>\n",
       "      <td>17.00</td>\n",
       "      <td>1</td>\n",
       "      <td>NaN</td>\n",
       "      <td>...</td>\n",
       "      <td>8.00</td>\n",
       "      <td>0.0</td>\n",
       "      <td>Пушкин</td>\n",
       "      <td>20782.0</td>\n",
       "      <td>30759.0</td>\n",
       "      <td>0.0</td>\n",
       "      <td>NaN</td>\n",
       "      <td>1.0</td>\n",
       "      <td>96.0</td>\n",
       "      <td>203.0</td>\n",
       "    </tr>\n",
       "    <tr>\n",
       "      <th>15</th>\n",
       "      <td>16</td>\n",
       "      <td>4650000.0</td>\n",
       "      <td>39.00</td>\n",
       "      <td>2017-11-18T00:00:00</td>\n",
       "      <td>1</td>\n",
       "      <td>NaN</td>\n",
       "      <td>14.0</td>\n",
       "      <td>20.50</td>\n",
       "      <td>5</td>\n",
       "      <td>NaN</td>\n",
       "      <td>...</td>\n",
       "      <td>7.60</td>\n",
       "      <td>1.0</td>\n",
       "      <td>Санкт-Петербург</td>\n",
       "      <td>12900.0</td>\n",
       "      <td>14259.0</td>\n",
       "      <td>1.0</td>\n",
       "      <td>590.0</td>\n",
       "      <td>1.0</td>\n",
       "      <td>296.0</td>\n",
       "      <td>19.0</td>\n",
       "    </tr>\n",
       "    <tr>\n",
       "      <th>16</th>\n",
       "      <td>11</td>\n",
       "      <td>6700000.0</td>\n",
       "      <td>82.00</td>\n",
       "      <td>2017-11-23T00:00:00</td>\n",
       "      <td>3</td>\n",
       "      <td>3.05</td>\n",
       "      <td>5.0</td>\n",
       "      <td>55.60</td>\n",
       "      <td>1</td>\n",
       "      <td>NaN</td>\n",
       "      <td>...</td>\n",
       "      <td>9.00</td>\n",
       "      <td>NaN</td>\n",
       "      <td>Санкт-Петербург</td>\n",
       "      <td>22108.0</td>\n",
       "      <td>10698.0</td>\n",
       "      <td>3.0</td>\n",
       "      <td>420.0</td>\n",
       "      <td>0.0</td>\n",
       "      <td>NaN</td>\n",
       "      <td>397.0</td>\n",
       "    </tr>\n",
       "    <tr>\n",
       "      <th>17</th>\n",
       "      <td>6</td>\n",
       "      <td>4180000.0</td>\n",
       "      <td>36.00</td>\n",
       "      <td>2016-09-09T00:00:00</td>\n",
       "      <td>1</td>\n",
       "      <td>NaN</td>\n",
       "      <td>17.0</td>\n",
       "      <td>16.50</td>\n",
       "      <td>7</td>\n",
       "      <td>NaN</td>\n",
       "      <td>...</td>\n",
       "      <td>11.00</td>\n",
       "      <td>1.0</td>\n",
       "      <td>Санкт-Петербург</td>\n",
       "      <td>33564.0</td>\n",
       "      <td>14616.0</td>\n",
       "      <td>0.0</td>\n",
       "      <td>NaN</td>\n",
       "      <td>1.0</td>\n",
       "      <td>859.0</td>\n",
       "      <td>571.0</td>\n",
       "    </tr>\n",
       "    <tr>\n",
       "      <th>18</th>\n",
       "      <td>8</td>\n",
       "      <td>3250000.0</td>\n",
       "      <td>31.00</td>\n",
       "      <td>2017-01-27T00:00:00</td>\n",
       "      <td>1</td>\n",
       "      <td>2.50</td>\n",
       "      <td>5.0</td>\n",
       "      <td>19.40</td>\n",
       "      <td>2</td>\n",
       "      <td>NaN</td>\n",
       "      <td>...</td>\n",
       "      <td>5.60</td>\n",
       "      <td>1.0</td>\n",
       "      <td>Санкт-Петербург</td>\n",
       "      <td>44060.0</td>\n",
       "      <td>10842.0</td>\n",
       "      <td>1.0</td>\n",
       "      <td>759.0</td>\n",
       "      <td>0.0</td>\n",
       "      <td>NaN</td>\n",
       "      <td>168.0</td>\n",
       "    </tr>\n",
       "    <tr>\n",
       "      <th>19</th>\n",
       "      <td>16</td>\n",
       "      <td>14200000.0</td>\n",
       "      <td>121.00</td>\n",
       "      <td>2019-01-09T00:00:00</td>\n",
       "      <td>3</td>\n",
       "      <td>2.75</td>\n",
       "      <td>16.0</td>\n",
       "      <td>76.00</td>\n",
       "      <td>8</td>\n",
       "      <td>NaN</td>\n",
       "      <td>...</td>\n",
       "      <td>12.00</td>\n",
       "      <td>NaN</td>\n",
       "      <td>Санкт-Петербург</td>\n",
       "      <td>38900.0</td>\n",
       "      <td>12843.0</td>\n",
       "      <td>0.0</td>\n",
       "      <td>NaN</td>\n",
       "      <td>0.0</td>\n",
       "      <td>NaN</td>\n",
       "      <td>97.0</td>\n",
       "    </tr>\n",
       "  </tbody>\n",
       "</table>\n",
       "<p>20 rows × 22 columns</p>\n",
       "</div>"
      ],
      "text/plain": [
       "    total_images  last_price  total_area first_day_exposition  rooms  \\\n",
       "0             20  13000000.0      108.00  2019-03-07T00:00:00      3   \n",
       "1              7   3350000.0       40.40  2018-12-04T00:00:00      1   \n",
       "2             10   5196000.0       56.00  2015-08-20T00:00:00      2   \n",
       "3              0  64900000.0      159.00  2015-07-24T00:00:00      3   \n",
       "4              2  10000000.0      100.00  2018-06-19T00:00:00      2   \n",
       "5             10   2890000.0       30.40  2018-09-10T00:00:00      1   \n",
       "6              6   3700000.0       37.30  2017-11-02T00:00:00      1   \n",
       "7              5   7915000.0       71.60  2019-04-18T00:00:00      2   \n",
       "8             20   2900000.0       33.16  2018-05-23T00:00:00      1   \n",
       "9             18   5400000.0       61.00  2017-02-26T00:00:00      3   \n",
       "10             5   5050000.0       39.60  2017-11-16T00:00:00      1   \n",
       "11             9   3300000.0       44.00  2018-08-27T00:00:00      2   \n",
       "12            10   3890000.0       54.00  2016-06-30T00:00:00      2   \n",
       "13            20   3550000.0       42.80  2017-07-01T00:00:00      2   \n",
       "14             1   4400000.0       36.00  2016-06-23T00:00:00      1   \n",
       "15            16   4650000.0       39.00  2017-11-18T00:00:00      1   \n",
       "16            11   6700000.0       82.00  2017-11-23T00:00:00      3   \n",
       "17             6   4180000.0       36.00  2016-09-09T00:00:00      1   \n",
       "18             8   3250000.0       31.00  2017-01-27T00:00:00      1   \n",
       "19            16  14200000.0      121.00  2019-01-09T00:00:00      3   \n",
       "\n",
       "    ceiling_height  floors_total  living_area  floor is_apartment  ...  \\\n",
       "0             2.70          16.0        51.00      8          NaN  ...   \n",
       "1              NaN          11.0        18.60      1          NaN  ...   \n",
       "2              NaN           5.0        34.30      4          NaN  ...   \n",
       "3              NaN          14.0          NaN      9          NaN  ...   \n",
       "4             3.03          14.0        32.00     13          NaN  ...   \n",
       "5              NaN          12.0        14.40      5          NaN  ...   \n",
       "6              NaN          26.0        10.60      6          NaN  ...   \n",
       "7              NaN          24.0          NaN     22          NaN  ...   \n",
       "8              NaN          27.0        15.43     26          NaN  ...   \n",
       "9             2.50           9.0        43.60      7          NaN  ...   \n",
       "10            2.67          12.0        20.30      3          NaN  ...   \n",
       "11             NaN           5.0        31.00      4        False  ...   \n",
       "12             NaN           5.0        30.00      5          NaN  ...   \n",
       "13            2.56           5.0        27.00      5          NaN  ...   \n",
       "14             NaN           6.0        17.00      1          NaN  ...   \n",
       "15             NaN          14.0        20.50      5          NaN  ...   \n",
       "16            3.05           5.0        55.60      1          NaN  ...   \n",
       "17             NaN          17.0        16.50      7          NaN  ...   \n",
       "18            2.50           5.0        19.40      2          NaN  ...   \n",
       "19            2.75          16.0        76.00      8          NaN  ...   \n",
       "\n",
       "    kitchen_area  balcony              locality_name  airports_nearest  \\\n",
       "0          25.00      NaN            Санкт-Петербург           18863.0   \n",
       "1          11.00      2.0             посёлок Шушары           12817.0   \n",
       "2           8.30      0.0            Санкт-Петербург           21741.0   \n",
       "3            NaN      0.0            Санкт-Петербург           28098.0   \n",
       "4          41.00      NaN            Санкт-Петербург           31856.0   \n",
       "5           9.10      NaN  городской посёлок Янино-1               NaN   \n",
       "6          14.40      1.0          посёлок Парголово           52996.0   \n",
       "7          18.90      2.0            Санкт-Петербург           23982.0   \n",
       "8           8.81      NaN             посёлок Мурино               NaN   \n",
       "9           6.50      2.0            Санкт-Петербург           50898.0   \n",
       "10          8.50      NaN            Санкт-Петербург           38357.0   \n",
       "11          6.00      1.0                  Ломоносов           48252.0   \n",
       "12          9.00      0.0                  Сертолово               NaN   \n",
       "13          5.20      1.0                   Петергоф           37868.0   \n",
       "14          8.00      0.0                     Пушкин           20782.0   \n",
       "15          7.60      1.0            Санкт-Петербург           12900.0   \n",
       "16          9.00      NaN            Санкт-Петербург           22108.0   \n",
       "17         11.00      1.0            Санкт-Петербург           33564.0   \n",
       "18          5.60      1.0            Санкт-Петербург           44060.0   \n",
       "19         12.00      NaN            Санкт-Петербург           38900.0   \n",
       "\n",
       "   cityCenters_nearest  parks_around3000  parks_nearest  ponds_around3000  \\\n",
       "0              16028.0               1.0          482.0               2.0   \n",
       "1              18603.0               0.0            NaN               0.0   \n",
       "2              13933.0               1.0           90.0               2.0   \n",
       "3               6800.0               2.0           84.0               3.0   \n",
       "4               8098.0               2.0          112.0               1.0   \n",
       "5                  NaN               NaN            NaN               NaN   \n",
       "6              19143.0               0.0            NaN               0.0   \n",
       "7              11634.0               0.0            NaN               0.0   \n",
       "8                  NaN               NaN            NaN               NaN   \n",
       "9              15008.0               0.0            NaN               0.0   \n",
       "10             13878.0               1.0          310.0               2.0   \n",
       "11             51677.0               0.0            NaN               0.0   \n",
       "12                 NaN               NaN            NaN               NaN   \n",
       "13             33058.0               1.0          294.0               3.0   \n",
       "14             30759.0               0.0            NaN               1.0   \n",
       "15             14259.0               1.0          590.0               1.0   \n",
       "16             10698.0               3.0          420.0               0.0   \n",
       "17             14616.0               0.0            NaN               1.0   \n",
       "18             10842.0               1.0          759.0               0.0   \n",
       "19             12843.0               0.0            NaN               0.0   \n",
       "\n",
       "    ponds_nearest  days_exposition  \n",
       "0           755.0              NaN  \n",
       "1             NaN             81.0  \n",
       "2           574.0            558.0  \n",
       "3           234.0            424.0  \n",
       "4            48.0            121.0  \n",
       "5             NaN             55.0  \n",
       "6             NaN            155.0  \n",
       "7             NaN              NaN  \n",
       "8             NaN            189.0  \n",
       "9             NaN            289.0  \n",
       "10          553.0            137.0  \n",
       "11            NaN              7.0  \n",
       "12            NaN             90.0  \n",
       "13          298.0            366.0  \n",
       "14           96.0            203.0  \n",
       "15          296.0             19.0  \n",
       "16            NaN            397.0  \n",
       "17          859.0            571.0  \n",
       "18            NaN            168.0  \n",
       "19            NaN             97.0  \n",
       "\n",
       "[20 rows x 22 columns]"
      ]
     },
     "execution_count": 2,
     "metadata": {},
     "output_type": "execute_result"
    }
   ],
   "source": [
    "data.head(20)"
   ]
  },
  {
   "cell_type": "code",
   "execution_count": 3,
   "metadata": {},
   "outputs": [
    {
     "data": {
      "text/plain": [
       "array([[<AxesSubplot:title={'center':'total_images'}>,\n",
       "        <AxesSubplot:title={'center':'last_price'}>,\n",
       "        <AxesSubplot:title={'center':'total_area'}>,\n",
       "        <AxesSubplot:title={'center':'rooms'}>],\n",
       "       [<AxesSubplot:title={'center':'ceiling_height'}>,\n",
       "        <AxesSubplot:title={'center':'floors_total'}>,\n",
       "        <AxesSubplot:title={'center':'living_area'}>,\n",
       "        <AxesSubplot:title={'center':'floor'}>],\n",
       "       [<AxesSubplot:title={'center':'kitchen_area'}>,\n",
       "        <AxesSubplot:title={'center':'balcony'}>,\n",
       "        <AxesSubplot:title={'center':'airports_nearest'}>,\n",
       "        <AxesSubplot:title={'center':'cityCenters_nearest'}>],\n",
       "       [<AxesSubplot:title={'center':'parks_around3000'}>,\n",
       "        <AxesSubplot:title={'center':'parks_nearest'}>,\n",
       "        <AxesSubplot:title={'center':'ponds_around3000'}>,\n",
       "        <AxesSubplot:title={'center':'ponds_nearest'}>],\n",
       "       [<AxesSubplot:title={'center':'days_exposition'}>, <AxesSubplot:>,\n",
       "        <AxesSubplot:>, <AxesSubplot:>]], dtype=object)"
      ]
     },
     "execution_count": 3,
     "metadata": {},
     "output_type": "execute_result"
    },
    {
     "data": {
      "image/png": "[encoded data removed]",
      "text/plain": [
       "<Figure size 1080x1440 with 20 Axes>"
      ]
     },
     "metadata": {
      "needs_background": "light"
     },
     "output_type": "display_data"
    }
   ],
   "source": [
    "data.hist(figsize=(15, 20))"
   ]
  },
  {
   "cell_type": "code",
   "execution_count": 4,
   "metadata": {},
   "outputs": [
    {
     "data": {
      "text/plain": [
       "0"
      ]
     },
     "execution_count": 4,
     "metadata": {},
     "output_type": "execute_result"
    }
   ],
   "source": [
    "data.duplicated().sum()"
   ]
  },
  {
   "cell_type": "markdown",
   "metadata": {},
   "source": [
    "### Предобработка данных"
   ]
  },
  {
   "cell_type": "code",
   "execution_count": 5,
   "metadata": {},
   "outputs": [
    {
     "data": {
      "text/plain": [
       "total_images                0\n",
       "last_price                  0\n",
       "total_area                  0\n",
       "first_day_exposition        0\n",
       "rooms                       0\n",
       "ceiling_height           9195\n",
       "floors_total               86\n",
       "living_area              1903\n",
       "floor                       0\n",
       "is_apartment            20924\n",
       "studio                      0\n",
       "open_plan                   0\n",
       "kitchen_area             2278\n",
       "balcony                 11519\n",
       "locality_name              49\n",
       "airports_nearest         5542\n",
       "cityCenters_nearest      5519\n",
       "parks_around3000         5518\n",
       "parks_nearest           15620\n",
       "ponds_around3000         5518\n",
       "ponds_nearest           14589\n",
       "days_exposition          3181\n",
       "dtype: int64"
      ]
     },
     "execution_count": 5,
     "metadata": {},
     "output_type": "execute_result"
    }
   ],
   "source": [
    "data.isna().sum()"
   ]
  },
  {
   "cell_type": "code",
   "execution_count": 6,
   "metadata": {},
   "outputs": [],
   "source": [
    "data['balcony'] = data['balcony'].fillna(0) # заполнение этого пропуска связано с тем, что скорее всего люди в чьих квартирах нет балконов не стали заполнять эту строку\n",
    "data['ceiling_height'] = data['ceiling_height'].fillna(data['ceiling_height'].median()) # заполнение этого столбца медианой из-за того, что большинство значений не имеют большого разброса"
   ]
  },
  {
   "cell_type": "markdown",
   "metadata": {},
   "source": [
    "Большая часть пропусков была оставлена в связи невозможностью их заполнения из-за незнания точных данных. Если говорить о причинах возникновения пропусков, то в основном пропуски в данных появляются из-за человеческой ошибки, сбоя системы или клиент забыл указать о себе какие-нибудь сведения."
   ]
  },
  {
   "cell_type": "code",
   "execution_count": 7,
   "metadata": {},
   "outputs": [],
   "source": [
    "data['first_day_exposition'] = pd.to_datetime(\n",
    "    data['first_day_exposition'], format='%Y-%m-%dT%H:%M:%S')"
   ]
  },
  {
   "cell_type": "markdown",
   "metadata": {},
   "source": [
    "Изменить тип данных необходимо для его корректного вида. Большую часть данных типа float64 было решено оставить из-за того, что по словам преподавателя с типом данных int64 могут неправильно строяться графики, и главным их отличием является объем занимаемого пространства."
   ]
  },
  {
   "cell_type": "code",
   "execution_count": 8,
   "metadata": {},
   "outputs": [
    {
     "data": {
      "text/plain": [
       "array(['Санкт-Петербург', 'поселок Шушары', 'поселок Янино-1',\n",
       "       'поселок Парголово', 'поселок Мурино', 'Ломоносов', 'Сертолово',\n",
       "       'Петергоф', 'Пушкин', 'деревня Кудрово', 'Коммунар', 'Колпино',\n",
       "       'поселок Красный Бор', 'Гатчина', 'деревня Фёдоровское', 'Выборг',\n",
       "       'Кронштадт', 'Кировск', 'деревня Новое Девяткино',\n",
       "       'поселок Металлострой', 'поселок Лебяжье', 'поселок Сиверский',\n",
       "       'поселок Молодцово', 'поселок Кузьмоловский',\n",
       "       'садовое товарищество Новая Ропша', 'Павловск',\n",
       "       'деревня Пикколово', 'Всеволожск', 'Волхов', 'Кингисепп',\n",
       "       'Приозерск', 'Сестрорецк', 'деревня Куттузи', 'поселок Аннино',\n",
       "       'поселок Ефимовский', 'поселок Плодовое', 'деревня Заклинье',\n",
       "       'поселок Торковичи', 'поселок Первомайское', 'Красное Село',\n",
       "       'поселок Понтонный', 'Сясьстрой', 'деревня Старая',\n",
       "       'деревня Лесколово', 'поселок Новый Свет', 'Сланцы',\n",
       "       'село Путилово', 'Ивангород', 'Мурино', 'Шлиссельбург',\n",
       "       'Никольское', 'Зеленогорск', 'Сосновый Бор', 'деревня Оржицы',\n",
       "       'деревня Кальтино', 'Кудрово', 'поселок Романовка',\n",
       "       'поселок Бугры', 'поселок Рощино', 'Кириши', 'Луга', 'Волосово',\n",
       "       'Отрадное', 'село Павлово', 'поселок Оредеж', 'село Копорье',\n",
       "       'поселок Молодёжное', 'Тихвин', 'поселок Победа', 'деревня Нурма',\n",
       "       'поселок Синявино', 'Тосно', 'поселок Стрельна', 'Бокситогорск',\n",
       "       'поселок Александровская', 'деревня Лопухинка', 'Пикалёво',\n",
       "       'поселок Терволово', 'поселок Советский', 'Подпорожье',\n",
       "       'поселок Петровское', 'поселок Токсово', 'поселок Сельцо',\n",
       "       'поселок Вырица', 'деревня Кипень', 'деревня Келози',\n",
       "       'деревня Вартемяги', 'поселок Тельмана', 'поселок Севастьяново',\n",
       "       'поселок Большая Ижора', nan, 'поселок Павлово',\n",
       "       'деревня Агалатово', 'поселок Новогорелово', 'поселок Лесогорский',\n",
       "       'деревня Лаголово', 'поселок Цвелодубово', 'поселок Рахья',\n",
       "       'деревня Белогорка', 'поселок Заводской', 'поселок Новоселье',\n",
       "       'деревня Большие Колпаны', 'деревня Горбунки', 'деревня Батово',\n",
       "       'деревня Заневка', 'деревня Иссад', 'Приморск',\n",
       "       'поселок Фёдоровское', 'деревня Мистолово', 'Новая Ладога',\n",
       "       'поселок Зимитицы', 'поселок Барышево', 'деревня Разметелево',\n",
       "       'поселок имени Свердлова', 'деревня Пеники', 'поселок Рябово',\n",
       "       'деревня Пудомяги', 'поселок станции Корнево', 'деревня Низино',\n",
       "       'деревня Бегуницы', 'поселок Поляны', 'поселок Мга',\n",
       "       'поселок Елизаветино', 'поселок Кузнечное', 'деревня Колтуши',\n",
       "       'поселок Запорожское', 'деревня Гостилицы',\n",
       "       'деревня Малое Карлино', 'поселок Мичуринское',\n",
       "       'поселок имени Морозова', 'поселок Песочный', 'поселок Сосново',\n",
       "       'деревня Аро', 'поселок Ильичёво', 'поселок Тайцы',\n",
       "       'деревня Малое Верево', 'деревня Извара', 'поселок станции Вещево',\n",
       "       'село Паша', 'деревня Калитино', 'поселок Ульяновка',\n",
       "       'деревня Чудской Бор', 'поселок Дубровка', 'деревня Мины',\n",
       "       'поселок Войсковицы', 'деревня Коркино', 'поселок Ропша',\n",
       "       'поселок Приладожский', 'поселок Щеглово', 'поселок Гаврилово',\n",
       "       'Лодейное Поле', 'деревня Рабитицы', 'поселок Никольский',\n",
       "       'деревня Кузьмолово', 'деревня Малые Колпаны',\n",
       "       'поселок Петро-Славянка', 'поселок Назия', 'поселок Репино',\n",
       "       'поселок Углово', 'поселок Старая Малукса',\n",
       "       'садовое товарищество Рахья', 'деревня Меньково',\n",
       "       'деревня Старые Бегуницы', 'поселок Сапёрный', 'поселок Семрино',\n",
       "       'поселок Глажево', 'поселок Кобринское', 'деревня Гарболово',\n",
       "       'деревня Юкки', 'поселок станции Приветнинское',\n",
       "       'деревня Мануйлово', 'деревня Пчева', 'поселок Цвылёво',\n",
       "       'поселок Мельниково', 'поселок Пудость', 'поселок Усть-Луга',\n",
       "       'Светогорск', 'Любань', 'поселок Селезнёво', 'Каменногорск',\n",
       "       'деревня Кривко', 'поселок Глебычево', 'деревня Парицы',\n",
       "       'поселок Жилпоселок', 'поселок Войскорово', 'село Никольское',\n",
       "       'поселок Стеклянный', 'поселок Важины', 'поселок Мыза-Ивановка',\n",
       "       'село Русско-Высоцкое', 'поселок Форносово', 'село Старая Ладога',\n",
       "       'поселок Житково', 'поселок Виллози', 'деревня Лампово',\n",
       "       'деревня Шпаньково', 'деревня Лаврики', 'поселок Сумино',\n",
       "       'поселок Возрождение', 'деревня Старосиверская',\n",
       "       'поселок Кикерино', 'деревня Старое Хинколово',\n",
       "       'поселок Пригородный', 'поселок Торфяное', 'поселок Будогощь',\n",
       "       'поселок Суходолье', 'поселок Красная Долина', 'деревня Хапо-Ое',\n",
       "       'поселок Дружная Горка', 'поселок Лисий Нос', 'деревня Яльгелево',\n",
       "       'село Рождествено', 'деревня Старополье', 'поселок Левашово',\n",
       "       'деревня Сяськелево', 'деревня Камышовка',\n",
       "       'садоводческое некоммерческое товарищество Лесная Поляна',\n",
       "       'деревня Хязельки', 'поселок Жилгородок', 'деревня Ялгино',\n",
       "       'поселок Новый Учхоз', 'поселок Гончарово', 'поселок Почап',\n",
       "       'поселок Сапёрное', 'поселок Платформа 69-й километр',\n",
       "       'поселок Каложицы', 'деревня Фалилеево', 'деревня Пельгора',\n",
       "       'деревня Торошковичи', 'поселок Белоостров', 'поселок Алексеевка',\n",
       "       'поселок Серебрянский', 'поселок Лукаши', 'деревня Щеглово',\n",
       "       'деревня Тарасово', 'поселок Кингисеппский',\n",
       "       'поселок при железнодорожной станции Вещево', 'поселок Ушаки',\n",
       "       'деревня Котлы', 'деревня Сижно', 'деревня Торосово',\n",
       "       'поселок Форт Красная Горка', 'деревня Новолисино',\n",
       "       'поселок станции Громово', 'деревня Глинка',\n",
       "       'деревня Старая Пустошь', 'поселок Коммунары', 'поселок Починок',\n",
       "       'поселок Вознесенье', 'деревня Разбегаево', 'поселок Гладкое',\n",
       "       'поселок при железнодорожной станции Приветнинское',\n",
       "       'поселок Тёсово-4', 'деревня Бор', 'поселок Коробицыно',\n",
       "       'деревня Большая Вруда', 'деревня Курковицы', 'поселок Кобралово',\n",
       "       'деревня Суоранда', 'поселок Кондратьево',\n",
       "       'коттеджный поселок Счастье', 'поселок Любань', 'деревня Реброво',\n",
       "       'деревня Зимитицы', 'деревня Тойворово', 'поселок Семиозерье',\n",
       "       'поселок Лесное', 'поселок Совхозный', 'поселок Ленинское',\n",
       "       'поселок Суйда', 'деревня Нижние Осельки', 'поселок станции Свирь',\n",
       "       'поселок Перово', 'Высоцк', 'поселок Гарболово', 'село Шум',\n",
       "       'поселок Котельский', 'поселок станции Лужайка',\n",
       "       'деревня Большая Пустомержа', 'поселок Красносельское',\n",
       "       'деревня Вахнова Кара', 'деревня Пижма',\n",
       "       'коттеджный поселок Кивеннапа Север', 'поселок Ромашки',\n",
       "       'деревня Каськово', 'деревня Куровицы', 'поселок Плоское',\n",
       "       'поселок Кирпичное', 'деревня Ям-Тесово', 'деревня Раздолье',\n",
       "       'деревня Терпилицы', 'поселок Шугозеро', 'деревня Ваганово',\n",
       "       'поселок Пушное', 'садовое товарищество Садко',\n",
       "       'поселок Усть-Ижора', 'деревня Выскатка', 'поселок Свирьстрой',\n",
       "       'поселок Громово', 'деревня Кисельня', 'деревня Трубников Бор',\n",
       "       'поселок Калитино', 'поселок Высокоключевой',\n",
       "       'садовое товарищество Приладожский',\n",
       "       'поселок Пансионат Зелёный Бор', 'деревня Ненимяки',\n",
       "       'деревня Снегирёвка', 'деревня Рапполово', 'деревня Пустынка',\n",
       "       'поселок Рабитицы', 'деревня Большой Сабск', 'деревня Русско',\n",
       "       'деревня Лупполово', 'деревня Большое Рейзино',\n",
       "       'деревня Малая Романовка', 'поселок Дружноселье', 'поселок Пчевжа',\n",
       "       'поселок Володарское', 'деревня Нижняя',\n",
       "       'коттеджный поселок Лесное', 'деревня Тихковицы',\n",
       "       'деревня Борисова Грива', 'поселок Дзержинского'], dtype=object)"
      ]
     },
     "execution_count": 8,
     "metadata": {},
     "output_type": "execute_result"
    }
   ],
   "source": [
    "duplicates = ['городской поселок','городской посёлок', 'поселок городского типа','посёлок городского типа','посёлок']\n",
    "name = 'поселок'\n",
    "data['locality_name'] = data['locality_name'].replace(duplicates,name, regex = True)\n",
    "data['locality_name'].unique()"
   ]
  },
  {
   "cell_type": "code",
   "execution_count": 9,
   "metadata": {},
   "outputs": [
    {
     "data": {
      "text/plain": [
       "array([2.7 , 2.65, 3.03, 2.5 , 2.67, 2.56, 3.05, 2.75, 2.6 , 2.9 , 2.8 ,\n",
       "       2.55, 3.  , 3.2 , 2.61, 3.25, 3.45, 2.77, 2.85, 2.64, 2.57, 4.15,\n",
       "       3.5 , 3.3 , 2.71, 4.  , 2.47, 2.73, 2.84, 3.1 , 2.34, 3.4 , 3.06,\n",
       "       2.72, 2.54, 2.51, 2.78, 2.76, 2.58, 3.7 , 2.52, 5.2 , 2.87, 2.66,\n",
       "       2.59, 2.  , 2.45, 3.6 , 2.92, 3.11, 3.13, 3.8 , 3.15, 3.55, 3.16,\n",
       "       3.62, 3.12, 2.53, 2.74, 2.96, 2.46, 5.3 , 5.  , 2.79, 2.95, 4.06,\n",
       "       2.94, 3.82, 3.54, 3.53, 2.83, 4.7 , 2.4 , 3.38, 3.01, 5.6 , 3.65,\n",
       "       3.9 , 3.18, 3.35, 2.3 , 3.57, 2.48, 2.62, 2.82, 3.98, 2.63, 3.83,\n",
       "       3.52, 3.95, 3.75, 2.88, 3.67, 3.87, 3.66, 3.85, 3.86, 4.19, 3.24,\n",
       "       4.8 , 4.5 , 4.2 , 3.36, 3.08, 3.68, 3.07, 3.37, 3.09, 3.26, 3.34,\n",
       "       2.81, 3.44, 2.97, 3.14, 4.37, 2.68, 3.22, 3.27, 4.1 , 2.93, 3.46,\n",
       "       3.47, 3.33, 3.63, 3.32, 2.98, 2.86, 3.17, 4.4 , 3.28, 3.04, 4.45,\n",
       "       5.5 , 3.84, 3.23, 3.02, 3.21, 3.43, 3.78, 4.3 , 3.39, 2.69, 3.31,\n",
       "       4.65, 3.56, 2.2 , 3.51, 3.93, 3.42, 2.99, 3.49, 4.14, 2.91, 3.88,\n",
       "       4.25, 3.29, 2.25, 3.76, 3.69, 6.  , 2.89, 3.58, 5.8 , 2.49, 4.9 ,\n",
       "       3.48, 3.59])"
      ]
     },
     "execution_count": 9,
     "metadata": {},
     "output_type": "execute_result"
    }
   ],
   "source": [
    "data = data[(data['ceiling_height'] >= 2) & (data['ceiling_height'] <= 6)]\n",
    "data['ceiling_height'].unique()"
   ]
  },
  {
   "cell_type": "markdown",
   "metadata": {},
   "source": [
    "В России в квартирах редко можно встретить потолки ниже 2 метров, а также в элитных домах потолки не часто встречаются больше 6 метров."
   ]
  },
  {
   "cell_type": "code",
   "execution_count": 10,
   "metadata": {},
   "outputs": [
    {
     "data": {
      "text/html": [
       "<div>\n",
       "<style scoped>\n",
       "    .dataframe tbody tr th:only-of-type {\n",
       "        vertical-align: middle;\n",
       "    }\n",
       "\n",
       "    .dataframe tbody tr th {\n",
       "        vertical-align: top;\n",
       "    }\n",
       "\n",
       "    .dataframe thead th {\n",
       "        text-align: right;\n",
       "    }\n",
       "</style>\n",
       "<table border=\"1\" class=\"dataframe\">\n",
       "  <thead>\n",
       "    <tr style=\"text-align: right;\">\n",
       "      <th></th>\n",
       "      <th>total_images</th>\n",
       "      <th>last_price</th>\n",
       "      <th>total_area</th>\n",
       "      <th>rooms</th>\n",
       "      <th>ceiling_height</th>\n",
       "      <th>floors_total</th>\n",
       "      <th>living_area</th>\n",
       "      <th>floor</th>\n",
       "      <th>kitchen_area</th>\n",
       "      <th>balcony</th>\n",
       "      <th>airports_nearest</th>\n",
       "      <th>cityCenters_nearest</th>\n",
       "      <th>parks_around3000</th>\n",
       "      <th>parks_nearest</th>\n",
       "      <th>ponds_around3000</th>\n",
       "      <th>ponds_nearest</th>\n",
       "      <th>days_exposition</th>\n",
       "    </tr>\n",
       "  </thead>\n",
       "  <tbody>\n",
       "    <tr>\n",
       "      <th>count</th>\n",
       "      <td>23667.000000</td>\n",
       "      <td>2.366700e+04</td>\n",
       "      <td>23667.000000</td>\n",
       "      <td>23667.000000</td>\n",
       "      <td>23667.000000</td>\n",
       "      <td>23581.000000</td>\n",
       "      <td>21764.000000</td>\n",
       "      <td>23667.000000</td>\n",
       "      <td>21395.000000</td>\n",
       "      <td>23667.000000</td>\n",
       "      <td>18136.000000</td>\n",
       "      <td>18159.000000</td>\n",
       "      <td>18160.000000</td>\n",
       "      <td>8069.000000</td>\n",
       "      <td>18160.000000</td>\n",
       "      <td>9099.000000</td>\n",
       "      <td>20492.000000</td>\n",
       "    </tr>\n",
       "    <tr>\n",
       "      <th>mean</th>\n",
       "      <td>9.858875</td>\n",
       "      <td>6.543948e+06</td>\n",
       "      <td>60.359914</td>\n",
       "      <td>2.070943</td>\n",
       "      <td>2.696959</td>\n",
       "      <td>10.674144</td>\n",
       "      <td>34.462918</td>\n",
       "      <td>5.892804</td>\n",
       "      <td>10.571816</td>\n",
       "      <td>0.590020</td>\n",
       "      <td>28795.569365</td>\n",
       "      <td>14190.985186</td>\n",
       "      <td>0.611344</td>\n",
       "      <td>490.797744</td>\n",
       "      <td>0.769824</td>\n",
       "      <td>518.224200</td>\n",
       "      <td>180.916065</td>\n",
       "    </tr>\n",
       "    <tr>\n",
       "      <th>std</th>\n",
       "      <td>5.680278</td>\n",
       "      <td>1.089373e+07</td>\n",
       "      <td>35.670425</td>\n",
       "      <td>1.078666</td>\n",
       "      <td>0.221129</td>\n",
       "      <td>6.593260</td>\n",
       "      <td>22.040401</td>\n",
       "      <td>4.884853</td>\n",
       "      <td>5.908080</td>\n",
       "      <td>0.957893</td>\n",
       "      <td>12630.161191</td>\n",
       "      <td>8606.952784</td>\n",
       "      <td>0.802032</td>\n",
       "      <td>342.444440</td>\n",
       "      <td>0.937847</td>\n",
       "      <td>277.704541</td>\n",
       "      <td>219.788950</td>\n",
       "    </tr>\n",
       "    <tr>\n",
       "      <th>min</th>\n",
       "      <td>0.000000</td>\n",
       "      <td>1.219000e+04</td>\n",
       "      <td>12.000000</td>\n",
       "      <td>0.000000</td>\n",
       "      <td>2.000000</td>\n",
       "      <td>1.000000</td>\n",
       "      <td>2.000000</td>\n",
       "      <td>1.000000</td>\n",
       "      <td>1.300000</td>\n",
       "      <td>0.000000</td>\n",
       "      <td>0.000000</td>\n",
       "      <td>181.000000</td>\n",
       "      <td>0.000000</td>\n",
       "      <td>1.000000</td>\n",
       "      <td>0.000000</td>\n",
       "      <td>13.000000</td>\n",
       "      <td>1.000000</td>\n",
       "    </tr>\n",
       "    <tr>\n",
       "      <th>25%</th>\n",
       "      <td>6.000000</td>\n",
       "      <td>3.400000e+06</td>\n",
       "      <td>40.000000</td>\n",
       "      <td>1.000000</td>\n",
       "      <td>2.600000</td>\n",
       "      <td>5.000000</td>\n",
       "      <td>18.600000</td>\n",
       "      <td>2.000000</td>\n",
       "      <td>7.000000</td>\n",
       "      <td>0.000000</td>\n",
       "      <td>18584.250000</td>\n",
       "      <td>9238.000000</td>\n",
       "      <td>0.000000</td>\n",
       "      <td>288.000000</td>\n",
       "      <td>0.000000</td>\n",
       "      <td>294.000000</td>\n",
       "      <td>45.000000</td>\n",
       "    </tr>\n",
       "    <tr>\n",
       "      <th>50%</th>\n",
       "      <td>9.000000</td>\n",
       "      <td>4.650000e+06</td>\n",
       "      <td>52.000000</td>\n",
       "      <td>2.000000</td>\n",
       "      <td>2.650000</td>\n",
       "      <td>9.000000</td>\n",
       "      <td>30.000000</td>\n",
       "      <td>4.000000</td>\n",
       "      <td>9.100000</td>\n",
       "      <td>0.000000</td>\n",
       "      <td>26726.000000</td>\n",
       "      <td>13099.000000</td>\n",
       "      <td>0.000000</td>\n",
       "      <td>455.000000</td>\n",
       "      <td>1.000000</td>\n",
       "      <td>503.000000</td>\n",
       "      <td>95.000000</td>\n",
       "    </tr>\n",
       "    <tr>\n",
       "      <th>75%</th>\n",
       "      <td>14.000000</td>\n",
       "      <td>6.800000e+06</td>\n",
       "      <td>69.900000</td>\n",
       "      <td>3.000000</td>\n",
       "      <td>2.700000</td>\n",
       "      <td>16.000000</td>\n",
       "      <td>42.300000</td>\n",
       "      <td>8.000000</td>\n",
       "      <td>12.000000</td>\n",
       "      <td>1.000000</td>\n",
       "      <td>37278.750000</td>\n",
       "      <td>16293.000000</td>\n",
       "      <td>1.000000</td>\n",
       "      <td>612.000000</td>\n",
       "      <td>1.000000</td>\n",
       "      <td>730.000000</td>\n",
       "      <td>232.000000</td>\n",
       "    </tr>\n",
       "    <tr>\n",
       "      <th>max</th>\n",
       "      <td>50.000000</td>\n",
       "      <td>7.630000e+08</td>\n",
       "      <td>900.000000</td>\n",
       "      <td>19.000000</td>\n",
       "      <td>6.000000</td>\n",
       "      <td>60.000000</td>\n",
       "      <td>409.700000</td>\n",
       "      <td>33.000000</td>\n",
       "      <td>112.000000</td>\n",
       "      <td>5.000000</td>\n",
       "      <td>84869.000000</td>\n",
       "      <td>65968.000000</td>\n",
       "      <td>3.000000</td>\n",
       "      <td>3190.000000</td>\n",
       "      <td>3.000000</td>\n",
       "      <td>1344.000000</td>\n",
       "      <td>1580.000000</td>\n",
       "    </tr>\n",
       "  </tbody>\n",
       "</table>\n",
       "</div>"
      ],
      "text/plain": [
       "       total_images    last_price    total_area         rooms  ceiling_height  \\\n",
       "count  23667.000000  2.366700e+04  23667.000000  23667.000000    23667.000000   \n",
       "mean       9.858875  6.543948e+06     60.359914      2.070943        2.696959   \n",
       "std        5.680278  1.089373e+07     35.670425      1.078666        0.221129   \n",
       "min        0.000000  1.219000e+04     12.000000      0.000000        2.000000   \n",
       "25%        6.000000  3.400000e+06     40.000000      1.000000        2.600000   \n",
       "50%        9.000000  4.650000e+06     52.000000      2.000000        2.650000   \n",
       "75%       14.000000  6.800000e+06     69.900000      3.000000        2.700000   \n",
       "max       50.000000  7.630000e+08    900.000000     19.000000        6.000000   \n",
       "\n",
       "       floors_total   living_area         floor  kitchen_area       balcony  \\\n",
       "count  23581.000000  21764.000000  23667.000000  21395.000000  23667.000000   \n",
       "mean      10.674144     34.462918      5.892804     10.571816      0.590020   \n",
       "std        6.593260     22.040401      4.884853      5.908080      0.957893   \n",
       "min        1.000000      2.000000      1.000000      1.300000      0.000000   \n",
       "25%        5.000000     18.600000      2.000000      7.000000      0.000000   \n",
       "50%        9.000000     30.000000      4.000000      9.100000      0.000000   \n",
       "75%       16.000000     42.300000      8.000000     12.000000      1.000000   \n",
       "max       60.000000    409.700000     33.000000    112.000000      5.000000   \n",
       "\n",
       "       airports_nearest  cityCenters_nearest  parks_around3000  parks_nearest  \\\n",
       "count      18136.000000         18159.000000      18160.000000    8069.000000   \n",
       "mean       28795.569365         14190.985186          0.611344     490.797744   \n",
       "std        12630.161191          8606.952784          0.802032     342.444440   \n",
       "min            0.000000           181.000000          0.000000       1.000000   \n",
       "25%        18584.250000          9238.000000          0.000000     288.000000   \n",
       "50%        26726.000000         13099.000000          0.000000     455.000000   \n",
       "75%        37278.750000         16293.000000          1.000000     612.000000   \n",
       "max        84869.000000         65968.000000          3.000000    3190.000000   \n",
       "\n",
       "       ponds_around3000  ponds_nearest  days_exposition  \n",
       "count      18160.000000    9099.000000     20492.000000  \n",
       "mean           0.769824     518.224200       180.916065  \n",
       "std            0.937847     277.704541       219.788950  \n",
       "min            0.000000      13.000000         1.000000  \n",
       "25%            0.000000     294.000000        45.000000  \n",
       "50%            1.000000     503.000000        95.000000  \n",
       "75%            1.000000     730.000000       232.000000  \n",
       "max            3.000000    1344.000000      1580.000000  "
      ]
     },
     "execution_count": 10,
     "metadata": {},
     "output_type": "execute_result"
    }
   ],
   "source": [
    "data.describe()"
   ]
  },
  {
   "cell_type": "code",
   "execution_count": 11,
   "metadata": {},
   "outputs": [],
   "source": [
    "data = data[(data['rooms'] >= 1)] # квартир с 0 комнат быть не может.\n",
    "# в столбце airports_nearest миниальное значение 0, возможно это квартиры, которые расположены вблизи около аэропорта.\n",
    "# несмотря на некоторые выдающиеся минимальные и максимальные значения они могут быть реальными."
   ]
  },
  {
   "cell_type": "markdown",
   "metadata": {},
   "source": [
    "В исходных данных были найдены дубликаты, пропуски и артефакты, которые были успешно обработаны для нашего исследования, большая часть пропусков была оставлена из-за не возможности их заполнения. Входе исследования были изучены все параметры на наличие выдающихся значений, были определены максимальные и минимальные значения для нескольких показателей."
   ]
  },
  {
   "cell_type": "markdown",
   "metadata": {},
   "source": [
    "### Посчитайте и добавьте в таблицу новые столбцы"
   ]
  },
  {
   "cell_type": "code",
   "execution_count": 12,
   "metadata": {},
   "outputs": [
    {
     "data": {
      "text/html": [
       "<div>\n",
       "<style scoped>\n",
       "    .dataframe tbody tr th:only-of-type {\n",
       "        vertical-align: middle;\n",
       "    }\n",
       "\n",
       "    .dataframe tbody tr th {\n",
       "        vertical-align: top;\n",
       "    }\n",
       "\n",
       "    .dataframe thead th {\n",
       "        text-align: right;\n",
       "    }\n",
       "</style>\n",
       "<table border=\"1\" class=\"dataframe\">\n",
       "  <thead>\n",
       "    <tr style=\"text-align: right;\">\n",
       "      <th></th>\n",
       "      <th>total_images</th>\n",
       "      <th>last_price</th>\n",
       "      <th>total_area</th>\n",
       "      <th>first_day_exposition</th>\n",
       "      <th>rooms</th>\n",
       "      <th>ceiling_height</th>\n",
       "      <th>floors_total</th>\n",
       "      <th>living_area</th>\n",
       "      <th>floor</th>\n",
       "      <th>is_apartment</th>\n",
       "      <th>...</th>\n",
       "      <th>parks_nearest</th>\n",
       "      <th>ponds_around3000</th>\n",
       "      <th>ponds_nearest</th>\n",
       "      <th>days_exposition</th>\n",
       "      <th>price_per_m2</th>\n",
       "      <th>day</th>\n",
       "      <th>month</th>\n",
       "      <th>year</th>\n",
       "      <th>floor_type</th>\n",
       "      <th>cityCenters_nearest_km</th>\n",
       "    </tr>\n",
       "  </thead>\n",
       "  <tbody>\n",
       "    <tr>\n",
       "      <th>0</th>\n",
       "      <td>20</td>\n",
       "      <td>13000000.0</td>\n",
       "      <td>108.00</td>\n",
       "      <td>2019-03-07</td>\n",
       "      <td>3</td>\n",
       "      <td>2.70</td>\n",
       "      <td>16.0</td>\n",
       "      <td>51.00</td>\n",
       "      <td>8</td>\n",
       "      <td>NaN</td>\n",
       "      <td>...</td>\n",
       "      <td>482.0</td>\n",
       "      <td>2.0</td>\n",
       "      <td>755.0</td>\n",
       "      <td>NaN</td>\n",
       "      <td>120370.37</td>\n",
       "      <td>3</td>\n",
       "      <td>3</td>\n",
       "      <td>2019</td>\n",
       "      <td>другой</td>\n",
       "      <td>16.0</td>\n",
       "    </tr>\n",
       "    <tr>\n",
       "      <th>1</th>\n",
       "      <td>7</td>\n",
       "      <td>3350000.0</td>\n",
       "      <td>40.40</td>\n",
       "      <td>2018-12-04</td>\n",
       "      <td>1</td>\n",
       "      <td>2.65</td>\n",
       "      <td>11.0</td>\n",
       "      <td>18.60</td>\n",
       "      <td>1</td>\n",
       "      <td>NaN</td>\n",
       "      <td>...</td>\n",
       "      <td>NaN</td>\n",
       "      <td>0.0</td>\n",
       "      <td>NaN</td>\n",
       "      <td>81.0</td>\n",
       "      <td>82920.79</td>\n",
       "      <td>1</td>\n",
       "      <td>12</td>\n",
       "      <td>2018</td>\n",
       "      <td>первый</td>\n",
       "      <td>19.0</td>\n",
       "    </tr>\n",
       "    <tr>\n",
       "      <th>2</th>\n",
       "      <td>10</td>\n",
       "      <td>5196000.0</td>\n",
       "      <td>56.00</td>\n",
       "      <td>2015-08-20</td>\n",
       "      <td>2</td>\n",
       "      <td>2.65</td>\n",
       "      <td>5.0</td>\n",
       "      <td>34.30</td>\n",
       "      <td>4</td>\n",
       "      <td>NaN</td>\n",
       "      <td>...</td>\n",
       "      <td>90.0</td>\n",
       "      <td>2.0</td>\n",
       "      <td>574.0</td>\n",
       "      <td>558.0</td>\n",
       "      <td>92785.71</td>\n",
       "      <td>3</td>\n",
       "      <td>8</td>\n",
       "      <td>2015</td>\n",
       "      <td>другой</td>\n",
       "      <td>14.0</td>\n",
       "    </tr>\n",
       "    <tr>\n",
       "      <th>3</th>\n",
       "      <td>0</td>\n",
       "      <td>64900000.0</td>\n",
       "      <td>159.00</td>\n",
       "      <td>2015-07-24</td>\n",
       "      <td>3</td>\n",
       "      <td>2.65</td>\n",
       "      <td>14.0</td>\n",
       "      <td>NaN</td>\n",
       "      <td>9</td>\n",
       "      <td>NaN</td>\n",
       "      <td>...</td>\n",
       "      <td>84.0</td>\n",
       "      <td>3.0</td>\n",
       "      <td>234.0</td>\n",
       "      <td>424.0</td>\n",
       "      <td>408176.10</td>\n",
       "      <td>4</td>\n",
       "      <td>7</td>\n",
       "      <td>2015</td>\n",
       "      <td>другой</td>\n",
       "      <td>7.0</td>\n",
       "    </tr>\n",
       "    <tr>\n",
       "      <th>4</th>\n",
       "      <td>2</td>\n",
       "      <td>10000000.0</td>\n",
       "      <td>100.00</td>\n",
       "      <td>2018-06-19</td>\n",
       "      <td>2</td>\n",
       "      <td>3.03</td>\n",
       "      <td>14.0</td>\n",
       "      <td>32.00</td>\n",
       "      <td>13</td>\n",
       "      <td>NaN</td>\n",
       "      <td>...</td>\n",
       "      <td>112.0</td>\n",
       "      <td>1.0</td>\n",
       "      <td>48.0</td>\n",
       "      <td>121.0</td>\n",
       "      <td>100000.00</td>\n",
       "      <td>1</td>\n",
       "      <td>6</td>\n",
       "      <td>2018</td>\n",
       "      <td>другой</td>\n",
       "      <td>8.0</td>\n",
       "    </tr>\n",
       "    <tr>\n",
       "      <th>5</th>\n",
       "      <td>10</td>\n",
       "      <td>2890000.0</td>\n",
       "      <td>30.40</td>\n",
       "      <td>2018-09-10</td>\n",
       "      <td>1</td>\n",
       "      <td>2.65</td>\n",
       "      <td>12.0</td>\n",
       "      <td>14.40</td>\n",
       "      <td>5</td>\n",
       "      <td>NaN</td>\n",
       "      <td>...</td>\n",
       "      <td>NaN</td>\n",
       "      <td>NaN</td>\n",
       "      <td>NaN</td>\n",
       "      <td>55.0</td>\n",
       "      <td>95065.79</td>\n",
       "      <td>0</td>\n",
       "      <td>9</td>\n",
       "      <td>2018</td>\n",
       "      <td>другой</td>\n",
       "      <td>NaN</td>\n",
       "    </tr>\n",
       "    <tr>\n",
       "      <th>6</th>\n",
       "      <td>6</td>\n",
       "      <td>3700000.0</td>\n",
       "      <td>37.30</td>\n",
       "      <td>2017-11-02</td>\n",
       "      <td>1</td>\n",
       "      <td>2.65</td>\n",
       "      <td>26.0</td>\n",
       "      <td>10.60</td>\n",
       "      <td>6</td>\n",
       "      <td>NaN</td>\n",
       "      <td>...</td>\n",
       "      <td>NaN</td>\n",
       "      <td>0.0</td>\n",
       "      <td>NaN</td>\n",
       "      <td>155.0</td>\n",
       "      <td>99195.71</td>\n",
       "      <td>3</td>\n",
       "      <td>11</td>\n",
       "      <td>2017</td>\n",
       "      <td>другой</td>\n",
       "      <td>19.0</td>\n",
       "    </tr>\n",
       "    <tr>\n",
       "      <th>7</th>\n",
       "      <td>5</td>\n",
       "      <td>7915000.0</td>\n",
       "      <td>71.60</td>\n",
       "      <td>2019-04-18</td>\n",
       "      <td>2</td>\n",
       "      <td>2.65</td>\n",
       "      <td>24.0</td>\n",
       "      <td>NaN</td>\n",
       "      <td>22</td>\n",
       "      <td>NaN</td>\n",
       "      <td>...</td>\n",
       "      <td>NaN</td>\n",
       "      <td>0.0</td>\n",
       "      <td>NaN</td>\n",
       "      <td>NaN</td>\n",
       "      <td>110544.69</td>\n",
       "      <td>3</td>\n",
       "      <td>4</td>\n",
       "      <td>2019</td>\n",
       "      <td>другой</td>\n",
       "      <td>12.0</td>\n",
       "    </tr>\n",
       "    <tr>\n",
       "      <th>8</th>\n",
       "      <td>20</td>\n",
       "      <td>2900000.0</td>\n",
       "      <td>33.16</td>\n",
       "      <td>2018-05-23</td>\n",
       "      <td>1</td>\n",
       "      <td>2.65</td>\n",
       "      <td>27.0</td>\n",
       "      <td>15.43</td>\n",
       "      <td>26</td>\n",
       "      <td>NaN</td>\n",
       "      <td>...</td>\n",
       "      <td>NaN</td>\n",
       "      <td>NaN</td>\n",
       "      <td>NaN</td>\n",
       "      <td>189.0</td>\n",
       "      <td>87454.76</td>\n",
       "      <td>2</td>\n",
       "      <td>5</td>\n",
       "      <td>2018</td>\n",
       "      <td>другой</td>\n",
       "      <td>NaN</td>\n",
       "    </tr>\n",
       "    <tr>\n",
       "      <th>9</th>\n",
       "      <td>18</td>\n",
       "      <td>5400000.0</td>\n",
       "      <td>61.00</td>\n",
       "      <td>2017-02-26</td>\n",
       "      <td>3</td>\n",
       "      <td>2.50</td>\n",
       "      <td>9.0</td>\n",
       "      <td>43.60</td>\n",
       "      <td>7</td>\n",
       "      <td>NaN</td>\n",
       "      <td>...</td>\n",
       "      <td>NaN</td>\n",
       "      <td>0.0</td>\n",
       "      <td>NaN</td>\n",
       "      <td>289.0</td>\n",
       "      <td>88524.59</td>\n",
       "      <td>6</td>\n",
       "      <td>2</td>\n",
       "      <td>2017</td>\n",
       "      <td>другой</td>\n",
       "      <td>15.0</td>\n",
       "    </tr>\n",
       "    <tr>\n",
       "      <th>10</th>\n",
       "      <td>5</td>\n",
       "      <td>5050000.0</td>\n",
       "      <td>39.60</td>\n",
       "      <td>2017-11-16</td>\n",
       "      <td>1</td>\n",
       "      <td>2.67</td>\n",
       "      <td>12.0</td>\n",
       "      <td>20.30</td>\n",
       "      <td>3</td>\n",
       "      <td>NaN</td>\n",
       "      <td>...</td>\n",
       "      <td>310.0</td>\n",
       "      <td>2.0</td>\n",
       "      <td>553.0</td>\n",
       "      <td>137.0</td>\n",
       "      <td>127525.25</td>\n",
       "      <td>3</td>\n",
       "      <td>11</td>\n",
       "      <td>2017</td>\n",
       "      <td>другой</td>\n",
       "      <td>14.0</td>\n",
       "    </tr>\n",
       "    <tr>\n",
       "      <th>11</th>\n",
       "      <td>9</td>\n",
       "      <td>3300000.0</td>\n",
       "      <td>44.00</td>\n",
       "      <td>2018-08-27</td>\n",
       "      <td>2</td>\n",
       "      <td>2.65</td>\n",
       "      <td>5.0</td>\n",
       "      <td>31.00</td>\n",
       "      <td>4</td>\n",
       "      <td>False</td>\n",
       "      <td>...</td>\n",
       "      <td>NaN</td>\n",
       "      <td>0.0</td>\n",
       "      <td>NaN</td>\n",
       "      <td>7.0</td>\n",
       "      <td>75000.00</td>\n",
       "      <td>0</td>\n",
       "      <td>8</td>\n",
       "      <td>2018</td>\n",
       "      <td>другой</td>\n",
       "      <td>52.0</td>\n",
       "    </tr>\n",
       "    <tr>\n",
       "      <th>12</th>\n",
       "      <td>10</td>\n",
       "      <td>3890000.0</td>\n",
       "      <td>54.00</td>\n",
       "      <td>2016-06-30</td>\n",
       "      <td>2</td>\n",
       "      <td>2.65</td>\n",
       "      <td>5.0</td>\n",
       "      <td>30.00</td>\n",
       "      <td>5</td>\n",
       "      <td>NaN</td>\n",
       "      <td>...</td>\n",
       "      <td>NaN</td>\n",
       "      <td>NaN</td>\n",
       "      <td>NaN</td>\n",
       "      <td>90.0</td>\n",
       "      <td>72037.04</td>\n",
       "      <td>3</td>\n",
       "      <td>6</td>\n",
       "      <td>2016</td>\n",
       "      <td>последний</td>\n",
       "      <td>NaN</td>\n",
       "    </tr>\n",
       "    <tr>\n",
       "      <th>13</th>\n",
       "      <td>20</td>\n",
       "      <td>3550000.0</td>\n",
       "      <td>42.80</td>\n",
       "      <td>2017-07-01</td>\n",
       "      <td>2</td>\n",
       "      <td>2.56</td>\n",
       "      <td>5.0</td>\n",
       "      <td>27.00</td>\n",
       "      <td>5</td>\n",
       "      <td>NaN</td>\n",
       "      <td>...</td>\n",
       "      <td>294.0</td>\n",
       "      <td>3.0</td>\n",
       "      <td>298.0</td>\n",
       "      <td>366.0</td>\n",
       "      <td>82943.93</td>\n",
       "      <td>5</td>\n",
       "      <td>7</td>\n",
       "      <td>2017</td>\n",
       "      <td>последний</td>\n",
       "      <td>33.0</td>\n",
       "    </tr>\n",
       "    <tr>\n",
       "      <th>14</th>\n",
       "      <td>1</td>\n",
       "      <td>4400000.0</td>\n",
       "      <td>36.00</td>\n",
       "      <td>2016-06-23</td>\n",
       "      <td>1</td>\n",
       "      <td>2.65</td>\n",
       "      <td>6.0</td>\n",
       "      <td>17.00</td>\n",
       "      <td>1</td>\n",
       "      <td>NaN</td>\n",
       "      <td>...</td>\n",
       "      <td>NaN</td>\n",
       "      <td>1.0</td>\n",
       "      <td>96.0</td>\n",
       "      <td>203.0</td>\n",
       "      <td>122222.22</td>\n",
       "      <td>3</td>\n",
       "      <td>6</td>\n",
       "      <td>2016</td>\n",
       "      <td>первый</td>\n",
       "      <td>31.0</td>\n",
       "    </tr>\n",
       "    <tr>\n",
       "      <th>15</th>\n",
       "      <td>16</td>\n",
       "      <td>4650000.0</td>\n",
       "      <td>39.00</td>\n",
       "      <td>2017-11-18</td>\n",
       "      <td>1</td>\n",
       "      <td>2.65</td>\n",
       "      <td>14.0</td>\n",
       "      <td>20.50</td>\n",
       "      <td>5</td>\n",
       "      <td>NaN</td>\n",
       "      <td>...</td>\n",
       "      <td>590.0</td>\n",
       "      <td>1.0</td>\n",
       "      <td>296.0</td>\n",
       "      <td>19.0</td>\n",
       "      <td>119230.77</td>\n",
       "      <td>5</td>\n",
       "      <td>11</td>\n",
       "      <td>2017</td>\n",
       "      <td>другой</td>\n",
       "      <td>14.0</td>\n",
       "    </tr>\n",
       "    <tr>\n",
       "      <th>16</th>\n",
       "      <td>11</td>\n",
       "      <td>6700000.0</td>\n",
       "      <td>82.00</td>\n",
       "      <td>2017-11-23</td>\n",
       "      <td>3</td>\n",
       "      <td>3.05</td>\n",
       "      <td>5.0</td>\n",
       "      <td>55.60</td>\n",
       "      <td>1</td>\n",
       "      <td>NaN</td>\n",
       "      <td>...</td>\n",
       "      <td>420.0</td>\n",
       "      <td>0.0</td>\n",
       "      <td>NaN</td>\n",
       "      <td>397.0</td>\n",
       "      <td>81707.32</td>\n",
       "      <td>3</td>\n",
       "      <td>11</td>\n",
       "      <td>2017</td>\n",
       "      <td>первый</td>\n",
       "      <td>11.0</td>\n",
       "    </tr>\n",
       "    <tr>\n",
       "      <th>17</th>\n",
       "      <td>6</td>\n",
       "      <td>4180000.0</td>\n",
       "      <td>36.00</td>\n",
       "      <td>2016-09-09</td>\n",
       "      <td>1</td>\n",
       "      <td>2.65</td>\n",
       "      <td>17.0</td>\n",
       "      <td>16.50</td>\n",
       "      <td>7</td>\n",
       "      <td>NaN</td>\n",
       "      <td>...</td>\n",
       "      <td>NaN</td>\n",
       "      <td>1.0</td>\n",
       "      <td>859.0</td>\n",
       "      <td>571.0</td>\n",
       "      <td>116111.11</td>\n",
       "      <td>4</td>\n",
       "      <td>9</td>\n",
       "      <td>2016</td>\n",
       "      <td>другой</td>\n",
       "      <td>15.0</td>\n",
       "    </tr>\n",
       "    <tr>\n",
       "      <th>18</th>\n",
       "      <td>8</td>\n",
       "      <td>3250000.0</td>\n",
       "      <td>31.00</td>\n",
       "      <td>2017-01-27</td>\n",
       "      <td>1</td>\n",
       "      <td>2.50</td>\n",
       "      <td>5.0</td>\n",
       "      <td>19.40</td>\n",
       "      <td>2</td>\n",
       "      <td>NaN</td>\n",
       "      <td>...</td>\n",
       "      <td>759.0</td>\n",
       "      <td>0.0</td>\n",
       "      <td>NaN</td>\n",
       "      <td>168.0</td>\n",
       "      <td>104838.71</td>\n",
       "      <td>4</td>\n",
       "      <td>1</td>\n",
       "      <td>2017</td>\n",
       "      <td>другой</td>\n",
       "      <td>11.0</td>\n",
       "    </tr>\n",
       "    <tr>\n",
       "      <th>19</th>\n",
       "      <td>16</td>\n",
       "      <td>14200000.0</td>\n",
       "      <td>121.00</td>\n",
       "      <td>2019-01-09</td>\n",
       "      <td>3</td>\n",
       "      <td>2.75</td>\n",
       "      <td>16.0</td>\n",
       "      <td>76.00</td>\n",
       "      <td>8</td>\n",
       "      <td>NaN</td>\n",
       "      <td>...</td>\n",
       "      <td>NaN</td>\n",
       "      <td>0.0</td>\n",
       "      <td>NaN</td>\n",
       "      <td>97.0</td>\n",
       "      <td>117355.37</td>\n",
       "      <td>2</td>\n",
       "      <td>1</td>\n",
       "      <td>2019</td>\n",
       "      <td>другой</td>\n",
       "      <td>13.0</td>\n",
       "    </tr>\n",
       "  </tbody>\n",
       "</table>\n",
       "<p>20 rows × 28 columns</p>\n",
       "</div>"
      ],
      "text/plain": [
       "    total_images  last_price  total_area first_day_exposition  rooms  \\\n",
       "0             20  13000000.0      108.00           2019-03-07      3   \n",
       "1              7   3350000.0       40.40           2018-12-04      1   \n",
       "2             10   5196000.0       56.00           2015-08-20      2   \n",
       "3              0  64900000.0      159.00           2015-07-24      3   \n",
       "4              2  10000000.0      100.00           2018-06-19      2   \n",
       "5             10   2890000.0       30.40           2018-09-10      1   \n",
       "6              6   3700000.0       37.30           2017-11-02      1   \n",
       "7              5   7915000.0       71.60           2019-04-18      2   \n",
       "8             20   2900000.0       33.16           2018-05-23      1   \n",
       "9             18   5400000.0       61.00           2017-02-26      3   \n",
       "10             5   5050000.0       39.60           2017-11-16      1   \n",
       "11             9   3300000.0       44.00           2018-08-27      2   \n",
       "12            10   3890000.0       54.00           2016-06-30      2   \n",
       "13            20   3550000.0       42.80           2017-07-01      2   \n",
       "14             1   4400000.0       36.00           2016-06-23      1   \n",
       "15            16   4650000.0       39.00           2017-11-18      1   \n",
       "16            11   6700000.0       82.00           2017-11-23      3   \n",
       "17             6   4180000.0       36.00           2016-09-09      1   \n",
       "18             8   3250000.0       31.00           2017-01-27      1   \n",
       "19            16  14200000.0      121.00           2019-01-09      3   \n",
       "\n",
       "    ceiling_height  floors_total  living_area  floor is_apartment  ...  \\\n",
       "0             2.70          16.0        51.00      8          NaN  ...   \n",
       "1             2.65          11.0        18.60      1          NaN  ...   \n",
       "2             2.65           5.0        34.30      4          NaN  ...   \n",
       "3             2.65          14.0          NaN      9          NaN  ...   \n",
       "4             3.03          14.0        32.00     13          NaN  ...   \n",
       "5             2.65          12.0        14.40      5          NaN  ...   \n",
       "6             2.65          26.0        10.60      6          NaN  ...   \n",
       "7             2.65          24.0          NaN     22          NaN  ...   \n",
       "8             2.65          27.0        15.43     26          NaN  ...   \n",
       "9             2.50           9.0        43.60      7          NaN  ...   \n",
       "10            2.67          12.0        20.30      3          NaN  ...   \n",
       "11            2.65           5.0        31.00      4        False  ...   \n",
       "12            2.65           5.0        30.00      5          NaN  ...   \n",
       "13            2.56           5.0        27.00      5          NaN  ...   \n",
       "14            2.65           6.0        17.00      1          NaN  ...   \n",
       "15            2.65          14.0        20.50      5          NaN  ...   \n",
       "16            3.05           5.0        55.60      1          NaN  ...   \n",
       "17            2.65          17.0        16.50      7          NaN  ...   \n",
       "18            2.50           5.0        19.40      2          NaN  ...   \n",
       "19            2.75          16.0        76.00      8          NaN  ...   \n",
       "\n",
       "    parks_nearest  ponds_around3000  ponds_nearest  days_exposition  \\\n",
       "0           482.0               2.0          755.0              NaN   \n",
       "1             NaN               0.0            NaN             81.0   \n",
       "2            90.0               2.0          574.0            558.0   \n",
       "3            84.0               3.0          234.0            424.0   \n",
       "4           112.0               1.0           48.0            121.0   \n",
       "5             NaN               NaN            NaN             55.0   \n",
       "6             NaN               0.0            NaN            155.0   \n",
       "7             NaN               0.0            NaN              NaN   \n",
       "8             NaN               NaN            NaN            189.0   \n",
       "9             NaN               0.0            NaN            289.0   \n",
       "10          310.0               2.0          553.0            137.0   \n",
       "11            NaN               0.0            NaN              7.0   \n",
       "12            NaN               NaN            NaN             90.0   \n",
       "13          294.0               3.0          298.0            366.0   \n",
       "14            NaN               1.0           96.0            203.0   \n",
       "15          590.0               1.0          296.0             19.0   \n",
       "16          420.0               0.0            NaN            397.0   \n",
       "17            NaN               1.0          859.0            571.0   \n",
       "18          759.0               0.0            NaN            168.0   \n",
       "19            NaN               0.0            NaN             97.0   \n",
       "\n",
       "   price_per_m2  day  month  year  floor_type  cityCenters_nearest_km  \n",
       "0     120370.37    3      3  2019      другой                    16.0  \n",
       "1      82920.79    1     12  2018      первый                    19.0  \n",
       "2      92785.71    3      8  2015      другой                    14.0  \n",
       "3     408176.10    4      7  2015      другой                     7.0  \n",
       "4     100000.00    1      6  2018      другой                     8.0  \n",
       "5      95065.79    0      9  2018      другой                     NaN  \n",
       "6      99195.71    3     11  2017      другой                    19.0  \n",
       "7     110544.69    3      4  2019      другой                    12.0  \n",
       "8      87454.76    2      5  2018      другой                     NaN  \n",
       "9      88524.59    6      2  2017      другой                    15.0  \n",
       "10    127525.25    3     11  2017      другой                    14.0  \n",
       "11     75000.00    0      8  2018      другой                    52.0  \n",
       "12     72037.04    3      6  2016   последний                     NaN  \n",
       "13     82943.93    5      7  2017   последний                    33.0  \n",
       "14    122222.22    3      6  2016      первый                    31.0  \n",
       "15    119230.77    5     11  2017      другой                    14.0  \n",
       "16     81707.32    3     11  2017      первый                    11.0  \n",
       "17    116111.11    4      9  2016      другой                    15.0  \n",
       "18    104838.71    4      1  2017      другой                    11.0  \n",
       "19    117355.37    2      1  2019      другой                    13.0  \n",
       "\n",
       "[20 rows x 28 columns]"
      ]
     },
     "execution_count": 12,
     "metadata": {},
     "output_type": "execute_result"
    }
   ],
   "source": [
    "data['price_per_m2'] = data['last_price'] / data['total_area']\n",
    "data['price_per_m2'] = data['price_per_m2'].round(2)\n",
    "data['day'] = data['first_day_exposition'].dt.weekday\n",
    "data['month'] = data['first_day_exposition'].dt.month\n",
    "data['year'] = data['first_day_exposition'].dt.year\n",
    "def floor_type(row):\n",
    "    floor_type = row['floor']\n",
    "    floor_type_total = row['floors_total']\n",
    "    if floor_type == 1:\n",
    "        return 'первый'\n",
    "    if floor_type == floor_type_total:\n",
    "        return 'последний'\n",
    "    return 'другой' \n",
    "data['floor_type'] = data.apply(floor_type, axis=1)\n",
    "data['cityCenters_nearest_km'] = data['cityCenters_nearest'] / 1000\n",
    "data['cityCenters_nearest_km'] = data['cityCenters_nearest_km'].round()\n",
    "data.head(20)"
   ]
  },
  {
   "cell_type": "markdown",
   "metadata": {},
   "source": [
    "### Проведите исследовательский анализ данных"
   ]
  },
  {
   "cell_type": "code",
   "execution_count": 13,
   "metadata": {},
   "outputs": [
    {
     "data": {
      "text/plain": [
       "Text(0, 0.5, 'Количество квартир')"
      ]
     },
     "execution_count": 13,
     "metadata": {},
     "output_type": "execute_result"
    },
    {
     "data": {
      "image/png": "[encoded data removed]",
      "text/plain": [
       "<Figure size 432x288 with 1 Axes>"
      ]
     },
     "metadata": {
      "needs_background": "light"
     },
     "output_type": "display_data"
    }
   ],
   "source": [
    "ax = data['total_area'].plot(x ='Площадь', y='Количество', kind='hist', bins=20, range=(20,200), title='Общая площадь', grid=True)\n",
    "ax.set_xlabel('Площадь')\n",
    "ax.set_ylabel('Количество квартир')"
   ]
  },
  {
   "cell_type": "markdown",
   "metadata": {},
   "source": [
    "Больше всего квартир имеют площадь от 45 до 50 квадратных метров. На втором месте по количеству идут квартиры от 30 до 45 квадратных метров. И на третьем месте квартиры в районе от 50 до 60 квадратных метров."
   ]
  },
  {
   "cell_type": "code",
   "execution_count": 14,
   "metadata": {},
   "outputs": [
    {
     "data": {
      "text/plain": [
       "Text(0, 0.5, 'Количество квартир')"
      ]
     },
     "execution_count": 14,
     "metadata": {},
     "output_type": "execute_result"
    },
    {
     "data": {
      "image/png": "[encoded data removed]",
      "text/plain": [
       "<Figure size 432x288 with 1 Axes>"
      ]
     },
     "metadata": {
      "needs_background": "light"
     },
     "output_type": "display_data"
    }
   ],
   "source": [
    "ax = data['living_area'].plot(kind='hist', bins=10, range=(10,80), title='Жилая площадь', grid=True)\n",
    "ax.set_xlabel('Площадь')\n",
    "ax.set_ylabel('Количество квартир')"
   ]
  },
  {
   "cell_type": "markdown",
   "metadata": {},
   "source": [
    "Больше всего квартир имеют жилую площадь от 17 до 25 квадратных метров. На втором месте по количеству идут квартиры от 25 до 31 квадратных метров. И на третьем месте квартиры в районе от 31 до 38 квадратных метров."
   ]
  },
  {
   "cell_type": "code",
   "execution_count": 15,
   "metadata": {},
   "outputs": [
    {
     "data": {
      "text/plain": [
       "Text(0, 0.5, 'Количество квартир')"
      ]
     },
     "execution_count": 15,
     "metadata": {},
     "output_type": "execute_result"
    },
    {
     "data": {
      "image/png": "[encoded data removed]",
      "text/plain": [
       "<Figure size 432x288 with 1 Axes>"
      ]
     },
     "metadata": {
      "needs_background": "light"
     },
     "output_type": "display_data"
    }
   ],
   "source": [
    "ax = data['kitchen_area'].plot(kind='hist', bins=5, range=(10,25), title='Площадь кухни', grid=True)\n",
    "ax.set_xlabel('Площадь')\n",
    "ax.set_ylabel('Количество квартир')"
   ]
  },
  {
   "cell_type": "markdown",
   "metadata": {},
   "source": [
    "Больше всего квартир имеют кухонную площадь от 10 до 13 квадратных метров. На втором месте по количеству идут квартиры от 13 до 16 квадратных метров. И на третьем месте квартиры в районе от 16 до 19 квадратных метров."
   ]
  },
  {
   "cell_type": "code",
   "execution_count": 16,
   "metadata": {},
   "outputs": [
    {
     "data": {
      "text/plain": [
       "Text(0, 0.5, 'Количество квартир')"
      ]
     },
     "execution_count": 16,
     "metadata": {},
     "output_type": "execute_result"
    },
    {
     "data": {
      "image/png": "[encoded data removed]",
      "text/plain": [
       "<Figure size 432x288 with 1 Axes>"
      ]
     },
     "metadata": {
      "needs_background": "light"
     },
     "output_type": "display_data"
    }
   ],
   "source": [
    "ax = data['last_price'].plot(kind='hist', bins=10, range=(1900000,15000000), title='Цена на момент снятия с публикации', grid=True)\n",
    "ax.set_xlabel('Цена')\n",
    "ax.set_ylabel('Количество квартир')"
   ]
  },
  {
   "cell_type": "markdown",
   "metadata": {},
   "source": [
    "Больше всего квартир имеют цену от 3,5 до 4,5 миллионов рублей. На втором месте по количеству идут квартиры от 4,5 до 5,5 миллионов рублей. И на третьем месте квартиры в районе от 1,9 до 3,6 миллионов рублей."
   ]
  },
  {
   "cell_type": "code",
   "execution_count": 17,
   "metadata": {},
   "outputs": [
    {
     "data": {
      "text/plain": [
       "Text(0, 0.5, 'Количество квартир')"
      ]
     },
     "execution_count": 17,
     "metadata": {},
     "output_type": "execute_result"
    },
    {
     "data": {
      "image/png": "[encoded data removed]",
      "text/plain": [
       "<Figure size 432x288 with 1 Axes>"
      ]
     },
     "metadata": {
      "needs_background": "light"
     },
     "output_type": "display_data"
    }
   ],
   "source": [
    "ax = data['rooms'].plot(kind='hist', bins=20, range=(1,8), title='Число комнат', grid=True)\n",
    "ax.set_xlabel('Количество комнат')\n",
    "ax.set_ylabel('Количество квартир')"
   ]
  },
  {
   "cell_type": "markdown",
   "metadata": {},
   "source": [
    "Больше всего квартир имеют одну комнату. Немного меньше квартир с двумя комнатами. И на третьем месте трёхкомнатные квартиры."
   ]
  },
  {
   "cell_type": "code",
   "execution_count": 18,
   "metadata": {},
   "outputs": [
    {
     "data": {
      "text/plain": [
       "Text(0, 0.5, 'Количество квартир')"
      ]
     },
     "execution_count": 18,
     "metadata": {},
     "output_type": "execute_result"
    },
    {
     "data": {
      "image/png": "[encoded data removed]",
      "text/plain": [
       "<Figure size 432x288 with 1 Axes>"
      ]
     },
     "metadata": {
      "needs_background": "light"
     },
     "output_type": "display_data"
    }
   ],
   "source": [
    "ax = data['ceiling_height'].plot(kind='hist', bins=10, range=(2,6), title='Высота потолков', grid=True)\n",
    "ax.set_xlabel('Высота потолка')\n",
    "ax.set_ylabel('Количество квартир')"
   ]
  },
  {
   "cell_type": "markdown",
   "metadata": {},
   "source": [
    "Больше всего квартир имеют потолок от 2 до 2,7 метров. На втором месте по количеству идут квартиры с потолками от 2,7 до 3,6 метров."
   ]
  },
  {
   "cell_type": "code",
   "execution_count": 19,
   "metadata": {},
   "outputs": [
    {
     "data": {
      "text/plain": [
       "Text(0, 0.5, 'Количество квартир')"
      ]
     },
     "execution_count": 19,
     "metadata": {},
     "output_type": "execute_result"
    },
    {
     "data": {
      "image/png": "[encoded data removed]",
      "text/plain": [
       "<Figure size 432x288 with 1 Axes>"
      ]
     },
     "metadata": {
      "needs_background": "light"
     },
     "output_type": "display_data"
    }
   ],
   "source": [
    "ax = data['floor'].plot(kind='hist', bins=100, range=(1,30), title='Этаж квартиры', grid=True)\n",
    "ax.set_xlabel('Этаж')\n",
    "ax.set_ylabel('Количество квартир')"
   ]
  },
  {
   "cell_type": "markdown",
   "metadata": {},
   "source": [
    "Больше всего квартир располагаются на втором этаже. Немного меньше квартир расположенных на 3 этаже. После этого идут квартиры расположенные на 1 этаже."
   ]
  },
  {
   "cell_type": "code",
   "execution_count": 20,
   "metadata": {},
   "outputs": [
    {
     "data": {
      "text/plain": [
       "Text(0, 0.5, 'Количество квартир')"
      ]
     },
     "execution_count": 20,
     "metadata": {},
     "output_type": "execute_result"
    },
    {
     "data": {
      "image/png": "[encoded data removed]",
      "text/plain": [
       "<Figure size 432x288 with 1 Axes>"
      ]
     },
     "metadata": {
      "needs_background": "light"
     },
     "output_type": "display_data"
    }
   ],
   "source": [
    "ax = data['floors_total'].plot(kind='hist', bins=20, range=(1,30), title='Всего этажей в доме', grid=True)\n",
    "ax.set_xlabel('Количество этажей')\n",
    "ax.set_ylabel('Количество квартир')"
   ]
  },
  {
   "cell_type": "markdown",
   "metadata": {},
   "source": [
    "Больше всего квартир располагаются в домах с 4 и 5 этажам. После идут квартиры, которые располагаются в домах с 8 и 9 этажам."
   ]
  },
  {
   "cell_type": "code",
   "execution_count": 21,
   "metadata": {},
   "outputs": [
    {
     "data": {
      "text/plain": [
       "Text(0, 0.5, 'Количество квартир')"
      ]
     },
     "execution_count": 21,
     "metadata": {},
     "output_type": "execute_result"
    },
    {
     "data": {
      "image/png": "[encoded data removed]",
      "text/plain": [
       "<Figure size 432x288 with 1 Axes>"
      ]
     },
     "metadata": {
      "needs_background": "light"
     },
     "output_type": "display_data"
    }
   ],
   "source": [
    "ax = data['cityCenters_nearest'].plot(kind='hist', bins=20, range=(2000,20000), title='Расстояние до центра города в метрах', grid=True)\n",
    "ax.set_xlabel('Расстояние')\n",
    "ax.set_ylabel('Количество квартир')"
   ]
  },
  {
   "cell_type": "markdown",
   "metadata": {},
   "source": [
    "Больше всего квартир расположенны в районе 15000 метров от центра города. Чуть меньше квартир, которые расположенны в районе 12000 метров от центра города."
   ]
  },
  {
   "cell_type": "code",
   "execution_count": 22,
   "metadata": {},
   "outputs": [
    {
     "data": {
      "text/plain": [
       "Text(0, 0.5, 'Количество квартир')"
      ]
     },
     "execution_count": 22,
     "metadata": {},
     "output_type": "execute_result"
    },
    {
     "data": {
      "image/png": "[encoded data removed]",
      "text/plain": [
       "<Figure size 432x288 with 1 Axes>"
      ]
     },
     "metadata": {
      "needs_background": "light"
     },
     "output_type": "display_data"
    }
   ],
   "source": [
    "ax = data['airports_nearest'].plot(kind='hist', bins=20, range=(6000,20000), title='Расстояние до ближайшего аэропорта в метрах ', grid=True)\n",
    "ax.set_xlabel('Расстояние')\n",
    "ax.set_ylabel('Количество квартир')"
   ]
  },
  {
   "cell_type": "markdown",
   "metadata": {},
   "source": [
    "Больше всего квартир расположенны в районе 19000 метров от ближайшего аэропорта. Чуть меньше квартир, которые расположенны в районе 14000 метров от ближайшего аэропорта."
   ]
  },
  {
   "cell_type": "code",
   "execution_count": 23,
   "metadata": {},
   "outputs": [
    {
     "data": {
      "text/plain": [
       "Text(0, 0.5, 'Количество квартир')"
      ]
     },
     "execution_count": 23,
     "metadata": {},
     "output_type": "execute_result"
    },
    {
     "data": {
      "image/png": "[encoded data removed]",
      "text/plain": [
       "<Figure size 432x288 with 1 Axes>"
      ]
     },
     "metadata": {
      "needs_background": "light"
     },
     "output_type": "display_data"
    }
   ],
   "source": [
    "ax = data['parks_nearest'].plot(kind='hist', bins=30, range=(50,1000), title='Расстояние до ближайшего парка', grid=True)\n",
    "ax.set_xlabel('Расстояние')\n",
    "ax.set_ylabel('Количество квартир')"
   ]
  },
  {
   "cell_type": "markdown",
   "metadata": {},
   "source": [
    "Большая часть квартир расположена в районе от 450 до 500 метров для ближайшего парка."
   ]
  },
  {
   "cell_type": "code",
   "execution_count": 24,
   "metadata": {},
   "outputs": [
    {
     "data": {
      "text/plain": [
       "Text(0, 0.5, 'Количество квартир')"
      ]
     },
     "execution_count": 24,
     "metadata": {},
     "output_type": "execute_result"
    },
    {
     "data": {
      "image/png": "[encoded data removed]",
      "text/plain": [
       "<Figure size 432x288 with 1 Axes>"
      ]
     },
     "metadata": {
      "needs_background": "light"
     },
     "output_type": "display_data"
    }
   ],
   "source": [
    "ax = data['day'].plot(kind='hist', bins=25, range=(0,6), title='День публикации объявления', grid=True)\n",
    "ax.set_xlabel('День')\n",
    "ax.set_ylabel('Количество квартир')"
   ]
  },
  {
   "cell_type": "markdown",
   "metadata": {},
   "source": [
    "Большая часть квартир продается по будним дням лучше."
   ]
  },
  {
   "cell_type": "code",
   "execution_count": 25,
   "metadata": {},
   "outputs": [
    {
     "data": {
      "text/plain": [
       "Text(0, 0.5, 'Количество квартир')"
      ]
     },
     "execution_count": 25,
     "metadata": {},
     "output_type": "execute_result"
    },
    {
     "data": {
      "image/png": "[encoded data removed]",
      "text/plain": [
       "<Figure size 432x288 with 1 Axes>"
      ]
     },
     "metadata": {
      "needs_background": "light"
     },
     "output_type": "display_data"
    }
   ],
   "source": [
    "ax = data['month'].plot(kind='hist', bins=10, range=(1,12), title='Месяц публикации объявления', grid=True)\n",
    "ax.set_xlabel('Месяц')\n",
    "ax.set_ylabel('Количество квартир')"
   ]
  },
  {
   "cell_type": "markdown",
   "metadata": {},
   "source": [
    "В первый и последний месяц квартиры продаются лучше всего."
   ]
  },
  {
   "cell_type": "code",
   "execution_count": 26,
   "metadata": {},
   "outputs": [
    {
     "data": {
      "text/plain": [
       "Text(0, 0.5, 'Количество квартир')"
      ]
     },
     "execution_count": 26,
     "metadata": {},
     "output_type": "execute_result"
    },
    {
     "data": {
      "image/png": "[encoded data removed]",
      "text/plain": [
       "<Figure size 432x288 with 1 Axes>"
      ]
     },
     "metadata": {
      "needs_background": "light"
     },
     "output_type": "display_data"
    }
   ],
   "source": [
    "ax = data['days_exposition'].plot(kind='hist', bins=50, range=(1,700), title='Сколько дней было размещено объявление', grid=True)\n",
    "ax.set_xlabel('Количество дней')\n",
    "ax.set_ylabel('Количество квартир')"
   ]
  },
  {
   "cell_type": "code",
   "execution_count": 27,
   "metadata": {},
   "outputs": [
    {
     "data": {
      "text/plain": [
       "(181.55489906450023, 96.0)"
      ]
     },
     "execution_count": 27,
     "metadata": {},
     "output_type": "execute_result"
    }
   ],
   "source": [
    "data['days_exposition'].mean(), data['days_exposition'].median()"
   ]
  },
  {
   "cell_type": "markdown",
   "metadata": {},
   "source": [
    "Чем дольше квартиру не покупают, тем меньше вероятность дальнейшей покупки. Быстрыми продажи считаются если квартира продается в течении ста дней. Необычайно долгие продажи для квартир, это квартиры, которые продаются после 300 дней, то есть если квартира не продается практически целый год."
   ]
  },
  {
   "cell_type": "code",
   "execution_count": 28,
   "metadata": {},
   "outputs": [
    {
     "data": {
      "text/plain": [
       "<AxesSubplot:xlabel='total_area'>"
      ]
     },
     "execution_count": 28,
     "metadata": {},
     "output_type": "execute_result"
    },
    {
     "data": {
      "image/png": "[encoded data removed]",
      "text/plain": [
       "<Figure size 720x360 with 1 Axes>"
      ]
     },
     "metadata": {
      "needs_background": "light"
     },
     "output_type": "display_data"
    }
   ],
   "source": [
    "(\n",
    "    data.pivot_table(index='total_area', values='last_price')\n",
    "    .plot(grid=True, style='o', figsize=(10, 5))\n",
    ")"
   ]
  },
  {
   "cell_type": "code",
   "execution_count": 29,
   "metadata": {},
   "outputs": [
    {
     "data": {
      "text/plain": [
       "0.6532077512044184"
      ]
     },
     "execution_count": 29,
     "metadata": {},
     "output_type": "execute_result"
    }
   ],
   "source": [
    "data['total_area'].corr(data['last_price'])"
   ]
  },
  {
   "cell_type": "code",
   "execution_count": 30,
   "metadata": {},
   "outputs": [
    {
     "data": {
      "text/plain": [
       "<AxesSubplot:xlabel='living_area'>"
      ]
     },
     "execution_count": 30,
     "metadata": {},
     "output_type": "execute_result"
    },
    {
     "data": {
      "image/png": "[encoded data removed]",
      "text/plain": [
       "<Figure size 720x360 with 1 Axes>"
      ]
     },
     "metadata": {
      "needs_background": "light"
     },
     "output_type": "display_data"
    }
   ],
   "source": [
    "(\n",
    "    data.pivot_table(index='living_area', values='last_price')\n",
    "    .plot(grid=True, style='o', figsize=(10, 5))\n",
    ")"
   ]
  },
  {
   "cell_type": "code",
   "execution_count": 31,
   "metadata": {},
   "outputs": [
    {
     "data": {
      "text/plain": [
       "0.5661672351517757"
      ]
     },
     "execution_count": 31,
     "metadata": {},
     "output_type": "execute_result"
    }
   ],
   "source": [
    "data['living_area'].corr(data['last_price'])"
   ]
  },
  {
   "cell_type": "code",
   "execution_count": 32,
   "metadata": {},
   "outputs": [
    {
     "data": {
      "text/plain": [
       "<AxesSubplot:xlabel='kitchen_area'>"
      ]
     },
     "execution_count": 32,
     "metadata": {},
     "output_type": "execute_result"
    },
    {
     "data": {
      "image/png": "[encoded data removed]",
      "text/plain": [
       "<Figure size 720x360 with 1 Axes>"
      ]
     },
     "metadata": {
      "needs_background": "light"
     },
     "output_type": "display_data"
    }
   ],
   "source": [
    "(\n",
    "    data.pivot_table(index='kitchen_area', values='last_price')\n",
    "    .plot(grid=True, style='o', figsize=(10, 5))\n",
    ")"
   ]
  },
  {
   "cell_type": "code",
   "execution_count": 33,
   "metadata": {},
   "outputs": [
    {
     "data": {
      "text/plain": [
       "0.5198330487977115"
      ]
     },
     "execution_count": 33,
     "metadata": {},
     "output_type": "execute_result"
    }
   ],
   "source": [
    "data['kitchen_area'].corr(data['last_price'])"
   ]
  },
  {
   "cell_type": "code",
   "execution_count": 34,
   "metadata": {},
   "outputs": [
    {
     "data": {
      "text/plain": [
       "<AxesSubplot:xlabel='rooms'>"
      ]
     },
     "execution_count": 34,
     "metadata": {},
     "output_type": "execute_result"
    },
    {
     "data": {
      "image/png": "[encoded data removed]",
      "text/plain": [
       "<Figure size 720x360 with 1 Axes>"
      ]
     },
     "metadata": {
      "needs_background": "light"
     },
     "output_type": "display_data"
    }
   ],
   "source": [
    "(\n",
    "    data.pivot_table(index='rooms', values='last_price', aggfunc='median')\n",
    "    .plot(grid=True, style='-', figsize=(10, 5))\n",
    ")\n"
   ]
  },
  {
   "cell_type": "code",
   "execution_count": 35,
   "metadata": {},
   "outputs": [
    {
     "data": {
      "text/plain": [
       "0.36487861170752905"
      ]
     },
     "execution_count": 35,
     "metadata": {},
     "output_type": "execute_result"
    }
   ],
   "source": [
    "data['rooms'].corr(data['last_price'])"
   ]
  },
  {
   "cell_type": "code",
   "execution_count": 36,
   "metadata": {},
   "outputs": [
    {
     "data": {
      "text/html": [
       "<div>\n",
       "<style scoped>\n",
       "    .dataframe tbody tr th:only-of-type {\n",
       "        vertical-align: middle;\n",
       "    }\n",
       "\n",
       "    .dataframe tbody tr th {\n",
       "        vertical-align: top;\n",
       "    }\n",
       "\n",
       "    .dataframe thead th {\n",
       "        text-align: right;\n",
       "    }\n",
       "</style>\n",
       "<table border=\"1\" class=\"dataframe\">\n",
       "  <thead>\n",
       "    <tr style=\"text-align: right;\">\n",
       "      <th></th>\n",
       "      <th>last_price</th>\n",
       "    </tr>\n",
       "    <tr>\n",
       "      <th>floor_type</th>\n",
       "      <th></th>\n",
       "    </tr>\n",
       "  </thead>\n",
       "  <tbody>\n",
       "    <tr>\n",
       "      <th>другой</th>\n",
       "      <td>6.709748e+06</td>\n",
       "    </tr>\n",
       "    <tr>\n",
       "      <th>первый</th>\n",
       "      <td>4.818715e+06</td>\n",
       "    </tr>\n",
       "    <tr>\n",
       "      <th>последний</th>\n",
       "      <td>7.376120e+06</td>\n",
       "    </tr>\n",
       "  </tbody>\n",
       "</table>\n",
       "</div>"
      ],
      "text/plain": [
       "              last_price\n",
       "floor_type              \n",
       "другой      6.709748e+06\n",
       "первый      4.818715e+06\n",
       "последний   7.376120e+06"
      ]
     },
     "execution_count": 36,
     "metadata": {},
     "output_type": "execute_result"
    }
   ],
   "source": [
    "data.pivot_table(index='floor_type', values='last_price')"
   ]
  },
  {
   "cell_type": "code",
   "execution_count": 37,
   "metadata": {},
   "outputs": [
    {
     "data": {
      "text/plain": [
       "<AxesSubplot:xlabel='day'>"
      ]
     },
     "execution_count": 37,
     "metadata": {},
     "output_type": "execute_result"
    },
    {
     "data": {
      "image/png": "[encoded data removed]",
      "text/plain": [
       "<Figure size 720x360 with 1 Axes>"
      ]
     },
     "metadata": {
      "needs_background": "light"
     },
     "output_type": "display_data"
    }
   ],
   "source": [
    "(\n",
    "    data.pivot_table(index='day', values='last_price', aggfunc='median')\n",
    "    .plot(grid=True, style='-', figsize=(10, 5))\n",
    ")\n"
   ]
  },
  {
   "cell_type": "code",
   "execution_count": 38,
   "metadata": {},
   "outputs": [
    {
     "data": {
      "text/plain": [
       "<AxesSubplot:xlabel='month'>"
      ]
     },
     "execution_count": 38,
     "metadata": {},
     "output_type": "execute_result"
    },
    {
     "data": {
      "image/png": "[encoded data removed]",
      "text/plain": [
       "<Figure size 720x360 with 1 Axes>"
      ]
     },
     "metadata": {
      "needs_background": "light"
     },
     "output_type": "display_data"
    }
   ],
   "source": [
    "(\n",
    "    data.pivot_table(index='month', values='last_price', aggfunc='median')\n",
    "    .plot(grid=True, style='-', figsize=(10, 5))\n",
    ")"
   ]
  },
  {
   "cell_type": "code",
   "execution_count": 39,
   "metadata": {},
   "outputs": [
    {
     "data": {
      "text/plain": [
       "<AxesSubplot:xlabel='year'>"
      ]
     },
     "execution_count": 39,
     "metadata": {},
     "output_type": "execute_result"
    },
    {
     "data": {
      "image/png": "[encoded data removed]",
      "text/plain": [
       "<Figure size 720x360 with 1 Axes>"
      ]
     },
     "metadata": {
      "needs_background": "light"
     },
     "output_type": "display_data"
    }
   ],
   "source": [
    "(\n",
    "    data.pivot_table(index='year', values='last_price', aggfunc='median')\n",
    "    .plot(grid=True, style='-', figsize=(10, 5))\n",
    ")"
   ]
  },
  {
   "cell_type": "markdown",
   "metadata": {},
   "source": [
    "На графиках зависимости цены от площади коэффициент корреляции Пирсона — положительный. Особенно положительный у зависимости общей площади от цены. У зависимости количества комнат от цены также есть небольшой положительный коэффициент. Следовательно можно говорить об определенной связи между величинами особенно между общей площадью и ценой.\n",
    "Цены за квартиры от 11 до 13 комнат аномально высокие, ведь квартиры с большим количеством комнат стоят гораздо дешевле. Самые дорогие квартиры покупаются в первые дни недели. Цена падает от 4 до 6 месяца и начинает возратать с 6 месяца. с 2014 до 2017 года цена падала, но с 2018 начала расти."
   ]
  },
  {
   "cell_type": "code",
   "execution_count": 40,
   "metadata": {},
   "outputs": [
    {
     "data": {
      "text/html": [
       "<div>\n",
       "<style scoped>\n",
       "    .dataframe tbody tr th:only-of-type {\n",
       "        vertical-align: middle;\n",
       "    }\n",
       "\n",
       "    .dataframe tbody tr th {\n",
       "        vertical-align: top;\n",
       "    }\n",
       "\n",
       "    .dataframe thead th {\n",
       "        text-align: right;\n",
       "    }\n",
       "</style>\n",
       "<table border=\"1\" class=\"dataframe\">\n",
       "  <thead>\n",
       "    <tr style=\"text-align: right;\">\n",
       "      <th></th>\n",
       "      <th>price_per_m2</th>\n",
       "      <th>locality_name</th>\n",
       "    </tr>\n",
       "  </thead>\n",
       "  <tbody>\n",
       "    <tr>\n",
       "      <th>Санкт-Петербург</th>\n",
       "      <td>114769.940736</td>\n",
       "      <td>15592</td>\n",
       "    </tr>\n",
       "    <tr>\n",
       "      <th>поселок Мурино</th>\n",
       "      <td>85040.964659</td>\n",
       "      <td>528</td>\n",
       "    </tr>\n",
       "    <tr>\n",
       "      <th>поселок Шушары</th>\n",
       "      <td>78405.738532</td>\n",
       "      <td>436</td>\n",
       "    </tr>\n",
       "    <tr>\n",
       "      <th>Всеволожск</th>\n",
       "      <td>68618.013724</td>\n",
       "      <td>392</td>\n",
       "    </tr>\n",
       "    <tr>\n",
       "      <th>Пушкин</th>\n",
       "      <td>103125.819377</td>\n",
       "      <td>369</td>\n",
       "    </tr>\n",
       "    <tr>\n",
       "      <th>Колпино</th>\n",
       "      <td>75424.579112</td>\n",
       "      <td>338</td>\n",
       "    </tr>\n",
       "    <tr>\n",
       "      <th>поселок Парголово</th>\n",
       "      <td>90289.778019</td>\n",
       "      <td>323</td>\n",
       "    </tr>\n",
       "    <tr>\n",
       "      <th>Гатчина</th>\n",
       "      <td>68757.678399</td>\n",
       "      <td>306</td>\n",
       "    </tr>\n",
       "    <tr>\n",
       "      <th>деревня Кудрово</th>\n",
       "      <td>92297.218834</td>\n",
       "      <td>283</td>\n",
       "    </tr>\n",
       "    <tr>\n",
       "      <th>Выборг</th>\n",
       "      <td>58141.909325</td>\n",
       "      <td>237</td>\n",
       "    </tr>\n",
       "  </tbody>\n",
       "</table>\n",
       "</div>"
      ],
      "text/plain": [
       "                    price_per_m2  locality_name\n",
       "Санкт-Петербург    114769.940736          15592\n",
       "поселок Мурино      85040.964659            528\n",
       "поселок Шушары      78405.738532            436\n",
       "Всеволожск          68618.013724            392\n",
       "Пушкин             103125.819377            369\n",
       "Колпино             75424.579112            338\n",
       "поселок Парголово   90289.778019            323\n",
       "Гатчина             68757.678399            306\n",
       "деревня Кудрово     92297.218834            283\n",
       "Выборг              58141.909325            237"
      ]
     },
     "execution_count": 40,
     "metadata": {},
     "output_type": "execute_result"
    }
   ],
   "source": [
    "top_10_localitions = data['locality_name'].value_counts().head(10)\n",
    "locality_price = data.pivot_table(index='locality_name', values='price_per_m2')\n",
    "top_10 = locality_price.merge(top_10_localitions,  how='right', left_index=True, right_index=True)\n",
    "top_10.sort_values(by='locality_name', ascending=False)"
   ]
  },
  {
   "cell_type": "code",
   "execution_count": 41,
   "metadata": {},
   "outputs": [
    {
     "data": {
      "text/html": [
       "<div>\n",
       "<style scoped>\n",
       "    .dataframe tbody tr th:only-of-type {\n",
       "        vertical-align: middle;\n",
       "    }\n",
       "\n",
       "    .dataframe tbody tr th {\n",
       "        vertical-align: top;\n",
       "    }\n",
       "\n",
       "    .dataframe thead th {\n",
       "        text-align: right;\n",
       "    }\n",
       "</style>\n",
       "<table border=\"1\" class=\"dataframe\">\n",
       "  <thead>\n",
       "    <tr style=\"text-align: right;\">\n",
       "      <th></th>\n",
       "      <th>last_price</th>\n",
       "    </tr>\n",
       "    <tr>\n",
       "      <th>cityCenters_nearest_km</th>\n",
       "      <th></th>\n",
       "    </tr>\n",
       "  </thead>\n",
       "  <tbody>\n",
       "    <tr>\n",
       "      <th>0.0</th>\n",
       "      <td>3.144912e+07</td>\n",
       "    </tr>\n",
       "    <tr>\n",
       "      <th>1.0</th>\n",
       "      <td>2.127482e+07</td>\n",
       "    </tr>\n",
       "    <tr>\n",
       "      <th>2.0</th>\n",
       "      <td>1.788662e+07</td>\n",
       "    </tr>\n",
       "    <tr>\n",
       "      <th>3.0</th>\n",
       "      <td>1.115863e+07</td>\n",
       "    </tr>\n",
       "    <tr>\n",
       "      <th>4.0</th>\n",
       "      <td>1.332532e+07</td>\n",
       "    </tr>\n",
       "    <tr>\n",
       "      <th>5.0</th>\n",
       "      <td>1.453061e+07</td>\n",
       "    </tr>\n",
       "    <tr>\n",
       "      <th>6.0</th>\n",
       "      <td>1.532842e+07</td>\n",
       "    </tr>\n",
       "    <tr>\n",
       "      <th>7.0</th>\n",
       "      <td>1.483023e+07</td>\n",
       "    </tr>\n",
       "    <tr>\n",
       "      <th>8.0</th>\n",
       "      <td>1.003016e+07</td>\n",
       "    </tr>\n",
       "    <tr>\n",
       "      <th>9.0</th>\n",
       "      <td>6.963402e+06</td>\n",
       "    </tr>\n",
       "    <tr>\n",
       "      <th>10.0</th>\n",
       "      <td>6.519946e+06</td>\n",
       "    </tr>\n",
       "    <tr>\n",
       "      <th>11.0</th>\n",
       "      <td>6.253455e+06</td>\n",
       "    </tr>\n",
       "    <tr>\n",
       "      <th>12.0</th>\n",
       "      <td>5.850081e+06</td>\n",
       "    </tr>\n",
       "    <tr>\n",
       "      <th>13.0</th>\n",
       "      <td>6.116458e+06</td>\n",
       "    </tr>\n",
       "    <tr>\n",
       "      <th>14.0</th>\n",
       "      <td>5.657627e+06</td>\n",
       "    </tr>\n",
       "    <tr>\n",
       "      <th>15.0</th>\n",
       "      <td>5.895040e+06</td>\n",
       "    </tr>\n",
       "    <tr>\n",
       "      <th>16.0</th>\n",
       "      <td>5.389850e+06</td>\n",
       "    </tr>\n",
       "    <tr>\n",
       "      <th>17.0</th>\n",
       "      <td>5.323243e+06</td>\n",
       "    </tr>\n",
       "    <tr>\n",
       "      <th>18.0</th>\n",
       "      <td>5.099375e+06</td>\n",
       "    </tr>\n",
       "    <tr>\n",
       "      <th>19.0</th>\n",
       "      <td>5.067516e+06</td>\n",
       "    </tr>\n",
       "    <tr>\n",
       "      <th>20.0</th>\n",
       "      <td>6.051817e+06</td>\n",
       "    </tr>\n",
       "    <tr>\n",
       "      <th>21.0</th>\n",
       "      <td>5.519275e+06</td>\n",
       "    </tr>\n",
       "    <tr>\n",
       "      <th>22.0</th>\n",
       "      <td>5.415524e+06</td>\n",
       "    </tr>\n",
       "    <tr>\n",
       "      <th>23.0</th>\n",
       "      <td>5.042855e+06</td>\n",
       "    </tr>\n",
       "    <tr>\n",
       "      <th>24.0</th>\n",
       "      <td>3.890687e+06</td>\n",
       "    </tr>\n",
       "    <tr>\n",
       "      <th>25.0</th>\n",
       "      <td>4.052840e+06</td>\n",
       "    </tr>\n",
       "    <tr>\n",
       "      <th>26.0</th>\n",
       "      <td>3.973013e+06</td>\n",
       "    </tr>\n",
       "    <tr>\n",
       "      <th>27.0</th>\n",
       "      <td>8.300000e+06</td>\n",
       "    </tr>\n",
       "    <tr>\n",
       "      <th>28.0</th>\n",
       "      <td>5.026429e+06</td>\n",
       "    </tr>\n",
       "    <tr>\n",
       "      <th>29.0</th>\n",
       "      <td>4.236667e+06</td>\n",
       "    </tr>\n",
       "  </tbody>\n",
       "</table>\n",
       "</div>"
      ],
      "text/plain": [
       "                          last_price\n",
       "cityCenters_nearest_km              \n",
       "0.0                     3.144912e+07\n",
       "1.0                     2.127482e+07\n",
       "2.0                     1.788662e+07\n",
       "3.0                     1.115863e+07\n",
       "4.0                     1.332532e+07\n",
       "5.0                     1.453061e+07\n",
       "6.0                     1.532842e+07\n",
       "7.0                     1.483023e+07\n",
       "8.0                     1.003016e+07\n",
       "9.0                     6.963402e+06\n",
       "10.0                    6.519946e+06\n",
       "11.0                    6.253455e+06\n",
       "12.0                    5.850081e+06\n",
       "13.0                    6.116458e+06\n",
       "14.0                    5.657627e+06\n",
       "15.0                    5.895040e+06\n",
       "16.0                    5.389850e+06\n",
       "17.0                    5.323243e+06\n",
       "18.0                    5.099375e+06\n",
       "19.0                    5.067516e+06\n",
       "20.0                    6.051817e+06\n",
       "21.0                    5.519275e+06\n",
       "22.0                    5.415524e+06\n",
       "23.0                    5.042855e+06\n",
       "24.0                    3.890687e+06\n",
       "25.0                    4.052840e+06\n",
       "26.0                    3.973013e+06\n",
       "27.0                    8.300000e+06\n",
       "28.0                    5.026429e+06\n",
       "29.0                    4.236667e+06"
      ]
     },
     "execution_count": 41,
     "metadata": {},
     "output_type": "execute_result"
    }
   ],
   "source": [
    "( data.query('locality_name == \"Санкт-Петербург\"')\n",
    "    .pivot_table(index='cityCenters_nearest_km', values='last_price',aggfunc='mean')\n",
    ")"
   ]
  },
  {
   "cell_type": "markdown",
   "metadata": {},
   "source": [
    "### Общий вывод"
   ]
  },
  {
   "cell_type": "markdown",
   "metadata": {},
   "source": [
    "Исследование проходило для сервиса Яндекс.Недвижимость. В ходе исследования нужно было установить параметры, которые позволят построить автоматизированную систему. Входные данные от сервиса Яндекс.Недвижимость - это архив объявлений о продаже квартир в Санкт-Петербурге и соседних населённых пунктов за несколько лет. В исходных данных были найдены дубликаты, пропуски и артефакты, которые были успешно обработаны для нашего исследования, большая часть пропусков была оставлена из-за не возможности их заполнения. Входе исследования были изучены все параметры на наличие выдающихся значений, были определены аномалии. Также были посчитаны и добавлины в таблицу: цена квадратного метра за квартиру, дни недели, месяцы и года, категории по этажам квартир.\n",
    "Входе исследования были выявлены следующие закономерности:\n",
    "1) Больше всего квартир имеют площадь от 45 до 50 квадратных метров. На втором месте по количеству идут квартиры от 30 до 45 квадратных метров. Квартиры имеющие площадь 100 и более квадратных метров появляются редко.\n",
    "2) Больше всего квартир имеют цену от 3,5 до 4,5 миллионов рублей. На втором месте по количеству идут квартиры от 4,5 до 5,5 миллионов рублей. И на третьем месте квартиры в районе от 1,9 до 3,6 миллионов рублей.\n",
    "3) Квартиры имеющие 1 и 2 комнаты самые распространённые. значительно меньше трёхкомнатных квартир. Квартиры с 4 комнатнами и более крайне малочислены.\n",
    "4) Больше всего квартир имеют потолок от 2 до 2,7 метров.\n",
    "5) Квартиры представленные в данных обычно располагаются от 1 до 5.\n",
    "6) Больше всего квартир расположенны в районе 15000 метров от центра города.\n",
    "7) Большинство людей покупают квартиры в будние дни.\n",
    "8) Чем дольше квартиру не покупают, тем меньше вероятность дальнейшей покупки.\n",
    "9) В первый и последний месяц квартиры продаются лучше всего.\n",
    "10) В Санкт-Петербурге расположенно больше квартир на продажу чем в остальных населенных пунктах вместе взятых, но при этом и цена значительно выше."
   ]
  }
 ],
 "metadata": {
  "ExecuteTimeLog": [
   {
    "duration": 792,
    "start_time": "2023-01-07T11:23:14.509Z"
   },
   {
    "duration": 119,
    "start_time": "2023-01-07T11:23:41.178Z"
   },
   {
    "duration": 95,
    "start_time": "2023-01-07T11:24:38.969Z"
   },
   {
    "duration": 129,
    "start_time": "2023-01-07T11:24:48.897Z"
   },
   {
    "duration": 2855,
    "start_time": "2023-01-07T11:26:30.183Z"
   },
   {
    "duration": 536,
    "start_time": "2023-01-07T11:27:31.539Z"
   },
   {
    "duration": 2510,
    "start_time": "2023-01-07T11:27:34.419Z"
   },
   {
    "duration": 46,
    "start_time": "2023-01-07T11:30:38.675Z"
   },
   {
    "duration": 57,
    "start_time": "2023-01-07T11:33:27.442Z"
   },
   {
    "duration": 33,
    "start_time": "2023-01-07T11:35:30.941Z"
   },
   {
    "duration": 41,
    "start_time": "2023-01-07T11:35:48.342Z"
   },
   {
    "duration": 82,
    "start_time": "2023-01-07T11:35:59.816Z"
   },
   {
    "duration": 87,
    "start_time": "2023-01-07T11:36:17.302Z"
   },
   {
    "duration": 72,
    "start_time": "2023-01-09T11:51:27.842Z"
   },
   {
    "duration": 577,
    "start_time": "2023-01-09T11:51:36.905Z"
   },
   {
    "duration": 93,
    "start_time": "2023-01-09T11:51:39.763Z"
   },
   {
    "duration": 83,
    "start_time": "2023-01-09T11:51:45.235Z"
   },
   {
    "duration": 43,
    "start_time": "2023-01-09T11:51:57.798Z"
   },
   {
    "duration": 6,
    "start_time": "2023-01-09T11:53:33.024Z"
   },
   {
    "duration": 60,
    "start_time": "2023-01-09T11:53:48.535Z"
   },
   {
    "duration": 8,
    "start_time": "2023-01-09T11:59:55.369Z"
   },
   {
    "duration": 5,
    "start_time": "2023-01-09T11:59:57.433Z"
   },
   {
    "duration": 72,
    "start_time": "2023-01-09T12:00:21.911Z"
   },
   {
    "duration": 78,
    "start_time": "2023-01-09T12:03:24.574Z"
   },
   {
    "duration": 95,
    "start_time": "2023-01-09T12:12:11.143Z"
   },
   {
    "duration": 72,
    "start_time": "2023-01-09T12:12:20.415Z"
   },
   {
    "duration": 68,
    "start_time": "2023-01-09T12:12:48.669Z"
   },
   {
    "duration": 77,
    "start_time": "2023-01-09T12:15:54.176Z"
   },
   {
    "duration": 75,
    "start_time": "2023-01-09T12:16:39.705Z"
   },
   {
    "duration": 30,
    "start_time": "2023-01-09T12:28:18.794Z"
   },
   {
    "duration": 54,
    "start_time": "2023-01-09T13:02:42.106Z"
   },
   {
    "duration": 510,
    "start_time": "2023-01-09T13:02:49.081Z"
   },
   {
    "duration": 66,
    "start_time": "2023-01-09T13:02:53.188Z"
   },
   {
    "duration": 68,
    "start_time": "2023-01-12T10:18:28.551Z"
   },
   {
    "duration": 830,
    "start_time": "2023-01-12T10:18:37.901Z"
   },
   {
    "duration": 73,
    "start_time": "2023-01-12T10:18:41.478Z"
   },
   {
    "duration": 98,
    "start_time": "2023-01-12T10:18:44.260Z"
   },
   {
    "duration": 57,
    "start_time": "2023-01-12T10:26:52.797Z"
   },
   {
    "duration": 109,
    "start_time": "2023-01-12T10:28:50.579Z"
   },
   {
    "duration": 500,
    "start_time": "2023-01-12T10:28:59.778Z"
   },
   {
    "duration": 89,
    "start_time": "2023-01-12T10:29:02.543Z"
   },
   {
    "duration": 65,
    "start_time": "2023-01-12T10:29:05.352Z"
   },
   {
    "duration": 51,
    "start_time": "2023-01-12T10:39:59.497Z"
   },
   {
    "duration": 543,
    "start_time": "2023-01-12T10:40:06.454Z"
   },
   {
    "duration": 72,
    "start_time": "2023-01-12T10:40:09.288Z"
   },
   {
    "duration": 11,
    "start_time": "2023-01-12T10:40:13.172Z"
   },
   {
    "duration": 73,
    "start_time": "2023-01-12T10:52:58.179Z"
   },
   {
    "duration": 16,
    "start_time": "2023-01-12T10:53:23.712Z"
   },
   {
    "duration": 41,
    "start_time": "2023-01-12T10:53:30.840Z"
   },
   {
    "duration": 102,
    "start_time": "2023-01-12T10:53:51.816Z"
   },
   {
    "duration": 172,
    "start_time": "2023-01-12T10:55:27.943Z"
   },
   {
    "duration": 17,
    "start_time": "2023-01-12T11:05:22.038Z"
   },
   {
    "duration": 44,
    "start_time": "2023-01-12T11:05:56.979Z"
   },
   {
    "duration": 71,
    "start_time": "2023-01-12T11:06:44.756Z"
   },
   {
    "duration": 22,
    "start_time": "2023-01-12T11:07:01.651Z"
   },
   {
    "duration": 67,
    "start_time": "2023-01-12T11:07:16.951Z"
   },
   {
    "duration": 14,
    "start_time": "2023-01-12T11:08:29.114Z"
   },
   {
    "duration": 68,
    "start_time": "2023-01-12T11:08:48.974Z"
   },
   {
    "duration": 67,
    "start_time": "2023-01-12T11:09:22.193Z"
   },
   {
    "duration": 15,
    "start_time": "2023-01-12T11:09:26.467Z"
   },
   {
    "duration": 19,
    "start_time": "2023-01-12T11:09:54.826Z"
   },
   {
    "duration": 23,
    "start_time": "2023-01-12T11:10:25.729Z"
   },
   {
    "duration": 11,
    "start_time": "2023-01-12T11:10:33.462Z"
   },
   {
    "duration": 14,
    "start_time": "2023-01-12T11:12:28.484Z"
   },
   {
    "duration": 17,
    "start_time": "2023-01-12T11:12:46.779Z"
   },
   {
    "duration": 43,
    "start_time": "2023-01-12T11:18:21.844Z"
   },
   {
    "duration": 5,
    "start_time": "2023-01-12T11:30:56.537Z"
   },
   {
    "duration": 58,
    "start_time": "2023-01-12T11:31:29.320Z"
   },
   {
    "duration": 5,
    "start_time": "2023-01-12T11:32:27.606Z"
   },
   {
    "duration": 5,
    "start_time": "2023-01-12T11:32:47.582Z"
   },
   {
    "duration": 6,
    "start_time": "2023-01-12T11:33:16.379Z"
   },
   {
    "duration": 6,
    "start_time": "2023-01-12T11:36:11.769Z"
   },
   {
    "duration": 6,
    "start_time": "2023-01-12T11:36:32.048Z"
   },
   {
    "duration": 15,
    "start_time": "2023-01-12T11:37:17.279Z"
   },
   {
    "duration": 6,
    "start_time": "2023-01-12T11:37:39.102Z"
   },
   {
    "duration": 780,
    "start_time": "2023-01-12T11:37:55.232Z"
   },
   {
    "duration": 6,
    "start_time": "2023-01-12T11:37:58.913Z"
   },
   {
    "duration": 5,
    "start_time": "2023-01-12T11:38:50.725Z"
   },
   {
    "duration": 60,
    "start_time": "2023-01-12T11:55:56.938Z"
   },
   {
    "duration": 533,
    "start_time": "2023-01-12T11:56:11.641Z"
   },
   {
    "duration": 71,
    "start_time": "2023-01-12T11:56:14.861Z"
   },
   {
    "duration": 2663,
    "start_time": "2023-01-12T11:56:22.546Z"
   },
   {
    "duration": 48,
    "start_time": "2023-01-12T11:56:29.282Z"
   },
   {
    "duration": 11,
    "start_time": "2023-01-12T12:03:21.185Z"
   },
   {
    "duration": 9,
    "start_time": "2023-01-12T12:04:07.385Z"
   },
   {
    "duration": 9,
    "start_time": "2023-01-12T12:04:12.017Z"
   },
   {
    "duration": 6,
    "start_time": "2023-01-12T12:07:10.805Z"
   },
   {
    "duration": 96,
    "start_time": "2023-01-12T12:19:42.446Z"
   },
   {
    "duration": 402,
    "start_time": "2023-01-12T12:19:57.929Z"
   },
   {
    "duration": 459,
    "start_time": "2023-01-12T12:21:20.239Z"
   },
   {
    "duration": 67,
    "start_time": "2023-01-12T12:23:41.309Z"
   },
   {
    "duration": 9,
    "start_time": "2023-01-12T12:24:23.763Z"
   },
   {
    "duration": 13,
    "start_time": "2023-01-12T12:24:36.547Z"
   },
   {
    "duration": 65,
    "start_time": "2023-01-12T12:24:40.802Z"
   },
   {
    "duration": 56,
    "start_time": "2023-01-12T12:24:55.276Z"
   },
   {
    "duration": 61,
    "start_time": "2023-01-12T12:25:30.745Z"
   },
   {
    "duration": 539,
    "start_time": "2023-01-12T12:25:42.593Z"
   },
   {
    "duration": 70,
    "start_time": "2023-01-12T12:25:45.581Z"
   },
   {
    "duration": 2299,
    "start_time": "2023-01-12T12:25:48.874Z"
   },
   {
    "duration": 69,
    "start_time": "2023-01-12T12:25:54.554Z"
   },
   {
    "duration": 66,
    "start_time": "2023-01-12T12:26:01.318Z"
   },
   {
    "duration": 16,
    "start_time": "2023-01-12T12:38:40.485Z"
   },
   {
    "duration": 83,
    "start_time": "2023-01-12T12:40:17.639Z"
   },
   {
    "duration": 28,
    "start_time": "2023-01-12T12:43:46.646Z"
   },
   {
    "duration": 503,
    "start_time": "2023-01-12T12:43:59.156Z"
   },
   {
    "duration": 20,
    "start_time": "2023-01-12T12:44:03.557Z"
   },
   {
    "duration": 88,
    "start_time": "2023-01-12T12:44:21.262Z"
   },
   {
    "duration": 13,
    "start_time": "2023-01-12T13:25:05.978Z"
   },
   {
    "duration": 100,
    "start_time": "2023-01-12T13:28:27.204Z"
   },
   {
    "duration": 6,
    "start_time": "2023-01-12T13:31:17.082Z"
   },
   {
    "duration": 59,
    "start_time": "2023-01-12T13:36:31.828Z"
   },
   {
    "duration": 57,
    "start_time": "2023-01-12T13:36:41.484Z"
   },
   {
    "duration": 50,
    "start_time": "2023-01-12T13:36:46.868Z"
   },
   {
    "duration": 52,
    "start_time": "2023-01-12T13:37:03.389Z"
   },
   {
    "duration": 58,
    "start_time": "2023-01-12T13:37:25.070Z"
   },
   {
    "duration": 85,
    "start_time": "2023-01-12T13:37:32.764Z"
   },
   {
    "duration": 513,
    "start_time": "2023-01-12T13:37:45.163Z"
   },
   {
    "duration": 71,
    "start_time": "2023-01-12T13:37:51.002Z"
   },
   {
    "duration": 10,
    "start_time": "2023-01-12T13:38:26.459Z"
   },
   {
    "duration": 15,
    "start_time": "2023-01-12T13:40:12.334Z"
   },
   {
    "duration": 9,
    "start_time": "2023-01-12T13:40:23.520Z"
   },
   {
    "duration": 15,
    "start_time": "2023-01-12T13:43:19.003Z"
   },
   {
    "duration": 105,
    "start_time": "2023-01-12T13:43:35.966Z"
   },
   {
    "duration": 478,
    "start_time": "2023-01-12T13:43:44.787Z"
   },
   {
    "duration": 70,
    "start_time": "2023-01-12T13:43:47.237Z"
   },
   {
    "duration": 4171,
    "start_time": "2023-01-12T13:43:49.610Z"
   },
   {
    "duration": 6,
    "start_time": "2023-01-12T13:43:58.851Z"
   },
   {
    "duration": 8,
    "start_time": "2023-01-12T13:44:00.763Z"
   },
   {
    "duration": 108,
    "start_time": "2023-01-12T13:44:02.315Z"
   },
   {
    "duration": 89,
    "start_time": "2023-01-12T13:44:04.291Z"
   },
   {
    "duration": 9,
    "start_time": "2023-01-12T13:44:09.763Z"
   },
   {
    "duration": 16,
    "start_time": "2023-01-12T13:44:37.050Z"
   },
   {
    "duration": 471,
    "start_time": "2023-01-12T13:51:21.881Z"
   },
   {
    "duration": 69,
    "start_time": "2023-01-12T13:51:25.777Z"
   },
   {
    "duration": 2251,
    "start_time": "2023-01-12T13:51:27.850Z"
   },
   {
    "duration": 13,
    "start_time": "2023-01-12T13:55:28.727Z"
   },
   {
    "duration": 11,
    "start_time": "2023-01-12T13:56:51.363Z"
   },
   {
    "duration": 6,
    "start_time": "2023-01-12T13:56:56.259Z"
   },
   {
    "duration": 9,
    "start_time": "2023-01-12T13:57:00.795Z"
   },
   {
    "duration": 6,
    "start_time": "2023-01-12T14:09:03.701Z"
   },
   {
    "duration": 5,
    "start_time": "2023-01-12T14:14:27.008Z"
   },
   {
    "duration": 4,
    "start_time": "2023-01-12T14:14:36.814Z"
   },
   {
    "duration": 2188,
    "start_time": "2023-01-12T14:15:03.590Z"
   },
   {
    "duration": 53,
    "start_time": "2023-01-12T14:16:20.908Z"
   },
   {
    "duration": 53,
    "start_time": "2023-01-12T14:16:24.844Z"
   },
   {
    "duration": 11,
    "start_time": "2023-01-12T14:16:31.498Z"
   },
   {
    "duration": 231,
    "start_time": "2023-01-12T14:32:22.538Z"
   },
   {
    "duration": 336,
    "start_time": "2023-01-12T14:36:28.527Z"
   },
   {
    "duration": 423,
    "start_time": "2023-01-12T15:36:35.292Z"
   },
   {
    "duration": 506,
    "start_time": "2023-01-12T15:36:42.135Z"
   },
   {
    "duration": 373,
    "start_time": "2023-01-12T15:38:35.107Z"
   },
   {
    "duration": 318,
    "start_time": "2023-01-12T15:41:23.164Z"
   },
   {
    "duration": 322,
    "start_time": "2023-01-12T15:41:45.260Z"
   },
   {
    "duration": 14,
    "start_time": "2023-01-12T15:42:41.404Z"
   },
   {
    "duration": 45,
    "start_time": "2023-01-12T15:42:54.141Z"
   },
   {
    "duration": 44,
    "start_time": "2023-01-12T15:43:07.611Z"
   },
   {
    "duration": 366,
    "start_time": "2023-01-12T15:44:03.698Z"
   },
   {
    "duration": 298,
    "start_time": "2023-01-12T15:44:19.866Z"
   },
   {
    "duration": 304,
    "start_time": "2023-01-12T15:44:24.344Z"
   },
   {
    "duration": 238,
    "start_time": "2023-01-12T15:44:30.200Z"
   },
   {
    "duration": 385,
    "start_time": "2023-01-12T15:44:37.498Z"
   },
   {
    "duration": 275,
    "start_time": "2023-01-12T15:44:42.864Z"
   },
   {
    "duration": 387,
    "start_time": "2023-01-12T15:44:50.969Z"
   },
   {
    "duration": 10,
    "start_time": "2023-01-12T15:46:47.863Z"
   },
   {
    "duration": 314,
    "start_time": "2023-01-12T15:46:57.648Z"
   },
   {
    "duration": 187,
    "start_time": "2023-01-12T15:48:01.589Z"
   },
   {
    "duration": 184,
    "start_time": "2023-01-12T15:48:19.479Z"
   },
   {
    "duration": 231,
    "start_time": "2023-01-12T15:50:37.562Z"
   },
   {
    "duration": 218,
    "start_time": "2023-01-12T15:50:47.089Z"
   },
   {
    "duration": 236,
    "start_time": "2023-01-12T15:50:55.440Z"
   },
   {
    "duration": 250,
    "start_time": "2023-01-12T15:51:07.045Z"
   },
   {
    "duration": 148,
    "start_time": "2023-01-12T15:51:55.177Z"
   },
   {
    "duration": 160,
    "start_time": "2023-01-12T15:52:31.912Z"
   },
   {
    "duration": 245,
    "start_time": "2023-01-12T16:13:16.019Z"
   },
   {
    "duration": 416,
    "start_time": "2023-01-12T16:16:36.013Z"
   },
   {
    "duration": 388,
    "start_time": "2023-01-12T16:17:32.884Z"
   },
   {
    "duration": 220,
    "start_time": "2023-01-12T16:17:55.542Z"
   },
   {
    "duration": 149,
    "start_time": "2023-01-12T16:17:59.651Z"
   },
   {
    "duration": 150,
    "start_time": "2023-01-12T16:19:08.616Z"
   },
   {
    "duration": 190,
    "start_time": "2023-01-12T16:19:17.057Z"
   },
   {
    "duration": 168,
    "start_time": "2023-01-12T16:19:26.793Z"
   },
   {
    "duration": 175,
    "start_time": "2023-01-12T16:19:38.536Z"
   },
   {
    "duration": 283,
    "start_time": "2023-01-12T16:19:51.064Z"
   },
   {
    "duration": 249,
    "start_time": "2023-01-12T16:20:01.191Z"
   },
   {
    "duration": 161,
    "start_time": "2023-01-12T16:20:08.463Z"
   },
   {
    "duration": 240,
    "start_time": "2023-01-12T16:20:13.855Z"
   },
   {
    "duration": 171,
    "start_time": "2023-01-12T16:20:20.432Z"
   },
   {
    "duration": 159,
    "start_time": "2023-01-12T16:20:28.886Z"
   },
   {
    "duration": 286,
    "start_time": "2023-01-12T16:21:10.486Z"
   },
   {
    "duration": 162,
    "start_time": "2023-01-12T16:21:20.262Z"
   },
   {
    "duration": 194,
    "start_time": "2023-01-12T16:21:23.997Z"
   },
   {
    "duration": 191,
    "start_time": "2023-01-12T16:22:17.620Z"
   },
   {
    "duration": 505,
    "start_time": "2023-01-12T16:22:23.957Z"
   },
   {
    "duration": 177,
    "start_time": "2023-01-12T16:22:30.748Z"
   },
   {
    "duration": 161,
    "start_time": "2023-01-12T16:22:34.316Z"
   },
   {
    "duration": 308,
    "start_time": "2023-01-12T16:22:42.541Z"
   },
   {
    "duration": 270,
    "start_time": "2023-01-12T16:22:49.996Z"
   },
   {
    "duration": 258,
    "start_time": "2023-01-12T16:24:08.747Z"
   },
   {
    "duration": 167,
    "start_time": "2023-01-12T16:24:14.642Z"
   },
   {
    "duration": 172,
    "start_time": "2023-01-12T16:24:31.089Z"
   },
   {
    "duration": 186,
    "start_time": "2023-01-12T16:24:36.547Z"
   },
   {
    "duration": 174,
    "start_time": "2023-01-12T16:25:28.816Z"
   },
   {
    "duration": 153,
    "start_time": "2023-01-12T16:25:43.488Z"
   },
   {
    "duration": 266,
    "start_time": "2023-01-12T16:25:48.969Z"
   },
   {
    "duration": 203,
    "start_time": "2023-01-12T16:25:52.543Z"
   },
   {
    "duration": 190,
    "start_time": "2023-01-12T16:25:56.663Z"
   },
   {
    "duration": 187,
    "start_time": "2023-01-12T16:26:19.279Z"
   },
   {
    "duration": 23,
    "start_time": "2023-01-12T16:26:50.079Z"
   },
   {
    "duration": 142,
    "start_time": "2023-01-12T16:28:58.805Z"
   },
   {
    "duration": 154,
    "start_time": "2023-01-12T16:29:08.468Z"
   },
   {
    "duration": 172,
    "start_time": "2023-01-12T16:29:21.707Z"
   },
   {
    "duration": 199,
    "start_time": "2023-01-12T16:29:26.643Z"
   },
   {
    "duration": 171,
    "start_time": "2023-01-12T16:30:16.283Z"
   },
   {
    "duration": 185,
    "start_time": "2023-01-12T16:30:49.050Z"
   },
   {
    "duration": 187,
    "start_time": "2023-01-12T16:30:53.466Z"
   },
   {
    "duration": 181,
    "start_time": "2023-01-12T16:30:57.674Z"
   },
   {
    "duration": 189,
    "start_time": "2023-01-12T16:31:17.384Z"
   },
   {
    "duration": 189,
    "start_time": "2023-01-12T16:31:26.305Z"
   },
   {
    "duration": 189,
    "start_time": "2023-01-12T16:31:34.849Z"
   },
   {
    "duration": 417,
    "start_time": "2023-01-12T16:32:04.656Z"
   },
   {
    "duration": 190,
    "start_time": "2023-01-12T16:32:19.048Z"
   },
   {
    "duration": 197,
    "start_time": "2023-01-12T16:32:30.493Z"
   },
   {
    "duration": 193,
    "start_time": "2023-01-12T16:32:33.767Z"
   },
   {
    "duration": 207,
    "start_time": "2023-01-12T16:33:15.079Z"
   },
   {
    "duration": 179,
    "start_time": "2023-01-12T16:33:41.094Z"
   },
   {
    "duration": 171,
    "start_time": "2023-01-12T16:33:44.359Z"
   },
   {
    "duration": 150,
    "start_time": "2023-01-12T16:35:28.614Z"
   },
   {
    "duration": 147,
    "start_time": "2023-01-12T16:35:36.772Z"
   },
   {
    "duration": 140,
    "start_time": "2023-01-12T16:35:59.683Z"
   },
   {
    "duration": 155,
    "start_time": "2023-01-12T16:53:23.667Z"
   },
   {
    "duration": 159,
    "start_time": "2023-01-12T16:54:01.522Z"
   },
   {
    "duration": 155,
    "start_time": "2023-01-12T16:56:18.720Z"
   },
   {
    "duration": 173,
    "start_time": "2023-01-12T16:56:29.277Z"
   },
   {
    "duration": 190,
    "start_time": "2023-01-12T16:56:52.006Z"
   },
   {
    "duration": 162,
    "start_time": "2023-01-12T17:06:43.469Z"
   },
   {
    "duration": 157,
    "start_time": "2023-01-12T17:12:04.519Z"
   },
   {
    "duration": 164,
    "start_time": "2023-01-12T17:12:57.725Z"
   },
   {
    "duration": 182,
    "start_time": "2023-01-12T17:13:05.276Z"
   },
   {
    "duration": 202,
    "start_time": "2023-01-12T17:16:20.729Z"
   },
   {
    "duration": 152,
    "start_time": "2023-01-12T17:17:39.209Z"
   },
   {
    "duration": 211,
    "start_time": "2023-01-12T17:18:01.201Z"
   },
   {
    "duration": 290,
    "start_time": "2023-01-12T17:18:10.724Z"
   },
   {
    "duration": 180,
    "start_time": "2023-01-12T17:20:38.621Z"
   },
   {
    "duration": 187,
    "start_time": "2023-01-12T17:26:11.148Z"
   },
   {
    "duration": 209,
    "start_time": "2023-01-12T17:26:16.244Z"
   },
   {
    "duration": 134,
    "start_time": "2023-01-12T17:30:32.744Z"
   },
   {
    "duration": 164,
    "start_time": "2023-01-12T17:30:45.009Z"
   },
   {
    "duration": 150,
    "start_time": "2023-01-12T17:30:56.831Z"
   },
   {
    "duration": 152,
    "start_time": "2023-01-12T17:31:08.455Z"
   },
   {
    "duration": 220,
    "start_time": "2023-01-12T17:31:22.481Z"
   },
   {
    "duration": 185,
    "start_time": "2023-01-12T17:31:34.278Z"
   },
   {
    "duration": 544,
    "start_time": "2023-01-12T17:33:33.573Z"
   },
   {
    "duration": 211,
    "start_time": "2023-01-12T17:33:41.582Z"
   },
   {
    "duration": 191,
    "start_time": "2023-01-12T17:33:53.261Z"
   },
   {
    "duration": 152,
    "start_time": "2023-01-12T17:34:00.571Z"
   },
   {
    "duration": 68,
    "start_time": "2023-01-13T09:06:23.603Z"
   },
   {
    "duration": 753,
    "start_time": "2023-01-13T09:20:14.059Z"
   },
   {
    "duration": 67,
    "start_time": "2023-01-13T09:20:16.893Z"
   },
   {
    "duration": 2351,
    "start_time": "2023-01-13T09:20:18.763Z"
   },
   {
    "duration": 10,
    "start_time": "2023-01-13T09:20:24.051Z"
   },
   {
    "duration": 7,
    "start_time": "2023-01-13T09:20:26.299Z"
   },
   {
    "duration": 12,
    "start_time": "2023-01-13T09:20:27.899Z"
   },
   {
    "duration": 97,
    "start_time": "2023-01-13T09:20:29.130Z"
   },
   {
    "duration": 12,
    "start_time": "2023-01-13T09:20:31.754Z"
   },
   {
    "duration": 330,
    "start_time": "2023-01-13T09:20:33.796Z"
   },
   {
    "duration": 175,
    "start_time": "2023-01-13T09:20:36.154Z"
   },
   {
    "duration": 140,
    "start_time": "2023-01-13T09:20:38.075Z"
   },
   {
    "duration": 199,
    "start_time": "2023-01-13T09:20:40.490Z"
   },
   {
    "duration": 143,
    "start_time": "2023-01-13T09:20:42.250Z"
   },
   {
    "duration": 175,
    "start_time": "2023-01-13T09:20:44.170Z"
   },
   {
    "duration": 68,
    "start_time": "2023-01-13T09:20:49.946Z"
   },
   {
    "duration": 175,
    "start_time": "2023-01-13T09:21:07.664Z"
   },
   {
    "duration": 153,
    "start_time": "2023-01-13T09:22:01.034Z"
   },
   {
    "duration": 149,
    "start_time": "2023-01-13T09:22:08.585Z"
   },
   {
    "duration": 132,
    "start_time": "2023-01-13T09:27:24.434Z"
   },
   {
    "duration": 140,
    "start_time": "2023-01-13T09:27:32.325Z"
   },
   {
    "duration": 162,
    "start_time": "2023-01-13T09:27:43.298Z"
   },
   {
    "duration": 168,
    "start_time": "2023-01-13T09:36:02.065Z"
   },
   {
    "duration": 149,
    "start_time": "2023-01-13T09:37:37.343Z"
   },
   {
    "duration": 139,
    "start_time": "2023-01-13T09:37:45.919Z"
   },
   {
    "duration": 167,
    "start_time": "2023-01-13T09:37:50.588Z"
   },
   {
    "duration": 141,
    "start_time": "2023-01-13T09:38:24.150Z"
   },
   {
    "duration": 204,
    "start_time": "2023-01-13T09:38:29.455Z"
   },
   {
    "duration": 162,
    "start_time": "2023-01-13T09:39:53.591Z"
   },
   {
    "duration": 182,
    "start_time": "2023-01-13T09:40:02.525Z"
   },
   {
    "duration": 168,
    "start_time": "2023-01-13T09:43:04.898Z"
   },
   {
    "duration": 48,
    "start_time": "2023-01-13T09:47:54.429Z"
   },
   {
    "duration": 157,
    "start_time": "2023-01-13T09:48:06.653Z"
   },
   {
    "duration": 157,
    "start_time": "2023-01-13T09:49:37.645Z"
   },
   {
    "duration": 137,
    "start_time": "2023-01-13T09:49:59.041Z"
   },
   {
    "duration": 141,
    "start_time": "2023-01-13T09:50:33.360Z"
   },
   {
    "duration": 132,
    "start_time": "2023-01-13T09:50:39.601Z"
   },
   {
    "duration": 2471,
    "start_time": "2023-01-13T09:53:10.431Z"
   },
   {
    "duration": 210,
    "start_time": "2023-01-13T09:53:25.696Z"
   },
   {
    "duration": 184,
    "start_time": "2023-01-13T09:54:16.590Z"
   },
   {
    "duration": 209,
    "start_time": "2023-01-13T09:54:24.477Z"
   },
   {
    "duration": 216,
    "start_time": "2023-01-13T09:55:17.915Z"
   },
   {
    "duration": 151,
    "start_time": "2023-01-13T09:56:26.427Z"
   },
   {
    "duration": 153,
    "start_time": "2023-01-13T09:56:48.618Z"
   },
   {
    "duration": 173,
    "start_time": "2023-01-13T09:56:53.098Z"
   },
   {
    "duration": 260,
    "start_time": "2023-01-13T09:56:59.482Z"
   },
   {
    "duration": 155,
    "start_time": "2023-01-13T09:57:07.050Z"
   },
   {
    "duration": 159,
    "start_time": "2023-01-13T09:57:16.551Z"
   },
   {
    "duration": 162,
    "start_time": "2023-01-13T09:59:28.600Z"
   },
   {
    "duration": 154,
    "start_time": "2023-01-13T09:59:34.952Z"
   },
   {
    "duration": 143,
    "start_time": "2023-01-13T09:59:45.222Z"
   },
   {
    "duration": 78,
    "start_time": "2023-01-13T10:02:50.023Z"
   },
   {
    "duration": 5,
    "start_time": "2023-01-13T10:03:06.979Z"
   },
   {
    "duration": 4,
    "start_time": "2023-01-13T10:03:18.888Z"
   },
   {
    "duration": 7,
    "start_time": "2023-01-13T10:03:30.921Z"
   },
   {
    "duration": 165,
    "start_time": "2023-01-13T10:04:08.659Z"
   },
   {
    "duration": 170,
    "start_time": "2023-01-13T10:04:48.929Z"
   },
   {
    "duration": 142,
    "start_time": "2023-01-13T10:05:24.072Z"
   },
   {
    "duration": 201,
    "start_time": "2023-01-13T10:05:30.457Z"
   },
   {
    "duration": 151,
    "start_time": "2023-01-13T10:05:38.641Z"
   },
   {
    "duration": 153,
    "start_time": "2023-01-13T10:05:52.815Z"
   },
   {
    "duration": 159,
    "start_time": "2023-01-13T10:06:02.311Z"
   },
   {
    "duration": 189,
    "start_time": "2023-01-13T10:06:09.904Z"
   },
   {
    "duration": 159,
    "start_time": "2023-01-13T10:06:29.614Z"
   },
   {
    "duration": 165,
    "start_time": "2023-01-13T10:06:35.254Z"
   },
   {
    "duration": 165,
    "start_time": "2023-01-13T10:07:48.294Z"
   },
   {
    "duration": 164,
    "start_time": "2023-01-13T10:07:53.246Z"
   },
   {
    "duration": 153,
    "start_time": "2023-01-13T10:07:59.581Z"
   },
   {
    "duration": 156,
    "start_time": "2023-01-13T10:08:03.349Z"
   },
   {
    "duration": 170,
    "start_time": "2023-01-13T10:09:39.525Z"
   },
   {
    "duration": 290,
    "start_time": "2023-01-13T10:09:44.219Z"
   },
   {
    "duration": 3,
    "start_time": "2023-01-13T10:10:02.812Z"
   },
   {
    "duration": 169,
    "start_time": "2023-01-13T10:10:08.347Z"
   },
   {
    "duration": 203,
    "start_time": "2023-01-13T10:10:39.290Z"
   },
   {
    "duration": 126,
    "start_time": "2023-01-13T10:22:47.565Z"
   },
   {
    "duration": 130,
    "start_time": "2023-01-13T10:29:29.591Z"
   },
   {
    "duration": 152,
    "start_time": "2023-01-13T10:59:21.732Z"
   },
   {
    "duration": 70,
    "start_time": "2023-01-13T10:59:54.662Z"
   },
   {
    "duration": 138,
    "start_time": "2023-01-13T11:00:44.215Z"
   },
   {
    "duration": 143,
    "start_time": "2023-01-13T11:01:35.443Z"
   },
   {
    "duration": 181,
    "start_time": "2023-01-13T11:02:41.058Z"
   },
   {
    "duration": 143,
    "start_time": "2023-01-13T11:02:50.456Z"
   },
   {
    "duration": 265,
    "start_time": "2023-01-13T11:04:11.792Z"
   },
   {
    "duration": 153,
    "start_time": "2023-01-13T11:04:55.864Z"
   },
   {
    "duration": 516,
    "start_time": "2023-01-13T11:08:18.362Z"
   },
   {
    "duration": 39,
    "start_time": "2023-01-13T11:08:24.938Z"
   },
   {
    "duration": 2013,
    "start_time": "2023-01-13T11:08:30.301Z"
   },
   {
    "duration": 11,
    "start_time": "2023-01-13T11:09:10.089Z"
   },
   {
    "duration": 5,
    "start_time": "2023-01-13T11:09:12.538Z"
   },
   {
    "duration": 8,
    "start_time": "2023-01-13T11:09:17.343Z"
   },
   {
    "duration": 106,
    "start_time": "2023-01-13T11:09:19.134Z"
   },
   {
    "duration": 13,
    "start_time": "2023-01-13T11:09:33.475Z"
   },
   {
    "duration": 305,
    "start_time": "2023-01-13T11:09:39.075Z"
   },
   {
    "duration": 123,
    "start_time": "2023-01-13T11:18:36.351Z"
   },
   {
    "duration": 141,
    "start_time": "2023-01-13T11:18:43.797Z"
   },
   {
    "duration": 136,
    "start_time": "2023-01-13T11:18:51.822Z"
   },
   {
    "duration": 189,
    "start_time": "2023-01-13T11:36:29.018Z"
   },
   {
    "duration": 131,
    "start_time": "2023-01-13T11:36:55.681Z"
   },
   {
    "duration": 159,
    "start_time": "2023-01-13T11:36:57.784Z"
   },
   {
    "duration": 208,
    "start_time": "2023-01-13T11:37:03.273Z"
   },
   {
    "duration": 6,
    "start_time": "2023-01-13T11:37:07.079Z"
   },
   {
    "duration": 138,
    "start_time": "2023-01-13T11:38:27.127Z"
   },
   {
    "duration": 306,
    "start_time": "2023-01-13T11:38:58.080Z"
   },
   {
    "duration": 375,
    "start_time": "2023-01-13T11:39:18.552Z"
   },
   {
    "duration": 133,
    "start_time": "2023-01-13T11:40:00.125Z"
   },
   {
    "duration": 119,
    "start_time": "2023-01-13T11:40:06.227Z"
   },
   {
    "duration": 139,
    "start_time": "2023-01-13T11:40:09.612Z"
   },
   {
    "duration": 157,
    "start_time": "2023-01-13T11:40:17.565Z"
   },
   {
    "duration": 155,
    "start_time": "2023-01-13T11:42:51.577Z"
   },
   {
    "duration": 128,
    "start_time": "2023-01-13T11:55:05.227Z"
   },
   {
    "duration": 145,
    "start_time": "2023-01-13T11:55:39.730Z"
   },
   {
    "duration": 139,
    "start_time": "2023-01-13T11:55:49.343Z"
   },
   {
    "duration": 125,
    "start_time": "2023-01-13T11:55:59.163Z"
   },
   {
    "duration": 128,
    "start_time": "2023-01-13T11:56:02.729Z"
   },
   {
    "duration": 143,
    "start_time": "2023-01-13T11:56:07.963Z"
   },
   {
    "duration": 147,
    "start_time": "2023-01-13T11:56:58.794Z"
   },
   {
    "duration": 12,
    "start_time": "2023-01-13T11:57:15.841Z"
   },
   {
    "duration": 296,
    "start_time": "2023-01-13T11:57:40.170Z"
   },
   {
    "duration": 89,
    "start_time": "2023-01-13T11:57:51.011Z"
   },
   {
    "duration": 17,
    "start_time": "2023-01-13T11:58:01.640Z"
   },
   {
    "duration": 10,
    "start_time": "2023-01-13T11:58:10.984Z"
   },
   {
    "duration": 11,
    "start_time": "2023-01-13T11:58:17.153Z"
   },
   {
    "duration": 17,
    "start_time": "2023-01-13T12:02:18.821Z"
   },
   {
    "duration": 19,
    "start_time": "2023-01-13T12:02:38.131Z"
   },
   {
    "duration": 18,
    "start_time": "2023-01-13T12:02:59.392Z"
   },
   {
    "duration": 20,
    "start_time": "2023-01-13T12:03:44.754Z"
   },
   {
    "duration": 11,
    "start_time": "2023-01-13T12:05:28.414Z"
   },
   {
    "duration": 8,
    "start_time": "2023-01-13T12:05:45.007Z"
   },
   {
    "duration": 10,
    "start_time": "2023-01-13T12:11:39.472Z"
   },
   {
    "duration": 38,
    "start_time": "2023-01-13T12:17:15.994Z"
   },
   {
    "duration": 38,
    "start_time": "2023-01-13T12:17:46.452Z"
   },
   {
    "duration": 847,
    "start_time": "2023-01-13T12:20:07.411Z"
   },
   {
    "duration": 23,
    "start_time": "2023-01-13T12:25:31.946Z"
   },
   {
    "duration": 22,
    "start_time": "2023-01-13T12:26:03.089Z"
   },
   {
    "duration": 36,
    "start_time": "2023-01-13T12:32:42.661Z"
   },
   {
    "duration": 57,
    "start_time": "2023-01-13T12:33:36.527Z"
   },
   {
    "duration": 21,
    "start_time": "2023-01-13T12:33:59.213Z"
   },
   {
    "duration": 44,
    "start_time": "2023-01-13T12:37:01.003Z"
   },
   {
    "duration": 46,
    "start_time": "2023-01-13T12:37:06.980Z"
   },
   {
    "duration": 23,
    "start_time": "2023-01-13T12:37:46.899Z"
   },
   {
    "duration": 24,
    "start_time": "2023-01-13T12:40:17.623Z"
   },
   {
    "duration": 19,
    "start_time": "2023-01-13T12:42:10.731Z"
   },
   {
    "duration": 115,
    "start_time": "2023-01-13T13:18:58.019Z"
   },
   {
    "duration": 531,
    "start_time": "2023-01-13T13:19:02.629Z"
   },
   {
    "duration": 53,
    "start_time": "2023-01-13T13:19:09.164Z"
   },
   {
    "duration": 2185,
    "start_time": "2023-01-13T13:19:11.428Z"
   },
   {
    "duration": 10,
    "start_time": "2023-01-13T13:19:20.523Z"
   },
   {
    "duration": 6,
    "start_time": "2023-01-13T13:19:23.844Z"
   },
   {
    "duration": 8,
    "start_time": "2023-01-13T13:19:33.738Z"
   },
   {
    "duration": 123,
    "start_time": "2023-01-13T13:19:37.924Z"
   },
   {
    "duration": 22,
    "start_time": "2023-01-13T13:19:41.492Z"
   },
   {
    "duration": 337,
    "start_time": "2023-01-13T13:19:52.747Z"
   },
   {
    "duration": 173,
    "start_time": "2023-01-13T13:20:01.186Z"
   },
   {
    "duration": 211,
    "start_time": "2023-01-13T13:20:14.731Z"
   },
   {
    "duration": 153,
    "start_time": "2023-01-13T13:20:23.511Z"
   },
   {
    "duration": 230,
    "start_time": "2023-01-13T13:20:30.586Z"
   },
   {
    "duration": 172,
    "start_time": "2023-01-13T13:20:33.546Z"
   },
   {
    "duration": 194,
    "start_time": "2023-01-13T13:20:38.418Z"
   },
   {
    "duration": 306,
    "start_time": "2023-01-13T13:20:42.139Z"
   },
   {
    "duration": 166,
    "start_time": "2023-01-13T13:20:50.730Z"
   },
   {
    "duration": 161,
    "start_time": "2023-01-13T13:20:57.331Z"
   },
   {
    "duration": 173,
    "start_time": "2023-01-13T13:21:01.385Z"
   },
   {
    "duration": 187,
    "start_time": "2023-01-13T13:21:04.740Z"
   },
   {
    "duration": 169,
    "start_time": "2023-01-13T13:21:09.311Z"
   },
   {
    "duration": 154,
    "start_time": "2023-01-13T13:21:17.611Z"
   },
   {
    "duration": 287,
    "start_time": "2023-01-13T13:21:21.702Z"
   },
   {
    "duration": 7,
    "start_time": "2023-01-13T13:21:26.393Z"
   },
   {
    "duration": 141,
    "start_time": "2023-01-13T13:21:33.386Z"
   },
   {
    "duration": 153,
    "start_time": "2023-01-13T13:21:37.066Z"
   },
   {
    "duration": 145,
    "start_time": "2023-01-13T13:21:42.976Z"
   },
   {
    "duration": 149,
    "start_time": "2023-01-13T13:21:45.536Z"
   },
   {
    "duration": 15,
    "start_time": "2023-01-13T13:21:49.314Z"
   },
   {
    "duration": 290,
    "start_time": "2023-01-13T13:22:03.211Z"
   },
   {
    "duration": 33,
    "start_time": "2023-01-13T13:22:27.889Z"
   },
   {
    "duration": 25,
    "start_time": "2023-01-13T13:22:36.217Z"
   },
   {
    "duration": 21,
    "start_time": "2023-01-13T13:25:38.564Z"
   },
   {
    "duration": 18,
    "start_time": "2023-01-13T13:25:43.372Z"
   },
   {
    "duration": 21,
    "start_time": "2023-01-13T13:25:56.733Z"
   },
   {
    "duration": 26,
    "start_time": "2023-01-13T13:26:20.733Z"
   },
   {
    "duration": 77,
    "start_time": "2023-01-13T13:28:35.786Z"
   },
   {
    "duration": 20,
    "start_time": "2023-01-13T13:28:47.659Z"
   },
   {
    "duration": 9,
    "start_time": "2023-01-13T13:29:19.393Z"
   },
   {
    "duration": 29,
    "start_time": "2023-01-13T13:30:51.382Z"
   },
   {
    "duration": 45,
    "start_time": "2023-01-13T13:34:34.531Z"
   },
   {
    "duration": 6,
    "start_time": "2023-01-13T13:36:07.357Z"
   },
   {
    "duration": 757,
    "start_time": "2023-01-13T13:36:14.721Z"
   },
   {
    "duration": 60,
    "start_time": "2023-01-13T13:36:18.081Z"
   },
   {
    "duration": 2124,
    "start_time": "2023-01-13T13:36:21.034Z"
   },
   {
    "duration": 9,
    "start_time": "2023-01-13T13:36:26.080Z"
   },
   {
    "duration": 6,
    "start_time": "2023-01-13T13:36:28.032Z"
   },
   {
    "duration": 8,
    "start_time": "2023-01-13T13:36:29.688Z"
   },
   {
    "duration": 115,
    "start_time": "2023-01-13T13:36:31.184Z"
   },
   {
    "duration": 20,
    "start_time": "2023-01-13T13:36:32.986Z"
   },
   {
    "duration": 330,
    "start_time": "2023-01-13T13:36:35.483Z"
   },
   {
    "duration": 154,
    "start_time": "2023-01-13T13:36:39.793Z"
   },
   {
    "duration": 152,
    "start_time": "2023-01-13T13:36:41.920Z"
   },
   {
    "duration": 140,
    "start_time": "2023-01-13T13:36:44.336Z"
   },
   {
    "duration": 221,
    "start_time": "2023-01-13T13:36:46.472Z"
   },
   {
    "duration": 159,
    "start_time": "2023-01-13T13:36:48.413Z"
   },
   {
    "duration": 152,
    "start_time": "2023-01-13T13:36:50.128Z"
   },
   {
    "duration": 251,
    "start_time": "2023-01-13T13:36:52.208Z"
   },
   {
    "duration": 164,
    "start_time": "2023-01-13T13:36:54.207Z"
   },
   {
    "duration": 187,
    "start_time": "2023-01-13T13:36:56.342Z"
   },
   {
    "duration": 174,
    "start_time": "2023-01-13T13:36:58.561Z"
   },
   {
    "duration": 152,
    "start_time": "2023-01-13T13:37:00.617Z"
   },
   {
    "duration": 156,
    "start_time": "2023-01-13T13:37:02.390Z"
   },
   {
    "duration": 155,
    "start_time": "2023-01-13T13:37:04.254Z"
   },
   {
    "duration": 270,
    "start_time": "2023-01-13T13:37:06.166Z"
   },
   {
    "duration": 7,
    "start_time": "2023-01-13T13:37:08.791Z"
   },
   {
    "duration": 150,
    "start_time": "2023-01-13T13:37:10.679Z"
   },
   {
    "duration": 164,
    "start_time": "2023-01-13T13:37:12.465Z"
   },
   {
    "duration": 153,
    "start_time": "2023-01-13T13:37:14.409Z"
   },
   {
    "duration": 142,
    "start_time": "2023-01-13T13:37:16.247Z"
   },
   {
    "duration": 13,
    "start_time": "2023-01-13T13:37:18.215Z"
   },
   {
    "duration": 288,
    "start_time": "2023-01-13T13:37:20.070Z"
   },
   {
    "duration": 19,
    "start_time": "2023-01-13T13:37:21.816Z"
   },
   {
    "duration": 35,
    "start_time": "2023-01-13T13:37:25.004Z"
   },
   {
    "duration": 637,
    "start_time": "2023-01-16T08:51:02.572Z"
   },
   {
    "duration": 45,
    "start_time": "2023-01-16T08:51:05.432Z"
   },
   {
    "duration": 2410,
    "start_time": "2023-01-16T08:51:07.787Z"
   },
   {
    "duration": 25,
    "start_time": "2023-01-16T08:51:12.667Z"
   },
   {
    "duration": 26,
    "start_time": "2023-01-16T09:38:45.093Z"
   },
   {
    "duration": 24,
    "start_time": "2023-01-16T09:42:18.298Z"
   },
   {
    "duration": 22,
    "start_time": "2023-01-16T09:42:23.729Z"
   },
   {
    "duration": 81,
    "start_time": "2023-01-16T09:59:12.001Z"
   },
   {
    "duration": 83,
    "start_time": "2023-01-16T10:01:03.894Z"
   },
   {
    "duration": 529,
    "start_time": "2023-01-16T10:01:22.079Z"
   },
   {
    "duration": 81,
    "start_time": "2023-01-16T10:01:25.376Z"
   },
   {
    "duration": 2421,
    "start_time": "2023-01-16T10:01:27.877Z"
   },
   {
    "duration": 25,
    "start_time": "2023-01-16T10:01:33.245Z"
   },
   {
    "duration": 11,
    "start_time": "2023-01-16T10:01:35.622Z"
   },
   {
    "duration": 6,
    "start_time": "2023-01-16T10:01:37.841Z"
   },
   {
    "duration": 12,
    "start_time": "2023-01-16T10:01:40.069Z"
   },
   {
    "duration": 101,
    "start_time": "2023-01-16T10:01:41.741Z"
   },
   {
    "duration": 12,
    "start_time": "2023-01-16T10:01:45.310Z"
   },
   {
    "duration": 101,
    "start_time": "2023-01-16T10:01:51.174Z"
   },
   {
    "duration": 328,
    "start_time": "2023-01-16T10:01:53.679Z"
   },
   {
    "duration": 392,
    "start_time": "2023-01-16T10:03:04.495Z"
   },
   {
    "duration": 426,
    "start_time": "2023-01-16T10:03:24.181Z"
   },
   {
    "duration": 353,
    "start_time": "2023-01-16T10:03:34.172Z"
   },
   {
    "duration": 321,
    "start_time": "2023-01-16T10:07:49.304Z"
   },
   {
    "duration": 441,
    "start_time": "2023-01-16T10:08:09.996Z"
   },
   {
    "duration": 316,
    "start_time": "2023-01-16T10:08:22.680Z"
   },
   {
    "duration": 21,
    "start_time": "2023-01-16T10:12:54.305Z"
   },
   {
    "duration": 6,
    "start_time": "2023-01-16T11:33:23.934Z"
   },
   {
    "duration": 7,
    "start_time": "2023-01-16T11:33:51.343Z"
   },
   {
    "duration": 6,
    "start_time": "2023-01-16T11:34:18.697Z"
   },
   {
    "duration": 500,
    "start_time": "2023-01-16T11:34:37.600Z"
   },
   {
    "duration": 192,
    "start_time": "2023-01-16T11:51:59.661Z"
   },
   {
    "duration": 201,
    "start_time": "2023-01-16T11:52:06.637Z"
   },
   {
    "duration": 184,
    "start_time": "2023-01-16T11:52:08.943Z"
   },
   {
    "duration": 168,
    "start_time": "2023-01-16T11:52:11.963Z"
   },
   {
    "duration": 193,
    "start_time": "2023-01-16T11:52:16.740Z"
   },
   {
    "duration": 193,
    "start_time": "2023-01-16T11:52:23.403Z"
   },
   {
    "duration": 7,
    "start_time": "2023-01-16T11:53:19.038Z"
   },
   {
    "duration": 378,
    "start_time": "2023-01-16T11:53:45.031Z"
   },
   {
    "duration": 9,
    "start_time": "2023-01-16T11:54:25.722Z"
   },
   {
    "duration": 5,
    "start_time": "2023-01-16T11:54:45.249Z"
   },
   {
    "duration": 5,
    "start_time": "2023-01-16T11:54:56.033Z"
   },
   {
    "duration": 204,
    "start_time": "2023-01-16T11:56:49.512Z"
   },
   {
    "duration": 80,
    "start_time": "2023-01-16T12:54:31.806Z"
   },
   {
    "duration": 70,
    "start_time": "2023-01-16T12:54:38.321Z"
   },
   {
    "duration": 71,
    "start_time": "2023-01-16T12:54:55.559Z"
   },
   {
    "duration": 869,
    "start_time": "2023-01-16T12:55:03.608Z"
   },
   {
    "duration": 891,
    "start_time": "2023-01-16T12:55:34.538Z"
   },
   {
    "duration": 884,
    "start_time": "2023-01-16T12:55:45.889Z"
   },
   {
    "duration": 912,
    "start_time": "2023-01-16T12:56:03.911Z"
   },
   {
    "duration": 873,
    "start_time": "2023-01-16T12:56:56.786Z"
   },
   {
    "duration": 885,
    "start_time": "2023-01-16T12:57:04.415Z"
   },
   {
    "duration": 873,
    "start_time": "2023-01-16T12:57:44.142Z"
   },
   {
    "duration": 949,
    "start_time": "2023-01-16T12:57:59.878Z"
   },
   {
    "duration": 896,
    "start_time": "2023-01-16T12:58:12.930Z"
   },
   {
    "duration": 899,
    "start_time": "2023-01-16T12:58:22.526Z"
   },
   {
    "duration": 470,
    "start_time": "2023-01-16T12:58:33.462Z"
   },
   {
    "duration": 48,
    "start_time": "2023-01-16T12:58:36.915Z"
   },
   {
    "duration": 2257,
    "start_time": "2023-01-16T12:58:39.372Z"
   },
   {
    "duration": 24,
    "start_time": "2023-01-16T12:58:42.171Z"
   },
   {
    "duration": 9,
    "start_time": "2023-01-16T12:58:49.308Z"
   },
   {
    "duration": 6,
    "start_time": "2023-01-16T12:58:51.924Z"
   },
   {
    "duration": 8,
    "start_time": "2023-01-16T12:58:53.268Z"
   },
   {
    "duration": 97,
    "start_time": "2023-01-16T12:58:55.188Z"
   },
   {
    "duration": 10,
    "start_time": "2023-01-16T12:58:57.836Z"
   },
   {
    "duration": 73,
    "start_time": "2023-01-16T12:59:11.564Z"
   },
   {
    "duration": 8,
    "start_time": "2023-01-16T12:59:27.693Z"
   },
   {
    "duration": 953,
    "start_time": "2023-01-16T12:59:35.988Z"
   },
   {
    "duration": 870,
    "start_time": "2023-01-16T12:59:45.123Z"
   },
   {
    "duration": 893,
    "start_time": "2023-01-16T12:59:54.055Z"
   },
   {
    "duration": 115,
    "start_time": "2023-01-16T13:00:02.876Z"
   },
   {
    "duration": 7,
    "start_time": "2023-01-16T13:00:09.164Z"
   },
   {
    "duration": 76,
    "start_time": "2023-01-16T13:00:29.612Z"
   },
   {
    "duration": 472,
    "start_time": "2023-01-16T13:06:35.076Z"
   },
   {
    "duration": 46,
    "start_time": "2023-01-16T13:06:37.598Z"
   },
   {
    "duration": 2289,
    "start_time": "2023-01-16T13:06:39.884Z"
   },
   {
    "duration": 26,
    "start_time": "2023-01-16T13:06:45.356Z"
   },
   {
    "duration": 8,
    "start_time": "2023-01-16T13:06:47.846Z"
   },
   {
    "duration": 6,
    "start_time": "2023-01-16T13:06:54.452Z"
   },
   {
    "duration": 7,
    "start_time": "2023-01-16T13:06:58.557Z"
   },
   {
    "duration": 123,
    "start_time": "2023-01-16T13:07:04.685Z"
   },
   {
    "duration": 13,
    "start_time": "2023-01-16T13:07:10.413Z"
   },
   {
    "duration": 71,
    "start_time": "2023-01-16T13:07:21.780Z"
   },
   {
    "duration": 6,
    "start_time": "2023-01-16T13:10:49.513Z"
   },
   {
    "duration": 326,
    "start_time": "2023-01-16T13:17:42.647Z"
   },
   {
    "duration": 179,
    "start_time": "2023-01-16T13:22:30.092Z"
   },
   {
    "duration": 178,
    "start_time": "2023-01-16T13:26:16.613Z"
   },
   {
    "duration": 197,
    "start_time": "2023-01-16T13:26:23.292Z"
   },
   {
    "duration": 295,
    "start_time": "2023-01-16T13:26:43.867Z"
   },
   {
    "duration": 207,
    "start_time": "2023-01-16T13:26:53.123Z"
   },
   {
    "duration": 217,
    "start_time": "2023-01-16T13:27:04.866Z"
   },
   {
    "duration": 189,
    "start_time": "2023-01-16T13:27:11.934Z"
   },
   {
    "duration": 226,
    "start_time": "2023-01-16T13:27:25.291Z"
   },
   {
    "duration": 192,
    "start_time": "2023-01-16T13:27:28.506Z"
   },
   {
    "duration": 212,
    "start_time": "2023-01-16T13:28:43.352Z"
   },
   {
    "duration": 234,
    "start_time": "2023-01-16T13:28:57.170Z"
   },
   {
    "duration": 171,
    "start_time": "2023-01-16T13:33:41.891Z"
   },
   {
    "duration": 221,
    "start_time": "2023-01-16T13:33:50.915Z"
   },
   {
    "duration": 184,
    "start_time": "2023-01-16T13:34:21.249Z"
   },
   {
    "duration": 275,
    "start_time": "2023-01-16T13:34:41.610Z"
   },
   {
    "duration": 184,
    "start_time": "2023-01-16T13:43:52.320Z"
   },
   {
    "duration": 192,
    "start_time": "2023-01-16T13:43:56.337Z"
   },
   {
    "duration": 149,
    "start_time": "2023-01-16T13:45:43.588Z"
   },
   {
    "duration": 99,
    "start_time": "2023-01-16T13:59:51.428Z"
   },
   {
    "duration": 535,
    "start_time": "2023-01-16T13:59:55.726Z"
   },
   {
    "duration": 45,
    "start_time": "2023-01-16T13:59:58.406Z"
   },
   {
    "duration": 2213,
    "start_time": "2023-01-16T14:00:01.044Z"
   },
   {
    "duration": 25,
    "start_time": "2023-01-16T14:00:03.637Z"
   },
   {
    "duration": 10,
    "start_time": "2023-01-16T14:00:06.773Z"
   },
   {
    "duration": 6,
    "start_time": "2023-01-16T14:00:10.813Z"
   },
   {
    "duration": 9,
    "start_time": "2023-01-16T14:00:12.749Z"
   },
   {
    "duration": 103,
    "start_time": "2023-01-16T14:00:14.469Z"
   },
   {
    "duration": 11,
    "start_time": "2023-01-16T14:00:16.453Z"
   },
   {
    "duration": 77,
    "start_time": "2023-01-16T14:00:19.341Z"
   },
   {
    "duration": 7,
    "start_time": "2023-01-16T14:00:36.691Z"
   },
   {
    "duration": 361,
    "start_time": "2023-01-16T14:00:40.095Z"
   },
   {
    "duration": 155,
    "start_time": "2023-01-16T14:00:59.391Z"
   },
   {
    "duration": 153,
    "start_time": "2023-01-16T14:01:13.868Z"
   },
   {
    "duration": 144,
    "start_time": "2023-01-16T14:01:18.026Z"
   },
   {
    "duration": 217,
    "start_time": "2023-01-16T14:01:21.697Z"
   },
   {
    "duration": 177,
    "start_time": "2023-01-16T14:01:24.190Z"
   },
   {
    "duration": 175,
    "start_time": "2023-01-16T14:01:26.970Z"
   },
   {
    "duration": 283,
    "start_time": "2023-01-16T14:01:29.619Z"
   },
   {
    "duration": 162,
    "start_time": "2023-01-16T14:01:32.642Z"
   },
   {
    "duration": 178,
    "start_time": "2023-01-16T14:01:35.691Z"
   },
   {
    "duration": 159,
    "start_time": "2023-01-16T14:01:38.370Z"
   },
   {
    "duration": 165,
    "start_time": "2023-01-16T14:01:40.853Z"
   },
   {
    "duration": 177,
    "start_time": "2023-01-16T14:01:45.052Z"
   },
   {
    "duration": 161,
    "start_time": "2023-01-16T14:01:50.051Z"
   },
   {
    "duration": 310,
    "start_time": "2023-01-16T14:01:53.132Z"
   },
   {
    "duration": 6,
    "start_time": "2023-01-16T14:01:58.295Z"
   },
   {
    "duration": 148,
    "start_time": "2023-01-16T14:02:11.939Z"
   },
   {
    "duration": 6,
    "start_time": "2023-01-16T14:02:26.396Z"
   },
   {
    "duration": 160,
    "start_time": "2023-01-16T14:03:00.794Z"
   },
   {
    "duration": 7,
    "start_time": "2023-01-16T14:03:03.714Z"
   },
   {
    "duration": 202,
    "start_time": "2023-01-16T14:03:07.293Z"
   },
   {
    "duration": 6,
    "start_time": "2023-01-16T14:03:10.825Z"
   },
   {
    "duration": 155,
    "start_time": "2023-01-16T14:03:13.034Z"
   },
   {
    "duration": 6,
    "start_time": "2023-01-16T14:03:15.895Z"
   },
   {
    "duration": 15,
    "start_time": "2023-01-16T14:03:18.335Z"
   },
   {
    "duration": 188,
    "start_time": "2023-01-16T14:03:26.930Z"
   },
   {
    "duration": 164,
    "start_time": "2023-01-16T14:03:29.954Z"
   },
   {
    "duration": 169,
    "start_time": "2023-01-16T14:03:42.964Z"
   },
   {
    "duration": 21,
    "start_time": "2023-01-16T14:06:37.000Z"
   },
   {
    "duration": 24,
    "start_time": "2023-01-16T14:06:39.079Z"
   },
   {
    "duration": 774,
    "start_time": "2024-02-15T15:48:25.223Z"
   },
   {
    "duration": 46,
    "start_time": "2024-02-15T15:48:25.998Z"
   },
   {
    "duration": 2435,
    "start_time": "2024-02-15T15:48:26.907Z"
   },
   {
    "duration": 26,
    "start_time": "2024-02-15T15:48:29.344Z"
   },
   {
    "duration": 11,
    "start_time": "2024-02-15T15:48:38.731Z"
   },
   {
    "duration": 6,
    "start_time": "2024-02-15T15:48:40.818Z"
   },
   {
    "duration": 9,
    "start_time": "2024-02-15T15:48:44.105Z"
   },
   {
    "duration": 121,
    "start_time": "2024-02-15T15:48:47.955Z"
   },
   {
    "duration": 12,
    "start_time": "2024-02-15T15:48:53.386Z"
   },
   {
    "duration": 82,
    "start_time": "2024-02-15T15:48:57.562Z"
   },
   {
    "duration": 6,
    "start_time": "2024-02-15T15:49:01.152Z"
   },
   {
    "duration": 348,
    "start_time": "2024-02-15T15:49:23.651Z"
   },
   {
    "duration": 159,
    "start_time": "2024-02-15T15:49:31.154Z"
   },
   {
    "duration": 160,
    "start_time": "2024-02-15T15:49:35.729Z"
   },
   {
    "duration": 205,
    "start_time": "2024-02-15T15:49:40.018Z"
   },
   {
    "duration": 149,
    "start_time": "2024-02-15T15:49:43.873Z"
   },
   {
    "duration": 172,
    "start_time": "2024-02-15T15:49:47.819Z"
   },
   {
    "duration": 170,
    "start_time": "2024-02-15T15:49:52.841Z"
   },
   {
    "duration": 273,
    "start_time": "2024-02-15T15:49:56.313Z"
   },
   {
    "duration": 163,
    "start_time": "2024-02-15T15:49:59.640Z"
   },
   {
    "duration": 209,
    "start_time": "2024-02-15T15:50:04.623Z"
   },
   {
    "duration": 177,
    "start_time": "2024-02-15T15:50:08.465Z"
   },
   {
    "duration": 161,
    "start_time": "2024-02-15T15:50:10.798Z"
   },
   {
    "duration": 189,
    "start_time": "2024-02-15T15:50:14.195Z"
   },
   {
    "duration": 248,
    "start_time": "2024-02-15T15:50:17.658Z"
   },
   {
    "duration": 232,
    "start_time": "2024-02-15T15:50:21.472Z"
   },
   {
    "duration": 7,
    "start_time": "2024-02-15T15:50:22.646Z"
   },
   {
    "duration": 156,
    "start_time": "2024-02-15T15:50:29.040Z"
   },
   {
    "duration": 6,
    "start_time": "2024-02-15T15:50:30.576Z"
   },
   {
    "duration": 177,
    "start_time": "2024-02-15T15:50:37.396Z"
   },
   {
    "duration": 5,
    "start_time": "2024-02-15T15:50:38.876Z"
   },
   {
    "duration": 155,
    "start_time": "2024-02-15T15:50:40.264Z"
   },
   {
    "duration": 6,
    "start_time": "2024-02-15T15:50:41.968Z"
   },
   {
    "duration": 154,
    "start_time": "2024-02-15T15:50:43.142Z"
   },
   {
    "duration": 6,
    "start_time": "2024-02-15T15:50:45.174Z"
   },
   {
    "duration": 13,
    "start_time": "2024-02-15T15:50:47.321Z"
   },
   {
    "duration": 175,
    "start_time": "2024-02-15T15:50:48.477Z"
   },
   {
    "duration": 172,
    "start_time": "2024-02-15T15:50:51.850Z"
   },
   {
    "duration": 157,
    "start_time": "2024-02-15T15:50:52.809Z"
   },
   {
    "duration": 24,
    "start_time": "2024-02-15T15:50:58.602Z"
   },
   {
    "duration": 23,
    "start_time": "2024-02-15T15:51:02.065Z"
   }
  ],
  "kernelspec": {
   "display_name": "Python 3 (ipykernel)",
   "language": "python",
   "name": "python3"
  },
  "language_info": {
   "codemirror_mode": {
    "name": "ipython",
    "version": 3
   },
   "file_extension": ".py",
   "mimetype": "text/x-python",
   "name": "python",
   "nbconvert_exporter": "python",
   "pygments_lexer": "ipython3",
   "version": "3.9.5"
  },
  "toc": {
   "base_numbering": 1,
   "nav_menu": {},
   "number_sections": true,
   "sideBar": true,
   "skip_h1_title": true,
   "title_cell": "Table of Contents",
   "title_sidebar": "Contents",
   "toc_cell": false,
   "toc_position": {},
   "toc_section_display": true,
   "toc_window_display": false
  }
 },
 "nbformat": 4,
 "nbformat_minor": 2
}
