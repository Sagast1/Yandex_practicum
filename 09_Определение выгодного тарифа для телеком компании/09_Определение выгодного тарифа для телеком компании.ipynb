{
 "cells": [
  {
   "cell_type": "markdown",
   "id": "b6d8147d",
   "metadata": {},
   "source": [
    "# Статистический анализ данных аренды самокатов GoFast"
   ]
  },
  {
   "cell_type": "markdown",
   "id": "8b047790",
   "metadata": {},
   "source": [
    "# Описание данных\n",
    "## users_go.csv — пользователи:\n",
    "- user_id - уникальный идентификатор пользователя\n",
    "- name - имя пользователя\n",
    "- age - возраст\n",
    "- city - город\n",
    "- subscription_type - тип подписки (free, ultra)\n",
    "## rides_go.csv — поездки:\n",
    "- user_id - уникальный идентификатор пользователя\n",
    "- distance - расстояние, которое пользователь проехал в текущей сессии (в метрах)\n",
    "- duration - продолжительность сессии (в минутах) — время с того момента, как пользователь нажал кнопку «Начать поездку» до момента, как он нажал кнопку «Завершить поездку»\n",
    "- date - дата совершения поездки\n",
    "## subscriptions_go.csv —  подписки:\n",
    "- subscription_type - тип подписки\n",
    "- minute_price - стоимость одной минуты поездки по данной подписке\n",
    "- start_ride_price - стоимость начала поездки\n",
    "- subscription_fee - стоимость ежемесячного платежа"
   ]
  },
  {
   "cell_type": "markdown",
   "id": "d8558695",
   "metadata": {},
   "source": [
    "# Цель работы\n",
    "Проанализировать данные и проверить некоторые гипотезы, которые могут помочь бизнесу вырасти."
   ]
  },
  {
   "cell_type": "markdown",
   "id": "d71bd537",
   "metadata": {},
   "source": [
    "# План\n",
    "- Шаг 1. Загрузка данных\n",
    "- Шаг 2. Предобработка данных\n",
    "- Шаг 3. Исследовательский анализ данных\n",
    "- Шаг 4. Объединение данных\n",
    "- Шаг 5. Подсчёт выручки\n",
    "- Шаг 6. Проверка гипотез"
   ]
  },
  {
   "cell_type": "markdown",
   "id": "c42cbe00",
   "metadata": {},
   "source": [
    "# Шаг 1. Загрузка данных"
   ]
  },
  {
   "cell_type": "code",
   "execution_count": 1,
   "id": "72576667",
   "metadata": {},
   "outputs": [],
   "source": [
    "# Загружаем необходимые библиотеки\n",
    "import pandas as pd\n",
    "import numpy as np\n",
    "import datetime as dt\n",
    "from matplotlib import pyplot as plt\n",
    "import plotly.express as px\n",
    "import seaborn as sns\n",
    "from scipy import stats as st\n",
    "from math import factorial\n",
    "from scipy.stats import binom"
   ]
  },
  {
   "cell_type": "code",
   "execution_count": null,
   "id": "eff9f206",
   "metadata": {},
   "outputs": [],
   "source": [
    "# Загружаем данные\n",
    "users = pd.read_csv(\"/datasets/users_go.csv\")\n",
    "rides = pd.read_csv(\"/datasets/rides_go.csv\")\n",
    "subs = pd.read_csv(\"/datasets/subscriptions_go.csv\")"
   ]
  },
  {
   "cell_type": "markdown",
   "id": "98a04226",
   "metadata": {},
   "source": []
  },
  {
   "cell_type": "code",
   "execution_count": null,
   "id": "691bd1ec",
   "metadata": {},
   "outputs": [],
   "source": [
    "users.info()"
   ]
  },
  {
   "cell_type": "code",
   "execution_count": null,
   "id": "a48b5603",
   "metadata": {},
   "outputs": [],
   "source": [
    "users.head(5)"
   ]
  },
  {
   "cell_type": "code",
   "execution_count": null,
   "id": "ba8dbcaa",
   "metadata": {},
   "outputs": [],
   "source": [
    "rides.info()"
   ]
  },
  {
   "cell_type": "code",
   "execution_count": null,
   "id": "69794172",
   "metadata": {},
   "outputs": [],
   "source": [
    "rides.head(5)"
   ]
  },
  {
   "cell_type": "code",
   "execution_count": 7,
   "id": "1167cc5d",
   "metadata": {},
   "outputs": [],
   "source": [
    "subs.info()"
   ]
  },
  {
   "cell_type": "code",
   "execution_count": 8,
   "id": "bb061c6e",
   "metadata": {},
   "outputs": [
    {
     "data": {
      "text/html": [
       "<div>\n",
       "<style scoped>\n",
       "    .dataframe tbody tr th:only-of-type {\n",
       "        vertical-align: middle;\n",
       "    }\n",
       "\n",
       "    .dataframe tbody tr th {\n",
       "        vertical-align: top;\n",
       "    }\n",
       "\n",
       "    .dataframe thead th {\n",
       "        text-align: right;\n",
       "    }\n",
       "</style>\n",
       "<table border=\"1\" class=\"dataframe\">\n",
       "  <thead>\n",
       "    <tr style=\"text-align: right;\">\n",
       "      <th></th>\n",
       "      <th>subscription_type</th>\n",
       "      <th>minute_price</th>\n",
       "      <th>start_ride_price</th>\n",
       "      <th>subscription_fee</th>\n",
       "    </tr>\n",
       "  </thead>\n",
       "  <tbody>\n",
       "    <tr>\n",
       "      <th>0</th>\n",
       "      <td>free</td>\n",
       "      <td>8</td>\n",
       "      <td>50</td>\n",
       "      <td>0</td>\n",
       "    </tr>\n",
       "    <tr>\n",
       "      <th>1</th>\n",
       "      <td>ultra</td>\n",
       "      <td>6</td>\n",
       "      <td>0</td>\n",
       "      <td>199</td>\n",
       "    </tr>\n",
       "  </tbody>\n",
       "</table>\n",
       "</div>"
      ],
      "text/plain": [
       "  subscription_type  minute_price  start_ride_price  subscription_fee\n",
       "0              free             8                50                 0\n",
       "1             ultra             6                 0               199"
      ]
     },
     "execution_count": 8,
     "metadata": {},
     "output_type": "execute_result"
    }
   ],
   "source": [
    "subs.head(5)"
   ]
  },
  {
   "cell_type": "markdown",
   "id": "8a1267da",
   "metadata": {},
   "source": [
    "# Вывод: \n",
    "Знакомство с данными не выявило серьезных отклонений или пропусков в данных. В дальнейшем приведем колонку data в датафрейме rides к типу даты pandas."
   ]
  },
  {
   "cell_type": "markdown",
   "id": "e95ebca7",
   "metadata": {},
   "source": [
    "# Шаг 2. Предобработка данных"
   ]
  },
  {
   "cell_type": "code",
   "execution_count": 9,
   "id": "af6d202c",
   "metadata": {},
   "outputs": [],
   "source": [
    "# Приведем столбец к нужному типу данных\n",
    "rides['date'] = pd.to_datetime(rides['date'], format='%Y-%m-%d')"
   ]
  },
  {
   "cell_type": "code",
   "execution_count": 10,
   "id": "7986ce6a",
   "metadata": {},
   "outputs": [
    {
     "name": "stdout",
     "output_type": "stream",
     "text": [
      "<class 'pandas.core.frame.DataFrame'>\n",
      "RangeIndex: 18068 entries, 0 to 18067\n",
      "Data columns (total 4 columns):\n",
      " #   Column    Non-Null Count  Dtype         \n",
      "---  ------    --------------  -----         \n",
      " 0   user_id   18068 non-null  int64         \n",
      " 1   distance  18068 non-null  float64       \n",
      " 2   duration  18068 non-null  float64       \n",
      " 3   date      18068 non-null  datetime64[ns]\n",
      "dtypes: datetime64[ns](1), float64(2), int64(1)\n",
      "memory usage: 564.8 KB\n"
     ]
    }
   ],
   "source": [
    "rides.info()"
   ]
  },
  {
   "cell_type": "code",
   "execution_count": 11,
   "id": "49260680",
   "metadata": {},
   "outputs": [
    {
     "data": {
      "text/html": [
       "<div>\n",
       "<style scoped>\n",
       "    .dataframe tbody tr th:only-of-type {\n",
       "        vertical-align: middle;\n",
       "    }\n",
       "\n",
       "    .dataframe tbody tr th {\n",
       "        vertical-align: top;\n",
       "    }\n",
       "\n",
       "    .dataframe thead th {\n",
       "        text-align: right;\n",
       "    }\n",
       "</style>\n",
       "<table border=\"1\" class=\"dataframe\">\n",
       "  <thead>\n",
       "    <tr style=\"text-align: right;\">\n",
       "      <th></th>\n",
       "      <th>user_id</th>\n",
       "      <th>distance</th>\n",
       "      <th>duration</th>\n",
       "      <th>date</th>\n",
       "    </tr>\n",
       "  </thead>\n",
       "  <tbody>\n",
       "    <tr>\n",
       "      <th>0</th>\n",
       "      <td>1</td>\n",
       "      <td>4409.919140</td>\n",
       "      <td>25.599769</td>\n",
       "      <td>2021-01-01</td>\n",
       "    </tr>\n",
       "    <tr>\n",
       "      <th>1</th>\n",
       "      <td>1</td>\n",
       "      <td>2617.592153</td>\n",
       "      <td>15.816871</td>\n",
       "      <td>2021-01-18</td>\n",
       "    </tr>\n",
       "    <tr>\n",
       "      <th>2</th>\n",
       "      <td>1</td>\n",
       "      <td>754.159807</td>\n",
       "      <td>6.232113</td>\n",
       "      <td>2021-04-20</td>\n",
       "    </tr>\n",
       "    <tr>\n",
       "      <th>3</th>\n",
       "      <td>1</td>\n",
       "      <td>2694.783254</td>\n",
       "      <td>18.511000</td>\n",
       "      <td>2021-08-11</td>\n",
       "    </tr>\n",
       "    <tr>\n",
       "      <th>4</th>\n",
       "      <td>1</td>\n",
       "      <td>4028.687306</td>\n",
       "      <td>26.265803</td>\n",
       "      <td>2021-08-28</td>\n",
       "    </tr>\n",
       "  </tbody>\n",
       "</table>\n",
       "</div>"
      ],
      "text/plain": [
       "   user_id     distance   duration       date\n",
       "0        1  4409.919140  25.599769 2021-01-01\n",
       "1        1  2617.592153  15.816871 2021-01-18\n",
       "2        1   754.159807   6.232113 2021-04-20\n",
       "3        1  2694.783254  18.511000 2021-08-11\n",
       "4        1  4028.687306  26.265803 2021-08-28"
      ]
     },
     "execution_count": 11,
     "metadata": {},
     "output_type": "execute_result"
    }
   ],
   "source": [
    "rides.head(5)"
   ]
  },
  {
   "cell_type": "code",
   "execution_count": 12,
   "id": "38e603d8",
   "metadata": {},
   "outputs": [],
   "source": [
    "# Добавим в riders столбец с номером месяца\n",
    "rides['month'] = rides['date'].dt.month"
   ]
  },
  {
   "cell_type": "code",
   "execution_count": 13,
   "id": "70dc682c",
   "metadata": {},
   "outputs": [
    {
     "data": {
      "text/plain": [
       "array([ 1,  4,  8, 10, 11, 12,  3,  6,  7,  2,  5,  9])"
      ]
     },
     "execution_count": 13,
     "metadata": {},
     "output_type": "execute_result"
    }
   ],
   "source": [
    "rides['month'].unique()"
   ]
  },
  {
   "cell_type": "code",
   "execution_count": 14,
   "id": "319ec6a7",
   "metadata": {},
   "outputs": [
    {
     "data": {
      "text/html": [
       "<div>\n",
       "<style scoped>\n",
       "    .dataframe tbody tr th:only-of-type {\n",
       "        vertical-align: middle;\n",
       "    }\n",
       "\n",
       "    .dataframe tbody tr th {\n",
       "        vertical-align: top;\n",
       "    }\n",
       "\n",
       "    .dataframe thead th {\n",
       "        text-align: right;\n",
       "    }\n",
       "</style>\n",
       "<table border=\"1\" class=\"dataframe\">\n",
       "  <thead>\n",
       "    <tr style=\"text-align: right;\">\n",
       "      <th></th>\n",
       "      <th>user_id</th>\n",
       "      <th>distance</th>\n",
       "      <th>duration</th>\n",
       "      <th>date</th>\n",
       "      <th>month</th>\n",
       "    </tr>\n",
       "  </thead>\n",
       "  <tbody>\n",
       "    <tr>\n",
       "      <th>0</th>\n",
       "      <td>1</td>\n",
       "      <td>4409.919140</td>\n",
       "      <td>25.599769</td>\n",
       "      <td>2021-01-01</td>\n",
       "      <td>1</td>\n",
       "    </tr>\n",
       "    <tr>\n",
       "      <th>1</th>\n",
       "      <td>1</td>\n",
       "      <td>2617.592153</td>\n",
       "      <td>15.816871</td>\n",
       "      <td>2021-01-18</td>\n",
       "      <td>1</td>\n",
       "    </tr>\n",
       "    <tr>\n",
       "      <th>2</th>\n",
       "      <td>1</td>\n",
       "      <td>754.159807</td>\n",
       "      <td>6.232113</td>\n",
       "      <td>2021-04-20</td>\n",
       "      <td>4</td>\n",
       "    </tr>\n",
       "    <tr>\n",
       "      <th>3</th>\n",
       "      <td>1</td>\n",
       "      <td>2694.783254</td>\n",
       "      <td>18.511000</td>\n",
       "      <td>2021-08-11</td>\n",
       "      <td>8</td>\n",
       "    </tr>\n",
       "    <tr>\n",
       "      <th>4</th>\n",
       "      <td>1</td>\n",
       "      <td>4028.687306</td>\n",
       "      <td>26.265803</td>\n",
       "      <td>2021-08-28</td>\n",
       "      <td>8</td>\n",
       "    </tr>\n",
       "  </tbody>\n",
       "</table>\n",
       "</div>"
      ],
      "text/plain": [
       "   user_id     distance   duration       date  month\n",
       "0        1  4409.919140  25.599769 2021-01-01      1\n",
       "1        1  2617.592153  15.816871 2021-01-18      1\n",
       "2        1   754.159807   6.232113 2021-04-20      4\n",
       "3        1  2694.783254  18.511000 2021-08-11      8\n",
       "4        1  4028.687306  26.265803 2021-08-28      8"
      ]
     },
     "execution_count": 14,
     "metadata": {},
     "output_type": "execute_result"
    }
   ],
   "source": [
    "rides.head(5)"
   ]
  },
  {
   "cell_type": "code",
   "execution_count": 15,
   "id": "de75ed5e",
   "metadata": {},
   "outputs": [
    {
     "name": "stdout",
     "output_type": "stream",
     "text": [
      "Число дубликатов в users: 31\n",
      "Число дубликатов в subs: 0\n",
      "Число дубликатов в rides: 0\n"
     ]
    }
   ],
   "source": [
    "# Проверяем на дубликаты\n",
    "print('Число дубликатов в users:', users.duplicated().sum())\n",
    "print('Число дубликатов в subs:', subs.duplicated().sum())\n",
    "print('Число дубликатов в rides:', rides.duplicated().sum())"
   ]
  },
  {
   "cell_type": "code",
   "execution_count": 16,
   "id": "5a9e066d",
   "metadata": {},
   "outputs": [
    {
     "data": {
      "text/plain": [
       "1565"
      ]
     },
     "execution_count": 16,
     "metadata": {},
     "output_type": "execute_result"
    }
   ],
   "source": [
    "len(users)"
   ]
  },
  {
   "cell_type": "code",
   "execution_count": 17,
   "id": "91c5b10d",
   "metadata": {},
   "outputs": [
    {
     "data": {
      "text/plain": [
       "1534"
      ]
     },
     "execution_count": 17,
     "metadata": {},
     "output_type": "execute_result"
    }
   ],
   "source": [
    "# Удаление дубликатов в users\n",
    "users = users.drop_duplicates().reset_index(drop='True')\n",
    "len(users)"
   ]
  },
  {
   "cell_type": "code",
   "execution_count": 18,
   "id": "1840c057",
   "metadata": {},
   "outputs": [
    {
     "name": "stdout",
     "output_type": "stream",
     "text": [
      "user_id              0\n",
      "name                 0\n",
      "age                  0\n",
      "city                 0\n",
      "subscription_type    0\n",
      "dtype: int64\n"
     ]
    }
   ],
   "source": [
    "# Проверяем на пропуски\n",
    "print(users.isna().sum())"
   ]
  },
  {
   "cell_type": "code",
   "execution_count": 19,
   "id": "93a8cb22",
   "metadata": {},
   "outputs": [
    {
     "name": "stdout",
     "output_type": "stream",
     "text": [
      "subscription_type    0\n",
      "minute_price         0\n",
      "start_ride_price     0\n",
      "subscription_fee     0\n",
      "dtype: int64\n"
     ]
    }
   ],
   "source": [
    "print(subs.isna().sum())"
   ]
  },
  {
   "cell_type": "code",
   "execution_count": 20,
   "id": "3c01c692",
   "metadata": {},
   "outputs": [
    {
     "name": "stdout",
     "output_type": "stream",
     "text": [
      "user_id     0\n",
      "distance    0\n",
      "duration    0\n",
      "date        0\n",
      "month       0\n",
      "dtype: int64\n"
     ]
    }
   ],
   "source": [
    "print(rides.isna().sum())"
   ]
  },
  {
   "cell_type": "markdown",
   "id": "20dd15c2",
   "metadata": {},
   "source": [
    "# Вывод: \n",
    "Поменяли формат данных в столбце date и создали новую колонку с номером месяца поездки. Удалили дубликаты в users, проверили на пропуски."
   ]
  },
  {
   "cell_type": "markdown",
   "id": "212593c7",
   "metadata": {},
   "source": [
    "# Шаг 3. Исследовательский анализ данных"
   ]
  },
  {
   "cell_type": "code",
   "execution_count": 21,
   "id": "e3a4274c",
   "metadata": {},
   "outputs": [
    {
     "data": {
      "text/html": [
       "<div>\n",
       "<style scoped>\n",
       "    .dataframe tbody tr th:only-of-type {\n",
       "        vertical-align: middle;\n",
       "    }\n",
       "\n",
       "    .dataframe tbody tr th {\n",
       "        vertical-align: top;\n",
       "    }\n",
       "\n",
       "    .dataframe thead th {\n",
       "        text-align: right;\n",
       "    }\n",
       "</style>\n",
       "<table border=\"1\" class=\"dataframe\">\n",
       "  <thead>\n",
       "    <tr style=\"text-align: right;\">\n",
       "      <th></th>\n",
       "      <th>users</th>\n",
       "    </tr>\n",
       "    <tr>\n",
       "      <th>city</th>\n",
       "      <th></th>\n",
       "    </tr>\n",
       "  </thead>\n",
       "  <tbody>\n",
       "    <tr>\n",
       "      <th>Пятигорск</th>\n",
       "      <td>219</td>\n",
       "    </tr>\n",
       "    <tr>\n",
       "      <th>Екатеринбург</th>\n",
       "      <td>204</td>\n",
       "    </tr>\n",
       "    <tr>\n",
       "      <th>Ростов-на-Дону</th>\n",
       "      <td>198</td>\n",
       "    </tr>\n",
       "    <tr>\n",
       "      <th>Краснодар</th>\n",
       "      <td>193</td>\n",
       "    </tr>\n",
       "    <tr>\n",
       "      <th>Сочи</th>\n",
       "      <td>189</td>\n",
       "    </tr>\n",
       "    <tr>\n",
       "      <th>Омск</th>\n",
       "      <td>183</td>\n",
       "    </tr>\n",
       "    <tr>\n",
       "      <th>Тюмень</th>\n",
       "      <td>180</td>\n",
       "    </tr>\n",
       "    <tr>\n",
       "      <th>Москва</th>\n",
       "      <td>168</td>\n",
       "    </tr>\n",
       "  </tbody>\n",
       "</table>\n",
       "</div>"
      ],
      "text/plain": [
       "                users\n",
       "city                 \n",
       "Пятигорск         219\n",
       "Екатеринбург      204\n",
       "Ростов-на-Дону    198\n",
       "Краснодар         193\n",
       "Сочи              189\n",
       "Омск              183\n",
       "Тюмень            180\n",
       "Москва            168"
      ]
     },
     "execution_count": 21,
     "metadata": {},
     "output_type": "execute_result"
    }
   ],
   "source": [
    "#Считаем количество пользователей в городах с помощью сводной таблицы\n",
    "city_pivot = users.pivot_table(index='city', values='user_id', aggfunc='count')\n",
    "city_pivot_sorted = city_pivot.sort_values(by='user_id', ascending=False)\n",
    "city_pivot_sorted.columns = ['users']\n",
    "city_pivot_sorted"
   ]
  },
  {
   "cell_type": "code",
   "execution_count": 22,
   "id": "efba8dac",
   "metadata": {},
   "outputs": [
    {
     "data": {
      "image/png": "[encoded data removed]",
      "text/plain": [
       "<Figure size 432x288 with 1 Axes>"
      ]
     },
     "metadata": {
      "needs_background": "light"
     },
     "output_type": "display_data"
    }
   ],
   "source": [
    "city_pivot_sorted.plot(kind='barh',\n",
    "                       grid=True,\n",
    "                       title='Количество пользователей в городах');\n",
    "plt.ylabel('Город')\n",
    "plt.xlabel('Количество пользователей');"
   ]
  },
  {
   "cell_type": "markdown",
   "id": "5dc56830",
   "metadata": {},
   "source": [
    "Самым распространненым городом является Пятигорск, Москва же наоборот, встречается реже всего"
   ]
  },
  {
   "cell_type": "code",
   "execution_count": 23,
   "id": "4a8b8d17",
   "metadata": {},
   "outputs": [
    {
     "data": {
      "image/png": "[encoded data removed]",
      "text/plain": [
       "<Figure size 504x504 with 1 Axes>"
      ]
     },
     "metadata": {},
     "output_type": "display_data"
    }
   ],
   "source": [
    "# Создаем счетчик значений 'subscription_type'\n",
    "subscription_counts = users['subscription_type'].value_counts()\n",
    "\n",
    "# Строим круговую диаграмму\n",
    "plt.figure(figsize=(7, 7))\n",
    "plt.pie(subscription_counts, labels=subscription_counts.index, autopct='%1.1f%%', startangle=200)\n",
    "plt.axis('equal')\n",
    "plt.title('Соотношение пользователей с подпиской и без подписки', fontsize=17)\n",
    "plt.show();"
   ]
  },
  {
   "cell_type": "markdown",
   "id": "0f1d27a2",
   "metadata": {},
   "source": [
    "Пользователей без платной подписки на 8,8% больше"
   ]
  },
  {
   "cell_type": "code",
   "execution_count": 24,
   "id": "48c94973",
   "metadata": {},
   "outputs": [
    {
     "name": "stdout",
     "output_type": "stream",
     "text": [
      "Средний возраст - 25.0\n"
     ]
    }
   ],
   "source": [
    "#Средний возраст пользователей\n",
    "print('Средний возраст -',users['age'].sort_values().median())"
   ]
  },
  {
   "cell_type": "code",
   "execution_count": 25,
   "id": "e9078ada",
   "metadata": {},
   "outputs": [
    {
     "data": {
      "text/plain": [
       "count    1534.000000\n",
       "mean       24.903520\n",
       "std         4.572367\n",
       "min        12.000000\n",
       "25%        22.000000\n",
       "50%        25.000000\n",
       "75%        28.000000\n",
       "max        43.000000\n",
       "Name: age, dtype: float64"
      ]
     },
     "execution_count": 25,
     "metadata": {},
     "output_type": "execute_result"
    }
   ],
   "source": [
    "users['age'].describe()"
   ]
  },
  {
   "cell_type": "code",
   "execution_count": 26,
   "id": "7ef4a0cc",
   "metadata": {},
   "outputs": [
    {
     "data": {
      "image/png": "[encoded data removed]",
      "text/plain": [
       "<Figure size 1080x720 with 1 Axes>"
      ]
     },
     "metadata": {
      "needs_background": "light"
     },
     "output_type": "display_data"
    }
   ],
   "source": [
    "users.hist(column='age',\n",
    "           bins = 15,\n",
    "           grid=True,\n",
    "           figsize = (15,10))\n",
    "plt.title('Гистограмма распределения возраста пользователей')\n",
    "plt.xlabel('Возраст')\n",
    "plt.ylabel('Частота')\n",
    "plt.show()"
   ]
  },
  {
   "cell_type": "markdown",
   "id": "178df694",
   "metadata": {},
   "source": [
    "Основной возраст пользователей распределен от 20 до 30 лет. Медианное значение возраста пользователей 25 лет Максимальный возраст пользователей сервиса - 43 года, минимальный - 12 лет. Особых аномалий не замечено."
   ]
  },
  {
   "cell_type": "code",
   "execution_count": 27,
   "id": "689f23c4",
   "metadata": {},
   "outputs": [
    {
     "name": "stdout",
     "output_type": "stream",
     "text": [
      "Среднее расстояние - 3070.66 метров\n"
     ]
    }
   ],
   "source": [
    "#Среднее расстояние поездок\n",
    "print('Среднее расстояние -',round(rides['distance'].sort_values().mean(),2),'метров')"
   ]
  },
  {
   "cell_type": "code",
   "execution_count": 28,
   "id": "c033a29a",
   "metadata": {},
   "outputs": [
    {
     "data": {
      "text/plain": [
       "count    18068.000000\n",
       "mean      3070.659976\n",
       "std       1116.831209\n",
       "min          0.855683\n",
       "25%       2543.226360\n",
       "50%       3133.609994\n",
       "75%       3776.222735\n",
       "max       7211.007745\n",
       "Name: distance, dtype: float64"
      ]
     },
     "execution_count": 28,
     "metadata": {},
     "output_type": "execute_result"
    }
   ],
   "source": [
    "rides['distance'].describe()"
   ]
  },
  {
   "cell_type": "code",
   "execution_count": 29,
   "id": "4a22dce4",
   "metadata": {},
   "outputs": [
    {
     "data": {
      "image/png": "[encoded data removed]",
      "text/plain": [
       "<Figure size 864x360 with 1 Axes>"
      ]
     },
     "metadata": {
      "needs_background": "light"
     },
     "output_type": "display_data"
    }
   ],
   "source": [
    "#Выведем график\n",
    "ax = rides['distance'].plot(kind='hist', bins=50, figsize=(12,5), grid = True)\n",
    "ax.set_title('Расстояние, которое пользователь преодолел за одну поездку')\n",
    "ax.set_xlabel('Метры')\n",
    "ax.set_ylabel('Количество поездок')\n",
    "ax.set_xlim(left=0)\n",
    "plt.show()"
   ]
  },
  {
   "cell_type": "markdown",
   "id": "8b026d5b",
   "metadata": {},
   "source": [
    "Средняя поездка одного пользователя около 3000 метров , чаще всего пользователи проезжают от 2500 до 3500 метров. Максимально пользователи проезжают 7211 метров. Минимальная поездка составляет меньше метра, что может быть выбросом, но из-за небольшого количества значений лучше не удалять, кроме того, на график эти значения сильно не влияют."
   ]
  },
  {
   "cell_type": "code",
   "execution_count": 30,
   "id": "cb8de8d8",
   "metadata": {},
   "outputs": [
    {
     "name": "stdout",
     "output_type": "stream",
     "text": [
      "Среднее время поездки - 17.81 минут\n"
     ]
    }
   ],
   "source": [
    "#Среднее время поездки\n",
    "print('Среднее время поездки -',round(rides['duration'].sort_values().mean(),2),'минут')"
   ]
  },
  {
   "cell_type": "code",
   "execution_count": 31,
   "id": "e2649882",
   "metadata": {},
   "outputs": [
    {
     "data": {
      "text/plain": [
       "count    18068.000000\n",
       "mean        17.805011\n",
       "std          6.091051\n",
       "min          0.500000\n",
       "25%         13.597563\n",
       "50%         17.678395\n",
       "75%         21.724800\n",
       "max         40.823963\n",
       "Name: duration, dtype: float64"
      ]
     },
     "execution_count": 31,
     "metadata": {},
     "output_type": "execute_result"
    }
   ],
   "source": [
    "rides['duration'].describe()"
   ]
  },
  {
   "cell_type": "code",
   "execution_count": 32,
   "id": "78ccfbcc",
   "metadata": {},
   "outputs": [
    {
     "data": {
      "image/png": "[encoded data removed]",
      "text/plain": [
       "<Figure size 864x432 with 1 Axes>"
      ]
     },
     "metadata": {
      "needs_background": "light"
     },
     "output_type": "display_data"
    }
   ],
   "source": [
    "#Выведем график\n",
    "ax = rides['duration'].plot(kind='hist', bins=50, figsize=(12,6), grid = True)\n",
    "ax.set_title('Продолжительность поездок')\n",
    "ax.set_xlabel('Минуты')\n",
    "ax.set_ylabel('Количество поездок')\n",
    "ax.set_xlim(left=0)\n",
    "plt.show()"
   ]
  },
  {
   "cell_type": "markdown",
   "id": "7b61f56c",
   "metadata": {},
   "source": [
    "Большая часть поездок имеет продолжительность от 10 до 22 минут. Присутствует небольшое количество выбросов в диапазоне 0.5 минут и свыше 33 минут. Минимальная продолжительность поездки составляет 0.5. Максимальное значение 40.8. В среднем поездка на самокате длится около 18 минут."
   ]
  },
  {
   "cell_type": "code",
   "execution_count": 33,
   "id": "83b04976",
   "metadata": {},
   "outputs": [
    {
     "data": {
      "text/html": [
       "<div>\n",
       "<style scoped>\n",
       "    .dataframe tbody tr th:only-of-type {\n",
       "        vertical-align: middle;\n",
       "    }\n",
       "\n",
       "    .dataframe tbody tr th {\n",
       "        vertical-align: top;\n",
       "    }\n",
       "\n",
       "    .dataframe thead th {\n",
       "        text-align: right;\n",
       "    }\n",
       "</style>\n",
       "<table border=\"1\" class=\"dataframe\">\n",
       "  <thead>\n",
       "    <tr style=\"text-align: right;\">\n",
       "      <th></th>\n",
       "      <th>user_id</th>\n",
       "      <th>distance</th>\n",
       "      <th>duration</th>\n",
       "      <th>date</th>\n",
       "      <th>month</th>\n",
       "    </tr>\n",
       "  </thead>\n",
       "  <tbody>\n",
       "    <tr>\n",
       "      <th>6531</th>\n",
       "      <td>701</td>\n",
       "      <td>4196.445201</td>\n",
       "      <td>0.5</td>\n",
       "      <td>2021-08-31</td>\n",
       "      <td>8</td>\n",
       "    </tr>\n",
       "    <tr>\n",
       "      <th>6570</th>\n",
       "      <td>704</td>\n",
       "      <td>4830.824371</td>\n",
       "      <td>0.5</td>\n",
       "      <td>2021-10-14</td>\n",
       "      <td>10</td>\n",
       "    </tr>\n",
       "    <tr>\n",
       "      <th>6680</th>\n",
       "      <td>712</td>\n",
       "      <td>4684.004397</td>\n",
       "      <td>0.5</td>\n",
       "      <td>2021-03-04</td>\n",
       "      <td>3</td>\n",
       "    </tr>\n",
       "    <tr>\n",
       "      <th>6695</th>\n",
       "      <td>713</td>\n",
       "      <td>5215.642710</td>\n",
       "      <td>0.5</td>\n",
       "      <td>2021-02-25</td>\n",
       "      <td>2</td>\n",
       "    </tr>\n",
       "    <tr>\n",
       "      <th>6768</th>\n",
       "      <td>718</td>\n",
       "      <td>5197.436649</td>\n",
       "      <td>0.5</td>\n",
       "      <td>2021-02-11</td>\n",
       "      <td>2</td>\n",
       "    </tr>\n",
       "  </tbody>\n",
       "</table>\n",
       "</div>"
      ],
      "text/plain": [
       "      user_id     distance  duration       date  month\n",
       "6531      701  4196.445201       0.5 2021-08-31      8\n",
       "6570      704  4830.824371       0.5 2021-10-14     10\n",
       "6680      712  4684.004397       0.5 2021-03-04      3\n",
       "6695      713  5215.642710       0.5 2021-02-25      2\n",
       "6768      718  5197.436649       0.5 2021-02-11      2"
      ]
     },
     "execution_count": 33,
     "metadata": {},
     "output_type": "execute_result"
    }
   ],
   "source": [
    "rides.loc[rides['duration'] == 0.5].head()"
   ]
  },
  {
   "cell_type": "markdown",
   "id": "ed9b2c95",
   "metadata": {},
   "source": [
    "# Вывод: \n",
    "- Больше всего пользователей в Пятигорске, меньше всего в Москве.\n",
    "- Пользователей без подписки больше на 8,8% чем пользователей с подпиской.\n",
    "- Основной возраст пользователей распределен от 20 до 30 лет. Медианное значение возраста пользователей 25 лет.\n",
    "- Средняя поездка одного пользователся около 3000 метров , чаще всего пользователи проезжают от 2500 до 3500 метров.\n",
    "- Средняя продолжительность одной поездки 17 минут. Чаще всего продолжительность поездки лежит в диапазоне от 13 до 22 минут.\n",
    "- Присутствует небольшое количество выбросов в диапазоне 0.5 минут и свыше 33 минут"
   ]
  },
  {
   "cell_type": "markdown",
   "id": "4ef51331",
   "metadata": {},
   "source": [
    "# Шаг 4. Объединение данных"
   ]
  },
  {
   "cell_type": "code",
   "execution_count": 34,
   "id": "ccc55c1f",
   "metadata": {},
   "outputs": [
    {
     "name": "stdout",
     "output_type": "stream",
     "text": [
      "<class 'pandas.core.frame.DataFrame'>\n",
      "RangeIndex: 1534 entries, 0 to 1533\n",
      "Data columns (total 5 columns):\n",
      " #   Column             Non-Null Count  Dtype \n",
      "---  ------             --------------  ----- \n",
      " 0   user_id            1534 non-null   int64 \n",
      " 1   name               1534 non-null   object\n",
      " 2   age                1534 non-null   int64 \n",
      " 3   city               1534 non-null   object\n",
      " 4   subscription_type  1534 non-null   object\n",
      "dtypes: int64(2), object(3)\n",
      "memory usage: 60.0+ KB\n"
     ]
    }
   ],
   "source": [
    "users.info()"
   ]
  },
  {
   "cell_type": "markdown",
   "id": "22f5ffc6",
   "metadata": {},
   "source": [
    "Датафрейм users состоит из 1534 строк и 5 столбцов"
   ]
  },
  {
   "cell_type": "code",
   "execution_count": 35,
   "id": "8986c36a",
   "metadata": {},
   "outputs": [
    {
     "name": "stdout",
     "output_type": "stream",
     "text": [
      "<class 'pandas.core.frame.DataFrame'>\n",
      "RangeIndex: 18068 entries, 0 to 18067\n",
      "Data columns (total 5 columns):\n",
      " #   Column    Non-Null Count  Dtype         \n",
      "---  ------    --------------  -----         \n",
      " 0   user_id   18068 non-null  int64         \n",
      " 1   distance  18068 non-null  float64       \n",
      " 2   duration  18068 non-null  float64       \n",
      " 3   date      18068 non-null  datetime64[ns]\n",
      " 4   month     18068 non-null  int64         \n",
      "dtypes: datetime64[ns](1), float64(2), int64(2)\n",
      "memory usage: 705.9 KB\n"
     ]
    }
   ],
   "source": [
    "rides.info()"
   ]
  },
  {
   "cell_type": "markdown",
   "id": "4a071c16",
   "metadata": {},
   "source": [
    "Датафрейм rides состоит из 18068 строк и 5 столбцов"
   ]
  },
  {
   "cell_type": "code",
   "execution_count": 36,
   "id": "97e8a1d4",
   "metadata": {},
   "outputs": [
    {
     "name": "stdout",
     "output_type": "stream",
     "text": [
      "<class 'pandas.core.frame.DataFrame'>\n",
      "RangeIndex: 2 entries, 0 to 1\n",
      "Data columns (total 4 columns):\n",
      " #   Column             Non-Null Count  Dtype \n",
      "---  ------             --------------  ----- \n",
      " 0   subscription_type  2 non-null      object\n",
      " 1   minute_price       2 non-null      int64 \n",
      " 2   start_ride_price   2 non-null      int64 \n",
      " 3   subscription_fee   2 non-null      int64 \n",
      "dtypes: int64(3), object(1)\n",
      "memory usage: 192.0+ bytes\n"
     ]
    }
   ],
   "source": [
    "subs.info()"
   ]
  },
  {
   "cell_type": "markdown",
   "id": "da8bfabd",
   "metadata": {},
   "source": [
    "Датафрейм subs состоит из 2 строк и 4 столбцов"
   ]
  },
  {
   "cell_type": "code",
   "execution_count": 37,
   "id": "d2b3a9cf",
   "metadata": {},
   "outputs": [
    {
     "data": {
      "text/html": [
       "<div>\n",
       "<style scoped>\n",
       "    .dataframe tbody tr th:only-of-type {\n",
       "        vertical-align: middle;\n",
       "    }\n",
       "\n",
       "    .dataframe tbody tr th {\n",
       "        vertical-align: top;\n",
       "    }\n",
       "\n",
       "    .dataframe thead th {\n",
       "        text-align: right;\n",
       "    }\n",
       "</style>\n",
       "<table border=\"1\" class=\"dataframe\">\n",
       "  <thead>\n",
       "    <tr style=\"text-align: right;\">\n",
       "      <th></th>\n",
       "      <th>user_id</th>\n",
       "      <th>name</th>\n",
       "      <th>age</th>\n",
       "      <th>city</th>\n",
       "      <th>subscription_type</th>\n",
       "      <th>distance</th>\n",
       "      <th>duration</th>\n",
       "      <th>date</th>\n",
       "      <th>month</th>\n",
       "    </tr>\n",
       "  </thead>\n",
       "  <tbody>\n",
       "    <tr>\n",
       "      <th>0</th>\n",
       "      <td>1</td>\n",
       "      <td>Кира</td>\n",
       "      <td>22</td>\n",
       "      <td>Тюмень</td>\n",
       "      <td>ultra</td>\n",
       "      <td>4409.919140</td>\n",
       "      <td>25.599769</td>\n",
       "      <td>2021-01-01</td>\n",
       "      <td>1</td>\n",
       "    </tr>\n",
       "    <tr>\n",
       "      <th>1</th>\n",
       "      <td>1</td>\n",
       "      <td>Кира</td>\n",
       "      <td>22</td>\n",
       "      <td>Тюмень</td>\n",
       "      <td>ultra</td>\n",
       "      <td>2617.592153</td>\n",
       "      <td>15.816871</td>\n",
       "      <td>2021-01-18</td>\n",
       "      <td>1</td>\n",
       "    </tr>\n",
       "    <tr>\n",
       "      <th>2</th>\n",
       "      <td>1</td>\n",
       "      <td>Кира</td>\n",
       "      <td>22</td>\n",
       "      <td>Тюмень</td>\n",
       "      <td>ultra</td>\n",
       "      <td>754.159807</td>\n",
       "      <td>6.232113</td>\n",
       "      <td>2021-04-20</td>\n",
       "      <td>4</td>\n",
       "    </tr>\n",
       "    <tr>\n",
       "      <th>3</th>\n",
       "      <td>1</td>\n",
       "      <td>Кира</td>\n",
       "      <td>22</td>\n",
       "      <td>Тюмень</td>\n",
       "      <td>ultra</td>\n",
       "      <td>2694.783254</td>\n",
       "      <td>18.511000</td>\n",
       "      <td>2021-08-11</td>\n",
       "      <td>8</td>\n",
       "    </tr>\n",
       "    <tr>\n",
       "      <th>4</th>\n",
       "      <td>1</td>\n",
       "      <td>Кира</td>\n",
       "      <td>22</td>\n",
       "      <td>Тюмень</td>\n",
       "      <td>ultra</td>\n",
       "      <td>4028.687306</td>\n",
       "      <td>26.265803</td>\n",
       "      <td>2021-08-28</td>\n",
       "      <td>8</td>\n",
       "    </tr>\n",
       "  </tbody>\n",
       "</table>\n",
       "</div>"
      ],
      "text/plain": [
       "   user_id  name  age    city subscription_type     distance   duration  \\\n",
       "0        1  Кира   22  Тюмень             ultra  4409.919140  25.599769   \n",
       "1        1  Кира   22  Тюмень             ultra  2617.592153  15.816871   \n",
       "2        1  Кира   22  Тюмень             ultra   754.159807   6.232113   \n",
       "3        1  Кира   22  Тюмень             ultra  2694.783254  18.511000   \n",
       "4        1  Кира   22  Тюмень             ultra  4028.687306  26.265803   \n",
       "\n",
       "        date  month  \n",
       "0 2021-01-01      1  \n",
       "1 2021-01-18      1  \n",
       "2 2021-04-20      4  \n",
       "3 2021-08-11      8  \n",
       "4 2021-08-28      8  "
      ]
     },
     "execution_count": 37,
     "metadata": {},
     "output_type": "execute_result"
    }
   ],
   "source": [
    "merged_table = users.merge(rides, on='user_id', how='left')\n",
    "merged_table.head(5)"
   ]
  },
  {
   "cell_type": "code",
   "execution_count": 38,
   "id": "3e24cecf",
   "metadata": {},
   "outputs": [
    {
     "data": {
      "text/html": [
       "<div>\n",
       "<style scoped>\n",
       "    .dataframe tbody tr th:only-of-type {\n",
       "        vertical-align: middle;\n",
       "    }\n",
       "\n",
       "    .dataframe tbody tr th {\n",
       "        vertical-align: top;\n",
       "    }\n",
       "\n",
       "    .dataframe thead th {\n",
       "        text-align: right;\n",
       "    }\n",
       "</style>\n",
       "<table border=\"1\" class=\"dataframe\">\n",
       "  <thead>\n",
       "    <tr style=\"text-align: right;\">\n",
       "      <th></th>\n",
       "      <th>user_id</th>\n",
       "      <th>name</th>\n",
       "      <th>age</th>\n",
       "      <th>city</th>\n",
       "      <th>subscription_type</th>\n",
       "      <th>distance</th>\n",
       "      <th>duration</th>\n",
       "      <th>date</th>\n",
       "      <th>month</th>\n",
       "      <th>minute_price</th>\n",
       "      <th>start_ride_price</th>\n",
       "      <th>subscription_fee</th>\n",
       "    </tr>\n",
       "  </thead>\n",
       "  <tbody>\n",
       "    <tr>\n",
       "      <th>0</th>\n",
       "      <td>1</td>\n",
       "      <td>Кира</td>\n",
       "      <td>22</td>\n",
       "      <td>Тюмень</td>\n",
       "      <td>ultra</td>\n",
       "      <td>4409.919140</td>\n",
       "      <td>25.599769</td>\n",
       "      <td>2021-01-01</td>\n",
       "      <td>1</td>\n",
       "      <td>6</td>\n",
       "      <td>0</td>\n",
       "      <td>199</td>\n",
       "    </tr>\n",
       "    <tr>\n",
       "      <th>1</th>\n",
       "      <td>1</td>\n",
       "      <td>Кира</td>\n",
       "      <td>22</td>\n",
       "      <td>Тюмень</td>\n",
       "      <td>ultra</td>\n",
       "      <td>2617.592153</td>\n",
       "      <td>15.816871</td>\n",
       "      <td>2021-01-18</td>\n",
       "      <td>1</td>\n",
       "      <td>6</td>\n",
       "      <td>0</td>\n",
       "      <td>199</td>\n",
       "    </tr>\n",
       "    <tr>\n",
       "      <th>2</th>\n",
       "      <td>1</td>\n",
       "      <td>Кира</td>\n",
       "      <td>22</td>\n",
       "      <td>Тюмень</td>\n",
       "      <td>ultra</td>\n",
       "      <td>754.159807</td>\n",
       "      <td>6.232113</td>\n",
       "      <td>2021-04-20</td>\n",
       "      <td>4</td>\n",
       "      <td>6</td>\n",
       "      <td>0</td>\n",
       "      <td>199</td>\n",
       "    </tr>\n",
       "    <tr>\n",
       "      <th>3</th>\n",
       "      <td>1</td>\n",
       "      <td>Кира</td>\n",
       "      <td>22</td>\n",
       "      <td>Тюмень</td>\n",
       "      <td>ultra</td>\n",
       "      <td>2694.783254</td>\n",
       "      <td>18.511000</td>\n",
       "      <td>2021-08-11</td>\n",
       "      <td>8</td>\n",
       "      <td>6</td>\n",
       "      <td>0</td>\n",
       "      <td>199</td>\n",
       "    </tr>\n",
       "    <tr>\n",
       "      <th>4</th>\n",
       "      <td>1</td>\n",
       "      <td>Кира</td>\n",
       "      <td>22</td>\n",
       "      <td>Тюмень</td>\n",
       "      <td>ultra</td>\n",
       "      <td>4028.687306</td>\n",
       "      <td>26.265803</td>\n",
       "      <td>2021-08-28</td>\n",
       "      <td>8</td>\n",
       "      <td>6</td>\n",
       "      <td>0</td>\n",
       "      <td>199</td>\n",
       "    </tr>\n",
       "  </tbody>\n",
       "</table>\n",
       "</div>"
      ],
      "text/plain": [
       "   user_id  name  age    city subscription_type     distance   duration  \\\n",
       "0        1  Кира   22  Тюмень             ultra  4409.919140  25.599769   \n",
       "1        1  Кира   22  Тюмень             ultra  2617.592153  15.816871   \n",
       "2        1  Кира   22  Тюмень             ultra   754.159807   6.232113   \n",
       "3        1  Кира   22  Тюмень             ultra  2694.783254  18.511000   \n",
       "4        1  Кира   22  Тюмень             ultra  4028.687306  26.265803   \n",
       "\n",
       "        date  month  minute_price  start_ride_price  subscription_fee  \n",
       "0 2021-01-01      1             6                 0               199  \n",
       "1 2021-01-18      1             6                 0               199  \n",
       "2 2021-04-20      4             6                 0               199  \n",
       "3 2021-08-11      8             6                 0               199  \n",
       "4 2021-08-28      8             6                 0               199  "
      ]
     },
     "execution_count": 38,
     "metadata": {},
     "output_type": "execute_result"
    }
   ],
   "source": [
    "merged_table = merged_table.merge(subs, on='subscription_type', how='left')\n",
    "merged_table.head(5)"
   ]
  },
  {
   "cell_type": "code",
   "execution_count": 39,
   "id": "47342f04",
   "metadata": {},
   "outputs": [
    {
     "name": "stdout",
     "output_type": "stream",
     "text": [
      "<class 'pandas.core.frame.DataFrame'>\n",
      "Int64Index: 18068 entries, 0 to 18067\n",
      "Data columns (total 12 columns):\n",
      " #   Column             Non-Null Count  Dtype         \n",
      "---  ------             --------------  -----         \n",
      " 0   user_id            18068 non-null  int64         \n",
      " 1   name               18068 non-null  object        \n",
      " 2   age                18068 non-null  int64         \n",
      " 3   city               18068 non-null  object        \n",
      " 4   subscription_type  18068 non-null  object        \n",
      " 5   distance           18068 non-null  float64       \n",
      " 6   duration           18068 non-null  float64       \n",
      " 7   date               18068 non-null  datetime64[ns]\n",
      " 8   month              18068 non-null  int64         \n",
      " 9   minute_price       18068 non-null  int64         \n",
      " 10  start_ride_price   18068 non-null  int64         \n",
      " 11  subscription_fee   18068 non-null  int64         \n",
      "dtypes: datetime64[ns](1), float64(2), int64(6), object(3)\n",
      "memory usage: 1.8+ MB\n"
     ]
    }
   ],
   "source": [
    "merged_table.info()"
   ]
  },
  {
   "cell_type": "code",
   "execution_count": 40,
   "id": "a2ae6027",
   "metadata": {},
   "outputs": [
    {
     "data": {
      "text/plain": [
       "18068"
      ]
     },
     "execution_count": 40,
     "metadata": {},
     "output_type": "execute_result"
    }
   ],
   "source": [
    "merged_table.shape[0]"
   ]
  },
  {
   "cell_type": "markdown",
   "id": "ff2a5fcc",
   "metadata": {},
   "source": [
    "Датафрейм merged_table состоит из 18068 строк и 12 столбцов. Способ объединения merge."
   ]
  },
  {
   "cell_type": "code",
   "execution_count": 41,
   "id": "35dc52dd",
   "metadata": {},
   "outputs": [
    {
     "data": {
      "text/plain": [
       "ultra    6500\n",
       "Name: subscription_type, dtype: int64"
      ]
     },
     "execution_count": 41,
     "metadata": {},
     "output_type": "execute_result"
    }
   ],
   "source": [
    "# После объединения создадим 2 таблицы пользователи с подпиской и пользователи без подписки\n",
    "merged_table_ultra = merged_table.query('subscription_type == \"ultra\"')\n",
    "merged_table_ultra['subscription_type'].value_counts()"
   ]
  },
  {
   "cell_type": "code",
   "execution_count": 42,
   "id": "6bf288b5",
   "metadata": {},
   "outputs": [
    {
     "data": {
      "text/plain": [
       "free    11568\n",
       "Name: subscription_type, dtype: int64"
      ]
     },
     "execution_count": 42,
     "metadata": {},
     "output_type": "execute_result"
    }
   ],
   "source": [
    "merged_table_free = merged_table.query('subscription_type == \"free\"')\n",
    "merged_table_free['subscription_type'].value_counts()"
   ]
  },
  {
   "cell_type": "code",
   "execution_count": 43,
   "id": "58d376fe",
   "metadata": {},
   "outputs": [
    {
     "data": {
      "text/html": [
       "<div>\n",
       "<style scoped>\n",
       "    .dataframe tbody tr th:only-of-type {\n",
       "        vertical-align: middle;\n",
       "    }\n",
       "\n",
       "    .dataframe tbody tr th {\n",
       "        vertical-align: top;\n",
       "    }\n",
       "\n",
       "    .dataframe thead th {\n",
       "        text-align: right;\n",
       "    }\n",
       "</style>\n",
       "<table border=\"1\" class=\"dataframe\">\n",
       "  <thead>\n",
       "    <tr style=\"text-align: right;\">\n",
       "      <th></th>\n",
       "      <th>user_id</th>\n",
       "      <th>name</th>\n",
       "      <th>age</th>\n",
       "      <th>city</th>\n",
       "      <th>subscription_type</th>\n",
       "      <th>distance</th>\n",
       "      <th>duration</th>\n",
       "      <th>date</th>\n",
       "      <th>month</th>\n",
       "      <th>minute_price</th>\n",
       "      <th>start_ride_price</th>\n",
       "      <th>subscription_fee</th>\n",
       "    </tr>\n",
       "  </thead>\n",
       "  <tbody>\n",
       "    <tr>\n",
       "      <th>0</th>\n",
       "      <td>1</td>\n",
       "      <td>Кира</td>\n",
       "      <td>22</td>\n",
       "      <td>Тюмень</td>\n",
       "      <td>ultra</td>\n",
       "      <td>4409.919140</td>\n",
       "      <td>25.599769</td>\n",
       "      <td>2021-01-01</td>\n",
       "      <td>1</td>\n",
       "      <td>6</td>\n",
       "      <td>0</td>\n",
       "      <td>199</td>\n",
       "    </tr>\n",
       "    <tr>\n",
       "      <th>1</th>\n",
       "      <td>1</td>\n",
       "      <td>Кира</td>\n",
       "      <td>22</td>\n",
       "      <td>Тюмень</td>\n",
       "      <td>ultra</td>\n",
       "      <td>2617.592153</td>\n",
       "      <td>15.816871</td>\n",
       "      <td>2021-01-18</td>\n",
       "      <td>1</td>\n",
       "      <td>6</td>\n",
       "      <td>0</td>\n",
       "      <td>199</td>\n",
       "    </tr>\n",
       "    <tr>\n",
       "      <th>2</th>\n",
       "      <td>1</td>\n",
       "      <td>Кира</td>\n",
       "      <td>22</td>\n",
       "      <td>Тюмень</td>\n",
       "      <td>ultra</td>\n",
       "      <td>754.159807</td>\n",
       "      <td>6.232113</td>\n",
       "      <td>2021-04-20</td>\n",
       "      <td>4</td>\n",
       "      <td>6</td>\n",
       "      <td>0</td>\n",
       "      <td>199</td>\n",
       "    </tr>\n",
       "    <tr>\n",
       "      <th>3</th>\n",
       "      <td>1</td>\n",
       "      <td>Кира</td>\n",
       "      <td>22</td>\n",
       "      <td>Тюмень</td>\n",
       "      <td>ultra</td>\n",
       "      <td>2694.783254</td>\n",
       "      <td>18.511000</td>\n",
       "      <td>2021-08-11</td>\n",
       "      <td>8</td>\n",
       "      <td>6</td>\n",
       "      <td>0</td>\n",
       "      <td>199</td>\n",
       "    </tr>\n",
       "    <tr>\n",
       "      <th>4</th>\n",
       "      <td>1</td>\n",
       "      <td>Кира</td>\n",
       "      <td>22</td>\n",
       "      <td>Тюмень</td>\n",
       "      <td>ultra</td>\n",
       "      <td>4028.687306</td>\n",
       "      <td>26.265803</td>\n",
       "      <td>2021-08-28</td>\n",
       "      <td>8</td>\n",
       "      <td>6</td>\n",
       "      <td>0</td>\n",
       "      <td>199</td>\n",
       "    </tr>\n",
       "    <tr>\n",
       "      <th>5</th>\n",
       "      <td>1</td>\n",
       "      <td>Кира</td>\n",
       "      <td>22</td>\n",
       "      <td>Тюмень</td>\n",
       "      <td>ultra</td>\n",
       "      <td>2770.890808</td>\n",
       "      <td>16.650138</td>\n",
       "      <td>2021-10-09</td>\n",
       "      <td>10</td>\n",
       "      <td>6</td>\n",
       "      <td>0</td>\n",
       "      <td>199</td>\n",
       "    </tr>\n",
       "    <tr>\n",
       "      <th>6</th>\n",
       "      <td>1</td>\n",
       "      <td>Кира</td>\n",
       "      <td>22</td>\n",
       "      <td>Тюмень</td>\n",
       "      <td>ultra</td>\n",
       "      <td>3039.020292</td>\n",
       "      <td>14.927879</td>\n",
       "      <td>2021-10-19</td>\n",
       "      <td>10</td>\n",
       "      <td>6</td>\n",
       "      <td>0</td>\n",
       "      <td>199</td>\n",
       "    </tr>\n",
       "    <tr>\n",
       "      <th>7</th>\n",
       "      <td>1</td>\n",
       "      <td>Кира</td>\n",
       "      <td>22</td>\n",
       "      <td>Тюмень</td>\n",
       "      <td>ultra</td>\n",
       "      <td>2842.118050</td>\n",
       "      <td>23.117468</td>\n",
       "      <td>2021-11-06</td>\n",
       "      <td>11</td>\n",
       "      <td>6</td>\n",
       "      <td>0</td>\n",
       "      <td>199</td>\n",
       "    </tr>\n",
       "    <tr>\n",
       "      <th>8</th>\n",
       "      <td>1</td>\n",
       "      <td>Кира</td>\n",
       "      <td>22</td>\n",
       "      <td>Тюмень</td>\n",
       "      <td>ultra</td>\n",
       "      <td>3412.690668</td>\n",
       "      <td>15.238072</td>\n",
       "      <td>2021-11-14</td>\n",
       "      <td>11</td>\n",
       "      <td>6</td>\n",
       "      <td>0</td>\n",
       "      <td>199</td>\n",
       "    </tr>\n",
       "    <tr>\n",
       "      <th>9</th>\n",
       "      <td>1</td>\n",
       "      <td>Кира</td>\n",
       "      <td>22</td>\n",
       "      <td>Тюмень</td>\n",
       "      <td>ultra</td>\n",
       "      <td>748.690645</td>\n",
       "      <td>15.041884</td>\n",
       "      <td>2021-11-22</td>\n",
       "      <td>11</td>\n",
       "      <td>6</td>\n",
       "      <td>0</td>\n",
       "      <td>199</td>\n",
       "    </tr>\n",
       "  </tbody>\n",
       "</table>\n",
       "</div>"
      ],
      "text/plain": [
       "   user_id  name  age    city subscription_type     distance   duration  \\\n",
       "0        1  Кира   22  Тюмень             ultra  4409.919140  25.599769   \n",
       "1        1  Кира   22  Тюмень             ultra  2617.592153  15.816871   \n",
       "2        1  Кира   22  Тюмень             ultra   754.159807   6.232113   \n",
       "3        1  Кира   22  Тюмень             ultra  2694.783254  18.511000   \n",
       "4        1  Кира   22  Тюмень             ultra  4028.687306  26.265803   \n",
       "5        1  Кира   22  Тюмень             ultra  2770.890808  16.650138   \n",
       "6        1  Кира   22  Тюмень             ultra  3039.020292  14.927879   \n",
       "7        1  Кира   22  Тюмень             ultra  2842.118050  23.117468   \n",
       "8        1  Кира   22  Тюмень             ultra  3412.690668  15.238072   \n",
       "9        1  Кира   22  Тюмень             ultra   748.690645  15.041884   \n",
       "\n",
       "        date  month  minute_price  start_ride_price  subscription_fee  \n",
       "0 2021-01-01      1             6                 0               199  \n",
       "1 2021-01-18      1             6                 0               199  \n",
       "2 2021-04-20      4             6                 0               199  \n",
       "3 2021-08-11      8             6                 0               199  \n",
       "4 2021-08-28      8             6                 0               199  \n",
       "5 2021-10-09     10             6                 0               199  \n",
       "6 2021-10-19     10             6                 0               199  \n",
       "7 2021-11-06     11             6                 0               199  \n",
       "8 2021-11-14     11             6                 0               199  \n",
       "9 2021-11-22     11             6                 0               199  "
      ]
     },
     "execution_count": 43,
     "metadata": {},
     "output_type": "execute_result"
    }
   ],
   "source": [
    "merged_table_ultra.head(10)"
   ]
  },
  {
   "cell_type": "code",
   "execution_count": 44,
   "id": "f20dcbc6",
   "metadata": {},
   "outputs": [
    {
     "data": {
      "text/html": [
       "<div>\n",
       "<style scoped>\n",
       "    .dataframe tbody tr th:only-of-type {\n",
       "        vertical-align: middle;\n",
       "    }\n",
       "\n",
       "    .dataframe tbody tr th {\n",
       "        vertical-align: top;\n",
       "    }\n",
       "\n",
       "    .dataframe thead th {\n",
       "        text-align: right;\n",
       "    }\n",
       "</style>\n",
       "<table border=\"1\" class=\"dataframe\">\n",
       "  <thead>\n",
       "    <tr style=\"text-align: right;\">\n",
       "      <th></th>\n",
       "      <th>user_id</th>\n",
       "      <th>name</th>\n",
       "      <th>age</th>\n",
       "      <th>city</th>\n",
       "      <th>subscription_type</th>\n",
       "      <th>distance</th>\n",
       "      <th>duration</th>\n",
       "      <th>date</th>\n",
       "      <th>month</th>\n",
       "      <th>minute_price</th>\n",
       "      <th>start_ride_price</th>\n",
       "      <th>subscription_fee</th>\n",
       "    </tr>\n",
       "  </thead>\n",
       "  <tbody>\n",
       "    <tr>\n",
       "      <th>6500</th>\n",
       "      <td>700</td>\n",
       "      <td>Айдар</td>\n",
       "      <td>22</td>\n",
       "      <td>Омск</td>\n",
       "      <td>free</td>\n",
       "      <td>2515.690719</td>\n",
       "      <td>14.944286</td>\n",
       "      <td>2021-01-02</td>\n",
       "      <td>1</td>\n",
       "      <td>8</td>\n",
       "      <td>50</td>\n",
       "      <td>0</td>\n",
       "    </tr>\n",
       "    <tr>\n",
       "      <th>6501</th>\n",
       "      <td>700</td>\n",
       "      <td>Айдар</td>\n",
       "      <td>22</td>\n",
       "      <td>Омск</td>\n",
       "      <td>free</td>\n",
       "      <td>846.932642</td>\n",
       "      <td>16.234663</td>\n",
       "      <td>2021-02-01</td>\n",
       "      <td>2</td>\n",
       "      <td>8</td>\n",
       "      <td>50</td>\n",
       "      <td>0</td>\n",
       "    </tr>\n",
       "    <tr>\n",
       "      <th>6502</th>\n",
       "      <td>700</td>\n",
       "      <td>Айдар</td>\n",
       "      <td>22</td>\n",
       "      <td>Омск</td>\n",
       "      <td>free</td>\n",
       "      <td>4004.434142</td>\n",
       "      <td>20.016628</td>\n",
       "      <td>2021-02-04</td>\n",
       "      <td>2</td>\n",
       "      <td>8</td>\n",
       "      <td>50</td>\n",
       "      <td>0</td>\n",
       "    </tr>\n",
       "    <tr>\n",
       "      <th>6503</th>\n",
       "      <td>700</td>\n",
       "      <td>Айдар</td>\n",
       "      <td>22</td>\n",
       "      <td>Омск</td>\n",
       "      <td>free</td>\n",
       "      <td>1205.911290</td>\n",
       "      <td>9.782872</td>\n",
       "      <td>2021-02-10</td>\n",
       "      <td>2</td>\n",
       "      <td>8</td>\n",
       "      <td>50</td>\n",
       "      <td>0</td>\n",
       "    </tr>\n",
       "    <tr>\n",
       "      <th>6504</th>\n",
       "      <td>700</td>\n",
       "      <td>Айдар</td>\n",
       "      <td>22</td>\n",
       "      <td>Омск</td>\n",
       "      <td>free</td>\n",
       "      <td>3047.379435</td>\n",
       "      <td>17.427673</td>\n",
       "      <td>2021-02-14</td>\n",
       "      <td>2</td>\n",
       "      <td>8</td>\n",
       "      <td>50</td>\n",
       "      <td>0</td>\n",
       "    </tr>\n",
       "    <tr>\n",
       "      <th>6505</th>\n",
       "      <td>700</td>\n",
       "      <td>Айдар</td>\n",
       "      <td>22</td>\n",
       "      <td>Омск</td>\n",
       "      <td>free</td>\n",
       "      <td>4342.002254</td>\n",
       "      <td>22.368009</td>\n",
       "      <td>2021-02-23</td>\n",
       "      <td>2</td>\n",
       "      <td>8</td>\n",
       "      <td>50</td>\n",
       "      <td>0</td>\n",
       "    </tr>\n",
       "    <tr>\n",
       "      <th>6506</th>\n",
       "      <td>700</td>\n",
       "      <td>Айдар</td>\n",
       "      <td>22</td>\n",
       "      <td>Омск</td>\n",
       "      <td>free</td>\n",
       "      <td>3798.334905</td>\n",
       "      <td>18.243756</td>\n",
       "      <td>2021-03-03</td>\n",
       "      <td>3</td>\n",
       "      <td>8</td>\n",
       "      <td>50</td>\n",
       "      <td>0</td>\n",
       "    </tr>\n",
       "    <tr>\n",
       "      <th>6507</th>\n",
       "      <td>700</td>\n",
       "      <td>Айдар</td>\n",
       "      <td>22</td>\n",
       "      <td>Омск</td>\n",
       "      <td>free</td>\n",
       "      <td>2984.551206</td>\n",
       "      <td>15.424899</td>\n",
       "      <td>2021-04-09</td>\n",
       "      <td>4</td>\n",
       "      <td>8</td>\n",
       "      <td>50</td>\n",
       "      <td>0</td>\n",
       "    </tr>\n",
       "    <tr>\n",
       "      <th>6508</th>\n",
       "      <td>700</td>\n",
       "      <td>Айдар</td>\n",
       "      <td>22</td>\n",
       "      <td>Омск</td>\n",
       "      <td>free</td>\n",
       "      <td>3360.107141</td>\n",
       "      <td>16.765497</td>\n",
       "      <td>2021-06-12</td>\n",
       "      <td>6</td>\n",
       "      <td>8</td>\n",
       "      <td>50</td>\n",
       "      <td>0</td>\n",
       "    </tr>\n",
       "    <tr>\n",
       "      <th>6509</th>\n",
       "      <td>700</td>\n",
       "      <td>Айдар</td>\n",
       "      <td>22</td>\n",
       "      <td>Омск</td>\n",
       "      <td>free</td>\n",
       "      <td>2567.543847</td>\n",
       "      <td>11.312160</td>\n",
       "      <td>2021-06-23</td>\n",
       "      <td>6</td>\n",
       "      <td>8</td>\n",
       "      <td>50</td>\n",
       "      <td>0</td>\n",
       "    </tr>\n",
       "  </tbody>\n",
       "</table>\n",
       "</div>"
      ],
      "text/plain": [
       "      user_id   name  age  city subscription_type     distance   duration  \\\n",
       "6500      700  Айдар   22  Омск              free  2515.690719  14.944286   \n",
       "6501      700  Айдар   22  Омск              free   846.932642  16.234663   \n",
       "6502      700  Айдар   22  Омск              free  4004.434142  20.016628   \n",
       "6503      700  Айдар   22  Омск              free  1205.911290   9.782872   \n",
       "6504      700  Айдар   22  Омск              free  3047.379435  17.427673   \n",
       "6505      700  Айдар   22  Омск              free  4342.002254  22.368009   \n",
       "6506      700  Айдар   22  Омск              free  3798.334905  18.243756   \n",
       "6507      700  Айдар   22  Омск              free  2984.551206  15.424899   \n",
       "6508      700  Айдар   22  Омск              free  3360.107141  16.765497   \n",
       "6509      700  Айдар   22  Омск              free  2567.543847  11.312160   \n",
       "\n",
       "           date  month  minute_price  start_ride_price  subscription_fee  \n",
       "6500 2021-01-02      1             8                50                 0  \n",
       "6501 2021-02-01      2             8                50                 0  \n",
       "6502 2021-02-04      2             8                50                 0  \n",
       "6503 2021-02-10      2             8                50                 0  \n",
       "6504 2021-02-14      2             8                50                 0  \n",
       "6505 2021-02-23      2             8                50                 0  \n",
       "6506 2021-03-03      3             8                50                 0  \n",
       "6507 2021-04-09      4             8                50                 0  \n",
       "6508 2021-06-12      6             8                50                 0  \n",
       "6509 2021-06-23      6             8                50                 0  "
      ]
     },
     "execution_count": 44,
     "metadata": {},
     "output_type": "execute_result"
    }
   ],
   "source": [
    "merged_table_free.head(10)"
   ]
  },
  {
   "cell_type": "code",
   "execution_count": 45,
   "id": "d93f3aa4",
   "metadata": {},
   "outputs": [
    {
     "data": {
      "text/html": [
       "<div>\n",
       "<style scoped>\n",
       "    .dataframe tbody tr th:only-of-type {\n",
       "        vertical-align: middle;\n",
       "    }\n",
       "\n",
       "    .dataframe tbody tr th {\n",
       "        vertical-align: top;\n",
       "    }\n",
       "\n",
       "    .dataframe thead th {\n",
       "        text-align: right;\n",
       "    }\n",
       "</style>\n",
       "<table border=\"1\" class=\"dataframe\">\n",
       "  <thead>\n",
       "    <tr style=\"text-align: right;\">\n",
       "      <th></th>\n",
       "      <th>user_id</th>\n",
       "      <th>name</th>\n",
       "      <th>age</th>\n",
       "      <th>city</th>\n",
       "      <th>subscription_type</th>\n",
       "      <th>distance</th>\n",
       "      <th>duration</th>\n",
       "      <th>date</th>\n",
       "      <th>month</th>\n",
       "      <th>minute_price</th>\n",
       "      <th>start_ride_price</th>\n",
       "      <th>subscription_fee</th>\n",
       "    </tr>\n",
       "  </thead>\n",
       "  <tbody>\n",
       "    <tr>\n",
       "      <th>0</th>\n",
       "      <td>1</td>\n",
       "      <td>Кира</td>\n",
       "      <td>22</td>\n",
       "      <td>Тюмень</td>\n",
       "      <td>ultra</td>\n",
       "      <td>4409.919140</td>\n",
       "      <td>25.599769</td>\n",
       "      <td>2021-01-01</td>\n",
       "      <td>1</td>\n",
       "      <td>6</td>\n",
       "      <td>0</td>\n",
       "      <td>199</td>\n",
       "    </tr>\n",
       "    <tr>\n",
       "      <th>1</th>\n",
       "      <td>1</td>\n",
       "      <td>Кира</td>\n",
       "      <td>22</td>\n",
       "      <td>Тюмень</td>\n",
       "      <td>ultra</td>\n",
       "      <td>2617.592153</td>\n",
       "      <td>15.816871</td>\n",
       "      <td>2021-01-18</td>\n",
       "      <td>1</td>\n",
       "      <td>6</td>\n",
       "      <td>0</td>\n",
       "      <td>199</td>\n",
       "    </tr>\n",
       "    <tr>\n",
       "      <th>2</th>\n",
       "      <td>1</td>\n",
       "      <td>Кира</td>\n",
       "      <td>22</td>\n",
       "      <td>Тюмень</td>\n",
       "      <td>ultra</td>\n",
       "      <td>754.159807</td>\n",
       "      <td>6.232113</td>\n",
       "      <td>2021-04-20</td>\n",
       "      <td>4</td>\n",
       "      <td>6</td>\n",
       "      <td>0</td>\n",
       "      <td>199</td>\n",
       "    </tr>\n",
       "    <tr>\n",
       "      <th>3</th>\n",
       "      <td>1</td>\n",
       "      <td>Кира</td>\n",
       "      <td>22</td>\n",
       "      <td>Тюмень</td>\n",
       "      <td>ultra</td>\n",
       "      <td>2694.783254</td>\n",
       "      <td>18.511000</td>\n",
       "      <td>2021-08-11</td>\n",
       "      <td>8</td>\n",
       "      <td>6</td>\n",
       "      <td>0</td>\n",
       "      <td>199</td>\n",
       "    </tr>\n",
       "    <tr>\n",
       "      <th>4</th>\n",
       "      <td>1</td>\n",
       "      <td>Кира</td>\n",
       "      <td>22</td>\n",
       "      <td>Тюмень</td>\n",
       "      <td>ultra</td>\n",
       "      <td>4028.687306</td>\n",
       "      <td>26.265803</td>\n",
       "      <td>2021-08-28</td>\n",
       "      <td>8</td>\n",
       "      <td>6</td>\n",
       "      <td>0</td>\n",
       "      <td>199</td>\n",
       "    </tr>\n",
       "    <tr>\n",
       "      <th>...</th>\n",
       "      <td>...</td>\n",
       "      <td>...</td>\n",
       "      <td>...</td>\n",
       "      <td>...</td>\n",
       "      <td>...</td>\n",
       "      <td>...</td>\n",
       "      <td>...</td>\n",
       "      <td>...</td>\n",
       "      <td>...</td>\n",
       "      <td>...</td>\n",
       "      <td>...</td>\n",
       "      <td>...</td>\n",
       "    </tr>\n",
       "    <tr>\n",
       "      <th>18063</th>\n",
       "      <td>1534</td>\n",
       "      <td>Альберт</td>\n",
       "      <td>25</td>\n",
       "      <td>Краснодар</td>\n",
       "      <td>free</td>\n",
       "      <td>3781.098080</td>\n",
       "      <td>19.822962</td>\n",
       "      <td>2021-11-04</td>\n",
       "      <td>11</td>\n",
       "      <td>8</td>\n",
       "      <td>50</td>\n",
       "      <td>0</td>\n",
       "    </tr>\n",
       "    <tr>\n",
       "      <th>18064</th>\n",
       "      <td>1534</td>\n",
       "      <td>Альберт</td>\n",
       "      <td>25</td>\n",
       "      <td>Краснодар</td>\n",
       "      <td>free</td>\n",
       "      <td>2840.423057</td>\n",
       "      <td>21.409799</td>\n",
       "      <td>2021-11-16</td>\n",
       "      <td>11</td>\n",
       "      <td>8</td>\n",
       "      <td>50</td>\n",
       "      <td>0</td>\n",
       "    </tr>\n",
       "    <tr>\n",
       "      <th>18065</th>\n",
       "      <td>1534</td>\n",
       "      <td>Альберт</td>\n",
       "      <td>25</td>\n",
       "      <td>Краснодар</td>\n",
       "      <td>free</td>\n",
       "      <td>3826.185507</td>\n",
       "      <td>18.435051</td>\n",
       "      <td>2021-11-18</td>\n",
       "      <td>11</td>\n",
       "      <td>8</td>\n",
       "      <td>50</td>\n",
       "      <td>0</td>\n",
       "    </tr>\n",
       "    <tr>\n",
       "      <th>18066</th>\n",
       "      <td>1534</td>\n",
       "      <td>Альберт</td>\n",
       "      <td>25</td>\n",
       "      <td>Краснодар</td>\n",
       "      <td>free</td>\n",
       "      <td>2902.308661</td>\n",
       "      <td>16.674362</td>\n",
       "      <td>2021-11-27</td>\n",
       "      <td>11</td>\n",
       "      <td>8</td>\n",
       "      <td>50</td>\n",
       "      <td>0</td>\n",
       "    </tr>\n",
       "    <tr>\n",
       "      <th>18067</th>\n",
       "      <td>1534</td>\n",
       "      <td>Альберт</td>\n",
       "      <td>25</td>\n",
       "      <td>Краснодар</td>\n",
       "      <td>free</td>\n",
       "      <td>2371.711192</td>\n",
       "      <td>15.893917</td>\n",
       "      <td>2021-12-29</td>\n",
       "      <td>12</td>\n",
       "      <td>8</td>\n",
       "      <td>50</td>\n",
       "      <td>0</td>\n",
       "    </tr>\n",
       "  </tbody>\n",
       "</table>\n",
       "<p>18068 rows × 12 columns</p>\n",
       "</div>"
      ],
      "text/plain": [
       "       user_id     name  age       city subscription_type     distance  \\\n",
       "0            1     Кира   22     Тюмень             ultra  4409.919140   \n",
       "1            1     Кира   22     Тюмень             ultra  2617.592153   \n",
       "2            1     Кира   22     Тюмень             ultra   754.159807   \n",
       "3            1     Кира   22     Тюмень             ultra  2694.783254   \n",
       "4            1     Кира   22     Тюмень             ultra  4028.687306   \n",
       "...        ...      ...  ...        ...               ...          ...   \n",
       "18063     1534  Альберт   25  Краснодар              free  3781.098080   \n",
       "18064     1534  Альберт   25  Краснодар              free  2840.423057   \n",
       "18065     1534  Альберт   25  Краснодар              free  3826.185507   \n",
       "18066     1534  Альберт   25  Краснодар              free  2902.308661   \n",
       "18067     1534  Альберт   25  Краснодар              free  2371.711192   \n",
       "\n",
       "        duration       date  month  minute_price  start_ride_price  \\\n",
       "0      25.599769 2021-01-01      1             6                 0   \n",
       "1      15.816871 2021-01-18      1             6                 0   \n",
       "2       6.232113 2021-04-20      4             6                 0   \n",
       "3      18.511000 2021-08-11      8             6                 0   \n",
       "4      26.265803 2021-08-28      8             6                 0   \n",
       "...          ...        ...    ...           ...               ...   \n",
       "18063  19.822962 2021-11-04     11             8                50   \n",
       "18064  21.409799 2021-11-16     11             8                50   \n",
       "18065  18.435051 2021-11-18     11             8                50   \n",
       "18066  16.674362 2021-11-27     11             8                50   \n",
       "18067  15.893917 2021-12-29     12             8                50   \n",
       "\n",
       "       subscription_fee  \n",
       "0                   199  \n",
       "1                   199  \n",
       "2                   199  \n",
       "3                   199  \n",
       "4                   199  \n",
       "...                 ...  \n",
       "18063                 0  \n",
       "18064                 0  \n",
       "18065                 0  \n",
       "18066                 0  \n",
       "18067                 0  \n",
       "\n",
       "[18068 rows x 12 columns]"
      ]
     },
     "execution_count": 45,
     "metadata": {},
     "output_type": "execute_result"
    }
   ],
   "source": [
    "merged_table"
   ]
  },
  {
   "cell_type": "code",
   "execution_count": 46,
   "id": "066ed864",
   "metadata": {},
   "outputs": [
    {
     "data": {
      "image/png": "[encoded data removed]",
      "text/plain": [
       "<Figure size 1296x360 with 2 Axes>"
      ]
     },
     "metadata": {
      "needs_background": "light"
     },
     "output_type": "display_data"
    }
   ],
   "source": [
    "# Визуализируем информацию о расстоянии и времени поездок для пользователей обеих категорий\n",
    "free_du = merged_table_free['duration']\n",
    "ultra_du = merged_table_ultra['duration']    \n",
    "\n",
    "free_di = merged_table_free['distance']\n",
    "ultra_di = merged_table_ultra['distance']\n",
    "\n",
    "fig, (ax1, ax2) = plt.subplots(1,2, figsize=(18,5))\n",
    "\n",
    "colors = ['blue', 'green']\n",
    "names = ['free', 'ultra']\n",
    "\n",
    "ax1.hist([free_du, ultra_du], color=colors, label=names);\n",
    "ax1.set_title('Длительность поездок пользователей free и ultra')\n",
    "ax1.legend()\n",
    "ax1.set_xlabel('Длительность поездок, мин')\n",
    "ax1.set_ylabel('Количество поездок, мин');\n",
    "\n",
    "ax2.hist([free_di, ultra_di], bins=35, color=colors, label=names);\n",
    "ax2.set_title(\"Расстояния поездок пользователей free и ultra\")\n",
    "ax2.set_xlabel('Расстояния поездок, м')\n",
    "ax2.legend()\n",
    "\n",
    "plt.show()"
   ]
  },
  {
   "cell_type": "markdown",
   "id": "e2158bf4",
   "metadata": {},
   "source": [
    "Из первой гистограмы видно, что пользователи категории free чаще используют сервис для коротких поездок. С возрастанием длительности поездки эта разница снижается. Количество 35 минутных поездок почти одинаково для обоих категорий. Хотя стоит учесть, что пользователей без подписки в целом больше. Из второй гистограмы видна разница на коротких поездках, пользователи с подпиской реже использую самокаты на короткие поездки до 500 м. и почти не используют на расстояния 2 км. Это отчасти подтверждает версию, что в этой области находятся в основном первые поездки пользователей."
   ]
  },
  {
   "cell_type": "markdown",
   "id": "28afbd20",
   "metadata": {},
   "source": [
    "# Вывод:\n",
    "Мы объединили данные о пользователях, поездках и подписках в один датафрейм. А также, проанализировали информацию отдельно о пользователях с подпиской и без."
   ]
  },
  {
   "cell_type": "markdown",
   "id": "402d620f",
   "metadata": {},
   "source": [
    "# Шаг 5. Подсчёт выручки"
   ]
  },
  {
   "cell_type": "code",
   "execution_count": 47,
   "id": "ed9cf1a1",
   "metadata": {},
   "outputs": [],
   "source": [
    "# округлим данные в столбцах duration и distance\n",
    "\n",
    "merged_table['duration'] = np.ceil(merged_table['duration']).astype('int')\n",
    "merged_table['distance'] = np.ceil(merged_table['distance']).astype('int')"
   ]
  },
  {
   "cell_type": "code",
   "execution_count": 48,
   "id": "ac51f3e8",
   "metadata": {},
   "outputs": [],
   "source": [
    "# Создадим датафрейм с агрегированными данными\n",
    "\n",
    "merged_table_agg = merged_table.groupby(['user_id', 'name', 'age', 'city', 'subscription_type', 'month', 'minute_price', 'start_ride_price', 'subscription_fee']).agg({\n",
    "    'distance': 'sum',\n",
    "    'duration': 'sum',\n",
    "    'name':'count'}).rename(columns={'name':'month_count'}).reset_index()"
   ]
  },
  {
   "cell_type": "code",
   "execution_count": 49,
   "id": "258b4324",
   "metadata": {},
   "outputs": [
    {
     "data": {
      "text/html": [
       "<div>\n",
       "<style scoped>\n",
       "    .dataframe tbody tr th:only-of-type {\n",
       "        vertical-align: middle;\n",
       "    }\n",
       "\n",
       "    .dataframe tbody tr th {\n",
       "        vertical-align: top;\n",
       "    }\n",
       "\n",
       "    .dataframe thead th {\n",
       "        text-align: right;\n",
       "    }\n",
       "</style>\n",
       "<table border=\"1\" class=\"dataframe\">\n",
       "  <thead>\n",
       "    <tr style=\"text-align: right;\">\n",
       "      <th></th>\n",
       "      <th>user_id</th>\n",
       "      <th>name</th>\n",
       "      <th>age</th>\n",
       "      <th>city</th>\n",
       "      <th>subscription_type</th>\n",
       "      <th>month</th>\n",
       "      <th>minute_price</th>\n",
       "      <th>start_ride_price</th>\n",
       "      <th>subscription_fee</th>\n",
       "      <th>distance</th>\n",
       "      <th>duration</th>\n",
       "      <th>month_count</th>\n",
       "    </tr>\n",
       "  </thead>\n",
       "  <tbody>\n",
       "    <tr>\n",
       "      <th>0</th>\n",
       "      <td>1</td>\n",
       "      <td>Кира</td>\n",
       "      <td>22</td>\n",
       "      <td>Тюмень</td>\n",
       "      <td>ultra</td>\n",
       "      <td>1</td>\n",
       "      <td>6</td>\n",
       "      <td>0</td>\n",
       "      <td>199</td>\n",
       "      <td>7028</td>\n",
       "      <td>42</td>\n",
       "      <td>2</td>\n",
       "    </tr>\n",
       "    <tr>\n",
       "      <th>1</th>\n",
       "      <td>1</td>\n",
       "      <td>Кира</td>\n",
       "      <td>22</td>\n",
       "      <td>Тюмень</td>\n",
       "      <td>ultra</td>\n",
       "      <td>4</td>\n",
       "      <td>6</td>\n",
       "      <td>0</td>\n",
       "      <td>199</td>\n",
       "      <td>755</td>\n",
       "      <td>7</td>\n",
       "      <td>1</td>\n",
       "    </tr>\n",
       "    <tr>\n",
       "      <th>2</th>\n",
       "      <td>1</td>\n",
       "      <td>Кира</td>\n",
       "      <td>22</td>\n",
       "      <td>Тюмень</td>\n",
       "      <td>ultra</td>\n",
       "      <td>8</td>\n",
       "      <td>6</td>\n",
       "      <td>0</td>\n",
       "      <td>199</td>\n",
       "      <td>6724</td>\n",
       "      <td>46</td>\n",
       "      <td>2</td>\n",
       "    </tr>\n",
       "    <tr>\n",
       "      <th>3</th>\n",
       "      <td>1</td>\n",
       "      <td>Кира</td>\n",
       "      <td>22</td>\n",
       "      <td>Тюмень</td>\n",
       "      <td>ultra</td>\n",
       "      <td>10</td>\n",
       "      <td>6</td>\n",
       "      <td>0</td>\n",
       "      <td>199</td>\n",
       "      <td>5811</td>\n",
       "      <td>32</td>\n",
       "      <td>2</td>\n",
       "    </tr>\n",
       "    <tr>\n",
       "      <th>4</th>\n",
       "      <td>1</td>\n",
       "      <td>Кира</td>\n",
       "      <td>22</td>\n",
       "      <td>Тюмень</td>\n",
       "      <td>ultra</td>\n",
       "      <td>11</td>\n",
       "      <td>6</td>\n",
       "      <td>0</td>\n",
       "      <td>199</td>\n",
       "      <td>7005</td>\n",
       "      <td>56</td>\n",
       "      <td>3</td>\n",
       "    </tr>\n",
       "  </tbody>\n",
       "</table>\n",
       "</div>"
      ],
      "text/plain": [
       "   user_id  name  age    city subscription_type  month  minute_price  \\\n",
       "0        1  Кира   22  Тюмень             ultra      1             6   \n",
       "1        1  Кира   22  Тюмень             ultra      4             6   \n",
       "2        1  Кира   22  Тюмень             ultra      8             6   \n",
       "3        1  Кира   22  Тюмень             ultra     10             6   \n",
       "4        1  Кира   22  Тюмень             ultra     11             6   \n",
       "\n",
       "   start_ride_price  subscription_fee  distance  duration  month_count  \n",
       "0                 0               199      7028        42            2  \n",
       "1                 0               199       755         7            1  \n",
       "2                 0               199      6724        46            2  \n",
       "3                 0               199      5811        32            2  \n",
       "4                 0               199      7005        56            3  "
      ]
     },
     "execution_count": 49,
     "metadata": {},
     "output_type": "execute_result"
    }
   ],
   "source": [
    "merged_table_agg.head(5)"
   ]
  },
  {
   "cell_type": "code",
   "execution_count": 50,
   "id": "e0e3d1a2",
   "metadata": {},
   "outputs": [],
   "source": [
    "# Расчёт месячной выручки\n",
    "\n",
    "merged_table_agg['month_revenue'] = (\n",
    "    merged_table_agg['start_ride_price'] * merged_table_agg['month_count'] + \n",
    "    merged_table_agg['minute_price'] * merged_table_agg['duration'] + \n",
    "    merged_table_agg['subscription_fee']\n",
    ")"
   ]
  },
  {
   "cell_type": "code",
   "execution_count": 51,
   "id": "09687525",
   "metadata": {},
   "outputs": [
    {
     "data": {
      "text/html": [
       "<div>\n",
       "<style scoped>\n",
       "    .dataframe tbody tr th:only-of-type {\n",
       "        vertical-align: middle;\n",
       "    }\n",
       "\n",
       "    .dataframe tbody tr th {\n",
       "        vertical-align: top;\n",
       "    }\n",
       "\n",
       "    .dataframe thead th {\n",
       "        text-align: right;\n",
       "    }\n",
       "</style>\n",
       "<table border=\"1\" class=\"dataframe\">\n",
       "  <thead>\n",
       "    <tr style=\"text-align: right;\">\n",
       "      <th></th>\n",
       "      <th>user_id</th>\n",
       "      <th>name</th>\n",
       "      <th>age</th>\n",
       "      <th>city</th>\n",
       "      <th>subscription_type</th>\n",
       "      <th>month</th>\n",
       "      <th>distance</th>\n",
       "      <th>duration</th>\n",
       "      <th>month_revenue</th>\n",
       "    </tr>\n",
       "  </thead>\n",
       "  <tbody>\n",
       "    <tr>\n",
       "      <th>0</th>\n",
       "      <td>1</td>\n",
       "      <td>Кира</td>\n",
       "      <td>22</td>\n",
       "      <td>Тюмень</td>\n",
       "      <td>ultra</td>\n",
       "      <td>1</td>\n",
       "      <td>7028</td>\n",
       "      <td>42</td>\n",
       "      <td>451</td>\n",
       "    </tr>\n",
       "    <tr>\n",
       "      <th>1</th>\n",
       "      <td>1</td>\n",
       "      <td>Кира</td>\n",
       "      <td>22</td>\n",
       "      <td>Тюмень</td>\n",
       "      <td>ultra</td>\n",
       "      <td>4</td>\n",
       "      <td>755</td>\n",
       "      <td>7</td>\n",
       "      <td>241</td>\n",
       "    </tr>\n",
       "    <tr>\n",
       "      <th>2</th>\n",
       "      <td>1</td>\n",
       "      <td>Кира</td>\n",
       "      <td>22</td>\n",
       "      <td>Тюмень</td>\n",
       "      <td>ultra</td>\n",
       "      <td>8</td>\n",
       "      <td>6724</td>\n",
       "      <td>46</td>\n",
       "      <td>475</td>\n",
       "    </tr>\n",
       "    <tr>\n",
       "      <th>3</th>\n",
       "      <td>1</td>\n",
       "      <td>Кира</td>\n",
       "      <td>22</td>\n",
       "      <td>Тюмень</td>\n",
       "      <td>ultra</td>\n",
       "      <td>10</td>\n",
       "      <td>5811</td>\n",
       "      <td>32</td>\n",
       "      <td>391</td>\n",
       "    </tr>\n",
       "    <tr>\n",
       "      <th>4</th>\n",
       "      <td>1</td>\n",
       "      <td>Кира</td>\n",
       "      <td>22</td>\n",
       "      <td>Тюмень</td>\n",
       "      <td>ultra</td>\n",
       "      <td>11</td>\n",
       "      <td>7005</td>\n",
       "      <td>56</td>\n",
       "      <td>535</td>\n",
       "    </tr>\n",
       "    <tr>\n",
       "      <th>5</th>\n",
       "      <td>1</td>\n",
       "      <td>Кира</td>\n",
       "      <td>22</td>\n",
       "      <td>Тюмень</td>\n",
       "      <td>ultra</td>\n",
       "      <td>12</td>\n",
       "      <td>6753</td>\n",
       "      <td>28</td>\n",
       "      <td>367</td>\n",
       "    </tr>\n",
       "    <tr>\n",
       "      <th>6</th>\n",
       "      <td>2</td>\n",
       "      <td>Станислав</td>\n",
       "      <td>31</td>\n",
       "      <td>Омск</td>\n",
       "      <td>ultra</td>\n",
       "      <td>3</td>\n",
       "      <td>10190</td>\n",
       "      <td>63</td>\n",
       "      <td>577</td>\n",
       "    </tr>\n",
       "    <tr>\n",
       "      <th>7</th>\n",
       "      <td>2</td>\n",
       "      <td>Станислав</td>\n",
       "      <td>31</td>\n",
       "      <td>Омск</td>\n",
       "      <td>ultra</td>\n",
       "      <td>4</td>\n",
       "      <td>6165</td>\n",
       "      <td>40</td>\n",
       "      <td>439</td>\n",
       "    </tr>\n",
       "    <tr>\n",
       "      <th>8</th>\n",
       "      <td>2</td>\n",
       "      <td>Станислав</td>\n",
       "      <td>31</td>\n",
       "      <td>Омск</td>\n",
       "      <td>ultra</td>\n",
       "      <td>6</td>\n",
       "      <td>3256</td>\n",
       "      <td>14</td>\n",
       "      <td>283</td>\n",
       "    </tr>\n",
       "    <tr>\n",
       "      <th>9</th>\n",
       "      <td>2</td>\n",
       "      <td>Станислав</td>\n",
       "      <td>31</td>\n",
       "      <td>Омск</td>\n",
       "      <td>ultra</td>\n",
       "      <td>7</td>\n",
       "      <td>6781</td>\n",
       "      <td>48</td>\n",
       "      <td>487</td>\n",
       "    </tr>\n",
       "  </tbody>\n",
       "</table>\n",
       "</div>"
      ],
      "text/plain": [
       "   user_id       name  age    city subscription_type  month  distance  \\\n",
       "0        1       Кира   22  Тюмень             ultra      1      7028   \n",
       "1        1       Кира   22  Тюмень             ultra      4       755   \n",
       "2        1       Кира   22  Тюмень             ultra      8      6724   \n",
       "3        1       Кира   22  Тюмень             ultra     10      5811   \n",
       "4        1       Кира   22  Тюмень             ultra     11      7005   \n",
       "5        1       Кира   22  Тюмень             ultra     12      6753   \n",
       "6        2  Станислав   31    Омск             ultra      3     10190   \n",
       "7        2  Станислав   31    Омск             ultra      4      6165   \n",
       "8        2  Станислав   31    Омск             ultra      6      3256   \n",
       "9        2  Станислав   31    Омск             ultra      7      6781   \n",
       "\n",
       "   duration  month_revenue  \n",
       "0        42            451  \n",
       "1         7            241  \n",
       "2        46            475  \n",
       "3        32            391  \n",
       "4        56            535  \n",
       "5        28            367  \n",
       "6        63            577  \n",
       "7        40            439  \n",
       "8        14            283  \n",
       "9        48            487  "
      ]
     },
     "execution_count": 51,
     "metadata": {},
     "output_type": "execute_result"
    }
   ],
   "source": [
    "merged_table_agg_pivot = merged_table_agg.groupby(['user_id', 'name', 'age', 'city', 'subscription_type', 'month']).agg({\n",
    "    'distance': 'sum',\n",
    "    'duration': 'sum',\n",
    "    'month_revenue':'sum'}).reset_index()\n",
    "merged_table_agg_pivot.head(10)"
   ]
  },
  {
   "cell_type": "markdown",
   "id": "466f117e",
   "metadata": {},
   "source": []
  },
  {
   "cell_type": "markdown",
   "id": "06c7e6a3",
   "metadata": {},
   "source": [
    "# Вывод:\n",
    "Мы собрали агрегированные данные о поездках и посчитали суммарное расстояние, количество поездок и общее время в пути для каждого пользователя в течение каждого месяца. Дополнительно, мы внесли информацию о месячной выручке."
   ]
  },
  {
   "cell_type": "markdown",
   "id": "41545ac0",
   "metadata": {},
   "source": [
    "# Шаг 6. Проверка гипотез"
   ]
  },
  {
   "cell_type": "markdown",
   "id": "2a647ed6",
   "metadata": {},
   "source": [
    "###### Гипотеза №1"
   ]
  },
  {
   "cell_type": "markdown",
   "id": "fd3d2c26",
   "metadata": {},
   "source": [
    "Важно понять, тратят ли пользователи с подпиской больше времени на поездки? Если да, то пользователи с подпиской могут быть «выгоднее» для компании. Проверьте гипотезу. Используйте исходные данные о продолжительности каждой сессии — отдельно для подписчиков и тех, у кого нет подписки."
   ]
  },
  {
   "cell_type": "markdown",
   "id": "b63cbc9e",
   "metadata": {},
   "source": [
    "Нулевая гипотеза (Н0): среднее время поездок пользователей из двух групп равны.\n",
    "\n",
    "Альтернативная гипотеза (Н1): среднее время поездок пользователей с подпиской больше, чем среднее время поездок пользователей без подписки."
   ]
  },
  {
   "cell_type": "code",
   "execution_count": 52,
   "id": "9b8128e3",
   "metadata": {},
   "outputs": [
    {
     "name": "stdout",
     "output_type": "stream",
     "text": [
      "p-значение: 1.2804098316645618e-34\n",
      "Отвергаем нулевую гипотезу\n"
     ]
    }
   ],
   "source": [
    "#Проверим гипотезу\n",
    "\n",
    "alpha = 0.05 #указываем уровень статистической значимости\n",
    "\n",
    "results = st.ttest_ind(merged_table_ultra['duration'],\n",
    "                       merged_table_free['duration'],\n",
    "                       alternative = 'greater')\n",
    "\n",
    "print('p-значение:', results.pvalue)\n",
    "\n",
    "if results.pvalue < alpha:\n",
    "    print('Отвергаем нулевую гипотезу')\n",
    "else:\n",
    "    print('Не получилось отвергнуть нулевую гипотезу')"
   ]
  },
  {
   "cell_type": "markdown",
   "id": "ec7ef7c8",
   "metadata": {},
   "source": [
    "Пользователи с подпиской тратят за сессию в сервисе больше времени."
   ]
  },
  {
   "cell_type": "markdown",
   "id": "be688d76",
   "metadata": {},
   "source": [
    "###### Гипотеза №2"
   ]
  },
  {
   "cell_type": "markdown",
   "id": "9a3c395d",
   "metadata": {},
   "source": [
    "Расстояние одной поездки в \n",
    "3130 метров — оптимальное с точки зрения износа самоката. Можно ли сказать, что среднее расстояние, которое проезжают пользователи с подпиской за одну поездку, не превышает \n",
    "3130 метров? Проверьте гипотезу и сделайте выводы."
   ]
  },
  {
   "cell_type": "markdown",
   "id": "f846a48b",
   "metadata": {},
   "source": [
    "Нулевая гипотеза (Н0): среднее расстояние поездки у пользователей с подпиской равно 3130 м\n",
    "\n",
    "Альтернативная гипотеза (Н1): среднее расстояние поездки у пользователей с подпиской больше 3130 м"
   ]
  },
  {
   "cell_type": "code",
   "execution_count": 53,
   "id": "85075403",
   "metadata": {},
   "outputs": [
    {
     "name": "stdout",
     "output_type": "stream",
     "text": [
      "p-значение: 0.9195368847849785\n",
      "Не получилось отвергнуть нулевую гипотезу\n"
     ]
    }
   ],
   "source": [
    "#Проверим гипотезу\n",
    "\n",
    "one_ride = 3130\n",
    "\n",
    "alpha = 0.05 #указываем уровень статистической значимости\n",
    "\n",
    "results = st.ttest_1samp(merged_table_ultra['distance'],\n",
    "                         one_ride,\n",
    "                         alternative = 'greater')\n",
    "\n",
    "print('p-значение:', results.pvalue)\n",
    "\n",
    "if results.pvalue < alpha:\n",
    "    print('Отвергаем нулевую гипотезу')\n",
    "else:\n",
    "    print('Не получилось отвергнуть нулевую гипотезу')"
   ]
  },
  {
   "cell_type": "markdown",
   "id": "1d51e15b",
   "metadata": {},
   "source": [
    "Среднее расстояние, которое проезжают пользователи с подпиской за одну поездку не превышает оптимальных 3130 метров."
   ]
  },
  {
   "cell_type": "markdown",
   "id": "59c8b12f",
   "metadata": {},
   "source": [
    "###### Гипотеза №3"
   ]
  },
  {
   "cell_type": "markdown",
   "id": "eb299027",
   "metadata": {},
   "source": [
    "Проверьте гипотезу о том, будет ли помесячная выручка от пользователей с подпиской по месяцам выше, чем выручка от пользователей без подписки. Сделайте вывод."
   ]
  },
  {
   "cell_type": "markdown",
   "id": "0fd7ef1a",
   "metadata": {},
   "source": [
    "Нулевая гипотеза (Н0): средняя помесячная выручка от пользователей с подпиской и без - равны.\n",
    "\n",
    "Альтернативная гипотеза (Н1): средняя помесячная выручка пользователей с подпиской больше, чем среднее значение трат пользователей без подписки."
   ]
  },
  {
   "cell_type": "code",
   "execution_count": 54,
   "id": "3bd59912",
   "metadata": {},
   "outputs": [],
   "source": [
    "#Создадим отдельные переменные\n",
    "ultra_month = merged_table_agg.loc[merged_table_agg.subscription_type == 'ultra', 'month_revenue']\n",
    "free_month = merged_table_agg.loc[merged_table_agg.subscription_type == 'free', 'month_revenue']"
   ]
  },
  {
   "cell_type": "code",
   "execution_count": 55,
   "id": "bb088d6d",
   "metadata": {},
   "outputs": [
    {
     "name": "stdout",
     "output_type": "stream",
     "text": [
      "p-значение: 1.8850394384715216e-31\n",
      "Отвергаем нулевую гипотезу\n"
     ]
    }
   ],
   "source": [
    "#Проверим гипотезу\n",
    "\n",
    "alpha = 0.05 #указываем уровень статистической значимости\n",
    "\n",
    "results = st.ttest_ind(ultra_month,\n",
    "                       free_month,\n",
    "                       alternative = 'greater')\n",
    "\n",
    "print('p-значение:', results.pvalue)\n",
    "\n",
    "if results.pvalue < alpha:\n",
    "    print('Отвергаем нулевую гипотезу')\n",
    "else:\n",
    "    print('Не получилось отвергнуть нулевую гипотезу')"
   ]
  },
  {
   "cell_type": "markdown",
   "id": "f7a89688",
   "metadata": {},
   "source": [
    "Помесячная выручка от пользователей с подпиской выше, чем выручка от пользователей без подписки."
   ]
  },
  {
   "cell_type": "markdown",
   "id": "b0168c7b",
   "metadata": {},
   "source": [
    "Представьте такую ситуацию: техническая команда сервиса обновила сервера, с которыми взаимодействует мобильное приложение. Она надеется, что из-за этого количество обращений в техподдержку значимо снизилось. Некоторый файл содержит для каждого пользователя данные о количестве обращений до обновления и после него. Какой тест вам понадобился бы для проверки этой гипотезы?"
   ]
  },
  {
   "cell_type": "markdown",
   "id": "e77988a9",
   "metadata": {},
   "source": [
    "Нужно использовать тест о двух зависимых выборках: ttest_rel()"
   ]
  },
  {
   "cell_type": "markdown",
   "id": "57a251ed",
   "metadata": {},
   "source": [
    "# Общий вывод:\n",
    "При ознакомлении с данными мы не выявили серьезных отклонений или пропусков в данных.\n",
    "\n",
    "После поменяли формат данных в столбце date и создали новую колонку с номером месяца поездки. Удалили дубликаты в users, проверили на пропуски.\n",
    "\n",
    "На основе исследовательского анализа данных мы выявили: \n",
    "- Больше всего пользователей в Пятигорске, меньше всего в Москве.\n",
    "- Пользователей без подписки больше на 8,8% чем пользователей с подпиской.\n",
    "- Основной возраст пользователей распределен от 20 до 30 лет. Медианное значение возраста пользователей 25 лет.\n",
    "- Средняя поездка одного пользователся около 3000 метров , чаще всего пользователи проезжают от 2500 до 3500 метров.\n",
    "- Средняя продолжительность одной поездки 17 минут. Чаще всего продолжительность поездки лежит в диапазоне от 13 до 22 минут.\n",
    "- Присутствует небольшое количество выбросов в диапазоне 0.5 минут и свыше 33 минут\n",
    "\n",
    "Объединили данные о пользователях, поездках и подписках в один датафрейм. А также, проанализировали информацию отдельно о пользователях с подпиской и без:\n",
    "- Пользователи категории free чаще используют сервис для коротких поездок. С возрастанием длительности поездки эта разница снижается. \n",
    "- Количество 35 минутных поездок почти одинаково для обоих категорий. Cтоит учесть, что пользователей без подписки в целом больше.\n",
    "- Пользователи с подпиской реже использую самокаты на короткие поездки до 500 м. и почти не используют на расстояния 2 км. Это отчасти подтверждает версию, что в этой области находятся в основном первые поездки пользователей.\n",
    "\n",
    "Собрали агрегированные данные о поездках и посчитали суммарное расстояние, количество поездок и общее время в пути для каждого пользователя в течение каждого месяца. Дополнительно, внесли информацию о месячной выручке.\n",
    "\n",
    "Выводы по гипотезам:\n",
    "- Гипотеза №1 - пользователи с подпиской тратят за сессию в сервисе больше времени\n",
    "- Гипотеза №2 - среднее расстояние, которое проезжают пользователи с подпиской за одну поездку не превышает оптимальных 3130 метров\n",
    "- Гипотеза №3 - помесячная выручка от пользователей с подпиской выше, чем выручка от пользователей без подписки."
   ]
  }
 ],
 "metadata": {
  "ExecuteTimeLog": [
   {
    "duration": 1314,
    "start_time": "2024-03-01T11:47:44.976Z"
   },
   {
    "duration": 201,
    "start_time": "2024-03-01T11:47:54.286Z"
   },
   {
    "duration": 14,
    "start_time": "2024-03-01T11:53:25.188Z"
   },
   {
    "duration": 16,
    "start_time": "2024-03-01T11:53:26.628Z"
   },
   {
    "duration": 95,
    "start_time": "2024-03-01T11:53:28.992Z"
   },
   {
    "duration": 68,
    "start_time": "2024-03-01T11:53:41.063Z"
   },
   {
    "duration": 14,
    "start_time": "2024-03-01T11:53:41.825Z"
   },
   {
    "duration": 7,
    "start_time": "2024-03-01T11:53:42.738Z"
   },
   {
    "duration": 13,
    "start_time": "2024-03-01T11:53:44.826Z"
   },
   {
    "duration": 18,
    "start_time": "2024-03-01T11:53:47.553Z"
   },
   {
    "duration": 12,
    "start_time": "2024-03-01T11:53:48.291Z"
   },
   {
    "duration": 8,
    "start_time": "2024-03-01T11:53:56.594Z"
   },
   {
    "duration": 10,
    "start_time": "2024-03-01T11:54:01.498Z"
   },
   {
    "duration": 7,
    "start_time": "2024-03-01T11:54:02.146Z"
   },
   {
    "duration": 17,
    "start_time": "2024-03-01T12:19:46.726Z"
   },
   {
    "duration": 8,
    "start_time": "2024-03-01T12:19:47.782Z"
   },
   {
    "duration": 14,
    "start_time": "2024-03-01T12:19:54.350Z"
   },
   {
    "duration": 5,
    "start_time": "2024-03-01T12:19:57.643Z"
   },
   {
    "duration": 9,
    "start_time": "2024-03-01T12:20:01.454Z"
   },
   {
    "duration": 10,
    "start_time": "2024-03-01T12:20:07.885Z"
   },
   {
    "duration": 11,
    "start_time": "2024-03-01T12:20:13.028Z"
   },
   {
    "duration": 8,
    "start_time": "2024-03-01T12:20:42.189Z"
   },
   {
    "duration": 1155,
    "start_time": "2024-03-01T12:22:11.436Z"
   },
   {
    "duration": 75,
    "start_time": "2024-03-01T12:22:13.644Z"
   },
   {
    "duration": 13,
    "start_time": "2024-03-01T12:22:14.268Z"
   },
   {
    "duration": 12,
    "start_time": "2024-03-01T12:22:14.836Z"
   },
   {
    "duration": 11,
    "start_time": "2024-03-01T12:22:16.819Z"
   },
   {
    "duration": 9,
    "start_time": "2024-03-01T12:22:17.650Z"
   },
   {
    "duration": 11,
    "start_time": "2024-03-01T12:22:18.466Z"
   },
   {
    "duration": 7,
    "start_time": "2024-03-01T12:22:53.499Z"
   },
   {
    "duration": 106,
    "start_time": "2024-03-01T12:22:55.737Z"
   },
   {
    "duration": 15,
    "start_time": "2024-03-01T12:23:03.091Z"
   },
   {
    "duration": 8,
    "start_time": "2024-03-01T12:23:05.930Z"
   },
   {
    "duration": 7,
    "start_time": "2024-03-01T12:23:07.610Z"
   },
   {
    "duration": 9,
    "start_time": "2024-03-01T12:23:10.410Z"
   },
   {
    "duration": 10,
    "start_time": "2024-03-01T12:23:12.658Z"
   },
   {
    "duration": 4,
    "start_time": "2024-03-01T12:23:14.202Z"
   },
   {
    "duration": 7,
    "start_time": "2024-03-01T12:23:15.625Z"
   },
   {
    "duration": 12,
    "start_time": "2024-03-01T12:28:02.559Z"
   },
   {
    "duration": 5,
    "start_time": "2024-03-01T12:29:38.027Z"
   },
   {
    "duration": 5,
    "start_time": "2024-03-01T12:29:39.049Z"
   },
   {
    "duration": 6,
    "start_time": "2024-03-01T12:29:39.559Z"
   },
   {
    "duration": 1147,
    "start_time": "2024-03-01T12:30:23.859Z"
   },
   {
    "duration": 72,
    "start_time": "2024-03-01T12:30:26.178Z"
   },
   {
    "duration": 13,
    "start_time": "2024-03-01T12:30:26.723Z"
   },
   {
    "duration": 11,
    "start_time": "2024-03-01T12:30:27.066Z"
   },
   {
    "duration": 11,
    "start_time": "2024-03-01T12:30:27.258Z"
   },
   {
    "duration": 8,
    "start_time": "2024-03-01T12:30:27.515Z"
   },
   {
    "duration": 11,
    "start_time": "2024-03-01T12:30:27.754Z"
   },
   {
    "duration": 10,
    "start_time": "2024-03-01T12:30:28.010Z"
   },
   {
    "duration": 15,
    "start_time": "2024-03-01T12:30:28.450Z"
   },
   {
    "duration": 9,
    "start_time": "2024-03-01T12:30:28.652Z"
   },
   {
    "duration": 7,
    "start_time": "2024-03-01T12:30:28.850Z"
   },
   {
    "duration": 9,
    "start_time": "2024-03-01T12:30:29.011Z"
   },
   {
    "duration": 11,
    "start_time": "2024-03-01T12:30:29.202Z"
   },
   {
    "duration": 4,
    "start_time": "2024-03-01T12:30:29.402Z"
   },
   {
    "duration": 6,
    "start_time": "2024-03-01T12:30:29.602Z"
   },
   {
    "duration": 6,
    "start_time": "2024-03-01T12:30:29.770Z"
   },
   {
    "duration": 6,
    "start_time": "2024-03-01T12:30:29.970Z"
   },
   {
    "duration": 6,
    "start_time": "2024-03-01T12:30:30.162Z"
   },
   {
    "duration": 40,
    "start_time": "2024-03-01T14:43:48.413Z"
   },
   {
    "duration": 184,
    "start_time": "2024-03-01T14:44:00.645Z"
   },
   {
    "duration": 104,
    "start_time": "2024-03-01T14:44:44.737Z"
   },
   {
    "duration": 5,
    "start_time": "2024-03-01T14:45:36.097Z"
   },
   {
    "duration": 142,
    "start_time": "2024-03-01T14:46:14.392Z"
   },
   {
    "duration": 145,
    "start_time": "2024-03-01T14:47:32.544Z"
   },
   {
    "duration": 149,
    "start_time": "2024-03-01T14:47:38.958Z"
   },
   {
    "duration": 6,
    "start_time": "2024-03-01T14:49:08.190Z"
   },
   {
    "duration": 6,
    "start_time": "2024-03-01T14:50:13.212Z"
   },
   {
    "duration": 6,
    "start_time": "2024-03-01T14:50:13.636Z"
   },
   {
    "duration": 6,
    "start_time": "2024-03-01T14:50:14.036Z"
   },
   {
    "duration": 213,
    "start_time": "2024-03-01T14:50:14.516Z"
   },
   {
    "duration": 6,
    "start_time": "2024-03-01T14:51:12.356Z"
   },
   {
    "duration": 7,
    "start_time": "2024-03-01T14:51:12.892Z"
   },
   {
    "duration": 7,
    "start_time": "2024-03-01T14:51:13.315Z"
   },
   {
    "duration": 212,
    "start_time": "2024-03-01T14:51:13.828Z"
   },
   {
    "duration": 18,
    "start_time": "2024-03-01T14:53:49.288Z"
   },
   {
    "duration": 93,
    "start_time": "2024-03-01T14:53:50.032Z"
   },
   {
    "duration": 3,
    "start_time": "2024-03-01T14:53:50.688Z"
   },
   {
    "duration": 9,
    "start_time": "2024-03-01T14:53:56.024Z"
   },
   {
    "duration": 16,
    "start_time": "2024-03-01T14:54:09.488Z"
   },
   {
    "duration": 19,
    "start_time": "2024-03-01T14:54:22.073Z"
   },
   {
    "duration": 3,
    "start_time": "2024-03-01T14:54:24.479Z"
   },
   {
    "duration": 90,
    "start_time": "2024-03-01T14:54:25.737Z"
   },
   {
    "duration": 9,
    "start_time": "2024-03-01T14:54:26.519Z"
   },
   {
    "duration": 12,
    "start_time": "2024-03-01T14:54:27.063Z"
   },
   {
    "duration": 12,
    "start_time": "2024-03-01T14:54:27.751Z"
   },
   {
    "duration": 52,
    "start_time": "2024-03-04T11:58:42.486Z"
   },
   {
    "duration": 7,
    "start_time": "2024-03-04T11:59:03.431Z"
   },
   {
    "duration": 1409,
    "start_time": "2024-03-04T11:59:21.733Z"
   },
   {
    "duration": 291,
    "start_time": "2024-03-04T11:59:23.144Z"
   },
   {
    "duration": 13,
    "start_time": "2024-03-04T11:59:23.437Z"
   },
   {
    "duration": 29,
    "start_time": "2024-03-04T11:59:23.452Z"
   },
   {
    "duration": 11,
    "start_time": "2024-03-04T11:59:23.483Z"
   },
   {
    "duration": 19,
    "start_time": "2024-03-04T11:59:23.496Z"
   },
   {
    "duration": 20,
    "start_time": "2024-03-04T11:59:23.517Z"
   },
   {
    "duration": 7,
    "start_time": "2024-03-04T11:59:23.618Z"
   },
   {
    "duration": 21,
    "start_time": "2024-03-04T11:59:23.982Z"
   },
   {
    "duration": 8,
    "start_time": "2024-03-04T11:59:24.150Z"
   },
   {
    "duration": 8,
    "start_time": "2024-03-04T11:59:24.318Z"
   },
   {
    "duration": 8,
    "start_time": "2024-03-04T11:59:24.502Z"
   },
   {
    "duration": 10,
    "start_time": "2024-03-04T11:59:24.695Z"
   },
   {
    "duration": 4,
    "start_time": "2024-03-04T11:59:24.881Z"
   },
   {
    "duration": 7,
    "start_time": "2024-03-04T11:59:25.061Z"
   },
   {
    "duration": 5,
    "start_time": "2024-03-04T11:59:25.238Z"
   },
   {
    "duration": 5,
    "start_time": "2024-03-04T11:59:25.414Z"
   },
   {
    "duration": 6,
    "start_time": "2024-03-04T11:59:25.589Z"
   },
   {
    "duration": 14,
    "start_time": "2024-03-04T11:59:25.990Z"
   },
   {
    "duration": 178,
    "start_time": "2024-03-04T11:59:26.180Z"
   },
   {
    "duration": 117,
    "start_time": "2024-03-04T11:59:26.365Z"
   },
   {
    "duration": 18,
    "start_time": "2024-03-04T11:59:26.566Z"
   },
   {
    "duration": 65,
    "start_time": "2024-03-04T11:59:26.782Z"
   },
   {
    "duration": 7,
    "start_time": "2024-03-04T11:59:26.958Z"
   },
   {
    "duration": 172,
    "start_time": "2024-03-04T11:59:27.167Z"
   },
   {
    "duration": 10,
    "start_time": "2024-03-04T11:59:27.380Z"
   },
   {
    "duration": 6,
    "start_time": "2024-03-04T11:59:27.534Z"
   },
   {
    "duration": 6,
    "start_time": "2024-03-04T11:59:27.733Z"
   },
   {
    "duration": 235,
    "start_time": "2024-03-04T11:59:28.004Z"
   },
   {
    "duration": 6,
    "start_time": "2024-03-04T11:59:28.240Z"
   },
   {
    "duration": 6,
    "start_time": "2024-03-04T11:59:28.390Z"
   },
   {
    "duration": 6,
    "start_time": "2024-03-04T11:59:28.558Z"
   },
   {
    "duration": 225,
    "start_time": "2024-03-04T11:59:28.718Z"
   },
   {
    "duration": 17,
    "start_time": "2024-03-04T11:59:29.126Z"
   },
   {
    "duration": 19,
    "start_time": "2024-03-04T11:59:29.311Z"
   },
   {
    "duration": 4,
    "start_time": "2024-03-04T11:59:29.485Z"
   },
   {
    "duration": 15,
    "start_time": "2024-03-04T11:59:29.664Z"
   },
   {
    "duration": 9,
    "start_time": "2024-03-04T11:59:29.840Z"
   },
   {
    "duration": 14,
    "start_time": "2024-03-04T11:59:30.005Z"
   },
   {
    "duration": 12,
    "start_time": "2024-03-04T11:59:30.182Z"
   },
   {
    "duration": 371,
    "start_time": "2024-03-04T11:59:30.380Z"
   },
   {
    "duration": 372,
    "start_time": "2024-03-04T11:59:46.023Z"
   },
   {
    "duration": 16,
    "start_time": "2024-03-04T12:00:02.405Z"
   },
   {
    "duration": 295,
    "start_time": "2024-03-04T12:00:13.149Z"
   },
   {
    "duration": 307,
    "start_time": "2024-03-04T12:00:28.957Z"
   },
   {
    "duration": 20,
    "start_time": "2024-03-04T12:00:39.267Z"
   },
   {
    "duration": 9,
    "start_time": "2024-03-04T12:01:02.756Z"
   },
   {
    "duration": 17,
    "start_time": "2024-03-04T12:01:05.444Z"
   },
   {
    "duration": 9,
    "start_time": "2024-03-04T12:07:21.277Z"
   },
   {
    "duration": 7,
    "start_time": "2024-03-04T12:07:25.602Z"
   },
   {
    "duration": 12,
    "start_time": "2024-03-04T12:07:32.812Z"
   },
   {
    "duration": 9,
    "start_time": "2024-03-04T12:07:33.942Z"
   },
   {
    "duration": 21,
    "start_time": "2024-03-04T12:07:38.002Z"
   },
   {
    "duration": 31,
    "start_time": "2024-03-04T12:07:39.108Z"
   },
   {
    "duration": 16,
    "start_time": "2024-03-04T12:07:41.437Z"
   },
   {
    "duration": 4,
    "start_time": "2024-03-04T12:07:42.988Z"
   },
   {
    "duration": 7,
    "start_time": "2024-03-04T12:07:44.036Z"
   },
   {
    "duration": 11,
    "start_time": "2024-03-04T12:07:44.578Z"
   },
   {
    "duration": 6,
    "start_time": "2024-03-04T12:37:40.677Z"
   },
   {
    "duration": 5,
    "start_time": "2024-03-04T12:37:42.111Z"
   },
   {
    "duration": 93,
    "start_time": "2024-03-04T12:45:38.218Z"
   },
   {
    "duration": 4,
    "start_time": "2024-03-04T12:45:52.826Z"
   },
   {
    "duration": 4,
    "start_time": "2024-03-04T12:45:53.450Z"
   },
   {
    "duration": 4,
    "start_time": "2024-03-04T12:45:54.170Z"
   },
   {
    "duration": 97,
    "start_time": "2024-03-04T12:46:32.537Z"
   },
   {
    "duration": 179,
    "start_time": "2024-03-04T13:54:41.289Z"
   },
   {
    "duration": 155,
    "start_time": "2024-03-04T13:54:47.013Z"
   },
   {
    "duration": 96,
    "start_time": "2024-03-04T13:56:33.795Z"
   },
   {
    "duration": 173,
    "start_time": "2024-03-04T13:56:38.363Z"
   },
   {
    "duration": 108,
    "start_time": "2024-03-04T13:56:43.402Z"
   },
   {
    "duration": 180,
    "start_time": "2024-03-04T14:01:23.491Z"
   },
   {
    "duration": 231,
    "start_time": "2024-03-04T14:01:28.413Z"
   },
   {
    "duration": 194,
    "start_time": "2024-03-04T14:01:36.043Z"
   },
   {
    "duration": 194,
    "start_time": "2024-03-04T14:01:43.995Z"
   },
   {
    "duration": 178,
    "start_time": "2024-03-04T14:01:48.139Z"
   },
   {
    "duration": 4,
    "start_time": "2024-03-04T14:02:08.785Z"
   },
   {
    "duration": 200,
    "start_time": "2024-03-04T14:02:09.778Z"
   },
   {
    "duration": 6,
    "start_time": "2024-03-04T14:02:40.210Z"
   },
   {
    "duration": 226,
    "start_time": "2024-03-04T14:03:01.192Z"
   },
   {
    "duration": 217,
    "start_time": "2024-03-04T14:03:06.161Z"
   },
   {
    "duration": 221,
    "start_time": "2024-03-04T14:03:43.852Z"
   },
   {
    "duration": 212,
    "start_time": "2024-03-04T14:03:50.816Z"
   },
   {
    "duration": 218,
    "start_time": "2024-03-04T14:03:54.024Z"
   },
   {
    "duration": 208,
    "start_time": "2024-03-04T14:03:59.160Z"
   },
   {
    "duration": 310,
    "start_time": "2024-03-04T14:04:04.474Z"
   },
   {
    "duration": 155,
    "start_time": "2024-03-04T14:08:44.257Z"
   },
   {
    "duration": 14,
    "start_time": "2024-03-04T16:40:26.228Z"
   },
   {
    "duration": 435,
    "start_time": "2024-03-04T16:40:54.125Z"
   },
   {
    "duration": 437,
    "start_time": "2024-03-04T16:41:24.398Z"
   },
   {
    "duration": 9,
    "start_time": "2024-03-04T16:51:56.968Z"
   },
   {
    "duration": 8,
    "start_time": "2024-03-04T16:53:38.866Z"
   },
   {
    "duration": 7,
    "start_time": "2024-03-04T16:54:05.746Z"
   },
   {
    "duration": 34,
    "start_time": "2024-03-04T16:54:42.472Z"
   },
   {
    "duration": 12,
    "start_time": "2024-03-04T16:54:52.867Z"
   },
   {
    "duration": 5,
    "start_time": "2024-03-04T16:55:20.273Z"
   },
   {
    "duration": 35,
    "start_time": "2024-03-04T16:55:27.839Z"
   },
   {
    "duration": 5,
    "start_time": "2024-03-04T16:58:56.417Z"
   },
   {
    "duration": 33,
    "start_time": "2024-03-04T16:58:56.922Z"
   },
   {
    "duration": 11,
    "start_time": "2024-03-04T16:58:57.474Z"
   },
   {
    "duration": 5,
    "start_time": "2024-03-04T16:58:58.063Z"
   },
   {
    "duration": 43,
    "start_time": "2024-03-04T16:58:58.635Z"
   },
   {
    "duration": 6,
    "start_time": "2024-03-04T17:32:46.839Z"
   },
   {
    "duration": 5,
    "start_time": "2024-03-04T17:35:18.693Z"
   },
   {
    "duration": 5,
    "start_time": "2024-03-04T17:38:27.884Z"
   },
   {
    "duration": 5,
    "start_time": "2024-03-04T17:38:28.877Z"
   },
   {
    "duration": 10,
    "start_time": "2024-03-04T17:38:29.613Z"
   },
   {
    "duration": 1601,
    "start_time": "2024-03-04T17:41:17.132Z"
   },
   {
    "duration": 8,
    "start_time": "2024-03-04T17:41:50.066Z"
   },
   {
    "duration": 7,
    "start_time": "2024-03-04T17:41:52.602Z"
   },
   {
    "duration": 6,
    "start_time": "2024-03-04T17:46:43.914Z"
   },
   {
    "duration": 5,
    "start_time": "2024-03-04T17:46:53.764Z"
   },
   {
    "duration": 5,
    "start_time": "2024-03-04T17:46:55.580Z"
   },
   {
    "duration": 5,
    "start_time": "2024-03-04T17:46:56.668Z"
   },
   {
    "duration": 6,
    "start_time": "2024-03-04T17:49:04.457Z"
   },
   {
    "duration": 5,
    "start_time": "2024-03-04T17:49:05.145Z"
   },
   {
    "duration": 6,
    "start_time": "2024-03-04T17:49:05.489Z"
   },
   {
    "duration": 5,
    "start_time": "2024-03-04T17:49:05.673Z"
   },
   {
    "duration": 6,
    "start_time": "2024-03-04T17:49:37.834Z"
   },
   {
    "duration": 5,
    "start_time": "2024-03-04T17:50:27.261Z"
   },
   {
    "duration": 6,
    "start_time": "2024-03-04T17:51:17.374Z"
   },
   {
    "duration": 5,
    "start_time": "2024-03-04T17:51:22.197Z"
   },
   {
    "duration": 5,
    "start_time": "2024-03-04T17:51:25.766Z"
   },
   {
    "duration": 5,
    "start_time": "2024-03-04T17:51:26.998Z"
   },
   {
    "duration": 6,
    "start_time": "2024-03-04T17:53:15.715Z"
   },
   {
    "duration": 5,
    "start_time": "2024-03-04T17:53:20.678Z"
   },
   {
    "duration": 6,
    "start_time": "2024-03-04T17:53:20.977Z"
   },
   {
    "duration": 1159,
    "start_time": "2024-03-04T18:10:21.977Z"
   },
   {
    "duration": 144,
    "start_time": "2024-03-04T18:11:35.673Z"
   },
   {
    "duration": 69,
    "start_time": "2024-03-04T18:11:36.607Z"
   },
   {
    "duration": 11,
    "start_time": "2024-03-04T18:11:37.275Z"
   },
   {
    "duration": 11,
    "start_time": "2024-03-04T18:11:37.767Z"
   },
   {
    "duration": 11,
    "start_time": "2024-03-04T18:11:38.271Z"
   },
   {
    "duration": 8,
    "start_time": "2024-03-04T18:11:38.663Z"
   },
   {
    "duration": 9,
    "start_time": "2024-03-04T18:11:39.111Z"
   },
   {
    "duration": 7,
    "start_time": "2024-03-04T18:11:39.512Z"
   },
   {
    "duration": 7,
    "start_time": "2024-03-04T18:11:41.327Z"
   },
   {
    "duration": 14,
    "start_time": "2024-03-04T18:11:41.807Z"
   },
   {
    "duration": 12,
    "start_time": "2024-03-04T18:11:42.399Z"
   },
   {
    "duration": 5,
    "start_time": "2024-03-04T18:11:42.838Z"
   },
   {
    "duration": 5,
    "start_time": "2024-03-04T18:11:43.271Z"
   },
   {
    "duration": 9,
    "start_time": "2024-03-04T18:11:43.695Z"
   },
   {
    "duration": 10,
    "start_time": "2024-03-04T18:11:44.081Z"
   },
   {
    "duration": 3,
    "start_time": "2024-03-04T18:11:44.485Z"
   },
   {
    "duration": 8,
    "start_time": "2024-03-04T18:11:44.877Z"
   },
   {
    "duration": 6,
    "start_time": "2024-03-04T18:11:45.245Z"
   },
   {
    "duration": 4,
    "start_time": "2024-03-04T18:11:45.632Z"
   },
   {
    "duration": 5,
    "start_time": "2024-03-04T18:11:46.021Z"
   },
   {
    "duration": 15,
    "start_time": "2024-03-04T18:11:47.405Z"
   },
   {
    "duration": 182,
    "start_time": "2024-03-04T18:11:48.028Z"
   },
   {
    "duration": 96,
    "start_time": "2024-03-04T18:11:49.077Z"
   },
   {
    "duration": 6,
    "start_time": "2024-03-04T18:11:49.949Z"
   },
   {
    "duration": 199,
    "start_time": "2024-03-04T18:11:50.334Z"
   },
   {
    "duration": 6,
    "start_time": "2024-03-04T18:11:51.245Z"
   },
   {
    "duration": 226,
    "start_time": "2024-03-04T18:11:51.749Z"
   },
   {
    "duration": 6,
    "start_time": "2024-03-04T18:11:52.581Z"
   },
   {
    "duration": 235,
    "start_time": "2024-03-04T18:11:52.951Z"
   },
   {
    "duration": 18,
    "start_time": "2024-03-04T18:11:54.775Z"
   },
   {
    "duration": 19,
    "start_time": "2024-03-04T18:11:55.189Z"
   },
   {
    "duration": 4,
    "start_time": "2024-03-04T18:11:55.566Z"
   },
   {
    "duration": 75,
    "start_time": "2024-03-04T18:11:55.968Z"
   },
   {
    "duration": 10,
    "start_time": "2024-03-04T18:11:56.365Z"
   },
   {
    "duration": 13,
    "start_time": "2024-03-04T18:11:56.773Z"
   },
   {
    "duration": 12,
    "start_time": "2024-03-04T18:11:57.173Z"
   },
   {
    "duration": 18,
    "start_time": "2024-03-04T18:11:57.573Z"
   },
   {
    "duration": 451,
    "start_time": "2024-03-04T18:11:58.006Z"
   },
   {
    "duration": 5,
    "start_time": "2024-03-04T18:11:59.871Z"
   },
   {
    "duration": 34,
    "start_time": "2024-03-04T18:12:00.254Z"
   },
   {
    "duration": 10,
    "start_time": "2024-03-04T18:12:00.654Z"
   },
   {
    "duration": 5,
    "start_time": "2024-03-04T18:12:01.022Z"
   },
   {
    "duration": 107,
    "start_time": "2024-03-04T18:12:01.365Z"
   },
   {
    "duration": 6,
    "start_time": "2024-03-04T18:12:03.269Z"
   },
   {
    "duration": 5,
    "start_time": "2024-03-04T18:12:04.668Z"
   },
   {
    "duration": 6,
    "start_time": "2024-03-04T18:12:06.029Z"
   },
   {
    "duration": 5,
    "start_time": "2024-03-04T18:12:06.502Z"
   },
   {
    "duration": 1328,
    "start_time": "2024-03-04T18:12:28.156Z"
   },
   {
    "duration": 70,
    "start_time": "2024-03-04T18:12:29.486Z"
   },
   {
    "duration": 13,
    "start_time": "2024-03-04T18:12:29.558Z"
   },
   {
    "duration": 14,
    "start_time": "2024-03-04T18:12:29.574Z"
   },
   {
    "duration": 10,
    "start_time": "2024-03-04T18:12:29.590Z"
   },
   {
    "duration": 8,
    "start_time": "2024-03-04T18:12:29.602Z"
   },
   {
    "duration": 13,
    "start_time": "2024-03-04T18:12:29.611Z"
   },
   {
    "duration": 13,
    "start_time": "2024-03-04T18:12:29.626Z"
   },
   {
    "duration": 7,
    "start_time": "2024-03-04T18:12:30.078Z"
   },
   {
    "duration": 11,
    "start_time": "2024-03-04T18:12:30.246Z"
   },
   {
    "duration": 9,
    "start_time": "2024-03-04T18:12:30.420Z"
   },
   {
    "duration": 5,
    "start_time": "2024-03-04T18:12:30.622Z"
   },
   {
    "duration": 5,
    "start_time": "2024-03-04T18:12:30.772Z"
   },
   {
    "duration": 9,
    "start_time": "2024-03-04T18:12:30.972Z"
   },
   {
    "duration": 11,
    "start_time": "2024-03-04T18:12:31.157Z"
   },
   {
    "duration": 3,
    "start_time": "2024-03-04T18:12:31.357Z"
   },
   {
    "duration": 6,
    "start_time": "2024-03-04T18:12:31.527Z"
   },
   {
    "duration": 5,
    "start_time": "2024-03-04T18:12:31.700Z"
   },
   {
    "duration": 5,
    "start_time": "2024-03-04T18:12:31.892Z"
   },
   {
    "duration": 5,
    "start_time": "2024-03-04T18:12:32.101Z"
   },
   {
    "duration": 13,
    "start_time": "2024-03-04T18:12:32.637Z"
   },
   {
    "duration": 181,
    "start_time": "2024-03-04T18:12:32.801Z"
   },
   {
    "duration": 100,
    "start_time": "2024-03-04T18:12:33.199Z"
   },
   {
    "duration": 5,
    "start_time": "2024-03-04T18:12:33.572Z"
   },
   {
    "duration": 185,
    "start_time": "2024-03-04T18:12:33.740Z"
   },
   {
    "duration": 7,
    "start_time": "2024-03-04T18:12:34.125Z"
   },
   {
    "duration": 224,
    "start_time": "2024-03-04T18:12:34.327Z"
   },
   {
    "duration": 6,
    "start_time": "2024-03-04T18:12:34.693Z"
   },
   {
    "duration": 214,
    "start_time": "2024-03-04T18:12:34.879Z"
   },
   {
    "duration": 18,
    "start_time": "2024-03-04T18:12:35.627Z"
   },
   {
    "duration": 19,
    "start_time": "2024-03-04T18:12:35.781Z"
   },
   {
    "duration": 4,
    "start_time": "2024-03-04T18:12:36.548Z"
   },
   {
    "duration": 82,
    "start_time": "2024-03-04T18:12:36.553Z"
   },
   {
    "duration": 10,
    "start_time": "2024-03-04T18:12:36.637Z"
   },
   {
    "duration": 23,
    "start_time": "2024-03-04T18:12:36.649Z"
   },
   {
    "duration": 13,
    "start_time": "2024-03-04T18:12:36.694Z"
   },
   {
    "duration": 19,
    "start_time": "2024-03-04T18:12:36.879Z"
   },
   {
    "duration": 437,
    "start_time": "2024-03-04T18:12:37.325Z"
   },
   {
    "duration": 7,
    "start_time": "2024-03-04T18:12:38.143Z"
   },
   {
    "duration": 34,
    "start_time": "2024-03-04T18:12:38.374Z"
   },
   {
    "duration": 11,
    "start_time": "2024-03-04T18:12:38.573Z"
   },
   {
    "duration": 5,
    "start_time": "2024-03-04T18:12:38.797Z"
   },
   {
    "duration": 99,
    "start_time": "2024-03-04T18:12:39.005Z"
   },
   {
    "duration": 6,
    "start_time": "2024-03-04T18:12:40.404Z"
   },
   {
    "duration": 5,
    "start_time": "2024-03-04T18:12:42.069Z"
   },
   {
    "duration": 6,
    "start_time": "2024-03-04T18:12:43.439Z"
   },
   {
    "duration": 5,
    "start_time": "2024-03-04T18:12:43.717Z"
   },
   {
    "duration": 1280,
    "start_time": "2024-03-04T18:34:07.115Z"
   },
   {
    "duration": 69,
    "start_time": "2024-03-04T18:34:08.396Z"
   },
   {
    "duration": 15,
    "start_time": "2024-03-04T18:34:08.467Z"
   },
   {
    "duration": 18,
    "start_time": "2024-03-04T18:34:08.484Z"
   },
   {
    "duration": 16,
    "start_time": "2024-03-04T18:34:08.504Z"
   },
   {
    "duration": 12,
    "start_time": "2024-03-04T18:34:08.522Z"
   },
   {
    "duration": 39,
    "start_time": "2024-03-04T18:34:08.536Z"
   },
   {
    "duration": 7,
    "start_time": "2024-03-04T18:34:08.577Z"
   },
   {
    "duration": 9,
    "start_time": "2024-03-04T18:34:08.586Z"
   },
   {
    "duration": 15,
    "start_time": "2024-03-04T18:34:08.598Z"
   },
   {
    "duration": 9,
    "start_time": "2024-03-04T18:34:08.615Z"
   },
   {
    "duration": 11,
    "start_time": "2024-03-04T18:34:08.625Z"
   },
   {
    "duration": 11,
    "start_time": "2024-03-04T18:34:08.637Z"
   },
   {
    "duration": 25,
    "start_time": "2024-03-04T18:34:08.650Z"
   },
   {
    "duration": 13,
    "start_time": "2024-03-04T18:34:08.677Z"
   },
   {
    "duration": 6,
    "start_time": "2024-03-04T18:34:08.691Z"
   },
   {
    "duration": 15,
    "start_time": "2024-03-04T18:34:08.698Z"
   },
   {
    "duration": 6,
    "start_time": "2024-03-04T18:34:08.714Z"
   },
   {
    "duration": 7,
    "start_time": "2024-03-04T18:34:08.722Z"
   },
   {
    "duration": 6,
    "start_time": "2024-03-04T18:34:08.730Z"
   },
   {
    "duration": 40,
    "start_time": "2024-03-04T18:34:08.738Z"
   },
   {
    "duration": 188,
    "start_time": "2024-03-04T18:34:08.779Z"
   },
   {
    "duration": 110,
    "start_time": "2024-03-04T18:34:08.970Z"
   },
   {
    "duration": 4,
    "start_time": "2024-03-04T18:34:09.082Z"
   },
   {
    "duration": 203,
    "start_time": "2024-03-04T18:34:09.087Z"
   },
   {
    "duration": 6,
    "start_time": "2024-03-04T18:34:09.292Z"
   },
   {
    "duration": 240,
    "start_time": "2024-03-04T18:34:09.299Z"
   },
   {
    "duration": 7,
    "start_time": "2024-03-04T18:34:09.544Z"
   },
   {
    "duration": 263,
    "start_time": "2024-03-04T18:34:09.553Z"
   },
   {
    "duration": 19,
    "start_time": "2024-03-04T18:34:09.818Z"
   },
   {
    "duration": 33,
    "start_time": "2024-03-04T18:34:09.838Z"
   },
   {
    "duration": 5,
    "start_time": "2024-03-04T18:34:09.872Z"
   },
   {
    "duration": 96,
    "start_time": "2024-03-04T18:34:09.878Z"
   },
   {
    "duration": 10,
    "start_time": "2024-03-04T18:34:09.976Z"
   },
   {
    "duration": 41,
    "start_time": "2024-03-04T18:34:09.988Z"
   },
   {
    "duration": 29,
    "start_time": "2024-03-04T18:34:10.031Z"
   },
   {
    "duration": 36,
    "start_time": "2024-03-04T18:34:10.061Z"
   },
   {
    "duration": 467,
    "start_time": "2024-03-04T18:34:10.098Z"
   },
   {
    "duration": 5,
    "start_time": "2024-03-04T18:34:10.567Z"
   },
   {
    "duration": 51,
    "start_time": "2024-03-04T18:34:10.574Z"
   },
   {
    "duration": 11,
    "start_time": "2024-03-04T18:34:10.626Z"
   },
   {
    "duration": 26,
    "start_time": "2024-03-04T18:34:10.638Z"
   },
   {
    "duration": 116,
    "start_time": "2024-03-04T18:34:10.666Z"
   },
   {
    "duration": 0,
    "start_time": "2024-03-04T18:34:10.784Z"
   },
   {
    "duration": 0,
    "start_time": "2024-03-04T18:34:10.785Z"
   },
   {
    "duration": 0,
    "start_time": "2024-03-04T18:34:10.786Z"
   },
   {
    "duration": 0,
    "start_time": "2024-03-04T18:34:10.787Z"
   },
   {
    "duration": 34,
    "start_time": "2024-03-04T18:36:32.509Z"
   },
   {
    "duration": 14,
    "start_time": "2024-03-04T18:36:37.258Z"
   },
   {
    "duration": 6,
    "start_time": "2024-03-04T18:55:35.498Z"
   },
   {
    "duration": 5,
    "start_time": "2024-03-04T18:55:36.060Z"
   },
   {
    "duration": 6,
    "start_time": "2024-03-04T18:55:36.631Z"
   },
   {
    "duration": 6,
    "start_time": "2024-03-04T18:55:37.636Z"
   },
   {
    "duration": 48,
    "start_time": "2024-03-07T19:10:03.758Z"
   },
   {
    "duration": 1405,
    "start_time": "2024-03-07T19:10:44.695Z"
   },
   {
    "duration": 303,
    "start_time": "2024-03-07T19:10:46.102Z"
   },
   {
    "duration": 12,
    "start_time": "2024-03-07T19:10:46.407Z"
   },
   {
    "duration": 26,
    "start_time": "2024-03-07T19:10:46.421Z"
   },
   {
    "duration": 11,
    "start_time": "2024-03-07T19:10:46.449Z"
   },
   {
    "duration": 10,
    "start_time": "2024-03-07T19:10:46.461Z"
   },
   {
    "duration": 20,
    "start_time": "2024-03-07T19:10:46.473Z"
   },
   {
    "duration": 9,
    "start_time": "2024-03-07T19:10:46.495Z"
   },
   {
    "duration": 9,
    "start_time": "2024-03-07T19:10:46.674Z"
   },
   {
    "duration": 11,
    "start_time": "2024-03-07T19:10:46.841Z"
   },
   {
    "duration": 9,
    "start_time": "2024-03-07T19:10:46.995Z"
   },
   {
    "duration": 6,
    "start_time": "2024-03-07T19:10:47.131Z"
   },
   {
    "duration": 4,
    "start_time": "2024-03-07T19:10:47.457Z"
   },
   {
    "duration": 10,
    "start_time": "2024-03-07T19:10:47.635Z"
   },
   {
    "duration": 12,
    "start_time": "2024-03-07T19:10:47.803Z"
   },
   {
    "duration": 4,
    "start_time": "2024-03-07T19:10:47.946Z"
   },
   {
    "duration": 8,
    "start_time": "2024-03-07T19:10:48.132Z"
   },
   {
    "duration": 5,
    "start_time": "2024-03-07T19:10:48.315Z"
   },
   {
    "duration": 4,
    "start_time": "2024-03-07T19:10:48.633Z"
   },
   {
    "duration": 6,
    "start_time": "2024-03-07T19:10:48.794Z"
   },
   {
    "duration": 14,
    "start_time": "2024-03-07T19:10:49.401Z"
   },
   {
    "duration": 172,
    "start_time": "2024-03-07T19:10:49.559Z"
   },
   {
    "duration": 93,
    "start_time": "2024-03-07T19:10:51.224Z"
   },
   {
    "duration": 5,
    "start_time": "2024-03-07T19:10:51.320Z"
   },
   {
    "duration": 199,
    "start_time": "2024-03-07T19:10:51.327Z"
   },
   {
    "duration": 7,
    "start_time": "2024-03-07T19:10:51.528Z"
   },
   {
    "duration": 9,
    "start_time": "2024-03-07T19:10:51.538Z"
   },
   {
    "duration": 223,
    "start_time": "2024-03-07T19:10:51.713Z"
   },
   {
    "duration": 6,
    "start_time": "2024-03-07T19:10:52.301Z"
   },
   {
    "duration": 220,
    "start_time": "2024-03-07T19:10:52.465Z"
   },
   {
    "duration": 17,
    "start_time": "2024-03-07T19:10:53.571Z"
   },
   {
    "duration": 18,
    "start_time": "2024-03-07T19:10:53.737Z"
   },
   {
    "duration": 4,
    "start_time": "2024-03-07T19:10:53.913Z"
   },
   {
    "duration": 73,
    "start_time": "2024-03-07T19:10:54.098Z"
   },
   {
    "duration": 11,
    "start_time": "2024-03-07T19:10:54.275Z"
   },
   {
    "duration": 12,
    "start_time": "2024-03-07T19:10:54.449Z"
   },
   {
    "duration": 12,
    "start_time": "2024-03-07T19:10:54.633Z"
   },
   {
    "duration": 19,
    "start_time": "2024-03-07T19:10:54.987Z"
   },
   {
    "duration": 432,
    "start_time": "2024-03-07T19:10:55.204Z"
   },
   {
    "duration": 5,
    "start_time": "2024-03-07T19:10:56.329Z"
   },
   {
    "duration": 35,
    "start_time": "2024-03-07T19:10:56.721Z"
   },
   {
    "duration": 12,
    "start_time": "2024-03-07T19:10:56.955Z"
   },
   {
    "duration": 7,
    "start_time": "2024-03-07T19:10:57.153Z"
   },
   {
    "duration": 34,
    "start_time": "2024-03-07T19:10:57.367Z"
   },
   {
    "duration": 6,
    "start_time": "2024-03-07T19:10:59.267Z"
   },
   {
    "duration": 6,
    "start_time": "2024-03-07T19:10:59.913Z"
   },
   {
    "duration": 5,
    "start_time": "2024-03-07T19:11:00.778Z"
   },
   {
    "duration": 6,
    "start_time": "2024-03-07T19:11:01.211Z"
   },
   {
    "duration": 1698,
    "start_time": "2024-03-07T19:15:04.151Z"
   },
   {
    "duration": 7,
    "start_time": "2024-03-07T19:15:11.598Z"
   },
   {
    "duration": 9,
    "start_time": "2024-03-07T19:15:55.925Z"
   },
   {
    "duration": 10,
    "start_time": "2024-03-07T19:25:25.234Z"
   },
   {
    "duration": 9,
    "start_time": "2024-03-07T19:33:38.596Z"
   },
   {
    "duration": 3,
    "start_time": "2024-03-07T19:34:10.190Z"
   },
   {
    "duration": 3,
    "start_time": "2024-03-07T19:35:36.496Z"
   },
   {
    "duration": 2,
    "start_time": "2024-03-07T19:35:38.871Z"
   },
   {
    "duration": 4,
    "start_time": "2024-03-07T19:36:47.560Z"
   },
   {
    "duration": 4,
    "start_time": "2024-03-07T19:36:48.080Z"
   },
   {
    "duration": 3,
    "start_time": "2024-03-07T19:36:48.478Z"
   },
   {
    "duration": 10,
    "start_time": "2024-03-07T19:45:16.323Z"
   },
   {
    "duration": 11,
    "start_time": "2024-03-07T19:45:34.501Z"
   },
   {
    "duration": 11,
    "start_time": "2024-03-07T19:45:53.562Z"
   },
   {
    "duration": 11,
    "start_time": "2024-03-07T19:48:02.401Z"
   },
   {
    "duration": 11,
    "start_time": "2024-03-07T19:48:11.851Z"
   },
   {
    "duration": 4,
    "start_time": "2024-03-07T19:48:12.824Z"
   },
   {
    "duration": 10,
    "start_time": "2024-03-07T19:48:17.216Z"
   },
   {
    "duration": 15,
    "start_time": "2024-03-07T19:51:15.044Z"
   },
   {
    "duration": 1284,
    "start_time": "2024-03-07T20:17:13.814Z"
   },
   {
    "duration": 71,
    "start_time": "2024-03-07T20:17:15.100Z"
   },
   {
    "duration": 15,
    "start_time": "2024-03-07T20:17:15.173Z"
   },
   {
    "duration": 53,
    "start_time": "2024-03-07T20:17:15.190Z"
   },
   {
    "duration": 47,
    "start_time": "2024-03-07T20:17:15.245Z"
   },
   {
    "duration": 49,
    "start_time": "2024-03-07T20:17:15.294Z"
   },
   {
    "duration": 10,
    "start_time": "2024-03-07T20:17:15.494Z"
   },
   {
    "duration": 9,
    "start_time": "2024-03-07T20:17:15.678Z"
   },
   {
    "duration": 8,
    "start_time": "2024-03-07T20:17:16.447Z"
   },
   {
    "duration": 11,
    "start_time": "2024-03-07T20:17:16.606Z"
   },
   {
    "duration": 9,
    "start_time": "2024-03-07T20:17:16.790Z"
   },
   {
    "duration": 7,
    "start_time": "2024-03-07T20:17:16.983Z"
   },
   {
    "duration": 5,
    "start_time": "2024-03-07T20:17:17.389Z"
   },
   {
    "duration": 15,
    "start_time": "2024-03-07T20:17:17.438Z"
   },
   {
    "duration": 17,
    "start_time": "2024-03-07T20:17:17.851Z"
   },
   {
    "duration": 4,
    "start_time": "2024-03-07T20:17:17.870Z"
   },
   {
    "duration": 7,
    "start_time": "2024-03-07T20:17:17.922Z"
   },
   {
    "duration": 5,
    "start_time": "2024-03-07T20:17:18.092Z"
   },
   {
    "duration": 5,
    "start_time": "2024-03-07T20:17:18.438Z"
   },
   {
    "duration": 6,
    "start_time": "2024-03-07T20:17:19.188Z"
   },
   {
    "duration": 13,
    "start_time": "2024-03-07T20:17:19.318Z"
   },
   {
    "duration": 180,
    "start_time": "2024-03-07T20:17:19.498Z"
   },
   {
    "duration": 110,
    "start_time": "2024-03-07T20:17:19.998Z"
   },
   {
    "duration": 5,
    "start_time": "2024-03-07T20:17:20.454Z"
   },
   {
    "duration": 8,
    "start_time": "2024-03-07T20:17:20.606Z"
   },
   {
    "duration": 221,
    "start_time": "2024-03-07T20:17:20.799Z"
   },
   {
    "duration": 6,
    "start_time": "2024-03-07T20:17:21.343Z"
   },
   {
    "duration": 8,
    "start_time": "2024-03-07T20:17:21.543Z"
   },
   {
    "duration": 229,
    "start_time": "2024-03-07T20:17:21.703Z"
   },
   {
    "duration": 5,
    "start_time": "2024-03-07T20:17:22.790Z"
   },
   {
    "duration": 9,
    "start_time": "2024-03-07T20:17:22.797Z"
   },
   {
    "duration": 229,
    "start_time": "2024-03-07T20:17:22.808Z"
   },
   {
    "duration": 11,
    "start_time": "2024-03-07T20:17:23.039Z"
   },
   {
    "duration": 10,
    "start_time": "2024-03-07T20:17:23.895Z"
   },
   {
    "duration": 12,
    "start_time": "2024-03-07T20:17:24.260Z"
   },
   {
    "duration": 10,
    "start_time": "2024-03-07T20:17:24.614Z"
   },
   {
    "duration": 18,
    "start_time": "2024-03-07T20:17:24.942Z"
   },
   {
    "duration": 18,
    "start_time": "2024-03-07T20:17:25.136Z"
   },
   {
    "duration": 15,
    "start_time": "2024-03-07T20:17:25.296Z"
   },
   {
    "duration": 5,
    "start_time": "2024-03-07T20:17:25.454Z"
   },
   {
    "duration": 78,
    "start_time": "2024-03-07T20:17:25.810Z"
   },
   {
    "duration": 13,
    "start_time": "2024-03-07T20:17:25.958Z"
   },
   {
    "duration": 13,
    "start_time": "2024-03-07T20:17:26.110Z"
   },
   {
    "duration": 12,
    "start_time": "2024-03-07T20:17:26.289Z"
   },
   {
    "duration": 18,
    "start_time": "2024-03-07T20:17:26.623Z"
   },
   {
    "duration": 456,
    "start_time": "2024-03-07T20:17:26.799Z"
   },
   {
    "duration": 4,
    "start_time": "2024-03-07T20:17:27.863Z"
   },
   {
    "duration": 45,
    "start_time": "2024-03-07T20:17:28.198Z"
   },
   {
    "duration": 13,
    "start_time": "2024-03-07T20:17:28.376Z"
   },
   {
    "duration": 5,
    "start_time": "2024-03-07T20:17:28.550Z"
   },
   {
    "duration": 34,
    "start_time": "2024-03-07T20:17:28.718Z"
   },
   {
    "duration": 7,
    "start_time": "2024-03-07T20:17:30.390Z"
   },
   {
    "duration": 5,
    "start_time": "2024-03-07T20:17:31.342Z"
   },
   {
    "duration": 7,
    "start_time": "2024-03-07T20:17:32.279Z"
   },
   {
    "duration": 7,
    "start_time": "2024-03-07T20:17:32.454Z"
   },
   {
    "duration": 1298,
    "start_time": "2024-03-07T21:00:05.910Z"
   },
   {
    "duration": 13,
    "start_time": "2024-03-07T21:00:07.482Z"
   },
   {
    "duration": 23,
    "start_time": "2024-03-07T21:00:07.498Z"
   },
   {
    "duration": 10,
    "start_time": "2024-03-07T21:00:07.523Z"
   },
   {
    "duration": 10,
    "start_time": "2024-03-07T21:00:07.536Z"
   },
   {
    "duration": 10,
    "start_time": "2024-03-07T21:00:07.547Z"
   },
   {
    "duration": 26,
    "start_time": "2024-03-07T21:00:07.558Z"
   },
   {
    "duration": 5,
    "start_time": "2024-03-07T21:00:07.585Z"
   },
   {
    "duration": 12,
    "start_time": "2024-03-07T21:00:07.591Z"
   },
   {
    "duration": 12,
    "start_time": "2024-03-07T21:00:07.604Z"
   },
   {
    "duration": 3,
    "start_time": "2024-03-07T21:00:07.618Z"
   },
   {
    "duration": 10,
    "start_time": "2024-03-07T21:00:07.623Z"
   },
   {
    "duration": 6,
    "start_time": "2024-03-07T21:00:07.634Z"
   },
   {
    "duration": 42,
    "start_time": "2024-03-07T21:00:07.641Z"
   },
   {
    "duration": 6,
    "start_time": "2024-03-07T21:00:07.684Z"
   },
   {
    "duration": 16,
    "start_time": "2024-03-07T21:00:07.691Z"
   },
   {
    "duration": 212,
    "start_time": "2024-03-07T21:00:07.708Z"
   },
   {
    "duration": 111,
    "start_time": "2024-03-07T21:00:07.921Z"
   },
   {
    "duration": 6,
    "start_time": "2024-03-07T21:00:08.034Z"
   },
   {
    "duration": 10,
    "start_time": "2024-03-07T21:00:08.041Z"
   },
   {
    "duration": 216,
    "start_time": "2024-03-07T21:00:08.053Z"
   },
   {
    "duration": 13,
    "start_time": "2024-03-07T21:00:08.271Z"
   },
   {
    "duration": 9,
    "start_time": "2024-03-07T21:00:08.289Z"
   },
   {
    "duration": 248,
    "start_time": "2024-03-07T21:00:08.300Z"
   },
   {
    "duration": 6,
    "start_time": "2024-03-07T21:00:08.550Z"
   },
   {
    "duration": 9,
    "start_time": "2024-03-07T21:00:08.558Z"
   },
   {
    "duration": 236,
    "start_time": "2024-03-07T21:00:08.582Z"
   },
   {
    "duration": 11,
    "start_time": "2024-03-07T21:00:08.819Z"
   },
   {
    "duration": 12,
    "start_time": "2024-03-07T21:00:08.832Z"
   },
   {
    "duration": 13,
    "start_time": "2024-03-07T21:00:08.845Z"
   },
   {
    "duration": 32,
    "start_time": "2024-03-07T21:00:08.859Z"
   },
   {
    "duration": 20,
    "start_time": "2024-03-07T21:00:08.893Z"
   },
   {
    "duration": 19,
    "start_time": "2024-03-07T21:00:08.914Z"
   },
   {
    "duration": 14,
    "start_time": "2024-03-07T21:00:08.935Z"
   },
   {
    "duration": 102,
    "start_time": "2024-03-07T21:00:08.951Z"
   },
   {
    "duration": 11,
    "start_time": "2024-03-07T21:00:09.055Z"
   },
   {
    "duration": 11,
    "start_time": "2024-03-07T21:00:09.082Z"
   },
   {
    "duration": 18,
    "start_time": "2024-03-07T21:00:09.095Z"
   },
   {
    "duration": 19,
    "start_time": "2024-03-07T21:00:09.114Z"
   },
   {
    "duration": 20,
    "start_time": "2024-03-07T21:00:09.134Z"
   },
   {
    "duration": 468,
    "start_time": "2024-03-07T21:00:09.155Z"
   },
   {
    "duration": 5,
    "start_time": "2024-03-07T21:00:09.625Z"
   },
   {
    "duration": 40,
    "start_time": "2024-03-07T21:00:09.631Z"
   },
   {
    "duration": 19,
    "start_time": "2024-03-07T21:00:09.673Z"
   },
   {
    "duration": 14,
    "start_time": "2024-03-07T21:00:09.694Z"
   },
   {
    "duration": 54,
    "start_time": "2024-03-07T21:00:09.710Z"
   },
   {
    "duration": 6,
    "start_time": "2024-03-07T21:00:09.766Z"
   },
   {
    "duration": 17,
    "start_time": "2024-03-07T21:00:09.774Z"
   },
   {
    "duration": 13,
    "start_time": "2024-03-07T21:00:09.792Z"
   },
   {
    "duration": 25,
    "start_time": "2024-03-07T21:00:09.806Z"
   }
  ],
  "kernelspec": {
   "display_name": "Python 3 (ipykernel)",
   "language": "python",
   "name": "python3"
  },
  "language_info": {
   "codemirror_mode": {
    "name": "ipython",
    "version": 3
   },
   "file_extension": ".py",
   "mimetype": "text/x-python",
   "name": "python",
   "nbconvert_exporter": "python",
   "pygments_lexer": "ipython3",
   "version": "3.9.5"
  },
  "toc": {
   "base_numbering": 1,
   "nav_menu": {},
   "number_sections": true,
   "sideBar": true,
   "skip_h1_title": true,
   "title_cell": "Table of Contents",
   "title_sidebar": "Contents",
   "toc_cell": false,
   "toc_position": {},
   "toc_section_display": true,
   "toc_window_display": true
  }
 },
 "nbformat": 4,
 "nbformat_minor": 5
}
